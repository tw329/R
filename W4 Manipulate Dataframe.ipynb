{
 "cells": [
  {
   "cell_type": "code",
   "execution_count": 1,
   "metadata": {
    "scrolled": true
   },
   "outputs": [
    {
     "name": "stderr",
     "output_type": "stream",
     "text": [
      "\n",
      "Attaching package: 'dplyr'\n",
      "\n",
      "The following objects are masked from 'package:stats':\n",
      "\n",
      "    filter, lag\n",
      "\n",
      "The following objects are masked from 'package:base':\n",
      "\n",
      "    intersect, setdiff, setequal, union\n",
      "\n"
     ]
    }
   ],
   "source": [
    "library(dplyr)"
   ]
  },
  {
   "cell_type": "code",
   "execution_count": 2,
   "metadata": {
    "scrolled": false
   },
   "outputs": [
    {
     "data": {
      "text/html": [
       "<table>\n",
       "<thead><tr><th></th><th scope=col>mpg</th><th scope=col>cyl</th><th scope=col>disp</th><th scope=col>hp</th><th scope=col>drat</th><th scope=col>wt</th><th scope=col>qsec</th><th scope=col>vs</th><th scope=col>am</th><th scope=col>gear</th><th scope=col>carb</th></tr></thead>\n",
       "<tbody>\n",
       "\t<tr><th scope=row>Mazda RX4</th><td>21.0 </td><td>6    </td><td>160  </td><td>110  </td><td>3.90 </td><td>2.620</td><td>16.46</td><td>0    </td><td>1    </td><td>4    </td><td>4    </td></tr>\n",
       "\t<tr><th scope=row>Mazda RX4 Wag</th><td>21.0 </td><td>6    </td><td>160  </td><td>110  </td><td>3.90 </td><td>2.875</td><td>17.02</td><td>0    </td><td>1    </td><td>4    </td><td>4    </td></tr>\n",
       "\t<tr><th scope=row>Datsun 710</th><td>22.8 </td><td>4    </td><td>108  </td><td> 93  </td><td>3.85 </td><td>2.320</td><td>18.61</td><td>1    </td><td>1    </td><td>4    </td><td>1    </td></tr>\n",
       "\t<tr><th scope=row>Hornet 4 Drive</th><td>21.4 </td><td>6    </td><td>258  </td><td>110  </td><td>3.08 </td><td>3.215</td><td>19.44</td><td>1    </td><td>0    </td><td>3    </td><td>1    </td></tr>\n",
       "\t<tr><th scope=row>Hornet Sportabout</th><td>18.7 </td><td>8    </td><td>360  </td><td>175  </td><td>3.15 </td><td>3.440</td><td>17.02</td><td>0    </td><td>0    </td><td>3    </td><td>2    </td></tr>\n",
       "\t<tr><th scope=row>Valiant</th><td>18.1 </td><td>6    </td><td>225  </td><td>105  </td><td>2.76 </td><td>3.460</td><td>20.22</td><td>1    </td><td>0    </td><td>3    </td><td>1    </td></tr>\n",
       "</tbody>\n",
       "</table>\n"
      ],
      "text/latex": [
       "\\begin{tabular}{r|lllllllllll}\n",
       "  & mpg & cyl & disp & hp & drat & wt & qsec & vs & am & gear & carb\\\\\n",
       "\\hline\n",
       "\tMazda RX4 & 21.0  & 6     & 160   & 110   & 3.90  & 2.620 & 16.46 & 0     & 1     & 4     & 4    \\\\\n",
       "\tMazda RX4 Wag & 21.0  & 6     & 160   & 110   & 3.90  & 2.875 & 17.02 & 0     & 1     & 4     & 4    \\\\\n",
       "\tDatsun 710 & 22.8  & 4     & 108   &  93   & 3.85  & 2.320 & 18.61 & 1     & 1     & 4     & 1    \\\\\n",
       "\tHornet 4 Drive & 21.4  & 6     & 258   & 110   & 3.08  & 3.215 & 19.44 & 1     & 0     & 3     & 1    \\\\\n",
       "\tHornet Sportabout & 18.7  & 8     & 360   & 175   & 3.15  & 3.440 & 17.02 & 0     & 0     & 3     & 2    \\\\\n",
       "\tValiant & 18.1  & 6     & 225   & 105   & 2.76  & 3.460 & 20.22 & 1     & 0     & 3     & 1    \\\\\n",
       "\\end{tabular}\n"
      ],
      "text/markdown": [
       "\n",
       "| <!--/--> | mpg | cyl | disp | hp | drat | wt | qsec | vs | am | gear | carb | \n",
       "|---|---|---|---|---|---|\n",
       "| Mazda RX4 | 21.0  | 6     | 160   | 110   | 3.90  | 2.620 | 16.46 | 0     | 1     | 4     | 4     | \n",
       "| Mazda RX4 Wag | 21.0  | 6     | 160   | 110   | 3.90  | 2.875 | 17.02 | 0     | 1     | 4     | 4     | \n",
       "| Datsun 710 | 22.8  | 4     | 108   |  93   | 3.85  | 2.320 | 18.61 | 1     | 1     | 4     | 1     | \n",
       "| Hornet 4 Drive | 21.4  | 6     | 258   | 110   | 3.08  | 3.215 | 19.44 | 1     | 0     | 3     | 1     | \n",
       "| Hornet Sportabout | 18.7  | 8     | 360   | 175   | 3.15  | 3.440 | 17.02 | 0     | 0     | 3     | 2     | \n",
       "| Valiant | 18.1  | 6     | 225   | 105   | 2.76  | 3.460 | 20.22 | 1     | 0     | 3     | 1     | \n",
       "\n",
       "\n"
      ],
      "text/plain": [
       "                  mpg  cyl disp hp  drat wt    qsec  vs am gear carb\n",
       "Mazda RX4         21.0 6   160  110 3.90 2.620 16.46 0  1  4    4   \n",
       "Mazda RX4 Wag     21.0 6   160  110 3.90 2.875 17.02 0  1  4    4   \n",
       "Datsun 710        22.8 4   108   93 3.85 2.320 18.61 1  1  4    1   \n",
       "Hornet 4 Drive    21.4 6   258  110 3.08 3.215 19.44 1  0  3    1   \n",
       "Hornet Sportabout 18.7 8   360  175 3.15 3.440 17.02 0  0  3    2   \n",
       "Valiant           18.1 6   225  105 2.76 3.460 20.22 1  0  3    1   "
      ]
     },
     "metadata": {},
     "output_type": "display_data"
    }
   ],
   "source": [
    "head(mtcars)"
   ]
  },
  {
   "cell_type": "code",
   "execution_count": 3,
   "metadata": {},
   "outputs": [
    {
     "data": {
      "text/html": [
       "6"
      ],
      "text/latex": [
       "6"
      ],
      "text/markdown": [
       "6"
      ],
      "text/plain": [
       "[1] 6"
      ]
     },
     "metadata": {},
     "output_type": "display_data"
    }
   ],
   "source": [
    "mtcars[1, 2] "
   ]
  },
  {
   "cell_type": "code",
   "execution_count": 4,
   "metadata": {
    "scrolled": true
   },
   "outputs": [
    {
     "data": {
      "text/html": [
       "6"
      ],
      "text/latex": [
       "6"
      ],
      "text/markdown": [
       "6"
      ],
      "text/plain": [
       "[1] 6"
      ]
     },
     "metadata": {},
     "output_type": "display_data"
    }
   ],
   "source": [
    "mtcars[\"Mazda RX4\", \"cyl\"] "
   ]
  },
  {
   "cell_type": "code",
   "execution_count": 5,
   "metadata": {
    "scrolled": true
   },
   "outputs": [
    {
     "data": {
      "text/html": [
       "32"
      ],
      "text/latex": [
       "32"
      ],
      "text/markdown": [
       "32"
      ],
      "text/plain": [
       "[1] 32"
      ]
     },
     "metadata": {},
     "output_type": "display_data"
    },
    {
     "data": {
      "text/html": [
       "11"
      ],
      "text/latex": [
       "11"
      ],
      "text/markdown": [
       "11"
      ],
      "text/plain": [
       "[1] 11"
      ]
     },
     "metadata": {},
     "output_type": "display_data"
    }
   ],
   "source": [
    "nrow(mtcars) # number of data rows \n",
    "ncol(mtcars) # number of columns"
   ]
  },
  {
   "cell_type": "code",
   "execution_count": 6,
   "metadata": {
    "code_folding": [],
    "scrolled": true
   },
   "outputs": [
    {
     "data": {
      "text/html": [
       "<ol class=list-inline>\n",
       "\t<li>21</li>\n",
       "\t<li>21</li>\n",
       "\t<li>22.8</li>\n",
       "\t<li>21.4</li>\n",
       "\t<li>18.7</li>\n",
       "\t<li>18.1</li>\n",
       "\t<li>14.3</li>\n",
       "\t<li>24.4</li>\n",
       "\t<li>22.8</li>\n",
       "\t<li>19.2</li>\n",
       "\t<li>17.8</li>\n",
       "\t<li>16.4</li>\n",
       "\t<li>17.3</li>\n",
       "\t<li>15.2</li>\n",
       "\t<li>10.4</li>\n",
       "\t<li>10.4</li>\n",
       "\t<li>14.7</li>\n",
       "\t<li>32.4</li>\n",
       "\t<li>30.4</li>\n",
       "\t<li>33.9</li>\n",
       "\t<li>21.5</li>\n",
       "\t<li>15.5</li>\n",
       "\t<li>15.2</li>\n",
       "\t<li>13.3</li>\n",
       "\t<li>19.2</li>\n",
       "\t<li>27.3</li>\n",
       "\t<li>26</li>\n",
       "\t<li>30.4</li>\n",
       "\t<li>15.8</li>\n",
       "\t<li>19.7</li>\n",
       "\t<li>15</li>\n",
       "\t<li>21.4</li>\n",
       "</ol>\n"
      ],
      "text/latex": [
       "\\begin{enumerate*}\n",
       "\\item 21\n",
       "\\item 21\n",
       "\\item 22.8\n",
       "\\item 21.4\n",
       "\\item 18.7\n",
       "\\item 18.1\n",
       "\\item 14.3\n",
       "\\item 24.4\n",
       "\\item 22.8\n",
       "\\item 19.2\n",
       "\\item 17.8\n",
       "\\item 16.4\n",
       "\\item 17.3\n",
       "\\item 15.2\n",
       "\\item 10.4\n",
       "\\item 10.4\n",
       "\\item 14.7\n",
       "\\item 32.4\n",
       "\\item 30.4\n",
       "\\item 33.9\n",
       "\\item 21.5\n",
       "\\item 15.5\n",
       "\\item 15.2\n",
       "\\item 13.3\n",
       "\\item 19.2\n",
       "\\item 27.3\n",
       "\\item 26\n",
       "\\item 30.4\n",
       "\\item 15.8\n",
       "\\item 19.7\n",
       "\\item 15\n",
       "\\item 21.4\n",
       "\\end{enumerate*}\n"
      ],
      "text/markdown": [
       "1. 21\n",
       "2. 21\n",
       "3. 22.8\n",
       "4. 21.4\n",
       "5. 18.7\n",
       "6. 18.1\n",
       "7. 14.3\n",
       "8. 24.4\n",
       "9. 22.8\n",
       "10. 19.2\n",
       "11. 17.8\n",
       "12. 16.4\n",
       "13. 17.3\n",
       "14. 15.2\n",
       "15. 10.4\n",
       "16. 10.4\n",
       "17. 14.7\n",
       "18. 32.4\n",
       "19. 30.4\n",
       "20. 33.9\n",
       "21. 21.5\n",
       "22. 15.5\n",
       "23. 15.2\n",
       "24. 13.3\n",
       "25. 19.2\n",
       "26. 27.3\n",
       "27. 26\n",
       "28. 30.4\n",
       "29. 15.8\n",
       "30. 19.7\n",
       "31. 15\n",
       "32. 21.4\n",
       "\n",
       "\n"
      ],
      "text/plain": [
       " [1] 21.0 21.0 22.8 21.4 18.7 18.1 14.3 24.4 22.8 19.2 17.8 16.4 17.3 15.2 10.4\n",
       "[16] 10.4 14.7 32.4 30.4 33.9 21.5 15.5 15.2 13.3 19.2 27.3 26.0 30.4 15.8 19.7\n",
       "[31] 15.0 21.4"
      ]
     },
     "metadata": {},
     "output_type": "display_data"
    }
   ],
   "source": [
    "mtcars[[1]] "
   ]
  },
  {
   "cell_type": "code",
   "execution_count": 7,
   "metadata": {
    "scrolled": true
   },
   "outputs": [
    {
     "data": {
      "text/html": [
       "<ol class=list-inline>\n",
       "\t<li>21</li>\n",
       "\t<li>21</li>\n",
       "\t<li>22.8</li>\n",
       "\t<li>21.4</li>\n",
       "\t<li>18.7</li>\n",
       "\t<li>18.1</li>\n",
       "\t<li>14.3</li>\n",
       "\t<li>24.4</li>\n",
       "\t<li>22.8</li>\n",
       "\t<li>19.2</li>\n",
       "\t<li>17.8</li>\n",
       "\t<li>16.4</li>\n",
       "\t<li>17.3</li>\n",
       "\t<li>15.2</li>\n",
       "\t<li>10.4</li>\n",
       "\t<li>10.4</li>\n",
       "\t<li>14.7</li>\n",
       "\t<li>32.4</li>\n",
       "\t<li>30.4</li>\n",
       "\t<li>33.9</li>\n",
       "\t<li>21.5</li>\n",
       "\t<li>15.5</li>\n",
       "\t<li>15.2</li>\n",
       "\t<li>13.3</li>\n",
       "\t<li>19.2</li>\n",
       "\t<li>27.3</li>\n",
       "\t<li>26</li>\n",
       "\t<li>30.4</li>\n",
       "\t<li>15.8</li>\n",
       "\t<li>19.7</li>\n",
       "\t<li>15</li>\n",
       "\t<li>21.4</li>\n",
       "</ol>\n"
      ],
      "text/latex": [
       "\\begin{enumerate*}\n",
       "\\item 21\n",
       "\\item 21\n",
       "\\item 22.8\n",
       "\\item 21.4\n",
       "\\item 18.7\n",
       "\\item 18.1\n",
       "\\item 14.3\n",
       "\\item 24.4\n",
       "\\item 22.8\n",
       "\\item 19.2\n",
       "\\item 17.8\n",
       "\\item 16.4\n",
       "\\item 17.3\n",
       "\\item 15.2\n",
       "\\item 10.4\n",
       "\\item 10.4\n",
       "\\item 14.7\n",
       "\\item 32.4\n",
       "\\item 30.4\n",
       "\\item 33.9\n",
       "\\item 21.5\n",
       "\\item 15.5\n",
       "\\item 15.2\n",
       "\\item 13.3\n",
       "\\item 19.2\n",
       "\\item 27.3\n",
       "\\item 26\n",
       "\\item 30.4\n",
       "\\item 15.8\n",
       "\\item 19.7\n",
       "\\item 15\n",
       "\\item 21.4\n",
       "\\end{enumerate*}\n"
      ],
      "text/markdown": [
       "1. 21\n",
       "2. 21\n",
       "3. 22.8\n",
       "4. 21.4\n",
       "5. 18.7\n",
       "6. 18.1\n",
       "7. 14.3\n",
       "8. 24.4\n",
       "9. 22.8\n",
       "10. 19.2\n",
       "11. 17.8\n",
       "12. 16.4\n",
       "13. 17.3\n",
       "14. 15.2\n",
       "15. 10.4\n",
       "16. 10.4\n",
       "17. 14.7\n",
       "18. 32.4\n",
       "19. 30.4\n",
       "20. 33.9\n",
       "21. 21.5\n",
       "22. 15.5\n",
       "23. 15.2\n",
       "24. 13.3\n",
       "25. 19.2\n",
       "26. 27.3\n",
       "27. 26\n",
       "28. 30.4\n",
       "29. 15.8\n",
       "30. 19.7\n",
       "31. 15\n",
       "32. 21.4\n",
       "\n",
       "\n"
      ],
      "text/plain": [
       " [1] 21.0 21.0 22.8 21.4 18.7 18.1 14.3 24.4 22.8 19.2 17.8 16.4 17.3 15.2 10.4\n",
       "[16] 10.4 14.7 32.4 30.4 33.9 21.5 15.5 15.2 13.3 19.2 27.3 26.0 30.4 15.8 19.7\n",
       "[31] 15.0 21.4"
      ]
     },
     "metadata": {},
     "output_type": "display_data"
    }
   ],
   "source": [
    "mtcars[[\"mpg\"]] "
   ]
  },
  {
   "cell_type": "code",
   "execution_count": 8,
   "metadata": {
    "scrolled": true
   },
   "outputs": [
    {
     "data": {
      "text/html": [
       "<ol class=list-inline>\n",
       "\t<li>21</li>\n",
       "\t<li>21</li>\n",
       "\t<li>22.8</li>\n",
       "\t<li>21.4</li>\n",
       "\t<li>18.7</li>\n",
       "\t<li>18.1</li>\n",
       "\t<li>14.3</li>\n",
       "\t<li>24.4</li>\n",
       "\t<li>22.8</li>\n",
       "\t<li>19.2</li>\n",
       "\t<li>17.8</li>\n",
       "\t<li>16.4</li>\n",
       "\t<li>17.3</li>\n",
       "\t<li>15.2</li>\n",
       "\t<li>10.4</li>\n",
       "\t<li>10.4</li>\n",
       "\t<li>14.7</li>\n",
       "\t<li>32.4</li>\n",
       "\t<li>30.4</li>\n",
       "\t<li>33.9</li>\n",
       "\t<li>21.5</li>\n",
       "\t<li>15.5</li>\n",
       "\t<li>15.2</li>\n",
       "\t<li>13.3</li>\n",
       "\t<li>19.2</li>\n",
       "\t<li>27.3</li>\n",
       "\t<li>26</li>\n",
       "\t<li>30.4</li>\n",
       "\t<li>15.8</li>\n",
       "\t<li>19.7</li>\n",
       "\t<li>15</li>\n",
       "\t<li>21.4</li>\n",
       "</ol>\n"
      ],
      "text/latex": [
       "\\begin{enumerate*}\n",
       "\\item 21\n",
       "\\item 21\n",
       "\\item 22.8\n",
       "\\item 21.4\n",
       "\\item 18.7\n",
       "\\item 18.1\n",
       "\\item 14.3\n",
       "\\item 24.4\n",
       "\\item 22.8\n",
       "\\item 19.2\n",
       "\\item 17.8\n",
       "\\item 16.4\n",
       "\\item 17.3\n",
       "\\item 15.2\n",
       "\\item 10.4\n",
       "\\item 10.4\n",
       "\\item 14.7\n",
       "\\item 32.4\n",
       "\\item 30.4\n",
       "\\item 33.9\n",
       "\\item 21.5\n",
       "\\item 15.5\n",
       "\\item 15.2\n",
       "\\item 13.3\n",
       "\\item 19.2\n",
       "\\item 27.3\n",
       "\\item 26\n",
       "\\item 30.4\n",
       "\\item 15.8\n",
       "\\item 19.7\n",
       "\\item 15\n",
       "\\item 21.4\n",
       "\\end{enumerate*}\n"
      ],
      "text/markdown": [
       "1. 21\n",
       "2. 21\n",
       "3. 22.8\n",
       "4. 21.4\n",
       "5. 18.7\n",
       "6. 18.1\n",
       "7. 14.3\n",
       "8. 24.4\n",
       "9. 22.8\n",
       "10. 19.2\n",
       "11. 17.8\n",
       "12. 16.4\n",
       "13. 17.3\n",
       "14. 15.2\n",
       "15. 10.4\n",
       "16. 10.4\n",
       "17. 14.7\n",
       "18. 32.4\n",
       "19. 30.4\n",
       "20. 33.9\n",
       "21. 21.5\n",
       "22. 15.5\n",
       "23. 15.2\n",
       "24. 13.3\n",
       "25. 19.2\n",
       "26. 27.3\n",
       "27. 26\n",
       "28. 30.4\n",
       "29. 15.8\n",
       "30. 19.7\n",
       "31. 15\n",
       "32. 21.4\n",
       "\n",
       "\n"
      ],
      "text/plain": [
       " [1] 21.0 21.0 22.8 21.4 18.7 18.1 14.3 24.4 22.8 19.2 17.8 16.4 17.3 15.2 10.4\n",
       "[16] 10.4 14.7 32.4 30.4 33.9 21.5 15.5 15.2 13.3 19.2 27.3 26.0 30.4 15.8 19.7\n",
       "[31] 15.0 21.4"
      ]
     },
     "metadata": {},
     "output_type": "display_data"
    }
   ],
   "source": [
    "mtcars$mpg"
   ]
  },
  {
   "cell_type": "code",
   "execution_count": 9,
   "metadata": {
    "scrolled": true
   },
   "outputs": [
    {
     "data": {
      "text/html": [
       "<ol class=list-inline>\n",
       "\t<li>21</li>\n",
       "\t<li>21</li>\n",
       "\t<li>22.8</li>\n",
       "\t<li>21.4</li>\n",
       "\t<li>18.7</li>\n",
       "\t<li>18.1</li>\n",
       "\t<li>14.3</li>\n",
       "\t<li>24.4</li>\n",
       "\t<li>22.8</li>\n",
       "\t<li>19.2</li>\n",
       "\t<li>17.8</li>\n",
       "\t<li>16.4</li>\n",
       "\t<li>17.3</li>\n",
       "\t<li>15.2</li>\n",
       "\t<li>10.4</li>\n",
       "\t<li>10.4</li>\n",
       "\t<li>14.7</li>\n",
       "\t<li>32.4</li>\n",
       "\t<li>30.4</li>\n",
       "\t<li>33.9</li>\n",
       "\t<li>21.5</li>\n",
       "\t<li>15.5</li>\n",
       "\t<li>15.2</li>\n",
       "\t<li>13.3</li>\n",
       "\t<li>19.2</li>\n",
       "\t<li>27.3</li>\n",
       "\t<li>26</li>\n",
       "\t<li>30.4</li>\n",
       "\t<li>15.8</li>\n",
       "\t<li>19.7</li>\n",
       "\t<li>15</li>\n",
       "\t<li>21.4</li>\n",
       "</ol>\n"
      ],
      "text/latex": [
       "\\begin{enumerate*}\n",
       "\\item 21\n",
       "\\item 21\n",
       "\\item 22.8\n",
       "\\item 21.4\n",
       "\\item 18.7\n",
       "\\item 18.1\n",
       "\\item 14.3\n",
       "\\item 24.4\n",
       "\\item 22.8\n",
       "\\item 19.2\n",
       "\\item 17.8\n",
       "\\item 16.4\n",
       "\\item 17.3\n",
       "\\item 15.2\n",
       "\\item 10.4\n",
       "\\item 10.4\n",
       "\\item 14.7\n",
       "\\item 32.4\n",
       "\\item 30.4\n",
       "\\item 33.9\n",
       "\\item 21.5\n",
       "\\item 15.5\n",
       "\\item 15.2\n",
       "\\item 13.3\n",
       "\\item 19.2\n",
       "\\item 27.3\n",
       "\\item 26\n",
       "\\item 30.4\n",
       "\\item 15.8\n",
       "\\item 19.7\n",
       "\\item 15\n",
       "\\item 21.4\n",
       "\\end{enumerate*}\n"
      ],
      "text/markdown": [
       "1. 21\n",
       "2. 21\n",
       "3. 22.8\n",
       "4. 21.4\n",
       "5. 18.7\n",
       "6. 18.1\n",
       "7. 14.3\n",
       "8. 24.4\n",
       "9. 22.8\n",
       "10. 19.2\n",
       "11. 17.8\n",
       "12. 16.4\n",
       "13. 17.3\n",
       "14. 15.2\n",
       "15. 10.4\n",
       "16. 10.4\n",
       "17. 14.7\n",
       "18. 32.4\n",
       "19. 30.4\n",
       "20. 33.9\n",
       "21. 21.5\n",
       "22. 15.5\n",
       "23. 15.2\n",
       "24. 13.3\n",
       "25. 19.2\n",
       "26. 27.3\n",
       "27. 26\n",
       "28. 30.4\n",
       "29. 15.8\n",
       "30. 19.7\n",
       "31. 15\n",
       "32. 21.4\n",
       "\n",
       "\n"
      ],
      "text/plain": [
       " [1] 21.0 21.0 22.8 21.4 18.7 18.1 14.3 24.4 22.8 19.2 17.8 16.4 17.3 15.2 10.4\n",
       "[16] 10.4 14.7 32.4 30.4 33.9 21.5 15.5 15.2 13.3 19.2 27.3 26.0 30.4 15.8 19.7\n",
       "[31] 15.0 21.4"
      ]
     },
     "metadata": {},
     "output_type": "display_data"
    }
   ],
   "source": [
    "mtcars[, 'mpg']"
   ]
  },
  {
   "cell_type": "code",
   "execution_count": 10,
   "metadata": {
    "scrolled": true
   },
   "outputs": [
    {
     "data": {
      "text/html": [
       "<table>\n",
       "<thead><tr><th></th><th scope=col>mpg</th></tr></thead>\n",
       "<tbody>\n",
       "\t<tr><th scope=row>Mazda RX4</th><td>21.0</td></tr>\n",
       "\t<tr><th scope=row>Mazda RX4 Wag</th><td>21.0</td></tr>\n",
       "\t<tr><th scope=row>Datsun 710</th><td>22.8</td></tr>\n",
       "\t<tr><th scope=row>Hornet 4 Drive</th><td>21.4</td></tr>\n",
       "\t<tr><th scope=row>Hornet Sportabout</th><td>18.7</td></tr>\n",
       "\t<tr><th scope=row>Valiant</th><td>18.1</td></tr>\n",
       "\t<tr><th scope=row>Duster 360</th><td>14.3</td></tr>\n",
       "\t<tr><th scope=row>Merc 240D</th><td>24.4</td></tr>\n",
       "\t<tr><th scope=row>Merc 230</th><td>22.8</td></tr>\n",
       "\t<tr><th scope=row>Merc 280</th><td>19.2</td></tr>\n",
       "\t<tr><th scope=row>Merc 280C</th><td>17.8</td></tr>\n",
       "\t<tr><th scope=row>Merc 450SE</th><td>16.4</td></tr>\n",
       "\t<tr><th scope=row>Merc 450SL</th><td>17.3</td></tr>\n",
       "\t<tr><th scope=row>Merc 450SLC</th><td>15.2</td></tr>\n",
       "\t<tr><th scope=row>Cadillac Fleetwood</th><td>10.4</td></tr>\n",
       "\t<tr><th scope=row>Lincoln Continental</th><td>10.4</td></tr>\n",
       "\t<tr><th scope=row>Chrysler Imperial</th><td>14.7</td></tr>\n",
       "\t<tr><th scope=row>Fiat 128</th><td>32.4</td></tr>\n",
       "\t<tr><th scope=row>Honda Civic</th><td>30.4</td></tr>\n",
       "\t<tr><th scope=row>Toyota Corolla</th><td>33.9</td></tr>\n",
       "\t<tr><th scope=row>Toyota Corona</th><td>21.5</td></tr>\n",
       "\t<tr><th scope=row>Dodge Challenger</th><td>15.5</td></tr>\n",
       "\t<tr><th scope=row>AMC Javelin</th><td>15.2</td></tr>\n",
       "\t<tr><th scope=row>Camaro Z28</th><td>13.3</td></tr>\n",
       "\t<tr><th scope=row>Pontiac Firebird</th><td>19.2</td></tr>\n",
       "\t<tr><th scope=row>Fiat X1-9</th><td>27.3</td></tr>\n",
       "\t<tr><th scope=row>Porsche 914-2</th><td>26.0</td></tr>\n",
       "\t<tr><th scope=row>Lotus Europa</th><td>30.4</td></tr>\n",
       "\t<tr><th scope=row>Ford Pantera L</th><td>15.8</td></tr>\n",
       "\t<tr><th scope=row>Ferrari Dino</th><td>19.7</td></tr>\n",
       "\t<tr><th scope=row>Maserati Bora</th><td>15.0</td></tr>\n",
       "\t<tr><th scope=row>Volvo 142E</th><td>21.4</td></tr>\n",
       "</tbody>\n",
       "</table>\n"
      ],
      "text/latex": [
       "\\begin{tabular}{r|l}\n",
       "  & mpg\\\\\n",
       "\\hline\n",
       "\tMazda RX4 & 21.0\\\\\n",
       "\tMazda RX4 Wag & 21.0\\\\\n",
       "\tDatsun 710 & 22.8\\\\\n",
       "\tHornet 4 Drive & 21.4\\\\\n",
       "\tHornet Sportabout & 18.7\\\\\n",
       "\tValiant & 18.1\\\\\n",
       "\tDuster 360 & 14.3\\\\\n",
       "\tMerc 240D & 24.4\\\\\n",
       "\tMerc 230 & 22.8\\\\\n",
       "\tMerc 280 & 19.2\\\\\n",
       "\tMerc 280C & 17.8\\\\\n",
       "\tMerc 450SE & 16.4\\\\\n",
       "\tMerc 450SL & 17.3\\\\\n",
       "\tMerc 450SLC & 15.2\\\\\n",
       "\tCadillac Fleetwood & 10.4\\\\\n",
       "\tLincoln Continental & 10.4\\\\\n",
       "\tChrysler Imperial & 14.7\\\\\n",
       "\tFiat 128 & 32.4\\\\\n",
       "\tHonda Civic & 30.4\\\\\n",
       "\tToyota Corolla & 33.9\\\\\n",
       "\tToyota Corona & 21.5\\\\\n",
       "\tDodge Challenger & 15.5\\\\\n",
       "\tAMC Javelin & 15.2\\\\\n",
       "\tCamaro Z28 & 13.3\\\\\n",
       "\tPontiac Firebird & 19.2\\\\\n",
       "\tFiat X1-9 & 27.3\\\\\n",
       "\tPorsche 914-2 & 26.0\\\\\n",
       "\tLotus Europa & 30.4\\\\\n",
       "\tFord Pantera L & 15.8\\\\\n",
       "\tFerrari Dino & 19.7\\\\\n",
       "\tMaserati Bora & 15.0\\\\\n",
       "\tVolvo 142E & 21.4\\\\\n",
       "\\end{tabular}\n"
      ],
      "text/markdown": [
       "\n",
       "| <!--/--> | mpg | \n",
       "|---|---|---|---|---|---|---|---|---|---|---|---|---|---|---|---|---|---|---|---|---|---|---|---|---|---|---|---|---|---|---|---|\n",
       "| Mazda RX4 | 21.0 | \n",
       "| Mazda RX4 Wag | 21.0 | \n",
       "| Datsun 710 | 22.8 | \n",
       "| Hornet 4 Drive | 21.4 | \n",
       "| Hornet Sportabout | 18.7 | \n",
       "| Valiant | 18.1 | \n",
       "| Duster 360 | 14.3 | \n",
       "| Merc 240D | 24.4 | \n",
       "| Merc 230 | 22.8 | \n",
       "| Merc 280 | 19.2 | \n",
       "| Merc 280C | 17.8 | \n",
       "| Merc 450SE | 16.4 | \n",
       "| Merc 450SL | 17.3 | \n",
       "| Merc 450SLC | 15.2 | \n",
       "| Cadillac Fleetwood | 10.4 | \n",
       "| Lincoln Continental | 10.4 | \n",
       "| Chrysler Imperial | 14.7 | \n",
       "| Fiat 128 | 32.4 | \n",
       "| Honda Civic | 30.4 | \n",
       "| Toyota Corolla | 33.9 | \n",
       "| Toyota Corona | 21.5 | \n",
       "| Dodge Challenger | 15.5 | \n",
       "| AMC Javelin | 15.2 | \n",
       "| Camaro Z28 | 13.3 | \n",
       "| Pontiac Firebird | 19.2 | \n",
       "| Fiat X1-9 | 27.3 | \n",
       "| Porsche 914-2 | 26.0 | \n",
       "| Lotus Europa | 30.4 | \n",
       "| Ford Pantera L | 15.8 | \n",
       "| Ferrari Dino | 19.7 | \n",
       "| Maserati Bora | 15.0 | \n",
       "| Volvo 142E | 21.4 | \n",
       "\n",
       "\n"
      ],
      "text/plain": [
       "                    mpg \n",
       "Mazda RX4           21.0\n",
       "Mazda RX4 Wag       21.0\n",
       "Datsun 710          22.8\n",
       "Hornet 4 Drive      21.4\n",
       "Hornet Sportabout   18.7\n",
       "Valiant             18.1\n",
       "Duster 360          14.3\n",
       "Merc 240D           24.4\n",
       "Merc 230            22.8\n",
       "Merc 280            19.2\n",
       "Merc 280C           17.8\n",
       "Merc 450SE          16.4\n",
       "Merc 450SL          17.3\n",
       "Merc 450SLC         15.2\n",
       "Cadillac Fleetwood  10.4\n",
       "Lincoln Continental 10.4\n",
       "Chrysler Imperial   14.7\n",
       "Fiat 128            32.4\n",
       "Honda Civic         30.4\n",
       "Toyota Corolla      33.9\n",
       "Toyota Corona       21.5\n",
       "Dodge Challenger    15.5\n",
       "AMC Javelin         15.2\n",
       "Camaro Z28          13.3\n",
       "Pontiac Firebird    19.2\n",
       "Fiat X1-9           27.3\n",
       "Porsche 914-2       26.0\n",
       "Lotus Europa        30.4\n",
       "Ford Pantera L      15.8\n",
       "Ferrari Dino        19.7\n",
       "Maserati Bora       15.0\n",
       "Volvo 142E          21.4"
      ]
     },
     "metadata": {},
     "output_type": "display_data"
    }
   ],
   "source": [
    "mtcars[1]"
   ]
  },
  {
   "cell_type": "code",
   "execution_count": 11,
   "metadata": {
    "scrolled": true
   },
   "outputs": [
    {
     "data": {
      "text/html": [
       "<table>\n",
       "<thead><tr><th></th><th scope=col>mpg</th></tr></thead>\n",
       "<tbody>\n",
       "\t<tr><th scope=row>Mazda RX4</th><td>21.0</td></tr>\n",
       "\t<tr><th scope=row>Mazda RX4 Wag</th><td>21.0</td></tr>\n",
       "\t<tr><th scope=row>Datsun 710</th><td>22.8</td></tr>\n",
       "\t<tr><th scope=row>Hornet 4 Drive</th><td>21.4</td></tr>\n",
       "\t<tr><th scope=row>Hornet Sportabout</th><td>18.7</td></tr>\n",
       "\t<tr><th scope=row>Valiant</th><td>18.1</td></tr>\n",
       "\t<tr><th scope=row>Duster 360</th><td>14.3</td></tr>\n",
       "\t<tr><th scope=row>Merc 240D</th><td>24.4</td></tr>\n",
       "\t<tr><th scope=row>Merc 230</th><td>22.8</td></tr>\n",
       "\t<tr><th scope=row>Merc 280</th><td>19.2</td></tr>\n",
       "\t<tr><th scope=row>Merc 280C</th><td>17.8</td></tr>\n",
       "\t<tr><th scope=row>Merc 450SE</th><td>16.4</td></tr>\n",
       "\t<tr><th scope=row>Merc 450SL</th><td>17.3</td></tr>\n",
       "\t<tr><th scope=row>Merc 450SLC</th><td>15.2</td></tr>\n",
       "\t<tr><th scope=row>Cadillac Fleetwood</th><td>10.4</td></tr>\n",
       "\t<tr><th scope=row>Lincoln Continental</th><td>10.4</td></tr>\n",
       "\t<tr><th scope=row>Chrysler Imperial</th><td>14.7</td></tr>\n",
       "\t<tr><th scope=row>Fiat 128</th><td>32.4</td></tr>\n",
       "\t<tr><th scope=row>Honda Civic</th><td>30.4</td></tr>\n",
       "\t<tr><th scope=row>Toyota Corolla</th><td>33.9</td></tr>\n",
       "\t<tr><th scope=row>Toyota Corona</th><td>21.5</td></tr>\n",
       "\t<tr><th scope=row>Dodge Challenger</th><td>15.5</td></tr>\n",
       "\t<tr><th scope=row>AMC Javelin</th><td>15.2</td></tr>\n",
       "\t<tr><th scope=row>Camaro Z28</th><td>13.3</td></tr>\n",
       "\t<tr><th scope=row>Pontiac Firebird</th><td>19.2</td></tr>\n",
       "\t<tr><th scope=row>Fiat X1-9</th><td>27.3</td></tr>\n",
       "\t<tr><th scope=row>Porsche 914-2</th><td>26.0</td></tr>\n",
       "\t<tr><th scope=row>Lotus Europa</th><td>30.4</td></tr>\n",
       "\t<tr><th scope=row>Ford Pantera L</th><td>15.8</td></tr>\n",
       "\t<tr><th scope=row>Ferrari Dino</th><td>19.7</td></tr>\n",
       "\t<tr><th scope=row>Maserati Bora</th><td>15.0</td></tr>\n",
       "\t<tr><th scope=row>Volvo 142E</th><td>21.4</td></tr>\n",
       "</tbody>\n",
       "</table>\n"
      ],
      "text/latex": [
       "\\begin{tabular}{r|l}\n",
       "  & mpg\\\\\n",
       "\\hline\n",
       "\tMazda RX4 & 21.0\\\\\n",
       "\tMazda RX4 Wag & 21.0\\\\\n",
       "\tDatsun 710 & 22.8\\\\\n",
       "\tHornet 4 Drive & 21.4\\\\\n",
       "\tHornet Sportabout & 18.7\\\\\n",
       "\tValiant & 18.1\\\\\n",
       "\tDuster 360 & 14.3\\\\\n",
       "\tMerc 240D & 24.4\\\\\n",
       "\tMerc 230 & 22.8\\\\\n",
       "\tMerc 280 & 19.2\\\\\n",
       "\tMerc 280C & 17.8\\\\\n",
       "\tMerc 450SE & 16.4\\\\\n",
       "\tMerc 450SL & 17.3\\\\\n",
       "\tMerc 450SLC & 15.2\\\\\n",
       "\tCadillac Fleetwood & 10.4\\\\\n",
       "\tLincoln Continental & 10.4\\\\\n",
       "\tChrysler Imperial & 14.7\\\\\n",
       "\tFiat 128 & 32.4\\\\\n",
       "\tHonda Civic & 30.4\\\\\n",
       "\tToyota Corolla & 33.9\\\\\n",
       "\tToyota Corona & 21.5\\\\\n",
       "\tDodge Challenger & 15.5\\\\\n",
       "\tAMC Javelin & 15.2\\\\\n",
       "\tCamaro Z28 & 13.3\\\\\n",
       "\tPontiac Firebird & 19.2\\\\\n",
       "\tFiat X1-9 & 27.3\\\\\n",
       "\tPorsche 914-2 & 26.0\\\\\n",
       "\tLotus Europa & 30.4\\\\\n",
       "\tFord Pantera L & 15.8\\\\\n",
       "\tFerrari Dino & 19.7\\\\\n",
       "\tMaserati Bora & 15.0\\\\\n",
       "\tVolvo 142E & 21.4\\\\\n",
       "\\end{tabular}\n"
      ],
      "text/markdown": [
       "\n",
       "| <!--/--> | mpg | \n",
       "|---|---|---|---|---|---|---|---|---|---|---|---|---|---|---|---|---|---|---|---|---|---|---|---|---|---|---|---|---|---|---|---|\n",
       "| Mazda RX4 | 21.0 | \n",
       "| Mazda RX4 Wag | 21.0 | \n",
       "| Datsun 710 | 22.8 | \n",
       "| Hornet 4 Drive | 21.4 | \n",
       "| Hornet Sportabout | 18.7 | \n",
       "| Valiant | 18.1 | \n",
       "| Duster 360 | 14.3 | \n",
       "| Merc 240D | 24.4 | \n",
       "| Merc 230 | 22.8 | \n",
       "| Merc 280 | 19.2 | \n",
       "| Merc 280C | 17.8 | \n",
       "| Merc 450SE | 16.4 | \n",
       "| Merc 450SL | 17.3 | \n",
       "| Merc 450SLC | 15.2 | \n",
       "| Cadillac Fleetwood | 10.4 | \n",
       "| Lincoln Continental | 10.4 | \n",
       "| Chrysler Imperial | 14.7 | \n",
       "| Fiat 128 | 32.4 | \n",
       "| Honda Civic | 30.4 | \n",
       "| Toyota Corolla | 33.9 | \n",
       "| Toyota Corona | 21.5 | \n",
       "| Dodge Challenger | 15.5 | \n",
       "| AMC Javelin | 15.2 | \n",
       "| Camaro Z28 | 13.3 | \n",
       "| Pontiac Firebird | 19.2 | \n",
       "| Fiat X1-9 | 27.3 | \n",
       "| Porsche 914-2 | 26.0 | \n",
       "| Lotus Europa | 30.4 | \n",
       "| Ford Pantera L | 15.8 | \n",
       "| Ferrari Dino | 19.7 | \n",
       "| Maserati Bora | 15.0 | \n",
       "| Volvo 142E | 21.4 | \n",
       "\n",
       "\n"
      ],
      "text/plain": [
       "                    mpg \n",
       "Mazda RX4           21.0\n",
       "Mazda RX4 Wag       21.0\n",
       "Datsun 710          22.8\n",
       "Hornet 4 Drive      21.4\n",
       "Hornet Sportabout   18.7\n",
       "Valiant             18.1\n",
       "Duster 360          14.3\n",
       "Merc 240D           24.4\n",
       "Merc 230            22.8\n",
       "Merc 280            19.2\n",
       "Merc 280C           17.8\n",
       "Merc 450SE          16.4\n",
       "Merc 450SL          17.3\n",
       "Merc 450SLC         15.2\n",
       "Cadillac Fleetwood  10.4\n",
       "Lincoln Continental 10.4\n",
       "Chrysler Imperial   14.7\n",
       "Fiat 128            32.4\n",
       "Honda Civic         30.4\n",
       "Toyota Corolla      33.9\n",
       "Toyota Corona       21.5\n",
       "Dodge Challenger    15.5\n",
       "AMC Javelin         15.2\n",
       "Camaro Z28          13.3\n",
       "Pontiac Firebird    19.2\n",
       "Fiat X1-9           27.3\n",
       "Porsche 914-2       26.0\n",
       "Lotus Europa        30.4\n",
       "Ford Pantera L      15.8\n",
       "Ferrari Dino        19.7\n",
       "Maserati Bora       15.0\n",
       "Volvo 142E          21.4"
      ]
     },
     "metadata": {},
     "output_type": "display_data"
    }
   ],
   "source": [
    "mtcars[\"mpg\"]"
   ]
  },
  {
   "cell_type": "code",
   "execution_count": 12,
   "metadata": {
    "scrolled": true
   },
   "outputs": [
    {
     "data": {
      "text/html": [
       "<table>\n",
       "<thead><tr><th></th><th scope=col>mpg</th><th scope=col>hp</th></tr></thead>\n",
       "<tbody>\n",
       "\t<tr><th scope=row>Mazda RX4</th><td>21.0</td><td>110 </td></tr>\n",
       "\t<tr><th scope=row>Mazda RX4 Wag</th><td>21.0</td><td>110 </td></tr>\n",
       "\t<tr><th scope=row>Datsun 710</th><td>22.8</td><td> 93 </td></tr>\n",
       "\t<tr><th scope=row>Hornet 4 Drive</th><td>21.4</td><td>110 </td></tr>\n",
       "\t<tr><th scope=row>Hornet Sportabout</th><td>18.7</td><td>175 </td></tr>\n",
       "\t<tr><th scope=row>Valiant</th><td>18.1</td><td>105 </td></tr>\n",
       "\t<tr><th scope=row>Duster 360</th><td>14.3</td><td>245 </td></tr>\n",
       "\t<tr><th scope=row>Merc 240D</th><td>24.4</td><td> 62 </td></tr>\n",
       "\t<tr><th scope=row>Merc 230</th><td>22.8</td><td> 95 </td></tr>\n",
       "\t<tr><th scope=row>Merc 280</th><td>19.2</td><td>123 </td></tr>\n",
       "\t<tr><th scope=row>Merc 280C</th><td>17.8</td><td>123 </td></tr>\n",
       "\t<tr><th scope=row>Merc 450SE</th><td>16.4</td><td>180 </td></tr>\n",
       "\t<tr><th scope=row>Merc 450SL</th><td>17.3</td><td>180 </td></tr>\n",
       "\t<tr><th scope=row>Merc 450SLC</th><td>15.2</td><td>180 </td></tr>\n",
       "\t<tr><th scope=row>Cadillac Fleetwood</th><td>10.4</td><td>205 </td></tr>\n",
       "\t<tr><th scope=row>Lincoln Continental</th><td>10.4</td><td>215 </td></tr>\n",
       "\t<tr><th scope=row>Chrysler Imperial</th><td>14.7</td><td>230 </td></tr>\n",
       "\t<tr><th scope=row>Fiat 128</th><td>32.4</td><td> 66 </td></tr>\n",
       "\t<tr><th scope=row>Honda Civic</th><td>30.4</td><td> 52 </td></tr>\n",
       "\t<tr><th scope=row>Toyota Corolla</th><td>33.9</td><td> 65 </td></tr>\n",
       "\t<tr><th scope=row>Toyota Corona</th><td>21.5</td><td> 97 </td></tr>\n",
       "\t<tr><th scope=row>Dodge Challenger</th><td>15.5</td><td>150 </td></tr>\n",
       "\t<tr><th scope=row>AMC Javelin</th><td>15.2</td><td>150 </td></tr>\n",
       "\t<tr><th scope=row>Camaro Z28</th><td>13.3</td><td>245 </td></tr>\n",
       "\t<tr><th scope=row>Pontiac Firebird</th><td>19.2</td><td>175 </td></tr>\n",
       "\t<tr><th scope=row>Fiat X1-9</th><td>27.3</td><td> 66 </td></tr>\n",
       "\t<tr><th scope=row>Porsche 914-2</th><td>26.0</td><td> 91 </td></tr>\n",
       "\t<tr><th scope=row>Lotus Europa</th><td>30.4</td><td>113 </td></tr>\n",
       "\t<tr><th scope=row>Ford Pantera L</th><td>15.8</td><td>264 </td></tr>\n",
       "\t<tr><th scope=row>Ferrari Dino</th><td>19.7</td><td>175 </td></tr>\n",
       "\t<tr><th scope=row>Maserati Bora</th><td>15.0</td><td>335 </td></tr>\n",
       "\t<tr><th scope=row>Volvo 142E</th><td>21.4</td><td>109 </td></tr>\n",
       "</tbody>\n",
       "</table>\n"
      ],
      "text/latex": [
       "\\begin{tabular}{r|ll}\n",
       "  & mpg & hp\\\\\n",
       "\\hline\n",
       "\tMazda RX4 & 21.0 & 110 \\\\\n",
       "\tMazda RX4 Wag & 21.0 & 110 \\\\\n",
       "\tDatsun 710 & 22.8 &  93 \\\\\n",
       "\tHornet 4 Drive & 21.4 & 110 \\\\\n",
       "\tHornet Sportabout & 18.7 & 175 \\\\\n",
       "\tValiant & 18.1 & 105 \\\\\n",
       "\tDuster 360 & 14.3 & 245 \\\\\n",
       "\tMerc 240D & 24.4 &  62 \\\\\n",
       "\tMerc 230 & 22.8 &  95 \\\\\n",
       "\tMerc 280 & 19.2 & 123 \\\\\n",
       "\tMerc 280C & 17.8 & 123 \\\\\n",
       "\tMerc 450SE & 16.4 & 180 \\\\\n",
       "\tMerc 450SL & 17.3 & 180 \\\\\n",
       "\tMerc 450SLC & 15.2 & 180 \\\\\n",
       "\tCadillac Fleetwood & 10.4 & 205 \\\\\n",
       "\tLincoln Continental & 10.4 & 215 \\\\\n",
       "\tChrysler Imperial & 14.7 & 230 \\\\\n",
       "\tFiat 128 & 32.4 &  66 \\\\\n",
       "\tHonda Civic & 30.4 &  52 \\\\\n",
       "\tToyota Corolla & 33.9 &  65 \\\\\n",
       "\tToyota Corona & 21.5 &  97 \\\\\n",
       "\tDodge Challenger & 15.5 & 150 \\\\\n",
       "\tAMC Javelin & 15.2 & 150 \\\\\n",
       "\tCamaro Z28 & 13.3 & 245 \\\\\n",
       "\tPontiac Firebird & 19.2 & 175 \\\\\n",
       "\tFiat X1-9 & 27.3 &  66 \\\\\n",
       "\tPorsche 914-2 & 26.0 &  91 \\\\\n",
       "\tLotus Europa & 30.4 & 113 \\\\\n",
       "\tFord Pantera L & 15.8 & 264 \\\\\n",
       "\tFerrari Dino & 19.7 & 175 \\\\\n",
       "\tMaserati Bora & 15.0 & 335 \\\\\n",
       "\tVolvo 142E & 21.4 & 109 \\\\\n",
       "\\end{tabular}\n"
      ],
      "text/markdown": [
       "\n",
       "| <!--/--> | mpg | hp | \n",
       "|---|---|---|---|---|---|---|---|---|---|---|---|---|---|---|---|---|---|---|---|---|---|---|---|---|---|---|---|---|---|---|---|\n",
       "| Mazda RX4 | 21.0 | 110  | \n",
       "| Mazda RX4 Wag | 21.0 | 110  | \n",
       "| Datsun 710 | 22.8 |  93  | \n",
       "| Hornet 4 Drive | 21.4 | 110  | \n",
       "| Hornet Sportabout | 18.7 | 175  | \n",
       "| Valiant | 18.1 | 105  | \n",
       "| Duster 360 | 14.3 | 245  | \n",
       "| Merc 240D | 24.4 |  62  | \n",
       "| Merc 230 | 22.8 |  95  | \n",
       "| Merc 280 | 19.2 | 123  | \n",
       "| Merc 280C | 17.8 | 123  | \n",
       "| Merc 450SE | 16.4 | 180  | \n",
       "| Merc 450SL | 17.3 | 180  | \n",
       "| Merc 450SLC | 15.2 | 180  | \n",
       "| Cadillac Fleetwood | 10.4 | 205  | \n",
       "| Lincoln Continental | 10.4 | 215  | \n",
       "| Chrysler Imperial | 14.7 | 230  | \n",
       "| Fiat 128 | 32.4 |  66  | \n",
       "| Honda Civic | 30.4 |  52  | \n",
       "| Toyota Corolla | 33.9 |  65  | \n",
       "| Toyota Corona | 21.5 |  97  | \n",
       "| Dodge Challenger | 15.5 | 150  | \n",
       "| AMC Javelin | 15.2 | 150  | \n",
       "| Camaro Z28 | 13.3 | 245  | \n",
       "| Pontiac Firebird | 19.2 | 175  | \n",
       "| Fiat X1-9 | 27.3 |  66  | \n",
       "| Porsche 914-2 | 26.0 |  91  | \n",
       "| Lotus Europa | 30.4 | 113  | \n",
       "| Ford Pantera L | 15.8 | 264  | \n",
       "| Ferrari Dino | 19.7 | 175  | \n",
       "| Maserati Bora | 15.0 | 335  | \n",
       "| Volvo 142E | 21.4 | 109  | \n",
       "\n",
       "\n"
      ],
      "text/plain": [
       "                    mpg  hp \n",
       "Mazda RX4           21.0 110\n",
       "Mazda RX4 Wag       21.0 110\n",
       "Datsun 710          22.8  93\n",
       "Hornet 4 Drive      21.4 110\n",
       "Hornet Sportabout   18.7 175\n",
       "Valiant             18.1 105\n",
       "Duster 360          14.3 245\n",
       "Merc 240D           24.4  62\n",
       "Merc 230            22.8  95\n",
       "Merc 280            19.2 123\n",
       "Merc 280C           17.8 123\n",
       "Merc 450SE          16.4 180\n",
       "Merc 450SL          17.3 180\n",
       "Merc 450SLC         15.2 180\n",
       "Cadillac Fleetwood  10.4 205\n",
       "Lincoln Continental 10.4 215\n",
       "Chrysler Imperial   14.7 230\n",
       "Fiat 128            32.4  66\n",
       "Honda Civic         30.4  52\n",
       "Toyota Corolla      33.9  65\n",
       "Toyota Corona       21.5  97\n",
       "Dodge Challenger    15.5 150\n",
       "AMC Javelin         15.2 150\n",
       "Camaro Z28          13.3 245\n",
       "Pontiac Firebird    19.2 175\n",
       "Fiat X1-9           27.3  66\n",
       "Porsche 914-2       26.0  91\n",
       "Lotus Europa        30.4 113\n",
       "Ford Pantera L      15.8 264\n",
       "Ferrari Dino        19.7 175\n",
       "Maserati Bora       15.0 335\n",
       "Volvo 142E          21.4 109"
      ]
     },
     "metadata": {},
     "output_type": "display_data"
    }
   ],
   "source": [
    "mtcars[c(\"mpg\",\"hp\")]"
   ]
  },
  {
   "cell_type": "code",
   "execution_count": 13,
   "metadata": {
    "scrolled": true
   },
   "outputs": [
    {
     "data": {
      "text/html": [
       "<table>\n",
       "<thead><tr><th></th><th scope=col>mpg</th><th scope=col>cyl</th><th scope=col>disp</th><th scope=col>hp</th><th scope=col>drat</th><th scope=col>wt</th><th scope=col>qsec</th><th scope=col>vs</th><th scope=col>am</th><th scope=col>gear</th><th scope=col>carb</th></tr></thead>\n",
       "<tbody>\n",
       "\t<tr><th scope=row>Mazda RX4 Wag</th><td>21   </td><td>6    </td><td>160  </td><td>110  </td><td>3.9  </td><td>2.875</td><td>17.02</td><td>0    </td><td>1    </td><td>4    </td><td>4    </td></tr>\n",
       "</tbody>\n",
       "</table>\n"
      ],
      "text/latex": [
       "\\begin{tabular}{r|lllllllllll}\n",
       "  & mpg & cyl & disp & hp & drat & wt & qsec & vs & am & gear & carb\\\\\n",
       "\\hline\n",
       "\tMazda RX4 Wag & 21    & 6     & 160   & 110   & 3.9   & 2.875 & 17.02 & 0     & 1     & 4     & 4    \\\\\n",
       "\\end{tabular}\n"
      ],
      "text/markdown": [
       "\n",
       "| <!--/--> | mpg | cyl | disp | hp | drat | wt | qsec | vs | am | gear | carb | \n",
       "|---|\n",
       "| Mazda RX4 Wag | 21    | 6     | 160   | 110   | 3.9   | 2.875 | 17.02 | 0     | 1     | 4     | 4     | \n",
       "\n",
       "\n"
      ],
      "text/plain": [
       "              mpg cyl disp hp  drat wt    qsec  vs am gear carb\n",
       "Mazda RX4 Wag 21  6   160  110 3.9  2.875 17.02 0  1  4    4   "
      ]
     },
     "metadata": {},
     "output_type": "display_data"
    }
   ],
   "source": [
    "mtcars[2,] "
   ]
  },
  {
   "cell_type": "code",
   "execution_count": 14,
   "metadata": {
    "scrolled": true
   },
   "outputs": [
    {
     "data": {
      "text/html": [
       "<table>\n",
       "<thead><tr><th></th><th scope=col>mpg</th><th scope=col>cyl</th><th scope=col>disp</th><th scope=col>hp</th><th scope=col>drat</th><th scope=col>wt</th><th scope=col>qsec</th><th scope=col>vs</th><th scope=col>am</th><th scope=col>gear</th><th scope=col>carb</th></tr></thead>\n",
       "<tbody>\n",
       "\t<tr><th scope=row>Mazda RX4</th><td>21.0 </td><td>6    </td><td>160  </td><td>110  </td><td>3.90 </td><td>2.62 </td><td>16.46</td><td>0    </td><td>1    </td><td>4    </td><td>4    </td></tr>\n",
       "\t<tr><th scope=row>Datsun 710</th><td>22.8 </td><td>4    </td><td>108  </td><td> 93  </td><td>3.85 </td><td>2.32 </td><td>18.61</td><td>1    </td><td>1    </td><td>4    </td><td>1    </td></tr>\n",
       "</tbody>\n",
       "</table>\n"
      ],
      "text/latex": [
       "\\begin{tabular}{r|lllllllllll}\n",
       "  & mpg & cyl & disp & hp & drat & wt & qsec & vs & am & gear & carb\\\\\n",
       "\\hline\n",
       "\tMazda RX4 & 21.0  & 6     & 160   & 110   & 3.90  & 2.62  & 16.46 & 0     & 1     & 4     & 4    \\\\\n",
       "\tDatsun 710 & 22.8  & 4     & 108   &  93   & 3.85  & 2.32  & 18.61 & 1     & 1     & 4     & 1    \\\\\n",
       "\\end{tabular}\n"
      ],
      "text/markdown": [
       "\n",
       "| <!--/--> | mpg | cyl | disp | hp | drat | wt | qsec | vs | am | gear | carb | \n",
       "|---|---|\n",
       "| Mazda RX4 | 21.0  | 6     | 160   | 110   | 3.90  | 2.62  | 16.46 | 0     | 1     | 4     | 4     | \n",
       "| Datsun 710 | 22.8  | 4     | 108   |  93   | 3.85  | 2.32  | 18.61 | 1     | 1     | 4     | 1     | \n",
       "\n",
       "\n"
      ],
      "text/plain": [
       "           mpg  cyl disp hp  drat wt   qsec  vs am gear carb\n",
       "Mazda RX4  21.0 6   160  110 3.90 2.62 16.46 0  1  4    4   \n",
       "Datsun 710 22.8 4   108   93 3.85 2.32 18.61 1  1  4    1   "
      ]
     },
     "metadata": {},
     "output_type": "display_data"
    }
   ],
   "source": [
    "mtcars[c(1,3),] "
   ]
  },
  {
   "cell_type": "code",
   "execution_count": 15,
   "metadata": {
    "scrolled": true
   },
   "outputs": [
    {
     "data": {
      "text/html": [
       "<table>\n",
       "<thead><tr><th></th><th scope=col>mpg</th><th scope=col>cyl</th><th scope=col>disp</th><th scope=col>hp</th><th scope=col>drat</th><th scope=col>wt</th><th scope=col>qsec</th><th scope=col>vs</th><th scope=col>am</th><th scope=col>gear</th><th scope=col>carb</th></tr></thead>\n",
       "<tbody>\n",
       "\t<tr><th scope=row>Mazda RX4 Wag</th><td>21   </td><td>6    </td><td>160  </td><td>110  </td><td>3.9  </td><td>2.875</td><td>17.02</td><td>0    </td><td>1    </td><td>4    </td><td>4    </td></tr>\n",
       "</tbody>\n",
       "</table>\n"
      ],
      "text/latex": [
       "\\begin{tabular}{r|lllllllllll}\n",
       "  & mpg & cyl & disp & hp & drat & wt & qsec & vs & am & gear & carb\\\\\n",
       "\\hline\n",
       "\tMazda RX4 Wag & 21    & 6     & 160   & 110   & 3.9   & 2.875 & 17.02 & 0     & 1     & 4     & 4    \\\\\n",
       "\\end{tabular}\n"
      ],
      "text/markdown": [
       "\n",
       "| <!--/--> | mpg | cyl | disp | hp | drat | wt | qsec | vs | am | gear | carb | \n",
       "|---|\n",
       "| Mazda RX4 Wag | 21    | 6     | 160   | 110   | 3.9   | 2.875 | 17.02 | 0     | 1     | 4     | 4     | \n",
       "\n",
       "\n"
      ],
      "text/plain": [
       "              mpg cyl disp hp  drat wt    qsec  vs am gear carb\n",
       "Mazda RX4 Wag 21  6   160  110 3.9  2.875 17.02 0  1  4    4   "
      ]
     },
     "metadata": {},
     "output_type": "display_data"
    }
   ],
   "source": [
    "mtcars[\"Mazda RX4 Wag\",] "
   ]
  },
  {
   "cell_type": "code",
   "execution_count": 16,
   "metadata": {
    "scrolled": true
   },
   "outputs": [
    {
     "data": {
      "text/html": [
       "<table>\n",
       "<thead><tr><th></th><th scope=col>mpg</th><th scope=col>cyl</th><th scope=col>disp</th><th scope=col>hp</th><th scope=col>drat</th><th scope=col>wt</th><th scope=col>qsec</th><th scope=col>vs</th><th scope=col>am</th><th scope=col>gear</th><th scope=col>carb</th></tr></thead>\n",
       "<tbody>\n",
       "\t<tr><th scope=row>Mazda RX4</th><td>21.0 </td><td>6    </td><td>160  </td><td>110  </td><td>3.90 </td><td>2.62 </td><td>16.46</td><td>0    </td><td>1    </td><td>4    </td><td>4    </td></tr>\n",
       "\t<tr><th scope=row>Datsun 710</th><td>22.8 </td><td>4    </td><td>108  </td><td> 93  </td><td>3.85 </td><td>2.32 </td><td>18.61</td><td>1    </td><td>1    </td><td>4    </td><td>1    </td></tr>\n",
       "</tbody>\n",
       "</table>\n"
      ],
      "text/latex": [
       "\\begin{tabular}{r|lllllllllll}\n",
       "  & mpg & cyl & disp & hp & drat & wt & qsec & vs & am & gear & carb\\\\\n",
       "\\hline\n",
       "\tMazda RX4 & 21.0  & 6     & 160   & 110   & 3.90  & 2.62  & 16.46 & 0     & 1     & 4     & 4    \\\\\n",
       "\tDatsun 710 & 22.8  & 4     & 108   &  93   & 3.85  & 2.32  & 18.61 & 1     & 1     & 4     & 1    \\\\\n",
       "\\end{tabular}\n"
      ],
      "text/markdown": [
       "\n",
       "| <!--/--> | mpg | cyl | disp | hp | drat | wt | qsec | vs | am | gear | carb | \n",
       "|---|---|\n",
       "| Mazda RX4 | 21.0  | 6     | 160   | 110   | 3.90  | 2.62  | 16.46 | 0     | 1     | 4     | 4     | \n",
       "| Datsun 710 | 22.8  | 4     | 108   |  93   | 3.85  | 2.32  | 18.61 | 1     | 1     | 4     | 1     | \n",
       "\n",
       "\n"
      ],
      "text/plain": [
       "           mpg  cyl disp hp  drat wt   qsec  vs am gear carb\n",
       "Mazda RX4  21.0 6   160  110 3.90 2.62 16.46 0  1  4    4   \n",
       "Datsun 710 22.8 4   108   93 3.85 2.32 18.61 1  1  4    1   "
      ]
     },
     "metadata": {},
     "output_type": "display_data"
    }
   ],
   "source": [
    "mtcars[c(\"Mazda RX4\", \"Datsun 710\"),] "
   ]
  },
  {
   "cell_type": "code",
   "execution_count": 17,
   "metadata": {
    "scrolled": true
   },
   "outputs": [
    {
     "data": {
      "text/html": [
       "<ol class=list-inline>\n",
       "\t<li>TRUE</li>\n",
       "\t<li>TRUE</li>\n",
       "\t<li>FALSE</li>\n",
       "\t<li>TRUE</li>\n",
       "\t<li>TRUE</li>\n",
       "\t<li>TRUE</li>\n",
       "\t<li>TRUE</li>\n",
       "\t<li>FALSE</li>\n",
       "\t<li>FALSE</li>\n",
       "\t<li>TRUE</li>\n",
       "\t<li>TRUE</li>\n",
       "\t<li>TRUE</li>\n",
       "\t<li>TRUE</li>\n",
       "\t<li>TRUE</li>\n",
       "\t<li>TRUE</li>\n",
       "\t<li>TRUE</li>\n",
       "\t<li>TRUE</li>\n",
       "\t<li>FALSE</li>\n",
       "\t<li>FALSE</li>\n",
       "\t<li>FALSE</li>\n",
       "\t<li>TRUE</li>\n",
       "\t<li>TRUE</li>\n",
       "\t<li>TRUE</li>\n",
       "\t<li>TRUE</li>\n",
       "\t<li>TRUE</li>\n",
       "\t<li>FALSE</li>\n",
       "\t<li>FALSE</li>\n",
       "\t<li>FALSE</li>\n",
       "\t<li>TRUE</li>\n",
       "\t<li>TRUE</li>\n",
       "\t<li>TRUE</li>\n",
       "\t<li>TRUE</li>\n",
       "</ol>\n"
      ],
      "text/latex": [
       "\\begin{enumerate*}\n",
       "\\item TRUE\n",
       "\\item TRUE\n",
       "\\item FALSE\n",
       "\\item TRUE\n",
       "\\item TRUE\n",
       "\\item TRUE\n",
       "\\item TRUE\n",
       "\\item FALSE\n",
       "\\item FALSE\n",
       "\\item TRUE\n",
       "\\item TRUE\n",
       "\\item TRUE\n",
       "\\item TRUE\n",
       "\\item TRUE\n",
       "\\item TRUE\n",
       "\\item TRUE\n",
       "\\item TRUE\n",
       "\\item FALSE\n",
       "\\item FALSE\n",
       "\\item FALSE\n",
       "\\item TRUE\n",
       "\\item TRUE\n",
       "\\item TRUE\n",
       "\\item TRUE\n",
       "\\item TRUE\n",
       "\\item FALSE\n",
       "\\item FALSE\n",
       "\\item FALSE\n",
       "\\item TRUE\n",
       "\\item TRUE\n",
       "\\item TRUE\n",
       "\\item TRUE\n",
       "\\end{enumerate*}\n"
      ],
      "text/markdown": [
       "1. TRUE\n",
       "2. TRUE\n",
       "3. FALSE\n",
       "4. TRUE\n",
       "5. TRUE\n",
       "6. TRUE\n",
       "7. TRUE\n",
       "8. FALSE\n",
       "9. FALSE\n",
       "10. TRUE\n",
       "11. TRUE\n",
       "12. TRUE\n",
       "13. TRUE\n",
       "14. TRUE\n",
       "15. TRUE\n",
       "16. TRUE\n",
       "17. TRUE\n",
       "18. FALSE\n",
       "19. FALSE\n",
       "20. FALSE\n",
       "21. TRUE\n",
       "22. TRUE\n",
       "23. TRUE\n",
       "24. TRUE\n",
       "25. TRUE\n",
       "26. FALSE\n",
       "27. FALSE\n",
       "28. FALSE\n",
       "29. TRUE\n",
       "30. TRUE\n",
       "31. TRUE\n",
       "32. TRUE\n",
       "\n",
       "\n"
      ],
      "text/plain": [
       " [1]  TRUE  TRUE FALSE  TRUE  TRUE  TRUE  TRUE FALSE FALSE  TRUE  TRUE  TRUE\n",
       "[13]  TRUE  TRUE  TRUE  TRUE  TRUE FALSE FALSE FALSE  TRUE  TRUE  TRUE  TRUE\n",
       "[25]  TRUE FALSE FALSE FALSE  TRUE  TRUE  TRUE  TRUE"
      ]
     },
     "metadata": {},
     "output_type": "display_data"
    }
   ],
   "source": [
    "low_mpg = mtcars$mpg < 22 ; low_mpg"
   ]
  },
  {
   "cell_type": "code",
   "execution_count": 18,
   "metadata": {
    "scrolled": true
   },
   "outputs": [
    {
     "data": {
      "text/html": [
       "<table>\n",
       "<thead><tr><th></th><th scope=col>mpg</th><th scope=col>cyl</th><th scope=col>disp</th><th scope=col>hp</th><th scope=col>drat</th><th scope=col>wt</th><th scope=col>qsec</th><th scope=col>vs</th><th scope=col>am</th><th scope=col>gear</th><th scope=col>carb</th></tr></thead>\n",
       "<tbody>\n",
       "\t<tr><th scope=row>Mazda RX4</th><td>21.0 </td><td>6    </td><td>160.0</td><td>110  </td><td>3.90 </td><td>2.620</td><td>16.46</td><td>0    </td><td>1    </td><td>4    </td><td>4    </td></tr>\n",
       "\t<tr><th scope=row>Mazda RX4 Wag</th><td>21.0 </td><td>6    </td><td>160.0</td><td>110  </td><td>3.90 </td><td>2.875</td><td>17.02</td><td>0    </td><td>1    </td><td>4    </td><td>4    </td></tr>\n",
       "\t<tr><th scope=row>Hornet 4 Drive</th><td>21.4 </td><td>6    </td><td>258.0</td><td>110  </td><td>3.08 </td><td>3.215</td><td>19.44</td><td>1    </td><td>0    </td><td>3    </td><td>1    </td></tr>\n",
       "\t<tr><th scope=row>Hornet Sportabout</th><td>18.7 </td><td>8    </td><td>360.0</td><td>175  </td><td>3.15 </td><td>3.440</td><td>17.02</td><td>0    </td><td>0    </td><td>3    </td><td>2    </td></tr>\n",
       "\t<tr><th scope=row>Valiant</th><td>18.1 </td><td>6    </td><td>225.0</td><td>105  </td><td>2.76 </td><td>3.460</td><td>20.22</td><td>1    </td><td>0    </td><td>3    </td><td>1    </td></tr>\n",
       "\t<tr><th scope=row>Duster 360</th><td>14.3 </td><td>8    </td><td>360.0</td><td>245  </td><td>3.21 </td><td>3.570</td><td>15.84</td><td>0    </td><td>0    </td><td>3    </td><td>4    </td></tr>\n",
       "\t<tr><th scope=row>Merc 280</th><td>19.2 </td><td>6    </td><td>167.6</td><td>123  </td><td>3.92 </td><td>3.440</td><td>18.30</td><td>1    </td><td>0    </td><td>4    </td><td>4    </td></tr>\n",
       "\t<tr><th scope=row>Merc 280C</th><td>17.8 </td><td>6    </td><td>167.6</td><td>123  </td><td>3.92 </td><td>3.440</td><td>18.90</td><td>1    </td><td>0    </td><td>4    </td><td>4    </td></tr>\n",
       "\t<tr><th scope=row>Merc 450SE</th><td>16.4 </td><td>8    </td><td>275.8</td><td>180  </td><td>3.07 </td><td>4.070</td><td>17.40</td><td>0    </td><td>0    </td><td>3    </td><td>3    </td></tr>\n",
       "\t<tr><th scope=row>Merc 450SL</th><td>17.3 </td><td>8    </td><td>275.8</td><td>180  </td><td>3.07 </td><td>3.730</td><td>17.60</td><td>0    </td><td>0    </td><td>3    </td><td>3    </td></tr>\n",
       "\t<tr><th scope=row>Merc 450SLC</th><td>15.2 </td><td>8    </td><td>275.8</td><td>180  </td><td>3.07 </td><td>3.780</td><td>18.00</td><td>0    </td><td>0    </td><td>3    </td><td>3    </td></tr>\n",
       "\t<tr><th scope=row>Cadillac Fleetwood</th><td>10.4 </td><td>8    </td><td>472.0</td><td>205  </td><td>2.93 </td><td>5.250</td><td>17.98</td><td>0    </td><td>0    </td><td>3    </td><td>4    </td></tr>\n",
       "\t<tr><th scope=row>Lincoln Continental</th><td>10.4 </td><td>8    </td><td>460.0</td><td>215  </td><td>3.00 </td><td>5.424</td><td>17.82</td><td>0    </td><td>0    </td><td>3    </td><td>4    </td></tr>\n",
       "\t<tr><th scope=row>Chrysler Imperial</th><td>14.7 </td><td>8    </td><td>440.0</td><td>230  </td><td>3.23 </td><td>5.345</td><td>17.42</td><td>0    </td><td>0    </td><td>3    </td><td>4    </td></tr>\n",
       "\t<tr><th scope=row>Toyota Corona</th><td>21.5 </td><td>4    </td><td>120.1</td><td> 97  </td><td>3.70 </td><td>2.465</td><td>20.01</td><td>1    </td><td>0    </td><td>3    </td><td>1    </td></tr>\n",
       "\t<tr><th scope=row>Dodge Challenger</th><td>15.5 </td><td>8    </td><td>318.0</td><td>150  </td><td>2.76 </td><td>3.520</td><td>16.87</td><td>0    </td><td>0    </td><td>3    </td><td>2    </td></tr>\n",
       "\t<tr><th scope=row>AMC Javelin</th><td>15.2 </td><td>8    </td><td>304.0</td><td>150  </td><td>3.15 </td><td>3.435</td><td>17.30</td><td>0    </td><td>0    </td><td>3    </td><td>2    </td></tr>\n",
       "\t<tr><th scope=row>Camaro Z28</th><td>13.3 </td><td>8    </td><td>350.0</td><td>245  </td><td>3.73 </td><td>3.840</td><td>15.41</td><td>0    </td><td>0    </td><td>3    </td><td>4    </td></tr>\n",
       "\t<tr><th scope=row>Pontiac Firebird</th><td>19.2 </td><td>8    </td><td>400.0</td><td>175  </td><td>3.08 </td><td>3.845</td><td>17.05</td><td>0    </td><td>0    </td><td>3    </td><td>2    </td></tr>\n",
       "\t<tr><th scope=row>Ford Pantera L</th><td>15.8 </td><td>8    </td><td>351.0</td><td>264  </td><td>4.22 </td><td>3.170</td><td>14.50</td><td>0    </td><td>1    </td><td>5    </td><td>4    </td></tr>\n",
       "\t<tr><th scope=row>Ferrari Dino</th><td>19.7 </td><td>6    </td><td>145.0</td><td>175  </td><td>3.62 </td><td>2.770</td><td>15.50</td><td>0    </td><td>1    </td><td>5    </td><td>6    </td></tr>\n",
       "\t<tr><th scope=row>Maserati Bora</th><td>15.0 </td><td>8    </td><td>301.0</td><td>335  </td><td>3.54 </td><td>3.570</td><td>14.60</td><td>0    </td><td>1    </td><td>5    </td><td>8    </td></tr>\n",
       "\t<tr><th scope=row>Volvo 142E</th><td>21.4 </td><td>4    </td><td>121.0</td><td>109  </td><td>4.11 </td><td>2.780</td><td>18.60</td><td>1    </td><td>1    </td><td>4    </td><td>2    </td></tr>\n",
       "</tbody>\n",
       "</table>\n"
      ],
      "text/latex": [
       "\\begin{tabular}{r|lllllllllll}\n",
       "  & mpg & cyl & disp & hp & drat & wt & qsec & vs & am & gear & carb\\\\\n",
       "\\hline\n",
       "\tMazda RX4 & 21.0  & 6     & 160.0 & 110   & 3.90  & 2.620 & 16.46 & 0     & 1     & 4     & 4    \\\\\n",
       "\tMazda RX4 Wag & 21.0  & 6     & 160.0 & 110   & 3.90  & 2.875 & 17.02 & 0     & 1     & 4     & 4    \\\\\n",
       "\tHornet 4 Drive & 21.4  & 6     & 258.0 & 110   & 3.08  & 3.215 & 19.44 & 1     & 0     & 3     & 1    \\\\\n",
       "\tHornet Sportabout & 18.7  & 8     & 360.0 & 175   & 3.15  & 3.440 & 17.02 & 0     & 0     & 3     & 2    \\\\\n",
       "\tValiant & 18.1  & 6     & 225.0 & 105   & 2.76  & 3.460 & 20.22 & 1     & 0     & 3     & 1    \\\\\n",
       "\tDuster 360 & 14.3  & 8     & 360.0 & 245   & 3.21  & 3.570 & 15.84 & 0     & 0     & 3     & 4    \\\\\n",
       "\tMerc 280 & 19.2  & 6     & 167.6 & 123   & 3.92  & 3.440 & 18.30 & 1     & 0     & 4     & 4    \\\\\n",
       "\tMerc 280C & 17.8  & 6     & 167.6 & 123   & 3.92  & 3.440 & 18.90 & 1     & 0     & 4     & 4    \\\\\n",
       "\tMerc 450SE & 16.4  & 8     & 275.8 & 180   & 3.07  & 4.070 & 17.40 & 0     & 0     & 3     & 3    \\\\\n",
       "\tMerc 450SL & 17.3  & 8     & 275.8 & 180   & 3.07  & 3.730 & 17.60 & 0     & 0     & 3     & 3    \\\\\n",
       "\tMerc 450SLC & 15.2  & 8     & 275.8 & 180   & 3.07  & 3.780 & 18.00 & 0     & 0     & 3     & 3    \\\\\n",
       "\tCadillac Fleetwood & 10.4  & 8     & 472.0 & 205   & 2.93  & 5.250 & 17.98 & 0     & 0     & 3     & 4    \\\\\n",
       "\tLincoln Continental & 10.4  & 8     & 460.0 & 215   & 3.00  & 5.424 & 17.82 & 0     & 0     & 3     & 4    \\\\\n",
       "\tChrysler Imperial & 14.7  & 8     & 440.0 & 230   & 3.23  & 5.345 & 17.42 & 0     & 0     & 3     & 4    \\\\\n",
       "\tToyota Corona & 21.5  & 4     & 120.1 &  97   & 3.70  & 2.465 & 20.01 & 1     & 0     & 3     & 1    \\\\\n",
       "\tDodge Challenger & 15.5  & 8     & 318.0 & 150   & 2.76  & 3.520 & 16.87 & 0     & 0     & 3     & 2    \\\\\n",
       "\tAMC Javelin & 15.2  & 8     & 304.0 & 150   & 3.15  & 3.435 & 17.30 & 0     & 0     & 3     & 2    \\\\\n",
       "\tCamaro Z28 & 13.3  & 8     & 350.0 & 245   & 3.73  & 3.840 & 15.41 & 0     & 0     & 3     & 4    \\\\\n",
       "\tPontiac Firebird & 19.2  & 8     & 400.0 & 175   & 3.08  & 3.845 & 17.05 & 0     & 0     & 3     & 2    \\\\\n",
       "\tFord Pantera L & 15.8  & 8     & 351.0 & 264   & 4.22  & 3.170 & 14.50 & 0     & 1     & 5     & 4    \\\\\n",
       "\tFerrari Dino & 19.7  & 6     & 145.0 & 175   & 3.62  & 2.770 & 15.50 & 0     & 1     & 5     & 6    \\\\\n",
       "\tMaserati Bora & 15.0  & 8     & 301.0 & 335   & 3.54  & 3.570 & 14.60 & 0     & 1     & 5     & 8    \\\\\n",
       "\tVolvo 142E & 21.4  & 4     & 121.0 & 109   & 4.11  & 2.780 & 18.60 & 1     & 1     & 4     & 2    \\\\\n",
       "\\end{tabular}\n"
      ],
      "text/markdown": [
       "\n",
       "| <!--/--> | mpg | cyl | disp | hp | drat | wt | qsec | vs | am | gear | carb | \n",
       "|---|---|---|---|---|---|---|---|---|---|---|---|---|---|---|---|---|---|---|---|---|---|---|\n",
       "| Mazda RX4 | 21.0  | 6     | 160.0 | 110   | 3.90  | 2.620 | 16.46 | 0     | 1     | 4     | 4     | \n",
       "| Mazda RX4 Wag | 21.0  | 6     | 160.0 | 110   | 3.90  | 2.875 | 17.02 | 0     | 1     | 4     | 4     | \n",
       "| Hornet 4 Drive | 21.4  | 6     | 258.0 | 110   | 3.08  | 3.215 | 19.44 | 1     | 0     | 3     | 1     | \n",
       "| Hornet Sportabout | 18.7  | 8     | 360.0 | 175   | 3.15  | 3.440 | 17.02 | 0     | 0     | 3     | 2     | \n",
       "| Valiant | 18.1  | 6     | 225.0 | 105   | 2.76  | 3.460 | 20.22 | 1     | 0     | 3     | 1     | \n",
       "| Duster 360 | 14.3  | 8     | 360.0 | 245   | 3.21  | 3.570 | 15.84 | 0     | 0     | 3     | 4     | \n",
       "| Merc 280 | 19.2  | 6     | 167.6 | 123   | 3.92  | 3.440 | 18.30 | 1     | 0     | 4     | 4     | \n",
       "| Merc 280C | 17.8  | 6     | 167.6 | 123   | 3.92  | 3.440 | 18.90 | 1     | 0     | 4     | 4     | \n",
       "| Merc 450SE | 16.4  | 8     | 275.8 | 180   | 3.07  | 4.070 | 17.40 | 0     | 0     | 3     | 3     | \n",
       "| Merc 450SL | 17.3  | 8     | 275.8 | 180   | 3.07  | 3.730 | 17.60 | 0     | 0     | 3     | 3     | \n",
       "| Merc 450SLC | 15.2  | 8     | 275.8 | 180   | 3.07  | 3.780 | 18.00 | 0     | 0     | 3     | 3     | \n",
       "| Cadillac Fleetwood | 10.4  | 8     | 472.0 | 205   | 2.93  | 5.250 | 17.98 | 0     | 0     | 3     | 4     | \n",
       "| Lincoln Continental | 10.4  | 8     | 460.0 | 215   | 3.00  | 5.424 | 17.82 | 0     | 0     | 3     | 4     | \n",
       "| Chrysler Imperial | 14.7  | 8     | 440.0 | 230   | 3.23  | 5.345 | 17.42 | 0     | 0     | 3     | 4     | \n",
       "| Toyota Corona | 21.5  | 4     | 120.1 |  97   | 3.70  | 2.465 | 20.01 | 1     | 0     | 3     | 1     | \n",
       "| Dodge Challenger | 15.5  | 8     | 318.0 | 150   | 2.76  | 3.520 | 16.87 | 0     | 0     | 3     | 2     | \n",
       "| AMC Javelin | 15.2  | 8     | 304.0 | 150   | 3.15  | 3.435 | 17.30 | 0     | 0     | 3     | 2     | \n",
       "| Camaro Z28 | 13.3  | 8     | 350.0 | 245   | 3.73  | 3.840 | 15.41 | 0     | 0     | 3     | 4     | \n",
       "| Pontiac Firebird | 19.2  | 8     | 400.0 | 175   | 3.08  | 3.845 | 17.05 | 0     | 0     | 3     | 2     | \n",
       "| Ford Pantera L | 15.8  | 8     | 351.0 | 264   | 4.22  | 3.170 | 14.50 | 0     | 1     | 5     | 4     | \n",
       "| Ferrari Dino | 19.7  | 6     | 145.0 | 175   | 3.62  | 2.770 | 15.50 | 0     | 1     | 5     | 6     | \n",
       "| Maserati Bora | 15.0  | 8     | 301.0 | 335   | 3.54  | 3.570 | 14.60 | 0     | 1     | 5     | 8     | \n",
       "| Volvo 142E | 21.4  | 4     | 121.0 | 109   | 4.11  | 2.780 | 18.60 | 1     | 1     | 4     | 2     | \n",
       "\n",
       "\n"
      ],
      "text/plain": [
       "                    mpg  cyl disp  hp  drat wt    qsec  vs am gear carb\n",
       "Mazda RX4           21.0 6   160.0 110 3.90 2.620 16.46 0  1  4    4   \n",
       "Mazda RX4 Wag       21.0 6   160.0 110 3.90 2.875 17.02 0  1  4    4   \n",
       "Hornet 4 Drive      21.4 6   258.0 110 3.08 3.215 19.44 1  0  3    1   \n",
       "Hornet Sportabout   18.7 8   360.0 175 3.15 3.440 17.02 0  0  3    2   \n",
       "Valiant             18.1 6   225.0 105 2.76 3.460 20.22 1  0  3    1   \n",
       "Duster 360          14.3 8   360.0 245 3.21 3.570 15.84 0  0  3    4   \n",
       "Merc 280            19.2 6   167.6 123 3.92 3.440 18.30 1  0  4    4   \n",
       "Merc 280C           17.8 6   167.6 123 3.92 3.440 18.90 1  0  4    4   \n",
       "Merc 450SE          16.4 8   275.8 180 3.07 4.070 17.40 0  0  3    3   \n",
       "Merc 450SL          17.3 8   275.8 180 3.07 3.730 17.60 0  0  3    3   \n",
       "Merc 450SLC         15.2 8   275.8 180 3.07 3.780 18.00 0  0  3    3   \n",
       "Cadillac Fleetwood  10.4 8   472.0 205 2.93 5.250 17.98 0  0  3    4   \n",
       "Lincoln Continental 10.4 8   460.0 215 3.00 5.424 17.82 0  0  3    4   \n",
       "Chrysler Imperial   14.7 8   440.0 230 3.23 5.345 17.42 0  0  3    4   \n",
       "Toyota Corona       21.5 4   120.1  97 3.70 2.465 20.01 1  0  3    1   \n",
       "Dodge Challenger    15.5 8   318.0 150 2.76 3.520 16.87 0  0  3    2   \n",
       "AMC Javelin         15.2 8   304.0 150 3.15 3.435 17.30 0  0  3    2   \n",
       "Camaro Z28          13.3 8   350.0 245 3.73 3.840 15.41 0  0  3    4   \n",
       "Pontiac Firebird    19.2 8   400.0 175 3.08 3.845 17.05 0  0  3    2   \n",
       "Ford Pantera L      15.8 8   351.0 264 4.22 3.170 14.50 0  1  5    4   \n",
       "Ferrari Dino        19.7 6   145.0 175 3.62 2.770 15.50 0  1  5    6   \n",
       "Maserati Bora       15.0 8   301.0 335 3.54 3.570 14.60 0  1  5    8   \n",
       "Volvo 142E          21.4 4   121.0 109 4.11 2.780 18.60 1  1  4    2   "
      ]
     },
     "metadata": {},
     "output_type": "display_data"
    }
   ],
   "source": [
    "mtcars[low_mpg,]"
   ]
  },
  {
   "cell_type": "code",
   "execution_count": 19,
   "metadata": {},
   "outputs": [
    {
     "data": {
      "text/html": [
       "<ol class=list-inline>\n",
       "\t<li>2.62</li>\n",
       "\t<li>2.875</li>\n",
       "\t<li>3.215</li>\n",
       "\t<li>3.44</li>\n",
       "\t<li>3.46</li>\n",
       "\t<li>3.57</li>\n",
       "\t<li>3.44</li>\n",
       "\t<li>3.44</li>\n",
       "\t<li>4.07</li>\n",
       "\t<li>3.73</li>\n",
       "\t<li>3.78</li>\n",
       "\t<li>5.25</li>\n",
       "\t<li>5.424</li>\n",
       "\t<li>5.345</li>\n",
       "\t<li>2.465</li>\n",
       "\t<li>3.52</li>\n",
       "\t<li>3.435</li>\n",
       "\t<li>3.84</li>\n",
       "\t<li>3.845</li>\n",
       "\t<li>3.17</li>\n",
       "\t<li>2.77</li>\n",
       "\t<li>3.57</li>\n",
       "\t<li>2.78</li>\n",
       "</ol>\n"
      ],
      "text/latex": [
       "\\begin{enumerate*}\n",
       "\\item 2.62\n",
       "\\item 2.875\n",
       "\\item 3.215\n",
       "\\item 3.44\n",
       "\\item 3.46\n",
       "\\item 3.57\n",
       "\\item 3.44\n",
       "\\item 3.44\n",
       "\\item 4.07\n",
       "\\item 3.73\n",
       "\\item 3.78\n",
       "\\item 5.25\n",
       "\\item 5.424\n",
       "\\item 5.345\n",
       "\\item 2.465\n",
       "\\item 3.52\n",
       "\\item 3.435\n",
       "\\item 3.84\n",
       "\\item 3.845\n",
       "\\item 3.17\n",
       "\\item 2.77\n",
       "\\item 3.57\n",
       "\\item 2.78\n",
       "\\end{enumerate*}\n"
      ],
      "text/markdown": [
       "1. 2.62\n",
       "2. 2.875\n",
       "3. 3.215\n",
       "4. 3.44\n",
       "5. 3.46\n",
       "6. 3.57\n",
       "7. 3.44\n",
       "8. 3.44\n",
       "9. 4.07\n",
       "10. 3.73\n",
       "11. 3.78\n",
       "12. 5.25\n",
       "13. 5.424\n",
       "14. 5.345\n",
       "15. 2.465\n",
       "16. 3.52\n",
       "17. 3.435\n",
       "18. 3.84\n",
       "19. 3.845\n",
       "20. 3.17\n",
       "21. 2.77\n",
       "22. 3.57\n",
       "23. 2.78\n",
       "\n",
       "\n"
      ],
      "text/plain": [
       " [1] 2.620 2.875 3.215 3.440 3.460 3.570 3.440 3.440 4.070 3.730 3.780 5.250\n",
       "[13] 5.424 5.345 2.465 3.520 3.435 3.840 3.845 3.170 2.770 3.570 2.780"
      ]
     },
     "metadata": {},
     "output_type": "display_data"
    }
   ],
   "source": [
    "mtcars[low_mpg,]$wt"
   ]
  },
  {
   "cell_type": "code",
   "execution_count": 20,
   "metadata": {
    "scrolled": false
   },
   "outputs": [
    {
     "data": {
      "text/html": [
       "<table>\n",
       "<thead><tr><th scope=col>expend</th><th scope=col>stature</th></tr></thead>\n",
       "<tbody>\n",
       "\t<tr><td> 9.21</td><td>obese</td></tr>\n",
       "\t<tr><td> 7.53</td><td>lean </td></tr>\n",
       "\t<tr><td> 7.48</td><td>lean </td></tr>\n",
       "\t<tr><td> 8.08</td><td>lean </td></tr>\n",
       "\t<tr><td> 8.09</td><td>lean </td></tr>\n",
       "\t<tr><td>10.15</td><td>lean </td></tr>\n",
       "</tbody>\n",
       "</table>\n"
      ],
      "text/latex": [
       "\\begin{tabular}{r|ll}\n",
       " expend & stature\\\\\n",
       "\\hline\n",
       "\t  9.21 & obese\\\\\n",
       "\t  7.53 & lean \\\\\n",
       "\t  7.48 & lean \\\\\n",
       "\t  8.08 & lean \\\\\n",
       "\t  8.09 & lean \\\\\n",
       "\t 10.15 & lean \\\\\n",
       "\\end{tabular}\n"
      ],
      "text/markdown": [
       "\n",
       "expend | stature | \n",
       "|---|---|---|---|---|---|\n",
       "|  9.21 | obese | \n",
       "|  7.53 | lean  | \n",
       "|  7.48 | lean  | \n",
       "|  8.08 | lean  | \n",
       "|  8.09 | lean  | \n",
       "| 10.15 | lean  | \n",
       "\n",
       "\n"
      ],
      "text/plain": [
       "  expend stature\n",
       "1  9.21  obese  \n",
       "2  7.53  lean   \n",
       "3  7.48  lean   \n",
       "4  8.08  lean   \n",
       "5  8.09  lean   \n",
       "6 10.15  lean   "
      ]
     },
     "metadata": {},
     "output_type": "display_data"
    }
   ],
   "source": [
    "library(ISwR)\n",
    "data(energy)\n",
    "head(energy)"
   ]
  },
  {
   "cell_type": "code",
   "execution_count": 21,
   "metadata": {},
   "outputs": [
    {
     "data": {
      "text/html": [
       "<table>\n",
       "<thead><tr><th></th><th scope=col>expend</th><th scope=col>stature</th></tr></thead>\n",
       "<tbody>\n",
       "\t<tr><th scope=row>2</th><td>7.53</td><td>lean</td></tr>\n",
       "</tbody>\n",
       "</table>\n"
      ],
      "text/latex": [
       "\\begin{tabular}{r|ll}\n",
       "  & expend & stature\\\\\n",
       "\\hline\n",
       "\t2 & 7.53 & lean\\\\\n",
       "\\end{tabular}\n"
      ],
      "text/markdown": [
       "\n",
       "| <!--/--> | expend | stature | \n",
       "|---|\n",
       "| 2 | 7.53 | lean | \n",
       "\n",
       "\n"
      ],
      "text/plain": [
       "  expend stature\n",
       "2 7.53   lean   "
      ]
     },
     "metadata": {},
     "output_type": "display_data"
    }
   ],
   "source": [
    "energy[2,]"
   ]
  },
  {
   "cell_type": "code",
   "execution_count": 22,
   "metadata": {
    "scrolled": true
   },
   "outputs": [
    {
     "data": {
      "text/html": [
       "<table>\n",
       "<thead><tr><th></th><th scope=col>expend</th><th scope=col>stature</th></tr></thead>\n",
       "<tbody>\n",
       "\t<tr><th scope=row>2</th><td> 7.53</td><td>lean </td></tr>\n",
       "\t<tr><th scope=row>3</th><td> 7.48</td><td>lean </td></tr>\n",
       "\t<tr><th scope=row>4</th><td> 8.08</td><td>lean </td></tr>\n",
       "\t<tr><th scope=row>5</th><td> 8.09</td><td>lean </td></tr>\n",
       "\t<tr><th scope=row>6</th><td>10.15</td><td>lean </td></tr>\n",
       "\t<tr><th scope=row>7</th><td> 8.40</td><td>lean </td></tr>\n",
       "\t<tr><th scope=row>8</th><td>10.88</td><td>lean </td></tr>\n",
       "\t<tr><th scope=row>9</th><td> 6.13</td><td>lean </td></tr>\n",
       "\t<tr><th scope=row>10</th><td> 7.90</td><td>lean </td></tr>\n",
       "\t<tr><th scope=row>13</th><td> 7.05</td><td>lean </td></tr>\n",
       "\t<tr><th scope=row>16</th><td> 7.48</td><td>lean </td></tr>\n",
       "\t<tr><th scope=row>20</th><td> 7.58</td><td>lean </td></tr>\n",
       "\t<tr><th scope=row>22</th><td> 8.11</td><td>lean </td></tr>\n",
       "</tbody>\n",
       "</table>\n"
      ],
      "text/latex": [
       "\\begin{tabular}{r|ll}\n",
       "  & expend & stature\\\\\n",
       "\\hline\n",
       "\t2 &  7.53 & lean \\\\\n",
       "\t3 &  7.48 & lean \\\\\n",
       "\t4 &  8.08 & lean \\\\\n",
       "\t5 &  8.09 & lean \\\\\n",
       "\t6 & 10.15 & lean \\\\\n",
       "\t7 &  8.40 & lean \\\\\n",
       "\t8 & 10.88 & lean \\\\\n",
       "\t9 &  6.13 & lean \\\\\n",
       "\t10 &  7.90 & lean \\\\\n",
       "\t13 &  7.05 & lean \\\\\n",
       "\t16 &  7.48 & lean \\\\\n",
       "\t20 &  7.58 & lean \\\\\n",
       "\t22 &  8.11 & lean \\\\\n",
       "\\end{tabular}\n"
      ],
      "text/markdown": [
       "\n",
       "| <!--/--> | expend | stature | \n",
       "|---|---|---|---|---|---|---|---|---|---|---|---|---|\n",
       "| 2 |  7.53 | lean  | \n",
       "| 3 |  7.48 | lean  | \n",
       "| 4 |  8.08 | lean  | \n",
       "| 5 |  8.09 | lean  | \n",
       "| 6 | 10.15 | lean  | \n",
       "| 7 |  8.40 | lean  | \n",
       "| 8 | 10.88 | lean  | \n",
       "| 9 |  6.13 | lean  | \n",
       "| 10 |  7.90 | lean  | \n",
       "| 13 |  7.05 | lean  | \n",
       "| 16 |  7.48 | lean  | \n",
       "| 20 |  7.58 | lean  | \n",
       "| 22 |  8.11 | lean  | \n",
       "\n",
       "\n"
      ],
      "text/plain": [
       "   expend stature\n",
       "2   7.53  lean   \n",
       "3   7.48  lean   \n",
       "4   8.08  lean   \n",
       "5   8.09  lean   \n",
       "6  10.15  lean   \n",
       "7   8.40  lean   \n",
       "8  10.88  lean   \n",
       "9   6.13  lean   \n",
       "10  7.90  lean   \n",
       "13  7.05  lean   \n",
       "16  7.48  lean   \n",
       "20  7.58  lean   \n",
       "22  8.11  lean   "
      ]
     },
     "metadata": {},
     "output_type": "display_data"
    }
   ],
   "source": [
    "energy[energy$stature== \"lean\",]"
   ]
  },
  {
   "cell_type": "code",
   "execution_count": 23,
   "metadata": {
    "scrolled": false
   },
   "outputs": [
    {
     "data": {
      "text/html": [
       "<table>\n",
       "<thead><tr><th></th><th scope=col>expend</th><th scope=col>stature</th></tr></thead>\n",
       "<tbody>\n",
       "\t<tr><th scope=row>9</th><td> 6.13</td><td>lean </td></tr>\n",
       "\t<tr><th scope=row>13</th><td> 7.05</td><td>lean </td></tr>\n",
       "\t<tr><th scope=row>3</th><td> 7.48</td><td>lean </td></tr>\n",
       "\t<tr><th scope=row>16</th><td> 7.48</td><td>lean </td></tr>\n",
       "\t<tr><th scope=row>2</th><td> 7.53</td><td>lean </td></tr>\n",
       "\t<tr><th scope=row>20</th><td> 7.58</td><td>lean </td></tr>\n",
       "\t<tr><th scope=row>10</th><td> 7.90</td><td>lean </td></tr>\n",
       "\t<tr><th scope=row>4</th><td> 8.08</td><td>lean </td></tr>\n",
       "\t<tr><th scope=row>5</th><td> 8.09</td><td>lean </td></tr>\n",
       "\t<tr><th scope=row>22</th><td> 8.11</td><td>lean </td></tr>\n",
       "\t<tr><th scope=row>7</th><td> 8.40</td><td>lean </td></tr>\n",
       "\t<tr><th scope=row>17</th><td> 8.79</td><td>obese</td></tr>\n",
       "\t<tr><th scope=row>21</th><td> 9.19</td><td>obese</td></tr>\n",
       "\t<tr><th scope=row>1</th><td> 9.21</td><td>obese</td></tr>\n",
       "\t<tr><th scope=row>19</th><td> 9.68</td><td>obese</td></tr>\n",
       "\t<tr><th scope=row>18</th><td> 9.69</td><td>obese</td></tr>\n",
       "\t<tr><th scope=row>15</th><td> 9.97</td><td>obese</td></tr>\n",
       "\t<tr><th scope=row>6</th><td>10.15</td><td>lean </td></tr>\n",
       "\t<tr><th scope=row>8</th><td>10.88</td><td>lean </td></tr>\n",
       "\t<tr><th scope=row>11</th><td>11.51</td><td>obese</td></tr>\n",
       "\t<tr><th scope=row>14</th><td>11.85</td><td>obese</td></tr>\n",
       "\t<tr><th scope=row>12</th><td>12.79</td><td>obese</td></tr>\n",
       "</tbody>\n",
       "</table>\n"
      ],
      "text/latex": [
       "\\begin{tabular}{r|ll}\n",
       "  & expend & stature\\\\\n",
       "\\hline\n",
       "\t9 &  6.13 & lean \\\\\n",
       "\t13 &  7.05 & lean \\\\\n",
       "\t3 &  7.48 & lean \\\\\n",
       "\t16 &  7.48 & lean \\\\\n",
       "\t2 &  7.53 & lean \\\\\n",
       "\t20 &  7.58 & lean \\\\\n",
       "\t10 &  7.90 & lean \\\\\n",
       "\t4 &  8.08 & lean \\\\\n",
       "\t5 &  8.09 & lean \\\\\n",
       "\t22 &  8.11 & lean \\\\\n",
       "\t7 &  8.40 & lean \\\\\n",
       "\t17 &  8.79 & obese\\\\\n",
       "\t21 &  9.19 & obese\\\\\n",
       "\t1 &  9.21 & obese\\\\\n",
       "\t19 &  9.68 & obese\\\\\n",
       "\t18 &  9.69 & obese\\\\\n",
       "\t15 &  9.97 & obese\\\\\n",
       "\t6 & 10.15 & lean \\\\\n",
       "\t8 & 10.88 & lean \\\\\n",
       "\t11 & 11.51 & obese\\\\\n",
       "\t14 & 11.85 & obese\\\\\n",
       "\t12 & 12.79 & obese\\\\\n",
       "\\end{tabular}\n"
      ],
      "text/markdown": [
       "\n",
       "| <!--/--> | expend | stature | \n",
       "|---|---|---|---|---|---|---|---|---|---|---|---|---|---|---|---|---|---|---|---|---|---|\n",
       "| 9 |  6.13 | lean  | \n",
       "| 13 |  7.05 | lean  | \n",
       "| 3 |  7.48 | lean  | \n",
       "| 16 |  7.48 | lean  | \n",
       "| 2 |  7.53 | lean  | \n",
       "| 20 |  7.58 | lean  | \n",
       "| 10 |  7.90 | lean  | \n",
       "| 4 |  8.08 | lean  | \n",
       "| 5 |  8.09 | lean  | \n",
       "| 22 |  8.11 | lean  | \n",
       "| 7 |  8.40 | lean  | \n",
       "| 17 |  8.79 | obese | \n",
       "| 21 |  9.19 | obese | \n",
       "| 1 |  9.21 | obese | \n",
       "| 19 |  9.68 | obese | \n",
       "| 18 |  9.69 | obese | \n",
       "| 15 |  9.97 | obese | \n",
       "| 6 | 10.15 | lean  | \n",
       "| 8 | 10.88 | lean  | \n",
       "| 11 | 11.51 | obese | \n",
       "| 14 | 11.85 | obese | \n",
       "| 12 | 12.79 | obese | \n",
       "\n",
       "\n"
      ],
      "text/plain": [
       "   expend stature\n",
       "9   6.13  lean   \n",
       "13  7.05  lean   \n",
       "3   7.48  lean   \n",
       "16  7.48  lean   \n",
       "2   7.53  lean   \n",
       "20  7.58  lean   \n",
       "10  7.90  lean   \n",
       "4   8.08  lean   \n",
       "5   8.09  lean   \n",
       "22  8.11  lean   \n",
       "7   8.40  lean   \n",
       "17  8.79  obese  \n",
       "21  9.19  obese  \n",
       "1   9.21  obese  \n",
       "19  9.68  obese  \n",
       "18  9.69  obese  \n",
       "15  9.97  obese  \n",
       "6  10.15  lean   \n",
       "8  10.88  lean   \n",
       "11 11.51  obese  \n",
       "14 11.85  obese  \n",
       "12 12.79  obese  "
      ]
     },
     "metadata": {},
     "output_type": "display_data"
    }
   ],
   "source": [
    "energy[order(energy$expend),]"
   ]
  },
  {
   "cell_type": "code",
   "execution_count": 24,
   "metadata": {
    "scrolled": true
   },
   "outputs": [
    {
     "data": {
      "text/html": [
       "<table>\n",
       "<thead><tr><th></th><th scope=col>expend</th><th scope=col>stature</th></tr></thead>\n",
       "<tbody>\n",
       "\t<tr><th scope=row>4</th><td> 8.08</td><td>lean </td></tr>\n",
       "\t<tr><th scope=row>5</th><td> 8.09</td><td>lean </td></tr>\n",
       "\t<tr><th scope=row>6</th><td>10.15</td><td>lean </td></tr>\n",
       "\t<tr><th scope=row>7</th><td> 8.40</td><td>lean </td></tr>\n",
       "\t<tr><th scope=row>8</th><td>10.88</td><td>lean </td></tr>\n",
       "\t<tr><th scope=row>22</th><td> 8.11</td><td>lean </td></tr>\n",
       "</tbody>\n",
       "</table>\n"
      ],
      "text/latex": [
       "\\begin{tabular}{r|ll}\n",
       "  & expend & stature\\\\\n",
       "\\hline\n",
       "\t4 &  8.08 & lean \\\\\n",
       "\t5 &  8.09 & lean \\\\\n",
       "\t6 & 10.15 & lean \\\\\n",
       "\t7 &  8.40 & lean \\\\\n",
       "\t8 & 10.88 & lean \\\\\n",
       "\t22 &  8.11 & lean \\\\\n",
       "\\end{tabular}\n"
      ],
      "text/markdown": [
       "\n",
       "| <!--/--> | expend | stature | \n",
       "|---|---|---|---|---|---|\n",
       "| 4 |  8.08 | lean  | \n",
       "| 5 |  8.09 | lean  | \n",
       "| 6 | 10.15 | lean  | \n",
       "| 7 |  8.40 | lean  | \n",
       "| 8 | 10.88 | lean  | \n",
       "| 22 |  8.11 | lean  | \n",
       "\n",
       "\n"
      ],
      "text/plain": [
       "   expend stature\n",
       "4   8.08  lean   \n",
       "5   8.09  lean   \n",
       "6  10.15  lean   \n",
       "7   8.40  lean   \n",
       "8  10.88  lean   \n",
       "22  8.11  lean   "
      ]
     },
     "metadata": {},
     "output_type": "display_data"
    }
   ],
   "source": [
    "subset(energy, stature==\"lean\" & expend>8)"
   ]
  },
  {
   "cell_type": "code",
   "execution_count": 25,
   "metadata": {},
   "outputs": [
    {
     "data": {
      "text/html": [
       "'list'"
      ],
      "text/latex": [
       "'list'"
      ],
      "text/markdown": [
       "'list'"
      ],
      "text/plain": [
       "[1] \"list\""
      ]
     },
     "metadata": {},
     "output_type": "display_data"
    },
    {
     "data": {
      "text/html": [
       "<dl>\n",
       "\t<dt>$lean</dt>\n",
       "\t\t<dd><ol class=list-inline>\n",
       "\t<li>7.53</li>\n",
       "\t<li>7.48</li>\n",
       "\t<li>8.08</li>\n",
       "\t<li>8.09</li>\n",
       "\t<li>10.15</li>\n",
       "\t<li>8.4</li>\n",
       "\t<li>10.88</li>\n",
       "\t<li>6.13</li>\n",
       "\t<li>7.9</li>\n",
       "\t<li>7.05</li>\n",
       "\t<li>7.48</li>\n",
       "\t<li>7.58</li>\n",
       "\t<li>8.11</li>\n",
       "</ol>\n",
       "</dd>\n",
       "\t<dt>$obese</dt>\n",
       "\t\t<dd><ol class=list-inline>\n",
       "\t<li>9.21</li>\n",
       "\t<li>11.51</li>\n",
       "\t<li>12.79</li>\n",
       "\t<li>11.85</li>\n",
       "\t<li>9.97</li>\n",
       "\t<li>8.79</li>\n",
       "\t<li>9.69</li>\n",
       "\t<li>9.68</li>\n",
       "\t<li>9.19</li>\n",
       "</ol>\n",
       "</dd>\n",
       "</dl>\n"
      ],
      "text/latex": [
       "\\begin{description}\n",
       "\\item[\\$lean] \\begin{enumerate*}\n",
       "\\item 7.53\n",
       "\\item 7.48\n",
       "\\item 8.08\n",
       "\\item 8.09\n",
       "\\item 10.15\n",
       "\\item 8.4\n",
       "\\item 10.88\n",
       "\\item 6.13\n",
       "\\item 7.9\n",
       "\\item 7.05\n",
       "\\item 7.48\n",
       "\\item 7.58\n",
       "\\item 8.11\n",
       "\\end{enumerate*}\n",
       "\n",
       "\\item[\\$obese] \\begin{enumerate*}\n",
       "\\item 9.21\n",
       "\\item 11.51\n",
       "\\item 12.79\n",
       "\\item 11.85\n",
       "\\item 9.97\n",
       "\\item 8.79\n",
       "\\item 9.69\n",
       "\\item 9.68\n",
       "\\item 9.19\n",
       "\\end{enumerate*}\n",
       "\n",
       "\\end{description}\n"
      ],
      "text/markdown": [
       "$lean\n",
       ":   1. 7.53\n",
       "2. 7.48\n",
       "3. 8.08\n",
       "4. 8.09\n",
       "5. 10.15\n",
       "6. 8.4\n",
       "7. 10.88\n",
       "8. 6.13\n",
       "9. 7.9\n",
       "10. 7.05\n",
       "11. 7.48\n",
       "12. 7.58\n",
       "13. 8.11\n",
       "\n",
       "\n",
       "\n",
       "$obese\n",
       ":   1. 9.21\n",
       "2. 11.51\n",
       "3. 12.79\n",
       "4. 11.85\n",
       "5. 9.97\n",
       "6. 8.79\n",
       "7. 9.69\n",
       "8. 9.68\n",
       "9. 9.19\n",
       "\n",
       "\n",
       "\n",
       "\n",
       "\n"
      ],
      "text/plain": [
       "$lean\n",
       " [1]  7.53  7.48  8.08  8.09 10.15  8.40 10.88  6.13  7.90  7.05  7.48  7.58\n",
       "[13]  8.11\n",
       "\n",
       "$obese\n",
       "[1]  9.21 11.51 12.79 11.85  9.97  8.79  9.69  9.68  9.19\n"
      ]
     },
     "metadata": {},
     "output_type": "display_data"
    }
   ],
   "source": [
    "x=split(energy$expend, energy$stature)\n",
    "class(x)\n",
    "x"
   ]
  },
  {
   "cell_type": "code",
   "execution_count": 26,
   "metadata": {
    "scrolled": true
   },
   "outputs": [
    {
     "data": {
      "text/html": [
       "'data.frame'"
      ],
      "text/latex": [
       "'data.frame'"
      ],
      "text/markdown": [
       "'data.frame'"
      ],
      "text/plain": [
       "[1] \"data.frame\""
      ]
     },
     "metadata": {},
     "output_type": "display_data"
    },
    {
     "data": {
      "text/html": [
       "<table>\n",
       "<thead><tr><th scope=col>name</th><th scope=col>genus</th><th scope=col>vore</th><th scope=col>order</th><th scope=col>conservation</th><th scope=col>sleep_total</th><th scope=col>sleep_rem</th><th scope=col>sleep_cycle</th><th scope=col>awake</th><th scope=col>brainwt</th><th scope=col>bodywt</th></tr></thead>\n",
       "<tbody>\n",
       "\t<tr><td>Cheetah                   </td><td>Acinonyx                  </td><td>carni                     </td><td>Carnivora                 </td><td>lc                        </td><td>12.1                      </td><td> NA                       </td><td>       NA                 </td><td>11.9                      </td><td>     NA                   </td><td> 50.000                   </td></tr>\n",
       "\t<tr><td>Owl monkey                </td><td>Aotus                     </td><td>omni                      </td><td>Primates                  </td><td>NA                        </td><td>17.0                      </td><td>1.8                       </td><td>       NA                 </td><td> 7.0                      </td><td>0.01550                   </td><td>  0.480                   </td></tr>\n",
       "\t<tr><td>Mountain beaver           </td><td>Aplodontia                </td><td>herbi                     </td><td>Rodentia                  </td><td>nt                        </td><td>14.4                      </td><td>2.4                       </td><td>       NA                 </td><td> 9.6                      </td><td>     NA                   </td><td>  1.350                   </td></tr>\n",
       "\t<tr><td>Greater short-tailed shrew</td><td>Blarina                   </td><td>omni                      </td><td>Soricomorpha              </td><td>lc                        </td><td>14.9                      </td><td>2.3                       </td><td>0.1333333                 </td><td> 9.1                      </td><td>0.00029                   </td><td>  0.019                   </td></tr>\n",
       "\t<tr><td>Cow                       </td><td>Bos                       </td><td>herbi                     </td><td>Artiodactyla              </td><td>domesticated              </td><td> 4.0                      </td><td>0.7                       </td><td>0.6666667                 </td><td>20.0                      </td><td>0.42300                   </td><td>600.000                   </td></tr>\n",
       "\t<tr><td>Three-toed sloth          </td><td>Bradypus                  </td><td>herbi                     </td><td>Pilosa                    </td><td>NA                        </td><td>14.4                      </td><td>2.2                       </td><td>0.7666667                 </td><td> 9.6                      </td><td>     NA                   </td><td>  3.850                   </td></tr>\n",
       "</tbody>\n",
       "</table>\n"
      ],
      "text/latex": [
       "\\begin{tabular}{r|lllllllllll}\n",
       " name & genus & vore & order & conservation & sleep\\_total & sleep\\_rem & sleep\\_cycle & awake & brainwt & bodywt\\\\\n",
       "\\hline\n",
       "\t Cheetah                    & Acinonyx                   & carni                      & Carnivora                  & lc                         & 12.1                       &  NA                        &        NA                  & 11.9                       &      NA                    &  50.000                   \\\\\n",
       "\t Owl monkey                 & Aotus                      & omni                       & Primates                   & NA                         & 17.0                       & 1.8                        &        NA                  &  7.0                       & 0.01550                    &   0.480                   \\\\\n",
       "\t Mountain beaver            & Aplodontia                 & herbi                      & Rodentia                   & nt                         & 14.4                       & 2.4                        &        NA                  &  9.6                       &      NA                    &   1.350                   \\\\\n",
       "\t Greater short-tailed shrew & Blarina                    & omni                       & Soricomorpha               & lc                         & 14.9                       & 2.3                        & 0.1333333                  &  9.1                       & 0.00029                    &   0.019                   \\\\\n",
       "\t Cow                        & Bos                        & herbi                      & Artiodactyla               & domesticated               &  4.0                       & 0.7                        & 0.6666667                  & 20.0                       & 0.42300                    & 600.000                   \\\\\n",
       "\t Three-toed sloth           & Bradypus                   & herbi                      & Pilosa                     & NA                         & 14.4                       & 2.2                        & 0.7666667                  &  9.6                       &      NA                    &   3.850                   \\\\\n",
       "\\end{tabular}\n"
      ],
      "text/markdown": [
       "\n",
       "name | genus | vore | order | conservation | sleep_total | sleep_rem | sleep_cycle | awake | brainwt | bodywt | \n",
       "|---|---|---|---|---|---|\n",
       "| Cheetah                    | Acinonyx                   | carni                      | Carnivora                  | lc                         | 12.1                       |  NA                        |        NA                  | 11.9                       |      NA                    |  50.000                    | \n",
       "| Owl monkey                 | Aotus                      | omni                       | Primates                   | NA                         | 17.0                       | 1.8                        |        NA                  |  7.0                       | 0.01550                    |   0.480                    | \n",
       "| Mountain beaver            | Aplodontia                 | herbi                      | Rodentia                   | nt                         | 14.4                       | 2.4                        |        NA                  |  9.6                       |      NA                    |   1.350                    | \n",
       "| Greater short-tailed shrew | Blarina                    | omni                       | Soricomorpha               | lc                         | 14.9                       | 2.3                        | 0.1333333                  |  9.1                       | 0.00029                    |   0.019                    | \n",
       "| Cow                        | Bos                        | herbi                      | Artiodactyla               | domesticated               |  4.0                       | 0.7                        | 0.6666667                  | 20.0                       | 0.42300                    | 600.000                    | \n",
       "| Three-toed sloth           | Bradypus                   | herbi                      | Pilosa                     | NA                         | 14.4                       | 2.2                        | 0.7666667                  |  9.6                       |      NA                    |   3.850                    | \n",
       "\n",
       "\n"
      ],
      "text/plain": [
       "  name                       genus      vore  order        conservation\n",
       "1 Cheetah                    Acinonyx   carni Carnivora    lc          \n",
       "2 Owl monkey                 Aotus      omni  Primates     NA          \n",
       "3 Mountain beaver            Aplodontia herbi Rodentia     nt          \n",
       "4 Greater short-tailed shrew Blarina    omni  Soricomorpha lc          \n",
       "5 Cow                        Bos        herbi Artiodactyla domesticated\n",
       "6 Three-toed sloth           Bradypus   herbi Pilosa       NA          \n",
       "  sleep_total sleep_rem sleep_cycle awake brainwt bodywt \n",
       "1 12.1         NA              NA   11.9       NA  50.000\n",
       "2 17.0        1.8              NA    7.0  0.01550   0.480\n",
       "3 14.4        2.4              NA    9.6       NA   1.350\n",
       "4 14.9        2.3       0.1333333    9.1  0.00029   0.019\n",
       "5  4.0        0.7       0.6666667   20.0  0.42300 600.000\n",
       "6 14.4        2.2       0.7666667    9.6       NA   3.850"
      ]
     },
     "metadata": {},
     "output_type": "display_data"
    }
   ],
   "source": [
    "msleep=read.csv(\"msleep_ggplot2.csv\")\n",
    "class(msleep)\n",
    "head(msleep)"
   ]
  },
  {
   "cell_type": "code",
   "execution_count": 27,
   "metadata": {
    "scrolled": true
   },
   "outputs": [
    {
     "name": "stdout",
     "output_type": "stream",
     "text": [
      "'data.frame':\t83 obs. of  11 variables:\n",
      " $ name        : Factor w/ 83 levels \"African elephant\",..: 12 57 52 36 17 77 55 81 21 67 ...\n",
      " $ genus       : Factor w/ 77 levels \"Acinonyx\",\"Aotus\",..: 1 2 3 4 5 6 7 8 9 10 ...\n",
      " $ vore        : Factor w/ 4 levels \"carni\",\"herbi\",..: 1 4 2 4 2 2 1 NA 1 2 ...\n",
      " $ order       : Factor w/ 19 levels \"Afrosoricida\",..: 3 15 17 19 2 14 3 17 3 2 ...\n",
      " $ conservation: Factor w/ 6 levels \"cd\",\"domesticated\",..: 4 NA 5 4 2 NA 6 NA 2 4 ...\n",
      " $ sleep_total : num  12.1 17 14.4 14.9 4 14.4 8.7 7 10.1 3 ...\n",
      " $ sleep_rem   : num  NA 1.8 2.4 2.3 0.7 2.2 1.4 NA 2.9 NA ...\n",
      " $ sleep_cycle : num  NA NA NA 0.133 0.667 ...\n",
      " $ awake       : num  11.9 7 9.6 9.1 20 9.6 15.3 17 13.9 21 ...\n",
      " $ brainwt     : num  NA 0.0155 NA 0.00029 0.423 NA NA NA 0.07 0.0982 ...\n",
      " $ bodywt      : num  50 0.48 1.35 0.019 600 ...\n"
     ]
    },
    {
     "data": {
      "text/html": [
       "<ol class=list-inline>\n",
       "\t<li>'1'</li>\n",
       "\t<li>'2'</li>\n",
       "\t<li>'3'</li>\n",
       "\t<li>'4'</li>\n",
       "\t<li>'5'</li>\n",
       "\t<li>'6'</li>\n",
       "\t<li>'7'</li>\n",
       "\t<li>'8'</li>\n",
       "\t<li>'9'</li>\n",
       "\t<li>'10'</li>\n",
       "\t<li>'11'</li>\n",
       "\t<li>'12'</li>\n",
       "\t<li>'13'</li>\n",
       "\t<li>'14'</li>\n",
       "\t<li>'15'</li>\n",
       "\t<li>'16'</li>\n",
       "\t<li>'17'</li>\n",
       "\t<li>'18'</li>\n",
       "\t<li>'19'</li>\n",
       "\t<li>'20'</li>\n",
       "\t<li>'21'</li>\n",
       "\t<li>'22'</li>\n",
       "\t<li>'23'</li>\n",
       "\t<li>'24'</li>\n",
       "\t<li>'25'</li>\n",
       "\t<li>'26'</li>\n",
       "\t<li>'27'</li>\n",
       "\t<li>'28'</li>\n",
       "\t<li>'29'</li>\n",
       "\t<li>'30'</li>\n",
       "\t<li>'31'</li>\n",
       "\t<li>'32'</li>\n",
       "\t<li>'33'</li>\n",
       "\t<li>'34'</li>\n",
       "\t<li>'35'</li>\n",
       "\t<li>'36'</li>\n",
       "\t<li>'37'</li>\n",
       "\t<li>'38'</li>\n",
       "\t<li>'39'</li>\n",
       "\t<li>'40'</li>\n",
       "\t<li>'41'</li>\n",
       "\t<li>'42'</li>\n",
       "\t<li>'43'</li>\n",
       "\t<li>'44'</li>\n",
       "\t<li>'45'</li>\n",
       "\t<li>'46'</li>\n",
       "\t<li>'47'</li>\n",
       "\t<li>'48'</li>\n",
       "\t<li>'49'</li>\n",
       "\t<li>'50'</li>\n",
       "\t<li>'51'</li>\n",
       "\t<li>'52'</li>\n",
       "\t<li>'53'</li>\n",
       "\t<li>'54'</li>\n",
       "\t<li>'55'</li>\n",
       "\t<li>'56'</li>\n",
       "\t<li>'57'</li>\n",
       "\t<li>'58'</li>\n",
       "\t<li>'59'</li>\n",
       "\t<li>'60'</li>\n",
       "\t<li>'61'</li>\n",
       "\t<li>'62'</li>\n",
       "\t<li>'63'</li>\n",
       "\t<li>'64'</li>\n",
       "\t<li>'65'</li>\n",
       "\t<li>'66'</li>\n",
       "\t<li>'67'</li>\n",
       "\t<li>'68'</li>\n",
       "\t<li>'69'</li>\n",
       "\t<li>'70'</li>\n",
       "\t<li>'71'</li>\n",
       "\t<li>'72'</li>\n",
       "\t<li>'73'</li>\n",
       "\t<li>'74'</li>\n",
       "\t<li>'75'</li>\n",
       "\t<li>'76'</li>\n",
       "\t<li>'77'</li>\n",
       "\t<li>'78'</li>\n",
       "\t<li>'79'</li>\n",
       "\t<li>'80'</li>\n",
       "\t<li>'81'</li>\n",
       "\t<li>'82'</li>\n",
       "\t<li>'83'</li>\n",
       "</ol>\n"
      ],
      "text/latex": [
       "\\begin{enumerate*}\n",
       "\\item '1'\n",
       "\\item '2'\n",
       "\\item '3'\n",
       "\\item '4'\n",
       "\\item '5'\n",
       "\\item '6'\n",
       "\\item '7'\n",
       "\\item '8'\n",
       "\\item '9'\n",
       "\\item '10'\n",
       "\\item '11'\n",
       "\\item '12'\n",
       "\\item '13'\n",
       "\\item '14'\n",
       "\\item '15'\n",
       "\\item '16'\n",
       "\\item '17'\n",
       "\\item '18'\n",
       "\\item '19'\n",
       "\\item '20'\n",
       "\\item '21'\n",
       "\\item '22'\n",
       "\\item '23'\n",
       "\\item '24'\n",
       "\\item '25'\n",
       "\\item '26'\n",
       "\\item '27'\n",
       "\\item '28'\n",
       "\\item '29'\n",
       "\\item '30'\n",
       "\\item '31'\n",
       "\\item '32'\n",
       "\\item '33'\n",
       "\\item '34'\n",
       "\\item '35'\n",
       "\\item '36'\n",
       "\\item '37'\n",
       "\\item '38'\n",
       "\\item '39'\n",
       "\\item '40'\n",
       "\\item '41'\n",
       "\\item '42'\n",
       "\\item '43'\n",
       "\\item '44'\n",
       "\\item '45'\n",
       "\\item '46'\n",
       "\\item '47'\n",
       "\\item '48'\n",
       "\\item '49'\n",
       "\\item '50'\n",
       "\\item '51'\n",
       "\\item '52'\n",
       "\\item '53'\n",
       "\\item '54'\n",
       "\\item '55'\n",
       "\\item '56'\n",
       "\\item '57'\n",
       "\\item '58'\n",
       "\\item '59'\n",
       "\\item '60'\n",
       "\\item '61'\n",
       "\\item '62'\n",
       "\\item '63'\n",
       "\\item '64'\n",
       "\\item '65'\n",
       "\\item '66'\n",
       "\\item '67'\n",
       "\\item '68'\n",
       "\\item '69'\n",
       "\\item '70'\n",
       "\\item '71'\n",
       "\\item '72'\n",
       "\\item '73'\n",
       "\\item '74'\n",
       "\\item '75'\n",
       "\\item '76'\n",
       "\\item '77'\n",
       "\\item '78'\n",
       "\\item '79'\n",
       "\\item '80'\n",
       "\\item '81'\n",
       "\\item '82'\n",
       "\\item '83'\n",
       "\\end{enumerate*}\n"
      ],
      "text/markdown": [
       "1. '1'\n",
       "2. '2'\n",
       "3. '3'\n",
       "4. '4'\n",
       "5. '5'\n",
       "6. '6'\n",
       "7. '7'\n",
       "8. '8'\n",
       "9. '9'\n",
       "10. '10'\n",
       "11. '11'\n",
       "12. '12'\n",
       "13. '13'\n",
       "14. '14'\n",
       "15. '15'\n",
       "16. '16'\n",
       "17. '17'\n",
       "18. '18'\n",
       "19. '19'\n",
       "20. '20'\n",
       "21. '21'\n",
       "22. '22'\n",
       "23. '23'\n",
       "24. '24'\n",
       "25. '25'\n",
       "26. '26'\n",
       "27. '27'\n",
       "28. '28'\n",
       "29. '29'\n",
       "30. '30'\n",
       "31. '31'\n",
       "32. '32'\n",
       "33. '33'\n",
       "34. '34'\n",
       "35. '35'\n",
       "36. '36'\n",
       "37. '37'\n",
       "38. '38'\n",
       "39. '39'\n",
       "40. '40'\n",
       "41. '41'\n",
       "42. '42'\n",
       "43. '43'\n",
       "44. '44'\n",
       "45. '45'\n",
       "46. '46'\n",
       "47. '47'\n",
       "48. '48'\n",
       "49. '49'\n",
       "50. '50'\n",
       "51. '51'\n",
       "52. '52'\n",
       "53. '53'\n",
       "54. '54'\n",
       "55. '55'\n",
       "56. '56'\n",
       "57. '57'\n",
       "58. '58'\n",
       "59. '59'\n",
       "60. '60'\n",
       "61. '61'\n",
       "62. '62'\n",
       "63. '63'\n",
       "64. '64'\n",
       "65. '65'\n",
       "66. '66'\n",
       "67. '67'\n",
       "68. '68'\n",
       "69. '69'\n",
       "70. '70'\n",
       "71. '71'\n",
       "72. '72'\n",
       "73. '73'\n",
       "74. '74'\n",
       "75. '75'\n",
       "76. '76'\n",
       "77. '77'\n",
       "78. '78'\n",
       "79. '79'\n",
       "80. '80'\n",
       "81. '81'\n",
       "82. '82'\n",
       "83. '83'\n",
       "\n",
       "\n"
      ],
      "text/plain": [
       " [1] \"1\"  \"2\"  \"3\"  \"4\"  \"5\"  \"6\"  \"7\"  \"8\"  \"9\"  \"10\" \"11\" \"12\" \"13\" \"14\" \"15\"\n",
       "[16] \"16\" \"17\" \"18\" \"19\" \"20\" \"21\" \"22\" \"23\" \"24\" \"25\" \"26\" \"27\" \"28\" \"29\" \"30\"\n",
       "[31] \"31\" \"32\" \"33\" \"34\" \"35\" \"36\" \"37\" \"38\" \"39\" \"40\" \"41\" \"42\" \"43\" \"44\" \"45\"\n",
       "[46] \"46\" \"47\" \"48\" \"49\" \"50\" \"51\" \"52\" \"53\" \"54\" \"55\" \"56\" \"57\" \"58\" \"59\" \"60\"\n",
       "[61] \"61\" \"62\" \"63\" \"64\" \"65\" \"66\" \"67\" \"68\" \"69\" \"70\" \"71\" \"72\" \"73\" \"74\" \"75\"\n",
       "[76] \"76\" \"77\" \"78\" \"79\" \"80\" \"81\" \"82\" \"83\""
      ]
     },
     "metadata": {},
     "output_type": "display_data"
    }
   ],
   "source": [
    "str(msleep)\n",
    "row.names(msleep)"
   ]
  },
  {
   "cell_type": "code",
   "execution_count": 28,
   "metadata": {
    "scrolled": true
   },
   "outputs": [
    {
     "data": {
      "text/html": [
       "<table>\n",
       "<thead><tr><th scope=col>name</th><th scope=col>sleep_total</th><th scope=col>order</th></tr></thead>\n",
       "<tbody>\n",
       "\t<tr><td>Cheetah                   </td><td>12.1                      </td><td>Carnivora                 </td></tr>\n",
       "\t<tr><td>Owl monkey                </td><td>17.0                      </td><td>Primates                  </td></tr>\n",
       "\t<tr><td>Mountain beaver           </td><td>14.4                      </td><td>Rodentia                  </td></tr>\n",
       "\t<tr><td>Greater short-tailed shrew</td><td>14.9                      </td><td>Soricomorpha              </td></tr>\n",
       "\t<tr><td>Cow                       </td><td> 4.0                      </td><td>Artiodactyla              </td></tr>\n",
       "\t<tr><td>Three-toed sloth          </td><td>14.4                      </td><td>Pilosa                    </td></tr>\n",
       "</tbody>\n",
       "</table>\n"
      ],
      "text/latex": [
       "\\begin{tabular}{r|lll}\n",
       " name & sleep\\_total & order\\\\\n",
       "\\hline\n",
       "\t Cheetah                    & 12.1                       & Carnivora                 \\\\\n",
       "\t Owl monkey                 & 17.0                       & Primates                  \\\\\n",
       "\t Mountain beaver            & 14.4                       & Rodentia                  \\\\\n",
       "\t Greater short-tailed shrew & 14.9                       & Soricomorpha              \\\\\n",
       "\t Cow                        &  4.0                       & Artiodactyla              \\\\\n",
       "\t Three-toed sloth           & 14.4                       & Pilosa                    \\\\\n",
       "\\end{tabular}\n"
      ],
      "text/markdown": [
       "\n",
       "name | sleep_total | order | \n",
       "|---|---|---|---|---|---|\n",
       "| Cheetah                    | 12.1                       | Carnivora                  | \n",
       "| Owl monkey                 | 17.0                       | Primates                   | \n",
       "| Mountain beaver            | 14.4                       | Rodentia                   | \n",
       "| Greater short-tailed shrew | 14.9                       | Soricomorpha               | \n",
       "| Cow                        |  4.0                       | Artiodactyla               | \n",
       "| Three-toed sloth           | 14.4                       | Pilosa                     | \n",
       "\n",
       "\n"
      ],
      "text/plain": [
       "  name                       sleep_total order       \n",
       "1 Cheetah                    12.1        Carnivora   \n",
       "2 Owl monkey                 17.0        Primates    \n",
       "3 Mountain beaver            14.4        Rodentia    \n",
       "4 Greater short-tailed shrew 14.9        Soricomorpha\n",
       "5 Cow                         4.0        Artiodactyla\n",
       "6 Three-toed sloth           14.4        Pilosa      "
      ]
     },
     "metadata": {},
     "output_type": "display_data"
    }
   ],
   "source": [
    "x=msleep[,c('name', 'sleep_total', 'order')]\n",
    "head(x)"
   ]
  },
  {
   "cell_type": "code",
   "execution_count": 29,
   "metadata": {
    "scrolled": false
   },
   "outputs": [
    {
     "data": {
      "text/html": [
       "<table>\n",
       "<thead><tr><th scope=col>name</th><th scope=col>sleep_total</th><th scope=col>order</th></tr></thead>\n",
       "<tbody>\n",
       "\t<tr><td>Cheetah                   </td><td>12.1                      </td><td>Carnivora                 </td></tr>\n",
       "\t<tr><td>Owl monkey                </td><td>17.0                      </td><td>Primates                  </td></tr>\n",
       "\t<tr><td>Mountain beaver           </td><td>14.4                      </td><td>Rodentia                  </td></tr>\n",
       "\t<tr><td>Greater short-tailed shrew</td><td>14.9                      </td><td>Soricomorpha              </td></tr>\n",
       "\t<tr><td>Cow                       </td><td> 4.0                      </td><td>Artiodactyla              </td></tr>\n",
       "\t<tr><td>Three-toed sloth          </td><td>14.4                      </td><td>Pilosa                    </td></tr>\n",
       "</tbody>\n",
       "</table>\n"
      ],
      "text/latex": [
       "\\begin{tabular}{r|lll}\n",
       " name & sleep\\_total & order\\\\\n",
       "\\hline\n",
       "\t Cheetah                    & 12.1                       & Carnivora                 \\\\\n",
       "\t Owl monkey                 & 17.0                       & Primates                  \\\\\n",
       "\t Mountain beaver            & 14.4                       & Rodentia                  \\\\\n",
       "\t Greater short-tailed shrew & 14.9                       & Soricomorpha              \\\\\n",
       "\t Cow                        &  4.0                       & Artiodactyla              \\\\\n",
       "\t Three-toed sloth           & 14.4                       & Pilosa                    \\\\\n",
       "\\end{tabular}\n"
      ],
      "text/markdown": [
       "\n",
       "name | sleep_total | order | \n",
       "|---|---|---|---|---|---|\n",
       "| Cheetah                    | 12.1                       | Carnivora                  | \n",
       "| Owl monkey                 | 17.0                       | Primates                   | \n",
       "| Mountain beaver            | 14.4                       | Rodentia                   | \n",
       "| Greater short-tailed shrew | 14.9                       | Soricomorpha               | \n",
       "| Cow                        |  4.0                       | Artiodactyla               | \n",
       "| Three-toed sloth           | 14.4                       | Pilosa                     | \n",
       "\n",
       "\n"
      ],
      "text/plain": [
       "  name                       sleep_total order       \n",
       "1 Cheetah                    12.1        Carnivora   \n",
       "2 Owl monkey                 17.0        Primates    \n",
       "3 Mountain beaver            14.4        Rodentia    \n",
       "4 Greater short-tailed shrew 14.9        Soricomorpha\n",
       "5 Cow                         4.0        Artiodactyla\n",
       "6 Three-toed sloth           14.4        Pilosa      "
      ]
     },
     "metadata": {},
     "output_type": "display_data"
    }
   ],
   "source": [
    "x=select(msleep, name, sleep_total, order)\n",
    "head(x)"
   ]
  },
  {
   "cell_type": "code",
   "execution_count": 30,
   "metadata": {},
   "outputs": [
    {
     "data": {
      "text/html": [
       "<table>\n",
       "<thead><tr><th scope=col>name</th><th scope=col>sleep_total</th><th scope=col>order</th></tr></thead>\n",
       "<tbody>\n",
       "\t<tr><td>Cheetah                   </td><td>12.1                      </td><td>Carnivora                 </td></tr>\n",
       "\t<tr><td>Owl monkey                </td><td>17.0                      </td><td>Primates                  </td></tr>\n",
       "\t<tr><td>Mountain beaver           </td><td>14.4                      </td><td>Rodentia                  </td></tr>\n",
       "\t<tr><td>Greater short-tailed shrew</td><td>14.9                      </td><td>Soricomorpha              </td></tr>\n",
       "\t<tr><td>Cow                       </td><td> 4.0                      </td><td>Artiodactyla              </td></tr>\n",
       "\t<tr><td>Three-toed sloth          </td><td>14.4                      </td><td>Pilosa                    </td></tr>\n",
       "</tbody>\n",
       "</table>\n"
      ],
      "text/latex": [
       "\\begin{tabular}{r|lll}\n",
       " name & sleep\\_total & order\\\\\n",
       "\\hline\n",
       "\t Cheetah                    & 12.1                       & Carnivora                 \\\\\n",
       "\t Owl monkey                 & 17.0                       & Primates                  \\\\\n",
       "\t Mountain beaver            & 14.4                       & Rodentia                  \\\\\n",
       "\t Greater short-tailed shrew & 14.9                       & Soricomorpha              \\\\\n",
       "\t Cow                        &  4.0                       & Artiodactyla              \\\\\n",
       "\t Three-toed sloth           & 14.4                       & Pilosa                    \\\\\n",
       "\\end{tabular}\n"
      ],
      "text/markdown": [
       "\n",
       "name | sleep_total | order | \n",
       "|---|---|---|---|---|---|\n",
       "| Cheetah                    | 12.1                       | Carnivora                  | \n",
       "| Owl monkey                 | 17.0                       | Primates                   | \n",
       "| Mountain beaver            | 14.4                       | Rodentia                   | \n",
       "| Greater short-tailed shrew | 14.9                       | Soricomorpha               | \n",
       "| Cow                        |  4.0                       | Artiodactyla               | \n",
       "| Three-toed sloth           | 14.4                       | Pilosa                     | \n",
       "\n",
       "\n"
      ],
      "text/plain": [
       "  name                       sleep_total order       \n",
       "1 Cheetah                    12.1        Carnivora   \n",
       "2 Owl monkey                 17.0        Primates    \n",
       "3 Mountain beaver            14.4        Rodentia    \n",
       "4 Greater short-tailed shrew 14.9        Soricomorpha\n",
       "5 Cow                         4.0        Artiodactyla\n",
       "6 Three-toed sloth           14.4        Pilosa      "
      ]
     },
     "metadata": {},
     "output_type": "display_data"
    },
    {
     "data": {
      "text/html": [
       "<table>\n",
       "<thead><tr><th scope=col>name</th><th scope=col>sleep_total</th><th scope=col>order</th></tr></thead>\n",
       "<tbody>\n",
       "\t<tr><td>Cheetah                   </td><td>12.1                      </td><td>Carnivora                 </td></tr>\n",
       "\t<tr><td>Owl monkey                </td><td>17.0                      </td><td>Primates                  </td></tr>\n",
       "\t<tr><td>Mountain beaver           </td><td>14.4                      </td><td>Rodentia                  </td></tr>\n",
       "\t<tr><td>Greater short-tailed shrew</td><td>14.9                      </td><td>Soricomorpha              </td></tr>\n",
       "\t<tr><td>Cow                       </td><td> 4.0                      </td><td>Artiodactyla              </td></tr>\n",
       "\t<tr><td>Three-toed sloth          </td><td>14.4                      </td><td>Pilosa                    </td></tr>\n",
       "</tbody>\n",
       "</table>\n"
      ],
      "text/latex": [
       "\\begin{tabular}{r|lll}\n",
       " name & sleep\\_total & order\\\\\n",
       "\\hline\n",
       "\t Cheetah                    & 12.1                       & Carnivora                 \\\\\n",
       "\t Owl monkey                 & 17.0                       & Primates                  \\\\\n",
       "\t Mountain beaver            & 14.4                       & Rodentia                  \\\\\n",
       "\t Greater short-tailed shrew & 14.9                       & Soricomorpha              \\\\\n",
       "\t Cow                        &  4.0                       & Artiodactyla              \\\\\n",
       "\t Three-toed sloth           & 14.4                       & Pilosa                    \\\\\n",
       "\\end{tabular}\n"
      ],
      "text/markdown": [
       "\n",
       "name | sleep_total | order | \n",
       "|---|---|---|---|---|---|\n",
       "| Cheetah                    | 12.1                       | Carnivora                  | \n",
       "| Owl monkey                 | 17.0                       | Primates                   | \n",
       "| Mountain beaver            | 14.4                       | Rodentia                   | \n",
       "| Greater short-tailed shrew | 14.9                       | Soricomorpha               | \n",
       "| Cow                        |  4.0                       | Artiodactyla               | \n",
       "| Three-toed sloth           | 14.4                       | Pilosa                     | \n",
       "\n",
       "\n"
      ],
      "text/plain": [
       "  name                       sleep_total order       \n",
       "1 Cheetah                    12.1        Carnivora   \n",
       "2 Owl monkey                 17.0        Primates    \n",
       "3 Mountain beaver            14.4        Rodentia    \n",
       "4 Greater short-tailed shrew 14.9        Soricomorpha\n",
       "5 Cow                         4.0        Artiodactyla\n",
       "6 Three-toed sloth           14.4        Pilosa      "
      ]
     },
     "metadata": {},
     "output_type": "display_data"
    }
   ],
   "source": [
    "x=select(msleep, c('name', 'sleep_total', 'order'))\n",
    "head(x)\n",
    "x=select(msleep, 'name', 'sleep_total', 'order')\n",
    "head(x)"
   ]
  },
  {
   "cell_type": "code",
   "execution_count": 31,
   "metadata": {
    "scrolled": false
   },
   "outputs": [
    {
     "data": {
      "text/html": [
       "<table>\n",
       "<thead><tr><th scope=col>genus</th><th scope=col>vore</th><th scope=col>conservation</th><th scope=col>sleep_rem</th><th scope=col>sleep_cycle</th><th scope=col>awake</th><th scope=col>brainwt</th><th scope=col>bodywt</th></tr></thead>\n",
       "<tbody>\n",
       "\t<tr><td>Acinonyx    </td><td>carni       </td><td>lc          </td><td> NA         </td><td>       NA   </td><td>11.9        </td><td>     NA     </td><td> 50.000     </td></tr>\n",
       "\t<tr><td>Aotus       </td><td>omni        </td><td>NA          </td><td>1.8         </td><td>       NA   </td><td> 7.0        </td><td>0.01550     </td><td>  0.480     </td></tr>\n",
       "\t<tr><td>Aplodontia  </td><td>herbi       </td><td>nt          </td><td>2.4         </td><td>       NA   </td><td> 9.6        </td><td>     NA     </td><td>  1.350     </td></tr>\n",
       "\t<tr><td>Blarina     </td><td>omni        </td><td>lc          </td><td>2.3         </td><td>0.1333333   </td><td> 9.1        </td><td>0.00029     </td><td>  0.019     </td></tr>\n",
       "\t<tr><td>Bos         </td><td>herbi       </td><td>domesticated</td><td>0.7         </td><td>0.6666667   </td><td>20.0        </td><td>0.42300     </td><td>600.000     </td></tr>\n",
       "\t<tr><td>Bradypus    </td><td>herbi       </td><td>NA          </td><td>2.2         </td><td>0.7666667   </td><td> 9.6        </td><td>     NA     </td><td>  3.850     </td></tr>\n",
       "</tbody>\n",
       "</table>\n"
      ],
      "text/latex": [
       "\\begin{tabular}{r|llllllll}\n",
       " genus & vore & conservation & sleep\\_rem & sleep\\_cycle & awake & brainwt & bodywt\\\\\n",
       "\\hline\n",
       "\t Acinonyx     & carni        & lc           &  NA          &        NA    & 11.9         &      NA      &  50.000     \\\\\n",
       "\t Aotus        & omni         & NA           & 1.8          &        NA    &  7.0         & 0.01550      &   0.480     \\\\\n",
       "\t Aplodontia   & herbi        & nt           & 2.4          &        NA    &  9.6         &      NA      &   1.350     \\\\\n",
       "\t Blarina      & omni         & lc           & 2.3          & 0.1333333    &  9.1         & 0.00029      &   0.019     \\\\\n",
       "\t Bos          & herbi        & domesticated & 0.7          & 0.6666667    & 20.0         & 0.42300      & 600.000     \\\\\n",
       "\t Bradypus     & herbi        & NA           & 2.2          & 0.7666667    &  9.6         &      NA      &   3.850     \\\\\n",
       "\\end{tabular}\n"
      ],
      "text/markdown": [
       "\n",
       "genus | vore | conservation | sleep_rem | sleep_cycle | awake | brainwt | bodywt | \n",
       "|---|---|---|---|---|---|\n",
       "| Acinonyx     | carni        | lc           |  NA          |        NA    | 11.9         |      NA      |  50.000      | \n",
       "| Aotus        | omni         | NA           | 1.8          |        NA    |  7.0         | 0.01550      |   0.480      | \n",
       "| Aplodontia   | herbi        | nt           | 2.4          |        NA    |  9.6         |      NA      |   1.350      | \n",
       "| Blarina      | omni         | lc           | 2.3          | 0.1333333    |  9.1         | 0.00029      |   0.019      | \n",
       "| Bos          | herbi        | domesticated | 0.7          | 0.6666667    | 20.0         | 0.42300      | 600.000      | \n",
       "| Bradypus     | herbi        | NA           | 2.2          | 0.7666667    |  9.6         |      NA      |   3.850      | \n",
       "\n",
       "\n"
      ],
      "text/plain": [
       "  genus      vore  conservation sleep_rem sleep_cycle awake brainwt bodywt \n",
       "1 Acinonyx   carni lc            NA              NA   11.9       NA  50.000\n",
       "2 Aotus      omni  NA           1.8              NA    7.0  0.01550   0.480\n",
       "3 Aplodontia herbi nt           2.4              NA    9.6       NA   1.350\n",
       "4 Blarina    omni  lc           2.3       0.1333333    9.1  0.00029   0.019\n",
       "5 Bos        herbi domesticated 0.7       0.6666667   20.0  0.42300 600.000\n",
       "6 Bradypus   herbi NA           2.2       0.7666667    9.6       NA   3.850"
      ]
     },
     "metadata": {},
     "output_type": "display_data"
    }
   ],
   "source": [
    "x=select(msleep, -name, -sleep_total, -order)\n",
    "head(x)"
   ]
  },
  {
   "cell_type": "code",
   "execution_count": 32,
   "metadata": {},
   "outputs": [
    {
     "data": {
      "text/html": [
       "<table>\n",
       "<thead><tr><th scope=col>genus</th><th scope=col>vore</th><th scope=col>order</th><th scope=col>conservation</th><th scope=col>sleep_total</th><th scope=col>sleep_rem</th><th scope=col>sleep_cycle</th><th scope=col>awake</th><th scope=col>brainwt</th><th scope=col>bodywt</th></tr></thead>\n",
       "<tbody>\n",
       "\t<tr><td>Acinonyx    </td><td>carni       </td><td>Carnivora   </td><td>lc          </td><td>12.1        </td><td> NA         </td><td>       NA   </td><td>11.9        </td><td>     NA     </td><td> 50.000     </td></tr>\n",
       "\t<tr><td>Aotus       </td><td>omni        </td><td>Primates    </td><td>NA          </td><td>17.0        </td><td>1.8         </td><td>       NA   </td><td> 7.0        </td><td>0.01550     </td><td>  0.480     </td></tr>\n",
       "\t<tr><td>Aplodontia  </td><td>herbi       </td><td>Rodentia    </td><td>nt          </td><td>14.4        </td><td>2.4         </td><td>       NA   </td><td> 9.6        </td><td>     NA     </td><td>  1.350     </td></tr>\n",
       "\t<tr><td>Blarina     </td><td>omni        </td><td>Soricomorpha</td><td>lc          </td><td>14.9        </td><td>2.3         </td><td>0.1333333   </td><td> 9.1        </td><td>0.00029     </td><td>  0.019     </td></tr>\n",
       "\t<tr><td>Bos         </td><td>herbi       </td><td>Artiodactyla</td><td>domesticated</td><td> 4.0        </td><td>0.7         </td><td>0.6666667   </td><td>20.0        </td><td>0.42300     </td><td>600.000     </td></tr>\n",
       "\t<tr><td>Bradypus    </td><td>herbi       </td><td>Pilosa      </td><td>NA          </td><td>14.4        </td><td>2.2         </td><td>0.7666667   </td><td> 9.6        </td><td>     NA     </td><td>  3.850     </td></tr>\n",
       "</tbody>\n",
       "</table>\n"
      ],
      "text/latex": [
       "\\begin{tabular}{r|llllllllll}\n",
       " genus & vore & order & conservation & sleep\\_total & sleep\\_rem & sleep\\_cycle & awake & brainwt & bodywt\\\\\n",
       "\\hline\n",
       "\t Acinonyx     & carni        & Carnivora    & lc           & 12.1         &  NA          &        NA    & 11.9         &      NA      &  50.000     \\\\\n",
       "\t Aotus        & omni         & Primates     & NA           & 17.0         & 1.8          &        NA    &  7.0         & 0.01550      &   0.480     \\\\\n",
       "\t Aplodontia   & herbi        & Rodentia     & nt           & 14.4         & 2.4          &        NA    &  9.6         &      NA      &   1.350     \\\\\n",
       "\t Blarina      & omni         & Soricomorpha & lc           & 14.9         & 2.3          & 0.1333333    &  9.1         & 0.00029      &   0.019     \\\\\n",
       "\t Bos          & herbi        & Artiodactyla & domesticated &  4.0         & 0.7          & 0.6666667    & 20.0         & 0.42300      & 600.000     \\\\\n",
       "\t Bradypus     & herbi        & Pilosa       & NA           & 14.4         & 2.2          & 0.7666667    &  9.6         &      NA      &   3.850     \\\\\n",
       "\\end{tabular}\n"
      ],
      "text/markdown": [
       "\n",
       "genus | vore | order | conservation | sleep_total | sleep_rem | sleep_cycle | awake | brainwt | bodywt | \n",
       "|---|---|---|---|---|---|\n",
       "| Acinonyx     | carni        | Carnivora    | lc           | 12.1         |  NA          |        NA    | 11.9         |      NA      |  50.000      | \n",
       "| Aotus        | omni         | Primates     | NA           | 17.0         | 1.8          |        NA    |  7.0         | 0.01550      |   0.480      | \n",
       "| Aplodontia   | herbi        | Rodentia     | nt           | 14.4         | 2.4          |        NA    |  9.6         |      NA      |   1.350      | \n",
       "| Blarina      | omni         | Soricomorpha | lc           | 14.9         | 2.3          | 0.1333333    |  9.1         | 0.00029      |   0.019      | \n",
       "| Bos          | herbi        | Artiodactyla | domesticated |  4.0         | 0.7          | 0.6666667    | 20.0         | 0.42300      | 600.000      | \n",
       "| Bradypus     | herbi        | Pilosa       | NA           | 14.4         | 2.2          | 0.7666667    |  9.6         |      NA      |   3.850      | \n",
       "\n",
       "\n"
      ],
      "text/plain": [
       "  genus      vore  order        conservation sleep_total sleep_rem sleep_cycle\n",
       "1 Acinonyx   carni Carnivora    lc           12.1         NA              NA  \n",
       "2 Aotus      omni  Primates     NA           17.0        1.8              NA  \n",
       "3 Aplodontia herbi Rodentia     nt           14.4        2.4              NA  \n",
       "4 Blarina    omni  Soricomorpha lc           14.9        2.3       0.1333333  \n",
       "5 Bos        herbi Artiodactyla domesticated  4.0        0.7       0.6666667  \n",
       "6 Bradypus   herbi Pilosa       NA           14.4        2.2       0.7666667  \n",
       "  awake brainwt bodywt \n",
       "1 11.9       NA  50.000\n",
       "2  7.0  0.01550   0.480\n",
       "3  9.6       NA   1.350\n",
       "4  9.1  0.00029   0.019\n",
       "5 20.0  0.42300 600.000\n",
       "6  9.6       NA   3.850"
      ]
     },
     "metadata": {},
     "output_type": "display_data"
    },
    {
     "data": {
      "text/html": [
       "<table>\n",
       "<thead><tr><th scope=col>name</th><th scope=col>genus</th><th scope=col>vore</th><th scope=col>order</th><th scope=col>conservation</th><th scope=col>sleep_total</th><th scope=col>sleep_rem</th><th scope=col>sleep_cycle</th><th scope=col>awake</th><th scope=col>brainwt</th><th scope=col>bodywt</th></tr></thead>\n",
       "<tbody>\n",
       "\t<tr><td>Cheetah                   </td><td>Acinonyx                  </td><td>carni                     </td><td>Carnivora                 </td><td>lc                        </td><td>12.1                      </td><td> NA                       </td><td>       NA                 </td><td>11.9                      </td><td>     NA                   </td><td> 50.000                   </td></tr>\n",
       "\t<tr><td>Owl monkey                </td><td>Aotus                     </td><td>omni                      </td><td>Primates                  </td><td>NA                        </td><td>17.0                      </td><td>1.8                       </td><td>       NA                 </td><td> 7.0                      </td><td>0.01550                   </td><td>  0.480                   </td></tr>\n",
       "\t<tr><td>Mountain beaver           </td><td>Aplodontia                </td><td>herbi                     </td><td>Rodentia                  </td><td>nt                        </td><td>14.4                      </td><td>2.4                       </td><td>       NA                 </td><td> 9.6                      </td><td>     NA                   </td><td>  1.350                   </td></tr>\n",
       "\t<tr><td>Greater short-tailed shrew</td><td>Blarina                   </td><td>omni                      </td><td>Soricomorpha              </td><td>lc                        </td><td>14.9                      </td><td>2.3                       </td><td>0.1333333                 </td><td> 9.1                      </td><td>0.00029                   </td><td>  0.019                   </td></tr>\n",
       "\t<tr><td>Cow                       </td><td>Bos                       </td><td>herbi                     </td><td>Artiodactyla              </td><td>domesticated              </td><td> 4.0                      </td><td>0.7                       </td><td>0.6666667                 </td><td>20.0                      </td><td>0.42300                   </td><td>600.000                   </td></tr>\n",
       "\t<tr><td>Three-toed sloth          </td><td>Bradypus                  </td><td>herbi                     </td><td>Pilosa                    </td><td>NA                        </td><td>14.4                      </td><td>2.2                       </td><td>0.7666667                 </td><td> 9.6                      </td><td>     NA                   </td><td>  3.850                   </td></tr>\n",
       "</tbody>\n",
       "</table>\n"
      ],
      "text/latex": [
       "\\begin{tabular}{r|lllllllllll}\n",
       " name & genus & vore & order & conservation & sleep\\_total & sleep\\_rem & sleep\\_cycle & awake & brainwt & bodywt\\\\\n",
       "\\hline\n",
       "\t Cheetah                    & Acinonyx                   & carni                      & Carnivora                  & lc                         & 12.1                       &  NA                        &        NA                  & 11.9                       &      NA                    &  50.000                   \\\\\n",
       "\t Owl monkey                 & Aotus                      & omni                       & Primates                   & NA                         & 17.0                       & 1.8                        &        NA                  &  7.0                       & 0.01550                    &   0.480                   \\\\\n",
       "\t Mountain beaver            & Aplodontia                 & herbi                      & Rodentia                   & nt                         & 14.4                       & 2.4                        &        NA                  &  9.6                       &      NA                    &   1.350                   \\\\\n",
       "\t Greater short-tailed shrew & Blarina                    & omni                       & Soricomorpha               & lc                         & 14.9                       & 2.3                        & 0.1333333                  &  9.1                       & 0.00029                    &   0.019                   \\\\\n",
       "\t Cow                        & Bos                        & herbi                      & Artiodactyla               & domesticated               &  4.0                       & 0.7                        & 0.6666667                  & 20.0                       & 0.42300                    & 600.000                   \\\\\n",
       "\t Three-toed sloth           & Bradypus                   & herbi                      & Pilosa                     & NA                         & 14.4                       & 2.2                        & 0.7666667                  &  9.6                       &      NA                    &   3.850                   \\\\\n",
       "\\end{tabular}\n"
      ],
      "text/markdown": [
       "\n",
       "name | genus | vore | order | conservation | sleep_total | sleep_rem | sleep_cycle | awake | brainwt | bodywt | \n",
       "|---|---|---|---|---|---|\n",
       "| Cheetah                    | Acinonyx                   | carni                      | Carnivora                  | lc                         | 12.1                       |  NA                        |        NA                  | 11.9                       |      NA                    |  50.000                    | \n",
       "| Owl monkey                 | Aotus                      | omni                       | Primates                   | NA                         | 17.0                       | 1.8                        |        NA                  |  7.0                       | 0.01550                    |   0.480                    | \n",
       "| Mountain beaver            | Aplodontia                 | herbi                      | Rodentia                   | nt                         | 14.4                       | 2.4                        |        NA                  |  9.6                       |      NA                    |   1.350                    | \n",
       "| Greater short-tailed shrew | Blarina                    | omni                       | Soricomorpha               | lc                         | 14.9                       | 2.3                        | 0.1333333                  |  9.1                       | 0.00029                    |   0.019                    | \n",
       "| Cow                        | Bos                        | herbi                      | Artiodactyla               | domesticated               |  4.0                       | 0.7                        | 0.6666667                  | 20.0                       | 0.42300                    | 600.000                    | \n",
       "| Three-toed sloth           | Bradypus                   | herbi                      | Pilosa                     | NA                         | 14.4                       | 2.2                        | 0.7666667                  |  9.6                       |      NA                    |   3.850                    | \n",
       "\n",
       "\n"
      ],
      "text/plain": [
       "  name                       genus      vore  order        conservation\n",
       "1 Cheetah                    Acinonyx   carni Carnivora    lc          \n",
       "2 Owl monkey                 Aotus      omni  Primates     NA          \n",
       "3 Mountain beaver            Aplodontia herbi Rodentia     nt          \n",
       "4 Greater short-tailed shrew Blarina    omni  Soricomorpha lc          \n",
       "5 Cow                        Bos        herbi Artiodactyla domesticated\n",
       "6 Three-toed sloth           Bradypus   herbi Pilosa       NA          \n",
       "  sleep_total sleep_rem sleep_cycle awake brainwt bodywt \n",
       "1 12.1         NA              NA   11.9       NA  50.000\n",
       "2 17.0        1.8              NA    7.0  0.01550   0.480\n",
       "3 14.4        2.4              NA    9.6       NA   1.350\n",
       "4 14.9        2.3       0.1333333    9.1  0.00029   0.019\n",
       "5  4.0        0.7       0.6666667   20.0  0.42300 600.000\n",
       "6 14.4        2.2       0.7666667    9.6       NA   3.850"
      ]
     },
     "metadata": {},
     "output_type": "display_data"
    }
   ],
   "source": [
    "x=select(msleep, -name, order)  # don't mix them together\n",
    "head(x)\n",
    "head(msleep)"
   ]
  },
  {
   "cell_type": "code",
   "execution_count": 33,
   "metadata": {
    "scrolled": true
   },
   "outputs": [
    {
     "data": {
      "text/html": [
       "<table>\n",
       "<thead><tr><th scope=col>order</th><th scope=col>conservation</th><th scope=col>sleep_total</th><th scope=col>sleep_rem</th><th scope=col>sleep_cycle</th><th scope=col>awake</th></tr></thead>\n",
       "<tbody>\n",
       "\t<tr><td>Carnivora   </td><td>lc          </td><td>12.1        </td><td> NA         </td><td>       NA   </td><td>11.9        </td></tr>\n",
       "\t<tr><td>Primates    </td><td>NA          </td><td>17.0        </td><td>1.8         </td><td>       NA   </td><td> 7.0        </td></tr>\n",
       "\t<tr><td>Rodentia    </td><td>nt          </td><td>14.4        </td><td>2.4         </td><td>       NA   </td><td> 9.6        </td></tr>\n",
       "\t<tr><td>Soricomorpha</td><td>lc          </td><td>14.9        </td><td>2.3         </td><td>0.1333333   </td><td> 9.1        </td></tr>\n",
       "\t<tr><td>Artiodactyla</td><td>domesticated</td><td> 4.0        </td><td>0.7         </td><td>0.6666667   </td><td>20.0        </td></tr>\n",
       "\t<tr><td>Pilosa      </td><td>NA          </td><td>14.4        </td><td>2.2         </td><td>0.7666667   </td><td> 9.6        </td></tr>\n",
       "</tbody>\n",
       "</table>\n"
      ],
      "text/latex": [
       "\\begin{tabular}{r|llllll}\n",
       " order & conservation & sleep\\_total & sleep\\_rem & sleep\\_cycle & awake\\\\\n",
       "\\hline\n",
       "\t Carnivora    & lc           & 12.1         &  NA          &        NA    & 11.9        \\\\\n",
       "\t Primates     & NA           & 17.0         & 1.8          &        NA    &  7.0        \\\\\n",
       "\t Rodentia     & nt           & 14.4         & 2.4          &        NA    &  9.6        \\\\\n",
       "\t Soricomorpha & lc           & 14.9         & 2.3          & 0.1333333    &  9.1        \\\\\n",
       "\t Artiodactyla & domesticated &  4.0         & 0.7          & 0.6666667    & 20.0        \\\\\n",
       "\t Pilosa       & NA           & 14.4         & 2.2          & 0.7666667    &  9.6        \\\\\n",
       "\\end{tabular}\n"
      ],
      "text/markdown": [
       "\n",
       "order | conservation | sleep_total | sleep_rem | sleep_cycle | awake | \n",
       "|---|---|---|---|---|---|\n",
       "| Carnivora    | lc           | 12.1         |  NA          |        NA    | 11.9         | \n",
       "| Primates     | NA           | 17.0         | 1.8          |        NA    |  7.0         | \n",
       "| Rodentia     | nt           | 14.4         | 2.4          |        NA    |  9.6         | \n",
       "| Soricomorpha | lc           | 14.9         | 2.3          | 0.1333333    |  9.1         | \n",
       "| Artiodactyla | domesticated |  4.0         | 0.7          | 0.6666667    | 20.0         | \n",
       "| Pilosa       | NA           | 14.4         | 2.2          | 0.7666667    |  9.6         | \n",
       "\n",
       "\n"
      ],
      "text/plain": [
       "  order        conservation sleep_total sleep_rem sleep_cycle awake\n",
       "1 Carnivora    lc           12.1         NA              NA   11.9 \n",
       "2 Primates     NA           17.0        1.8              NA    7.0 \n",
       "3 Rodentia     nt           14.4        2.4              NA    9.6 \n",
       "4 Soricomorpha lc           14.9        2.3       0.1333333    9.1 \n",
       "5 Artiodactyla domesticated  4.0        0.7       0.6666667   20.0 \n",
       "6 Pilosa       NA           14.4        2.2       0.7666667    9.6 "
      ]
     },
     "metadata": {},
     "output_type": "display_data"
    }
   ],
   "source": [
    "x=select(msleep, order:awake)\n",
    "head(x)"
   ]
  },
  {
   "cell_type": "code",
   "execution_count": 34,
   "metadata": {
    "scrolled": true
   },
   "outputs": [
    {
     "data": {
      "text/html": [
       "<table>\n",
       "<thead><tr><th scope=col>sleep_total</th><th scope=col>sleep_rem</th><th scope=col>sleep_cycle</th></tr></thead>\n",
       "<tbody>\n",
       "\t<tr><td>12.1     </td><td> NA      </td><td>       NA</td></tr>\n",
       "\t<tr><td>17.0     </td><td>1.8      </td><td>       NA</td></tr>\n",
       "\t<tr><td>14.4     </td><td>2.4      </td><td>       NA</td></tr>\n",
       "\t<tr><td>14.9     </td><td>2.3      </td><td>0.1333333</td></tr>\n",
       "\t<tr><td> 4.0     </td><td>0.7      </td><td>0.6666667</td></tr>\n",
       "\t<tr><td>14.4     </td><td>2.2      </td><td>0.7666667</td></tr>\n",
       "</tbody>\n",
       "</table>\n"
      ],
      "text/latex": [
       "\\begin{tabular}{r|lll}\n",
       " sleep\\_total & sleep\\_rem & sleep\\_cycle\\\\\n",
       "\\hline\n",
       "\t 12.1      &  NA       &        NA\\\\\n",
       "\t 17.0      & 1.8       &        NA\\\\\n",
       "\t 14.4      & 2.4       &        NA\\\\\n",
       "\t 14.9      & 2.3       & 0.1333333\\\\\n",
       "\t  4.0      & 0.7       & 0.6666667\\\\\n",
       "\t 14.4      & 2.2       & 0.7666667\\\\\n",
       "\\end{tabular}\n"
      ],
      "text/markdown": [
       "\n",
       "sleep_total | sleep_rem | sleep_cycle | \n",
       "|---|---|---|---|---|---|\n",
       "| 12.1      |  NA       |        NA | \n",
       "| 17.0      | 1.8       |        NA | \n",
       "| 14.4      | 2.4       |        NA | \n",
       "| 14.9      | 2.3       | 0.1333333 | \n",
       "|  4.0      | 0.7       | 0.6666667 | \n",
       "| 14.4      | 2.2       | 0.7666667 | \n",
       "\n",
       "\n"
      ],
      "text/plain": [
       "  sleep_total sleep_rem sleep_cycle\n",
       "1 12.1         NA              NA  \n",
       "2 17.0        1.8              NA  \n",
       "3 14.4        2.4              NA  \n",
       "4 14.9        2.3       0.1333333  \n",
       "5  4.0        0.7       0.6666667  \n",
       "6 14.4        2.2       0.7666667  "
      ]
     },
     "metadata": {},
     "output_type": "display_data"
    }
   ],
   "source": [
    "x=select(msleep, starts_with(\"sl\"))\n",
    "head(x)"
   ]
  },
  {
   "cell_type": "code",
   "execution_count": 35,
   "metadata": {
    "scrolled": true
   },
   "outputs": [
    {
     "data": {
      "text/html": [
       "<table>\n",
       "<thead><tr><th scope=col>name</th><th scope=col>vore</th><th scope=col>sleep_cycle</th><th scope=col>awake</th></tr></thead>\n",
       "<tbody>\n",
       "\t<tr><td>Cheetah                   </td><td>carni                     </td><td>       NA                 </td><td>11.9                      </td></tr>\n",
       "\t<tr><td>Owl monkey                </td><td>omni                      </td><td>       NA                 </td><td> 7.0                      </td></tr>\n",
       "\t<tr><td>Mountain beaver           </td><td>herbi                     </td><td>       NA                 </td><td> 9.6                      </td></tr>\n",
       "\t<tr><td>Greater short-tailed shrew</td><td>omni                      </td><td>0.1333333                 </td><td> 9.1                      </td></tr>\n",
       "\t<tr><td>Cow                       </td><td>herbi                     </td><td>0.6666667                 </td><td>20.0                      </td></tr>\n",
       "\t<tr><td>Three-toed sloth          </td><td>herbi                     </td><td>0.7666667                 </td><td> 9.6                      </td></tr>\n",
       "</tbody>\n",
       "</table>\n"
      ],
      "text/latex": [
       "\\begin{tabular}{r|llll}\n",
       " name & vore & sleep\\_cycle & awake\\\\\n",
       "\\hline\n",
       "\t Cheetah                    & carni                      &        NA                  & 11.9                      \\\\\n",
       "\t Owl monkey                 & omni                       &        NA                  &  7.0                      \\\\\n",
       "\t Mountain beaver            & herbi                      &        NA                  &  9.6                      \\\\\n",
       "\t Greater short-tailed shrew & omni                       & 0.1333333                  &  9.1                      \\\\\n",
       "\t Cow                        & herbi                      & 0.6666667                  & 20.0                      \\\\\n",
       "\t Three-toed sloth           & herbi                      & 0.7666667                  &  9.6                      \\\\\n",
       "\\end{tabular}\n"
      ],
      "text/markdown": [
       "\n",
       "name | vore | sleep_cycle | awake | \n",
       "|---|---|---|---|---|---|\n",
       "| Cheetah                    | carni                      |        NA                  | 11.9                       | \n",
       "| Owl monkey                 | omni                       |        NA                  |  7.0                       | \n",
       "| Mountain beaver            | herbi                      |        NA                  |  9.6                       | \n",
       "| Greater short-tailed shrew | omni                       | 0.1333333                  |  9.1                       | \n",
       "| Cow                        | herbi                      | 0.6666667                  | 20.0                       | \n",
       "| Three-toed sloth           | herbi                      | 0.7666667                  |  9.6                       | \n",
       "\n",
       "\n"
      ],
      "text/plain": [
       "  name                       vore  sleep_cycle awake\n",
       "1 Cheetah                    carni        NA   11.9 \n",
       "2 Owl monkey                 omni         NA    7.0 \n",
       "3 Mountain beaver            herbi        NA    9.6 \n",
       "4 Greater short-tailed shrew omni  0.1333333    9.1 \n",
       "5 Cow                        herbi 0.6666667   20.0 \n",
       "6 Three-toed sloth           herbi 0.7666667    9.6 "
      ]
     },
     "metadata": {},
     "output_type": "display_data"
    }
   ],
   "source": [
    "x=select(msleep, ends_with(\"e\"))\n",
    "head(x)"
   ]
  },
  {
   "cell_type": "code",
   "execution_count": 36,
   "metadata": {
    "scrolled": true
   },
   "outputs": [
    {
     "data": {
      "text/html": [
       "<table>\n",
       "<thead><tr><th scope=col>sleep_rem</th><th scope=col>sleep_cycle</th></tr></thead>\n",
       "<tbody>\n",
       "\t<tr><td> NA      </td><td>       NA</td></tr>\n",
       "\t<tr><td>1.8      </td><td>       NA</td></tr>\n",
       "\t<tr><td>2.4      </td><td>       NA</td></tr>\n",
       "\t<tr><td>2.3      </td><td>0.1333333</td></tr>\n",
       "\t<tr><td>0.7      </td><td>0.6666667</td></tr>\n",
       "\t<tr><td>2.2      </td><td>0.7666667</td></tr>\n",
       "</tbody>\n",
       "</table>\n"
      ],
      "text/latex": [
       "\\begin{tabular}{r|ll}\n",
       " sleep\\_rem & sleep\\_cycle\\\\\n",
       "\\hline\n",
       "\t  NA       &        NA\\\\\n",
       "\t 1.8       &        NA\\\\\n",
       "\t 2.4       &        NA\\\\\n",
       "\t 2.3       & 0.1333333\\\\\n",
       "\t 0.7       & 0.6666667\\\\\n",
       "\t 2.2       & 0.7666667\\\\\n",
       "\\end{tabular}\n"
      ],
      "text/markdown": [
       "\n",
       "sleep_rem | sleep_cycle | \n",
       "|---|---|---|---|---|---|\n",
       "|  NA       |        NA | \n",
       "| 1.8       |        NA | \n",
       "| 2.4       |        NA | \n",
       "| 2.3       | 0.1333333 | \n",
       "| 0.7       | 0.6666667 | \n",
       "| 2.2       | 0.7666667 | \n",
       "\n",
       "\n"
      ],
      "text/plain": [
       "  sleep_rem sleep_cycle\n",
       "1  NA              NA  \n",
       "2 1.8              NA  \n",
       "3 2.4              NA  \n",
       "4 2.3       0.1333333  \n",
       "5 0.7       0.6666667  \n",
       "6 2.2       0.7666667  "
      ]
     },
     "metadata": {},
     "output_type": "display_data"
    }
   ],
   "source": [
    "x=select(msleep, matches(\"ee.*e\"))  #regular expression\n",
    "# x=select(msleep, matches(\"e.*e\"))  #regular expression\n",
    "head(x)"
   ]
  },
  {
   "cell_type": "code",
   "execution_count": 37,
   "metadata": {
    "scrolled": true
   },
   "outputs": [
    {
     "data": {
      "text/html": [
       "<table>\n",
       "<thead><tr><th scope=col>sleep_total</th><th scope=col>sleep_rem</th><th scope=col>sleep_cycle</th></tr></thead>\n",
       "<tbody>\n",
       "\t<tr><td>12.1     </td><td> NA      </td><td>       NA</td></tr>\n",
       "\t<tr><td>17.0     </td><td>1.8      </td><td>       NA</td></tr>\n",
       "\t<tr><td>14.4     </td><td>2.4      </td><td>       NA</td></tr>\n",
       "\t<tr><td>14.9     </td><td>2.3      </td><td>0.1333333</td></tr>\n",
       "\t<tr><td> 4.0     </td><td>0.7      </td><td>0.6666667</td></tr>\n",
       "\t<tr><td>14.4     </td><td>2.2      </td><td>0.7666667</td></tr>\n",
       "</tbody>\n",
       "</table>\n"
      ],
      "text/latex": [
       "\\begin{tabular}{r|lll}\n",
       " sleep\\_total & sleep\\_rem & sleep\\_cycle\\\\\n",
       "\\hline\n",
       "\t 12.1      &  NA       &        NA\\\\\n",
       "\t 17.0      & 1.8       &        NA\\\\\n",
       "\t 14.4      & 2.4       &        NA\\\\\n",
       "\t 14.9      & 2.3       & 0.1333333\\\\\n",
       "\t  4.0      & 0.7       & 0.6666667\\\\\n",
       "\t 14.4      & 2.2       & 0.7666667\\\\\n",
       "\\end{tabular}\n"
      ],
      "text/markdown": [
       "\n",
       "sleep_total | sleep_rem | sleep_cycle | \n",
       "|---|---|---|---|---|---|\n",
       "| 12.1      |  NA       |        NA | \n",
       "| 17.0      | 1.8       |        NA | \n",
       "| 14.4      | 2.4       |        NA | \n",
       "| 14.9      | 2.3       | 0.1333333 | \n",
       "|  4.0      | 0.7       | 0.6666667 | \n",
       "| 14.4      | 2.2       | 0.7666667 | \n",
       "\n",
       "\n"
      ],
      "text/plain": [
       "  sleep_total sleep_rem sleep_cycle\n",
       "1 12.1         NA              NA  \n",
       "2 17.0        1.8              NA  \n",
       "3 14.4        2.4              NA  \n",
       "4 14.9        2.3       0.1333333  \n",
       "5  4.0        0.7       0.6666667  \n",
       "6 14.4        2.2       0.7666667  "
      ]
     },
     "metadata": {},
     "output_type": "display_data"
    }
   ],
   "source": [
    "x=select(msleep, contains(\"_\")) \n",
    "head(x)"
   ]
  },
  {
   "cell_type": "code",
   "execution_count": 38,
   "metadata": {
    "scrolled": true
   },
   "outputs": [
    {
     "name": "stderr",
     "output_type": "stream",
     "text": [
      "Warning message:\n",
      "\"Unknown columns: `xxx`\""
     ]
    },
    {
     "data": {
      "text/html": [
       "<table>\n",
       "<thead><tr><th scope=col>name</th><th scope=col>order</th></tr></thead>\n",
       "<tbody>\n",
       "\t<tr><td>Cheetah                   </td><td>Carnivora                 </td></tr>\n",
       "\t<tr><td>Owl monkey                </td><td>Primates                  </td></tr>\n",
       "\t<tr><td>Mountain beaver           </td><td>Rodentia                  </td></tr>\n",
       "\t<tr><td>Greater short-tailed shrew</td><td>Soricomorpha              </td></tr>\n",
       "\t<tr><td>Cow                       </td><td>Artiodactyla              </td></tr>\n",
       "\t<tr><td>Three-toed sloth          </td><td>Pilosa                    </td></tr>\n",
       "</tbody>\n",
       "</table>\n"
      ],
      "text/latex": [
       "\\begin{tabular}{r|ll}\n",
       " name & order\\\\\n",
       "\\hline\n",
       "\t Cheetah                    & Carnivora                 \\\\\n",
       "\t Owl monkey                 & Primates                  \\\\\n",
       "\t Mountain beaver            & Rodentia                  \\\\\n",
       "\t Greater short-tailed shrew & Soricomorpha              \\\\\n",
       "\t Cow                        & Artiodactyla              \\\\\n",
       "\t Three-toed sloth           & Pilosa                    \\\\\n",
       "\\end{tabular}\n"
      ],
      "text/markdown": [
       "\n",
       "name | order | \n",
       "|---|---|---|---|---|---|\n",
       "| Cheetah                    | Carnivora                  | \n",
       "| Owl monkey                 | Primates                   | \n",
       "| Mountain beaver            | Rodentia                   | \n",
       "| Greater short-tailed shrew | Soricomorpha               | \n",
       "| Cow                        | Artiodactyla               | \n",
       "| Three-toed sloth           | Pilosa                     | \n",
       "\n",
       "\n"
      ],
      "text/plain": [
       "  name                       order       \n",
       "1 Cheetah                    Carnivora   \n",
       "2 Owl monkey                 Primates    \n",
       "3 Mountain beaver            Rodentia    \n",
       "4 Greater short-tailed shrew Soricomorpha\n",
       "5 Cow                        Artiodactyla\n",
       "6 Three-toed sloth           Pilosa      "
      ]
     },
     "metadata": {},
     "output_type": "display_data"
    }
   ],
   "source": [
    "x=select(msleep, one_of(\"name\", \"order\", \"xxx\")) \n",
    "head(x)"
   ]
  },
  {
   "cell_type": "code",
   "execution_count": 39,
   "metadata": {
    "scrolled": true
   },
   "outputs": [
    {
     "data": {
      "text/html": [
       "'Hadley Wickham &lt;hadley@rstudio.com&gt;'"
      ],
      "text/latex": [
       "'Hadley Wickham <hadley@rstudio.com>'"
      ],
      "text/markdown": [
       "'Hadley Wickham &lt;hadley@rstudio.com&gt;'"
      ],
      "text/plain": [
       "[1] \"Hadley Wickham <hadley@rstudio.com>\""
      ]
     },
     "metadata": {},
     "output_type": "display_data"
    }
   ],
   "source": [
    "maintainer(\"dplyr\")"
   ]
  },
  {
   "cell_type": "code",
   "execution_count": 40,
   "metadata": {
    "scrolled": true
   },
   "outputs": [
    {
     "data": {
      "text/html": [
       "<table>\n",
       "<thead><tr><th></th><th scope=col>mpg</th><th scope=col>cyl</th><th scope=col>disp</th><th scope=col>hp</th><th scope=col>drat</th><th scope=col>wt</th><th scope=col>qsec</th><th scope=col>vs</th><th scope=col>am</th><th scope=col>gear</th><th scope=col>carb</th></tr></thead>\n",
       "<tbody>\n",
       "\t<tr><th scope=row>Mazda RX4</th><td>21.0 </td><td>6    </td><td>160  </td><td>110  </td><td>3.90 </td><td>2.620</td><td>16.46</td><td>0    </td><td>1    </td><td>4    </td><td>4    </td></tr>\n",
       "\t<tr><th scope=row>Mazda RX4 Wag</th><td>21.0 </td><td>6    </td><td>160  </td><td>110  </td><td>3.90 </td><td>2.875</td><td>17.02</td><td>0    </td><td>1    </td><td>4    </td><td>4    </td></tr>\n",
       "\t<tr><th scope=row>Datsun 710</th><td>22.8 </td><td>4    </td><td>108  </td><td> 93  </td><td>3.85 </td><td>2.320</td><td>18.61</td><td>1    </td><td>1    </td><td>4    </td><td>1    </td></tr>\n",
       "\t<tr><th scope=row>Hornet 4 Drive</th><td>21.4 </td><td>6    </td><td>258  </td><td>110  </td><td>3.08 </td><td>3.215</td><td>19.44</td><td>1    </td><td>0    </td><td>3    </td><td>1    </td></tr>\n",
       "\t<tr><th scope=row>Hornet Sportabout</th><td>18.7 </td><td>8    </td><td>360  </td><td>175  </td><td>3.15 </td><td>3.440</td><td>17.02</td><td>0    </td><td>0    </td><td>3    </td><td>2    </td></tr>\n",
       "\t<tr><th scope=row>Valiant</th><td>18.1 </td><td>6    </td><td>225  </td><td>105  </td><td>2.76 </td><td>3.460</td><td>20.22</td><td>1    </td><td>0    </td><td>3    </td><td>1    </td></tr>\n",
       "</tbody>\n",
       "</table>\n"
      ],
      "text/latex": [
       "\\begin{tabular}{r|lllllllllll}\n",
       "  & mpg & cyl & disp & hp & drat & wt & qsec & vs & am & gear & carb\\\\\n",
       "\\hline\n",
       "\tMazda RX4 & 21.0  & 6     & 160   & 110   & 3.90  & 2.620 & 16.46 & 0     & 1     & 4     & 4    \\\\\n",
       "\tMazda RX4 Wag & 21.0  & 6     & 160   & 110   & 3.90  & 2.875 & 17.02 & 0     & 1     & 4     & 4    \\\\\n",
       "\tDatsun 710 & 22.8  & 4     & 108   &  93   & 3.85  & 2.320 & 18.61 & 1     & 1     & 4     & 1    \\\\\n",
       "\tHornet 4 Drive & 21.4  & 6     & 258   & 110   & 3.08  & 3.215 & 19.44 & 1     & 0     & 3     & 1    \\\\\n",
       "\tHornet Sportabout & 18.7  & 8     & 360   & 175   & 3.15  & 3.440 & 17.02 & 0     & 0     & 3     & 2    \\\\\n",
       "\tValiant & 18.1  & 6     & 225   & 105   & 2.76  & 3.460 & 20.22 & 1     & 0     & 3     & 1    \\\\\n",
       "\\end{tabular}\n"
      ],
      "text/markdown": [
       "\n",
       "| <!--/--> | mpg | cyl | disp | hp | drat | wt | qsec | vs | am | gear | carb | \n",
       "|---|---|---|---|---|---|\n",
       "| Mazda RX4 | 21.0  | 6     | 160   | 110   | 3.90  | 2.620 | 16.46 | 0     | 1     | 4     | 4     | \n",
       "| Mazda RX4 Wag | 21.0  | 6     | 160   | 110   | 3.90  | 2.875 | 17.02 | 0     | 1     | 4     | 4     | \n",
       "| Datsun 710 | 22.8  | 4     | 108   |  93   | 3.85  | 2.320 | 18.61 | 1     | 1     | 4     | 1     | \n",
       "| Hornet 4 Drive | 21.4  | 6     | 258   | 110   | 3.08  | 3.215 | 19.44 | 1     | 0     | 3     | 1     | \n",
       "| Hornet Sportabout | 18.7  | 8     | 360   | 175   | 3.15  | 3.440 | 17.02 | 0     | 0     | 3     | 2     | \n",
       "| Valiant | 18.1  | 6     | 225   | 105   | 2.76  | 3.460 | 20.22 | 1     | 0     | 3     | 1     | \n",
       "\n",
       "\n"
      ],
      "text/plain": [
       "                  mpg  cyl disp hp  drat wt    qsec  vs am gear carb\n",
       "Mazda RX4         21.0 6   160  110 3.90 2.620 16.46 0  1  4    4   \n",
       "Mazda RX4 Wag     21.0 6   160  110 3.90 2.875 17.02 0  1  4    4   \n",
       "Datsun 710        22.8 4   108   93 3.85 2.320 18.61 1  1  4    1   \n",
       "Hornet 4 Drive    21.4 6   258  110 3.08 3.215 19.44 1  0  3    1   \n",
       "Hornet Sportabout 18.7 8   360  175 3.15 3.440 17.02 0  0  3    2   \n",
       "Valiant           18.1 6   225  105 2.76 3.460 20.22 1  0  3    1   "
      ]
     },
     "metadata": {},
     "output_type": "display_data"
    }
   ],
   "source": [
    "head(mtcars)"
   ]
  },
  {
   "cell_type": "code",
   "execution_count": 41,
   "metadata": {
    "scrolled": true
   },
   "outputs": [
    {
     "data": {
      "text/html": [
       "<table>\n",
       "<thead><tr><th scope=col>mpg</th><th scope=col>cyl</th><th scope=col>disp</th><th scope=col>hp</th><th scope=col>drat</th><th scope=col>wt</th><th scope=col>qsec</th><th scope=col>vs</th><th scope=col>am</th><th scope=col>gear</th><th scope=col>carb</th></tr></thead>\n",
       "<tbody>\n",
       "\t<tr><td>18.7 </td><td>8    </td><td>360.0</td><td>175  </td><td>3.15 </td><td>3.44 </td><td>17.02</td><td>0    </td><td>0    </td><td>3    </td><td>2    </td></tr>\n",
       "\t<tr><td>14.3 </td><td>8    </td><td>360.0</td><td>245  </td><td>3.21 </td><td>3.57 </td><td>15.84</td><td>0    </td><td>0    </td><td>3    </td><td>4    </td></tr>\n",
       "\t<tr><td>16.4 </td><td>8    </td><td>275.8</td><td>180  </td><td>3.07 </td><td>4.07 </td><td>17.40</td><td>0    </td><td>0    </td><td>3    </td><td>3    </td></tr>\n",
       "\t<tr><td>17.3 </td><td>8    </td><td>275.8</td><td>180  </td><td>3.07 </td><td>3.73 </td><td>17.60</td><td>0    </td><td>0    </td><td>3    </td><td>3    </td></tr>\n",
       "\t<tr><td>15.2 </td><td>8    </td><td>275.8</td><td>180  </td><td>3.07 </td><td>3.78 </td><td>18.00</td><td>0    </td><td>0    </td><td>3    </td><td>3    </td></tr>\n",
       "\t<tr><td>10.4 </td><td>8    </td><td>472.0</td><td>205  </td><td>2.93 </td><td>5.25 </td><td>17.98</td><td>0    </td><td>0    </td><td>3    </td><td>4    </td></tr>\n",
       "</tbody>\n",
       "</table>\n"
      ],
      "text/latex": [
       "\\begin{tabular}{r|lllllllllll}\n",
       " mpg & cyl & disp & hp & drat & wt & qsec & vs & am & gear & carb\\\\\n",
       "\\hline\n",
       "\t 18.7  & 8     & 360.0 & 175   & 3.15  & 3.44  & 17.02 & 0     & 0     & 3     & 2    \\\\\n",
       "\t 14.3  & 8     & 360.0 & 245   & 3.21  & 3.57  & 15.84 & 0     & 0     & 3     & 4    \\\\\n",
       "\t 16.4  & 8     & 275.8 & 180   & 3.07  & 4.07  & 17.40 & 0     & 0     & 3     & 3    \\\\\n",
       "\t 17.3  & 8     & 275.8 & 180   & 3.07  & 3.73  & 17.60 & 0     & 0     & 3     & 3    \\\\\n",
       "\t 15.2  & 8     & 275.8 & 180   & 3.07  & 3.78  & 18.00 & 0     & 0     & 3     & 3    \\\\\n",
       "\t 10.4  & 8     & 472.0 & 205   & 2.93  & 5.25  & 17.98 & 0     & 0     & 3     & 4    \\\\\n",
       "\\end{tabular}\n"
      ],
      "text/markdown": [
       "\n",
       "mpg | cyl | disp | hp | drat | wt | qsec | vs | am | gear | carb | \n",
       "|---|---|---|---|---|---|\n",
       "| 18.7  | 8     | 360.0 | 175   | 3.15  | 3.44  | 17.02 | 0     | 0     | 3     | 2     | \n",
       "| 14.3  | 8     | 360.0 | 245   | 3.21  | 3.57  | 15.84 | 0     | 0     | 3     | 4     | \n",
       "| 16.4  | 8     | 275.8 | 180   | 3.07  | 4.07  | 17.40 | 0     | 0     | 3     | 3     | \n",
       "| 17.3  | 8     | 275.8 | 180   | 3.07  | 3.73  | 17.60 | 0     | 0     | 3     | 3     | \n",
       "| 15.2  | 8     | 275.8 | 180   | 3.07  | 3.78  | 18.00 | 0     | 0     | 3     | 3     | \n",
       "| 10.4  | 8     | 472.0 | 205   | 2.93  | 5.25  | 17.98 | 0     | 0     | 3     | 4     | \n",
       "\n",
       "\n"
      ],
      "text/plain": [
       "  mpg  cyl disp  hp  drat wt   qsec  vs am gear carb\n",
       "1 18.7 8   360.0 175 3.15 3.44 17.02 0  0  3    2   \n",
       "2 14.3 8   360.0 245 3.21 3.57 15.84 0  0  3    4   \n",
       "3 16.4 8   275.8 180 3.07 4.07 17.40 0  0  3    3   \n",
       "4 17.3 8   275.8 180 3.07 3.73 17.60 0  0  3    3   \n",
       "5 15.2 8   275.8 180 3.07 3.78 18.00 0  0  3    3   \n",
       "6 10.4 8   472.0 205 2.93 5.25 17.98 0  0  3    4   "
      ]
     },
     "metadata": {},
     "output_type": "display_data"
    }
   ],
   "source": [
    "head(filter(mtcars, cyl==8))"
   ]
  },
  {
   "cell_type": "code",
   "execution_count": 42,
   "metadata": {
    "scrolled": true
   },
   "outputs": [
    {
     "data": {
      "text/html": [
       "<table>\n",
       "<thead><tr><th scope=col>mpg</th><th scope=col>cyl</th><th scope=col>disp</th><th scope=col>hp</th><th scope=col>drat</th><th scope=col>wt</th><th scope=col>qsec</th><th scope=col>vs</th><th scope=col>am</th><th scope=col>gear</th><th scope=col>carb</th></tr></thead>\n",
       "<tbody>\n",
       "\t<tr><td>21.0 </td><td>6    </td><td>160.0</td><td>110  </td><td>3.90 </td><td>2.620</td><td>16.46</td><td>0    </td><td>1    </td><td>4    </td><td>4    </td></tr>\n",
       "\t<tr><td>21.0 </td><td>6    </td><td>160.0</td><td>110  </td><td>3.90 </td><td>2.875</td><td>17.02</td><td>0    </td><td>1    </td><td>4    </td><td>4    </td></tr>\n",
       "\t<tr><td>22.8 </td><td>4    </td><td>108.0</td><td> 93  </td><td>3.85 </td><td>2.320</td><td>18.61</td><td>1    </td><td>1    </td><td>4    </td><td>1    </td></tr>\n",
       "\t<tr><td>21.4 </td><td>6    </td><td>258.0</td><td>110  </td><td>3.08 </td><td>3.215</td><td>19.44</td><td>1    </td><td>0    </td><td>3    </td><td>1    </td></tr>\n",
       "\t<tr><td>18.1 </td><td>6    </td><td>225.0</td><td>105  </td><td>2.76 </td><td>3.460</td><td>20.22</td><td>1    </td><td>0    </td><td>3    </td><td>1    </td></tr>\n",
       "\t<tr><td>24.4 </td><td>4    </td><td>146.7</td><td> 62  </td><td>3.69 </td><td>3.190</td><td>20.00</td><td>1    </td><td>0    </td><td>4    </td><td>2    </td></tr>\n",
       "</tbody>\n",
       "</table>\n"
      ],
      "text/latex": [
       "\\begin{tabular}{r|lllllllllll}\n",
       " mpg & cyl & disp & hp & drat & wt & qsec & vs & am & gear & carb\\\\\n",
       "\\hline\n",
       "\t 21.0  & 6     & 160.0 & 110   & 3.90  & 2.620 & 16.46 & 0     & 1     & 4     & 4    \\\\\n",
       "\t 21.0  & 6     & 160.0 & 110   & 3.90  & 2.875 & 17.02 & 0     & 1     & 4     & 4    \\\\\n",
       "\t 22.8  & 4     & 108.0 &  93   & 3.85  & 2.320 & 18.61 & 1     & 1     & 4     & 1    \\\\\n",
       "\t 21.4  & 6     & 258.0 & 110   & 3.08  & 3.215 & 19.44 & 1     & 0     & 3     & 1    \\\\\n",
       "\t 18.1  & 6     & 225.0 & 105   & 2.76  & 3.460 & 20.22 & 1     & 0     & 3     & 1    \\\\\n",
       "\t 24.4  & 4     & 146.7 &  62   & 3.69  & 3.190 & 20.00 & 1     & 0     & 4     & 2    \\\\\n",
       "\\end{tabular}\n"
      ],
      "text/markdown": [
       "\n",
       "mpg | cyl | disp | hp | drat | wt | qsec | vs | am | gear | carb | \n",
       "|---|---|---|---|---|---|\n",
       "| 21.0  | 6     | 160.0 | 110   | 3.90  | 2.620 | 16.46 | 0     | 1     | 4     | 4     | \n",
       "| 21.0  | 6     | 160.0 | 110   | 3.90  | 2.875 | 17.02 | 0     | 1     | 4     | 4     | \n",
       "| 22.8  | 4     | 108.0 |  93   | 3.85  | 2.320 | 18.61 | 1     | 1     | 4     | 1     | \n",
       "| 21.4  | 6     | 258.0 | 110   | 3.08  | 3.215 | 19.44 | 1     | 0     | 3     | 1     | \n",
       "| 18.1  | 6     | 225.0 | 105   | 2.76  | 3.460 | 20.22 | 1     | 0     | 3     | 1     | \n",
       "| 24.4  | 4     | 146.7 |  62   | 3.69  | 3.190 | 20.00 | 1     | 0     | 4     | 2     | \n",
       "\n",
       "\n"
      ],
      "text/plain": [
       "  mpg  cyl disp  hp  drat wt    qsec  vs am gear carb\n",
       "1 21.0 6   160.0 110 3.90 2.620 16.46 0  1  4    4   \n",
       "2 21.0 6   160.0 110 3.90 2.875 17.02 0  1  4    4   \n",
       "3 22.8 4   108.0  93 3.85 2.320 18.61 1  1  4    1   \n",
       "4 21.4 6   258.0 110 3.08 3.215 19.44 1  0  3    1   \n",
       "5 18.1 6   225.0 105 2.76 3.460 20.22 1  0  3    1   \n",
       "6 24.4 4   146.7  62 3.69 3.190 20.00 1  0  4    2   "
      ]
     },
     "metadata": {},
     "output_type": "display_data"
    }
   ],
   "source": [
    "head(filter(mtcars, cyl<8))"
   ]
  },
  {
   "cell_type": "code",
   "execution_count": 43,
   "metadata": {
    "scrolled": true
   },
   "outputs": [
    {
     "data": {
      "text/html": [
       "<table>\n",
       "<thead><tr><th scope=col>mpg</th><th scope=col>cyl</th><th scope=col>disp</th><th scope=col>hp</th><th scope=col>drat</th><th scope=col>wt</th><th scope=col>qsec</th><th scope=col>vs</th><th scope=col>am</th><th scope=col>gear</th><th scope=col>carb</th></tr></thead>\n",
       "<tbody>\n",
       "\t<tr><td>22.8 </td><td>4    </td><td>108.0</td><td>93   </td><td>3.85 </td><td>2.320</td><td>18.61</td><td>1    </td><td>1    </td><td>4    </td><td>1    </td></tr>\n",
       "\t<tr><td>24.4 </td><td>4    </td><td>146.7</td><td>62   </td><td>3.69 </td><td>3.190</td><td>20.00</td><td>1    </td><td>0    </td><td>4    </td><td>2    </td></tr>\n",
       "\t<tr><td>22.8 </td><td>4    </td><td>140.8</td><td>95   </td><td>3.92 </td><td>3.150</td><td>22.90</td><td>1    </td><td>0    </td><td>4    </td><td>2    </td></tr>\n",
       "\t<tr><td>32.4 </td><td>4    </td><td> 78.7</td><td>66   </td><td>4.08 </td><td>2.200</td><td>19.47</td><td>1    </td><td>1    </td><td>4    </td><td>1    </td></tr>\n",
       "\t<tr><td>30.4 </td><td>4    </td><td> 75.7</td><td>52   </td><td>4.93 </td><td>1.615</td><td>18.52</td><td>1    </td><td>1    </td><td>4    </td><td>2    </td></tr>\n",
       "\t<tr><td>33.9 </td><td>4    </td><td> 71.1</td><td>65   </td><td>4.22 </td><td>1.835</td><td>19.90</td><td>1    </td><td>1    </td><td>4    </td><td>1    </td></tr>\n",
       "</tbody>\n",
       "</table>\n"
      ],
      "text/latex": [
       "\\begin{tabular}{r|lllllllllll}\n",
       " mpg & cyl & disp & hp & drat & wt & qsec & vs & am & gear & carb\\\\\n",
       "\\hline\n",
       "\t 22.8  & 4     & 108.0 & 93    & 3.85  & 2.320 & 18.61 & 1     & 1     & 4     & 1    \\\\\n",
       "\t 24.4  & 4     & 146.7 & 62    & 3.69  & 3.190 & 20.00 & 1     & 0     & 4     & 2    \\\\\n",
       "\t 22.8  & 4     & 140.8 & 95    & 3.92  & 3.150 & 22.90 & 1     & 0     & 4     & 2    \\\\\n",
       "\t 32.4  & 4     &  78.7 & 66    & 4.08  & 2.200 & 19.47 & 1     & 1     & 4     & 1    \\\\\n",
       "\t 30.4  & 4     &  75.7 & 52    & 4.93  & 1.615 & 18.52 & 1     & 1     & 4     & 2    \\\\\n",
       "\t 33.9  & 4     &  71.1 & 65    & 4.22  & 1.835 & 19.90 & 1     & 1     & 4     & 1    \\\\\n",
       "\\end{tabular}\n"
      ],
      "text/markdown": [
       "\n",
       "mpg | cyl | disp | hp | drat | wt | qsec | vs | am | gear | carb | \n",
       "|---|---|---|---|---|---|\n",
       "| 22.8  | 4     | 108.0 | 93    | 3.85  | 2.320 | 18.61 | 1     | 1     | 4     | 1     | \n",
       "| 24.4  | 4     | 146.7 | 62    | 3.69  | 3.190 | 20.00 | 1     | 0     | 4     | 2     | \n",
       "| 22.8  | 4     | 140.8 | 95    | 3.92  | 3.150 | 22.90 | 1     | 0     | 4     | 2     | \n",
       "| 32.4  | 4     |  78.7 | 66    | 4.08  | 2.200 | 19.47 | 1     | 1     | 4     | 1     | \n",
       "| 30.4  | 4     |  75.7 | 52    | 4.93  | 1.615 | 18.52 | 1     | 1     | 4     | 2     | \n",
       "| 33.9  | 4     |  71.1 | 65    | 4.22  | 1.835 | 19.90 | 1     | 1     | 4     | 1     | \n",
       "\n",
       "\n"
      ],
      "text/plain": [
       "  mpg  cyl disp  hp drat wt    qsec  vs am gear carb\n",
       "1 22.8 4   108.0 93 3.85 2.320 18.61 1  1  4    1   \n",
       "2 24.4 4   146.7 62 3.69 3.190 20.00 1  0  4    2   \n",
       "3 22.8 4   140.8 95 3.92 3.150 22.90 1  0  4    2   \n",
       "4 32.4 4    78.7 66 4.08 2.200 19.47 1  1  4    1   \n",
       "5 30.4 4    75.7 52 4.93 1.615 18.52 1  1  4    2   \n",
       "6 33.9 4    71.1 65 4.22 1.835 19.90 1  1  4    1   "
      ]
     },
     "metadata": {},
     "output_type": "display_data"
    }
   ],
   "source": [
    "head(filter(mtcars, cyl<6 & (vs==1 | am==1)))"
   ]
  },
  {
   "cell_type": "code",
   "execution_count": 44,
   "metadata": {
    "scrolled": true
   },
   "outputs": [
    {
     "data": {
      "text/html": [
       "<table>\n",
       "<thead><tr><th scope=col>mpg</th><th scope=col>cyl</th><th scope=col>disp</th><th scope=col>hp</th><th scope=col>drat</th><th scope=col>wt</th><th scope=col>qsec</th><th scope=col>vs</th><th scope=col>am</th><th scope=col>gear</th><th scope=col>carb</th></tr></thead>\n",
       "<tbody>\n",
       "\t<tr><td>22.8 </td><td>4    </td><td>108.0</td><td> 93  </td><td>3.85 </td><td>2.320</td><td>18.61</td><td>1    </td><td>1    </td><td>4    </td><td>1    </td></tr>\n",
       "\t<tr><td>32.4 </td><td>4    </td><td> 78.7</td><td> 66  </td><td>4.08 </td><td>2.200</td><td>19.47</td><td>1    </td><td>1    </td><td>4    </td><td>1    </td></tr>\n",
       "\t<tr><td>30.4 </td><td>4    </td><td> 75.7</td><td> 52  </td><td>4.93 </td><td>1.615</td><td>18.52</td><td>1    </td><td>1    </td><td>4    </td><td>2    </td></tr>\n",
       "\t<tr><td>33.9 </td><td>4    </td><td> 71.1</td><td> 65  </td><td>4.22 </td><td>1.835</td><td>19.90</td><td>1    </td><td>1    </td><td>4    </td><td>1    </td></tr>\n",
       "\t<tr><td>27.3 </td><td>4    </td><td> 79.0</td><td> 66  </td><td>4.08 </td><td>1.935</td><td>18.90</td><td>1    </td><td>1    </td><td>4    </td><td>1    </td></tr>\n",
       "\t<tr><td>30.4 </td><td>4    </td><td> 95.1</td><td>113  </td><td>3.77 </td><td>1.513</td><td>16.90</td><td>1    </td><td>1    </td><td>5    </td><td>2    </td></tr>\n",
       "</tbody>\n",
       "</table>\n"
      ],
      "text/latex": [
       "\\begin{tabular}{r|lllllllllll}\n",
       " mpg & cyl & disp & hp & drat & wt & qsec & vs & am & gear & carb\\\\\n",
       "\\hline\n",
       "\t 22.8  & 4     & 108.0 &  93   & 3.85  & 2.320 & 18.61 & 1     & 1     & 4     & 1    \\\\\n",
       "\t 32.4  & 4     &  78.7 &  66   & 4.08  & 2.200 & 19.47 & 1     & 1     & 4     & 1    \\\\\n",
       "\t 30.4  & 4     &  75.7 &  52   & 4.93  & 1.615 & 18.52 & 1     & 1     & 4     & 2    \\\\\n",
       "\t 33.9  & 4     &  71.1 &  65   & 4.22  & 1.835 & 19.90 & 1     & 1     & 4     & 1    \\\\\n",
       "\t 27.3  & 4     &  79.0 &  66   & 4.08  & 1.935 & 18.90 & 1     & 1     & 4     & 1    \\\\\n",
       "\t 30.4  & 4     &  95.1 & 113   & 3.77  & 1.513 & 16.90 & 1     & 1     & 5     & 2    \\\\\n",
       "\\end{tabular}\n"
      ],
      "text/markdown": [
       "\n",
       "mpg | cyl | disp | hp | drat | wt | qsec | vs | am | gear | carb | \n",
       "|---|---|---|---|---|---|\n",
       "| 22.8  | 4     | 108.0 |  93   | 3.85  | 2.320 | 18.61 | 1     | 1     | 4     | 1     | \n",
       "| 32.4  | 4     |  78.7 |  66   | 4.08  | 2.200 | 19.47 | 1     | 1     | 4     | 1     | \n",
       "| 30.4  | 4     |  75.7 |  52   | 4.93  | 1.615 | 18.52 | 1     | 1     | 4     | 2     | \n",
       "| 33.9  | 4     |  71.1 |  65   | 4.22  | 1.835 | 19.90 | 1     | 1     | 4     | 1     | \n",
       "| 27.3  | 4     |  79.0 |  66   | 4.08  | 1.935 | 18.90 | 1     | 1     | 4     | 1     | \n",
       "| 30.4  | 4     |  95.1 | 113   | 3.77  | 1.513 | 16.90 | 1     | 1     | 5     | 2     | \n",
       "\n",
       "\n"
      ],
      "text/plain": [
       "  mpg  cyl disp  hp  drat wt    qsec  vs am gear carb\n",
       "1 22.8 4   108.0  93 3.85 2.320 18.61 1  1  4    1   \n",
       "2 32.4 4    78.7  66 4.08 2.200 19.47 1  1  4    1   \n",
       "3 30.4 4    75.7  52 4.93 1.615 18.52 1  1  4    2   \n",
       "4 33.9 4    71.1  65 4.22 1.835 19.90 1  1  4    1   \n",
       "5 27.3 4    79.0  66 4.08 1.935 18.90 1  1  4    1   \n",
       "6 30.4 4    95.1 113 3.77 1.513 16.90 1  1  5    2   "
      ]
     },
     "metadata": {},
     "output_type": "display_data"
    }
   ],
   "source": [
    "head(filter(mtcars, cyl<6, vs==1, am==1)) #equivalent to AND"
   ]
  },
  {
   "cell_type": "code",
   "execution_count": 45,
   "metadata": {
    "scrolled": false
   },
   "outputs": [
    {
     "data": {
      "text/html": [
       "<table>\n",
       "<thead><tr><th scope=col>mpg</th><th scope=col>cyl</th><th scope=col>disp</th><th scope=col>hp</th><th scope=col>drat</th><th scope=col>wt</th><th scope=col>qsec</th><th scope=col>vs</th><th scope=col>am</th><th scope=col>gear</th><th scope=col>carb</th></tr></thead>\n",
       "<tbody>\n",
       "\t<tr><td>21.5 </td><td>4    </td><td>120.1</td><td> 97  </td><td>3.70 </td><td>2.465</td><td>20.01</td><td>1    </td><td>0    </td><td>3    </td><td>1    </td></tr>\n",
       "\t<tr><td>22.8 </td><td>4    </td><td>108.0</td><td> 93  </td><td>3.85 </td><td>2.320</td><td>18.61</td><td>1    </td><td>1    </td><td>4    </td><td>1    </td></tr>\n",
       "\t<tr><td>24.4 </td><td>4    </td><td>146.7</td><td> 62  </td><td>3.69 </td><td>3.190</td><td>20.00</td><td>1    </td><td>0    </td><td>4    </td><td>2    </td></tr>\n",
       "\t<tr><td>22.8 </td><td>4    </td><td>140.8</td><td> 95  </td><td>3.92 </td><td>3.150</td><td>22.90</td><td>1    </td><td>0    </td><td>4    </td><td>2    </td></tr>\n",
       "\t<tr><td>32.4 </td><td>4    </td><td> 78.7</td><td> 66  </td><td>4.08 </td><td>2.200</td><td>19.47</td><td>1    </td><td>1    </td><td>4    </td><td>1    </td></tr>\n",
       "\t<tr><td>30.4 </td><td>4    </td><td> 75.7</td><td> 52  </td><td>4.93 </td><td>1.615</td><td>18.52</td><td>1    </td><td>1    </td><td>4    </td><td>2    </td></tr>\n",
       "\t<tr><td>33.9 </td><td>4    </td><td> 71.1</td><td> 65  </td><td>4.22 </td><td>1.835</td><td>19.90</td><td>1    </td><td>1    </td><td>4    </td><td>1    </td></tr>\n",
       "\t<tr><td>27.3 </td><td>4    </td><td> 79.0</td><td> 66  </td><td>4.08 </td><td>1.935</td><td>18.90</td><td>1    </td><td>1    </td><td>4    </td><td>1    </td></tr>\n",
       "\t<tr><td>21.4 </td><td>4    </td><td>121.0</td><td>109  </td><td>4.11 </td><td>2.780</td><td>18.60</td><td>1    </td><td>1    </td><td>4    </td><td>2    </td></tr>\n",
       "\t<tr><td>26.0 </td><td>4    </td><td>120.3</td><td> 91  </td><td>4.43 </td><td>2.140</td><td>16.70</td><td>0    </td><td>1    </td><td>5    </td><td>2    </td></tr>\n",
       "\t<tr><td>30.4 </td><td>4    </td><td> 95.1</td><td>113  </td><td>3.77 </td><td>1.513</td><td>16.90</td><td>1    </td><td>1    </td><td>5    </td><td>2    </td></tr>\n",
       "\t<tr><td>21.4 </td><td>6    </td><td>258.0</td><td>110  </td><td>3.08 </td><td>3.215</td><td>19.44</td><td>1    </td><td>0    </td><td>3    </td><td>1    </td></tr>\n",
       "\t<tr><td>18.1 </td><td>6    </td><td>225.0</td><td>105  </td><td>2.76 </td><td>3.460</td><td>20.22</td><td>1    </td><td>0    </td><td>3    </td><td>1    </td></tr>\n",
       "\t<tr><td>21.0 </td><td>6    </td><td>160.0</td><td>110  </td><td>3.90 </td><td>2.620</td><td>16.46</td><td>0    </td><td>1    </td><td>4    </td><td>4    </td></tr>\n",
       "\t<tr><td>21.0 </td><td>6    </td><td>160.0</td><td>110  </td><td>3.90 </td><td>2.875</td><td>17.02</td><td>0    </td><td>1    </td><td>4    </td><td>4    </td></tr>\n",
       "\t<tr><td>19.2 </td><td>6    </td><td>167.6</td><td>123  </td><td>3.92 </td><td>3.440</td><td>18.30</td><td>1    </td><td>0    </td><td>4    </td><td>4    </td></tr>\n",
       "\t<tr><td>17.8 </td><td>6    </td><td>167.6</td><td>123  </td><td>3.92 </td><td>3.440</td><td>18.90</td><td>1    </td><td>0    </td><td>4    </td><td>4    </td></tr>\n",
       "\t<tr><td>19.7 </td><td>6    </td><td>145.0</td><td>175  </td><td>3.62 </td><td>2.770</td><td>15.50</td><td>0    </td><td>1    </td><td>5    </td><td>6    </td></tr>\n",
       "\t<tr><td>18.7 </td><td>8    </td><td>360.0</td><td>175  </td><td>3.15 </td><td>3.440</td><td>17.02</td><td>0    </td><td>0    </td><td>3    </td><td>2    </td></tr>\n",
       "\t<tr><td>14.3 </td><td>8    </td><td>360.0</td><td>245  </td><td>3.21 </td><td>3.570</td><td>15.84</td><td>0    </td><td>0    </td><td>3    </td><td>4    </td></tr>\n",
       "\t<tr><td>16.4 </td><td>8    </td><td>275.8</td><td>180  </td><td>3.07 </td><td>4.070</td><td>17.40</td><td>0    </td><td>0    </td><td>3    </td><td>3    </td></tr>\n",
       "\t<tr><td>17.3 </td><td>8    </td><td>275.8</td><td>180  </td><td>3.07 </td><td>3.730</td><td>17.60</td><td>0    </td><td>0    </td><td>3    </td><td>3    </td></tr>\n",
       "\t<tr><td>15.2 </td><td>8    </td><td>275.8</td><td>180  </td><td>3.07 </td><td>3.780</td><td>18.00</td><td>0    </td><td>0    </td><td>3    </td><td>3    </td></tr>\n",
       "\t<tr><td>10.4 </td><td>8    </td><td>472.0</td><td>205  </td><td>2.93 </td><td>5.250</td><td>17.98</td><td>0    </td><td>0    </td><td>3    </td><td>4    </td></tr>\n",
       "\t<tr><td>10.4 </td><td>8    </td><td>460.0</td><td>215  </td><td>3.00 </td><td>5.424</td><td>17.82</td><td>0    </td><td>0    </td><td>3    </td><td>4    </td></tr>\n",
       "\t<tr><td>14.7 </td><td>8    </td><td>440.0</td><td>230  </td><td>3.23 </td><td>5.345</td><td>17.42</td><td>0    </td><td>0    </td><td>3    </td><td>4    </td></tr>\n",
       "\t<tr><td>15.5 </td><td>8    </td><td>318.0</td><td>150  </td><td>2.76 </td><td>3.520</td><td>16.87</td><td>0    </td><td>0    </td><td>3    </td><td>2    </td></tr>\n",
       "\t<tr><td>15.2 </td><td>8    </td><td>304.0</td><td>150  </td><td>3.15 </td><td>3.435</td><td>17.30</td><td>0    </td><td>0    </td><td>3    </td><td>2    </td></tr>\n",
       "\t<tr><td>13.3 </td><td>8    </td><td>350.0</td><td>245  </td><td>3.73 </td><td>3.840</td><td>15.41</td><td>0    </td><td>0    </td><td>3    </td><td>4    </td></tr>\n",
       "\t<tr><td>19.2 </td><td>8    </td><td>400.0</td><td>175  </td><td>3.08 </td><td>3.845</td><td>17.05</td><td>0    </td><td>0    </td><td>3    </td><td>2    </td></tr>\n",
       "\t<tr><td>15.8 </td><td>8    </td><td>351.0</td><td>264  </td><td>4.22 </td><td>3.170</td><td>14.50</td><td>0    </td><td>1    </td><td>5    </td><td>4    </td></tr>\n",
       "\t<tr><td>15.0 </td><td>8    </td><td>301.0</td><td>335  </td><td>3.54 </td><td>3.570</td><td>14.60</td><td>0    </td><td>1    </td><td>5    </td><td>8    </td></tr>\n",
       "</tbody>\n",
       "</table>\n"
      ],
      "text/latex": [
       "\\begin{tabular}{r|lllllllllll}\n",
       " mpg & cyl & disp & hp & drat & wt & qsec & vs & am & gear & carb\\\\\n",
       "\\hline\n",
       "\t 21.5  & 4     & 120.1 &  97   & 3.70  & 2.465 & 20.01 & 1     & 0     & 3     & 1    \\\\\n",
       "\t 22.8  & 4     & 108.0 &  93   & 3.85  & 2.320 & 18.61 & 1     & 1     & 4     & 1    \\\\\n",
       "\t 24.4  & 4     & 146.7 &  62   & 3.69  & 3.190 & 20.00 & 1     & 0     & 4     & 2    \\\\\n",
       "\t 22.8  & 4     & 140.8 &  95   & 3.92  & 3.150 & 22.90 & 1     & 0     & 4     & 2    \\\\\n",
       "\t 32.4  & 4     &  78.7 &  66   & 4.08  & 2.200 & 19.47 & 1     & 1     & 4     & 1    \\\\\n",
       "\t 30.4  & 4     &  75.7 &  52   & 4.93  & 1.615 & 18.52 & 1     & 1     & 4     & 2    \\\\\n",
       "\t 33.9  & 4     &  71.1 &  65   & 4.22  & 1.835 & 19.90 & 1     & 1     & 4     & 1    \\\\\n",
       "\t 27.3  & 4     &  79.0 &  66   & 4.08  & 1.935 & 18.90 & 1     & 1     & 4     & 1    \\\\\n",
       "\t 21.4  & 4     & 121.0 & 109   & 4.11  & 2.780 & 18.60 & 1     & 1     & 4     & 2    \\\\\n",
       "\t 26.0  & 4     & 120.3 &  91   & 4.43  & 2.140 & 16.70 & 0     & 1     & 5     & 2    \\\\\n",
       "\t 30.4  & 4     &  95.1 & 113   & 3.77  & 1.513 & 16.90 & 1     & 1     & 5     & 2    \\\\\n",
       "\t 21.4  & 6     & 258.0 & 110   & 3.08  & 3.215 & 19.44 & 1     & 0     & 3     & 1    \\\\\n",
       "\t 18.1  & 6     & 225.0 & 105   & 2.76  & 3.460 & 20.22 & 1     & 0     & 3     & 1    \\\\\n",
       "\t 21.0  & 6     & 160.0 & 110   & 3.90  & 2.620 & 16.46 & 0     & 1     & 4     & 4    \\\\\n",
       "\t 21.0  & 6     & 160.0 & 110   & 3.90  & 2.875 & 17.02 & 0     & 1     & 4     & 4    \\\\\n",
       "\t 19.2  & 6     & 167.6 & 123   & 3.92  & 3.440 & 18.30 & 1     & 0     & 4     & 4    \\\\\n",
       "\t 17.8  & 6     & 167.6 & 123   & 3.92  & 3.440 & 18.90 & 1     & 0     & 4     & 4    \\\\\n",
       "\t 19.7  & 6     & 145.0 & 175   & 3.62  & 2.770 & 15.50 & 0     & 1     & 5     & 6    \\\\\n",
       "\t 18.7  & 8     & 360.0 & 175   & 3.15  & 3.440 & 17.02 & 0     & 0     & 3     & 2    \\\\\n",
       "\t 14.3  & 8     & 360.0 & 245   & 3.21  & 3.570 & 15.84 & 0     & 0     & 3     & 4    \\\\\n",
       "\t 16.4  & 8     & 275.8 & 180   & 3.07  & 4.070 & 17.40 & 0     & 0     & 3     & 3    \\\\\n",
       "\t 17.3  & 8     & 275.8 & 180   & 3.07  & 3.730 & 17.60 & 0     & 0     & 3     & 3    \\\\\n",
       "\t 15.2  & 8     & 275.8 & 180   & 3.07  & 3.780 & 18.00 & 0     & 0     & 3     & 3    \\\\\n",
       "\t 10.4  & 8     & 472.0 & 205   & 2.93  & 5.250 & 17.98 & 0     & 0     & 3     & 4    \\\\\n",
       "\t 10.4  & 8     & 460.0 & 215   & 3.00  & 5.424 & 17.82 & 0     & 0     & 3     & 4    \\\\\n",
       "\t 14.7  & 8     & 440.0 & 230   & 3.23  & 5.345 & 17.42 & 0     & 0     & 3     & 4    \\\\\n",
       "\t 15.5  & 8     & 318.0 & 150   & 2.76  & 3.520 & 16.87 & 0     & 0     & 3     & 2    \\\\\n",
       "\t 15.2  & 8     & 304.0 & 150   & 3.15  & 3.435 & 17.30 & 0     & 0     & 3     & 2    \\\\\n",
       "\t 13.3  & 8     & 350.0 & 245   & 3.73  & 3.840 & 15.41 & 0     & 0     & 3     & 4    \\\\\n",
       "\t 19.2  & 8     & 400.0 & 175   & 3.08  & 3.845 & 17.05 & 0     & 0     & 3     & 2    \\\\\n",
       "\t 15.8  & 8     & 351.0 & 264   & 4.22  & 3.170 & 14.50 & 0     & 1     & 5     & 4    \\\\\n",
       "\t 15.0  & 8     & 301.0 & 335   & 3.54  & 3.570 & 14.60 & 0     & 1     & 5     & 8    \\\\\n",
       "\\end{tabular}\n"
      ],
      "text/markdown": [
       "\n",
       "mpg | cyl | disp | hp | drat | wt | qsec | vs | am | gear | carb | \n",
       "|---|---|---|---|---|---|---|---|---|---|---|---|---|---|---|---|---|---|---|---|---|---|---|---|---|---|---|---|---|---|---|---|\n",
       "| 21.5  | 4     | 120.1 |  97   | 3.70  | 2.465 | 20.01 | 1     | 0     | 3     | 1     | \n",
       "| 22.8  | 4     | 108.0 |  93   | 3.85  | 2.320 | 18.61 | 1     | 1     | 4     | 1     | \n",
       "| 24.4  | 4     | 146.7 |  62   | 3.69  | 3.190 | 20.00 | 1     | 0     | 4     | 2     | \n",
       "| 22.8  | 4     | 140.8 |  95   | 3.92  | 3.150 | 22.90 | 1     | 0     | 4     | 2     | \n",
       "| 32.4  | 4     |  78.7 |  66   | 4.08  | 2.200 | 19.47 | 1     | 1     | 4     | 1     | \n",
       "| 30.4  | 4     |  75.7 |  52   | 4.93  | 1.615 | 18.52 | 1     | 1     | 4     | 2     | \n",
       "| 33.9  | 4     |  71.1 |  65   | 4.22  | 1.835 | 19.90 | 1     | 1     | 4     | 1     | \n",
       "| 27.3  | 4     |  79.0 |  66   | 4.08  | 1.935 | 18.90 | 1     | 1     | 4     | 1     | \n",
       "| 21.4  | 4     | 121.0 | 109   | 4.11  | 2.780 | 18.60 | 1     | 1     | 4     | 2     | \n",
       "| 26.0  | 4     | 120.3 |  91   | 4.43  | 2.140 | 16.70 | 0     | 1     | 5     | 2     | \n",
       "| 30.4  | 4     |  95.1 | 113   | 3.77  | 1.513 | 16.90 | 1     | 1     | 5     | 2     | \n",
       "| 21.4  | 6     | 258.0 | 110   | 3.08  | 3.215 | 19.44 | 1     | 0     | 3     | 1     | \n",
       "| 18.1  | 6     | 225.0 | 105   | 2.76  | 3.460 | 20.22 | 1     | 0     | 3     | 1     | \n",
       "| 21.0  | 6     | 160.0 | 110   | 3.90  | 2.620 | 16.46 | 0     | 1     | 4     | 4     | \n",
       "| 21.0  | 6     | 160.0 | 110   | 3.90  | 2.875 | 17.02 | 0     | 1     | 4     | 4     | \n",
       "| 19.2  | 6     | 167.6 | 123   | 3.92  | 3.440 | 18.30 | 1     | 0     | 4     | 4     | \n",
       "| 17.8  | 6     | 167.6 | 123   | 3.92  | 3.440 | 18.90 | 1     | 0     | 4     | 4     | \n",
       "| 19.7  | 6     | 145.0 | 175   | 3.62  | 2.770 | 15.50 | 0     | 1     | 5     | 6     | \n",
       "| 18.7  | 8     | 360.0 | 175   | 3.15  | 3.440 | 17.02 | 0     | 0     | 3     | 2     | \n",
       "| 14.3  | 8     | 360.0 | 245   | 3.21  | 3.570 | 15.84 | 0     | 0     | 3     | 4     | \n",
       "| 16.4  | 8     | 275.8 | 180   | 3.07  | 4.070 | 17.40 | 0     | 0     | 3     | 3     | \n",
       "| 17.3  | 8     | 275.8 | 180   | 3.07  | 3.730 | 17.60 | 0     | 0     | 3     | 3     | \n",
       "| 15.2  | 8     | 275.8 | 180   | 3.07  | 3.780 | 18.00 | 0     | 0     | 3     | 3     | \n",
       "| 10.4  | 8     | 472.0 | 205   | 2.93  | 5.250 | 17.98 | 0     | 0     | 3     | 4     | \n",
       "| 10.4  | 8     | 460.0 | 215   | 3.00  | 5.424 | 17.82 | 0     | 0     | 3     | 4     | \n",
       "| 14.7  | 8     | 440.0 | 230   | 3.23  | 5.345 | 17.42 | 0     | 0     | 3     | 4     | \n",
       "| 15.5  | 8     | 318.0 | 150   | 2.76  | 3.520 | 16.87 | 0     | 0     | 3     | 2     | \n",
       "| 15.2  | 8     | 304.0 | 150   | 3.15  | 3.435 | 17.30 | 0     | 0     | 3     | 2     | \n",
       "| 13.3  | 8     | 350.0 | 245   | 3.73  | 3.840 | 15.41 | 0     | 0     | 3     | 4     | \n",
       "| 19.2  | 8     | 400.0 | 175   | 3.08  | 3.845 | 17.05 | 0     | 0     | 3     | 2     | \n",
       "| 15.8  | 8     | 351.0 | 264   | 4.22  | 3.170 | 14.50 | 0     | 1     | 5     | 4     | \n",
       "| 15.0  | 8     | 301.0 | 335   | 3.54  | 3.570 | 14.60 | 0     | 1     | 5     | 8     | \n",
       "\n",
       "\n"
      ],
      "text/plain": [
       "   mpg  cyl disp  hp  drat wt    qsec  vs am gear carb\n",
       "1  21.5 4   120.1  97 3.70 2.465 20.01 1  0  3    1   \n",
       "2  22.8 4   108.0  93 3.85 2.320 18.61 1  1  4    1   \n",
       "3  24.4 4   146.7  62 3.69 3.190 20.00 1  0  4    2   \n",
       "4  22.8 4   140.8  95 3.92 3.150 22.90 1  0  4    2   \n",
       "5  32.4 4    78.7  66 4.08 2.200 19.47 1  1  4    1   \n",
       "6  30.4 4    75.7  52 4.93 1.615 18.52 1  1  4    2   \n",
       "7  33.9 4    71.1  65 4.22 1.835 19.90 1  1  4    1   \n",
       "8  27.3 4    79.0  66 4.08 1.935 18.90 1  1  4    1   \n",
       "9  21.4 4   121.0 109 4.11 2.780 18.60 1  1  4    2   \n",
       "10 26.0 4   120.3  91 4.43 2.140 16.70 0  1  5    2   \n",
       "11 30.4 4    95.1 113 3.77 1.513 16.90 1  1  5    2   \n",
       "12 21.4 6   258.0 110 3.08 3.215 19.44 1  0  3    1   \n",
       "13 18.1 6   225.0 105 2.76 3.460 20.22 1  0  3    1   \n",
       "14 21.0 6   160.0 110 3.90 2.620 16.46 0  1  4    4   \n",
       "15 21.0 6   160.0 110 3.90 2.875 17.02 0  1  4    4   \n",
       "16 19.2 6   167.6 123 3.92 3.440 18.30 1  0  4    4   \n",
       "17 17.8 6   167.6 123 3.92 3.440 18.90 1  0  4    4   \n",
       "18 19.7 6   145.0 175 3.62 2.770 15.50 0  1  5    6   \n",
       "19 18.7 8   360.0 175 3.15 3.440 17.02 0  0  3    2   \n",
       "20 14.3 8   360.0 245 3.21 3.570 15.84 0  0  3    4   \n",
       "21 16.4 8   275.8 180 3.07 4.070 17.40 0  0  3    3   \n",
       "22 17.3 8   275.8 180 3.07 3.730 17.60 0  0  3    3   \n",
       "23 15.2 8   275.8 180 3.07 3.780 18.00 0  0  3    3   \n",
       "24 10.4 8   472.0 205 2.93 5.250 17.98 0  0  3    4   \n",
       "25 10.4 8   460.0 215 3.00 5.424 17.82 0  0  3    4   \n",
       "26 14.7 8   440.0 230 3.23 5.345 17.42 0  0  3    4   \n",
       "27 15.5 8   318.0 150 2.76 3.520 16.87 0  0  3    2   \n",
       "28 15.2 8   304.0 150 3.15 3.435 17.30 0  0  3    2   \n",
       "29 13.3 8   350.0 245 3.73 3.840 15.41 0  0  3    4   \n",
       "30 19.2 8   400.0 175 3.08 3.845 17.05 0  0  3    2   \n",
       "31 15.8 8   351.0 264 4.22 3.170 14.50 0  1  5    4   \n",
       "32 15.0 8   301.0 335 3.54 3.570 14.60 0  1  5    8   "
      ]
     },
     "metadata": {},
     "output_type": "display_data"
    }
   ],
   "source": [
    "x=arrange(mtcars, cyl, gear)\n",
    "x"
   ]
  },
  {
   "cell_type": "code",
   "execution_count": 46,
   "metadata": {
    "scrolled": true
   },
   "outputs": [
    {
     "data": {
      "text/html": [
       "<table>\n",
       "<thead><tr><th scope=col>cyl</th><th scope=col>vs</th><th scope=col>am</th></tr></thead>\n",
       "<tbody>\n",
       "\t<tr><td>4</td><td>0</td><td>1</td></tr>\n",
       "\t<tr><td>4</td><td>1</td><td>1</td></tr>\n",
       "\t<tr><td>4</td><td>1</td><td>0</td></tr>\n",
       "\t<tr><td>4</td><td>1</td><td>0</td></tr>\n",
       "\t<tr><td>4</td><td>1</td><td>1</td></tr>\n",
       "\t<tr><td>4</td><td>1</td><td>1</td></tr>\n",
       "\t<tr><td>4</td><td>1</td><td>1</td></tr>\n",
       "\t<tr><td>4</td><td>1</td><td>0</td></tr>\n",
       "\t<tr><td>4</td><td>1</td><td>1</td></tr>\n",
       "\t<tr><td>4</td><td>1</td><td>1</td></tr>\n",
       "\t<tr><td>4</td><td>1</td><td>1</td></tr>\n",
       "\t<tr><td>6</td><td>0</td><td>1</td></tr>\n",
       "\t<tr><td>6</td><td>0</td><td>1</td></tr>\n",
       "\t<tr><td>6</td><td>0</td><td>1</td></tr>\n",
       "\t<tr><td>6</td><td>1</td><td>0</td></tr>\n",
       "\t<tr><td>6</td><td>1</td><td>0</td></tr>\n",
       "\t<tr><td>6</td><td>1</td><td>0</td></tr>\n",
       "\t<tr><td>6</td><td>1</td><td>0</td></tr>\n",
       "\t<tr><td>8</td><td>0</td><td>0</td></tr>\n",
       "\t<tr><td>8</td><td>0</td><td>0</td></tr>\n",
       "\t<tr><td>8</td><td>0</td><td>0</td></tr>\n",
       "\t<tr><td>8</td><td>0</td><td>0</td></tr>\n",
       "\t<tr><td>8</td><td>0</td><td>0</td></tr>\n",
       "\t<tr><td>8</td><td>0</td><td>0</td></tr>\n",
       "\t<tr><td>8</td><td>0</td><td>0</td></tr>\n",
       "\t<tr><td>8</td><td>0</td><td>0</td></tr>\n",
       "\t<tr><td>8</td><td>0</td><td>0</td></tr>\n",
       "\t<tr><td>8</td><td>0</td><td>0</td></tr>\n",
       "\t<tr><td>8</td><td>0</td><td>0</td></tr>\n",
       "\t<tr><td>8</td><td>0</td><td>0</td></tr>\n",
       "\t<tr><td>8</td><td>0</td><td>1</td></tr>\n",
       "\t<tr><td>8</td><td>0</td><td>1</td></tr>\n",
       "</tbody>\n",
       "</table>\n"
      ],
      "text/latex": [
       "\\begin{tabular}{r|lll}\n",
       " cyl & vs & am\\\\\n",
       "\\hline\n",
       "\t 4 & 0 & 1\\\\\n",
       "\t 4 & 1 & 1\\\\\n",
       "\t 4 & 1 & 0\\\\\n",
       "\t 4 & 1 & 0\\\\\n",
       "\t 4 & 1 & 1\\\\\n",
       "\t 4 & 1 & 1\\\\\n",
       "\t 4 & 1 & 1\\\\\n",
       "\t 4 & 1 & 0\\\\\n",
       "\t 4 & 1 & 1\\\\\n",
       "\t 4 & 1 & 1\\\\\n",
       "\t 4 & 1 & 1\\\\\n",
       "\t 6 & 0 & 1\\\\\n",
       "\t 6 & 0 & 1\\\\\n",
       "\t 6 & 0 & 1\\\\\n",
       "\t 6 & 1 & 0\\\\\n",
       "\t 6 & 1 & 0\\\\\n",
       "\t 6 & 1 & 0\\\\\n",
       "\t 6 & 1 & 0\\\\\n",
       "\t 8 & 0 & 0\\\\\n",
       "\t 8 & 0 & 0\\\\\n",
       "\t 8 & 0 & 0\\\\\n",
       "\t 8 & 0 & 0\\\\\n",
       "\t 8 & 0 & 0\\\\\n",
       "\t 8 & 0 & 0\\\\\n",
       "\t 8 & 0 & 0\\\\\n",
       "\t 8 & 0 & 0\\\\\n",
       "\t 8 & 0 & 0\\\\\n",
       "\t 8 & 0 & 0\\\\\n",
       "\t 8 & 0 & 0\\\\\n",
       "\t 8 & 0 & 0\\\\\n",
       "\t 8 & 0 & 1\\\\\n",
       "\t 8 & 0 & 1\\\\\n",
       "\\end{tabular}\n"
      ],
      "text/markdown": [
       "\n",
       "cyl | vs | am | \n",
       "|---|---|---|---|---|---|---|---|---|---|---|---|---|---|---|---|---|---|---|---|---|---|---|---|---|---|---|---|---|---|---|---|\n",
       "| 4 | 0 | 1 | \n",
       "| 4 | 1 | 1 | \n",
       "| 4 | 1 | 0 | \n",
       "| 4 | 1 | 0 | \n",
       "| 4 | 1 | 1 | \n",
       "| 4 | 1 | 1 | \n",
       "| 4 | 1 | 1 | \n",
       "| 4 | 1 | 0 | \n",
       "| 4 | 1 | 1 | \n",
       "| 4 | 1 | 1 | \n",
       "| 4 | 1 | 1 | \n",
       "| 6 | 0 | 1 | \n",
       "| 6 | 0 | 1 | \n",
       "| 6 | 0 | 1 | \n",
       "| 6 | 1 | 0 | \n",
       "| 6 | 1 | 0 | \n",
       "| 6 | 1 | 0 | \n",
       "| 6 | 1 | 0 | \n",
       "| 8 | 0 | 0 | \n",
       "| 8 | 0 | 0 | \n",
       "| 8 | 0 | 0 | \n",
       "| 8 | 0 | 0 | \n",
       "| 8 | 0 | 0 | \n",
       "| 8 | 0 | 0 | \n",
       "| 8 | 0 | 0 | \n",
       "| 8 | 0 | 0 | \n",
       "| 8 | 0 | 0 | \n",
       "| 8 | 0 | 0 | \n",
       "| 8 | 0 | 0 | \n",
       "| 8 | 0 | 0 | \n",
       "| 8 | 0 | 1 | \n",
       "| 8 | 0 | 1 | \n",
       "\n",
       "\n"
      ],
      "text/plain": [
       "   cyl vs am\n",
       "1  4   0  1 \n",
       "2  4   1  1 \n",
       "3  4   1  0 \n",
       "4  4   1  0 \n",
       "5  4   1  1 \n",
       "6  4   1  1 \n",
       "7  4   1  1 \n",
       "8  4   1  0 \n",
       "9  4   1  1 \n",
       "10 4   1  1 \n",
       "11 4   1  1 \n",
       "12 6   0  1 \n",
       "13 6   0  1 \n",
       "14 6   0  1 \n",
       "15 6   1  0 \n",
       "16 6   1  0 \n",
       "17 6   1  0 \n",
       "18 6   1  0 \n",
       "19 8   0  0 \n",
       "20 8   0  0 \n",
       "21 8   0  0 \n",
       "22 8   0  0 \n",
       "23 8   0  0 \n",
       "24 8   0  0 \n",
       "25 8   0  0 \n",
       "26 8   0  0 \n",
       "27 8   0  0 \n",
       "28 8   0  0 \n",
       "29 8   0  0 \n",
       "30 8   0  0 \n",
       "31 8   0  1 \n",
       "32 8   0  1 "
      ]
     },
     "metadata": {},
     "output_type": "display_data"
    }
   ],
   "source": [
    "x=select(mtcars, cyl, vs, am)\n",
    "arrange(x, cyl, vs)"
   ]
  },
  {
   "cell_type": "code",
   "execution_count": 47,
   "metadata": {
    "scrolled": true
   },
   "outputs": [
    {
     "data": {
      "text/html": [
       "<table>\n",
       "<thead><tr><th scope=col>cyl</th><th scope=col>vs</th><th scope=col>am</th></tr></thead>\n",
       "<tbody>\n",
       "\t<tr><td>4</td><td>0</td><td>1</td></tr>\n",
       "\t<tr><td>4</td><td>1</td><td>1</td></tr>\n",
       "\t<tr><td>4</td><td>1</td><td>0</td></tr>\n",
       "\t<tr><td>4</td><td>1</td><td>0</td></tr>\n",
       "\t<tr><td>4</td><td>1</td><td>1</td></tr>\n",
       "\t<tr><td>4</td><td>1</td><td>1</td></tr>\n",
       "\t<tr><td>4</td><td>1</td><td>1</td></tr>\n",
       "\t<tr><td>4</td><td>1</td><td>0</td></tr>\n",
       "\t<tr><td>4</td><td>1</td><td>1</td></tr>\n",
       "\t<tr><td>4</td><td>1</td><td>1</td></tr>\n",
       "\t<tr><td>4</td><td>1</td><td>1</td></tr>\n",
       "\t<tr><td>6</td><td>0</td><td>1</td></tr>\n",
       "\t<tr><td>6</td><td>0</td><td>1</td></tr>\n",
       "\t<tr><td>6</td><td>0</td><td>1</td></tr>\n",
       "\t<tr><td>6</td><td>1</td><td>0</td></tr>\n",
       "\t<tr><td>6</td><td>1</td><td>0</td></tr>\n",
       "\t<tr><td>6</td><td>1</td><td>0</td></tr>\n",
       "\t<tr><td>6</td><td>1</td><td>0</td></tr>\n",
       "\t<tr><td>8</td><td>0</td><td>0</td></tr>\n",
       "\t<tr><td>8</td><td>0</td><td>0</td></tr>\n",
       "\t<tr><td>8</td><td>0</td><td>0</td></tr>\n",
       "\t<tr><td>8</td><td>0</td><td>0</td></tr>\n",
       "\t<tr><td>8</td><td>0</td><td>0</td></tr>\n",
       "\t<tr><td>8</td><td>0</td><td>0</td></tr>\n",
       "\t<tr><td>8</td><td>0</td><td>0</td></tr>\n",
       "\t<tr><td>8</td><td>0</td><td>0</td></tr>\n",
       "\t<tr><td>8</td><td>0</td><td>0</td></tr>\n",
       "\t<tr><td>8</td><td>0</td><td>0</td></tr>\n",
       "\t<tr><td>8</td><td>0</td><td>0</td></tr>\n",
       "\t<tr><td>8</td><td>0</td><td>0</td></tr>\n",
       "\t<tr><td>8</td><td>0</td><td>1</td></tr>\n",
       "\t<tr><td>8</td><td>0</td><td>1</td></tr>\n",
       "</tbody>\n",
       "</table>\n"
      ],
      "text/latex": [
       "\\begin{tabular}{r|lll}\n",
       " cyl & vs & am\\\\\n",
       "\\hline\n",
       "\t 4 & 0 & 1\\\\\n",
       "\t 4 & 1 & 1\\\\\n",
       "\t 4 & 1 & 0\\\\\n",
       "\t 4 & 1 & 0\\\\\n",
       "\t 4 & 1 & 1\\\\\n",
       "\t 4 & 1 & 1\\\\\n",
       "\t 4 & 1 & 1\\\\\n",
       "\t 4 & 1 & 0\\\\\n",
       "\t 4 & 1 & 1\\\\\n",
       "\t 4 & 1 & 1\\\\\n",
       "\t 4 & 1 & 1\\\\\n",
       "\t 6 & 0 & 1\\\\\n",
       "\t 6 & 0 & 1\\\\\n",
       "\t 6 & 0 & 1\\\\\n",
       "\t 6 & 1 & 0\\\\\n",
       "\t 6 & 1 & 0\\\\\n",
       "\t 6 & 1 & 0\\\\\n",
       "\t 6 & 1 & 0\\\\\n",
       "\t 8 & 0 & 0\\\\\n",
       "\t 8 & 0 & 0\\\\\n",
       "\t 8 & 0 & 0\\\\\n",
       "\t 8 & 0 & 0\\\\\n",
       "\t 8 & 0 & 0\\\\\n",
       "\t 8 & 0 & 0\\\\\n",
       "\t 8 & 0 & 0\\\\\n",
       "\t 8 & 0 & 0\\\\\n",
       "\t 8 & 0 & 0\\\\\n",
       "\t 8 & 0 & 0\\\\\n",
       "\t 8 & 0 & 0\\\\\n",
       "\t 8 & 0 & 0\\\\\n",
       "\t 8 & 0 & 1\\\\\n",
       "\t 8 & 0 & 1\\\\\n",
       "\\end{tabular}\n"
      ],
      "text/markdown": [
       "\n",
       "cyl | vs | am | \n",
       "|---|---|---|---|---|---|---|---|---|---|---|---|---|---|---|---|---|---|---|---|---|---|---|---|---|---|---|---|---|---|---|---|\n",
       "| 4 | 0 | 1 | \n",
       "| 4 | 1 | 1 | \n",
       "| 4 | 1 | 0 | \n",
       "| 4 | 1 | 0 | \n",
       "| 4 | 1 | 1 | \n",
       "| 4 | 1 | 1 | \n",
       "| 4 | 1 | 1 | \n",
       "| 4 | 1 | 0 | \n",
       "| 4 | 1 | 1 | \n",
       "| 4 | 1 | 1 | \n",
       "| 4 | 1 | 1 | \n",
       "| 6 | 0 | 1 | \n",
       "| 6 | 0 | 1 | \n",
       "| 6 | 0 | 1 | \n",
       "| 6 | 1 | 0 | \n",
       "| 6 | 1 | 0 | \n",
       "| 6 | 1 | 0 | \n",
       "| 6 | 1 | 0 | \n",
       "| 8 | 0 | 0 | \n",
       "| 8 | 0 | 0 | \n",
       "| 8 | 0 | 0 | \n",
       "| 8 | 0 | 0 | \n",
       "| 8 | 0 | 0 | \n",
       "| 8 | 0 | 0 | \n",
       "| 8 | 0 | 0 | \n",
       "| 8 | 0 | 0 | \n",
       "| 8 | 0 | 0 | \n",
       "| 8 | 0 | 0 | \n",
       "| 8 | 0 | 0 | \n",
       "| 8 | 0 | 0 | \n",
       "| 8 | 0 | 1 | \n",
       "| 8 | 0 | 1 | \n",
       "\n",
       "\n"
      ],
      "text/plain": [
       "   cyl vs am\n",
       "1  4   0  1 \n",
       "2  4   1  1 \n",
       "3  4   1  0 \n",
       "4  4   1  0 \n",
       "5  4   1  1 \n",
       "6  4   1  1 \n",
       "7  4   1  1 \n",
       "8  4   1  0 \n",
       "9  4   1  1 \n",
       "10 4   1  1 \n",
       "11 4   1  1 \n",
       "12 6   0  1 \n",
       "13 6   0  1 \n",
       "14 6   0  1 \n",
       "15 6   1  0 \n",
       "16 6   1  0 \n",
       "17 6   1  0 \n",
       "18 6   1  0 \n",
       "19 8   0  0 \n",
       "20 8   0  0 \n",
       "21 8   0  0 \n",
       "22 8   0  0 \n",
       "23 8   0  0 \n",
       "24 8   0  0 \n",
       "25 8   0  0 \n",
       "26 8   0  0 \n",
       "27 8   0  0 \n",
       "28 8   0  0 \n",
       "29 8   0  0 \n",
       "30 8   0  0 \n",
       "31 8   0  1 \n",
       "32 8   0  1 "
      ]
     },
     "metadata": {},
     "output_type": "display_data"
    }
   ],
   "source": [
    "x=select(arrange(x, cyl, vs), cyl, vs, am)\n",
    "x"
   ]
  },
  {
   "cell_type": "code",
   "execution_count": 48,
   "metadata": {
    "scrolled": true
   },
   "outputs": [
    {
     "data": {
      "text/html": [
       "<table>\n",
       "<thead><tr><th scope=col>mpg</th><th scope=col>cyl</th><th scope=col>disp</th><th scope=col>hp</th><th scope=col>drat</th><th scope=col>wt</th><th scope=col>qsec</th><th scope=col>vs</th><th scope=col>am</th><th scope=col>gear</th><th scope=col>carb</th></tr></thead>\n",
       "<tbody>\n",
       "\t<tr><td>19.7 </td><td>6    </td><td>145.0</td><td>175  </td><td>3.62 </td><td>2.770</td><td>15.50</td><td>0    </td><td>1    </td><td>5    </td><td>6    </td></tr>\n",
       "\t<tr><td>15.0 </td><td>8    </td><td>301.0</td><td>335  </td><td>3.54 </td><td>3.570</td><td>14.60</td><td>0    </td><td>1    </td><td>5    </td><td>8    </td></tr>\n",
       "\t<tr><td>21.0 </td><td>6    </td><td>160.0</td><td>110  </td><td>3.90 </td><td>2.620</td><td>16.46</td><td>0    </td><td>1    </td><td>4    </td><td>4    </td></tr>\n",
       "\t<tr><td>21.0 </td><td>6    </td><td>160.0</td><td>110  </td><td>3.90 </td><td>2.875</td><td>17.02</td><td>0    </td><td>1    </td><td>4    </td><td>4    </td></tr>\n",
       "\t<tr><td>14.3 </td><td>8    </td><td>360.0</td><td>245  </td><td>3.21 </td><td>3.570</td><td>15.84</td><td>0    </td><td>0    </td><td>3    </td><td>4    </td></tr>\n",
       "\t<tr><td>19.2 </td><td>6    </td><td>167.6</td><td>123  </td><td>3.92 </td><td>3.440</td><td>18.30</td><td>1    </td><td>0    </td><td>4    </td><td>4    </td></tr>\n",
       "\t<tr><td>17.8 </td><td>6    </td><td>167.6</td><td>123  </td><td>3.92 </td><td>3.440</td><td>18.90</td><td>1    </td><td>0    </td><td>4    </td><td>4    </td></tr>\n",
       "\t<tr><td>10.4 </td><td>8    </td><td>472.0</td><td>205  </td><td>2.93 </td><td>5.250</td><td>17.98</td><td>0    </td><td>0    </td><td>3    </td><td>4    </td></tr>\n",
       "\t<tr><td>10.4 </td><td>8    </td><td>460.0</td><td>215  </td><td>3.00 </td><td>5.424</td><td>17.82</td><td>0    </td><td>0    </td><td>3    </td><td>4    </td></tr>\n",
       "\t<tr><td>14.7 </td><td>8    </td><td>440.0</td><td>230  </td><td>3.23 </td><td>5.345</td><td>17.42</td><td>0    </td><td>0    </td><td>3    </td><td>4    </td></tr>\n",
       "\t<tr><td>13.3 </td><td>8    </td><td>350.0</td><td>245  </td><td>3.73 </td><td>3.840</td><td>15.41</td><td>0    </td><td>0    </td><td>3    </td><td>4    </td></tr>\n",
       "\t<tr><td>24.4 </td><td>4    </td><td>146.7</td><td> 62  </td><td>3.69 </td><td>3.190</td><td>20.00</td><td>1    </td><td>0    </td><td>4    </td><td>2    </td></tr>\n",
       "\t<tr><td>22.8 </td><td>4    </td><td>140.8</td><td> 95  </td><td>3.92 </td><td>3.150</td><td>22.90</td><td>1    </td><td>0    </td><td>4    </td><td>2    </td></tr>\n",
       "\t<tr><td>16.4 </td><td>8    </td><td>275.8</td><td>180  </td><td>3.07 </td><td>4.070</td><td>17.40</td><td>0    </td><td>0    </td><td>3    </td><td>3    </td></tr>\n",
       "\t<tr><td>17.3 </td><td>8    </td><td>275.8</td><td>180  </td><td>3.07 </td><td>3.730</td><td>17.60</td><td>0    </td><td>0    </td><td>3    </td><td>3    </td></tr>\n",
       "\t<tr><td>15.2 </td><td>8    </td><td>275.8</td><td>180  </td><td>3.07 </td><td>3.780</td><td>18.00</td><td>0    </td><td>0    </td><td>3    </td><td>3    </td></tr>\n",
       "\t<tr><td>30.4 </td><td>4    </td><td> 75.7</td><td> 52  </td><td>4.93 </td><td>1.615</td><td>18.52</td><td>1    </td><td>1    </td><td>4    </td><td>2    </td></tr>\n",
       "\t<tr><td>21.4 </td><td>4    </td><td>121.0</td><td>109  </td><td>4.11 </td><td>2.780</td><td>18.60</td><td>1    </td><td>1    </td><td>4    </td><td>2    </td></tr>\n",
       "\t<tr><td>26.0 </td><td>4    </td><td>120.3</td><td> 91  </td><td>4.43 </td><td>2.140</td><td>16.70</td><td>0    </td><td>1    </td><td>5    </td><td>2    </td></tr>\n",
       "\t<tr><td>30.4 </td><td>4    </td><td> 95.1</td><td>113  </td><td>3.77 </td><td>1.513</td><td>16.90</td><td>1    </td><td>1    </td><td>5    </td><td>2    </td></tr>\n",
       "\t<tr><td>15.8 </td><td>8    </td><td>351.0</td><td>264  </td><td>4.22 </td><td>3.170</td><td>14.50</td><td>0    </td><td>1    </td><td>5    </td><td>4    </td></tr>\n",
       "\t<tr><td>18.7 </td><td>8    </td><td>360.0</td><td>175  </td><td>3.15 </td><td>3.440</td><td>17.02</td><td>0    </td><td>0    </td><td>3    </td><td>2    </td></tr>\n",
       "\t<tr><td>21.5 </td><td>4    </td><td>120.1</td><td> 97  </td><td>3.70 </td><td>2.465</td><td>20.01</td><td>1    </td><td>0    </td><td>3    </td><td>1    </td></tr>\n",
       "\t<tr><td>15.5 </td><td>8    </td><td>318.0</td><td>150  </td><td>2.76 </td><td>3.520</td><td>16.87</td><td>0    </td><td>0    </td><td>3    </td><td>2    </td></tr>\n",
       "\t<tr><td>15.2 </td><td>8    </td><td>304.0</td><td>150  </td><td>3.15 </td><td>3.435</td><td>17.30</td><td>0    </td><td>0    </td><td>3    </td><td>2    </td></tr>\n",
       "\t<tr><td>19.2 </td><td>8    </td><td>400.0</td><td>175  </td><td>3.08 </td><td>3.845</td><td>17.05</td><td>0    </td><td>0    </td><td>3    </td><td>2    </td></tr>\n",
       "\t<tr><td>22.8 </td><td>4    </td><td>108.0</td><td> 93  </td><td>3.85 </td><td>2.320</td><td>18.61</td><td>1    </td><td>1    </td><td>4    </td><td>1    </td></tr>\n",
       "\t<tr><td>32.4 </td><td>4    </td><td> 78.7</td><td> 66  </td><td>4.08 </td><td>2.200</td><td>19.47</td><td>1    </td><td>1    </td><td>4    </td><td>1    </td></tr>\n",
       "\t<tr><td>33.9 </td><td>4    </td><td> 71.1</td><td> 65  </td><td>4.22 </td><td>1.835</td><td>19.90</td><td>1    </td><td>1    </td><td>4    </td><td>1    </td></tr>\n",
       "\t<tr><td>27.3 </td><td>4    </td><td> 79.0</td><td> 66  </td><td>4.08 </td><td>1.935</td><td>18.90</td><td>1    </td><td>1    </td><td>4    </td><td>1    </td></tr>\n",
       "\t<tr><td>21.4 </td><td>6    </td><td>258.0</td><td>110  </td><td>3.08 </td><td>3.215</td><td>19.44</td><td>1    </td><td>0    </td><td>3    </td><td>1    </td></tr>\n",
       "\t<tr><td>18.1 </td><td>6    </td><td>225.0</td><td>105  </td><td>2.76 </td><td>3.460</td><td>20.22</td><td>1    </td><td>0    </td><td>3    </td><td>1    </td></tr>\n",
       "</tbody>\n",
       "</table>\n"
      ],
      "text/latex": [
       "\\begin{tabular}{r|lllllllllll}\n",
       " mpg & cyl & disp & hp & drat & wt & qsec & vs & am & gear & carb\\\\\n",
       "\\hline\n",
       "\t 19.7  & 6     & 145.0 & 175   & 3.62  & 2.770 & 15.50 & 0     & 1     & 5     & 6    \\\\\n",
       "\t 15.0  & 8     & 301.0 & 335   & 3.54  & 3.570 & 14.60 & 0     & 1     & 5     & 8    \\\\\n",
       "\t 21.0  & 6     & 160.0 & 110   & 3.90  & 2.620 & 16.46 & 0     & 1     & 4     & 4    \\\\\n",
       "\t 21.0  & 6     & 160.0 & 110   & 3.90  & 2.875 & 17.02 & 0     & 1     & 4     & 4    \\\\\n",
       "\t 14.3  & 8     & 360.0 & 245   & 3.21  & 3.570 & 15.84 & 0     & 0     & 3     & 4    \\\\\n",
       "\t 19.2  & 6     & 167.6 & 123   & 3.92  & 3.440 & 18.30 & 1     & 0     & 4     & 4    \\\\\n",
       "\t 17.8  & 6     & 167.6 & 123   & 3.92  & 3.440 & 18.90 & 1     & 0     & 4     & 4    \\\\\n",
       "\t 10.4  & 8     & 472.0 & 205   & 2.93  & 5.250 & 17.98 & 0     & 0     & 3     & 4    \\\\\n",
       "\t 10.4  & 8     & 460.0 & 215   & 3.00  & 5.424 & 17.82 & 0     & 0     & 3     & 4    \\\\\n",
       "\t 14.7  & 8     & 440.0 & 230   & 3.23  & 5.345 & 17.42 & 0     & 0     & 3     & 4    \\\\\n",
       "\t 13.3  & 8     & 350.0 & 245   & 3.73  & 3.840 & 15.41 & 0     & 0     & 3     & 4    \\\\\n",
       "\t 24.4  & 4     & 146.7 &  62   & 3.69  & 3.190 & 20.00 & 1     & 0     & 4     & 2    \\\\\n",
       "\t 22.8  & 4     & 140.8 &  95   & 3.92  & 3.150 & 22.90 & 1     & 0     & 4     & 2    \\\\\n",
       "\t 16.4  & 8     & 275.8 & 180   & 3.07  & 4.070 & 17.40 & 0     & 0     & 3     & 3    \\\\\n",
       "\t 17.3  & 8     & 275.8 & 180   & 3.07  & 3.730 & 17.60 & 0     & 0     & 3     & 3    \\\\\n",
       "\t 15.2  & 8     & 275.8 & 180   & 3.07  & 3.780 & 18.00 & 0     & 0     & 3     & 3    \\\\\n",
       "\t 30.4  & 4     &  75.7 &  52   & 4.93  & 1.615 & 18.52 & 1     & 1     & 4     & 2    \\\\\n",
       "\t 21.4  & 4     & 121.0 & 109   & 4.11  & 2.780 & 18.60 & 1     & 1     & 4     & 2    \\\\\n",
       "\t 26.0  & 4     & 120.3 &  91   & 4.43  & 2.140 & 16.70 & 0     & 1     & 5     & 2    \\\\\n",
       "\t 30.4  & 4     &  95.1 & 113   & 3.77  & 1.513 & 16.90 & 1     & 1     & 5     & 2    \\\\\n",
       "\t 15.8  & 8     & 351.0 & 264   & 4.22  & 3.170 & 14.50 & 0     & 1     & 5     & 4    \\\\\n",
       "\t 18.7  & 8     & 360.0 & 175   & 3.15  & 3.440 & 17.02 & 0     & 0     & 3     & 2    \\\\\n",
       "\t 21.5  & 4     & 120.1 &  97   & 3.70  & 2.465 & 20.01 & 1     & 0     & 3     & 1    \\\\\n",
       "\t 15.5  & 8     & 318.0 & 150   & 2.76  & 3.520 & 16.87 & 0     & 0     & 3     & 2    \\\\\n",
       "\t 15.2  & 8     & 304.0 & 150   & 3.15  & 3.435 & 17.30 & 0     & 0     & 3     & 2    \\\\\n",
       "\t 19.2  & 8     & 400.0 & 175   & 3.08  & 3.845 & 17.05 & 0     & 0     & 3     & 2    \\\\\n",
       "\t 22.8  & 4     & 108.0 &  93   & 3.85  & 2.320 & 18.61 & 1     & 1     & 4     & 1    \\\\\n",
       "\t 32.4  & 4     &  78.7 &  66   & 4.08  & 2.200 & 19.47 & 1     & 1     & 4     & 1    \\\\\n",
       "\t 33.9  & 4     &  71.1 &  65   & 4.22  & 1.835 & 19.90 & 1     & 1     & 4     & 1    \\\\\n",
       "\t 27.3  & 4     &  79.0 &  66   & 4.08  & 1.935 & 18.90 & 1     & 1     & 4     & 1    \\\\\n",
       "\t 21.4  & 6     & 258.0 & 110   & 3.08  & 3.215 & 19.44 & 1     & 0     & 3     & 1    \\\\\n",
       "\t 18.1  & 6     & 225.0 & 105   & 2.76  & 3.460 & 20.22 & 1     & 0     & 3     & 1    \\\\\n",
       "\\end{tabular}\n"
      ],
      "text/markdown": [
       "\n",
       "mpg | cyl | disp | hp | drat | wt | qsec | vs | am | gear | carb | \n",
       "|---|---|---|---|---|---|---|---|---|---|---|---|---|---|---|---|---|---|---|---|---|---|---|---|---|---|---|---|---|---|---|---|\n",
       "| 19.7  | 6     | 145.0 | 175   | 3.62  | 2.770 | 15.50 | 0     | 1     | 5     | 6     | \n",
       "| 15.0  | 8     | 301.0 | 335   | 3.54  | 3.570 | 14.60 | 0     | 1     | 5     | 8     | \n",
       "| 21.0  | 6     | 160.0 | 110   | 3.90  | 2.620 | 16.46 | 0     | 1     | 4     | 4     | \n",
       "| 21.0  | 6     | 160.0 | 110   | 3.90  | 2.875 | 17.02 | 0     | 1     | 4     | 4     | \n",
       "| 14.3  | 8     | 360.0 | 245   | 3.21  | 3.570 | 15.84 | 0     | 0     | 3     | 4     | \n",
       "| 19.2  | 6     | 167.6 | 123   | 3.92  | 3.440 | 18.30 | 1     | 0     | 4     | 4     | \n",
       "| 17.8  | 6     | 167.6 | 123   | 3.92  | 3.440 | 18.90 | 1     | 0     | 4     | 4     | \n",
       "| 10.4  | 8     | 472.0 | 205   | 2.93  | 5.250 | 17.98 | 0     | 0     | 3     | 4     | \n",
       "| 10.4  | 8     | 460.0 | 215   | 3.00  | 5.424 | 17.82 | 0     | 0     | 3     | 4     | \n",
       "| 14.7  | 8     | 440.0 | 230   | 3.23  | 5.345 | 17.42 | 0     | 0     | 3     | 4     | \n",
       "| 13.3  | 8     | 350.0 | 245   | 3.73  | 3.840 | 15.41 | 0     | 0     | 3     | 4     | \n",
       "| 24.4  | 4     | 146.7 |  62   | 3.69  | 3.190 | 20.00 | 1     | 0     | 4     | 2     | \n",
       "| 22.8  | 4     | 140.8 |  95   | 3.92  | 3.150 | 22.90 | 1     | 0     | 4     | 2     | \n",
       "| 16.4  | 8     | 275.8 | 180   | 3.07  | 4.070 | 17.40 | 0     | 0     | 3     | 3     | \n",
       "| 17.3  | 8     | 275.8 | 180   | 3.07  | 3.730 | 17.60 | 0     | 0     | 3     | 3     | \n",
       "| 15.2  | 8     | 275.8 | 180   | 3.07  | 3.780 | 18.00 | 0     | 0     | 3     | 3     | \n",
       "| 30.4  | 4     |  75.7 |  52   | 4.93  | 1.615 | 18.52 | 1     | 1     | 4     | 2     | \n",
       "| 21.4  | 4     | 121.0 | 109   | 4.11  | 2.780 | 18.60 | 1     | 1     | 4     | 2     | \n",
       "| 26.0  | 4     | 120.3 |  91   | 4.43  | 2.140 | 16.70 | 0     | 1     | 5     | 2     | \n",
       "| 30.4  | 4     |  95.1 | 113   | 3.77  | 1.513 | 16.90 | 1     | 1     | 5     | 2     | \n",
       "| 15.8  | 8     | 351.0 | 264   | 4.22  | 3.170 | 14.50 | 0     | 1     | 5     | 4     | \n",
       "| 18.7  | 8     | 360.0 | 175   | 3.15  | 3.440 | 17.02 | 0     | 0     | 3     | 2     | \n",
       "| 21.5  | 4     | 120.1 |  97   | 3.70  | 2.465 | 20.01 | 1     | 0     | 3     | 1     | \n",
       "| 15.5  | 8     | 318.0 | 150   | 2.76  | 3.520 | 16.87 | 0     | 0     | 3     | 2     | \n",
       "| 15.2  | 8     | 304.0 | 150   | 3.15  | 3.435 | 17.30 | 0     | 0     | 3     | 2     | \n",
       "| 19.2  | 8     | 400.0 | 175   | 3.08  | 3.845 | 17.05 | 0     | 0     | 3     | 2     | \n",
       "| 22.8  | 4     | 108.0 |  93   | 3.85  | 2.320 | 18.61 | 1     | 1     | 4     | 1     | \n",
       "| 32.4  | 4     |  78.7 |  66   | 4.08  | 2.200 | 19.47 | 1     | 1     | 4     | 1     | \n",
       "| 33.9  | 4     |  71.1 |  65   | 4.22  | 1.835 | 19.90 | 1     | 1     | 4     | 1     | \n",
       "| 27.3  | 4     |  79.0 |  66   | 4.08  | 1.935 | 18.90 | 1     | 1     | 4     | 1     | \n",
       "| 21.4  | 6     | 258.0 | 110   | 3.08  | 3.215 | 19.44 | 1     | 0     | 3     | 1     | \n",
       "| 18.1  | 6     | 225.0 | 105   | 2.76  | 3.460 | 20.22 | 1     | 0     | 3     | 1     | \n",
       "\n",
       "\n"
      ],
      "text/plain": [
       "   mpg  cyl disp  hp  drat wt    qsec  vs am gear carb\n",
       "1  19.7 6   145.0 175 3.62 2.770 15.50 0  1  5    6   \n",
       "2  15.0 8   301.0 335 3.54 3.570 14.60 0  1  5    8   \n",
       "3  21.0 6   160.0 110 3.90 2.620 16.46 0  1  4    4   \n",
       "4  21.0 6   160.0 110 3.90 2.875 17.02 0  1  4    4   \n",
       "5  14.3 8   360.0 245 3.21 3.570 15.84 0  0  3    4   \n",
       "6  19.2 6   167.6 123 3.92 3.440 18.30 1  0  4    4   \n",
       "7  17.8 6   167.6 123 3.92 3.440 18.90 1  0  4    4   \n",
       "8  10.4 8   472.0 205 2.93 5.250 17.98 0  0  3    4   \n",
       "9  10.4 8   460.0 215 3.00 5.424 17.82 0  0  3    4   \n",
       "10 14.7 8   440.0 230 3.23 5.345 17.42 0  0  3    4   \n",
       "11 13.3 8   350.0 245 3.73 3.840 15.41 0  0  3    4   \n",
       "12 24.4 4   146.7  62 3.69 3.190 20.00 1  0  4    2   \n",
       "13 22.8 4   140.8  95 3.92 3.150 22.90 1  0  4    2   \n",
       "14 16.4 8   275.8 180 3.07 4.070 17.40 0  0  3    3   \n",
       "15 17.3 8   275.8 180 3.07 3.730 17.60 0  0  3    3   \n",
       "16 15.2 8   275.8 180 3.07 3.780 18.00 0  0  3    3   \n",
       "17 30.4 4    75.7  52 4.93 1.615 18.52 1  1  4    2   \n",
       "18 21.4 4   121.0 109 4.11 2.780 18.60 1  1  4    2   \n",
       "19 26.0 4   120.3  91 4.43 2.140 16.70 0  1  5    2   \n",
       "20 30.4 4    95.1 113 3.77 1.513 16.90 1  1  5    2   \n",
       "21 15.8 8   351.0 264 4.22 3.170 14.50 0  1  5    4   \n",
       "22 18.7 8   360.0 175 3.15 3.440 17.02 0  0  3    2   \n",
       "23 21.5 4   120.1  97 3.70 2.465 20.01 1  0  3    1   \n",
       "24 15.5 8   318.0 150 2.76 3.520 16.87 0  0  3    2   \n",
       "25 15.2 8   304.0 150 3.15 3.435 17.30 0  0  3    2   \n",
       "26 19.2 8   400.0 175 3.08 3.845 17.05 0  0  3    2   \n",
       "27 22.8 4   108.0  93 3.85 2.320 18.61 1  1  4    1   \n",
       "28 32.4 4    78.7  66 4.08 2.200 19.47 1  1  4    1   \n",
       "29 33.9 4    71.1  65 4.22 1.835 19.90 1  1  4    1   \n",
       "30 27.3 4    79.0  66 4.08 1.935 18.90 1  1  4    1   \n",
       "31 21.4 6   258.0 110 3.08 3.215 19.44 1  0  3    1   \n",
       "32 18.1 6   225.0 105 2.76 3.460 20.22 1  0  3    1   "
      ]
     },
     "metadata": {},
     "output_type": "display_data"
    }
   ],
   "source": [
    "x=arrange(mtcars, cyl*gear/carb)\n",
    "x"
   ]
  },
  {
   "cell_type": "code",
   "execution_count": 2,
   "metadata": {},
   "outputs": [
    {
     "ename": "ERROR",
     "evalue": "Error in .helpForCall(topicExpr, parent.frame()): no methods for 'desc' and no documentation for it as a function\n",
     "output_type": "error",
     "traceback": [
      "Error in .helpForCall(topicExpr, parent.frame()): no methods for 'desc' and no documentation for it as a function\nTraceback:\n",
      "1. `?`(desc())",
      "2. .helpForCall(topicExpr, parent.frame())",
      "3. stop(gettextf(\"no methods for %s and no documentation for it as a function\", \n .     sQuote(f)), domain = NA)"
     ]
    }
   ],
   "source": [
    "?desc()"
   ]
  },
  {
   "cell_type": "code",
   "execution_count": 49,
   "metadata": {
    "scrolled": true
   },
   "outputs": [
    {
     "data": {
      "text/html": [
       "<table>\n",
       "<thead><tr><th scope=col>mpg</th><th scope=col>cyl</th><th scope=col>disp</th><th scope=col>hp</th><th scope=col>drat</th><th scope=col>wt</th><th scope=col>qsec</th><th scope=col>vs</th><th scope=col>am</th><th scope=col>gear</th><th scope=col>carb</th></tr></thead>\n",
       "<tbody>\n",
       "\t<tr><td>21.4 </td><td>6    </td><td>258.0</td><td>110  </td><td>3.08 </td><td>3.215</td><td>19.44</td><td>1    </td><td>0    </td><td>3    </td><td>1    </td></tr>\n",
       "\t<tr><td>18.1 </td><td>6    </td><td>225.0</td><td>105  </td><td>2.76 </td><td>3.460</td><td>20.22</td><td>1    </td><td>0    </td><td>3    </td><td>1    </td></tr>\n",
       "\t<tr><td>22.8 </td><td>4    </td><td>108.0</td><td> 93  </td><td>3.85 </td><td>2.320</td><td>18.61</td><td>1    </td><td>1    </td><td>4    </td><td>1    </td></tr>\n",
       "\t<tr><td>32.4 </td><td>4    </td><td> 78.7</td><td> 66  </td><td>4.08 </td><td>2.200</td><td>19.47</td><td>1    </td><td>1    </td><td>4    </td><td>1    </td></tr>\n",
       "\t<tr><td>33.9 </td><td>4    </td><td> 71.1</td><td> 65  </td><td>4.22 </td><td>1.835</td><td>19.90</td><td>1    </td><td>1    </td><td>4    </td><td>1    </td></tr>\n",
       "\t<tr><td>27.3 </td><td>4    </td><td> 79.0</td><td> 66  </td><td>4.08 </td><td>1.935</td><td>18.90</td><td>1    </td><td>1    </td><td>4    </td><td>1    </td></tr>\n",
       "\t<tr><td>18.7 </td><td>8    </td><td>360.0</td><td>175  </td><td>3.15 </td><td>3.440</td><td>17.02</td><td>0    </td><td>0    </td><td>3    </td><td>2    </td></tr>\n",
       "\t<tr><td>21.5 </td><td>4    </td><td>120.1</td><td> 97  </td><td>3.70 </td><td>2.465</td><td>20.01</td><td>1    </td><td>0    </td><td>3    </td><td>1    </td></tr>\n",
       "\t<tr><td>15.5 </td><td>8    </td><td>318.0</td><td>150  </td><td>2.76 </td><td>3.520</td><td>16.87</td><td>0    </td><td>0    </td><td>3    </td><td>2    </td></tr>\n",
       "\t<tr><td>15.2 </td><td>8    </td><td>304.0</td><td>150  </td><td>3.15 </td><td>3.435</td><td>17.30</td><td>0    </td><td>0    </td><td>3    </td><td>2    </td></tr>\n",
       "\t<tr><td>19.2 </td><td>8    </td><td>400.0</td><td>175  </td><td>3.08 </td><td>3.845</td><td>17.05</td><td>0    </td><td>0    </td><td>3    </td><td>2    </td></tr>\n",
       "\t<tr><td>26.0 </td><td>4    </td><td>120.3</td><td> 91  </td><td>4.43 </td><td>2.140</td><td>16.70</td><td>0    </td><td>1    </td><td>5    </td><td>2    </td></tr>\n",
       "\t<tr><td>30.4 </td><td>4    </td><td> 95.1</td><td>113  </td><td>3.77 </td><td>1.513</td><td>16.90</td><td>1    </td><td>1    </td><td>5    </td><td>2    </td></tr>\n",
       "\t<tr><td>15.8 </td><td>8    </td><td>351.0</td><td>264  </td><td>4.22 </td><td>3.170</td><td>14.50</td><td>0    </td><td>1    </td><td>5    </td><td>4    </td></tr>\n",
       "\t<tr><td>24.4 </td><td>4    </td><td>146.7</td><td> 62  </td><td>3.69 </td><td>3.190</td><td>20.00</td><td>1    </td><td>0    </td><td>4    </td><td>2    </td></tr>\n",
       "\t<tr><td>22.8 </td><td>4    </td><td>140.8</td><td> 95  </td><td>3.92 </td><td>3.150</td><td>22.90</td><td>1    </td><td>0    </td><td>4    </td><td>2    </td></tr>\n",
       "\t<tr><td>16.4 </td><td>8    </td><td>275.8</td><td>180  </td><td>3.07 </td><td>4.070</td><td>17.40</td><td>0    </td><td>0    </td><td>3    </td><td>3    </td></tr>\n",
       "\t<tr><td>17.3 </td><td>8    </td><td>275.8</td><td>180  </td><td>3.07 </td><td>3.730</td><td>17.60</td><td>0    </td><td>0    </td><td>3    </td><td>3    </td></tr>\n",
       "\t<tr><td>15.2 </td><td>8    </td><td>275.8</td><td>180  </td><td>3.07 </td><td>3.780</td><td>18.00</td><td>0    </td><td>0    </td><td>3    </td><td>3    </td></tr>\n",
       "\t<tr><td>30.4 </td><td>4    </td><td> 75.7</td><td> 52  </td><td>4.93 </td><td>1.615</td><td>18.52</td><td>1    </td><td>1    </td><td>4    </td><td>2    </td></tr>\n",
       "\t<tr><td>21.4 </td><td>4    </td><td>121.0</td><td>109  </td><td>4.11 </td><td>2.780</td><td>18.60</td><td>1    </td><td>1    </td><td>4    </td><td>2    </td></tr>\n",
       "\t<tr><td>21.0 </td><td>6    </td><td>160.0</td><td>110  </td><td>3.90 </td><td>2.620</td><td>16.46</td><td>0    </td><td>1    </td><td>4    </td><td>4    </td></tr>\n",
       "\t<tr><td>21.0 </td><td>6    </td><td>160.0</td><td>110  </td><td>3.90 </td><td>2.875</td><td>17.02</td><td>0    </td><td>1    </td><td>4    </td><td>4    </td></tr>\n",
       "\t<tr><td>14.3 </td><td>8    </td><td>360.0</td><td>245  </td><td>3.21 </td><td>3.570</td><td>15.84</td><td>0    </td><td>0    </td><td>3    </td><td>4    </td></tr>\n",
       "\t<tr><td>19.2 </td><td>6    </td><td>167.6</td><td>123  </td><td>3.92 </td><td>3.440</td><td>18.30</td><td>1    </td><td>0    </td><td>4    </td><td>4    </td></tr>\n",
       "\t<tr><td>17.8 </td><td>6    </td><td>167.6</td><td>123  </td><td>3.92 </td><td>3.440</td><td>18.90</td><td>1    </td><td>0    </td><td>4    </td><td>4    </td></tr>\n",
       "\t<tr><td>10.4 </td><td>8    </td><td>472.0</td><td>205  </td><td>2.93 </td><td>5.250</td><td>17.98</td><td>0    </td><td>0    </td><td>3    </td><td>4    </td></tr>\n",
       "\t<tr><td>10.4 </td><td>8    </td><td>460.0</td><td>215  </td><td>3.00 </td><td>5.424</td><td>17.82</td><td>0    </td><td>0    </td><td>3    </td><td>4    </td></tr>\n",
       "\t<tr><td>14.7 </td><td>8    </td><td>440.0</td><td>230  </td><td>3.23 </td><td>5.345</td><td>17.42</td><td>0    </td><td>0    </td><td>3    </td><td>4    </td></tr>\n",
       "\t<tr><td>13.3 </td><td>8    </td><td>350.0</td><td>245  </td><td>3.73 </td><td>3.840</td><td>15.41</td><td>0    </td><td>0    </td><td>3    </td><td>4    </td></tr>\n",
       "\t<tr><td>19.7 </td><td>6    </td><td>145.0</td><td>175  </td><td>3.62 </td><td>2.770</td><td>15.50</td><td>0    </td><td>1    </td><td>5    </td><td>6    </td></tr>\n",
       "\t<tr><td>15.0 </td><td>8    </td><td>301.0</td><td>335  </td><td>3.54 </td><td>3.570</td><td>14.60</td><td>0    </td><td>1    </td><td>5    </td><td>8    </td></tr>\n",
       "</tbody>\n",
       "</table>\n"
      ],
      "text/latex": [
       "\\begin{tabular}{r|lllllllllll}\n",
       " mpg & cyl & disp & hp & drat & wt & qsec & vs & am & gear & carb\\\\\n",
       "\\hline\n",
       "\t 21.4  & 6     & 258.0 & 110   & 3.08  & 3.215 & 19.44 & 1     & 0     & 3     & 1    \\\\\n",
       "\t 18.1  & 6     & 225.0 & 105   & 2.76  & 3.460 & 20.22 & 1     & 0     & 3     & 1    \\\\\n",
       "\t 22.8  & 4     & 108.0 &  93   & 3.85  & 2.320 & 18.61 & 1     & 1     & 4     & 1    \\\\\n",
       "\t 32.4  & 4     &  78.7 &  66   & 4.08  & 2.200 & 19.47 & 1     & 1     & 4     & 1    \\\\\n",
       "\t 33.9  & 4     &  71.1 &  65   & 4.22  & 1.835 & 19.90 & 1     & 1     & 4     & 1    \\\\\n",
       "\t 27.3  & 4     &  79.0 &  66   & 4.08  & 1.935 & 18.90 & 1     & 1     & 4     & 1    \\\\\n",
       "\t 18.7  & 8     & 360.0 & 175   & 3.15  & 3.440 & 17.02 & 0     & 0     & 3     & 2    \\\\\n",
       "\t 21.5  & 4     & 120.1 &  97   & 3.70  & 2.465 & 20.01 & 1     & 0     & 3     & 1    \\\\\n",
       "\t 15.5  & 8     & 318.0 & 150   & 2.76  & 3.520 & 16.87 & 0     & 0     & 3     & 2    \\\\\n",
       "\t 15.2  & 8     & 304.0 & 150   & 3.15  & 3.435 & 17.30 & 0     & 0     & 3     & 2    \\\\\n",
       "\t 19.2  & 8     & 400.0 & 175   & 3.08  & 3.845 & 17.05 & 0     & 0     & 3     & 2    \\\\\n",
       "\t 26.0  & 4     & 120.3 &  91   & 4.43  & 2.140 & 16.70 & 0     & 1     & 5     & 2    \\\\\n",
       "\t 30.4  & 4     &  95.1 & 113   & 3.77  & 1.513 & 16.90 & 1     & 1     & 5     & 2    \\\\\n",
       "\t 15.8  & 8     & 351.0 & 264   & 4.22  & 3.170 & 14.50 & 0     & 1     & 5     & 4    \\\\\n",
       "\t 24.4  & 4     & 146.7 &  62   & 3.69  & 3.190 & 20.00 & 1     & 0     & 4     & 2    \\\\\n",
       "\t 22.8  & 4     & 140.8 &  95   & 3.92  & 3.150 & 22.90 & 1     & 0     & 4     & 2    \\\\\n",
       "\t 16.4  & 8     & 275.8 & 180   & 3.07  & 4.070 & 17.40 & 0     & 0     & 3     & 3    \\\\\n",
       "\t 17.3  & 8     & 275.8 & 180   & 3.07  & 3.730 & 17.60 & 0     & 0     & 3     & 3    \\\\\n",
       "\t 15.2  & 8     & 275.8 & 180   & 3.07  & 3.780 & 18.00 & 0     & 0     & 3     & 3    \\\\\n",
       "\t 30.4  & 4     &  75.7 &  52   & 4.93  & 1.615 & 18.52 & 1     & 1     & 4     & 2    \\\\\n",
       "\t 21.4  & 4     & 121.0 & 109   & 4.11  & 2.780 & 18.60 & 1     & 1     & 4     & 2    \\\\\n",
       "\t 21.0  & 6     & 160.0 & 110   & 3.90  & 2.620 & 16.46 & 0     & 1     & 4     & 4    \\\\\n",
       "\t 21.0  & 6     & 160.0 & 110   & 3.90  & 2.875 & 17.02 & 0     & 1     & 4     & 4    \\\\\n",
       "\t 14.3  & 8     & 360.0 & 245   & 3.21  & 3.570 & 15.84 & 0     & 0     & 3     & 4    \\\\\n",
       "\t 19.2  & 6     & 167.6 & 123   & 3.92  & 3.440 & 18.30 & 1     & 0     & 4     & 4    \\\\\n",
       "\t 17.8  & 6     & 167.6 & 123   & 3.92  & 3.440 & 18.90 & 1     & 0     & 4     & 4    \\\\\n",
       "\t 10.4  & 8     & 472.0 & 205   & 2.93  & 5.250 & 17.98 & 0     & 0     & 3     & 4    \\\\\n",
       "\t 10.4  & 8     & 460.0 & 215   & 3.00  & 5.424 & 17.82 & 0     & 0     & 3     & 4    \\\\\n",
       "\t 14.7  & 8     & 440.0 & 230   & 3.23  & 5.345 & 17.42 & 0     & 0     & 3     & 4    \\\\\n",
       "\t 13.3  & 8     & 350.0 & 245   & 3.73  & 3.840 & 15.41 & 0     & 0     & 3     & 4    \\\\\n",
       "\t 19.7  & 6     & 145.0 & 175   & 3.62  & 2.770 & 15.50 & 0     & 1     & 5     & 6    \\\\\n",
       "\t 15.0  & 8     & 301.0 & 335   & 3.54  & 3.570 & 14.60 & 0     & 1     & 5     & 8    \\\\\n",
       "\\end{tabular}\n"
      ],
      "text/markdown": [
       "\n",
       "mpg | cyl | disp | hp | drat | wt | qsec | vs | am | gear | carb | \n",
       "|---|---|---|---|---|---|---|---|---|---|---|---|---|---|---|---|---|---|---|---|---|---|---|---|---|---|---|---|---|---|---|---|\n",
       "| 21.4  | 6     | 258.0 | 110   | 3.08  | 3.215 | 19.44 | 1     | 0     | 3     | 1     | \n",
       "| 18.1  | 6     | 225.0 | 105   | 2.76  | 3.460 | 20.22 | 1     | 0     | 3     | 1     | \n",
       "| 22.8  | 4     | 108.0 |  93   | 3.85  | 2.320 | 18.61 | 1     | 1     | 4     | 1     | \n",
       "| 32.4  | 4     |  78.7 |  66   | 4.08  | 2.200 | 19.47 | 1     | 1     | 4     | 1     | \n",
       "| 33.9  | 4     |  71.1 |  65   | 4.22  | 1.835 | 19.90 | 1     | 1     | 4     | 1     | \n",
       "| 27.3  | 4     |  79.0 |  66   | 4.08  | 1.935 | 18.90 | 1     | 1     | 4     | 1     | \n",
       "| 18.7  | 8     | 360.0 | 175   | 3.15  | 3.440 | 17.02 | 0     | 0     | 3     | 2     | \n",
       "| 21.5  | 4     | 120.1 |  97   | 3.70  | 2.465 | 20.01 | 1     | 0     | 3     | 1     | \n",
       "| 15.5  | 8     | 318.0 | 150   | 2.76  | 3.520 | 16.87 | 0     | 0     | 3     | 2     | \n",
       "| 15.2  | 8     | 304.0 | 150   | 3.15  | 3.435 | 17.30 | 0     | 0     | 3     | 2     | \n",
       "| 19.2  | 8     | 400.0 | 175   | 3.08  | 3.845 | 17.05 | 0     | 0     | 3     | 2     | \n",
       "| 26.0  | 4     | 120.3 |  91   | 4.43  | 2.140 | 16.70 | 0     | 1     | 5     | 2     | \n",
       "| 30.4  | 4     |  95.1 | 113   | 3.77  | 1.513 | 16.90 | 1     | 1     | 5     | 2     | \n",
       "| 15.8  | 8     | 351.0 | 264   | 4.22  | 3.170 | 14.50 | 0     | 1     | 5     | 4     | \n",
       "| 24.4  | 4     | 146.7 |  62   | 3.69  | 3.190 | 20.00 | 1     | 0     | 4     | 2     | \n",
       "| 22.8  | 4     | 140.8 |  95   | 3.92  | 3.150 | 22.90 | 1     | 0     | 4     | 2     | \n",
       "| 16.4  | 8     | 275.8 | 180   | 3.07  | 4.070 | 17.40 | 0     | 0     | 3     | 3     | \n",
       "| 17.3  | 8     | 275.8 | 180   | 3.07  | 3.730 | 17.60 | 0     | 0     | 3     | 3     | \n",
       "| 15.2  | 8     | 275.8 | 180   | 3.07  | 3.780 | 18.00 | 0     | 0     | 3     | 3     | \n",
       "| 30.4  | 4     |  75.7 |  52   | 4.93  | 1.615 | 18.52 | 1     | 1     | 4     | 2     | \n",
       "| 21.4  | 4     | 121.0 | 109   | 4.11  | 2.780 | 18.60 | 1     | 1     | 4     | 2     | \n",
       "| 21.0  | 6     | 160.0 | 110   | 3.90  | 2.620 | 16.46 | 0     | 1     | 4     | 4     | \n",
       "| 21.0  | 6     | 160.0 | 110   | 3.90  | 2.875 | 17.02 | 0     | 1     | 4     | 4     | \n",
       "| 14.3  | 8     | 360.0 | 245   | 3.21  | 3.570 | 15.84 | 0     | 0     | 3     | 4     | \n",
       "| 19.2  | 6     | 167.6 | 123   | 3.92  | 3.440 | 18.30 | 1     | 0     | 4     | 4     | \n",
       "| 17.8  | 6     | 167.6 | 123   | 3.92  | 3.440 | 18.90 | 1     | 0     | 4     | 4     | \n",
       "| 10.4  | 8     | 472.0 | 205   | 2.93  | 5.250 | 17.98 | 0     | 0     | 3     | 4     | \n",
       "| 10.4  | 8     | 460.0 | 215   | 3.00  | 5.424 | 17.82 | 0     | 0     | 3     | 4     | \n",
       "| 14.7  | 8     | 440.0 | 230   | 3.23  | 5.345 | 17.42 | 0     | 0     | 3     | 4     | \n",
       "| 13.3  | 8     | 350.0 | 245   | 3.73  | 3.840 | 15.41 | 0     | 0     | 3     | 4     | \n",
       "| 19.7  | 6     | 145.0 | 175   | 3.62  | 2.770 | 15.50 | 0     | 1     | 5     | 6     | \n",
       "| 15.0  | 8     | 301.0 | 335   | 3.54  | 3.570 | 14.60 | 0     | 1     | 5     | 8     | \n",
       "\n",
       "\n"
      ],
      "text/plain": [
       "   mpg  cyl disp  hp  drat wt    qsec  vs am gear carb\n",
       "1  21.4 6   258.0 110 3.08 3.215 19.44 1  0  3    1   \n",
       "2  18.1 6   225.0 105 2.76 3.460 20.22 1  0  3    1   \n",
       "3  22.8 4   108.0  93 3.85 2.320 18.61 1  1  4    1   \n",
       "4  32.4 4    78.7  66 4.08 2.200 19.47 1  1  4    1   \n",
       "5  33.9 4    71.1  65 4.22 1.835 19.90 1  1  4    1   \n",
       "6  27.3 4    79.0  66 4.08 1.935 18.90 1  1  4    1   \n",
       "7  18.7 8   360.0 175 3.15 3.440 17.02 0  0  3    2   \n",
       "8  21.5 4   120.1  97 3.70 2.465 20.01 1  0  3    1   \n",
       "9  15.5 8   318.0 150 2.76 3.520 16.87 0  0  3    2   \n",
       "10 15.2 8   304.0 150 3.15 3.435 17.30 0  0  3    2   \n",
       "11 19.2 8   400.0 175 3.08 3.845 17.05 0  0  3    2   \n",
       "12 26.0 4   120.3  91 4.43 2.140 16.70 0  1  5    2   \n",
       "13 30.4 4    95.1 113 3.77 1.513 16.90 1  1  5    2   \n",
       "14 15.8 8   351.0 264 4.22 3.170 14.50 0  1  5    4   \n",
       "15 24.4 4   146.7  62 3.69 3.190 20.00 1  0  4    2   \n",
       "16 22.8 4   140.8  95 3.92 3.150 22.90 1  0  4    2   \n",
       "17 16.4 8   275.8 180 3.07 4.070 17.40 0  0  3    3   \n",
       "18 17.3 8   275.8 180 3.07 3.730 17.60 0  0  3    3   \n",
       "19 15.2 8   275.8 180 3.07 3.780 18.00 0  0  3    3   \n",
       "20 30.4 4    75.7  52 4.93 1.615 18.52 1  1  4    2   \n",
       "21 21.4 4   121.0 109 4.11 2.780 18.60 1  1  4    2   \n",
       "22 21.0 6   160.0 110 3.90 2.620 16.46 0  1  4    4   \n",
       "23 21.0 6   160.0 110 3.90 2.875 17.02 0  1  4    4   \n",
       "24 14.3 8   360.0 245 3.21 3.570 15.84 0  0  3    4   \n",
       "25 19.2 6   167.6 123 3.92 3.440 18.30 1  0  4    4   \n",
       "26 17.8 6   167.6 123 3.92 3.440 18.90 1  0  4    4   \n",
       "27 10.4 8   472.0 205 2.93 5.250 17.98 0  0  3    4   \n",
       "28 10.4 8   460.0 215 3.00 5.424 17.82 0  0  3    4   \n",
       "29 14.7 8   440.0 230 3.23 5.345 17.42 0  0  3    4   \n",
       "30 13.3 8   350.0 245 3.73 3.840 15.41 0  0  3    4   \n",
       "31 19.7 6   145.0 175 3.62 2.770 15.50 0  1  5    6   \n",
       "32 15.0 8   301.0 335 3.54 3.570 14.60 0  1  5    8   "
      ]
     },
     "metadata": {},
     "output_type": "display_data"
    }
   ],
   "source": [
    "x=arrange(mtcars, desc(cyl*gear/carb))\n",
    "x"
   ]
  },
  {
   "cell_type": "code",
   "execution_count": 50,
   "metadata": {
    "scrolled": true
   },
   "outputs": [
    {
     "data": {
      "text/html": [
       "<table>\n",
       "<thead><tr><th></th><th scope=col>mpg</th><th scope=col>cyl</th><th scope=col>disp</th><th scope=col>hp</th><th scope=col>drat</th><th scope=col>Weight</th><th scope=col>qsec</th><th scope=col>vs</th><th scope=col>am</th><th scope=col>gear</th><th scope=col>carb</th></tr></thead>\n",
       "<tbody>\n",
       "\t<tr><th scope=row>Mazda RX4</th><td>21.0 </td><td>6    </td><td>160  </td><td>110  </td><td>3.90 </td><td>2.620</td><td>16.46</td><td>0    </td><td>1    </td><td>4    </td><td>4    </td></tr>\n",
       "\t<tr><th scope=row>Mazda RX4 Wag</th><td>21.0 </td><td>6    </td><td>160  </td><td>110  </td><td>3.90 </td><td>2.875</td><td>17.02</td><td>0    </td><td>1    </td><td>4    </td><td>4    </td></tr>\n",
       "\t<tr><th scope=row>Datsun 710</th><td>22.8 </td><td>4    </td><td>108  </td><td> 93  </td><td>3.85 </td><td>2.320</td><td>18.61</td><td>1    </td><td>1    </td><td>4    </td><td>1    </td></tr>\n",
       "\t<tr><th scope=row>Hornet 4 Drive</th><td>21.4 </td><td>6    </td><td>258  </td><td>110  </td><td>3.08 </td><td>3.215</td><td>19.44</td><td>1    </td><td>0    </td><td>3    </td><td>1    </td></tr>\n",
       "\t<tr><th scope=row>Hornet Sportabout</th><td>18.7 </td><td>8    </td><td>360  </td><td>175  </td><td>3.15 </td><td>3.440</td><td>17.02</td><td>0    </td><td>0    </td><td>3    </td><td>2    </td></tr>\n",
       "\t<tr><th scope=row>Valiant</th><td>18.1 </td><td>6    </td><td>225  </td><td>105  </td><td>2.76 </td><td>3.460</td><td>20.22</td><td>1    </td><td>0    </td><td>3    </td><td>1    </td></tr>\n",
       "</tbody>\n",
       "</table>\n"
      ],
      "text/latex": [
       "\\begin{tabular}{r|lllllllllll}\n",
       "  & mpg & cyl & disp & hp & drat & Weight & qsec & vs & am & gear & carb\\\\\n",
       "\\hline\n",
       "\tMazda RX4 & 21.0  & 6     & 160   & 110   & 3.90  & 2.620 & 16.46 & 0     & 1     & 4     & 4    \\\\\n",
       "\tMazda RX4 Wag & 21.0  & 6     & 160   & 110   & 3.90  & 2.875 & 17.02 & 0     & 1     & 4     & 4    \\\\\n",
       "\tDatsun 710 & 22.8  & 4     & 108   &  93   & 3.85  & 2.320 & 18.61 & 1     & 1     & 4     & 1    \\\\\n",
       "\tHornet 4 Drive & 21.4  & 6     & 258   & 110   & 3.08  & 3.215 & 19.44 & 1     & 0     & 3     & 1    \\\\\n",
       "\tHornet Sportabout & 18.7  & 8     & 360   & 175   & 3.15  & 3.440 & 17.02 & 0     & 0     & 3     & 2    \\\\\n",
       "\tValiant & 18.1  & 6     & 225   & 105   & 2.76  & 3.460 & 20.22 & 1     & 0     & 3     & 1    \\\\\n",
       "\\end{tabular}\n"
      ],
      "text/markdown": [
       "\n",
       "| <!--/--> | mpg | cyl | disp | hp | drat | Weight | qsec | vs | am | gear | carb | \n",
       "|---|---|---|---|---|---|\n",
       "| Mazda RX4 | 21.0  | 6     | 160   | 110   | 3.90  | 2.620 | 16.46 | 0     | 1     | 4     | 4     | \n",
       "| Mazda RX4 Wag | 21.0  | 6     | 160   | 110   | 3.90  | 2.875 | 17.02 | 0     | 1     | 4     | 4     | \n",
       "| Datsun 710 | 22.8  | 4     | 108   |  93   | 3.85  | 2.320 | 18.61 | 1     | 1     | 4     | 1     | \n",
       "| Hornet 4 Drive | 21.4  | 6     | 258   | 110   | 3.08  | 3.215 | 19.44 | 1     | 0     | 3     | 1     | \n",
       "| Hornet Sportabout | 18.7  | 8     | 360   | 175   | 3.15  | 3.440 | 17.02 | 0     | 0     | 3     | 2     | \n",
       "| Valiant | 18.1  | 6     | 225   | 105   | 2.76  | 3.460 | 20.22 | 1     | 0     | 3     | 1     | \n",
       "\n",
       "\n"
      ],
      "text/plain": [
       "                  mpg  cyl disp hp  drat Weight qsec  vs am gear carb\n",
       "Mazda RX4         21.0 6   160  110 3.90 2.620  16.46 0  1  4    4   \n",
       "Mazda RX4 Wag     21.0 6   160  110 3.90 2.875  17.02 0  1  4    4   \n",
       "Datsun 710        22.8 4   108   93 3.85 2.320  18.61 1  1  4    1   \n",
       "Hornet 4 Drive    21.4 6   258  110 3.08 3.215  19.44 1  0  3    1   \n",
       "Hornet Sportabout 18.7 8   360  175 3.15 3.440  17.02 0  0  3    2   \n",
       "Valiant           18.1 6   225  105 2.76 3.460  20.22 1  0  3    1   "
      ]
     },
     "metadata": {},
     "output_type": "display_data"
    }
   ],
   "source": [
    "x=rename(mtcars, Weight=wt); head(x) # newname = oldname"
   ]
  },
  {
   "cell_type": "code",
   "execution_count": 51,
   "metadata": {
    "scrolled": true
   },
   "outputs": [
    {
     "data": {
      "text/html": [
       "<table>\n",
       "<thead><tr><th scope=col>mpg</th><th scope=col>cyl</th><th scope=col>disp</th><th scope=col>hp</th><th scope=col>drat</th><th scope=col>wt</th><th scope=col>qsec</th><th scope=col>vs</th><th scope=col>am</th><th scope=col>gear</th><th scope=col>carb</th><th scope=col>score</th></tr></thead>\n",
       "<tbody>\n",
       "\t<tr><td>21.0 </td><td>6    </td><td>160  </td><td>110  </td><td>3.90 </td><td>2.620</td><td>16.46</td><td>0    </td><td>1    </td><td>4    </td><td>4    </td><td> 6   </td></tr>\n",
       "\t<tr><td>21.0 </td><td>6    </td><td>160  </td><td>110  </td><td>3.90 </td><td>2.875</td><td>17.02</td><td>0    </td><td>1    </td><td>4    </td><td>4    </td><td> 6   </td></tr>\n",
       "\t<tr><td>22.8 </td><td>4    </td><td>108  </td><td> 93  </td><td>3.85 </td><td>2.320</td><td>18.61</td><td>1    </td><td>1    </td><td>4    </td><td>1    </td><td>16   </td></tr>\n",
       "\t<tr><td>21.4 </td><td>6    </td><td>258  </td><td>110  </td><td>3.08 </td><td>3.215</td><td>19.44</td><td>1    </td><td>0    </td><td>3    </td><td>1    </td><td>18   </td></tr>\n",
       "\t<tr><td>18.7 </td><td>8    </td><td>360  </td><td>175  </td><td>3.15 </td><td>3.440</td><td>17.02</td><td>0    </td><td>0    </td><td>3    </td><td>2    </td><td>12   </td></tr>\n",
       "\t<tr><td>18.1 </td><td>6    </td><td>225  </td><td>105  </td><td>2.76 </td><td>3.460</td><td>20.22</td><td>1    </td><td>0    </td><td>3    </td><td>1    </td><td>18   </td></tr>\n",
       "</tbody>\n",
       "</table>\n"
      ],
      "text/latex": [
       "\\begin{tabular}{r|llllllllllll}\n",
       " mpg & cyl & disp & hp & drat & wt & qsec & vs & am & gear & carb & score\\\\\n",
       "\\hline\n",
       "\t 21.0  & 6     & 160   & 110   & 3.90  & 2.620 & 16.46 & 0     & 1     & 4     & 4     &  6   \\\\\n",
       "\t 21.0  & 6     & 160   & 110   & 3.90  & 2.875 & 17.02 & 0     & 1     & 4     & 4     &  6   \\\\\n",
       "\t 22.8  & 4     & 108   &  93   & 3.85  & 2.320 & 18.61 & 1     & 1     & 4     & 1     & 16   \\\\\n",
       "\t 21.4  & 6     & 258   & 110   & 3.08  & 3.215 & 19.44 & 1     & 0     & 3     & 1     & 18   \\\\\n",
       "\t 18.7  & 8     & 360   & 175   & 3.15  & 3.440 & 17.02 & 0     & 0     & 3     & 2     & 12   \\\\\n",
       "\t 18.1  & 6     & 225   & 105   & 2.76  & 3.460 & 20.22 & 1     & 0     & 3     & 1     & 18   \\\\\n",
       "\\end{tabular}\n"
      ],
      "text/markdown": [
       "\n",
       "mpg | cyl | disp | hp | drat | wt | qsec | vs | am | gear | carb | score | \n",
       "|---|---|---|---|---|---|\n",
       "| 21.0  | 6     | 160   | 110   | 3.90  | 2.620 | 16.46 | 0     | 1     | 4     | 4     |  6    | \n",
       "| 21.0  | 6     | 160   | 110   | 3.90  | 2.875 | 17.02 | 0     | 1     | 4     | 4     |  6    | \n",
       "| 22.8  | 4     | 108   |  93   | 3.85  | 2.320 | 18.61 | 1     | 1     | 4     | 1     | 16    | \n",
       "| 21.4  | 6     | 258   | 110   | 3.08  | 3.215 | 19.44 | 1     | 0     | 3     | 1     | 18    | \n",
       "| 18.7  | 8     | 360   | 175   | 3.15  | 3.440 | 17.02 | 0     | 0     | 3     | 2     | 12    | \n",
       "| 18.1  | 6     | 225   | 105   | 2.76  | 3.460 | 20.22 | 1     | 0     | 3     | 1     | 18    | \n",
       "\n",
       "\n"
      ],
      "text/plain": [
       "  mpg  cyl disp hp  drat wt    qsec  vs am gear carb score\n",
       "1 21.0 6   160  110 3.90 2.620 16.46 0  1  4    4     6   \n",
       "2 21.0 6   160  110 3.90 2.875 17.02 0  1  4    4     6   \n",
       "3 22.8 4   108   93 3.85 2.320 18.61 1  1  4    1    16   \n",
       "4 21.4 6   258  110 3.08 3.215 19.44 1  0  3    1    18   \n",
       "5 18.7 8   360  175 3.15 3.440 17.02 0  0  3    2    12   \n",
       "6 18.1 6   225  105 2.76 3.460 20.22 1  0  3    1    18   "
      ]
     },
     "metadata": {},
     "output_type": "display_data"
    }
   ],
   "source": [
    "x=mutate(mtcars, score=cyl*gear/carb); head(x) #create new variable"
   ]
  },
  {
   "cell_type": "code",
   "execution_count": 52,
   "metadata": {
    "scrolled": false
   },
   "outputs": [
    {
     "data": {
      "text/html": [
       "<table>\n",
       "<thead><tr><th scope=col>am</th><th scope=col>vs</th><th scope=col>score</th></tr></thead>\n",
       "<tbody>\n",
       "\t<tr><td>1 </td><td>0 </td><td> 6</td></tr>\n",
       "\t<tr><td>1 </td><td>0 </td><td> 6</td></tr>\n",
       "\t<tr><td>1 </td><td>1 </td><td>16</td></tr>\n",
       "\t<tr><td>0 </td><td>1 </td><td>18</td></tr>\n",
       "\t<tr><td>0 </td><td>0 </td><td>12</td></tr>\n",
       "\t<tr><td>0 </td><td>1 </td><td>18</td></tr>\n",
       "</tbody>\n",
       "</table>\n"
      ],
      "text/latex": [
       "\\begin{tabular}{r|lll}\n",
       " am & vs & score\\\\\n",
       "\\hline\n",
       "\t 1  & 0  &  6\\\\\n",
       "\t 1  & 0  &  6\\\\\n",
       "\t 1  & 1  & 16\\\\\n",
       "\t 0  & 1  & 18\\\\\n",
       "\t 0  & 0  & 12\\\\\n",
       "\t 0  & 1  & 18\\\\\n",
       "\\end{tabular}\n"
      ],
      "text/markdown": [
       "\n",
       "am | vs | score | \n",
       "|---|---|---|---|---|---|\n",
       "| 1  | 0  |  6 | \n",
       "| 1  | 0  |  6 | \n",
       "| 1  | 1  | 16 | \n",
       "| 0  | 1  | 18 | \n",
       "| 0  | 0  | 12 | \n",
       "| 0  | 1  | 18 | \n",
       "\n",
       "\n"
      ],
      "text/plain": [
       "  am vs score\n",
       "1 1  0   6   \n",
       "2 1  0   6   \n",
       "3 1  1  16   \n",
       "4 0  1  18   \n",
       "5 0  0  12   \n",
       "6 0  1  18   "
      ]
     },
     "metadata": {},
     "output_type": "display_data"
    },
    {
     "data": {
      "text/html": [
       "<table>\n",
       "<thead><tr><th scope=col>score</th></tr></thead>\n",
       "<tbody>\n",
       "\t<tr><td> 6</td></tr>\n",
       "\t<tr><td> 6</td></tr>\n",
       "\t<tr><td>16</td></tr>\n",
       "\t<tr><td>18</td></tr>\n",
       "\t<tr><td>12</td></tr>\n",
       "\t<tr><td>18</td></tr>\n",
       "</tbody>\n",
       "</table>\n"
      ],
      "text/latex": [
       "\\begin{tabular}{r|l}\n",
       " score\\\\\n",
       "\\hline\n",
       "\t  6\\\\\n",
       "\t  6\\\\\n",
       "\t 16\\\\\n",
       "\t 18\\\\\n",
       "\t 12\\\\\n",
       "\t 18\\\\\n",
       "\\end{tabular}\n"
      ],
      "text/markdown": [
       "\n",
       "score | \n",
       "|---|---|---|---|---|---|\n",
       "|  6 | \n",
       "|  6 | \n",
       "| 16 | \n",
       "| 18 | \n",
       "| 12 | \n",
       "| 18 | \n",
       "\n",
       "\n"
      ],
      "text/plain": [
       "  score\n",
       "1  6   \n",
       "2  6   \n",
       "3 16   \n",
       "4 18   \n",
       "5 12   \n",
       "6 18   "
      ]
     },
     "metadata": {},
     "output_type": "display_data"
    }
   ],
   "source": [
    "x=transmute(mtcars, am, vs, score=cyl*gear/carb); head(x) # drop all other columns\n",
    "x=transmute(mtcars, score=cyl*gear/carb); head(x)"
   ]
  },
  {
   "cell_type": "code",
   "execution_count": 53,
   "metadata": {},
   "outputs": [
    {
     "data": {
      "text/html": [
       "<table>\n",
       "<thead><tr><th scope=col>mpg</th><th scope=col>cyl</th><th scope=col>disp</th><th scope=col>hp</th><th scope=col>drat</th><th scope=col>wt</th><th scope=col>qsec</th><th scope=col>vs</th><th scope=col>am</th><th scope=col>gear</th><th scope=col>carb</th><th scope=col>score</th></tr></thead>\n",
       "<tbody>\n",
       "\t<tr><td>19.7 </td><td>6    </td><td>145.0</td><td>175  </td><td>3.62 </td><td>2.770</td><td>15.50</td><td>0    </td><td>1    </td><td>5    </td><td>6    </td><td> 5   </td></tr>\n",
       "\t<tr><td>15.0 </td><td>8    </td><td>301.0</td><td>335  </td><td>3.54 </td><td>3.570</td><td>14.60</td><td>0    </td><td>1    </td><td>5    </td><td>8    </td><td> 5   </td></tr>\n",
       "\t<tr><td>21.0 </td><td>6    </td><td>160.0</td><td>110  </td><td>3.90 </td><td>2.620</td><td>16.46</td><td>0    </td><td>1    </td><td>4    </td><td>4    </td><td> 6   </td></tr>\n",
       "\t<tr><td>21.0 </td><td>6    </td><td>160.0</td><td>110  </td><td>3.90 </td><td>2.875</td><td>17.02</td><td>0    </td><td>1    </td><td>4    </td><td>4    </td><td> 6   </td></tr>\n",
       "\t<tr><td>14.3 </td><td>8    </td><td>360.0</td><td>245  </td><td>3.21 </td><td>3.570</td><td>15.84</td><td>0    </td><td>0    </td><td>3    </td><td>4    </td><td> 6   </td></tr>\n",
       "\t<tr><td>19.2 </td><td>6    </td><td>167.6</td><td>123  </td><td>3.92 </td><td>3.440</td><td>18.30</td><td>1    </td><td>0    </td><td>4    </td><td>4    </td><td> 6   </td></tr>\n",
       "\t<tr><td>17.8 </td><td>6    </td><td>167.6</td><td>123  </td><td>3.92 </td><td>3.440</td><td>18.90</td><td>1    </td><td>0    </td><td>4    </td><td>4    </td><td> 6   </td></tr>\n",
       "\t<tr><td>10.4 </td><td>8    </td><td>472.0</td><td>205  </td><td>2.93 </td><td>5.250</td><td>17.98</td><td>0    </td><td>0    </td><td>3    </td><td>4    </td><td> 6   </td></tr>\n",
       "\t<tr><td>10.4 </td><td>8    </td><td>460.0</td><td>215  </td><td>3.00 </td><td>5.424</td><td>17.82</td><td>0    </td><td>0    </td><td>3    </td><td>4    </td><td> 6   </td></tr>\n",
       "\t<tr><td>14.7 </td><td>8    </td><td>440.0</td><td>230  </td><td>3.23 </td><td>5.345</td><td>17.42</td><td>0    </td><td>0    </td><td>3    </td><td>4    </td><td> 6   </td></tr>\n",
       "\t<tr><td>13.3 </td><td>8    </td><td>350.0</td><td>245  </td><td>3.73 </td><td>3.840</td><td>15.41</td><td>0    </td><td>0    </td><td>3    </td><td>4    </td><td> 6   </td></tr>\n",
       "\t<tr><td>24.4 </td><td>4    </td><td>146.7</td><td> 62  </td><td>3.69 </td><td>3.190</td><td>20.00</td><td>1    </td><td>0    </td><td>4    </td><td>2    </td><td> 8   </td></tr>\n",
       "\t<tr><td>22.8 </td><td>4    </td><td>140.8</td><td> 95  </td><td>3.92 </td><td>3.150</td><td>22.90</td><td>1    </td><td>0    </td><td>4    </td><td>2    </td><td> 8   </td></tr>\n",
       "\t<tr><td>16.4 </td><td>8    </td><td>275.8</td><td>180  </td><td>3.07 </td><td>4.070</td><td>17.40</td><td>0    </td><td>0    </td><td>3    </td><td>3    </td><td> 8   </td></tr>\n",
       "\t<tr><td>17.3 </td><td>8    </td><td>275.8</td><td>180  </td><td>3.07 </td><td>3.730</td><td>17.60</td><td>0    </td><td>0    </td><td>3    </td><td>3    </td><td> 8   </td></tr>\n",
       "\t<tr><td>15.2 </td><td>8    </td><td>275.8</td><td>180  </td><td>3.07 </td><td>3.780</td><td>18.00</td><td>0    </td><td>0    </td><td>3    </td><td>3    </td><td> 8   </td></tr>\n",
       "\t<tr><td>30.4 </td><td>4    </td><td> 75.7</td><td> 52  </td><td>4.93 </td><td>1.615</td><td>18.52</td><td>1    </td><td>1    </td><td>4    </td><td>2    </td><td> 8   </td></tr>\n",
       "\t<tr><td>21.4 </td><td>4    </td><td>121.0</td><td>109  </td><td>4.11 </td><td>2.780</td><td>18.60</td><td>1    </td><td>1    </td><td>4    </td><td>2    </td><td> 8   </td></tr>\n",
       "\t<tr><td>26.0 </td><td>4    </td><td>120.3</td><td> 91  </td><td>4.43 </td><td>2.140</td><td>16.70</td><td>0    </td><td>1    </td><td>5    </td><td>2    </td><td>10   </td></tr>\n",
       "\t<tr><td>30.4 </td><td>4    </td><td> 95.1</td><td>113  </td><td>3.77 </td><td>1.513</td><td>16.90</td><td>1    </td><td>1    </td><td>5    </td><td>2    </td><td>10   </td></tr>\n",
       "\t<tr><td>15.8 </td><td>8    </td><td>351.0</td><td>264  </td><td>4.22 </td><td>3.170</td><td>14.50</td><td>0    </td><td>1    </td><td>5    </td><td>4    </td><td>10   </td></tr>\n",
       "\t<tr><td>18.7 </td><td>8    </td><td>360.0</td><td>175  </td><td>3.15 </td><td>3.440</td><td>17.02</td><td>0    </td><td>0    </td><td>3    </td><td>2    </td><td>12   </td></tr>\n",
       "\t<tr><td>21.5 </td><td>4    </td><td>120.1</td><td> 97  </td><td>3.70 </td><td>2.465</td><td>20.01</td><td>1    </td><td>0    </td><td>3    </td><td>1    </td><td>12   </td></tr>\n",
       "\t<tr><td>15.5 </td><td>8    </td><td>318.0</td><td>150  </td><td>2.76 </td><td>3.520</td><td>16.87</td><td>0    </td><td>0    </td><td>3    </td><td>2    </td><td>12   </td></tr>\n",
       "\t<tr><td>15.2 </td><td>8    </td><td>304.0</td><td>150  </td><td>3.15 </td><td>3.435</td><td>17.30</td><td>0    </td><td>0    </td><td>3    </td><td>2    </td><td>12   </td></tr>\n",
       "\t<tr><td>19.2 </td><td>8    </td><td>400.0</td><td>175  </td><td>3.08 </td><td>3.845</td><td>17.05</td><td>0    </td><td>0    </td><td>3    </td><td>2    </td><td>12   </td></tr>\n",
       "\t<tr><td>22.8 </td><td>4    </td><td>108.0</td><td> 93  </td><td>3.85 </td><td>2.320</td><td>18.61</td><td>1    </td><td>1    </td><td>4    </td><td>1    </td><td>16   </td></tr>\n",
       "\t<tr><td>32.4 </td><td>4    </td><td> 78.7</td><td> 66  </td><td>4.08 </td><td>2.200</td><td>19.47</td><td>1    </td><td>1    </td><td>4    </td><td>1    </td><td>16   </td></tr>\n",
       "\t<tr><td>33.9 </td><td>4    </td><td> 71.1</td><td> 65  </td><td>4.22 </td><td>1.835</td><td>19.90</td><td>1    </td><td>1    </td><td>4    </td><td>1    </td><td>16   </td></tr>\n",
       "\t<tr><td>27.3 </td><td>4    </td><td> 79.0</td><td> 66  </td><td>4.08 </td><td>1.935</td><td>18.90</td><td>1    </td><td>1    </td><td>4    </td><td>1    </td><td>16   </td></tr>\n",
       "\t<tr><td>21.4 </td><td>6    </td><td>258.0</td><td>110  </td><td>3.08 </td><td>3.215</td><td>19.44</td><td>1    </td><td>0    </td><td>3    </td><td>1    </td><td>18   </td></tr>\n",
       "\t<tr><td>18.1 </td><td>6    </td><td>225.0</td><td>105  </td><td>2.76 </td><td>3.460</td><td>20.22</td><td>1    </td><td>0    </td><td>3    </td><td>1    </td><td>18   </td></tr>\n",
       "</tbody>\n",
       "</table>\n"
      ],
      "text/latex": [
       "\\begin{tabular}{r|llllllllllll}\n",
       " mpg & cyl & disp & hp & drat & wt & qsec & vs & am & gear & carb & score\\\\\n",
       "\\hline\n",
       "\t 19.7  & 6     & 145.0 & 175   & 3.62  & 2.770 & 15.50 & 0     & 1     & 5     & 6     &  5   \\\\\n",
       "\t 15.0  & 8     & 301.0 & 335   & 3.54  & 3.570 & 14.60 & 0     & 1     & 5     & 8     &  5   \\\\\n",
       "\t 21.0  & 6     & 160.0 & 110   & 3.90  & 2.620 & 16.46 & 0     & 1     & 4     & 4     &  6   \\\\\n",
       "\t 21.0  & 6     & 160.0 & 110   & 3.90  & 2.875 & 17.02 & 0     & 1     & 4     & 4     &  6   \\\\\n",
       "\t 14.3  & 8     & 360.0 & 245   & 3.21  & 3.570 & 15.84 & 0     & 0     & 3     & 4     &  6   \\\\\n",
       "\t 19.2  & 6     & 167.6 & 123   & 3.92  & 3.440 & 18.30 & 1     & 0     & 4     & 4     &  6   \\\\\n",
       "\t 17.8  & 6     & 167.6 & 123   & 3.92  & 3.440 & 18.90 & 1     & 0     & 4     & 4     &  6   \\\\\n",
       "\t 10.4  & 8     & 472.0 & 205   & 2.93  & 5.250 & 17.98 & 0     & 0     & 3     & 4     &  6   \\\\\n",
       "\t 10.4  & 8     & 460.0 & 215   & 3.00  & 5.424 & 17.82 & 0     & 0     & 3     & 4     &  6   \\\\\n",
       "\t 14.7  & 8     & 440.0 & 230   & 3.23  & 5.345 & 17.42 & 0     & 0     & 3     & 4     &  6   \\\\\n",
       "\t 13.3  & 8     & 350.0 & 245   & 3.73  & 3.840 & 15.41 & 0     & 0     & 3     & 4     &  6   \\\\\n",
       "\t 24.4  & 4     & 146.7 &  62   & 3.69  & 3.190 & 20.00 & 1     & 0     & 4     & 2     &  8   \\\\\n",
       "\t 22.8  & 4     & 140.8 &  95   & 3.92  & 3.150 & 22.90 & 1     & 0     & 4     & 2     &  8   \\\\\n",
       "\t 16.4  & 8     & 275.8 & 180   & 3.07  & 4.070 & 17.40 & 0     & 0     & 3     & 3     &  8   \\\\\n",
       "\t 17.3  & 8     & 275.8 & 180   & 3.07  & 3.730 & 17.60 & 0     & 0     & 3     & 3     &  8   \\\\\n",
       "\t 15.2  & 8     & 275.8 & 180   & 3.07  & 3.780 & 18.00 & 0     & 0     & 3     & 3     &  8   \\\\\n",
       "\t 30.4  & 4     &  75.7 &  52   & 4.93  & 1.615 & 18.52 & 1     & 1     & 4     & 2     &  8   \\\\\n",
       "\t 21.4  & 4     & 121.0 & 109   & 4.11  & 2.780 & 18.60 & 1     & 1     & 4     & 2     &  8   \\\\\n",
       "\t 26.0  & 4     & 120.3 &  91   & 4.43  & 2.140 & 16.70 & 0     & 1     & 5     & 2     & 10   \\\\\n",
       "\t 30.4  & 4     &  95.1 & 113   & 3.77  & 1.513 & 16.90 & 1     & 1     & 5     & 2     & 10   \\\\\n",
       "\t 15.8  & 8     & 351.0 & 264   & 4.22  & 3.170 & 14.50 & 0     & 1     & 5     & 4     & 10   \\\\\n",
       "\t 18.7  & 8     & 360.0 & 175   & 3.15  & 3.440 & 17.02 & 0     & 0     & 3     & 2     & 12   \\\\\n",
       "\t 21.5  & 4     & 120.1 &  97   & 3.70  & 2.465 & 20.01 & 1     & 0     & 3     & 1     & 12   \\\\\n",
       "\t 15.5  & 8     & 318.0 & 150   & 2.76  & 3.520 & 16.87 & 0     & 0     & 3     & 2     & 12   \\\\\n",
       "\t 15.2  & 8     & 304.0 & 150   & 3.15  & 3.435 & 17.30 & 0     & 0     & 3     & 2     & 12   \\\\\n",
       "\t 19.2  & 8     & 400.0 & 175   & 3.08  & 3.845 & 17.05 & 0     & 0     & 3     & 2     & 12   \\\\\n",
       "\t 22.8  & 4     & 108.0 &  93   & 3.85  & 2.320 & 18.61 & 1     & 1     & 4     & 1     & 16   \\\\\n",
       "\t 32.4  & 4     &  78.7 &  66   & 4.08  & 2.200 & 19.47 & 1     & 1     & 4     & 1     & 16   \\\\\n",
       "\t 33.9  & 4     &  71.1 &  65   & 4.22  & 1.835 & 19.90 & 1     & 1     & 4     & 1     & 16   \\\\\n",
       "\t 27.3  & 4     &  79.0 &  66   & 4.08  & 1.935 & 18.90 & 1     & 1     & 4     & 1     & 16   \\\\\n",
       "\t 21.4  & 6     & 258.0 & 110   & 3.08  & 3.215 & 19.44 & 1     & 0     & 3     & 1     & 18   \\\\\n",
       "\t 18.1  & 6     & 225.0 & 105   & 2.76  & 3.460 & 20.22 & 1     & 0     & 3     & 1     & 18   \\\\\n",
       "\\end{tabular}\n"
      ],
      "text/markdown": [
       "\n",
       "mpg | cyl | disp | hp | drat | wt | qsec | vs | am | gear | carb | score | \n",
       "|---|---|---|---|---|---|---|---|---|---|---|---|---|---|---|---|---|---|---|---|---|---|---|---|---|---|---|---|---|---|---|---|\n",
       "| 19.7  | 6     | 145.0 | 175   | 3.62  | 2.770 | 15.50 | 0     | 1     | 5     | 6     |  5    | \n",
       "| 15.0  | 8     | 301.0 | 335   | 3.54  | 3.570 | 14.60 | 0     | 1     | 5     | 8     |  5    | \n",
       "| 21.0  | 6     | 160.0 | 110   | 3.90  | 2.620 | 16.46 | 0     | 1     | 4     | 4     |  6    | \n",
       "| 21.0  | 6     | 160.0 | 110   | 3.90  | 2.875 | 17.02 | 0     | 1     | 4     | 4     |  6    | \n",
       "| 14.3  | 8     | 360.0 | 245   | 3.21  | 3.570 | 15.84 | 0     | 0     | 3     | 4     |  6    | \n",
       "| 19.2  | 6     | 167.6 | 123   | 3.92  | 3.440 | 18.30 | 1     | 0     | 4     | 4     |  6    | \n",
       "| 17.8  | 6     | 167.6 | 123   | 3.92  | 3.440 | 18.90 | 1     | 0     | 4     | 4     |  6    | \n",
       "| 10.4  | 8     | 472.0 | 205   | 2.93  | 5.250 | 17.98 | 0     | 0     | 3     | 4     |  6    | \n",
       "| 10.4  | 8     | 460.0 | 215   | 3.00  | 5.424 | 17.82 | 0     | 0     | 3     | 4     |  6    | \n",
       "| 14.7  | 8     | 440.0 | 230   | 3.23  | 5.345 | 17.42 | 0     | 0     | 3     | 4     |  6    | \n",
       "| 13.3  | 8     | 350.0 | 245   | 3.73  | 3.840 | 15.41 | 0     | 0     | 3     | 4     |  6    | \n",
       "| 24.4  | 4     | 146.7 |  62   | 3.69  | 3.190 | 20.00 | 1     | 0     | 4     | 2     |  8    | \n",
       "| 22.8  | 4     | 140.8 |  95   | 3.92  | 3.150 | 22.90 | 1     | 0     | 4     | 2     |  8    | \n",
       "| 16.4  | 8     | 275.8 | 180   | 3.07  | 4.070 | 17.40 | 0     | 0     | 3     | 3     |  8    | \n",
       "| 17.3  | 8     | 275.8 | 180   | 3.07  | 3.730 | 17.60 | 0     | 0     | 3     | 3     |  8    | \n",
       "| 15.2  | 8     | 275.8 | 180   | 3.07  | 3.780 | 18.00 | 0     | 0     | 3     | 3     |  8    | \n",
       "| 30.4  | 4     |  75.7 |  52   | 4.93  | 1.615 | 18.52 | 1     | 1     | 4     | 2     |  8    | \n",
       "| 21.4  | 4     | 121.0 | 109   | 4.11  | 2.780 | 18.60 | 1     | 1     | 4     | 2     |  8    | \n",
       "| 26.0  | 4     | 120.3 |  91   | 4.43  | 2.140 | 16.70 | 0     | 1     | 5     | 2     | 10    | \n",
       "| 30.4  | 4     |  95.1 | 113   | 3.77  | 1.513 | 16.90 | 1     | 1     | 5     | 2     | 10    | \n",
       "| 15.8  | 8     | 351.0 | 264   | 4.22  | 3.170 | 14.50 | 0     | 1     | 5     | 4     | 10    | \n",
       "| 18.7  | 8     | 360.0 | 175   | 3.15  | 3.440 | 17.02 | 0     | 0     | 3     | 2     | 12    | \n",
       "| 21.5  | 4     | 120.1 |  97   | 3.70  | 2.465 | 20.01 | 1     | 0     | 3     | 1     | 12    | \n",
       "| 15.5  | 8     | 318.0 | 150   | 2.76  | 3.520 | 16.87 | 0     | 0     | 3     | 2     | 12    | \n",
       "| 15.2  | 8     | 304.0 | 150   | 3.15  | 3.435 | 17.30 | 0     | 0     | 3     | 2     | 12    | \n",
       "| 19.2  | 8     | 400.0 | 175   | 3.08  | 3.845 | 17.05 | 0     | 0     | 3     | 2     | 12    | \n",
       "| 22.8  | 4     | 108.0 |  93   | 3.85  | 2.320 | 18.61 | 1     | 1     | 4     | 1     | 16    | \n",
       "| 32.4  | 4     |  78.7 |  66   | 4.08  | 2.200 | 19.47 | 1     | 1     | 4     | 1     | 16    | \n",
       "| 33.9  | 4     |  71.1 |  65   | 4.22  | 1.835 | 19.90 | 1     | 1     | 4     | 1     | 16    | \n",
       "| 27.3  | 4     |  79.0 |  66   | 4.08  | 1.935 | 18.90 | 1     | 1     | 4     | 1     | 16    | \n",
       "| 21.4  | 6     | 258.0 | 110   | 3.08  | 3.215 | 19.44 | 1     | 0     | 3     | 1     | 18    | \n",
       "| 18.1  | 6     | 225.0 | 105   | 2.76  | 3.460 | 20.22 | 1     | 0     | 3     | 1     | 18    | \n",
       "\n",
       "\n"
      ],
      "text/plain": [
       "   mpg  cyl disp  hp  drat wt    qsec  vs am gear carb score\n",
       "1  19.7 6   145.0 175 3.62 2.770 15.50 0  1  5    6     5   \n",
       "2  15.0 8   301.0 335 3.54 3.570 14.60 0  1  5    8     5   \n",
       "3  21.0 6   160.0 110 3.90 2.620 16.46 0  1  4    4     6   \n",
       "4  21.0 6   160.0 110 3.90 2.875 17.02 0  1  4    4     6   \n",
       "5  14.3 8   360.0 245 3.21 3.570 15.84 0  0  3    4     6   \n",
       "6  19.2 6   167.6 123 3.92 3.440 18.30 1  0  4    4     6   \n",
       "7  17.8 6   167.6 123 3.92 3.440 18.90 1  0  4    4     6   \n",
       "8  10.4 8   472.0 205 2.93 5.250 17.98 0  0  3    4     6   \n",
       "9  10.4 8   460.0 215 3.00 5.424 17.82 0  0  3    4     6   \n",
       "10 14.7 8   440.0 230 3.23 5.345 17.42 0  0  3    4     6   \n",
       "11 13.3 8   350.0 245 3.73 3.840 15.41 0  0  3    4     6   \n",
       "12 24.4 4   146.7  62 3.69 3.190 20.00 1  0  4    2     8   \n",
       "13 22.8 4   140.8  95 3.92 3.150 22.90 1  0  4    2     8   \n",
       "14 16.4 8   275.8 180 3.07 4.070 17.40 0  0  3    3     8   \n",
       "15 17.3 8   275.8 180 3.07 3.730 17.60 0  0  3    3     8   \n",
       "16 15.2 8   275.8 180 3.07 3.780 18.00 0  0  3    3     8   \n",
       "17 30.4 4    75.7  52 4.93 1.615 18.52 1  1  4    2     8   \n",
       "18 21.4 4   121.0 109 4.11 2.780 18.60 1  1  4    2     8   \n",
       "19 26.0 4   120.3  91 4.43 2.140 16.70 0  1  5    2    10   \n",
       "20 30.4 4    95.1 113 3.77 1.513 16.90 1  1  5    2    10   \n",
       "21 15.8 8   351.0 264 4.22 3.170 14.50 0  1  5    4    10   \n",
       "22 18.7 8   360.0 175 3.15 3.440 17.02 0  0  3    2    12   \n",
       "23 21.5 4   120.1  97 3.70 2.465 20.01 1  0  3    1    12   \n",
       "24 15.5 8   318.0 150 2.76 3.520 16.87 0  0  3    2    12   \n",
       "25 15.2 8   304.0 150 3.15 3.435 17.30 0  0  3    2    12   \n",
       "26 19.2 8   400.0 175 3.08 3.845 17.05 0  0  3    2    12   \n",
       "27 22.8 4   108.0  93 3.85 2.320 18.61 1  1  4    1    16   \n",
       "28 32.4 4    78.7  66 4.08 2.200 19.47 1  1  4    1    16   \n",
       "29 33.9 4    71.1  65 4.22 1.835 19.90 1  1  4    1    16   \n",
       "30 27.3 4    79.0  66 4.08 1.935 18.90 1  1  4    1    16   \n",
       "31 21.4 6   258.0 110 3.08 3.215 19.44 1  0  3    1    18   \n",
       "32 18.1 6   225.0 105 2.76 3.460 20.22 1  0  3    1    18   "
      ]
     },
     "metadata": {},
     "output_type": "display_data"
    }
   ],
   "source": [
    "arrange(mutate(mtcars, score=cyl*gear/carb), score)"
   ]
  },
  {
   "cell_type": "code",
   "execution_count": 54,
   "metadata": {
    "scrolled": false
   },
   "outputs": [
    {
     "data": {
      "text/html": [
       "<table>\n",
       "<thead><tr><th></th><th scope=col>mpg</th><th scope=col>cyl</th><th scope=col>disp</th><th scope=col>hp</th><th scope=col>drat</th><th scope=col>wt</th><th scope=col>qsec</th><th scope=col>vs</th><th scope=col>am</th><th scope=col>gear</th><th scope=col>carb</th></tr></thead>\n",
       "<tbody>\n",
       "\t<tr><th scope=row>Mazda RX4</th><td>21.0 </td><td>6    </td><td>160  </td><td>110  </td><td>3.90 </td><td>2.620</td><td>16.46</td><td>0    </td><td>1    </td><td>4    </td><td>4    </td></tr>\n",
       "\t<tr><th scope=row>Mazda RX4 Wag</th><td>21.0 </td><td>6    </td><td>160  </td><td>110  </td><td>3.90 </td><td>2.875</td><td>17.02</td><td>0    </td><td>1    </td><td>4    </td><td>4    </td></tr>\n",
       "\t<tr><th scope=row>Datsun 710</th><td>22.8 </td><td>4    </td><td>108  </td><td> 93  </td><td>3.85 </td><td>2.320</td><td>18.61</td><td>1    </td><td>1    </td><td>4    </td><td>1    </td></tr>\n",
       "\t<tr><th scope=row>Hornet 4 Drive</th><td>21.4 </td><td>6    </td><td>258  </td><td>110  </td><td>3.08 </td><td>3.215</td><td>19.44</td><td>1    </td><td>0    </td><td>3    </td><td>1    </td></tr>\n",
       "\t<tr><th scope=row>Hornet Sportabout</th><td>18.7 </td><td>8    </td><td>360  </td><td>175  </td><td>3.15 </td><td>3.440</td><td>17.02</td><td>0    </td><td>0    </td><td>3    </td><td>2    </td></tr>\n",
       "\t<tr><th scope=row>Valiant</th><td>18.1 </td><td>6    </td><td>225  </td><td>105  </td><td>2.76 </td><td>3.460</td><td>20.22</td><td>1    </td><td>0    </td><td>3    </td><td>1    </td></tr>\n",
       "</tbody>\n",
       "</table>\n"
      ],
      "text/latex": [
       "\\begin{tabular}{r|lllllllllll}\n",
       "  & mpg & cyl & disp & hp & drat & wt & qsec & vs & am & gear & carb\\\\\n",
       "\\hline\n",
       "\tMazda RX4 & 21.0  & 6     & 160   & 110   & 3.90  & 2.620 & 16.46 & 0     & 1     & 4     & 4    \\\\\n",
       "\tMazda RX4 Wag & 21.0  & 6     & 160   & 110   & 3.90  & 2.875 & 17.02 & 0     & 1     & 4     & 4    \\\\\n",
       "\tDatsun 710 & 22.8  & 4     & 108   &  93   & 3.85  & 2.320 & 18.61 & 1     & 1     & 4     & 1    \\\\\n",
       "\tHornet 4 Drive & 21.4  & 6     & 258   & 110   & 3.08  & 3.215 & 19.44 & 1     & 0     & 3     & 1    \\\\\n",
       "\tHornet Sportabout & 18.7  & 8     & 360   & 175   & 3.15  & 3.440 & 17.02 & 0     & 0     & 3     & 2    \\\\\n",
       "\tValiant & 18.1  & 6     & 225   & 105   & 2.76  & 3.460 & 20.22 & 1     & 0     & 3     & 1    \\\\\n",
       "\\end{tabular}\n"
      ],
      "text/markdown": [
       "\n",
       "| <!--/--> | mpg | cyl | disp | hp | drat | wt | qsec | vs | am | gear | carb | \n",
       "|---|---|---|---|---|---|\n",
       "| Mazda RX4 | 21.0  | 6     | 160   | 110   | 3.90  | 2.620 | 16.46 | 0     | 1     | 4     | 4     | \n",
       "| Mazda RX4 Wag | 21.0  | 6     | 160   | 110   | 3.90  | 2.875 | 17.02 | 0     | 1     | 4     | 4     | \n",
       "| Datsun 710 | 22.8  | 4     | 108   |  93   | 3.85  | 2.320 | 18.61 | 1     | 1     | 4     | 1     | \n",
       "| Hornet 4 Drive | 21.4  | 6     | 258   | 110   | 3.08  | 3.215 | 19.44 | 1     | 0     | 3     | 1     | \n",
       "| Hornet Sportabout | 18.7  | 8     | 360   | 175   | 3.15  | 3.440 | 17.02 | 0     | 0     | 3     | 2     | \n",
       "| Valiant | 18.1  | 6     | 225   | 105   | 2.76  | 3.460 | 20.22 | 1     | 0     | 3     | 1     | \n",
       "\n",
       "\n"
      ],
      "text/plain": [
       "                  mpg  cyl disp hp  drat wt    qsec  vs am gear carb\n",
       "Mazda RX4         21.0 6   160  110 3.90 2.620 16.46 0  1  4    4   \n",
       "Mazda RX4 Wag     21.0 6   160  110 3.90 2.875 17.02 0  1  4    4   \n",
       "Datsun 710        22.8 4   108   93 3.85 2.320 18.61 1  1  4    1   \n",
       "Hornet 4 Drive    21.4 6   258  110 3.08 3.215 19.44 1  0  3    1   \n",
       "Hornet Sportabout 18.7 8   360  175 3.15 3.440 17.02 0  0  3    2   \n",
       "Valiant           18.1 6   225  105 2.76 3.460 20.22 1  0  3    1   "
      ]
     },
     "metadata": {},
     "output_type": "display_data"
    },
    {
     "data": {
      "text/html": [
       "'============group by cyl'"
      ],
      "text/latex": [
       "'============group by cyl'"
      ],
      "text/markdown": [
       "'============group by cyl'"
      ],
      "text/plain": [
       "[1] \"============group by cyl\""
      ]
     },
     "metadata": {},
     "output_type": "display_data"
    },
    {
     "data": {
      "text/html": [
       "<table>\n",
       "<thead><tr><th scope=col>mpg</th><th scope=col>cyl</th><th scope=col>disp</th><th scope=col>hp</th><th scope=col>drat</th><th scope=col>wt</th><th scope=col>qsec</th><th scope=col>vs</th><th scope=col>am</th><th scope=col>gear</th><th scope=col>carb</th></tr></thead>\n",
       "<tbody>\n",
       "\t<tr><td>21.0 </td><td>6    </td><td>160  </td><td>110  </td><td>3.90 </td><td>2.620</td><td>16.46</td><td>0    </td><td>1    </td><td>4    </td><td>4    </td></tr>\n",
       "\t<tr><td>21.0 </td><td>6    </td><td>160  </td><td>110  </td><td>3.90 </td><td>2.875</td><td>17.02</td><td>0    </td><td>1    </td><td>4    </td><td>4    </td></tr>\n",
       "\t<tr><td>22.8 </td><td>4    </td><td>108  </td><td> 93  </td><td>3.85 </td><td>2.320</td><td>18.61</td><td>1    </td><td>1    </td><td>4    </td><td>1    </td></tr>\n",
       "\t<tr><td>21.4 </td><td>6    </td><td>258  </td><td>110  </td><td>3.08 </td><td>3.215</td><td>19.44</td><td>1    </td><td>0    </td><td>3    </td><td>1    </td></tr>\n",
       "\t<tr><td>18.7 </td><td>8    </td><td>360  </td><td>175  </td><td>3.15 </td><td>3.440</td><td>17.02</td><td>0    </td><td>0    </td><td>3    </td><td>2    </td></tr>\n",
       "\t<tr><td>18.1 </td><td>6    </td><td>225  </td><td>105  </td><td>2.76 </td><td>3.460</td><td>20.22</td><td>1    </td><td>0    </td><td>3    </td><td>1    </td></tr>\n",
       "</tbody>\n",
       "</table>\n"
      ],
      "text/latex": [
       "\\begin{tabular}{r|lllllllllll}\n",
       " mpg & cyl & disp & hp & drat & wt & qsec & vs & am & gear & carb\\\\\n",
       "\\hline\n",
       "\t 21.0  & 6     & 160   & 110   & 3.90  & 2.620 & 16.46 & 0     & 1     & 4     & 4    \\\\\n",
       "\t 21.0  & 6     & 160   & 110   & 3.90  & 2.875 & 17.02 & 0     & 1     & 4     & 4    \\\\\n",
       "\t 22.8  & 4     & 108   &  93   & 3.85  & 2.320 & 18.61 & 1     & 1     & 4     & 1    \\\\\n",
       "\t 21.4  & 6     & 258   & 110   & 3.08  & 3.215 & 19.44 & 1     & 0     & 3     & 1    \\\\\n",
       "\t 18.7  & 8     & 360   & 175   & 3.15  & 3.440 & 17.02 & 0     & 0     & 3     & 2    \\\\\n",
       "\t 18.1  & 6     & 225   & 105   & 2.76  & 3.460 & 20.22 & 1     & 0     & 3     & 1    \\\\\n",
       "\\end{tabular}\n"
      ],
      "text/markdown": [
       "\n",
       "mpg | cyl | disp | hp | drat | wt | qsec | vs | am | gear | carb | \n",
       "|---|---|---|---|---|---|\n",
       "| 21.0  | 6     | 160   | 110   | 3.90  | 2.620 | 16.46 | 0     | 1     | 4     | 4     | \n",
       "| 21.0  | 6     | 160   | 110   | 3.90  | 2.875 | 17.02 | 0     | 1     | 4     | 4     | \n",
       "| 22.8  | 4     | 108   |  93   | 3.85  | 2.320 | 18.61 | 1     | 1     | 4     | 1     | \n",
       "| 21.4  | 6     | 258   | 110   | 3.08  | 3.215 | 19.44 | 1     | 0     | 3     | 1     | \n",
       "| 18.7  | 8     | 360   | 175   | 3.15  | 3.440 | 17.02 | 0     | 0     | 3     | 2     | \n",
       "| 18.1  | 6     | 225   | 105   | 2.76  | 3.460 | 20.22 | 1     | 0     | 3     | 1     | \n",
       "\n",
       "\n"
      ],
      "text/plain": [
       "  mpg  cyl disp hp  drat wt    qsec  vs am gear carb\n",
       "1 21.0 6   160  110 3.90 2.620 16.46 0  1  4    4   \n",
       "2 21.0 6   160  110 3.90 2.875 17.02 0  1  4    4   \n",
       "3 22.8 4   108   93 3.85 2.320 18.61 1  1  4    1   \n",
       "4 21.4 6   258  110 3.08 3.215 19.44 1  0  3    1   \n",
       "5 18.7 8   360  175 3.15 3.440 17.02 0  0  3    2   \n",
       "6 18.1 6   225  105 2.76 3.460 20.22 1  0  3    1   "
      ]
     },
     "metadata": {},
     "output_type": "display_data"
    },
    {
     "name": "stdout",
     "output_type": "stream",
     "text": [
      "'data.frame':\t32 obs. of  11 variables:\n",
      " $ mpg : num  21 21 22.8 21.4 18.7 18.1 14.3 24.4 22.8 19.2 ...\n",
      " $ cyl : num  6 6 4 6 8 6 8 4 4 6 ...\n",
      " $ disp: num  160 160 108 258 360 ...\n",
      " $ hp  : num  110 110 93 110 175 105 245 62 95 123 ...\n",
      " $ drat: num  3.9 3.9 3.85 3.08 3.15 2.76 3.21 3.69 3.92 3.92 ...\n",
      " $ wt  : num  2.62 2.88 2.32 3.21 3.44 ...\n",
      " $ qsec: num  16.5 17 18.6 19.4 17 ...\n",
      " $ vs  : num  0 0 1 1 0 1 0 1 1 1 ...\n",
      " $ am  : num  1 1 1 0 0 0 0 0 0 0 ...\n",
      " $ gear: num  4 4 4 3 3 3 3 4 4 4 ...\n",
      " $ carb: num  4 4 1 1 2 1 4 2 2 4 ...\n"
     ]
    },
    {
     "data": {
      "text/html": [
       "'============='"
      ],
      "text/latex": [
       "'============='"
      ],
      "text/markdown": [
       "'============='"
      ],
      "text/plain": [
       "[1] \"=============\""
      ]
     },
     "metadata": {},
     "output_type": "display_data"
    },
    {
     "name": "stdout",
     "output_type": "stream",
     "text": [
      "Classes 'grouped_df', 'tbl_df', 'tbl' and 'data.frame':\t32 obs. of  11 variables:\n",
      " $ mpg : num  21 21 22.8 21.4 18.7 18.1 14.3 24.4 22.8 19.2 ...\n",
      " $ cyl : num  6 6 4 6 8 6 8 4 4 6 ...\n",
      " $ disp: num  160 160 108 258 360 ...\n",
      " $ hp  : num  110 110 93 110 175 105 245 62 95 123 ...\n",
      " $ drat: num  3.9 3.9 3.85 3.08 3.15 2.76 3.21 3.69 3.92 3.92 ...\n",
      " $ wt  : num  2.62 2.88 2.32 3.21 3.44 ...\n",
      " $ qsec: num  16.5 17 18.6 19.4 17 ...\n",
      " $ vs  : num  0 0 1 1 0 1 0 1 1 1 ...\n",
      " $ am  : num  1 1 1 0 0 0 0 0 0 0 ...\n",
      " $ gear: num  4 4 4 3 3 3 3 4 4 4 ...\n",
      " $ carb: num  4 4 1 1 2 1 4 2 2 4 ...\n",
      " - attr(*, \"vars\")= chr \"cyl\"\n",
      " - attr(*, \"drop\")= logi TRUE\n",
      " - attr(*, \"indices\")=List of 3\n",
      "  ..$ : int  2 7 8 17 18 19 20 25 26 27 ...\n",
      "  ..$ : int  0 1 3 5 9 10 29\n",
      "  ..$ : int  4 6 11 12 13 14 15 16 21 22 ...\n",
      " - attr(*, \"group_sizes\")= int  11 7 14\n",
      " - attr(*, \"biggest_group_size\")= int 14\n",
      " - attr(*, \"labels\")='data.frame':\t3 obs. of  1 variable:\n",
      "  ..$ cyl: num  4 6 8\n",
      "  ..- attr(*, \"vars\")= chr \"cyl\"\n",
      "  ..- attr(*, \"drop\")= logi TRUE\n"
     ]
    },
    {
     "data": {
      "text/html": [
       "<ol class=list-inline>\n",
       "\t<li>'grouped_df'</li>\n",
       "\t<li>'tbl_df'</li>\n",
       "\t<li>'tbl'</li>\n",
       "\t<li>'data.frame'</li>\n",
       "</ol>\n"
      ],
      "text/latex": [
       "\\begin{enumerate*}\n",
       "\\item 'grouped\\_df'\n",
       "\\item 'tbl\\_df'\n",
       "\\item 'tbl'\n",
       "\\item 'data.frame'\n",
       "\\end{enumerate*}\n"
      ],
      "text/markdown": [
       "1. 'grouped_df'\n",
       "2. 'tbl_df'\n",
       "3. 'tbl'\n",
       "4. 'data.frame'\n",
       "\n",
       "\n"
      ],
      "text/plain": [
       "[1] \"grouped_df\" \"tbl_df\"     \"tbl\"        \"data.frame\""
      ]
     },
     "metadata": {},
     "output_type": "display_data"
    }
   ],
   "source": [
    "head(mtcars)\n",
    "'============group by cyl'\n",
    "by_cyl=group_by(mtcars, cyl); head(by_cyl)\n",
    "str(mtcars)\n",
    "'============='\n",
    "str(by_cyl)\n",
    "class(by_cyl)"
   ]
  },
  {
   "cell_type": "code",
   "execution_count": 55,
   "metadata": {
    "scrolled": false
   },
   "outputs": [
    {
     "data": {
      "text/html": [
       "<table>\n",
       "<thead><tr><th scope=col>cyl</th><th scope=col>sum(hp)</th><th scope=col>sd(hp)</th><th scope=col>sum(disp)</th><th scope=col>sd(disp)</th></tr></thead>\n",
       "<tbody>\n",
       "\t<tr><td>4       </td><td> 909    </td><td>20.93453</td><td>1156.5  </td><td>26.87159</td></tr>\n",
       "\t<tr><td>6       </td><td> 856    </td><td>24.26049</td><td>1283.2  </td><td>41.56246</td></tr>\n",
       "\t<tr><td>8       </td><td>2929    </td><td>50.97689</td><td>4943.4  </td><td>67.77132</td></tr>\n",
       "</tbody>\n",
       "</table>\n"
      ],
      "text/latex": [
       "\\begin{tabular}{r|lllll}\n",
       " cyl & sum(hp) & sd(hp) & sum(disp) & sd(disp)\\\\\n",
       "\\hline\n",
       "\t 4        &  909     & 20.93453 & 1156.5   & 26.87159\\\\\n",
       "\t 6        &  856     & 24.26049 & 1283.2   & 41.56246\\\\\n",
       "\t 8        & 2929     & 50.97689 & 4943.4   & 67.77132\\\\\n",
       "\\end{tabular}\n"
      ],
      "text/markdown": [
       "\n",
       "cyl | sum(hp) | sd(hp) | sum(disp) | sd(disp) | \n",
       "|---|---|---|\n",
       "| 4        |  909     | 20.93453 | 1156.5   | 26.87159 | \n",
       "| 6        |  856     | 24.26049 | 1283.2   | 41.56246 | \n",
       "| 8        | 2929     | 50.97689 | 4943.4   | 67.77132 | \n",
       "\n",
       "\n"
      ],
      "text/plain": [
       "  cyl sum(hp) sd(hp)   sum(disp) sd(disp)\n",
       "1 4    909    20.93453 1156.5    26.87159\n",
       "2 6    856    24.26049 1283.2    41.56246\n",
       "3 8   2929    50.97689 4943.4    67.77132"
      ]
     },
     "metadata": {},
     "output_type": "display_data"
    }
   ],
   "source": [
    "summarise(by_cyl, sum(hp), sd(hp), sum(disp), sd(disp))"
   ]
  },
  {
   "cell_type": "code",
   "execution_count": 56,
   "metadata": {
    "scrolled": true
   },
   "outputs": [
    {
     "data": {
      "text/html": [
       "<table>\n",
       "<thead><tr><th scope=col>vore</th><th scope=col>sum(sleep_total)</th><th scope=col>total</th><th scope=col>avgrem</th></tr></thead>\n",
       "<tbody>\n",
       "\t<tr><td>carni   </td><td>197.2   </td><td>197.2   </td><td>2.290000</td></tr>\n",
       "\t<tr><td>herbi   </td><td>304.3   </td><td>304.3   </td><td>1.366667</td></tr>\n",
       "\t<tr><td>insecti </td><td> 74.7   </td><td> 74.7   </td><td>3.525000</td></tr>\n",
       "\t<tr><td>omni    </td><td>218.5   </td><td>218.5   </td><td>1.955556</td></tr>\n",
       "\t<tr><td>NA      </td><td> 71.3   </td><td> 71.3   </td><td>1.880000</td></tr>\n",
       "</tbody>\n",
       "</table>\n"
      ],
      "text/latex": [
       "\\begin{tabular}{r|llll}\n",
       " vore & sum(sleep\\_total) & total & avgrem\\\\\n",
       "\\hline\n",
       "\t carni    & 197.2    & 197.2    & 2.290000\\\\\n",
       "\t herbi    & 304.3    & 304.3    & 1.366667\\\\\n",
       "\t insecti  &  74.7    &  74.7    & 3.525000\\\\\n",
       "\t omni     & 218.5    & 218.5    & 1.955556\\\\\n",
       "\t NA       &  71.3    &  71.3    & 1.880000\\\\\n",
       "\\end{tabular}\n"
      ],
      "text/markdown": [
       "\n",
       "vore | sum(sleep_total) | total | avgrem | \n",
       "|---|---|---|---|---|\n",
       "| carni    | 197.2    | 197.2    | 2.290000 | \n",
       "| herbi    | 304.3    | 304.3    | 1.366667 | \n",
       "| insecti  |  74.7    |  74.7    | 3.525000 | \n",
       "| omni     | 218.5    | 218.5    | 1.955556 | \n",
       "| NA       |  71.3    |  71.3    | 1.880000 | \n",
       "\n",
       "\n"
      ],
      "text/plain": [
       "  vore    sum(sleep_total) total avgrem  \n",
       "1 carni   197.2            197.2 2.290000\n",
       "2 herbi   304.3            304.3 1.366667\n",
       "3 insecti  74.7             74.7 3.525000\n",
       "4 omni    218.5            218.5 1.955556\n",
       "5 NA       71.3             71.3 1.880000"
      ]
     },
     "metadata": {},
     "output_type": "display_data"
    }
   ],
   "source": [
    "by_vore=group_by(msleep, vore)\n",
    "summarise(by_vore, sum(sleep_total), total=sum(sleep_total), avgrem=mean(sleep_rem, na.rm=T)) #give column name"
   ]
  },
  {
   "cell_type": "code",
   "execution_count": 57,
   "metadata": {
    "scrolled": true
   },
   "outputs": [
    {
     "data": {
      "text/html": [
       "1.31607401295249"
      ],
      "text/latex": [
       "1.31607401295249"
      ],
      "text/markdown": [
       "1.31607401295249"
      ],
      "text/plain": [
       "[1] 1.316074"
      ]
     },
     "metadata": {},
     "output_type": "display_data"
    },
    {
     "data": {
      "text/html": [
       "1.31607401295249"
      ],
      "text/latex": [
       "1.31607401295249"
      ],
      "text/markdown": [
       "1.31607401295249"
      ],
      "text/plain": [
       "[1] 1.316074"
      ]
     },
     "metadata": {},
     "output_type": "display_data"
    },
    {
     "data": {
      "text/html": [
       "1.31607401295249"
      ],
      "text/latex": [
       "1.31607401295249"
      ],
      "text/markdown": [
       "1.31607401295249"
      ],
      "text/plain": [
       "[1] 1.316074"
      ]
     },
     "metadata": {},
     "output_type": "display_data"
    }
   ],
   "source": [
    "sqrt(9) %>% sqrt %>% sqrt\n",
    "9 %>% sqrt %>% sqrt %>% sqrt\n",
    "9**(1/8)"
   ]
  },
  {
   "cell_type": "code",
   "execution_count": 58,
   "metadata": {
    "scrolled": false
   },
   "outputs": [
    {
     "data": {
      "text/html": [
       "4"
      ],
      "text/latex": [
       "4"
      ],
      "text/markdown": [
       "4"
      ],
      "text/plain": [
       "[1] 4"
      ]
     },
     "metadata": {},
     "output_type": "display_data"
    }
   ],
   "source": [
    "sum(1) %>% sum(1) %>% sum(1) %>% sum(1) #always pass the previous result to the next function as the first arg"
   ]
  },
  {
   "cell_type": "code",
   "execution_count": 59,
   "metadata": {},
   "outputs": [
    {
     "data": {
      "text/html": [
       "64"
      ],
      "text/latex": [
       "64"
      ],
      "text/markdown": [
       "64"
      ],
      "text/plain": [
       "[1] 64"
      ]
     },
     "metadata": {},
     "output_type": "display_data"
    }
   ],
   "source": [
    "8 %>% (function(x){x*x}) #anonymous function"
   ]
  },
  {
   "cell_type": "code",
   "execution_count": 60,
   "metadata": {},
   "outputs": [
    {
     "data": {
      "text/html": [
       "<table>\n",
       "<thead><tr><th scope=col>name</th><th scope=col>order</th><th scope=col>sleep_total</th></tr></thead>\n",
       "<tbody>\n",
       "\t<tr><td>Tenrec      </td><td>Afrosoricida</td><td>15.6        </td></tr>\n",
       "\t<tr><td>Giraffe     </td><td>Artiodactyla</td><td> 1.9        </td></tr>\n",
       "\t<tr><td>Roe deer    </td><td>Artiodactyla</td><td> 3.0        </td></tr>\n",
       "\t<tr><td>Sheep       </td><td>Artiodactyla</td><td> 3.8        </td></tr>\n",
       "\t<tr><td>Cow         </td><td>Artiodactyla</td><td> 4.0        </td></tr>\n",
       "\t<tr><td>Goat        </td><td>Artiodactyla</td><td> 5.3        </td></tr>\n",
       "</tbody>\n",
       "</table>\n"
      ],
      "text/latex": [
       "\\begin{tabular}{r|lll}\n",
       " name & order & sleep\\_total\\\\\n",
       "\\hline\n",
       "\t Tenrec       & Afrosoricida & 15.6        \\\\\n",
       "\t Giraffe      & Artiodactyla &  1.9        \\\\\n",
       "\t Roe deer     & Artiodactyla &  3.0        \\\\\n",
       "\t Sheep        & Artiodactyla &  3.8        \\\\\n",
       "\t Cow          & Artiodactyla &  4.0        \\\\\n",
       "\t Goat         & Artiodactyla &  5.3        \\\\\n",
       "\\end{tabular}\n"
      ],
      "text/markdown": [
       "\n",
       "name | order | sleep_total | \n",
       "|---|---|---|---|---|---|\n",
       "| Tenrec       | Afrosoricida | 15.6         | \n",
       "| Giraffe      | Artiodactyla |  1.9         | \n",
       "| Roe deer     | Artiodactyla |  3.0         | \n",
       "| Sheep        | Artiodactyla |  3.8         | \n",
       "| Cow          | Artiodactyla |  4.0         | \n",
       "| Goat         | Artiodactyla |  5.3         | \n",
       "\n",
       "\n"
      ],
      "text/plain": [
       "  name     order        sleep_total\n",
       "1 Tenrec   Afrosoricida 15.6       \n",
       "2 Giraffe  Artiodactyla  1.9       \n",
       "3 Roe deer Artiodactyla  3.0       \n",
       "4 Sheep    Artiodactyla  3.8       \n",
       "5 Cow      Artiodactyla  4.0       \n",
       "6 Goat     Artiodactyla  5.3       "
      ]
     },
     "metadata": {},
     "output_type": "display_data"
    }
   ],
   "source": [
    "msleep %>% \n",
    "select(name, order, sleep_total) %>% \n",
    "arrange(order, sleep_total) %>% \n",
    "head \n",
    "#these functions don't have the dataframe as the first arg because %>% passes in the first arg"
   ]
  },
  {
   "cell_type": "code",
   "execution_count": 61,
   "metadata": {},
   "outputs": [
    {
     "data": {
      "text/html": [
       "<table>\n",
       "<thead><tr><th scope=col>name</th><th scope=col>order</th><th scope=col>sleep_total</th></tr></thead>\n",
       "<tbody>\n",
       "\t<tr><td>Big brown bat         </td><td>Chiroptera            </td><td>19.7                  </td></tr>\n",
       "\t<tr><td>Little brown bat      </td><td>Chiroptera            </td><td>19.9                  </td></tr>\n",
       "\t<tr><td>Long-nosed armadillo  </td><td>Cingulata             </td><td>17.4                  </td></tr>\n",
       "\t<tr><td>Giant armadillo       </td><td>Cingulata             </td><td>18.1                  </td></tr>\n",
       "\t<tr><td>North American Opossum</td><td>Didelphimorphia       </td><td>18.0                  </td></tr>\n",
       "\t<tr><td>Thick-tailed opposum  </td><td>Didelphimorphia       </td><td>19.4                  </td></tr>\n",
       "\t<tr><td>Owl monkey            </td><td>Primates              </td><td>17.0                  </td></tr>\n",
       "\t<tr><td>Arctic ground squirrel</td><td>Rodentia              </td><td>16.6                  </td></tr>\n",
       "</tbody>\n",
       "</table>\n"
      ],
      "text/latex": [
       "\\begin{tabular}{r|lll}\n",
       " name & order & sleep\\_total\\\\\n",
       "\\hline\n",
       "\t Big brown bat          & Chiroptera             & 19.7                  \\\\\n",
       "\t Little brown bat       & Chiroptera             & 19.9                  \\\\\n",
       "\t Long-nosed armadillo   & Cingulata              & 17.4                  \\\\\n",
       "\t Giant armadillo        & Cingulata              & 18.1                  \\\\\n",
       "\t North American Opossum & Didelphimorphia        & 18.0                  \\\\\n",
       "\t Thick-tailed opposum   & Didelphimorphia        & 19.4                  \\\\\n",
       "\t Owl monkey             & Primates               & 17.0                  \\\\\n",
       "\t Arctic ground squirrel & Rodentia               & 16.6                  \\\\\n",
       "\\end{tabular}\n"
      ],
      "text/markdown": [
       "\n",
       "name | order | sleep_total | \n",
       "|---|---|---|---|---|---|---|---|\n",
       "| Big brown bat          | Chiroptera             | 19.7                   | \n",
       "| Little brown bat       | Chiroptera             | 19.9                   | \n",
       "| Long-nosed armadillo   | Cingulata              | 17.4                   | \n",
       "| Giant armadillo        | Cingulata              | 18.1                   | \n",
       "| North American Opossum | Didelphimorphia        | 18.0                   | \n",
       "| Thick-tailed opposum   | Didelphimorphia        | 19.4                   | \n",
       "| Owl monkey             | Primates               | 17.0                   | \n",
       "| Arctic ground squirrel | Rodentia               | 16.6                   | \n",
       "\n",
       "\n"
      ],
      "text/plain": [
       "  name                   order           sleep_total\n",
       "1 Big brown bat          Chiroptera      19.7       \n",
       "2 Little brown bat       Chiroptera      19.9       \n",
       "3 Long-nosed armadillo   Cingulata       17.4       \n",
       "4 Giant armadillo        Cingulata       18.1       \n",
       "5 North American Opossum Didelphimorphia 18.0       \n",
       "6 Thick-tailed opposum   Didelphimorphia 19.4       \n",
       "7 Owl monkey             Primates        17.0       \n",
       "8 Arctic ground squirrel Rodentia        16.6       "
      ]
     },
     "metadata": {},
     "output_type": "display_data"
    }
   ],
   "source": [
    "msleep %>% select(name, order, sleep_total) %>% arrange(order, sleep_total) %>% filter(sleep_total >= 16)"
   ]
  },
  {
   "cell_type": "code",
   "execution_count": 62,
   "metadata": {},
   "outputs": [
    {
     "data": {
      "text/html": [
       "<table>\n",
       "<thead><tr><th scope=col>order</th><th scope=col>avg_sleep</th><th scope=col>min_sleep</th><th scope=col>max_sleep</th><th scope=col>total</th></tr></thead>\n",
       "<tbody>\n",
       "\t<tr><td>Afrosoricida</td><td>15.600000   </td><td>15.6        </td><td>15.6        </td><td> 1          </td></tr>\n",
       "\t<tr><td>Artiodactyla</td><td> 4.516667   </td><td> 1.9        </td><td> 9.1        </td><td> 6          </td></tr>\n",
       "\t<tr><td>Carnivora   </td><td>10.116667   </td><td> 3.5        </td><td>15.8        </td><td>12          </td></tr>\n",
       "\t<tr><td>Cetacea     </td><td> 4.500000   </td><td> 2.7        </td><td> 5.6        </td><td> 3          </td></tr>\n",
       "\t<tr><td>Chiroptera  </td><td>19.800000   </td><td>19.7        </td><td>19.9        </td><td> 2          </td></tr>\n",
       "\t<tr><td>Cingulata   </td><td>17.750000   </td><td>17.4        </td><td>18.1        </td><td> 2          </td></tr>\n",
       "</tbody>\n",
       "</table>\n"
      ],
      "text/latex": [
       "\\begin{tabular}{r|lllll}\n",
       " order & avg\\_sleep & min\\_sleep & max\\_sleep & total\\\\\n",
       "\\hline\n",
       "\t Afrosoricida & 15.600000    & 15.6         & 15.6         &  1          \\\\\n",
       "\t Artiodactyla &  4.516667    &  1.9         &  9.1         &  6          \\\\\n",
       "\t Carnivora    & 10.116667    &  3.5         & 15.8         & 12          \\\\\n",
       "\t Cetacea      &  4.500000    &  2.7         &  5.6         &  3          \\\\\n",
       "\t Chiroptera   & 19.800000    & 19.7         & 19.9         &  2          \\\\\n",
       "\t Cingulata    & 17.750000    & 17.4         & 18.1         &  2          \\\\\n",
       "\\end{tabular}\n"
      ],
      "text/markdown": [
       "\n",
       "order | avg_sleep | min_sleep | max_sleep | total | \n",
       "|---|---|---|---|---|---|\n",
       "| Afrosoricida | 15.600000    | 15.6         | 15.6         |  1           | \n",
       "| Artiodactyla |  4.516667    |  1.9         |  9.1         |  6           | \n",
       "| Carnivora    | 10.116667    |  3.5         | 15.8         | 12           | \n",
       "| Cetacea      |  4.500000    |  2.7         |  5.6         |  3           | \n",
       "| Chiroptera   | 19.800000    | 19.7         | 19.9         |  2           | \n",
       "| Cingulata    | 17.750000    | 17.4         | 18.1         |  2           | \n",
       "\n",
       "\n"
      ],
      "text/plain": [
       "  order        avg_sleep min_sleep max_sleep total\n",
       "1 Afrosoricida 15.600000 15.6      15.6       1   \n",
       "2 Artiodactyla  4.516667  1.9       9.1       6   \n",
       "3 Carnivora    10.116667  3.5      15.8      12   \n",
       "4 Cetacea       4.500000  2.7       5.6       3   \n",
       "5 Chiroptera   19.800000 19.7      19.9       2   \n",
       "6 Cingulata    17.750000 17.4      18.1       2   "
      ]
     },
     "metadata": {},
     "output_type": "display_data"
    }
   ],
   "source": [
    "msleep %>% \n",
    "group_by(order) %>% \n",
    "summarise(avg_sleep = mean(sleep_total), \n",
    "        min_sleep = min(sleep_total),\n",
    "        max_sleep = max(sleep_total), \n",
    "        total = n()) %>% \n",
    "head\n",
    "# n() (returns the length of vector)"
   ]
  },
  {
   "cell_type": "code",
   "execution_count": 63,
   "metadata": {},
   "outputs": [],
   "source": [
    "library(reshape2)"
   ]
  },
  {
   "cell_type": "code",
   "execution_count": 64,
   "metadata": {
    "scrolled": true
   },
   "outputs": [
    {
     "data": {
      "text/html": [
       "<ol class=list-inline>\n",
       "\t<li>'Ozone'</li>\n",
       "\t<li>'Solar.R'</li>\n",
       "\t<li>'Wind'</li>\n",
       "\t<li>'Temp'</li>\n",
       "\t<li>'Month'</li>\n",
       "\t<li>'Day'</li>\n",
       "</ol>\n"
      ],
      "text/latex": [
       "\\begin{enumerate*}\n",
       "\\item 'Ozone'\n",
       "\\item 'Solar.R'\n",
       "\\item 'Wind'\n",
       "\\item 'Temp'\n",
       "\\item 'Month'\n",
       "\\item 'Day'\n",
       "\\end{enumerate*}\n"
      ],
      "text/markdown": [
       "1. 'Ozone'\n",
       "2. 'Solar.R'\n",
       "3. 'Wind'\n",
       "4. 'Temp'\n",
       "5. 'Month'\n",
       "6. 'Day'\n",
       "\n",
       "\n"
      ],
      "text/plain": [
       "[1] \"Ozone\"   \"Solar.R\" \"Wind\"    \"Temp\"    \"Month\"   \"Day\"    "
      ]
     },
     "metadata": {},
     "output_type": "display_data"
    },
    {
     "data": {
      "text/html": [
       "<table>\n",
       "<thead><tr><th scope=col>OZONE</th><th scope=col>SOLAR.R</th><th scope=col>WIND</th><th scope=col>TEMP</th><th scope=col>MONTH</th><th scope=col>DAY</th></tr></thead>\n",
       "<tbody>\n",
       "\t<tr><td>41  </td><td>190 </td><td> 7.4</td><td>67  </td><td>5   </td><td>1   </td></tr>\n",
       "\t<tr><td>36  </td><td>118 </td><td> 8.0</td><td>72  </td><td>5   </td><td>2   </td></tr>\n",
       "\t<tr><td>12  </td><td>149 </td><td>12.6</td><td>74  </td><td>5   </td><td>3   </td></tr>\n",
       "\t<tr><td>18  </td><td>313 </td><td>11.5</td><td>62  </td><td>5   </td><td>4   </td></tr>\n",
       "\t<tr><td>NA  </td><td> NA </td><td>14.3</td><td>56  </td><td>5   </td><td>5   </td></tr>\n",
       "\t<tr><td>28  </td><td> NA </td><td>14.9</td><td>66  </td><td>5   </td><td>6   </td></tr>\n",
       "</tbody>\n",
       "</table>\n"
      ],
      "text/latex": [
       "\\begin{tabular}{r|llllll}\n",
       " OZONE & SOLAR.R & WIND & TEMP & MONTH & DAY\\\\\n",
       "\\hline\n",
       "\t 41   & 190  &  7.4 & 67   & 5    & 1   \\\\\n",
       "\t 36   & 118  &  8.0 & 72   & 5    & 2   \\\\\n",
       "\t 12   & 149  & 12.6 & 74   & 5    & 3   \\\\\n",
       "\t 18   & 313  & 11.5 & 62   & 5    & 4   \\\\\n",
       "\t NA   &  NA  & 14.3 & 56   & 5    & 5   \\\\\n",
       "\t 28   &  NA  & 14.9 & 66   & 5    & 6   \\\\\n",
       "\\end{tabular}\n"
      ],
      "text/markdown": [
       "\n",
       "OZONE | SOLAR.R | WIND | TEMP | MONTH | DAY | \n",
       "|---|---|---|---|---|---|\n",
       "| 41   | 190  |  7.4 | 67   | 5    | 1    | \n",
       "| 36   | 118  |  8.0 | 72   | 5    | 2    | \n",
       "| 12   | 149  | 12.6 | 74   | 5    | 3    | \n",
       "| 18   | 313  | 11.5 | 62   | 5    | 4    | \n",
       "| NA   |  NA  | 14.3 | 56   | 5    | 5    | \n",
       "| 28   |  NA  | 14.9 | 66   | 5    | 6    | \n",
       "\n",
       "\n"
      ],
      "text/plain": [
       "  OZONE SOLAR.R WIND TEMP MONTH DAY\n",
       "1 41    190      7.4 67   5     1  \n",
       "2 36    118      8.0 72   5     2  \n",
       "3 12    149     12.6 74   5     3  \n",
       "4 18    313     11.5 62   5     4  \n",
       "5 NA     NA     14.3 56   5     5  \n",
       "6 28     NA     14.9 66   5     6  "
      ]
     },
     "metadata": {},
     "output_type": "display_data"
    }
   ],
   "source": [
    "names(airquality)\n",
    "names(airquality) <- toupper(names(airquality))\n",
    "head(airquality)"
   ]
  },
  {
   "cell_type": "code",
   "execution_count": 65,
   "metadata": {
    "scrolled": true
   },
   "outputs": [
    {
     "data": {
      "text/html": [
       "'=============airquality'"
      ],
      "text/latex": [
       "'=============airquality'"
      ],
      "text/markdown": [
       "'=============airquality'"
      ],
      "text/plain": [
       "[1] \"=============airquality\""
      ]
     },
     "metadata": {},
     "output_type": "display_data"
    },
    {
     "data": {
      "text/html": [
       "<table>\n",
       "<thead><tr><th scope=col>OZONE</th><th scope=col>SOLAR.R</th><th scope=col>WIND</th><th scope=col>TEMP</th><th scope=col>MONTH</th><th scope=col>DAY</th></tr></thead>\n",
       "<tbody>\n",
       "\t<tr><td>41  </td><td>190 </td><td> 7.4</td><td>67  </td><td>5   </td><td>1   </td></tr>\n",
       "\t<tr><td>36  </td><td>118 </td><td> 8.0</td><td>72  </td><td>5   </td><td>2   </td></tr>\n",
       "\t<tr><td>12  </td><td>149 </td><td>12.6</td><td>74  </td><td>5   </td><td>3   </td></tr>\n",
       "\t<tr><td>18  </td><td>313 </td><td>11.5</td><td>62  </td><td>5   </td><td>4   </td></tr>\n",
       "\t<tr><td>NA  </td><td> NA </td><td>14.3</td><td>56  </td><td>5   </td><td>5   </td></tr>\n",
       "\t<tr><td>28  </td><td> NA </td><td>14.9</td><td>66  </td><td>5   </td><td>6   </td></tr>\n",
       "</tbody>\n",
       "</table>\n"
      ],
      "text/latex": [
       "\\begin{tabular}{r|llllll}\n",
       " OZONE & SOLAR.R & WIND & TEMP & MONTH & DAY\\\\\n",
       "\\hline\n",
       "\t 41   & 190  &  7.4 & 67   & 5    & 1   \\\\\n",
       "\t 36   & 118  &  8.0 & 72   & 5    & 2   \\\\\n",
       "\t 12   & 149  & 12.6 & 74   & 5    & 3   \\\\\n",
       "\t 18   & 313  & 11.5 & 62   & 5    & 4   \\\\\n",
       "\t NA   &  NA  & 14.3 & 56   & 5    & 5   \\\\\n",
       "\t 28   &  NA  & 14.9 & 66   & 5    & 6   \\\\\n",
       "\\end{tabular}\n"
      ],
      "text/markdown": [
       "\n",
       "OZONE | SOLAR.R | WIND | TEMP | MONTH | DAY | \n",
       "|---|---|---|---|---|---|\n",
       "| 41   | 190  |  7.4 | 67   | 5    | 1    | \n",
       "| 36   | 118  |  8.0 | 72   | 5    | 2    | \n",
       "| 12   | 149  | 12.6 | 74   | 5    | 3    | \n",
       "| 18   | 313  | 11.5 | 62   | 5    | 4    | \n",
       "| NA   |  NA  | 14.3 | 56   | 5    | 5    | \n",
       "| 28   |  NA  | 14.9 | 66   | 5    | 6    | \n",
       "\n",
       "\n"
      ],
      "text/plain": [
       "  OZONE SOLAR.R WIND TEMP MONTH DAY\n",
       "1 41    190      7.4 67   5     1  \n",
       "2 36    118      8.0 72   5     2  \n",
       "3 12    149     12.6 74   5     3  \n",
       "4 18    313     11.5 62   5     4  \n",
       "5 NA     NA     14.3 56   5     5  \n",
       "6 28     NA     14.9 66   5     6  "
      ]
     },
     "metadata": {},
     "output_type": "display_data"
    },
    {
     "data": {
      "text/html": [
       "'=============aql'"
      ],
      "text/latex": [
       "'=============aql'"
      ],
      "text/markdown": [
       "'=============aql'"
      ],
      "text/plain": [
       "[1] \"=============aql\""
      ]
     },
     "metadata": {},
     "output_type": "display_data"
    },
    {
     "name": "stderr",
     "output_type": "stream",
     "text": [
      "No id variables; using all as measure variables\n"
     ]
    },
    {
     "data": {
      "text/html": [
       "<table>\n",
       "<thead><tr><th scope=col>variable</th><th scope=col>value</th></tr></thead>\n",
       "<tbody>\n",
       "\t<tr><td>OZONE</td><td>41   </td></tr>\n",
       "\t<tr><td>OZONE</td><td>36   </td></tr>\n",
       "\t<tr><td>OZONE</td><td>12   </td></tr>\n",
       "\t<tr><td>OZONE</td><td>18   </td></tr>\n",
       "\t<tr><td>OZONE</td><td>NA   </td></tr>\n",
       "\t<tr><td>OZONE</td><td>28   </td></tr>\n",
       "</tbody>\n",
       "</table>\n"
      ],
      "text/latex": [
       "\\begin{tabular}{r|ll}\n",
       " variable & value\\\\\n",
       "\\hline\n",
       "\t OZONE & 41   \\\\\n",
       "\t OZONE & 36   \\\\\n",
       "\t OZONE & 12   \\\\\n",
       "\t OZONE & 18   \\\\\n",
       "\t OZONE & NA   \\\\\n",
       "\t OZONE & 28   \\\\\n",
       "\\end{tabular}\n"
      ],
      "text/markdown": [
       "\n",
       "variable | value | \n",
       "|---|---|---|---|---|---|\n",
       "| OZONE | 41    | \n",
       "| OZONE | 36    | \n",
       "| OZONE | 12    | \n",
       "| OZONE | 18    | \n",
       "| OZONE | NA    | \n",
       "| OZONE | 28    | \n",
       "\n",
       "\n"
      ],
      "text/plain": [
       "  variable value\n",
       "1 OZONE    41   \n",
       "2 OZONE    36   \n",
       "3 OZONE    12   \n",
       "4 OZONE    18   \n",
       "5 OZONE    NA   \n",
       "6 OZONE    28   "
      ]
     },
     "metadata": {},
     "output_type": "display_data"
    },
    {
     "data": {
      "text/html": [
       "<table>\n",
       "<thead><tr><th></th><th scope=col>variable</th><th scope=col>value</th></tr></thead>\n",
       "<tbody>\n",
       "\t<tr><th scope=row>913</th><td>DAY</td><td>25 </td></tr>\n",
       "\t<tr><th scope=row>914</th><td>DAY</td><td>26 </td></tr>\n",
       "\t<tr><th scope=row>915</th><td>DAY</td><td>27 </td></tr>\n",
       "\t<tr><th scope=row>916</th><td>DAY</td><td>28 </td></tr>\n",
       "\t<tr><th scope=row>917</th><td>DAY</td><td>29 </td></tr>\n",
       "\t<tr><th scope=row>918</th><td>DAY</td><td>30 </td></tr>\n",
       "</tbody>\n",
       "</table>\n"
      ],
      "text/latex": [
       "\\begin{tabular}{r|ll}\n",
       "  & variable & value\\\\\n",
       "\\hline\n",
       "\t913 & DAY & 25 \\\\\n",
       "\t914 & DAY & 26 \\\\\n",
       "\t915 & DAY & 27 \\\\\n",
       "\t916 & DAY & 28 \\\\\n",
       "\t917 & DAY & 29 \\\\\n",
       "\t918 & DAY & 30 \\\\\n",
       "\\end{tabular}\n"
      ],
      "text/markdown": [
       "\n",
       "| <!--/--> | variable | value | \n",
       "|---|---|---|---|---|---|\n",
       "| 913 | DAY | 25  | \n",
       "| 914 | DAY | 26  | \n",
       "| 915 | DAY | 27  | \n",
       "| 916 | DAY | 28  | \n",
       "| 917 | DAY | 29  | \n",
       "| 918 | DAY | 30  | \n",
       "\n",
       "\n"
      ],
      "text/plain": [
       "    variable value\n",
       "913 DAY      25   \n",
       "914 DAY      26   \n",
       "915 DAY      27   \n",
       "916 DAY      28   \n",
       "917 DAY      29   \n",
       "918 DAY      30   "
      ]
     },
     "metadata": {},
     "output_type": "display_data"
    }
   ],
   "source": [
    "\"=============airquality\"\n",
    "head(airquality)\n",
    "\"=============aql\"\n",
    "aql <- melt(airquality) \n",
    "head(aql)\n",
    "tail(aql)"
   ]
  },
  {
   "cell_type": "code",
   "execution_count": 66,
   "metadata": {
    "scrolled": false
   },
   "outputs": [
    {
     "data": {
      "text/html": [
       "<table>\n",
       "<thead><tr><th scope=col>OZONE</th><th scope=col>SOLAR.R</th><th scope=col>WIND</th><th scope=col>TEMP</th><th scope=col>MONTH</th><th scope=col>DAY</th></tr></thead>\n",
       "<tbody>\n",
       "\t<tr><td>41  </td><td>190 </td><td> 7.4</td><td>67  </td><td>5   </td><td>1   </td></tr>\n",
       "\t<tr><td>36  </td><td>118 </td><td> 8.0</td><td>72  </td><td>5   </td><td>2   </td></tr>\n",
       "\t<tr><td>12  </td><td>149 </td><td>12.6</td><td>74  </td><td>5   </td><td>3   </td></tr>\n",
       "\t<tr><td>18  </td><td>313 </td><td>11.5</td><td>62  </td><td>5   </td><td>4   </td></tr>\n",
       "\t<tr><td>NA  </td><td> NA </td><td>14.3</td><td>56  </td><td>5   </td><td>5   </td></tr>\n",
       "\t<tr><td>28  </td><td> NA </td><td>14.9</td><td>66  </td><td>5   </td><td>6   </td></tr>\n",
       "</tbody>\n",
       "</table>\n"
      ],
      "text/latex": [
       "\\begin{tabular}{r|llllll}\n",
       " OZONE & SOLAR.R & WIND & TEMP & MONTH & DAY\\\\\n",
       "\\hline\n",
       "\t 41   & 190  &  7.4 & 67   & 5    & 1   \\\\\n",
       "\t 36   & 118  &  8.0 & 72   & 5    & 2   \\\\\n",
       "\t 12   & 149  & 12.6 & 74   & 5    & 3   \\\\\n",
       "\t 18   & 313  & 11.5 & 62   & 5    & 4   \\\\\n",
       "\t NA   &  NA  & 14.3 & 56   & 5    & 5   \\\\\n",
       "\t 28   &  NA  & 14.9 & 66   & 5    & 6   \\\\\n",
       "\\end{tabular}\n"
      ],
      "text/markdown": [
       "\n",
       "OZONE | SOLAR.R | WIND | TEMP | MONTH | DAY | \n",
       "|---|---|---|---|---|---|\n",
       "| 41   | 190  |  7.4 | 67   | 5    | 1    | \n",
       "| 36   | 118  |  8.0 | 72   | 5    | 2    | \n",
       "| 12   | 149  | 12.6 | 74   | 5    | 3    | \n",
       "| 18   | 313  | 11.5 | 62   | 5    | 4    | \n",
       "| NA   |  NA  | 14.3 | 56   | 5    | 5    | \n",
       "| 28   |  NA  | 14.9 | 66   | 5    | 6    | \n",
       "\n",
       "\n"
      ],
      "text/plain": [
       "  OZONE SOLAR.R WIND TEMP MONTH DAY\n",
       "1 41    190      7.4 67   5     1  \n",
       "2 36    118      8.0 72   5     2  \n",
       "3 12    149     12.6 74   5     3  \n",
       "4 18    313     11.5 62   5     4  \n",
       "5 NA     NA     14.3 56   5     5  \n",
       "6 28     NA     14.9 66   5     6  "
      ]
     },
     "metadata": {},
     "output_type": "display_data"
    },
    {
     "data": {
      "text/html": [
       "<table>\n",
       "<thead><tr><th scope=col>OZONE</th><th scope=col>SOLAR.R</th><th scope=col>WIND</th><th scope=col>TEMP</th><th scope=col>MONTH</th><th scope=col>DAY</th></tr></thead>\n",
       "<tbody>\n",
       "\t<tr><td>41 </td><td>190</td><td>7.4</td><td>67 </td><td>5  </td><td>1  </td></tr>\n",
       "</tbody>\n",
       "</table>\n"
      ],
      "text/latex": [
       "\\begin{tabular}{r|llllll}\n",
       " OZONE & SOLAR.R & WIND & TEMP & MONTH & DAY\\\\\n",
       "\\hline\n",
       "\t 41  & 190 & 7.4 & 67  & 5   & 1  \\\\\n",
       "\\end{tabular}\n"
      ],
      "text/markdown": [
       "\n",
       "OZONE | SOLAR.R | WIND | TEMP | MONTH | DAY | \n",
       "|---|\n",
       "| 41  | 190 | 7.4 | 67  | 5   | 1   | \n",
       "\n",
       "\n"
      ],
      "text/plain": [
       "  OZONE SOLAR.R WIND TEMP MONTH DAY\n",
       "1 41    190     7.4  67   5     1  "
      ]
     },
     "metadata": {},
     "output_type": "display_data"
    },
    {
     "data": {
      "text/html": [
       "<table>\n",
       "<thead><tr><th scope=col>OZONE</th><th scope=col>SOLAR.R</th><th scope=col>WIND</th><th scope=col>TEMP</th><th scope=col>MONTH</th><th scope=col>DAY</th></tr></thead>\n",
       "<tbody>\n",
       "\t<tr><td>41 </td><td>190</td><td>7.4</td><td>67 </td><td>5  </td><td>1  </td></tr>\n",
       "</tbody>\n",
       "</table>\n"
      ],
      "text/latex": [
       "\\begin{tabular}{r|llllll}\n",
       " OZONE & SOLAR.R & WIND & TEMP & MONTH & DAY\\\\\n",
       "\\hline\n",
       "\t 41  & 190 & 7.4 & 67  & 5   & 1  \\\\\n",
       "\\end{tabular}\n"
      ],
      "text/markdown": [
       "\n",
       "OZONE | SOLAR.R | WIND | TEMP | MONTH | DAY | \n",
       "|---|\n",
       "| 41  | 190 | 7.4 | 67  | 5   | 1   | \n",
       "\n",
       "\n"
      ],
      "text/plain": [
       "  OZONE SOLAR.R WIND TEMP MONTH DAY\n",
       "1 41    190     7.4  67   5     1  "
      ]
     },
     "metadata": {},
     "output_type": "display_data"
    },
    {
     "data": {
      "text/html": [
       "<table>\n",
       "<thead><tr><th></th><th scope=col>MONTH</th><th scope=col>DAY</th><th scope=col>variable</th><th scope=col>value</th></tr></thead>\n",
       "<tbody>\n",
       "\t<tr><th scope=row>1</th><td>5      </td><td>1      </td><td>OZONE  </td><td> 41.0  </td></tr>\n",
       "\t<tr><th scope=row>154</th><td>5      </td><td>1      </td><td>SOLAR.R</td><td>190.0  </td></tr>\n",
       "\t<tr><th scope=row>307</th><td>5      </td><td>1      </td><td>WIND   </td><td>  7.4  </td></tr>\n",
       "\t<tr><th scope=row>460</th><td>5      </td><td>1      </td><td>TEMP   </td><td> 67.0  </td></tr>\n",
       "</tbody>\n",
       "</table>\n"
      ],
      "text/latex": [
       "\\begin{tabular}{r|llll}\n",
       "  & MONTH & DAY & variable & value\\\\\n",
       "\\hline\n",
       "\t1 & 5       & 1       & OZONE   &  41.0  \\\\\n",
       "\t154 & 5       & 1       & SOLAR.R & 190.0  \\\\\n",
       "\t307 & 5       & 1       & WIND    &   7.4  \\\\\n",
       "\t460 & 5       & 1       & TEMP    &  67.0  \\\\\n",
       "\\end{tabular}\n"
      ],
      "text/markdown": [
       "\n",
       "| <!--/--> | MONTH | DAY | variable | value | \n",
       "|---|---|---|---|\n",
       "| 1 | 5       | 1       | OZONE   |  41.0   | \n",
       "| 154 | 5       | 1       | SOLAR.R | 190.0   | \n",
       "| 307 | 5       | 1       | WIND    |   7.4   | \n",
       "| 460 | 5       | 1       | TEMP    |  67.0   | \n",
       "\n",
       "\n"
      ],
      "text/plain": [
       "    MONTH DAY variable value\n",
       "1   5     1   OZONE     41.0\n",
       "154 5     1   SOLAR.R  190.0\n",
       "307 5     1   WIND       7.4\n",
       "460 5     1   TEMP      67.0"
      ]
     },
     "metadata": {},
     "output_type": "display_data"
    }
   ],
   "source": [
    "head(airquality)\n",
    "subset(airquality, MONTH==5 & DAY==1)\n",
    "filter(airquality, MONTH==5 & DAY==1) #filter is faster than subset when data set is over 15000 or so\n",
    "aql=melt(airquality, id.vars=c('MONTH', 'DAY')) \n",
    "# aql\n",
    "subset(aql, MONTH==5 & DAY==1)"
   ]
  },
  {
   "cell_type": "code",
   "execution_count": 67,
   "metadata": {},
   "outputs": [
    {
     "name": "stderr",
     "output_type": "stream",
     "text": [
      "Using name, genus, vore, order, conservation as id variables\n"
     ]
    },
    {
     "data": {
      "text/html": [
       "<table>\n",
       "<thead><tr><th scope=col>name</th><th scope=col>genus</th><th scope=col>vore</th><th scope=col>order</th><th scope=col>conservation</th><th scope=col>variable</th><th scope=col>value</th></tr></thead>\n",
       "<tbody>\n",
       "\t<tr><td>Cheetah                   </td><td>Acinonyx                  </td><td>carni                     </td><td>Carnivora                 </td><td>lc                        </td><td>sleep_total               </td><td>12.1                      </td></tr>\n",
       "\t<tr><td>Owl monkey                </td><td>Aotus                     </td><td>omni                      </td><td>Primates                  </td><td>NA                        </td><td>sleep_total               </td><td>17.0                      </td></tr>\n",
       "\t<tr><td>Mountain beaver           </td><td>Aplodontia                </td><td>herbi                     </td><td>Rodentia                  </td><td>nt                        </td><td>sleep_total               </td><td>14.4                      </td></tr>\n",
       "\t<tr><td>Greater short-tailed shrew</td><td>Blarina                   </td><td>omni                      </td><td>Soricomorpha              </td><td>lc                        </td><td>sleep_total               </td><td>14.9                      </td></tr>\n",
       "\t<tr><td>Cow                       </td><td>Bos                       </td><td>herbi                     </td><td>Artiodactyla              </td><td>domesticated              </td><td>sleep_total               </td><td> 4.0                      </td></tr>\n",
       "\t<tr><td>Three-toed sloth          </td><td>Bradypus                  </td><td>herbi                     </td><td>Pilosa                    </td><td>NA                        </td><td>sleep_total               </td><td>14.4                      </td></tr>\n",
       "\t<tr><td>Northern fur seal         </td><td>Callorhinus               </td><td>carni                     </td><td>Carnivora                 </td><td>vu                        </td><td>sleep_total               </td><td> 8.7                      </td></tr>\n",
       "\t<tr><td>Vesper mouse              </td><td>Calomys                   </td><td>NA                        </td><td>Rodentia                  </td><td>NA                        </td><td>sleep_total               </td><td> 7.0                      </td></tr>\n",
       "\t<tr><td>Dog                       </td><td>Canis                     </td><td>carni                     </td><td>Carnivora                 </td><td>domesticated              </td><td>sleep_total               </td><td>10.1                      </td></tr>\n",
       "\t<tr><td>Roe deer                  </td><td>Capreolus                 </td><td>herbi                     </td><td>Artiodactyla              </td><td>lc                        </td><td>sleep_total               </td><td> 3.0                      </td></tr>\n",
       "\t<tr><td>Goat                      </td><td>Capri                     </td><td>herbi                     </td><td>Artiodactyla              </td><td>lc                        </td><td>sleep_total               </td><td> 5.3                      </td></tr>\n",
       "\t<tr><td>Guinea pig                </td><td>Cavis                     </td><td>herbi                     </td><td>Rodentia                  </td><td>domesticated              </td><td>sleep_total               </td><td> 9.4                      </td></tr>\n",
       "\t<tr><td>Grivet                    </td><td>Cercopithecus             </td><td>omni                      </td><td>Primates                  </td><td>lc                        </td><td>sleep_total               </td><td>10.0                      </td></tr>\n",
       "\t<tr><td>Chinchilla                </td><td>Chinchilla                </td><td>herbi                     </td><td>Rodentia                  </td><td>domesticated              </td><td>sleep_total               </td><td>12.5                      </td></tr>\n",
       "\t<tr><td>Star-nosed mole           </td><td>Condylura                 </td><td>omni                      </td><td>Soricomorpha              </td><td>lc                        </td><td>sleep_total               </td><td>10.3                      </td></tr>\n",
       "\t<tr><td>African giant pouched rat </td><td>Cricetomys                </td><td>omni                      </td><td>Rodentia                  </td><td>NA                        </td><td>sleep_total               </td><td> 8.3                      </td></tr>\n",
       "\t<tr><td>Lesser short-tailed shrew </td><td>Cryptotis                 </td><td>omni                      </td><td>Soricomorpha              </td><td>lc                        </td><td>sleep_total               </td><td> 9.1                      </td></tr>\n",
       "\t<tr><td>Long-nosed armadillo      </td><td>Dasypus                   </td><td>carni                     </td><td>Cingulata                 </td><td>lc                        </td><td>sleep_total               </td><td>17.4                      </td></tr>\n",
       "\t<tr><td>Tree hyrax                </td><td>Dendrohyrax               </td><td>herbi                     </td><td>Hyracoidea                </td><td>lc                        </td><td>sleep_total               </td><td> 5.3                      </td></tr>\n",
       "\t<tr><td>North American Opossum    </td><td>Didelphis                 </td><td>omni                      </td><td>Didelphimorphia           </td><td>lc                        </td><td>sleep_total               </td><td>18.0                      </td></tr>\n",
       "\t<tr><td>Asian elephant            </td><td>Elephas                   </td><td>herbi                     </td><td>Proboscidea               </td><td>en                        </td><td>sleep_total               </td><td> 3.9                      </td></tr>\n",
       "\t<tr><td>Big brown bat             </td><td>Eptesicus                 </td><td>insecti                   </td><td>Chiroptera                </td><td>lc                        </td><td>sleep_total               </td><td>19.7                      </td></tr>\n",
       "\t<tr><td>Horse                     </td><td>Equus                     </td><td>herbi                     </td><td>Perissodactyla            </td><td>domesticated              </td><td>sleep_total               </td><td> 2.9                      </td></tr>\n",
       "\t<tr><td>Donkey                    </td><td>Equus                     </td><td>herbi                     </td><td>Perissodactyla            </td><td>domesticated              </td><td>sleep_total               </td><td> 3.1                      </td></tr>\n",
       "\t<tr><td>European hedgehog         </td><td>Erinaceus                 </td><td>omni                      </td><td>Erinaceomorpha            </td><td>lc                        </td><td>sleep_total               </td><td>10.1                      </td></tr>\n",
       "\t<tr><td>Patas monkey              </td><td>Erythrocebus              </td><td>omni                      </td><td>Primates                  </td><td>lc                        </td><td>sleep_total               </td><td>10.9                      </td></tr>\n",
       "\t<tr><td>Western american chipmunk </td><td>Eutamias                  </td><td>herbi                     </td><td>Rodentia                  </td><td>NA                        </td><td>sleep_total               </td><td>14.9                      </td></tr>\n",
       "\t<tr><td>Domestic cat              </td><td>Felis                     </td><td>carni                     </td><td>Carnivora                 </td><td>domesticated              </td><td>sleep_total               </td><td>12.5                      </td></tr>\n",
       "\t<tr><td>Galago                    </td><td>Galago                    </td><td>omni                      </td><td>Primates                  </td><td>NA                        </td><td>sleep_total               </td><td> 9.8                      </td></tr>\n",
       "\t<tr><td>Giraffe                   </td><td>Giraffa                   </td><td>herbi                     </td><td>Artiodactyla              </td><td>cd                        </td><td>sleep_total               </td><td> 1.9                      </td></tr>\n",
       "\t<tr><td>...</td><td>...</td><td>...</td><td>...</td><td>...</td><td>...</td><td>...</td></tr>\n",
       "\t<tr><td>Baboon                        </td><td>Papio                         </td><td>omni                          </td><td>Primates                      </td><td>NA                            </td><td>bodywt                        </td><td> 25.235                       </td></tr>\n",
       "\t<tr><td>Desert hedgehog               </td><td>Paraechinus                   </td><td>NA                            </td><td>Erinaceomorpha                </td><td>lc                            </td><td>bodywt                        </td><td>  0.550                       </td></tr>\n",
       "\t<tr><td>Potto                         </td><td>Perodicticus                  </td><td>omni                          </td><td>Primates                      </td><td>lc                            </td><td>bodywt                        </td><td>  1.100                       </td></tr>\n",
       "\t<tr><td>Deer mouse                    </td><td>Peromyscus                    </td><td>NA                            </td><td>Rodentia                      </td><td>NA                            </td><td>bodywt                        </td><td>  0.021                       </td></tr>\n",
       "\t<tr><td>Phalanger                     </td><td>Phalanger                     </td><td>NA                            </td><td>Diprotodontia                 </td><td>NA                            </td><td>bodywt                        </td><td>  1.620                       </td></tr>\n",
       "\t<tr><td>Caspian seal                  </td><td>Phoca                         </td><td>carni                         </td><td>Carnivora                     </td><td>vu                            </td><td>bodywt                        </td><td> 86.000                       </td></tr>\n",
       "\t<tr><td>Common porpoise               </td><td>Phocoena                      </td><td>carni                         </td><td>Cetacea                       </td><td>vu                            </td><td>bodywt                        </td><td> 53.180                       </td></tr>\n",
       "\t<tr><td>Potoroo                       </td><td>Potorous                      </td><td>herbi                         </td><td>Diprotodontia                 </td><td>NA                            </td><td>bodywt                        </td><td>  1.100                       </td></tr>\n",
       "\t<tr><td>Giant armadillo               </td><td>Priodontes                    </td><td>insecti                       </td><td>Cingulata                     </td><td>en                            </td><td>bodywt                        </td><td> 60.000                       </td></tr>\n",
       "\t<tr><td>Rock hyrax                    </td><td>Procavia                      </td><td>NA                            </td><td>Hyracoidea                    </td><td>lc                            </td><td>bodywt                        </td><td>  3.600                       </td></tr>\n",
       "\t<tr><td>Laboratory rat                </td><td>Rattus                        </td><td>herbi                         </td><td>Rodentia                      </td><td>lc                            </td><td>bodywt                        </td><td>  0.320                       </td></tr>\n",
       "\t<tr><td>African striped mouse         </td><td>Rhabdomys                     </td><td>omni                          </td><td>Rodentia                      </td><td>NA                            </td><td>bodywt                        </td><td>  0.044                       </td></tr>\n",
       "\t<tr><td>Squirrel monkey               </td><td>Saimiri                       </td><td>omni                          </td><td>Primates                      </td><td>NA                            </td><td>bodywt                        </td><td>  0.743                       </td></tr>\n",
       "\t<tr><td>Eastern american mole         </td><td>Scalopus                      </td><td>insecti                       </td><td>Soricomorpha                  </td><td>lc                            </td><td>bodywt                        </td><td>  0.075                       </td></tr>\n",
       "\t<tr><td>Cotton rat                    </td><td>Sigmodon                      </td><td>herbi                         </td><td>Rodentia                      </td><td>NA                            </td><td>bodywt                        </td><td>  0.148                       </td></tr>\n",
       "\t<tr><td>Mole rat                      </td><td>Spalax                        </td><td>NA                            </td><td>Rodentia                      </td><td>NA                            </td><td>bodywt                        </td><td>  0.122                       </td></tr>\n",
       "\t<tr><td>Arctic ground squirrel        </td><td>Spermophilus                  </td><td>herbi                         </td><td>Rodentia                      </td><td>lc                            </td><td>bodywt                        </td><td>  0.920                       </td></tr>\n",
       "\t<tr><td>Thirteen-lined ground squirrel</td><td>Spermophilus                  </td><td>herbi                         </td><td>Rodentia                      </td><td>lc                            </td><td>bodywt                        </td><td>  0.101                       </td></tr>\n",
       "\t<tr><td>Golden-mantled ground squirrel</td><td>Spermophilus                  </td><td>herbi                         </td><td>Rodentia                      </td><td>lc                            </td><td>bodywt                        </td><td>  0.205                       </td></tr>\n",
       "\t<tr><td>Musk shrew                    </td><td>Suncus                        </td><td>NA                            </td><td>Soricomorpha                  </td><td>NA                            </td><td>bodywt                        </td><td>  0.048                       </td></tr>\n",
       "\t<tr><td>Pig                           </td><td>Sus                           </td><td>omni                          </td><td>Artiodactyla                  </td><td>domesticated                  </td><td>bodywt                        </td><td> 86.250                       </td></tr>\n",
       "\t<tr><td>Short-nosed echidna           </td><td>Tachyglossus                  </td><td>insecti                       </td><td>Monotremata                   </td><td>NA                            </td><td>bodywt                        </td><td>  4.500                       </td></tr>\n",
       "\t<tr><td>Eastern american chipmunk     </td><td>Tamias                        </td><td>herbi                         </td><td>Rodentia                      </td><td>NA                            </td><td>bodywt                        </td><td>  0.112                       </td></tr>\n",
       "\t<tr><td>Brazilian tapir               </td><td>Tapirus                       </td><td>herbi                         </td><td>Perissodactyla                </td><td>vu                            </td><td>bodywt                        </td><td>207.501                       </td></tr>\n",
       "\t<tr><td>Tenrec                        </td><td>Tenrec                        </td><td>omni                          </td><td>Afrosoricida                  </td><td>NA                            </td><td>bodywt                        </td><td>  0.900                       </td></tr>\n",
       "\t<tr><td>Tree shrew                    </td><td>Tupaia                        </td><td>omni                          </td><td>Scandentia                    </td><td>NA                            </td><td>bodywt                        </td><td>  0.104                       </td></tr>\n",
       "\t<tr><td>Bottle-nosed dolphin          </td><td>Tursiops                      </td><td>carni                         </td><td>Cetacea                       </td><td>NA                            </td><td>bodywt                        </td><td>173.330                       </td></tr>\n",
       "\t<tr><td>Genet                         </td><td>Genetta                       </td><td>carni                         </td><td>Carnivora                     </td><td>NA                            </td><td>bodywt                        </td><td>  2.000                       </td></tr>\n",
       "\t<tr><td>Arctic fox                    </td><td>Vulpes                        </td><td>carni                         </td><td>Carnivora                     </td><td>NA                            </td><td>bodywt                        </td><td>  3.380                       </td></tr>\n",
       "\t<tr><td>Red fox                       </td><td>Vulpes                        </td><td>carni                         </td><td>Carnivora                     </td><td>NA                            </td><td>bodywt                        </td><td>  4.230                       </td></tr>\n",
       "</tbody>\n",
       "</table>\n"
      ],
      "text/latex": [
       "\\begin{tabular}{r|lllllll}\n",
       " name & genus & vore & order & conservation & variable & value\\\\\n",
       "\\hline\n",
       "\t Cheetah                    & Acinonyx                   & carni                      & Carnivora                  & lc                         & sleep\\_total              & 12.1                      \\\\\n",
       "\t Owl monkey                 & Aotus                      & omni                       & Primates                   & NA                         & sleep\\_total              & 17.0                      \\\\\n",
       "\t Mountain beaver            & Aplodontia                 & herbi                      & Rodentia                   & nt                         & sleep\\_total              & 14.4                      \\\\\n",
       "\t Greater short-tailed shrew & Blarina                    & omni                       & Soricomorpha               & lc                         & sleep\\_total              & 14.9                      \\\\\n",
       "\t Cow                        & Bos                        & herbi                      & Artiodactyla               & domesticated               & sleep\\_total              &  4.0                      \\\\\n",
       "\t Three-toed sloth           & Bradypus                   & herbi                      & Pilosa                     & NA                         & sleep\\_total              & 14.4                      \\\\\n",
       "\t Northern fur seal          & Callorhinus                & carni                      & Carnivora                  & vu                         & sleep\\_total              &  8.7                      \\\\\n",
       "\t Vesper mouse               & Calomys                    & NA                         & Rodentia                   & NA                         & sleep\\_total              &  7.0                      \\\\\n",
       "\t Dog                        & Canis                      & carni                      & Carnivora                  & domesticated               & sleep\\_total              & 10.1                      \\\\\n",
       "\t Roe deer                   & Capreolus                  & herbi                      & Artiodactyla               & lc                         & sleep\\_total              &  3.0                      \\\\\n",
       "\t Goat                       & Capri                      & herbi                      & Artiodactyla               & lc                         & sleep\\_total              &  5.3                      \\\\\n",
       "\t Guinea pig                 & Cavis                      & herbi                      & Rodentia                   & domesticated               & sleep\\_total              &  9.4                      \\\\\n",
       "\t Grivet                     & Cercopithecus              & omni                       & Primates                   & lc                         & sleep\\_total              & 10.0                      \\\\\n",
       "\t Chinchilla                 & Chinchilla                 & herbi                      & Rodentia                   & domesticated               & sleep\\_total              & 12.5                      \\\\\n",
       "\t Star-nosed mole            & Condylura                  & omni                       & Soricomorpha               & lc                         & sleep\\_total              & 10.3                      \\\\\n",
       "\t African giant pouched rat  & Cricetomys                 & omni                       & Rodentia                   & NA                         & sleep\\_total              &  8.3                      \\\\\n",
       "\t Lesser short-tailed shrew  & Cryptotis                  & omni                       & Soricomorpha               & lc                         & sleep\\_total              &  9.1                      \\\\\n",
       "\t Long-nosed armadillo       & Dasypus                    & carni                      & Cingulata                  & lc                         & sleep\\_total              & 17.4                      \\\\\n",
       "\t Tree hyrax                 & Dendrohyrax                & herbi                      & Hyracoidea                 & lc                         & sleep\\_total              &  5.3                      \\\\\n",
       "\t North American Opossum     & Didelphis                  & omni                       & Didelphimorphia            & lc                         & sleep\\_total              & 18.0                      \\\\\n",
       "\t Asian elephant             & Elephas                    & herbi                      & Proboscidea                & en                         & sleep\\_total              &  3.9                      \\\\\n",
       "\t Big brown bat              & Eptesicus                  & insecti                    & Chiroptera                 & lc                         & sleep\\_total              & 19.7                      \\\\\n",
       "\t Horse                      & Equus                      & herbi                      & Perissodactyla             & domesticated               & sleep\\_total              &  2.9                      \\\\\n",
       "\t Donkey                     & Equus                      & herbi                      & Perissodactyla             & domesticated               & sleep\\_total              &  3.1                      \\\\\n",
       "\t European hedgehog          & Erinaceus                  & omni                       & Erinaceomorpha             & lc                         & sleep\\_total              & 10.1                      \\\\\n",
       "\t Patas monkey               & Erythrocebus               & omni                       & Primates                   & lc                         & sleep\\_total              & 10.9                      \\\\\n",
       "\t Western american chipmunk  & Eutamias                   & herbi                      & Rodentia                   & NA                         & sleep\\_total              & 14.9                      \\\\\n",
       "\t Domestic cat               & Felis                      & carni                      & Carnivora                  & domesticated               & sleep\\_total              & 12.5                      \\\\\n",
       "\t Galago                     & Galago                     & omni                       & Primates                   & NA                         & sleep\\_total              &  9.8                      \\\\\n",
       "\t Giraffe                    & Giraffa                    & herbi                      & Artiodactyla               & cd                         & sleep\\_total              &  1.9                      \\\\\n",
       "\t ... & ... & ... & ... & ... & ... & ...\\\\\n",
       "\t Baboon                         & Papio                          & omni                           & Primates                       & NA                             & bodywt                         &  25.235                       \\\\\n",
       "\t Desert hedgehog                & Paraechinus                    & NA                             & Erinaceomorpha                 & lc                             & bodywt                         &   0.550                       \\\\\n",
       "\t Potto                          & Perodicticus                   & omni                           & Primates                       & lc                             & bodywt                         &   1.100                       \\\\\n",
       "\t Deer mouse                     & Peromyscus                     & NA                             & Rodentia                       & NA                             & bodywt                         &   0.021                       \\\\\n",
       "\t Phalanger                      & Phalanger                      & NA                             & Diprotodontia                  & NA                             & bodywt                         &   1.620                       \\\\\n",
       "\t Caspian seal                   & Phoca                          & carni                          & Carnivora                      & vu                             & bodywt                         &  86.000                       \\\\\n",
       "\t Common porpoise                & Phocoena                       & carni                          & Cetacea                        & vu                             & bodywt                         &  53.180                       \\\\\n",
       "\t Potoroo                        & Potorous                       & herbi                          & Diprotodontia                  & NA                             & bodywt                         &   1.100                       \\\\\n",
       "\t Giant armadillo                & Priodontes                     & insecti                        & Cingulata                      & en                             & bodywt                         &  60.000                       \\\\\n",
       "\t Rock hyrax                     & Procavia                       & NA                             & Hyracoidea                     & lc                             & bodywt                         &   3.600                       \\\\\n",
       "\t Laboratory rat                 & Rattus                         & herbi                          & Rodentia                       & lc                             & bodywt                         &   0.320                       \\\\\n",
       "\t African striped mouse          & Rhabdomys                      & omni                           & Rodentia                       & NA                             & bodywt                         &   0.044                       \\\\\n",
       "\t Squirrel monkey                & Saimiri                        & omni                           & Primates                       & NA                             & bodywt                         &   0.743                       \\\\\n",
       "\t Eastern american mole          & Scalopus                       & insecti                        & Soricomorpha                   & lc                             & bodywt                         &   0.075                       \\\\\n",
       "\t Cotton rat                     & Sigmodon                       & herbi                          & Rodentia                       & NA                             & bodywt                         &   0.148                       \\\\\n",
       "\t Mole rat                       & Spalax                         & NA                             & Rodentia                       & NA                             & bodywt                         &   0.122                       \\\\\n",
       "\t Arctic ground squirrel         & Spermophilus                   & herbi                          & Rodentia                       & lc                             & bodywt                         &   0.920                       \\\\\n",
       "\t Thirteen-lined ground squirrel & Spermophilus                   & herbi                          & Rodentia                       & lc                             & bodywt                         &   0.101                       \\\\\n",
       "\t Golden-mantled ground squirrel & Spermophilus                   & herbi                          & Rodentia                       & lc                             & bodywt                         &   0.205                       \\\\\n",
       "\t Musk shrew                     & Suncus                         & NA                             & Soricomorpha                   & NA                             & bodywt                         &   0.048                       \\\\\n",
       "\t Pig                            & Sus                            & omni                           & Artiodactyla                   & domesticated                   & bodywt                         &  86.250                       \\\\\n",
       "\t Short-nosed echidna            & Tachyglossus                   & insecti                        & Monotremata                    & NA                             & bodywt                         &   4.500                       \\\\\n",
       "\t Eastern american chipmunk      & Tamias                         & herbi                          & Rodentia                       & NA                             & bodywt                         &   0.112                       \\\\\n",
       "\t Brazilian tapir                & Tapirus                        & herbi                          & Perissodactyla                 & vu                             & bodywt                         & 207.501                       \\\\\n",
       "\t Tenrec                         & Tenrec                         & omni                           & Afrosoricida                   & NA                             & bodywt                         &   0.900                       \\\\\n",
       "\t Tree shrew                     & Tupaia                         & omni                           & Scandentia                     & NA                             & bodywt                         &   0.104                       \\\\\n",
       "\t Bottle-nosed dolphin           & Tursiops                       & carni                          & Cetacea                        & NA                             & bodywt                         & 173.330                       \\\\\n",
       "\t Genet                          & Genetta                        & carni                          & Carnivora                      & NA                             & bodywt                         &   2.000                       \\\\\n",
       "\t Arctic fox                     & Vulpes                         & carni                          & Carnivora                      & NA                             & bodywt                         &   3.380                       \\\\\n",
       "\t Red fox                        & Vulpes                         & carni                          & Carnivora                      & NA                             & bodywt                         &   4.230                       \\\\\n",
       "\\end{tabular}\n"
      ],
      "text/markdown": [
       "\n",
       "name | genus | vore | order | conservation | variable | value | \n",
       "|---|---|---|---|---|---|---|---|---|---|---|---|---|---|---|---|---|---|---|---|---|---|---|---|---|---|---|---|---|---|---|---|---|---|---|---|---|---|---|---|---|---|---|---|---|---|---|---|---|---|---|---|---|---|---|---|---|---|---|---|---|\n",
       "| Cheetah                    | Acinonyx                   | carni                      | Carnivora                  | lc                         | sleep_total                | 12.1                       | \n",
       "| Owl monkey                 | Aotus                      | omni                       | Primates                   | NA                         | sleep_total                | 17.0                       | \n",
       "| Mountain beaver            | Aplodontia                 | herbi                      | Rodentia                   | nt                         | sleep_total                | 14.4                       | \n",
       "| Greater short-tailed shrew | Blarina                    | omni                       | Soricomorpha               | lc                         | sleep_total                | 14.9                       | \n",
       "| Cow                        | Bos                        | herbi                      | Artiodactyla               | domesticated               | sleep_total                |  4.0                       | \n",
       "| Three-toed sloth           | Bradypus                   | herbi                      | Pilosa                     | NA                         | sleep_total                | 14.4                       | \n",
       "| Northern fur seal          | Callorhinus                | carni                      | Carnivora                  | vu                         | sleep_total                |  8.7                       | \n",
       "| Vesper mouse               | Calomys                    | NA                         | Rodentia                   | NA                         | sleep_total                |  7.0                       | \n",
       "| Dog                        | Canis                      | carni                      | Carnivora                  | domesticated               | sleep_total                | 10.1                       | \n",
       "| Roe deer                   | Capreolus                  | herbi                      | Artiodactyla               | lc                         | sleep_total                |  3.0                       | \n",
       "| Goat                       | Capri                      | herbi                      | Artiodactyla               | lc                         | sleep_total                |  5.3                       | \n",
       "| Guinea pig                 | Cavis                      | herbi                      | Rodentia                   | domesticated               | sleep_total                |  9.4                       | \n",
       "| Grivet                     | Cercopithecus              | omni                       | Primates                   | lc                         | sleep_total                | 10.0                       | \n",
       "| Chinchilla                 | Chinchilla                 | herbi                      | Rodentia                   | domesticated               | sleep_total                | 12.5                       | \n",
       "| Star-nosed mole            | Condylura                  | omni                       | Soricomorpha               | lc                         | sleep_total                | 10.3                       | \n",
       "| African giant pouched rat  | Cricetomys                 | omni                       | Rodentia                   | NA                         | sleep_total                |  8.3                       | \n",
       "| Lesser short-tailed shrew  | Cryptotis                  | omni                       | Soricomorpha               | lc                         | sleep_total                |  9.1                       | \n",
       "| Long-nosed armadillo       | Dasypus                    | carni                      | Cingulata                  | lc                         | sleep_total                | 17.4                       | \n",
       "| Tree hyrax                 | Dendrohyrax                | herbi                      | Hyracoidea                 | lc                         | sleep_total                |  5.3                       | \n",
       "| North American Opossum     | Didelphis                  | omni                       | Didelphimorphia            | lc                         | sleep_total                | 18.0                       | \n",
       "| Asian elephant             | Elephas                    | herbi                      | Proboscidea                | en                         | sleep_total                |  3.9                       | \n",
       "| Big brown bat              | Eptesicus                  | insecti                    | Chiroptera                 | lc                         | sleep_total                | 19.7                       | \n",
       "| Horse                      | Equus                      | herbi                      | Perissodactyla             | domesticated               | sleep_total                |  2.9                       | \n",
       "| Donkey                     | Equus                      | herbi                      | Perissodactyla             | domesticated               | sleep_total                |  3.1                       | \n",
       "| European hedgehog          | Erinaceus                  | omni                       | Erinaceomorpha             | lc                         | sleep_total                | 10.1                       | \n",
       "| Patas monkey               | Erythrocebus               | omni                       | Primates                   | lc                         | sleep_total                | 10.9                       | \n",
       "| Western american chipmunk  | Eutamias                   | herbi                      | Rodentia                   | NA                         | sleep_total                | 14.9                       | \n",
       "| Domestic cat               | Felis                      | carni                      | Carnivora                  | domesticated               | sleep_total                | 12.5                       | \n",
       "| Galago                     | Galago                     | omni                       | Primates                   | NA                         | sleep_total                |  9.8                       | \n",
       "| Giraffe                    | Giraffa                    | herbi                      | Artiodactyla               | cd                         | sleep_total                |  1.9                       | \n",
       "| ... | ... | ... | ... | ... | ... | ... | \n",
       "| Baboon                         | Papio                          | omni                           | Primates                       | NA                             | bodywt                         |  25.235                        | \n",
       "| Desert hedgehog                | Paraechinus                    | NA                             | Erinaceomorpha                 | lc                             | bodywt                         |   0.550                        | \n",
       "| Potto                          | Perodicticus                   | omni                           | Primates                       | lc                             | bodywt                         |   1.100                        | \n",
       "| Deer mouse                     | Peromyscus                     | NA                             | Rodentia                       | NA                             | bodywt                         |   0.021                        | \n",
       "| Phalanger                      | Phalanger                      | NA                             | Diprotodontia                  | NA                             | bodywt                         |   1.620                        | \n",
       "| Caspian seal                   | Phoca                          | carni                          | Carnivora                      | vu                             | bodywt                         |  86.000                        | \n",
       "| Common porpoise                | Phocoena                       | carni                          | Cetacea                        | vu                             | bodywt                         |  53.180                        | \n",
       "| Potoroo                        | Potorous                       | herbi                          | Diprotodontia                  | NA                             | bodywt                         |   1.100                        | \n",
       "| Giant armadillo                | Priodontes                     | insecti                        | Cingulata                      | en                             | bodywt                         |  60.000                        | \n",
       "| Rock hyrax                     | Procavia                       | NA                             | Hyracoidea                     | lc                             | bodywt                         |   3.600                        | \n",
       "| Laboratory rat                 | Rattus                         | herbi                          | Rodentia                       | lc                             | bodywt                         |   0.320                        | \n",
       "| African striped mouse          | Rhabdomys                      | omni                           | Rodentia                       | NA                             | bodywt                         |   0.044                        | \n",
       "| Squirrel monkey                | Saimiri                        | omni                           | Primates                       | NA                             | bodywt                         |   0.743                        | \n",
       "| Eastern american mole          | Scalopus                       | insecti                        | Soricomorpha                   | lc                             | bodywt                         |   0.075                        | \n",
       "| Cotton rat                     | Sigmodon                       | herbi                          | Rodentia                       | NA                             | bodywt                         |   0.148                        | \n",
       "| Mole rat                       | Spalax                         | NA                             | Rodentia                       | NA                             | bodywt                         |   0.122                        | \n",
       "| Arctic ground squirrel         | Spermophilus                   | herbi                          | Rodentia                       | lc                             | bodywt                         |   0.920                        | \n",
       "| Thirteen-lined ground squirrel | Spermophilus                   | herbi                          | Rodentia                       | lc                             | bodywt                         |   0.101                        | \n",
       "| Golden-mantled ground squirrel | Spermophilus                   | herbi                          | Rodentia                       | lc                             | bodywt                         |   0.205                        | \n",
       "| Musk shrew                     | Suncus                         | NA                             | Soricomorpha                   | NA                             | bodywt                         |   0.048                        | \n",
       "| Pig                            | Sus                            | omni                           | Artiodactyla                   | domesticated                   | bodywt                         |  86.250                        | \n",
       "| Short-nosed echidna            | Tachyglossus                   | insecti                        | Monotremata                    | NA                             | bodywt                         |   4.500                        | \n",
       "| Eastern american chipmunk      | Tamias                         | herbi                          | Rodentia                       | NA                             | bodywt                         |   0.112                        | \n",
       "| Brazilian tapir                | Tapirus                        | herbi                          | Perissodactyla                 | vu                             | bodywt                         | 207.501                        | \n",
       "| Tenrec                         | Tenrec                         | omni                           | Afrosoricida                   | NA                             | bodywt                         |   0.900                        | \n",
       "| Tree shrew                     | Tupaia                         | omni                           | Scandentia                     | NA                             | bodywt                         |   0.104                        | \n",
       "| Bottle-nosed dolphin           | Tursiops                       | carni                          | Cetacea                        | NA                             | bodywt                         | 173.330                        | \n",
       "| Genet                          | Genetta                        | carni                          | Carnivora                      | NA                             | bodywt                         |   2.000                        | \n",
       "| Arctic fox                     | Vulpes                         | carni                          | Carnivora                      | NA                             | bodywt                         |   3.380                        | \n",
       "| Red fox                        | Vulpes                         | carni                          | Carnivora                      | NA                             | bodywt                         |   4.230                        | \n",
       "\n",
       "\n"
      ],
      "text/plain": [
       "    name                           genus         vore    order          \n",
       "1   Cheetah                        Acinonyx      carni   Carnivora      \n",
       "2   Owl monkey                     Aotus         omni    Primates       \n",
       "3   Mountain beaver                Aplodontia    herbi   Rodentia       \n",
       "4   Greater short-tailed shrew     Blarina       omni    Soricomorpha   \n",
       "5   Cow                            Bos           herbi   Artiodactyla   \n",
       "6   Three-toed sloth               Bradypus      herbi   Pilosa         \n",
       "7   Northern fur seal              Callorhinus   carni   Carnivora      \n",
       "8   Vesper mouse                   Calomys       NA      Rodentia       \n",
       "9   Dog                            Canis         carni   Carnivora      \n",
       "10  Roe deer                       Capreolus     herbi   Artiodactyla   \n",
       "11  Goat                           Capri         herbi   Artiodactyla   \n",
       "12  Guinea pig                     Cavis         herbi   Rodentia       \n",
       "13  Grivet                         Cercopithecus omni    Primates       \n",
       "14  Chinchilla                     Chinchilla    herbi   Rodentia       \n",
       "15  Star-nosed mole                Condylura     omni    Soricomorpha   \n",
       "16  African giant pouched rat      Cricetomys    omni    Rodentia       \n",
       "17  Lesser short-tailed shrew      Cryptotis     omni    Soricomorpha   \n",
       "18  Long-nosed armadillo           Dasypus       carni   Cingulata      \n",
       "19  Tree hyrax                     Dendrohyrax   herbi   Hyracoidea     \n",
       "20  North American Opossum         Didelphis     omni    Didelphimorphia\n",
       "21  Asian elephant                 Elephas       herbi   Proboscidea    \n",
       "22  Big brown bat                  Eptesicus     insecti Chiroptera     \n",
       "23  Horse                          Equus         herbi   Perissodactyla \n",
       "24  Donkey                         Equus         herbi   Perissodactyla \n",
       "25  European hedgehog              Erinaceus     omni    Erinaceomorpha \n",
       "26  Patas monkey                   Erythrocebus  omni    Primates       \n",
       "27  Western american chipmunk      Eutamias      herbi   Rodentia       \n",
       "28  Domestic cat                   Felis         carni   Carnivora      \n",
       "29  Galago                         Galago        omni    Primates       \n",
       "30  Giraffe                        Giraffa       herbi   Artiodactyla   \n",
       "... ...                            ...           ...     ...            \n",
       "469 Baboon                         Papio         omni    Primates       \n",
       "470 Desert hedgehog                Paraechinus   NA      Erinaceomorpha \n",
       "471 Potto                          Perodicticus  omni    Primates       \n",
       "472 Deer mouse                     Peromyscus    NA      Rodentia       \n",
       "473 Phalanger                      Phalanger     NA      Diprotodontia  \n",
       "474 Caspian seal                   Phoca         carni   Carnivora      \n",
       "475 Common porpoise                Phocoena      carni   Cetacea        \n",
       "476 Potoroo                        Potorous      herbi   Diprotodontia  \n",
       "477 Giant armadillo                Priodontes    insecti Cingulata      \n",
       "478 Rock hyrax                     Procavia      NA      Hyracoidea     \n",
       "479 Laboratory rat                 Rattus        herbi   Rodentia       \n",
       "480 African striped mouse          Rhabdomys     omni    Rodentia       \n",
       "481 Squirrel monkey                Saimiri       omni    Primates       \n",
       "482 Eastern american mole          Scalopus      insecti Soricomorpha   \n",
       "483 Cotton rat                     Sigmodon      herbi   Rodentia       \n",
       "484 Mole rat                       Spalax        NA      Rodentia       \n",
       "485 Arctic ground squirrel         Spermophilus  herbi   Rodentia       \n",
       "486 Thirteen-lined ground squirrel Spermophilus  herbi   Rodentia       \n",
       "487 Golden-mantled ground squirrel Spermophilus  herbi   Rodentia       \n",
       "488 Musk shrew                     Suncus        NA      Soricomorpha   \n",
       "489 Pig                            Sus           omni    Artiodactyla   \n",
       "490 Short-nosed echidna            Tachyglossus  insecti Monotremata    \n",
       "491 Eastern american chipmunk      Tamias        herbi   Rodentia       \n",
       "492 Brazilian tapir                Tapirus       herbi   Perissodactyla \n",
       "493 Tenrec                         Tenrec        omni    Afrosoricida   \n",
       "494 Tree shrew                     Tupaia        omni    Scandentia     \n",
       "495 Bottle-nosed dolphin           Tursiops      carni   Cetacea        \n",
       "496 Genet                          Genetta       carni   Carnivora      \n",
       "497 Arctic fox                     Vulpes        carni   Carnivora      \n",
       "498 Red fox                        Vulpes        carni   Carnivora      \n",
       "    conservation variable    value  \n",
       "1   lc           sleep_total 12.1   \n",
       "2   NA           sleep_total 17.0   \n",
       "3   nt           sleep_total 14.4   \n",
       "4   lc           sleep_total 14.9   \n",
       "5   domesticated sleep_total  4.0   \n",
       "6   NA           sleep_total 14.4   \n",
       "7   vu           sleep_total  8.7   \n",
       "8   NA           sleep_total  7.0   \n",
       "9   domesticated sleep_total 10.1   \n",
       "10  lc           sleep_total  3.0   \n",
       "11  lc           sleep_total  5.3   \n",
       "12  domesticated sleep_total  9.4   \n",
       "13  lc           sleep_total 10.0   \n",
       "14  domesticated sleep_total 12.5   \n",
       "15  lc           sleep_total 10.3   \n",
       "16  NA           sleep_total  8.3   \n",
       "17  lc           sleep_total  9.1   \n",
       "18  lc           sleep_total 17.4   \n",
       "19  lc           sleep_total  5.3   \n",
       "20  lc           sleep_total 18.0   \n",
       "21  en           sleep_total  3.9   \n",
       "22  lc           sleep_total 19.7   \n",
       "23  domesticated sleep_total  2.9   \n",
       "24  domesticated sleep_total  3.1   \n",
       "25  lc           sleep_total 10.1   \n",
       "26  lc           sleep_total 10.9   \n",
       "27  NA           sleep_total 14.9   \n",
       "28  domesticated sleep_total 12.5   \n",
       "29  NA           sleep_total  9.8   \n",
       "30  cd           sleep_total  1.9   \n",
       "... ...          ...         ...    \n",
       "469 NA           bodywt       25.235\n",
       "470 lc           bodywt        0.550\n",
       "471 lc           bodywt        1.100\n",
       "472 NA           bodywt        0.021\n",
       "473 NA           bodywt        1.620\n",
       "474 vu           bodywt       86.000\n",
       "475 vu           bodywt       53.180\n",
       "476 NA           bodywt        1.100\n",
       "477 en           bodywt       60.000\n",
       "478 lc           bodywt        3.600\n",
       "479 lc           bodywt        0.320\n",
       "480 NA           bodywt        0.044\n",
       "481 NA           bodywt        0.743\n",
       "482 lc           bodywt        0.075\n",
       "483 NA           bodywt        0.148\n",
       "484 NA           bodywt        0.122\n",
       "485 lc           bodywt        0.920\n",
       "486 lc           bodywt        0.101\n",
       "487 lc           bodywt        0.205\n",
       "488 NA           bodywt        0.048\n",
       "489 domesticated bodywt       86.250\n",
       "490 NA           bodywt        4.500\n",
       "491 NA           bodywt        0.112\n",
       "492 vu           bodywt      207.501\n",
       "493 NA           bodywt        0.900\n",
       "494 NA           bodywt        0.104\n",
       "495 NA           bodywt      173.330\n",
       "496 NA           bodywt        2.000\n",
       "497 NA           bodywt        3.380\n",
       "498 NA           bodywt        4.230"
      ]
     },
     "metadata": {},
     "output_type": "display_data"
    }
   ],
   "source": [
    "#when some columns are not numeric, use all of them as id.vars\n",
    "melt(msleep)"
   ]
  },
  {
   "cell_type": "code",
   "execution_count": 68,
   "metadata": {
    "scrolled": true
   },
   "outputs": [
    {
     "name": "stderr",
     "output_type": "stream",
     "text": [
      "Using name, genus, vore, order, conservation as id variables\n"
     ]
    },
    {
     "data": {
      "text/html": [
       "<table>\n",
       "<thead><tr><th scope=col>name</th><th scope=col>genus</th><th scope=col>vore</th><th scope=col>order</th><th scope=col>conservation</th><th scope=col>variable</th><th scope=col>value</th></tr></thead>\n",
       "<tbody>\n",
       "\t<tr><td>Cheetah    </td><td>Acinonyx   </td><td>carni      </td><td>Carnivora  </td><td>lc         </td><td>sleep_total</td><td>12.1       </td></tr>\n",
       "\t<tr><td>Cheetah    </td><td>Acinonyx   </td><td>carni      </td><td>Carnivora  </td><td>lc         </td><td>sleep_rem  </td><td>  NA       </td></tr>\n",
       "\t<tr><td>Cheetah    </td><td>Acinonyx   </td><td>carni      </td><td>Carnivora  </td><td>lc         </td><td>sleep_cycle</td><td>  NA       </td></tr>\n",
       "\t<tr><td>Cheetah    </td><td>Acinonyx   </td><td>carni      </td><td>Carnivora  </td><td>lc         </td><td>awake      </td><td>11.9       </td></tr>\n",
       "\t<tr><td>Cheetah    </td><td>Acinonyx   </td><td>carni      </td><td>Carnivora  </td><td>lc         </td><td>brainwt    </td><td>  NA       </td></tr>\n",
       "\t<tr><td>Cheetah    </td><td>Acinonyx   </td><td>carni      </td><td>Carnivora  </td><td>lc         </td><td>bodywt     </td><td>50.0       </td></tr>\n",
       "</tbody>\n",
       "</table>\n"
      ],
      "text/latex": [
       "\\begin{tabular}{r|lllllll}\n",
       " name & genus & vore & order & conservation & variable & value\\\\\n",
       "\\hline\n",
       "\t Cheetah       & Acinonyx      & carni         & Carnivora     & lc            & sleep\\_total & 12.1         \\\\\n",
       "\t Cheetah       & Acinonyx      & carni         & Carnivora     & lc            & sleep\\_rem   &   NA         \\\\\n",
       "\t Cheetah       & Acinonyx      & carni         & Carnivora     & lc            & sleep\\_cycle &   NA         \\\\\n",
       "\t Cheetah     & Acinonyx    & carni       & Carnivora   & lc          & awake       & 11.9       \\\\\n",
       "\t Cheetah     & Acinonyx    & carni       & Carnivora   & lc          & brainwt     &   NA       \\\\\n",
       "\t Cheetah     & Acinonyx    & carni       & Carnivora   & lc          & bodywt      & 50.0       \\\\\n",
       "\\end{tabular}\n"
      ],
      "text/markdown": [
       "\n",
       "name | genus | vore | order | conservation | variable | value | \n",
       "|---|---|---|---|---|---|\n",
       "| Cheetah     | Acinonyx    | carni       | Carnivora   | lc          | sleep_total | 12.1        | \n",
       "| Cheetah     | Acinonyx    | carni       | Carnivora   | lc          | sleep_rem   |   NA        | \n",
       "| Cheetah     | Acinonyx    | carni       | Carnivora   | lc          | sleep_cycle |   NA        | \n",
       "| Cheetah     | Acinonyx    | carni       | Carnivora   | lc          | awake       | 11.9        | \n",
       "| Cheetah     | Acinonyx    | carni       | Carnivora   | lc          | brainwt     |   NA        | \n",
       "| Cheetah     | Acinonyx    | carni       | Carnivora   | lc          | bodywt      | 50.0        | \n",
       "\n",
       "\n"
      ],
      "text/plain": [
       "  name    genus    vore  order     conservation variable    value\n",
       "1 Cheetah Acinonyx carni Carnivora lc           sleep_total 12.1 \n",
       "2 Cheetah Acinonyx carni Carnivora lc           sleep_rem     NA \n",
       "3 Cheetah Acinonyx carni Carnivora lc           sleep_cycle   NA \n",
       "4 Cheetah Acinonyx carni Carnivora lc           awake       11.9 \n",
       "5 Cheetah Acinonyx carni Carnivora lc           brainwt       NA \n",
       "6 Cheetah Acinonyx carni Carnivora lc           bodywt      50.0 "
      ]
     },
     "metadata": {},
     "output_type": "display_data"
    }
   ],
   "source": [
    "filter(melt(msleep), name=='Cheetah', genus=='Acinonyx')"
   ]
  },
  {
   "cell_type": "code",
   "execution_count": 69,
   "metadata": {},
   "outputs": [
    {
     "data": {
      "text/html": [
       "<table>\n",
       "<thead><tr><th scope=col>name</th><th scope=col>genus</th><th scope=col>vore</th><th scope=col>order</th><th scope=col>conservation</th><th scope=col>sleep_total</th><th scope=col>sleep_rem</th><th scope=col>sleep_cycle</th><th scope=col>awake</th><th scope=col>brainwt</th><th scope=col>bodywt</th></tr></thead>\n",
       "<tbody>\n",
       "\t<tr><td>Cheetah  </td><td>Acinonyx </td><td>carni    </td><td>Carnivora</td><td>lc       </td><td>12.1     </td><td>NA       </td><td>NA       </td><td>11.9     </td><td>NA       </td><td>50       </td></tr>\n",
       "</tbody>\n",
       "</table>\n"
      ],
      "text/latex": [
       "\\begin{tabular}{r|lllllllllll}\n",
       " name & genus & vore & order & conservation & sleep\\_total & sleep\\_rem & sleep\\_cycle & awake & brainwt & bodywt\\\\\n",
       "\\hline\n",
       "\t Cheetah   & Acinonyx  & carni     & Carnivora & lc        & 12.1      & NA        & NA        & 11.9      & NA        & 50       \\\\\n",
       "\\end{tabular}\n"
      ],
      "text/markdown": [
       "\n",
       "name | genus | vore | order | conservation | sleep_total | sleep_rem | sleep_cycle | awake | brainwt | bodywt | \n",
       "|---|\n",
       "| Cheetah   | Acinonyx  | carni     | Carnivora | lc        | 12.1      | NA        | NA        | 11.9      | NA        | 50        | \n",
       "\n",
       "\n"
      ],
      "text/plain": [
       "  name    genus    vore  order     conservation sleep_total sleep_rem\n",
       "1 Cheetah Acinonyx carni Carnivora lc           12.1        NA       \n",
       "  sleep_cycle awake brainwt bodywt\n",
       "1 NA          11.9  NA      50    "
      ]
     },
     "metadata": {},
     "output_type": "display_data"
    }
   ],
   "source": [
    "filter(msleep, name=='Cheetah', genus=='Acinonyx')"
   ]
  },
  {
   "cell_type": "code",
   "execution_count": 70,
   "metadata": {
    "scrolled": false
   },
   "outputs": [
    {
     "data": {
      "text/html": [
       "<table>\n",
       "<thead><tr><th scope=col>DAY</th><th scope=col>variable</th><th scope=col>value</th></tr></thead>\n",
       "<tbody>\n",
       "\t<tr><td> 1   </td><td>OZONE</td><td> 41  </td></tr>\n",
       "\t<tr><td> 2   </td><td>OZONE</td><td> 36  </td></tr>\n",
       "\t<tr><td> 3   </td><td>OZONE</td><td> 12  </td></tr>\n",
       "\t<tr><td> 4   </td><td>OZONE</td><td> 18  </td></tr>\n",
       "\t<tr><td> 5   </td><td>OZONE</td><td> NA  </td></tr>\n",
       "\t<tr><td> 6   </td><td>OZONE</td><td> 28  </td></tr>\n",
       "\t<tr><td> 7   </td><td>OZONE</td><td> 23  </td></tr>\n",
       "\t<tr><td> 8   </td><td>OZONE</td><td> 19  </td></tr>\n",
       "\t<tr><td> 9   </td><td>OZONE</td><td>  8  </td></tr>\n",
       "\t<tr><td>10   </td><td>OZONE</td><td> NA  </td></tr>\n",
       "\t<tr><td>11   </td><td>OZONE</td><td>  7  </td></tr>\n",
       "\t<tr><td>12   </td><td>OZONE</td><td> 16  </td></tr>\n",
       "\t<tr><td>13   </td><td>OZONE</td><td> 11  </td></tr>\n",
       "\t<tr><td>14   </td><td>OZONE</td><td> 14  </td></tr>\n",
       "\t<tr><td>15   </td><td>OZONE</td><td> 18  </td></tr>\n",
       "\t<tr><td>16   </td><td>OZONE</td><td> 14  </td></tr>\n",
       "\t<tr><td>17   </td><td>OZONE</td><td> 34  </td></tr>\n",
       "\t<tr><td>18   </td><td>OZONE</td><td>  6  </td></tr>\n",
       "\t<tr><td>19   </td><td>OZONE</td><td> 30  </td></tr>\n",
       "\t<tr><td>20   </td><td>OZONE</td><td> 11  </td></tr>\n",
       "\t<tr><td>21   </td><td>OZONE</td><td>  1  </td></tr>\n",
       "\t<tr><td>22   </td><td>OZONE</td><td> 11  </td></tr>\n",
       "\t<tr><td>23   </td><td>OZONE</td><td>  4  </td></tr>\n",
       "\t<tr><td>24   </td><td>OZONE</td><td> 32  </td></tr>\n",
       "\t<tr><td>25   </td><td>OZONE</td><td> NA  </td></tr>\n",
       "\t<tr><td>26   </td><td>OZONE</td><td> NA  </td></tr>\n",
       "\t<tr><td>27   </td><td>OZONE</td><td> NA  </td></tr>\n",
       "\t<tr><td>28   </td><td>OZONE</td><td> 23  </td></tr>\n",
       "\t<tr><td>29   </td><td>OZONE</td><td> 45  </td></tr>\n",
       "\t<tr><td>30   </td><td>OZONE</td><td>115  </td></tr>\n",
       "\t<tr><td>...</td><td>...</td><td>...</td></tr>\n",
       "\t<tr><td> 1   </td><td>MONTH</td><td>9    </td></tr>\n",
       "\t<tr><td> 2   </td><td>MONTH</td><td>9    </td></tr>\n",
       "\t<tr><td> 3   </td><td>MONTH</td><td>9    </td></tr>\n",
       "\t<tr><td> 4   </td><td>MONTH</td><td>9    </td></tr>\n",
       "\t<tr><td> 5   </td><td>MONTH</td><td>9    </td></tr>\n",
       "\t<tr><td> 6   </td><td>MONTH</td><td>9    </td></tr>\n",
       "\t<tr><td> 7   </td><td>MONTH</td><td>9    </td></tr>\n",
       "\t<tr><td> 8   </td><td>MONTH</td><td>9    </td></tr>\n",
       "\t<tr><td> 9   </td><td>MONTH</td><td>9    </td></tr>\n",
       "\t<tr><td>10   </td><td>MONTH</td><td>9    </td></tr>\n",
       "\t<tr><td>11   </td><td>MONTH</td><td>9    </td></tr>\n",
       "\t<tr><td>12   </td><td>MONTH</td><td>9    </td></tr>\n",
       "\t<tr><td>13   </td><td>MONTH</td><td>9    </td></tr>\n",
       "\t<tr><td>14   </td><td>MONTH</td><td>9    </td></tr>\n",
       "\t<tr><td>15   </td><td>MONTH</td><td>9    </td></tr>\n",
       "\t<tr><td>16   </td><td>MONTH</td><td>9    </td></tr>\n",
       "\t<tr><td>17   </td><td>MONTH</td><td>9    </td></tr>\n",
       "\t<tr><td>18   </td><td>MONTH</td><td>9    </td></tr>\n",
       "\t<tr><td>19   </td><td>MONTH</td><td>9    </td></tr>\n",
       "\t<tr><td>20   </td><td>MONTH</td><td>9    </td></tr>\n",
       "\t<tr><td>21   </td><td>MONTH</td><td>9    </td></tr>\n",
       "\t<tr><td>22   </td><td>MONTH</td><td>9    </td></tr>\n",
       "\t<tr><td>23   </td><td>MONTH</td><td>9    </td></tr>\n",
       "\t<tr><td>24   </td><td>MONTH</td><td>9    </td></tr>\n",
       "\t<tr><td>25   </td><td>MONTH</td><td>9    </td></tr>\n",
       "\t<tr><td>26   </td><td>MONTH</td><td>9    </td></tr>\n",
       "\t<tr><td>27   </td><td>MONTH</td><td>9    </td></tr>\n",
       "\t<tr><td>28   </td><td>MONTH</td><td>9    </td></tr>\n",
       "\t<tr><td>29   </td><td>MONTH</td><td>9    </td></tr>\n",
       "\t<tr><td>30   </td><td>MONTH</td><td>9    </td></tr>\n",
       "</tbody>\n",
       "</table>\n"
      ],
      "text/latex": [
       "\\begin{tabular}{r|lll}\n",
       " DAY & variable & value\\\\\n",
       "\\hline\n",
       "\t  1    & OZONE &  41  \\\\\n",
       "\t  2    & OZONE &  36  \\\\\n",
       "\t  3    & OZONE &  12  \\\\\n",
       "\t  4    & OZONE &  18  \\\\\n",
       "\t  5    & OZONE &  NA  \\\\\n",
       "\t  6    & OZONE &  28  \\\\\n",
       "\t  7    & OZONE &  23  \\\\\n",
       "\t  8    & OZONE &  19  \\\\\n",
       "\t  9    & OZONE &   8  \\\\\n",
       "\t 10    & OZONE &  NA  \\\\\n",
       "\t 11    & OZONE &   7  \\\\\n",
       "\t 12    & OZONE &  16  \\\\\n",
       "\t 13    & OZONE &  11  \\\\\n",
       "\t 14    & OZONE &  14  \\\\\n",
       "\t 15    & OZONE &  18  \\\\\n",
       "\t 16    & OZONE &  14  \\\\\n",
       "\t 17    & OZONE &  34  \\\\\n",
       "\t 18    & OZONE &   6  \\\\\n",
       "\t 19    & OZONE &  30  \\\\\n",
       "\t 20    & OZONE &  11  \\\\\n",
       "\t 21    & OZONE &   1  \\\\\n",
       "\t 22    & OZONE &  11  \\\\\n",
       "\t 23    & OZONE &   4  \\\\\n",
       "\t 24    & OZONE &  32  \\\\\n",
       "\t 25    & OZONE &  NA  \\\\\n",
       "\t 26    & OZONE &  NA  \\\\\n",
       "\t 27    & OZONE &  NA  \\\\\n",
       "\t 28    & OZONE &  23  \\\\\n",
       "\t 29    & OZONE &  45  \\\\\n",
       "\t 30    & OZONE & 115  \\\\\n",
       "\t ... & ... & ...\\\\\n",
       "\t  1    & MONTH & 9    \\\\\n",
       "\t  2    & MONTH & 9    \\\\\n",
       "\t  3    & MONTH & 9    \\\\\n",
       "\t  4    & MONTH & 9    \\\\\n",
       "\t  5    & MONTH & 9    \\\\\n",
       "\t  6    & MONTH & 9    \\\\\n",
       "\t  7    & MONTH & 9    \\\\\n",
       "\t  8    & MONTH & 9    \\\\\n",
       "\t  9    & MONTH & 9    \\\\\n",
       "\t 10    & MONTH & 9    \\\\\n",
       "\t 11    & MONTH & 9    \\\\\n",
       "\t 12    & MONTH & 9    \\\\\n",
       "\t 13    & MONTH & 9    \\\\\n",
       "\t 14    & MONTH & 9    \\\\\n",
       "\t 15    & MONTH & 9    \\\\\n",
       "\t 16    & MONTH & 9    \\\\\n",
       "\t 17    & MONTH & 9    \\\\\n",
       "\t 18    & MONTH & 9    \\\\\n",
       "\t 19    & MONTH & 9    \\\\\n",
       "\t 20    & MONTH & 9    \\\\\n",
       "\t 21    & MONTH & 9    \\\\\n",
       "\t 22    & MONTH & 9    \\\\\n",
       "\t 23    & MONTH & 9    \\\\\n",
       "\t 24    & MONTH & 9    \\\\\n",
       "\t 25    & MONTH & 9    \\\\\n",
       "\t 26    & MONTH & 9    \\\\\n",
       "\t 27    & MONTH & 9    \\\\\n",
       "\t 28    & MONTH & 9    \\\\\n",
       "\t 29    & MONTH & 9    \\\\\n",
       "\t 30    & MONTH & 9    \\\\\n",
       "\\end{tabular}\n"
      ],
      "text/markdown": [
       "\n",
       "DAY | variable | value | \n",
       "|---|---|---|---|---|---|---|---|---|---|---|---|---|---|---|---|---|---|---|---|---|---|---|---|---|---|---|---|---|---|---|---|---|---|---|---|---|---|---|---|---|---|---|---|---|---|---|---|---|---|---|---|---|---|---|---|---|---|---|---|---|\n",
       "|  1    | OZONE |  41   | \n",
       "|  2    | OZONE |  36   | \n",
       "|  3    | OZONE |  12   | \n",
       "|  4    | OZONE |  18   | \n",
       "|  5    | OZONE |  NA   | \n",
       "|  6    | OZONE |  28   | \n",
       "|  7    | OZONE |  23   | \n",
       "|  8    | OZONE |  19   | \n",
       "|  9    | OZONE |   8   | \n",
       "| 10    | OZONE |  NA   | \n",
       "| 11    | OZONE |   7   | \n",
       "| 12    | OZONE |  16   | \n",
       "| 13    | OZONE |  11   | \n",
       "| 14    | OZONE |  14   | \n",
       "| 15    | OZONE |  18   | \n",
       "| 16    | OZONE |  14   | \n",
       "| 17    | OZONE |  34   | \n",
       "| 18    | OZONE |   6   | \n",
       "| 19    | OZONE |  30   | \n",
       "| 20    | OZONE |  11   | \n",
       "| 21    | OZONE |   1   | \n",
       "| 22    | OZONE |  11   | \n",
       "| 23    | OZONE |   4   | \n",
       "| 24    | OZONE |  32   | \n",
       "| 25    | OZONE |  NA   | \n",
       "| 26    | OZONE |  NA   | \n",
       "| 27    | OZONE |  NA   | \n",
       "| 28    | OZONE |  23   | \n",
       "| 29    | OZONE |  45   | \n",
       "| 30    | OZONE | 115   | \n",
       "| ... | ... | ... | \n",
       "|  1    | MONTH | 9     | \n",
       "|  2    | MONTH | 9     | \n",
       "|  3    | MONTH | 9     | \n",
       "|  4    | MONTH | 9     | \n",
       "|  5    | MONTH | 9     | \n",
       "|  6    | MONTH | 9     | \n",
       "|  7    | MONTH | 9     | \n",
       "|  8    | MONTH | 9     | \n",
       "|  9    | MONTH | 9     | \n",
       "| 10    | MONTH | 9     | \n",
       "| 11    | MONTH | 9     | \n",
       "| 12    | MONTH | 9     | \n",
       "| 13    | MONTH | 9     | \n",
       "| 14    | MONTH | 9     | \n",
       "| 15    | MONTH | 9     | \n",
       "| 16    | MONTH | 9     | \n",
       "| 17    | MONTH | 9     | \n",
       "| 18    | MONTH | 9     | \n",
       "| 19    | MONTH | 9     | \n",
       "| 20    | MONTH | 9     | \n",
       "| 21    | MONTH | 9     | \n",
       "| 22    | MONTH | 9     | \n",
       "| 23    | MONTH | 9     | \n",
       "| 24    | MONTH | 9     | \n",
       "| 25    | MONTH | 9     | \n",
       "| 26    | MONTH | 9     | \n",
       "| 27    | MONTH | 9     | \n",
       "| 28    | MONTH | 9     | \n",
       "| 29    | MONTH | 9     | \n",
       "| 30    | MONTH | 9     | \n",
       "\n",
       "\n"
      ],
      "text/plain": [
       "    DAY variable value\n",
       "1    1  OZONE     41  \n",
       "2    2  OZONE     36  \n",
       "3    3  OZONE     12  \n",
       "4    4  OZONE     18  \n",
       "5    5  OZONE     NA  \n",
       "6    6  OZONE     28  \n",
       "7    7  OZONE     23  \n",
       "8    8  OZONE     19  \n",
       "9    9  OZONE      8  \n",
       "10  10  OZONE     NA  \n",
       "11  11  OZONE      7  \n",
       "12  12  OZONE     16  \n",
       "13  13  OZONE     11  \n",
       "14  14  OZONE     14  \n",
       "15  15  OZONE     18  \n",
       "16  16  OZONE     14  \n",
       "17  17  OZONE     34  \n",
       "18  18  OZONE      6  \n",
       "19  19  OZONE     30  \n",
       "20  20  OZONE     11  \n",
       "21  21  OZONE      1  \n",
       "22  22  OZONE     11  \n",
       "23  23  OZONE      4  \n",
       "24  24  OZONE     32  \n",
       "25  25  OZONE     NA  \n",
       "26  26  OZONE     NA  \n",
       "27  27  OZONE     NA  \n",
       "28  28  OZONE     23  \n",
       "29  29  OZONE     45  \n",
       "30  30  OZONE    115  \n",
       "... ... ...      ...  \n",
       "736  1  MONTH    9    \n",
       "737  2  MONTH    9    \n",
       "738  3  MONTH    9    \n",
       "739  4  MONTH    9    \n",
       "740  5  MONTH    9    \n",
       "741  6  MONTH    9    \n",
       "742  7  MONTH    9    \n",
       "743  8  MONTH    9    \n",
       "744  9  MONTH    9    \n",
       "745 10  MONTH    9    \n",
       "746 11  MONTH    9    \n",
       "747 12  MONTH    9    \n",
       "748 13  MONTH    9    \n",
       "749 14  MONTH    9    \n",
       "750 15  MONTH    9    \n",
       "751 16  MONTH    9    \n",
       "752 17  MONTH    9    \n",
       "753 18  MONTH    9    \n",
       "754 19  MONTH    9    \n",
       "755 20  MONTH    9    \n",
       "756 21  MONTH    9    \n",
       "757 22  MONTH    9    \n",
       "758 23  MONTH    9    \n",
       "759 24  MONTH    9    \n",
       "760 25  MONTH    9    \n",
       "761 26  MONTH    9    \n",
       "762 27  MONTH    9    \n",
       "763 28  MONTH    9    \n",
       "764 29  MONTH    9    \n",
       "765 30  MONTH    9    "
      ]
     },
     "metadata": {},
     "output_type": "display_data"
    },
    {
     "data": {
      "text/html": [
       "<table>\n",
       "<thead><tr><th></th><th scope=col>OZONE</th><th scope=col>SOLAR.R</th><th scope=col>WIND</th><th scope=col>TEMP</th><th scope=col>MONTH</th><th scope=col>DAY</th></tr></thead>\n",
       "<tbody>\n",
       "\t<tr><th scope=row>1</th><td> 41</td><td>190</td><td>7.4</td><td>67 </td><td>5  </td><td>1  </td></tr>\n",
       "\t<tr><th scope=row>32</th><td> NA</td><td>286</td><td>8.6</td><td>78 </td><td>6  </td><td>1  </td></tr>\n",
       "\t<tr><th scope=row>62</th><td>135</td><td>269</td><td>4.1</td><td>84 </td><td>7  </td><td>1  </td></tr>\n",
       "\t<tr><th scope=row>93</th><td> 39</td><td> 83</td><td>6.9</td><td>81 </td><td>8  </td><td>1  </td></tr>\n",
       "\t<tr><th scope=row>124</th><td> 96</td><td>167</td><td>6.9</td><td>91 </td><td>9  </td><td>1  </td></tr>\n",
       "</tbody>\n",
       "</table>\n"
      ],
      "text/latex": [
       "\\begin{tabular}{r|llllll}\n",
       "  & OZONE & SOLAR.R & WIND & TEMP & MONTH & DAY\\\\\n",
       "\\hline\n",
       "\t1 &  41 & 190 & 7.4 & 67  & 5   & 1  \\\\\n",
       "\t32 &  NA & 286 & 8.6 & 78  & 6   & 1  \\\\\n",
       "\t62 & 135 & 269 & 4.1 & 84  & 7   & 1  \\\\\n",
       "\t93 &  39 &  83 & 6.9 & 81  & 8   & 1  \\\\\n",
       "\t124 &  96 & 167 & 6.9 & 91  & 9   & 1  \\\\\n",
       "\\end{tabular}\n"
      ],
      "text/markdown": [
       "\n",
       "| <!--/--> | OZONE | SOLAR.R | WIND | TEMP | MONTH | DAY | \n",
       "|---|---|---|---|---|\n",
       "| 1 |  41 | 190 | 7.4 | 67  | 5   | 1   | \n",
       "| 32 |  NA | 286 | 8.6 | 78  | 6   | 1   | \n",
       "| 62 | 135 | 269 | 4.1 | 84  | 7   | 1   | \n",
       "| 93 |  39 |  83 | 6.9 | 81  | 8   | 1   | \n",
       "| 124 |  96 | 167 | 6.9 | 91  | 9   | 1   | \n",
       "\n",
       "\n"
      ],
      "text/plain": [
       "    OZONE SOLAR.R WIND TEMP MONTH DAY\n",
       "1    41   190     7.4  67   5     1  \n",
       "32   NA   286     8.6  78   6     1  \n",
       "62  135   269     4.1  84   7     1  \n",
       "93   39    83     6.9  81   8     1  \n",
       "124  96   167     6.9  91   9     1  "
      ]
     },
     "metadata": {},
     "output_type": "display_data"
    },
    {
     "data": {
      "text/html": [
       "<table>\n",
       "<thead><tr><th></th><th scope=col>DAY</th><th scope=col>variable</th><th scope=col>value</th></tr></thead>\n",
       "<tbody>\n",
       "\t<tr><th scope=row>1</th><td>1      </td><td>OZONE  </td><td> 41.0  </td></tr>\n",
       "\t<tr><th scope=row>32</th><td>1      </td><td>OZONE  </td><td>   NA  </td></tr>\n",
       "\t<tr><th scope=row>62</th><td>1      </td><td>OZONE  </td><td>135.0  </td></tr>\n",
       "\t<tr><th scope=row>93</th><td>1      </td><td>OZONE  </td><td> 39.0  </td></tr>\n",
       "\t<tr><th scope=row>124</th><td>1      </td><td>OZONE  </td><td> 96.0  </td></tr>\n",
       "\t<tr><th scope=row>154</th><td>1      </td><td>SOLAR.R</td><td>190.0  </td></tr>\n",
       "\t<tr><th scope=row>185</th><td>1      </td><td>SOLAR.R</td><td>286.0  </td></tr>\n",
       "\t<tr><th scope=row>215</th><td>1      </td><td>SOLAR.R</td><td>269.0  </td></tr>\n",
       "\t<tr><th scope=row>246</th><td>1      </td><td>SOLAR.R</td><td> 83.0  </td></tr>\n",
       "\t<tr><th scope=row>277</th><td>1      </td><td>SOLAR.R</td><td>167.0  </td></tr>\n",
       "\t<tr><th scope=row>307</th><td>1      </td><td>WIND   </td><td>  7.4  </td></tr>\n",
       "\t<tr><th scope=row>338</th><td>1      </td><td>WIND   </td><td>  8.6  </td></tr>\n",
       "\t<tr><th scope=row>368</th><td>1      </td><td>WIND   </td><td>  4.1  </td></tr>\n",
       "\t<tr><th scope=row>399</th><td>1      </td><td>WIND   </td><td>  6.9  </td></tr>\n",
       "\t<tr><th scope=row>430</th><td>1      </td><td>WIND   </td><td>  6.9  </td></tr>\n",
       "\t<tr><th scope=row>460</th><td>1      </td><td>TEMP   </td><td> 67.0  </td></tr>\n",
       "\t<tr><th scope=row>491</th><td>1      </td><td>TEMP   </td><td> 78.0  </td></tr>\n",
       "\t<tr><th scope=row>521</th><td>1      </td><td>TEMP   </td><td> 84.0  </td></tr>\n",
       "\t<tr><th scope=row>552</th><td>1      </td><td>TEMP   </td><td> 81.0  </td></tr>\n",
       "\t<tr><th scope=row>583</th><td>1      </td><td>TEMP   </td><td> 91.0  </td></tr>\n",
       "\t<tr><th scope=row>613</th><td>1      </td><td>MONTH  </td><td>  5.0  </td></tr>\n",
       "\t<tr><th scope=row>644</th><td>1      </td><td>MONTH  </td><td>  6.0  </td></tr>\n",
       "\t<tr><th scope=row>674</th><td>1      </td><td>MONTH  </td><td>  7.0  </td></tr>\n",
       "\t<tr><th scope=row>705</th><td>1      </td><td>MONTH  </td><td>  8.0  </td></tr>\n",
       "\t<tr><th scope=row>736</th><td>1      </td><td>MONTH  </td><td>  9.0  </td></tr>\n",
       "</tbody>\n",
       "</table>\n"
      ],
      "text/latex": [
       "\\begin{tabular}{r|lll}\n",
       "  & DAY & variable & value\\\\\n",
       "\\hline\n",
       "\t1 & 1       & OZONE   &  41.0  \\\\\n",
       "\t32 & 1       & OZONE   &    NA  \\\\\n",
       "\t62 & 1       & OZONE   & 135.0  \\\\\n",
       "\t93 & 1       & OZONE   &  39.0  \\\\\n",
       "\t124 & 1       & OZONE   &  96.0  \\\\\n",
       "\t154 & 1       & SOLAR.R & 190.0  \\\\\n",
       "\t185 & 1       & SOLAR.R & 286.0  \\\\\n",
       "\t215 & 1       & SOLAR.R & 269.0  \\\\\n",
       "\t246 & 1       & SOLAR.R &  83.0  \\\\\n",
       "\t277 & 1       & SOLAR.R & 167.0  \\\\\n",
       "\t307 & 1       & WIND    &   7.4  \\\\\n",
       "\t338 & 1       & WIND    &   8.6  \\\\\n",
       "\t368 & 1       & WIND    &   4.1  \\\\\n",
       "\t399 & 1       & WIND    &   6.9  \\\\\n",
       "\t430 & 1       & WIND    &   6.9  \\\\\n",
       "\t460 & 1       & TEMP    &  67.0  \\\\\n",
       "\t491 & 1       & TEMP    &  78.0  \\\\\n",
       "\t521 & 1       & TEMP    &  84.0  \\\\\n",
       "\t552 & 1       & TEMP    &  81.0  \\\\\n",
       "\t583 & 1       & TEMP    &  91.0  \\\\\n",
       "\t613 & 1       & MONTH   &   5.0  \\\\\n",
       "\t644 & 1       & MONTH   &   6.0  \\\\\n",
       "\t674 & 1       & MONTH   &   7.0  \\\\\n",
       "\t705 & 1       & MONTH   &   8.0  \\\\\n",
       "\t736 & 1       & MONTH   &   9.0  \\\\\n",
       "\\end{tabular}\n"
      ],
      "text/markdown": [
       "\n",
       "| <!--/--> | DAY | variable | value | \n",
       "|---|---|---|---|---|---|---|---|---|---|---|---|---|---|---|---|---|---|---|---|---|---|---|---|---|\n",
       "| 1 | 1       | OZONE   |  41.0   | \n",
       "| 32 | 1       | OZONE   |    NA   | \n",
       "| 62 | 1       | OZONE   | 135.0   | \n",
       "| 93 | 1       | OZONE   |  39.0   | \n",
       "| 124 | 1       | OZONE   |  96.0   | \n",
       "| 154 | 1       | SOLAR.R | 190.0   | \n",
       "| 185 | 1       | SOLAR.R | 286.0   | \n",
       "| 215 | 1       | SOLAR.R | 269.0   | \n",
       "| 246 | 1       | SOLAR.R |  83.0   | \n",
       "| 277 | 1       | SOLAR.R | 167.0   | \n",
       "| 307 | 1       | WIND    |   7.4   | \n",
       "| 338 | 1       | WIND    |   8.6   | \n",
       "| 368 | 1       | WIND    |   4.1   | \n",
       "| 399 | 1       | WIND    |   6.9   | \n",
       "| 430 | 1       | WIND    |   6.9   | \n",
       "| 460 | 1       | TEMP    |  67.0   | \n",
       "| 491 | 1       | TEMP    |  78.0   | \n",
       "| 521 | 1       | TEMP    |  84.0   | \n",
       "| 552 | 1       | TEMP    |  81.0   | \n",
       "| 583 | 1       | TEMP    |  91.0   | \n",
       "| 613 | 1       | MONTH   |   5.0   | \n",
       "| 644 | 1       | MONTH   |   6.0   | \n",
       "| 674 | 1       | MONTH   |   7.0   | \n",
       "| 705 | 1       | MONTH   |   8.0   | \n",
       "| 736 | 1       | MONTH   |   9.0   | \n",
       "\n",
       "\n"
      ],
      "text/plain": [
       "    DAY variable value\n",
       "1   1   OZONE     41.0\n",
       "32  1   OZONE       NA\n",
       "62  1   OZONE    135.0\n",
       "93  1   OZONE     39.0\n",
       "124 1   OZONE     96.0\n",
       "154 1   SOLAR.R  190.0\n",
       "185 1   SOLAR.R  286.0\n",
       "215 1   SOLAR.R  269.0\n",
       "246 1   SOLAR.R   83.0\n",
       "277 1   SOLAR.R  167.0\n",
       "307 1   WIND       7.4\n",
       "338 1   WIND       8.6\n",
       "368 1   WIND       4.1\n",
       "399 1   WIND       6.9\n",
       "430 1   WIND       6.9\n",
       "460 1   TEMP      67.0\n",
       "491 1   TEMP      78.0\n",
       "521 1   TEMP      84.0\n",
       "552 1   TEMP      81.0\n",
       "583 1   TEMP      91.0\n",
       "613 1   MONTH      5.0\n",
       "644 1   MONTH      6.0\n",
       "674 1   MONTH      7.0\n",
       "705 1   MONTH      8.0\n",
       "736 1   MONTH      9.0"
      ]
     },
     "metadata": {},
     "output_type": "display_data"
    }
   ],
   "source": [
    "aql=melt(airquality, id.vars=\"DAY\");aql #it doesn't guarantee the id's uniqueness.\n",
    "subset(airquality, DAY==1)\n",
    "subset(aql, DAY==1)"
   ]
  },
  {
   "cell_type": "code",
   "execution_count": 71,
   "metadata": {
    "scrolled": false
   },
   "outputs": [
    {
     "data": {
      "text/html": [
       "<table>\n",
       "<thead><tr><th scope=col>OZONE</th><th scope=col>variable</th><th scope=col>value</th></tr></thead>\n",
       "<tbody>\n",
       "\t<tr><td>41     </td><td>SOLAR.R</td><td>190    </td></tr>\n",
       "\t<tr><td>36     </td><td>SOLAR.R</td><td>118    </td></tr>\n",
       "\t<tr><td>12     </td><td>SOLAR.R</td><td>149    </td></tr>\n",
       "\t<tr><td>18     </td><td>SOLAR.R</td><td>313    </td></tr>\n",
       "\t<tr><td>NA     </td><td>SOLAR.R</td><td> NA    </td></tr>\n",
       "\t<tr><td>28     </td><td>SOLAR.R</td><td> NA    </td></tr>\n",
       "</tbody>\n",
       "</table>\n"
      ],
      "text/latex": [
       "\\begin{tabular}{r|lll}\n",
       " OZONE & variable & value\\\\\n",
       "\\hline\n",
       "\t 41      & SOLAR.R & 190    \\\\\n",
       "\t 36      & SOLAR.R & 118    \\\\\n",
       "\t 12      & SOLAR.R & 149    \\\\\n",
       "\t 18      & SOLAR.R & 313    \\\\\n",
       "\t NA      & SOLAR.R &  NA    \\\\\n",
       "\t 28      & SOLAR.R &  NA    \\\\\n",
       "\\end{tabular}\n"
      ],
      "text/markdown": [
       "\n",
       "OZONE | variable | value | \n",
       "|---|---|---|---|---|---|\n",
       "| 41      | SOLAR.R | 190     | \n",
       "| 36      | SOLAR.R | 118     | \n",
       "| 12      | SOLAR.R | 149     | \n",
       "| 18      | SOLAR.R | 313     | \n",
       "| NA      | SOLAR.R |  NA     | \n",
       "| 28      | SOLAR.R |  NA     | \n",
       "\n",
       "\n"
      ],
      "text/plain": [
       "  OZONE variable value\n",
       "1 41    SOLAR.R  190  \n",
       "2 36    SOLAR.R  118  \n",
       "3 12    SOLAR.R  149  \n",
       "4 18    SOLAR.R  313  \n",
       "5 NA    SOLAR.R   NA  \n",
       "6 28    SOLAR.R   NA  "
      ]
     },
     "metadata": {},
     "output_type": "display_data"
    },
    {
     "data": {
      "text/html": [
       "<table>\n",
       "<thead><tr><th></th><th scope=col>OZONE</th><th scope=col>SOLAR.R</th><th scope=col>WIND</th><th scope=col>TEMP</th><th scope=col>MONTH</th><th scope=col>DAY</th></tr></thead>\n",
       "<tbody>\n",
       "\t<tr><th scope=row>3</th><td>12  </td><td>149 </td><td>12.6</td><td>74  </td><td>5   </td><td> 3  </td></tr>\n",
       "\t<tr><th scope=row>50</th><td>12  </td><td>120 </td><td>11.5</td><td>73  </td><td>6   </td><td>19  </td></tr>\n",
       "</tbody>\n",
       "</table>\n"
      ],
      "text/latex": [
       "\\begin{tabular}{r|llllll}\n",
       "  & OZONE & SOLAR.R & WIND & TEMP & MONTH & DAY\\\\\n",
       "\\hline\n",
       "\t3 & 12   & 149  & 12.6 & 74   & 5    &  3  \\\\\n",
       "\t50 & 12   & 120  & 11.5 & 73   & 6    & 19  \\\\\n",
       "\\end{tabular}\n"
      ],
      "text/markdown": [
       "\n",
       "| <!--/--> | OZONE | SOLAR.R | WIND | TEMP | MONTH | DAY | \n",
       "|---|---|\n",
       "| 3 | 12   | 149  | 12.6 | 74   | 5    |  3   | \n",
       "| 50 | 12   | 120  | 11.5 | 73   | 6    | 19   | \n",
       "\n",
       "\n"
      ],
      "text/plain": [
       "   OZONE SOLAR.R WIND TEMP MONTH DAY\n",
       "3  12    149     12.6 74   5      3 \n",
       "50 12    120     11.5 73   6     19 "
      ]
     },
     "metadata": {},
     "output_type": "display_data"
    },
    {
     "data": {
      "text/html": [
       "<table>\n",
       "<thead><tr><th></th><th scope=col>OZONE</th><th scope=col>variable</th><th scope=col>value</th></tr></thead>\n",
       "<tbody>\n",
       "\t<tr><th scope=row>3</th><td>12     </td><td>SOLAR.R</td><td>149.0  </td></tr>\n",
       "\t<tr><th scope=row>50</th><td>12     </td><td>SOLAR.R</td><td>120.0  </td></tr>\n",
       "\t<tr><th scope=row>156</th><td>12     </td><td>WIND   </td><td> 12.6  </td></tr>\n",
       "\t<tr><th scope=row>203</th><td>12     </td><td>WIND   </td><td> 11.5  </td></tr>\n",
       "\t<tr><th scope=row>309</th><td>12     </td><td>TEMP   </td><td> 74.0  </td></tr>\n",
       "\t<tr><th scope=row>356</th><td>12     </td><td>TEMP   </td><td> 73.0  </td></tr>\n",
       "\t<tr><th scope=row>462</th><td>12     </td><td>MONTH  </td><td>  5.0  </td></tr>\n",
       "\t<tr><th scope=row>509</th><td>12     </td><td>MONTH  </td><td>  6.0  </td></tr>\n",
       "\t<tr><th scope=row>615</th><td>12     </td><td>DAY    </td><td>  3.0  </td></tr>\n",
       "\t<tr><th scope=row>662</th><td>12     </td><td>DAY    </td><td> 19.0  </td></tr>\n",
       "</tbody>\n",
       "</table>\n"
      ],
      "text/latex": [
       "\\begin{tabular}{r|lll}\n",
       "  & OZONE & variable & value\\\\\n",
       "\\hline\n",
       "\t3 & 12      & SOLAR.R & 149.0  \\\\\n",
       "\t50 & 12      & SOLAR.R & 120.0  \\\\\n",
       "\t156 & 12      & WIND    &  12.6  \\\\\n",
       "\t203 & 12      & WIND    &  11.5  \\\\\n",
       "\t309 & 12      & TEMP    &  74.0  \\\\\n",
       "\t356 & 12      & TEMP    &  73.0  \\\\\n",
       "\t462 & 12      & MONTH   &   5.0  \\\\\n",
       "\t509 & 12      & MONTH   &   6.0  \\\\\n",
       "\t615 & 12      & DAY     &   3.0  \\\\\n",
       "\t662 & 12      & DAY     &  19.0  \\\\\n",
       "\\end{tabular}\n"
      ],
      "text/markdown": [
       "\n",
       "| <!--/--> | OZONE | variable | value | \n",
       "|---|---|---|---|---|---|---|---|---|---|\n",
       "| 3 | 12      | SOLAR.R | 149.0   | \n",
       "| 50 | 12      | SOLAR.R | 120.0   | \n",
       "| 156 | 12      | WIND    |  12.6   | \n",
       "| 203 | 12      | WIND    |  11.5   | \n",
       "| 309 | 12      | TEMP    |  74.0   | \n",
       "| 356 | 12      | TEMP    |  73.0   | \n",
       "| 462 | 12      | MONTH   |   5.0   | \n",
       "| 509 | 12      | MONTH   |   6.0   | \n",
       "| 615 | 12      | DAY     |   3.0   | \n",
       "| 662 | 12      | DAY     |  19.0   | \n",
       "\n",
       "\n"
      ],
      "text/plain": [
       "    OZONE variable value\n",
       "3   12    SOLAR.R  149.0\n",
       "50  12    SOLAR.R  120.0\n",
       "156 12    WIND      12.6\n",
       "203 12    WIND      11.5\n",
       "309 12    TEMP      74.0\n",
       "356 12    TEMP      73.0\n",
       "462 12    MONTH      5.0\n",
       "509 12    MONTH      6.0\n",
       "615 12    DAY        3.0\n",
       "662 12    DAY       19.0"
      ]
     },
     "metadata": {},
     "output_type": "display_data"
    }
   ],
   "source": [
    "aql=melt(airquality, id.vars=\"OZONE\");head(aql) #it doesn't guarantee the id's uniqueness.\n",
    "subset(airquality, OZONE==12)\n",
    "subset(aql, OZONE==12)"
   ]
  },
  {
   "cell_type": "code",
   "execution_count": 72,
   "metadata": {
    "scrolled": false
   },
   "outputs": [
    {
     "data": {
      "text/html": [
       "<table>\n",
       "<thead><tr><th></th><th scope=col>OZONE</th><th scope=col>SOLAR.R</th><th scope=col>WIND</th><th scope=col>TEMP</th><th scope=col>MONTH</th><th scope=col>DAY</th></tr></thead>\n",
       "<tbody>\n",
       "\t<tr><th scope=row>3</th><td>12  </td><td>149 </td><td>12.6</td><td>74  </td><td>5   </td><td> 3  </td></tr>\n",
       "\t<tr><th scope=row>50</th><td>12  </td><td>120 </td><td>11.5</td><td>73  </td><td>6   </td><td>19  </td></tr>\n",
       "</tbody>\n",
       "</table>\n"
      ],
      "text/latex": [
       "\\begin{tabular}{r|llllll}\n",
       "  & OZONE & SOLAR.R & WIND & TEMP & MONTH & DAY\\\\\n",
       "\\hline\n",
       "\t3 & 12   & 149  & 12.6 & 74   & 5    &  3  \\\\\n",
       "\t50 & 12   & 120  & 11.5 & 73   & 6    & 19  \\\\\n",
       "\\end{tabular}\n"
      ],
      "text/markdown": [
       "\n",
       "| <!--/--> | OZONE | SOLAR.R | WIND | TEMP | MONTH | DAY | \n",
       "|---|---|\n",
       "| 3 | 12   | 149  | 12.6 | 74   | 5    |  3   | \n",
       "| 50 | 12   | 120  | 11.5 | 73   | 6    | 19   | \n",
       "\n",
       "\n"
      ],
      "text/plain": [
       "   OZONE SOLAR.R WIND TEMP MONTH DAY\n",
       "3  12    149     12.6 74   5      3 \n",
       "50 12    120     11.5 73   6     19 "
      ]
     },
     "metadata": {},
     "output_type": "display_data"
    },
    {
     "data": {
      "text/html": [
       "<table>\n",
       "<thead><tr><th scope=col>OZONE</th><th scope=col>variable</th><th scope=col>value</th></tr></thead>\n",
       "<tbody>\n",
       "\t<tr><td>41     </td><td>SOLAR.R</td><td>190    </td></tr>\n",
       "\t<tr><td>36     </td><td>SOLAR.R</td><td>118    </td></tr>\n",
       "\t<tr><td>12     </td><td>SOLAR.R</td><td>149    </td></tr>\n",
       "\t<tr><td>18     </td><td>SOLAR.R</td><td>313    </td></tr>\n",
       "\t<tr><td>NA     </td><td>SOLAR.R</td><td> NA    </td></tr>\n",
       "\t<tr><td>28     </td><td>SOLAR.R</td><td> NA    </td></tr>\n",
       "</tbody>\n",
       "</table>\n"
      ],
      "text/latex": [
       "\\begin{tabular}{r|lll}\n",
       " OZONE & variable & value\\\\\n",
       "\\hline\n",
       "\t 41      & SOLAR.R & 190    \\\\\n",
       "\t 36      & SOLAR.R & 118    \\\\\n",
       "\t 12      & SOLAR.R & 149    \\\\\n",
       "\t 18      & SOLAR.R & 313    \\\\\n",
       "\t NA      & SOLAR.R &  NA    \\\\\n",
       "\t 28      & SOLAR.R &  NA    \\\\\n",
       "\\end{tabular}\n"
      ],
      "text/markdown": [
       "\n",
       "OZONE | variable | value | \n",
       "|---|---|---|---|---|---|\n",
       "| 41      | SOLAR.R | 190     | \n",
       "| 36      | SOLAR.R | 118     | \n",
       "| 12      | SOLAR.R | 149     | \n",
       "| 18      | SOLAR.R | 313     | \n",
       "| NA      | SOLAR.R |  NA     | \n",
       "| 28      | SOLAR.R |  NA     | \n",
       "\n",
       "\n"
      ],
      "text/plain": [
       "  OZONE variable value\n",
       "1 41    SOLAR.R  190  \n",
       "2 36    SOLAR.R  118  \n",
       "3 12    SOLAR.R  149  \n",
       "4 18    SOLAR.R  313  \n",
       "5 NA    SOLAR.R   NA  \n",
       "6 28    SOLAR.R   NA  "
      ]
     },
     "metadata": {},
     "output_type": "display_data"
    },
    {
     "data": {
      "text/html": [
       "<table>\n",
       "<thead><tr><th></th><th scope=col>OZONE</th><th scope=col>variable</th><th scope=col>value</th></tr></thead>\n",
       "<tbody>\n",
       "\t<tr><th scope=row>3</th><td>12     </td><td>SOLAR.R</td><td>149.0  </td></tr>\n",
       "\t<tr><th scope=row>50</th><td>12     </td><td>SOLAR.R</td><td>120.0  </td></tr>\n",
       "\t<tr><th scope=row>156</th><td>12     </td><td>WIND   </td><td> 12.6  </td></tr>\n",
       "\t<tr><th scope=row>203</th><td>12     </td><td>WIND   </td><td> 11.5  </td></tr>\n",
       "\t<tr><th scope=row>309</th><td>12     </td><td>TEMP   </td><td> 74.0  </td></tr>\n",
       "\t<tr><th scope=row>356</th><td>12     </td><td>TEMP   </td><td> 73.0  </td></tr>\n",
       "\t<tr><th scope=row>462</th><td>12     </td><td>MONTH  </td><td>  5.0  </td></tr>\n",
       "\t<tr><th scope=row>509</th><td>12     </td><td>MONTH  </td><td>  6.0  </td></tr>\n",
       "\t<tr><th scope=row>615</th><td>12     </td><td>DAY    </td><td>  3.0  </td></tr>\n",
       "\t<tr><th scope=row>662</th><td>12     </td><td>DAY    </td><td> 19.0  </td></tr>\n",
       "</tbody>\n",
       "</table>\n"
      ],
      "text/latex": [
       "\\begin{tabular}{r|lll}\n",
       "  & OZONE & variable & value\\\\\n",
       "\\hline\n",
       "\t3 & 12      & SOLAR.R & 149.0  \\\\\n",
       "\t50 & 12      & SOLAR.R & 120.0  \\\\\n",
       "\t156 & 12      & WIND    &  12.6  \\\\\n",
       "\t203 & 12      & WIND    &  11.5  \\\\\n",
       "\t309 & 12      & TEMP    &  74.0  \\\\\n",
       "\t356 & 12      & TEMP    &  73.0  \\\\\n",
       "\t462 & 12      & MONTH   &   5.0  \\\\\n",
       "\t509 & 12      & MONTH   &   6.0  \\\\\n",
       "\t615 & 12      & DAY     &   3.0  \\\\\n",
       "\t662 & 12      & DAY     &  19.0  \\\\\n",
       "\\end{tabular}\n"
      ],
      "text/markdown": [
       "\n",
       "| <!--/--> | OZONE | variable | value | \n",
       "|---|---|---|---|---|---|---|---|---|---|\n",
       "| 3 | 12      | SOLAR.R | 149.0   | \n",
       "| 50 | 12      | SOLAR.R | 120.0   | \n",
       "| 156 | 12      | WIND    |  12.6   | \n",
       "| 203 | 12      | WIND    |  11.5   | \n",
       "| 309 | 12      | TEMP    |  74.0   | \n",
       "| 356 | 12      | TEMP    |  73.0   | \n",
       "| 462 | 12      | MONTH   |   5.0   | \n",
       "| 509 | 12      | MONTH   |   6.0   | \n",
       "| 615 | 12      | DAY     |   3.0   | \n",
       "| 662 | 12      | DAY     |  19.0   | \n",
       "\n",
       "\n"
      ],
      "text/plain": [
       "    OZONE variable value\n",
       "3   12    SOLAR.R  149.0\n",
       "50  12    SOLAR.R  120.0\n",
       "156 12    WIND      12.6\n",
       "203 12    WIND      11.5\n",
       "309 12    TEMP      74.0\n",
       "356 12    TEMP      73.0\n",
       "462 12    MONTH      5.0\n",
       "509 12    MONTH      6.0\n",
       "615 12    DAY        3.0\n",
       "662 12    DAY       19.0"
      ]
     },
     "metadata": {},
     "output_type": "display_data"
    },
    {
     "data": {
      "text/html": [
       "<table>\n",
       "<thead><tr><th></th><th scope=col>OZONE</th><th scope=col>variable</th><th scope=col>value</th></tr></thead>\n",
       "<tbody>\n",
       "\t<tr><th scope=row>1</th><td>41     </td><td>SOLAR.R</td><td>190    </td></tr>\n",
       "\t<tr><th scope=row>112</th><td>44     </td><td>SOLAR.R</td><td>190    </td></tr>\n",
       "</tbody>\n",
       "</table>\n"
      ],
      "text/latex": [
       "\\begin{tabular}{r|lll}\n",
       "  & OZONE & variable & value\\\\\n",
       "\\hline\n",
       "\t1 & 41      & SOLAR.R & 190    \\\\\n",
       "\t112 & 44      & SOLAR.R & 190    \\\\\n",
       "\\end{tabular}\n"
      ],
      "text/markdown": [
       "\n",
       "| <!--/--> | OZONE | variable | value | \n",
       "|---|---|\n",
       "| 1 | 41      | SOLAR.R | 190     | \n",
       "| 112 | 44      | SOLAR.R | 190     | \n",
       "\n",
       "\n"
      ],
      "text/plain": [
       "    OZONE variable value\n",
       "1   41    SOLAR.R  190  \n",
       "112 44    SOLAR.R  190  "
      ]
     },
     "metadata": {},
     "output_type": "display_data"
    }
   ],
   "source": [
    "# subset(airquality, MONTH==5 & DAY==1)\n",
    "subset(airquality, OZONE==12)\n",
    "head(aql)\n",
    "subset(aql, OZONE==12) \n",
    "subset(aql, value==190)\n",
    "\n",
    "# subset(aql, MONTH==5 & DAY==1)"
   ]
  },
  {
   "cell_type": "code",
   "execution_count": 73,
   "metadata": {
    "scrolled": true
   },
   "outputs": [
    {
     "data": {
      "text/html": [
       "<table>\n",
       "<thead><tr><th scope=col>OZONE</th><th scope=col>SOLAR.R</th><th scope=col>WIND</th><th scope=col>TEMP</th><th scope=col>MONTH</th><th scope=col>DAY</th></tr></thead>\n",
       "<tbody>\n",
       "\t<tr><td>41 </td><td>190</td><td>7.4</td><td>67 </td><td>5  </td><td>1  </td></tr>\n",
       "</tbody>\n",
       "</table>\n"
      ],
      "text/latex": [
       "\\begin{tabular}{r|llllll}\n",
       " OZONE & SOLAR.R & WIND & TEMP & MONTH & DAY\\\\\n",
       "\\hline\n",
       "\t 41  & 190 & 7.4 & 67  & 5   & 1  \\\\\n",
       "\\end{tabular}\n"
      ],
      "text/markdown": [
       "\n",
       "OZONE | SOLAR.R | WIND | TEMP | MONTH | DAY | \n",
       "|---|\n",
       "| 41  | 190 | 7.4 | 67  | 5   | 1   | \n",
       "\n",
       "\n"
      ],
      "text/plain": [
       "  OZONE SOLAR.R WIND TEMP MONTH DAY\n",
       "1 41    190     7.4  67   5     1  "
      ]
     },
     "metadata": {},
     "output_type": "display_data"
    },
    {
     "data": {
      "text/html": [
       "<table>\n",
       "<thead><tr><th></th><th scope=col>MONTH</th><th scope=col>DAY</th><th scope=col>variable</th><th scope=col>value</th></tr></thead>\n",
       "<tbody>\n",
       "\t<tr><th scope=row>1</th><td>5      </td><td>1      </td><td>OZONE  </td><td> 41.0  </td></tr>\n",
       "\t<tr><th scope=row>154</th><td>5      </td><td>1      </td><td>SOLAR.R</td><td>190.0  </td></tr>\n",
       "\t<tr><th scope=row>307</th><td>5      </td><td>1      </td><td>WIND   </td><td>  7.4  </td></tr>\n",
       "\t<tr><th scope=row>460</th><td>5      </td><td>1      </td><td>TEMP   </td><td> 67.0  </td></tr>\n",
       "</tbody>\n",
       "</table>\n"
      ],
      "text/latex": [
       "\\begin{tabular}{r|llll}\n",
       "  & MONTH & DAY & variable & value\\\\\n",
       "\\hline\n",
       "\t1 & 5       & 1       & OZONE   &  41.0  \\\\\n",
       "\t154 & 5       & 1       & SOLAR.R & 190.0  \\\\\n",
       "\t307 & 5       & 1       & WIND    &   7.4  \\\\\n",
       "\t460 & 5       & 1       & TEMP    &  67.0  \\\\\n",
       "\\end{tabular}\n"
      ],
      "text/markdown": [
       "\n",
       "| <!--/--> | MONTH | DAY | variable | value | \n",
       "|---|---|---|---|\n",
       "| 1 | 5       | 1       | OZONE   |  41.0   | \n",
       "| 154 | 5       | 1       | SOLAR.R | 190.0   | \n",
       "| 307 | 5       | 1       | WIND    |   7.4   | \n",
       "| 460 | 5       | 1       | TEMP    |  67.0   | \n",
       "\n",
       "\n"
      ],
      "text/plain": [
       "    MONTH DAY variable value\n",
       "1   5     1   OZONE     41.0\n",
       "154 5     1   SOLAR.R  190.0\n",
       "307 5     1   WIND       7.4\n",
       "460 5     1   TEMP      67.0"
      ]
     },
     "metadata": {},
     "output_type": "display_data"
    }
   ],
   "source": [
    "aql=melt(airquality, id.vars=c('MONTH', 'DAY'))\n",
    "subset(airquality, MONTH==5 & DAY==1)\n",
    "subset(aql, MONTH==5 & DAY==1)"
   ]
  },
  {
   "cell_type": "code",
   "execution_count": 74,
   "metadata": {
    "scrolled": true
   },
   "outputs": [
    {
     "data": {
      "text/html": [
       "<table>\n",
       "<thead><tr><th scope=col>OZONE</th><th scope=col>SOLAR.R</th><th scope=col>WIND</th><th scope=col>TEMP</th><th scope=col>MONTH</th><th scope=col>DAY</th></tr></thead>\n",
       "<tbody>\n",
       "\t<tr><td>41  </td><td>190 </td><td> 7.4</td><td>67  </td><td>5   </td><td>1   </td></tr>\n",
       "\t<tr><td>36  </td><td>118 </td><td> 8.0</td><td>72  </td><td>5   </td><td>2   </td></tr>\n",
       "\t<tr><td>12  </td><td>149 </td><td>12.6</td><td>74  </td><td>5   </td><td>3   </td></tr>\n",
       "\t<tr><td>18  </td><td>313 </td><td>11.5</td><td>62  </td><td>5   </td><td>4   </td></tr>\n",
       "\t<tr><td>NA  </td><td> NA </td><td>14.3</td><td>56  </td><td>5   </td><td>5   </td></tr>\n",
       "\t<tr><td>28  </td><td> NA </td><td>14.9</td><td>66  </td><td>5   </td><td>6   </td></tr>\n",
       "</tbody>\n",
       "</table>\n"
      ],
      "text/latex": [
       "\\begin{tabular}{r|llllll}\n",
       " OZONE & SOLAR.R & WIND & TEMP & MONTH & DAY\\\\\n",
       "\\hline\n",
       "\t 41   & 190  &  7.4 & 67   & 5    & 1   \\\\\n",
       "\t 36   & 118  &  8.0 & 72   & 5    & 2   \\\\\n",
       "\t 12   & 149  & 12.6 & 74   & 5    & 3   \\\\\n",
       "\t 18   & 313  & 11.5 & 62   & 5    & 4   \\\\\n",
       "\t NA   &  NA  & 14.3 & 56   & 5    & 5   \\\\\n",
       "\t 28   &  NA  & 14.9 & 66   & 5    & 6   \\\\\n",
       "\\end{tabular}\n"
      ],
      "text/markdown": [
       "\n",
       "OZONE | SOLAR.R | WIND | TEMP | MONTH | DAY | \n",
       "|---|---|---|---|---|---|\n",
       "| 41   | 190  |  7.4 | 67   | 5    | 1    | \n",
       "| 36   | 118  |  8.0 | 72   | 5    | 2    | \n",
       "| 12   | 149  | 12.6 | 74   | 5    | 3    | \n",
       "| 18   | 313  | 11.5 | 62   | 5    | 4    | \n",
       "| NA   |  NA  | 14.3 | 56   | 5    | 5    | \n",
       "| 28   |  NA  | 14.9 | 66   | 5    | 6    | \n",
       "\n",
       "\n"
      ],
      "text/plain": [
       "  OZONE SOLAR.R WIND TEMP MONTH DAY\n",
       "1 41    190      7.4 67   5     1  \n",
       "2 36    118      8.0 72   5     2  \n",
       "3 12    149     12.6 74   5     3  \n",
       "4 18    313     11.5 62   5     4  \n",
       "5 NA     NA     14.3 56   5     5  \n",
       "6 28     NA     14.9 66   5     6  "
      ]
     },
     "metadata": {},
     "output_type": "display_data"
    },
    {
     "data": {
      "text/html": [
       "<table>\n",
       "<thead><tr><th></th><th scope=col>MONTH</th><th scope=col>DAY</th><th scope=col>climate_variable</th><th scope=col>climate_value</th></tr></thead>\n",
       "<tbody>\n",
       "\t<tr><th scope=row>1</th><td>5      </td><td>1      </td><td>OZONE  </td><td> 41.0  </td></tr>\n",
       "\t<tr><th scope=row>154</th><td>5      </td><td>1      </td><td>SOLAR.R</td><td>190.0  </td></tr>\n",
       "\t<tr><th scope=row>307</th><td>5      </td><td>1      </td><td>WIND   </td><td>  7.4  </td></tr>\n",
       "\t<tr><th scope=row>460</th><td>5      </td><td>1      </td><td>TEMP   </td><td> 67.0  </td></tr>\n",
       "</tbody>\n",
       "</table>\n"
      ],
      "text/latex": [
       "\\begin{tabular}{r|llll}\n",
       "  & MONTH & DAY & climate\\_variable & climate\\_value\\\\\n",
       "\\hline\n",
       "\t1 & 5       & 1       & OZONE   &  41.0  \\\\\n",
       "\t154 & 5       & 1       & SOLAR.R & 190.0  \\\\\n",
       "\t307 & 5       & 1       & WIND    &   7.4  \\\\\n",
       "\t460 & 5       & 1       & TEMP    &  67.0  \\\\\n",
       "\\end{tabular}\n"
      ],
      "text/markdown": [
       "\n",
       "| <!--/--> | MONTH | DAY | climate_variable | climate_value | \n",
       "|---|---|---|---|\n",
       "| 1 | 5       | 1       | OZONE   |  41.0   | \n",
       "| 154 | 5       | 1       | SOLAR.R | 190.0   | \n",
       "| 307 | 5       | 1       | WIND    |   7.4   | \n",
       "| 460 | 5       | 1       | TEMP    |  67.0   | \n",
       "\n",
       "\n"
      ],
      "text/plain": [
       "    MONTH DAY climate_variable climate_value\n",
       "1   5     1   OZONE             41.0        \n",
       "154 5     1   SOLAR.R          190.0        \n",
       "307 5     1   WIND               7.4        \n",
       "460 5     1   TEMP              67.0        "
      ]
     },
     "metadata": {},
     "output_type": "display_data"
    }
   ],
   "source": [
    "head(airquality)\n",
    "aql <- melt(airquality, id.vars = c(\"MONTH\", \"DAY\"),\n",
    "  variable.name = \"climate_variable\", \n",
    "  value.name = \"climate_value\") #rename\n",
    "subset(aql, MONTH==5 & DAY==1)"
   ]
  },
  {
   "cell_type": "code",
   "execution_count": 75,
   "metadata": {
    "scrolled": true
   },
   "outputs": [
    {
     "data": {
      "text/html": [
       "<table>\n",
       "<thead><tr><th scope=col>MONTH</th><th scope=col>DAY</th><th scope=col>climate_variable</th><th scope=col>climate_value</th></tr></thead>\n",
       "<tbody>\n",
       "\t<tr><td>5    </td><td> 1   </td><td>OZONE</td><td> 41  </td></tr>\n",
       "\t<tr><td>5    </td><td> 2   </td><td>OZONE</td><td> 36  </td></tr>\n",
       "\t<tr><td>5    </td><td> 3   </td><td>OZONE</td><td> 12  </td></tr>\n",
       "\t<tr><td>5    </td><td> 4   </td><td>OZONE</td><td> 18  </td></tr>\n",
       "\t<tr><td>5    </td><td> 5   </td><td>OZONE</td><td> NA  </td></tr>\n",
       "\t<tr><td>5    </td><td> 6   </td><td>OZONE</td><td> 28  </td></tr>\n",
       "\t<tr><td>5    </td><td> 7   </td><td>OZONE</td><td> 23  </td></tr>\n",
       "\t<tr><td>5    </td><td> 8   </td><td>OZONE</td><td> 19  </td></tr>\n",
       "\t<tr><td>5    </td><td> 9   </td><td>OZONE</td><td>  8  </td></tr>\n",
       "\t<tr><td>5    </td><td>10   </td><td>OZONE</td><td> NA  </td></tr>\n",
       "\t<tr><td>5    </td><td>11   </td><td>OZONE</td><td>  7  </td></tr>\n",
       "\t<tr><td>5    </td><td>12   </td><td>OZONE</td><td> 16  </td></tr>\n",
       "\t<tr><td>5    </td><td>13   </td><td>OZONE</td><td> 11  </td></tr>\n",
       "\t<tr><td>5    </td><td>14   </td><td>OZONE</td><td> 14  </td></tr>\n",
       "\t<tr><td>5    </td><td>15   </td><td>OZONE</td><td> 18  </td></tr>\n",
       "\t<tr><td>5    </td><td>16   </td><td>OZONE</td><td> 14  </td></tr>\n",
       "\t<tr><td>5    </td><td>17   </td><td>OZONE</td><td> 34  </td></tr>\n",
       "\t<tr><td>5    </td><td>18   </td><td>OZONE</td><td>  6  </td></tr>\n",
       "\t<tr><td>5    </td><td>19   </td><td>OZONE</td><td> 30  </td></tr>\n",
       "\t<tr><td>5    </td><td>20   </td><td>OZONE</td><td> 11  </td></tr>\n",
       "\t<tr><td>5    </td><td>21   </td><td>OZONE</td><td>  1  </td></tr>\n",
       "\t<tr><td>5    </td><td>22   </td><td>OZONE</td><td> 11  </td></tr>\n",
       "\t<tr><td>5    </td><td>23   </td><td>OZONE</td><td>  4  </td></tr>\n",
       "\t<tr><td>5    </td><td>24   </td><td>OZONE</td><td> 32  </td></tr>\n",
       "\t<tr><td>5    </td><td>25   </td><td>OZONE</td><td> NA  </td></tr>\n",
       "\t<tr><td>5    </td><td>26   </td><td>OZONE</td><td> NA  </td></tr>\n",
       "\t<tr><td>5    </td><td>27   </td><td>OZONE</td><td> NA  </td></tr>\n",
       "\t<tr><td>5    </td><td>28   </td><td>OZONE</td><td> 23  </td></tr>\n",
       "\t<tr><td>5    </td><td>29   </td><td>OZONE</td><td> 45  </td></tr>\n",
       "\t<tr><td>5    </td><td>30   </td><td>OZONE</td><td>115  </td></tr>\n",
       "\t<tr><td>...</td><td>...</td><td>...</td><td>...</td></tr>\n",
       "\t<tr><td>9   </td><td> 1  </td><td>TEMP</td><td>91  </td></tr>\n",
       "\t<tr><td>9   </td><td> 2  </td><td>TEMP</td><td>92  </td></tr>\n",
       "\t<tr><td>9   </td><td> 3  </td><td>TEMP</td><td>93  </td></tr>\n",
       "\t<tr><td>9   </td><td> 4  </td><td>TEMP</td><td>93  </td></tr>\n",
       "\t<tr><td>9   </td><td> 5  </td><td>TEMP</td><td>87  </td></tr>\n",
       "\t<tr><td>9   </td><td> 6  </td><td>TEMP</td><td>84  </td></tr>\n",
       "\t<tr><td>9   </td><td> 7  </td><td>TEMP</td><td>80  </td></tr>\n",
       "\t<tr><td>9   </td><td> 8  </td><td>TEMP</td><td>78  </td></tr>\n",
       "\t<tr><td>9   </td><td> 9  </td><td>TEMP</td><td>75  </td></tr>\n",
       "\t<tr><td>9   </td><td>10  </td><td>TEMP</td><td>73  </td></tr>\n",
       "\t<tr><td>9   </td><td>11  </td><td>TEMP</td><td>81  </td></tr>\n",
       "\t<tr><td>9   </td><td>12  </td><td>TEMP</td><td>76  </td></tr>\n",
       "\t<tr><td>9   </td><td>13  </td><td>TEMP</td><td>77  </td></tr>\n",
       "\t<tr><td>9   </td><td>14  </td><td>TEMP</td><td>71  </td></tr>\n",
       "\t<tr><td>9   </td><td>15  </td><td>TEMP</td><td>71  </td></tr>\n",
       "\t<tr><td>9   </td><td>16  </td><td>TEMP</td><td>78  </td></tr>\n",
       "\t<tr><td>9   </td><td>17  </td><td>TEMP</td><td>67  </td></tr>\n",
       "\t<tr><td>9   </td><td>18  </td><td>TEMP</td><td>76  </td></tr>\n",
       "\t<tr><td>9   </td><td>19  </td><td>TEMP</td><td>68  </td></tr>\n",
       "\t<tr><td>9   </td><td>20  </td><td>TEMP</td><td>82  </td></tr>\n",
       "\t<tr><td>9   </td><td>21  </td><td>TEMP</td><td>64  </td></tr>\n",
       "\t<tr><td>9   </td><td>22  </td><td>TEMP</td><td>71  </td></tr>\n",
       "\t<tr><td>9   </td><td>23  </td><td>TEMP</td><td>81  </td></tr>\n",
       "\t<tr><td>9   </td><td>24  </td><td>TEMP</td><td>69  </td></tr>\n",
       "\t<tr><td>9   </td><td>25  </td><td>TEMP</td><td>63  </td></tr>\n",
       "\t<tr><td>9   </td><td>26  </td><td>TEMP</td><td>70  </td></tr>\n",
       "\t<tr><td>9   </td><td>27  </td><td>TEMP</td><td>77  </td></tr>\n",
       "\t<tr><td>9   </td><td>28  </td><td>TEMP</td><td>75  </td></tr>\n",
       "\t<tr><td>9   </td><td>29  </td><td>TEMP</td><td>76  </td></tr>\n",
       "\t<tr><td>9   </td><td>30  </td><td>TEMP</td><td>68  </td></tr>\n",
       "</tbody>\n",
       "</table>\n"
      ],
      "text/latex": [
       "\\begin{tabular}{r|llll}\n",
       " MONTH & DAY & climate\\_variable & climate\\_value\\\\\n",
       "\\hline\n",
       "\t 5     &  1    & OZONE &  41  \\\\\n",
       "\t 5     &  2    & OZONE &  36  \\\\\n",
       "\t 5     &  3    & OZONE &  12  \\\\\n",
       "\t 5     &  4    & OZONE &  18  \\\\\n",
       "\t 5     &  5    & OZONE &  NA  \\\\\n",
       "\t 5     &  6    & OZONE &  28  \\\\\n",
       "\t 5     &  7    & OZONE &  23  \\\\\n",
       "\t 5     &  8    & OZONE &  19  \\\\\n",
       "\t 5     &  9    & OZONE &   8  \\\\\n",
       "\t 5     & 10    & OZONE &  NA  \\\\\n",
       "\t 5     & 11    & OZONE &   7  \\\\\n",
       "\t 5     & 12    & OZONE &  16  \\\\\n",
       "\t 5     & 13    & OZONE &  11  \\\\\n",
       "\t 5     & 14    & OZONE &  14  \\\\\n",
       "\t 5     & 15    & OZONE &  18  \\\\\n",
       "\t 5     & 16    & OZONE &  14  \\\\\n",
       "\t 5     & 17    & OZONE &  34  \\\\\n",
       "\t 5     & 18    & OZONE &   6  \\\\\n",
       "\t 5     & 19    & OZONE &  30  \\\\\n",
       "\t 5     & 20    & OZONE &  11  \\\\\n",
       "\t 5     & 21    & OZONE &   1  \\\\\n",
       "\t 5     & 22    & OZONE &  11  \\\\\n",
       "\t 5     & 23    & OZONE &   4  \\\\\n",
       "\t 5     & 24    & OZONE &  32  \\\\\n",
       "\t 5     & 25    & OZONE &  NA  \\\\\n",
       "\t 5     & 26    & OZONE &  NA  \\\\\n",
       "\t 5     & 27    & OZONE &  NA  \\\\\n",
       "\t 5     & 28    & OZONE &  23  \\\\\n",
       "\t 5     & 29    & OZONE &  45  \\\\\n",
       "\t 5     & 30    & OZONE & 115  \\\\\n",
       "\t ... & ... & ... & ...\\\\\n",
       "\t 9    &  1   & TEMP & 91  \\\\\n",
       "\t 9    &  2   & TEMP & 92  \\\\\n",
       "\t 9    &  3   & TEMP & 93  \\\\\n",
       "\t 9    &  4   & TEMP & 93  \\\\\n",
       "\t 9    &  5   & TEMP & 87  \\\\\n",
       "\t 9    &  6   & TEMP & 84  \\\\\n",
       "\t 9    &  7   & TEMP & 80  \\\\\n",
       "\t 9    &  8   & TEMP & 78  \\\\\n",
       "\t 9    &  9   & TEMP & 75  \\\\\n",
       "\t 9    & 10   & TEMP & 73  \\\\\n",
       "\t 9    & 11   & TEMP & 81  \\\\\n",
       "\t 9    & 12   & TEMP & 76  \\\\\n",
       "\t 9    & 13   & TEMP & 77  \\\\\n",
       "\t 9    & 14   & TEMP & 71  \\\\\n",
       "\t 9    & 15   & TEMP & 71  \\\\\n",
       "\t 9    & 16   & TEMP & 78  \\\\\n",
       "\t 9    & 17   & TEMP & 67  \\\\\n",
       "\t 9    & 18   & TEMP & 76  \\\\\n",
       "\t 9    & 19   & TEMP & 68  \\\\\n",
       "\t 9    & 20   & TEMP & 82  \\\\\n",
       "\t 9    & 21   & TEMP & 64  \\\\\n",
       "\t 9    & 22   & TEMP & 71  \\\\\n",
       "\t 9    & 23   & TEMP & 81  \\\\\n",
       "\t 9    & 24   & TEMP & 69  \\\\\n",
       "\t 9    & 25   & TEMP & 63  \\\\\n",
       "\t 9    & 26   & TEMP & 70  \\\\\n",
       "\t 9    & 27   & TEMP & 77  \\\\\n",
       "\t 9    & 28   & TEMP & 75  \\\\\n",
       "\t 9    & 29   & TEMP & 76  \\\\\n",
       "\t 9    & 30   & TEMP & 68  \\\\\n",
       "\\end{tabular}\n"
      ],
      "text/markdown": [
       "\n",
       "MONTH | DAY | climate_variable | climate_value | \n",
       "|---|---|---|---|---|---|---|---|---|---|---|---|---|---|---|---|---|---|---|---|---|---|---|---|---|---|---|---|---|---|---|---|---|---|---|---|---|---|---|---|---|---|---|---|---|---|---|---|---|---|---|---|---|---|---|---|---|---|---|---|---|\n",
       "| 5     |  1    | OZONE |  41   | \n",
       "| 5     |  2    | OZONE |  36   | \n",
       "| 5     |  3    | OZONE |  12   | \n",
       "| 5     |  4    | OZONE |  18   | \n",
       "| 5     |  5    | OZONE |  NA   | \n",
       "| 5     |  6    | OZONE |  28   | \n",
       "| 5     |  7    | OZONE |  23   | \n",
       "| 5     |  8    | OZONE |  19   | \n",
       "| 5     |  9    | OZONE |   8   | \n",
       "| 5     | 10    | OZONE |  NA   | \n",
       "| 5     | 11    | OZONE |   7   | \n",
       "| 5     | 12    | OZONE |  16   | \n",
       "| 5     | 13    | OZONE |  11   | \n",
       "| 5     | 14    | OZONE |  14   | \n",
       "| 5     | 15    | OZONE |  18   | \n",
       "| 5     | 16    | OZONE |  14   | \n",
       "| 5     | 17    | OZONE |  34   | \n",
       "| 5     | 18    | OZONE |   6   | \n",
       "| 5     | 19    | OZONE |  30   | \n",
       "| 5     | 20    | OZONE |  11   | \n",
       "| 5     | 21    | OZONE |   1   | \n",
       "| 5     | 22    | OZONE |  11   | \n",
       "| 5     | 23    | OZONE |   4   | \n",
       "| 5     | 24    | OZONE |  32   | \n",
       "| 5     | 25    | OZONE |  NA   | \n",
       "| 5     | 26    | OZONE |  NA   | \n",
       "| 5     | 27    | OZONE |  NA   | \n",
       "| 5     | 28    | OZONE |  23   | \n",
       "| 5     | 29    | OZONE |  45   | \n",
       "| 5     | 30    | OZONE | 115   | \n",
       "| ... | ... | ... | ... | \n",
       "| 9    |  1   | TEMP | 91   | \n",
       "| 9    |  2   | TEMP | 92   | \n",
       "| 9    |  3   | TEMP | 93   | \n",
       "| 9    |  4   | TEMP | 93   | \n",
       "| 9    |  5   | TEMP | 87   | \n",
       "| 9    |  6   | TEMP | 84   | \n",
       "| 9    |  7   | TEMP | 80   | \n",
       "| 9    |  8   | TEMP | 78   | \n",
       "| 9    |  9   | TEMP | 75   | \n",
       "| 9    | 10   | TEMP | 73   | \n",
       "| 9    | 11   | TEMP | 81   | \n",
       "| 9    | 12   | TEMP | 76   | \n",
       "| 9    | 13   | TEMP | 77   | \n",
       "| 9    | 14   | TEMP | 71   | \n",
       "| 9    | 15   | TEMP | 71   | \n",
       "| 9    | 16   | TEMP | 78   | \n",
       "| 9    | 17   | TEMP | 67   | \n",
       "| 9    | 18   | TEMP | 76   | \n",
       "| 9    | 19   | TEMP | 68   | \n",
       "| 9    | 20   | TEMP | 82   | \n",
       "| 9    | 21   | TEMP | 64   | \n",
       "| 9    | 22   | TEMP | 71   | \n",
       "| 9    | 23   | TEMP | 81   | \n",
       "| 9    | 24   | TEMP | 69   | \n",
       "| 9    | 25   | TEMP | 63   | \n",
       "| 9    | 26   | TEMP | 70   | \n",
       "| 9    | 27   | TEMP | 77   | \n",
       "| 9    | 28   | TEMP | 75   | \n",
       "| 9    | 29   | TEMP | 76   | \n",
       "| 9    | 30   | TEMP | 68   | \n",
       "\n",
       "\n"
      ],
      "text/plain": [
       "    MONTH DAY climate_variable climate_value\n",
       "1   5      1  OZONE             41          \n",
       "2   5      2  OZONE             36          \n",
       "3   5      3  OZONE             12          \n",
       "4   5      4  OZONE             18          \n",
       "5   5      5  OZONE             NA          \n",
       "6   5      6  OZONE             28          \n",
       "7   5      7  OZONE             23          \n",
       "8   5      8  OZONE             19          \n",
       "9   5      9  OZONE              8          \n",
       "10  5     10  OZONE             NA          \n",
       "11  5     11  OZONE              7          \n",
       "12  5     12  OZONE             16          \n",
       "13  5     13  OZONE             11          \n",
       "14  5     14  OZONE             14          \n",
       "15  5     15  OZONE             18          \n",
       "16  5     16  OZONE             14          \n",
       "17  5     17  OZONE             34          \n",
       "18  5     18  OZONE              6          \n",
       "19  5     19  OZONE             30          \n",
       "20  5     20  OZONE             11          \n",
       "21  5     21  OZONE              1          \n",
       "22  5     22  OZONE             11          \n",
       "23  5     23  OZONE              4          \n",
       "24  5     24  OZONE             32          \n",
       "25  5     25  OZONE             NA          \n",
       "26  5     26  OZONE             NA          \n",
       "27  5     27  OZONE             NA          \n",
       "28  5     28  OZONE             23          \n",
       "29  5     29  OZONE             45          \n",
       "30  5     30  OZONE            115          \n",
       "... ...   ... ...              ...          \n",
       "583 9      1  TEMP             91           \n",
       "584 9      2  TEMP             92           \n",
       "585 9      3  TEMP             93           \n",
       "586 9      4  TEMP             93           \n",
       "587 9      5  TEMP             87           \n",
       "588 9      6  TEMP             84           \n",
       "589 9      7  TEMP             80           \n",
       "590 9      8  TEMP             78           \n",
       "591 9      9  TEMP             75           \n",
       "592 9     10  TEMP             73           \n",
       "593 9     11  TEMP             81           \n",
       "594 9     12  TEMP             76           \n",
       "595 9     13  TEMP             77           \n",
       "596 9     14  TEMP             71           \n",
       "597 9     15  TEMP             71           \n",
       "598 9     16  TEMP             78           \n",
       "599 9     17  TEMP             67           \n",
       "600 9     18  TEMP             76           \n",
       "601 9     19  TEMP             68           \n",
       "602 9     20  TEMP             82           \n",
       "603 9     21  TEMP             64           \n",
       "604 9     22  TEMP             71           \n",
       "605 9     23  TEMP             81           \n",
       "606 9     24  TEMP             69           \n",
       "607 9     25  TEMP             63           \n",
       "608 9     26  TEMP             70           \n",
       "609 9     27  TEMP             77           \n",
       "610 9     28  TEMP             75           \n",
       "611 9     29  TEMP             76           \n",
       "612 9     30  TEMP             68           "
      ]
     },
     "metadata": {},
     "output_type": "display_data"
    }
   ],
   "source": [
    "aql"
   ]
  },
  {
   "cell_type": "code",
   "execution_count": 76,
   "metadata": {
    "scrolled": false
   },
   "outputs": [
    {
     "data": {
      "text/html": [
       "<table>\n",
       "<thead><tr><th scope=col>MONTH</th><th scope=col>DAY</th><th scope=col>OZONE</th><th scope=col>SOLAR.R</th><th scope=col>WIND</th><th scope=col>TEMP</th></tr></thead>\n",
       "<tbody>\n",
       "\t<tr><td>5   </td><td>1   </td><td>41  </td><td>190 </td><td> 7.4</td><td>67  </td></tr>\n",
       "\t<tr><td>5   </td><td>2   </td><td>36  </td><td>118 </td><td> 8.0</td><td>72  </td></tr>\n",
       "\t<tr><td>5   </td><td>3   </td><td>12  </td><td>149 </td><td>12.6</td><td>74  </td></tr>\n",
       "\t<tr><td>5   </td><td>4   </td><td>18  </td><td>313 </td><td>11.5</td><td>62  </td></tr>\n",
       "\t<tr><td>5   </td><td>5   </td><td>NA  </td><td> NA </td><td>14.3</td><td>56  </td></tr>\n",
       "\t<tr><td>5   </td><td>6   </td><td>28  </td><td> NA </td><td>14.9</td><td>66  </td></tr>\n",
       "</tbody>\n",
       "</table>\n"
      ],
      "text/latex": [
       "\\begin{tabular}{r|llllll}\n",
       " MONTH & DAY & OZONE & SOLAR.R & WIND & TEMP\\\\\n",
       "\\hline\n",
       "\t 5    & 1    & 41   & 190  &  7.4 & 67  \\\\\n",
       "\t 5    & 2    & 36   & 118  &  8.0 & 72  \\\\\n",
       "\t 5    & 3    & 12   & 149  & 12.6 & 74  \\\\\n",
       "\t 5    & 4    & 18   & 313  & 11.5 & 62  \\\\\n",
       "\t 5    & 5    & NA   &  NA  & 14.3 & 56  \\\\\n",
       "\t 5    & 6    & 28   &  NA  & 14.9 & 66  \\\\\n",
       "\\end{tabular}\n"
      ],
      "text/markdown": [
       "\n",
       "MONTH | DAY | OZONE | SOLAR.R | WIND | TEMP | \n",
       "|---|---|---|---|---|---|\n",
       "| 5    | 1    | 41   | 190  |  7.4 | 67   | \n",
       "| 5    | 2    | 36   | 118  |  8.0 | 72   | \n",
       "| 5    | 3    | 12   | 149  | 12.6 | 74   | \n",
       "| 5    | 4    | 18   | 313  | 11.5 | 62   | \n",
       "| 5    | 5    | NA   |  NA  | 14.3 | 56   | \n",
       "| 5    | 6    | 28   |  NA  | 14.9 | 66   | \n",
       "\n",
       "\n"
      ],
      "text/plain": [
       "  MONTH DAY OZONE SOLAR.R WIND TEMP\n",
       "1 5     1   41    190      7.4 67  \n",
       "2 5     2   36    118      8.0 72  \n",
       "3 5     3   12    149     12.6 74  \n",
       "4 5     4   18    313     11.5 62  \n",
       "5 5     5   NA     NA     14.3 56  \n",
       "6 5     6   28     NA     14.9 66  "
      ]
     },
     "metadata": {},
     "output_type": "display_data"
    },
    {
     "data": {
      "text/html": [
       "<table>\n",
       "<thead><tr><th scope=col>MONTH</th><th scope=col>DAY</th><th scope=col>OZONE</th><th scope=col>SOLAR.R</th><th scope=col>WIND</th><th scope=col>TEMP</th></tr></thead>\n",
       "<tbody>\n",
       "\t<tr><td>5  </td><td>1  </td><td>41 </td><td>190</td><td>7.4</td><td>67 </td></tr>\n",
       "</tbody>\n",
       "</table>\n"
      ],
      "text/latex": [
       "\\begin{tabular}{r|llllll}\n",
       " MONTH & DAY & OZONE & SOLAR.R & WIND & TEMP\\\\\n",
       "\\hline\n",
       "\t 5   & 1   & 41  & 190 & 7.4 & 67 \\\\\n",
       "\\end{tabular}\n"
      ],
      "text/markdown": [
       "\n",
       "MONTH | DAY | OZONE | SOLAR.R | WIND | TEMP | \n",
       "|---|\n",
       "| 5   | 1   | 41  | 190 | 7.4 | 67  | \n",
       "\n",
       "\n"
      ],
      "text/plain": [
       "  MONTH DAY OZONE SOLAR.R WIND TEMP\n",
       "1 5     1   41    190     7.4  67  "
      ]
     },
     "metadata": {},
     "output_type": "display_data"
    }
   ],
   "source": [
    "aqw <- dcast(aql, MONTH + DAY ~ climate_variable, value.var=\"climate_value\");head(aqw)\n",
    "subset(aqw, MONTH==5 & DAY==1)"
   ]
  },
  {
   "cell_type": "code",
   "execution_count": 77,
   "metadata": {
    "scrolled": false
   },
   "outputs": [
    {
     "data": {
      "text/html": [
       "<table>\n",
       "<thead><tr><th scope=col>MONTH</th><th scope=col>DAY</th><th scope=col>climate_variable</th><th scope=col>climate_value</th></tr></thead>\n",
       "<tbody>\n",
       "\t<tr><td>5    </td><td>1    </td><td>OZONE</td><td>41   </td></tr>\n",
       "\t<tr><td>5    </td><td>2    </td><td>OZONE</td><td>36   </td></tr>\n",
       "\t<tr><td>5    </td><td>3    </td><td>OZONE</td><td>12   </td></tr>\n",
       "\t<tr><td>5    </td><td>4    </td><td>OZONE</td><td>18   </td></tr>\n",
       "\t<tr><td>5    </td><td>5    </td><td>OZONE</td><td>NA   </td></tr>\n",
       "\t<tr><td>5    </td><td>6    </td><td>OZONE</td><td>28   </td></tr>\n",
       "</tbody>\n",
       "</table>\n"
      ],
      "text/latex": [
       "\\begin{tabular}{r|llll}\n",
       " MONTH & DAY & climate\\_variable & climate\\_value\\\\\n",
       "\\hline\n",
       "\t 5     & 1     & OZONE & 41   \\\\\n",
       "\t 5     & 2     & OZONE & 36   \\\\\n",
       "\t 5     & 3     & OZONE & 12   \\\\\n",
       "\t 5     & 4     & OZONE & 18   \\\\\n",
       "\t 5     & 5     & OZONE & NA   \\\\\n",
       "\t 5     & 6     & OZONE & 28   \\\\\n",
       "\\end{tabular}\n"
      ],
      "text/markdown": [
       "\n",
       "MONTH | DAY | climate_variable | climate_value | \n",
       "|---|---|---|---|---|---|\n",
       "| 5     | 1     | OZONE | 41    | \n",
       "| 5     | 2     | OZONE | 36    | \n",
       "| 5     | 3     | OZONE | 12    | \n",
       "| 5     | 4     | OZONE | 18    | \n",
       "| 5     | 5     | OZONE | NA    | \n",
       "| 5     | 6     | OZONE | 28    | \n",
       "\n",
       "\n"
      ],
      "text/plain": [
       "  MONTH DAY climate_variable climate_value\n",
       "1 5     1   OZONE            41           \n",
       "2 5     2   OZONE            36           \n",
       "3 5     3   OZONE            12           \n",
       "4 5     4   OZONE            18           \n",
       "5 5     5   OZONE            NA           \n",
       "6 5     6   OZONE            28           "
      ]
     },
     "metadata": {},
     "output_type": "display_data"
    },
    {
     "name": "stderr",
     "output_type": "stream",
     "text": [
      "Using climate_value as value column: use value.var to override.\n",
      "Aggregation function missing: defaulting to length\n"
     ]
    },
    {
     "data": {
      "text/html": [
       "<table>\n",
       "<thead><tr><th scope=col>MONTH</th><th scope=col>OZONE</th><th scope=col>SOLAR.R</th><th scope=col>WIND</th><th scope=col>TEMP</th></tr></thead>\n",
       "<tbody>\n",
       "\t<tr><td>5 </td><td>31</td><td>31</td><td>31</td><td>31</td></tr>\n",
       "\t<tr><td>6 </td><td>30</td><td>30</td><td>30</td><td>30</td></tr>\n",
       "\t<tr><td>7 </td><td>31</td><td>31</td><td>31</td><td>31</td></tr>\n",
       "\t<tr><td>8 </td><td>31</td><td>31</td><td>31</td><td>31</td></tr>\n",
       "\t<tr><td>9 </td><td>30</td><td>30</td><td>30</td><td>30</td></tr>\n",
       "</tbody>\n",
       "</table>\n"
      ],
      "text/latex": [
       "\\begin{tabular}{r|lllll}\n",
       " MONTH & OZONE & SOLAR.R & WIND & TEMP\\\\\n",
       "\\hline\n",
       "\t 5  & 31 & 31 & 31 & 31\\\\\n",
       "\t 6  & 30 & 30 & 30 & 30\\\\\n",
       "\t 7  & 31 & 31 & 31 & 31\\\\\n",
       "\t 8  & 31 & 31 & 31 & 31\\\\\n",
       "\t 9  & 30 & 30 & 30 & 30\\\\\n",
       "\\end{tabular}\n"
      ],
      "text/markdown": [
       "\n",
       "MONTH | OZONE | SOLAR.R | WIND | TEMP | \n",
       "|---|---|---|---|---|\n",
       "| 5  | 31 | 31 | 31 | 31 | \n",
       "| 6  | 30 | 30 | 30 | 30 | \n",
       "| 7  | 31 | 31 | 31 | 31 | \n",
       "| 8  | 31 | 31 | 31 | 31 | \n",
       "| 9  | 30 | 30 | 30 | 30 | \n",
       "\n",
       "\n"
      ],
      "text/plain": [
       "  MONTH OZONE SOLAR.R WIND TEMP\n",
       "1 5     31    31      31   31  \n",
       "2 6     30    30      30   30  \n",
       "3 7     31    31      31   31  \n",
       "4 8     31    31      31   31  \n",
       "5 9     30    30      30   30  "
      ]
     },
     "metadata": {},
     "output_type": "display_data"
    }
   ],
   "source": [
    "head(aql)\n",
    "dcast(aql, MONTH ~ climate_variable)"
   ]
  },
  {
   "cell_type": "code",
   "execution_count": 78,
   "metadata": {
    "scrolled": true
   },
   "outputs": [
    {
     "data": {
      "text/html": [
       "<table>\n",
       "<thead><tr><th scope=col>MONTH</th><th scope=col>DAY</th><th scope=col>OZONE</th><th scope=col>variable</th><th scope=col>value</th></tr></thead>\n",
       "<tbody>\n",
       "\t<tr><td>5      </td><td>1      </td><td>41     </td><td>SOLAR.R</td><td>190    </td></tr>\n",
       "\t<tr><td>5      </td><td>2      </td><td>36     </td><td>SOLAR.R</td><td>118    </td></tr>\n",
       "\t<tr><td>5      </td><td>3      </td><td>12     </td><td>SOLAR.R</td><td>149    </td></tr>\n",
       "\t<tr><td>5      </td><td>4      </td><td>18     </td><td>SOLAR.R</td><td>313    </td></tr>\n",
       "\t<tr><td>5      </td><td>5      </td><td>NA     </td><td>SOLAR.R</td><td> NA    </td></tr>\n",
       "\t<tr><td>5      </td><td>6      </td><td>28     </td><td>SOLAR.R</td><td> NA    </td></tr>\n",
       "</tbody>\n",
       "</table>\n"
      ],
      "text/latex": [
       "\\begin{tabular}{r|lllll}\n",
       " MONTH & DAY & OZONE & variable & value\\\\\n",
       "\\hline\n",
       "\t 5       & 1       & 41      & SOLAR.R & 190    \\\\\n",
       "\t 5       & 2       & 36      & SOLAR.R & 118    \\\\\n",
       "\t 5       & 3       & 12      & SOLAR.R & 149    \\\\\n",
       "\t 5       & 4       & 18      & SOLAR.R & 313    \\\\\n",
       "\t 5       & 5       & NA      & SOLAR.R &  NA    \\\\\n",
       "\t 5       & 6       & 28      & SOLAR.R &  NA    \\\\\n",
       "\\end{tabular}\n"
      ],
      "text/markdown": [
       "\n",
       "MONTH | DAY | OZONE | variable | value | \n",
       "|---|---|---|---|---|---|\n",
       "| 5       | 1       | 41      | SOLAR.R | 190     | \n",
       "| 5       | 2       | 36      | SOLAR.R | 118     | \n",
       "| 5       | 3       | 12      | SOLAR.R | 149     | \n",
       "| 5       | 4       | 18      | SOLAR.R | 313     | \n",
       "| 5       | 5       | NA      | SOLAR.R |  NA     | \n",
       "| 5       | 6       | 28      | SOLAR.R |  NA     | \n",
       "\n",
       "\n"
      ],
      "text/plain": [
       "  MONTH DAY OZONE variable value\n",
       "1 5     1   41    SOLAR.R  190  \n",
       "2 5     2   36    SOLAR.R  118  \n",
       "3 5     3   12    SOLAR.R  149  \n",
       "4 5     4   18    SOLAR.R  313  \n",
       "5 5     5   NA    SOLAR.R   NA  \n",
       "6 5     6   28    SOLAR.R   NA  "
      ]
     },
     "metadata": {},
     "output_type": "display_data"
    }
   ],
   "source": [
    "aql2=melt(airquality, id.vars=c(\"MONTH\", \"DAY\", \"OZONE\"))\n",
    "head(aql2)"
   ]
  },
  {
   "cell_type": "code",
   "execution_count": 79,
   "metadata": {
    "scrolled": true
   },
   "outputs": [
    {
     "name": "stderr",
     "output_type": "stream",
     "text": [
      "Using climate_value as value column: use value.var to override.\n"
     ]
    },
    {
     "data": {
      "text/html": [
       "<table>\n",
       "<thead><tr><th scope=col>MONTH</th><th scope=col>OZONE</th><th scope=col>SOLAR.R</th><th scope=col>WIND</th><th scope=col>TEMP</th></tr></thead>\n",
       "<tbody>\n",
       "\t<tr><td>5        </td><td>23.61538 </td><td>181.2963 </td><td>11.622581</td><td>65.54839 </td></tr>\n",
       "\t<tr><td>6        </td><td>29.44444 </td><td>190.1667 </td><td>10.266667</td><td>79.10000 </td></tr>\n",
       "\t<tr><td>7        </td><td>59.11538 </td><td>216.4839 </td><td> 8.941935</td><td>83.90323 </td></tr>\n",
       "\t<tr><td>8        </td><td>59.96154 </td><td>171.8571 </td><td> 8.793548</td><td>83.96774 </td></tr>\n",
       "\t<tr><td>9        </td><td>31.44828 </td><td>167.4333 </td><td>10.180000</td><td>76.90000 </td></tr>\n",
       "</tbody>\n",
       "</table>\n"
      ],
      "text/latex": [
       "\\begin{tabular}{r|lllll}\n",
       " MONTH & OZONE & SOLAR.R & WIND & TEMP\\\\\n",
       "\\hline\n",
       "\t 5         & 23.61538  & 181.2963  & 11.622581 & 65.54839 \\\\\n",
       "\t 6         & 29.44444  & 190.1667  & 10.266667 & 79.10000 \\\\\n",
       "\t 7         & 59.11538  & 216.4839  &  8.941935 & 83.90323 \\\\\n",
       "\t 8         & 59.96154  & 171.8571  &  8.793548 & 83.96774 \\\\\n",
       "\t 9         & 31.44828  & 167.4333  & 10.180000 & 76.90000 \\\\\n",
       "\\end{tabular}\n"
      ],
      "text/markdown": [
       "\n",
       "MONTH | OZONE | SOLAR.R | WIND | TEMP | \n",
       "|---|---|---|---|---|\n",
       "| 5         | 23.61538  | 181.2963  | 11.622581 | 65.54839  | \n",
       "| 6         | 29.44444  | 190.1667  | 10.266667 | 79.10000  | \n",
       "| 7         | 59.11538  | 216.4839  |  8.941935 | 83.90323  | \n",
       "| 8         | 59.96154  | 171.8571  |  8.793548 | 83.96774  | \n",
       "| 9         | 31.44828  | 167.4333  | 10.180000 | 76.90000  | \n",
       "\n",
       "\n"
      ],
      "text/plain": [
       "  MONTH OZONE    SOLAR.R  WIND      TEMP    \n",
       "1 5     23.61538 181.2963 11.622581 65.54839\n",
       "2 6     29.44444 190.1667 10.266667 79.10000\n",
       "3 7     59.11538 216.4839  8.941935 83.90323\n",
       "4 8     59.96154 171.8571  8.793548 83.96774\n",
       "5 9     31.44828 167.4333 10.180000 76.90000"
      ]
     },
     "metadata": {},
     "output_type": "display_data"
    }
   ],
   "source": [
    "dcast(aql, MONTH ~ climate_variable, fun.aggregate=mean, na.rm=T)"
   ]
  },
  {
   "cell_type": "code",
   "execution_count": 80,
   "metadata": {
    "scrolled": false
   },
   "outputs": [
    {
     "data": {
      "text/html": [
       "<table>\n",
       "<thead><tr><th scope=col>Sepal.Length</th><th scope=col>Sepal.Width</th><th scope=col>Petal.Length</th><th scope=col>Petal.Width</th><th scope=col>Species</th></tr></thead>\n",
       "<tbody>\n",
       "\t<tr><td>5.1   </td><td>3.5   </td><td>1.4   </td><td>0.2   </td><td>setosa</td></tr>\n",
       "\t<tr><td>4.9   </td><td>3.0   </td><td>1.4   </td><td>0.2   </td><td>setosa</td></tr>\n",
       "\t<tr><td>4.7   </td><td>3.2   </td><td>1.3   </td><td>0.2   </td><td>setosa</td></tr>\n",
       "\t<tr><td>4.6   </td><td>3.1   </td><td>1.5   </td><td>0.2   </td><td>setosa</td></tr>\n",
       "\t<tr><td>5.0   </td><td>3.6   </td><td>1.4   </td><td>0.2   </td><td>setosa</td></tr>\n",
       "\t<tr><td>5.4   </td><td>3.9   </td><td>1.7   </td><td>0.4   </td><td>setosa</td></tr>\n",
       "</tbody>\n",
       "</table>\n"
      ],
      "text/latex": [
       "\\begin{tabular}{r|lllll}\n",
       " Sepal.Length & Sepal.Width & Petal.Length & Petal.Width & Species\\\\\n",
       "\\hline\n",
       "\t 5.1    & 3.5    & 1.4    & 0.2    & setosa\\\\\n",
       "\t 4.9    & 3.0    & 1.4    & 0.2    & setosa\\\\\n",
       "\t 4.7    & 3.2    & 1.3    & 0.2    & setosa\\\\\n",
       "\t 4.6    & 3.1    & 1.5    & 0.2    & setosa\\\\\n",
       "\t 5.0    & 3.6    & 1.4    & 0.2    & setosa\\\\\n",
       "\t 5.4    & 3.9    & 1.7    & 0.4    & setosa\\\\\n",
       "\\end{tabular}\n"
      ],
      "text/markdown": [
       "\n",
       "Sepal.Length | Sepal.Width | Petal.Length | Petal.Width | Species | \n",
       "|---|---|---|---|---|---|\n",
       "| 5.1    | 3.5    | 1.4    | 0.2    | setosa | \n",
       "| 4.9    | 3.0    | 1.4    | 0.2    | setosa | \n",
       "| 4.7    | 3.2    | 1.3    | 0.2    | setosa | \n",
       "| 4.6    | 3.1    | 1.5    | 0.2    | setosa | \n",
       "| 5.0    | 3.6    | 1.4    | 0.2    | setosa | \n",
       "| 5.4    | 3.9    | 1.7    | 0.4    | setosa | \n",
       "\n",
       "\n"
      ],
      "text/plain": [
       "  Sepal.Length Sepal.Width Petal.Length Petal.Width Species\n",
       "1 5.1          3.5         1.4          0.2         setosa \n",
       "2 4.9          3.0         1.4          0.2         setosa \n",
       "3 4.7          3.2         1.3          0.2         setosa \n",
       "4 4.6          3.1         1.5          0.2         setosa \n",
       "5 5.0          3.6         1.4          0.2         setosa \n",
       "6 5.4          3.9         1.7          0.4         setosa "
      ]
     },
     "metadata": {},
     "output_type": "display_data"
    },
    {
     "data": {
      "text/html": [
       "'==========data6'"
      ],
      "text/latex": [
       "'==========data6'"
      ],
      "text/markdown": [
       "'==========data6'"
      ],
      "text/plain": [
       "[1] \"==========data6\""
      ]
     },
     "metadata": {},
     "output_type": "display_data"
    },
    {
     "data": {
      "text/html": [
       "<table>\n",
       "<thead><tr><th scope=col>Sepal.Length</th><th scope=col>Sepal.Width</th><th scope=col>Petal.Length</th><th scope=col>Species</th><th scope=col>variable</th><th scope=col>value</th></tr></thead>\n",
       "<tbody>\n",
       "\t<tr><td>5.1        </td><td>3.5        </td><td>1.4        </td><td>setosa     </td><td>Petal.Width</td><td>0.2        </td></tr>\n",
       "\t<tr><td>4.9        </td><td>3.0        </td><td>1.4        </td><td>setosa     </td><td>Petal.Width</td><td>0.2        </td></tr>\n",
       "\t<tr><td>4.7        </td><td>3.2        </td><td>1.3        </td><td>setosa     </td><td>Petal.Width</td><td>0.2        </td></tr>\n",
       "\t<tr><td>4.6        </td><td>3.1        </td><td>1.5        </td><td>setosa     </td><td>Petal.Width</td><td>0.2        </td></tr>\n",
       "\t<tr><td>5.0        </td><td>3.6        </td><td>1.4        </td><td>setosa     </td><td>Petal.Width</td><td>0.2        </td></tr>\n",
       "\t<tr><td>5.4        </td><td>3.9        </td><td>1.7        </td><td>setosa     </td><td>Petal.Width</td><td>0.4        </td></tr>\n",
       "\t<tr><td>4.6        </td><td>3.4        </td><td>1.4        </td><td>setosa     </td><td>Petal.Width</td><td>0.3        </td></tr>\n",
       "\t<tr><td>5.0        </td><td>3.4        </td><td>1.5        </td><td>setosa     </td><td>Petal.Width</td><td>0.2        </td></tr>\n",
       "\t<tr><td>4.4        </td><td>2.9        </td><td>1.4        </td><td>setosa     </td><td>Petal.Width</td><td>0.2        </td></tr>\n",
       "\t<tr><td>4.9        </td><td>3.1        </td><td>1.5        </td><td>setosa     </td><td>Petal.Width</td><td>0.1        </td></tr>\n",
       "\t<tr><td>5.4        </td><td>3.7        </td><td>1.5        </td><td>setosa     </td><td>Petal.Width</td><td>0.2        </td></tr>\n",
       "\t<tr><td>4.8        </td><td>3.4        </td><td>1.6        </td><td>setosa     </td><td>Petal.Width</td><td>0.2        </td></tr>\n",
       "\t<tr><td>4.8        </td><td>3.0        </td><td>1.4        </td><td>setosa     </td><td>Petal.Width</td><td>0.1        </td></tr>\n",
       "\t<tr><td>4.3        </td><td>3.0        </td><td>1.1        </td><td>setosa     </td><td>Petal.Width</td><td>0.1        </td></tr>\n",
       "\t<tr><td>5.8        </td><td>4.0        </td><td>1.2        </td><td>setosa     </td><td>Petal.Width</td><td>0.2        </td></tr>\n",
       "\t<tr><td>5.7        </td><td>4.4        </td><td>1.5        </td><td>setosa     </td><td>Petal.Width</td><td>0.4        </td></tr>\n",
       "\t<tr><td>5.4        </td><td>3.9        </td><td>1.3        </td><td>setosa     </td><td>Petal.Width</td><td>0.4        </td></tr>\n",
       "\t<tr><td>5.1        </td><td>3.5        </td><td>1.4        </td><td>setosa     </td><td>Petal.Width</td><td>0.3        </td></tr>\n",
       "\t<tr><td>5.7        </td><td>3.8        </td><td>1.7        </td><td>setosa     </td><td>Petal.Width</td><td>0.3        </td></tr>\n",
       "\t<tr><td>5.1        </td><td>3.8        </td><td>1.5        </td><td>setosa     </td><td>Petal.Width</td><td>0.3        </td></tr>\n",
       "\t<tr><td>5.4        </td><td>3.4        </td><td>1.7        </td><td>setosa     </td><td>Petal.Width</td><td>0.2        </td></tr>\n",
       "\t<tr><td>5.1        </td><td>3.7        </td><td>1.5        </td><td>setosa     </td><td>Petal.Width</td><td>0.4        </td></tr>\n",
       "\t<tr><td>4.6        </td><td>3.6        </td><td>1.0        </td><td>setosa     </td><td>Petal.Width</td><td>0.2        </td></tr>\n",
       "\t<tr><td>5.1        </td><td>3.3        </td><td>1.7        </td><td>setosa     </td><td>Petal.Width</td><td>0.5        </td></tr>\n",
       "\t<tr><td>4.8        </td><td>3.4        </td><td>1.9        </td><td>setosa     </td><td>Petal.Width</td><td>0.2        </td></tr>\n",
       "\t<tr><td>5.0        </td><td>3.0        </td><td>1.6        </td><td>setosa     </td><td>Petal.Width</td><td>0.2        </td></tr>\n",
       "\t<tr><td>5.0        </td><td>3.4        </td><td>1.6        </td><td>setosa     </td><td>Petal.Width</td><td>0.4        </td></tr>\n",
       "\t<tr><td>5.2        </td><td>3.5        </td><td>1.5        </td><td>setosa     </td><td>Petal.Width</td><td>0.2        </td></tr>\n",
       "\t<tr><td>5.2        </td><td>3.4        </td><td>1.4        </td><td>setosa     </td><td>Petal.Width</td><td>0.2        </td></tr>\n",
       "\t<tr><td>4.7        </td><td>3.2        </td><td>1.6        </td><td>setosa     </td><td>Petal.Width</td><td>0.2        </td></tr>\n",
       "\t<tr><td>...</td><td>...</td><td>...</td><td>...</td><td>...</td><td>...</td></tr>\n",
       "\t<tr><td>6.9        </td><td>3.2        </td><td>5.7        </td><td>virginica  </td><td>Petal.Width</td><td>2.3        </td></tr>\n",
       "\t<tr><td>5.6        </td><td>2.8        </td><td>4.9        </td><td>virginica  </td><td>Petal.Width</td><td>2.0        </td></tr>\n",
       "\t<tr><td>7.7        </td><td>2.8        </td><td>6.7        </td><td>virginica  </td><td>Petal.Width</td><td>2.0        </td></tr>\n",
       "\t<tr><td>6.3        </td><td>2.7        </td><td>4.9        </td><td>virginica  </td><td>Petal.Width</td><td>1.8        </td></tr>\n",
       "\t<tr><td>6.7        </td><td>3.3        </td><td>5.7        </td><td>virginica  </td><td>Petal.Width</td><td>2.1        </td></tr>\n",
       "\t<tr><td>7.2        </td><td>3.2        </td><td>6.0        </td><td>virginica  </td><td>Petal.Width</td><td>1.8        </td></tr>\n",
       "\t<tr><td>6.2        </td><td>2.8        </td><td>4.8        </td><td>virginica  </td><td>Petal.Width</td><td>1.8        </td></tr>\n",
       "\t<tr><td>6.1        </td><td>3.0        </td><td>4.9        </td><td>virginica  </td><td>Petal.Width</td><td>1.8        </td></tr>\n",
       "\t<tr><td>6.4        </td><td>2.8        </td><td>5.6        </td><td>virginica  </td><td>Petal.Width</td><td>2.1        </td></tr>\n",
       "\t<tr><td>7.2        </td><td>3.0        </td><td>5.8        </td><td>virginica  </td><td>Petal.Width</td><td>1.6        </td></tr>\n",
       "\t<tr><td>7.4        </td><td>2.8        </td><td>6.1        </td><td>virginica  </td><td>Petal.Width</td><td>1.9        </td></tr>\n",
       "\t<tr><td>7.9        </td><td>3.8        </td><td>6.4        </td><td>virginica  </td><td>Petal.Width</td><td>2.0        </td></tr>\n",
       "\t<tr><td>6.4        </td><td>2.8        </td><td>5.6        </td><td>virginica  </td><td>Petal.Width</td><td>2.2        </td></tr>\n",
       "\t<tr><td>6.3        </td><td>2.8        </td><td>5.1        </td><td>virginica  </td><td>Petal.Width</td><td>1.5        </td></tr>\n",
       "\t<tr><td>6.1        </td><td>2.6        </td><td>5.6        </td><td>virginica  </td><td>Petal.Width</td><td>1.4        </td></tr>\n",
       "\t<tr><td>7.7        </td><td>3.0        </td><td>6.1        </td><td>virginica  </td><td>Petal.Width</td><td>2.3        </td></tr>\n",
       "\t<tr><td>6.3        </td><td>3.4        </td><td>5.6        </td><td>virginica  </td><td>Petal.Width</td><td>2.4        </td></tr>\n",
       "\t<tr><td>6.4        </td><td>3.1        </td><td>5.5        </td><td>virginica  </td><td>Petal.Width</td><td>1.8        </td></tr>\n",
       "\t<tr><td>6.0        </td><td>3.0        </td><td>4.8        </td><td>virginica  </td><td>Petal.Width</td><td>1.8        </td></tr>\n",
       "\t<tr><td>6.9        </td><td>3.1        </td><td>5.4        </td><td>virginica  </td><td>Petal.Width</td><td>2.1        </td></tr>\n",
       "\t<tr><td>6.7        </td><td>3.1        </td><td>5.6        </td><td>virginica  </td><td>Petal.Width</td><td>2.4        </td></tr>\n",
       "\t<tr><td>6.9        </td><td>3.1        </td><td>5.1        </td><td>virginica  </td><td>Petal.Width</td><td>2.3        </td></tr>\n",
       "\t<tr><td>5.8        </td><td>2.7        </td><td>5.1        </td><td>virginica  </td><td>Petal.Width</td><td>1.9        </td></tr>\n",
       "\t<tr><td>6.8        </td><td>3.2        </td><td>5.9        </td><td>virginica  </td><td>Petal.Width</td><td>2.3        </td></tr>\n",
       "\t<tr><td>6.7        </td><td>3.3        </td><td>5.7        </td><td>virginica  </td><td>Petal.Width</td><td>2.5        </td></tr>\n",
       "\t<tr><td>6.7        </td><td>3.0        </td><td>5.2        </td><td>virginica  </td><td>Petal.Width</td><td>2.3        </td></tr>\n",
       "\t<tr><td>6.3        </td><td>2.5        </td><td>5.0        </td><td>virginica  </td><td>Petal.Width</td><td>1.9        </td></tr>\n",
       "\t<tr><td>6.5        </td><td>3.0        </td><td>5.2        </td><td>virginica  </td><td>Petal.Width</td><td>2.0        </td></tr>\n",
       "\t<tr><td>6.2        </td><td>3.4        </td><td>5.4        </td><td>virginica  </td><td>Petal.Width</td><td>2.3        </td></tr>\n",
       "\t<tr><td>5.9        </td><td>3.0        </td><td>5.1        </td><td>virginica  </td><td>Petal.Width</td><td>1.8        </td></tr>\n",
       "</tbody>\n",
       "</table>\n"
      ],
      "text/latex": [
       "\\begin{tabular}{r|llllll}\n",
       " Sepal.Length & Sepal.Width & Petal.Length & Species & variable & value\\\\\n",
       "\\hline\n",
       "\t 5.1         & 3.5         & 1.4         & setosa      & Petal.Width & 0.2        \\\\\n",
       "\t 4.9         & 3.0         & 1.4         & setosa      & Petal.Width & 0.2        \\\\\n",
       "\t 4.7         & 3.2         & 1.3         & setosa      & Petal.Width & 0.2        \\\\\n",
       "\t 4.6         & 3.1         & 1.5         & setosa      & Petal.Width & 0.2        \\\\\n",
       "\t 5.0         & 3.6         & 1.4         & setosa      & Petal.Width & 0.2        \\\\\n",
       "\t 5.4         & 3.9         & 1.7         & setosa      & Petal.Width & 0.4        \\\\\n",
       "\t 4.6         & 3.4         & 1.4         & setosa      & Petal.Width & 0.3        \\\\\n",
       "\t 5.0         & 3.4         & 1.5         & setosa      & Petal.Width & 0.2        \\\\\n",
       "\t 4.4         & 2.9         & 1.4         & setosa      & Petal.Width & 0.2        \\\\\n",
       "\t 4.9         & 3.1         & 1.5         & setosa      & Petal.Width & 0.1        \\\\\n",
       "\t 5.4         & 3.7         & 1.5         & setosa      & Petal.Width & 0.2        \\\\\n",
       "\t 4.8         & 3.4         & 1.6         & setosa      & Petal.Width & 0.2        \\\\\n",
       "\t 4.8         & 3.0         & 1.4         & setosa      & Petal.Width & 0.1        \\\\\n",
       "\t 4.3         & 3.0         & 1.1         & setosa      & Petal.Width & 0.1        \\\\\n",
       "\t 5.8         & 4.0         & 1.2         & setosa      & Petal.Width & 0.2        \\\\\n",
       "\t 5.7         & 4.4         & 1.5         & setosa      & Petal.Width & 0.4        \\\\\n",
       "\t 5.4         & 3.9         & 1.3         & setosa      & Petal.Width & 0.4        \\\\\n",
       "\t 5.1         & 3.5         & 1.4         & setosa      & Petal.Width & 0.3        \\\\\n",
       "\t 5.7         & 3.8         & 1.7         & setosa      & Petal.Width & 0.3        \\\\\n",
       "\t 5.1         & 3.8         & 1.5         & setosa      & Petal.Width & 0.3        \\\\\n",
       "\t 5.4         & 3.4         & 1.7         & setosa      & Petal.Width & 0.2        \\\\\n",
       "\t 5.1         & 3.7         & 1.5         & setosa      & Petal.Width & 0.4        \\\\\n",
       "\t 4.6         & 3.6         & 1.0         & setosa      & Petal.Width & 0.2        \\\\\n",
       "\t 5.1         & 3.3         & 1.7         & setosa      & Petal.Width & 0.5        \\\\\n",
       "\t 4.8         & 3.4         & 1.9         & setosa      & Petal.Width & 0.2        \\\\\n",
       "\t 5.0         & 3.0         & 1.6         & setosa      & Petal.Width & 0.2        \\\\\n",
       "\t 5.0         & 3.4         & 1.6         & setosa      & Petal.Width & 0.4        \\\\\n",
       "\t 5.2         & 3.5         & 1.5         & setosa      & Petal.Width & 0.2        \\\\\n",
       "\t 5.2         & 3.4         & 1.4         & setosa      & Petal.Width & 0.2        \\\\\n",
       "\t 4.7         & 3.2         & 1.6         & setosa      & Petal.Width & 0.2        \\\\\n",
       "\t ... & ... & ... & ... & ... & ...\\\\\n",
       "\t 6.9         & 3.2         & 5.7         & virginica   & Petal.Width & 2.3        \\\\\n",
       "\t 5.6         & 2.8         & 4.9         & virginica   & Petal.Width & 2.0        \\\\\n",
       "\t 7.7         & 2.8         & 6.7         & virginica   & Petal.Width & 2.0        \\\\\n",
       "\t 6.3         & 2.7         & 4.9         & virginica   & Petal.Width & 1.8        \\\\\n",
       "\t 6.7         & 3.3         & 5.7         & virginica   & Petal.Width & 2.1        \\\\\n",
       "\t 7.2         & 3.2         & 6.0         & virginica   & Petal.Width & 1.8        \\\\\n",
       "\t 6.2         & 2.8         & 4.8         & virginica   & Petal.Width & 1.8        \\\\\n",
       "\t 6.1         & 3.0         & 4.9         & virginica   & Petal.Width & 1.8        \\\\\n",
       "\t 6.4         & 2.8         & 5.6         & virginica   & Petal.Width & 2.1        \\\\\n",
       "\t 7.2         & 3.0         & 5.8         & virginica   & Petal.Width & 1.6        \\\\\n",
       "\t 7.4         & 2.8         & 6.1         & virginica   & Petal.Width & 1.9        \\\\\n",
       "\t 7.9         & 3.8         & 6.4         & virginica   & Petal.Width & 2.0        \\\\\n",
       "\t 6.4         & 2.8         & 5.6         & virginica   & Petal.Width & 2.2        \\\\\n",
       "\t 6.3         & 2.8         & 5.1         & virginica   & Petal.Width & 1.5        \\\\\n",
       "\t 6.1         & 2.6         & 5.6         & virginica   & Petal.Width & 1.4        \\\\\n",
       "\t 7.7         & 3.0         & 6.1         & virginica   & Petal.Width & 2.3        \\\\\n",
       "\t 6.3         & 3.4         & 5.6         & virginica   & Petal.Width & 2.4        \\\\\n",
       "\t 6.4         & 3.1         & 5.5         & virginica   & Petal.Width & 1.8        \\\\\n",
       "\t 6.0         & 3.0         & 4.8         & virginica   & Petal.Width & 1.8        \\\\\n",
       "\t 6.9         & 3.1         & 5.4         & virginica   & Petal.Width & 2.1        \\\\\n",
       "\t 6.7         & 3.1         & 5.6         & virginica   & Petal.Width & 2.4        \\\\\n",
       "\t 6.9         & 3.1         & 5.1         & virginica   & Petal.Width & 2.3        \\\\\n",
       "\t 5.8         & 2.7         & 5.1         & virginica   & Petal.Width & 1.9        \\\\\n",
       "\t 6.8         & 3.2         & 5.9         & virginica   & Petal.Width & 2.3        \\\\\n",
       "\t 6.7         & 3.3         & 5.7         & virginica   & Petal.Width & 2.5        \\\\\n",
       "\t 6.7         & 3.0         & 5.2         & virginica   & Petal.Width & 2.3        \\\\\n",
       "\t 6.3         & 2.5         & 5.0         & virginica   & Petal.Width & 1.9        \\\\\n",
       "\t 6.5         & 3.0         & 5.2         & virginica   & Petal.Width & 2.0        \\\\\n",
       "\t 6.2         & 3.4         & 5.4         & virginica   & Petal.Width & 2.3        \\\\\n",
       "\t 5.9         & 3.0         & 5.1         & virginica   & Petal.Width & 1.8        \\\\\n",
       "\\end{tabular}\n"
      ],
      "text/markdown": [
       "\n",
       "Sepal.Length | Sepal.Width | Petal.Length | Species | variable | value | \n",
       "|---|---|---|---|---|---|---|---|---|---|---|---|---|---|---|---|---|---|---|---|---|---|---|---|---|---|---|---|---|---|---|---|---|---|---|---|---|---|---|---|---|---|---|---|---|---|---|---|---|---|---|---|---|---|---|---|---|---|---|---|---|\n",
       "| 5.1         | 3.5         | 1.4         | setosa      | Petal.Width | 0.2         | \n",
       "| 4.9         | 3.0         | 1.4         | setosa      | Petal.Width | 0.2         | \n",
       "| 4.7         | 3.2         | 1.3         | setosa      | Petal.Width | 0.2         | \n",
       "| 4.6         | 3.1         | 1.5         | setosa      | Petal.Width | 0.2         | \n",
       "| 5.0         | 3.6         | 1.4         | setosa      | Petal.Width | 0.2         | \n",
       "| 5.4         | 3.9         | 1.7         | setosa      | Petal.Width | 0.4         | \n",
       "| 4.6         | 3.4         | 1.4         | setosa      | Petal.Width | 0.3         | \n",
       "| 5.0         | 3.4         | 1.5         | setosa      | Petal.Width | 0.2         | \n",
       "| 4.4         | 2.9         | 1.4         | setosa      | Petal.Width | 0.2         | \n",
       "| 4.9         | 3.1         | 1.5         | setosa      | Petal.Width | 0.1         | \n",
       "| 5.4         | 3.7         | 1.5         | setosa      | Petal.Width | 0.2         | \n",
       "| 4.8         | 3.4         | 1.6         | setosa      | Petal.Width | 0.2         | \n",
       "| 4.8         | 3.0         | 1.4         | setosa      | Petal.Width | 0.1         | \n",
       "| 4.3         | 3.0         | 1.1         | setosa      | Petal.Width | 0.1         | \n",
       "| 5.8         | 4.0         | 1.2         | setosa      | Petal.Width | 0.2         | \n",
       "| 5.7         | 4.4         | 1.5         | setosa      | Petal.Width | 0.4         | \n",
       "| 5.4         | 3.9         | 1.3         | setosa      | Petal.Width | 0.4         | \n",
       "| 5.1         | 3.5         | 1.4         | setosa      | Petal.Width | 0.3         | \n",
       "| 5.7         | 3.8         | 1.7         | setosa      | Petal.Width | 0.3         | \n",
       "| 5.1         | 3.8         | 1.5         | setosa      | Petal.Width | 0.3         | \n",
       "| 5.4         | 3.4         | 1.7         | setosa      | Petal.Width | 0.2         | \n",
       "| 5.1         | 3.7         | 1.5         | setosa      | Petal.Width | 0.4         | \n",
       "| 4.6         | 3.6         | 1.0         | setosa      | Petal.Width | 0.2         | \n",
       "| 5.1         | 3.3         | 1.7         | setosa      | Petal.Width | 0.5         | \n",
       "| 4.8         | 3.4         | 1.9         | setosa      | Petal.Width | 0.2         | \n",
       "| 5.0         | 3.0         | 1.6         | setosa      | Petal.Width | 0.2         | \n",
       "| 5.0         | 3.4         | 1.6         | setosa      | Petal.Width | 0.4         | \n",
       "| 5.2         | 3.5         | 1.5         | setosa      | Petal.Width | 0.2         | \n",
       "| 5.2         | 3.4         | 1.4         | setosa      | Petal.Width | 0.2         | \n",
       "| 4.7         | 3.2         | 1.6         | setosa      | Petal.Width | 0.2         | \n",
       "| ... | ... | ... | ... | ... | ... | \n",
       "| 6.9         | 3.2         | 5.7         | virginica   | Petal.Width | 2.3         | \n",
       "| 5.6         | 2.8         | 4.9         | virginica   | Petal.Width | 2.0         | \n",
       "| 7.7         | 2.8         | 6.7         | virginica   | Petal.Width | 2.0         | \n",
       "| 6.3         | 2.7         | 4.9         | virginica   | Petal.Width | 1.8         | \n",
       "| 6.7         | 3.3         | 5.7         | virginica   | Petal.Width | 2.1         | \n",
       "| 7.2         | 3.2         | 6.0         | virginica   | Petal.Width | 1.8         | \n",
       "| 6.2         | 2.8         | 4.8         | virginica   | Petal.Width | 1.8         | \n",
       "| 6.1         | 3.0         | 4.9         | virginica   | Petal.Width | 1.8         | \n",
       "| 6.4         | 2.8         | 5.6         | virginica   | Petal.Width | 2.1         | \n",
       "| 7.2         | 3.0         | 5.8         | virginica   | Petal.Width | 1.6         | \n",
       "| 7.4         | 2.8         | 6.1         | virginica   | Petal.Width | 1.9         | \n",
       "| 7.9         | 3.8         | 6.4         | virginica   | Petal.Width | 2.0         | \n",
       "| 6.4         | 2.8         | 5.6         | virginica   | Petal.Width | 2.2         | \n",
       "| 6.3         | 2.8         | 5.1         | virginica   | Petal.Width | 1.5         | \n",
       "| 6.1         | 2.6         | 5.6         | virginica   | Petal.Width | 1.4         | \n",
       "| 7.7         | 3.0         | 6.1         | virginica   | Petal.Width | 2.3         | \n",
       "| 6.3         | 3.4         | 5.6         | virginica   | Petal.Width | 2.4         | \n",
       "| 6.4         | 3.1         | 5.5         | virginica   | Petal.Width | 1.8         | \n",
       "| 6.0         | 3.0         | 4.8         | virginica   | Petal.Width | 1.8         | \n",
       "| 6.9         | 3.1         | 5.4         | virginica   | Petal.Width | 2.1         | \n",
       "| 6.7         | 3.1         | 5.6         | virginica   | Petal.Width | 2.4         | \n",
       "| 6.9         | 3.1         | 5.1         | virginica   | Petal.Width | 2.3         | \n",
       "| 5.8         | 2.7         | 5.1         | virginica   | Petal.Width | 1.9         | \n",
       "| 6.8         | 3.2         | 5.9         | virginica   | Petal.Width | 2.3         | \n",
       "| 6.7         | 3.3         | 5.7         | virginica   | Petal.Width | 2.5         | \n",
       "| 6.7         | 3.0         | 5.2         | virginica   | Petal.Width | 2.3         | \n",
       "| 6.3         | 2.5         | 5.0         | virginica   | Petal.Width | 1.9         | \n",
       "| 6.5         | 3.0         | 5.2         | virginica   | Petal.Width | 2.0         | \n",
       "| 6.2         | 3.4         | 5.4         | virginica   | Petal.Width | 2.3         | \n",
       "| 5.9         | 3.0         | 5.1         | virginica   | Petal.Width | 1.8         | \n",
       "\n",
       "\n"
      ],
      "text/plain": [
       "    Sepal.Length Sepal.Width Petal.Length Species   variable    value\n",
       "1   5.1          3.5         1.4          setosa    Petal.Width 0.2  \n",
       "2   4.9          3.0         1.4          setosa    Petal.Width 0.2  \n",
       "3   4.7          3.2         1.3          setosa    Petal.Width 0.2  \n",
       "4   4.6          3.1         1.5          setosa    Petal.Width 0.2  \n",
       "5   5.0          3.6         1.4          setosa    Petal.Width 0.2  \n",
       "6   5.4          3.9         1.7          setosa    Petal.Width 0.4  \n",
       "7   4.6          3.4         1.4          setosa    Petal.Width 0.3  \n",
       "8   5.0          3.4         1.5          setosa    Petal.Width 0.2  \n",
       "9   4.4          2.9         1.4          setosa    Petal.Width 0.2  \n",
       "10  4.9          3.1         1.5          setosa    Petal.Width 0.1  \n",
       "11  5.4          3.7         1.5          setosa    Petal.Width 0.2  \n",
       "12  4.8          3.4         1.6          setosa    Petal.Width 0.2  \n",
       "13  4.8          3.0         1.4          setosa    Petal.Width 0.1  \n",
       "14  4.3          3.0         1.1          setosa    Petal.Width 0.1  \n",
       "15  5.8          4.0         1.2          setosa    Petal.Width 0.2  \n",
       "16  5.7          4.4         1.5          setosa    Petal.Width 0.4  \n",
       "17  5.4          3.9         1.3          setosa    Petal.Width 0.4  \n",
       "18  5.1          3.5         1.4          setosa    Petal.Width 0.3  \n",
       "19  5.7          3.8         1.7          setosa    Petal.Width 0.3  \n",
       "20  5.1          3.8         1.5          setosa    Petal.Width 0.3  \n",
       "21  5.4          3.4         1.7          setosa    Petal.Width 0.2  \n",
       "22  5.1          3.7         1.5          setosa    Petal.Width 0.4  \n",
       "23  4.6          3.6         1.0          setosa    Petal.Width 0.2  \n",
       "24  5.1          3.3         1.7          setosa    Petal.Width 0.5  \n",
       "25  4.8          3.4         1.9          setosa    Petal.Width 0.2  \n",
       "26  5.0          3.0         1.6          setosa    Petal.Width 0.2  \n",
       "27  5.0          3.4         1.6          setosa    Petal.Width 0.4  \n",
       "28  5.2          3.5         1.5          setosa    Petal.Width 0.2  \n",
       "29  5.2          3.4         1.4          setosa    Petal.Width 0.2  \n",
       "30  4.7          3.2         1.6          setosa    Petal.Width 0.2  \n",
       "... ...          ...         ...          ...       ...         ...  \n",
       "121 6.9          3.2         5.7          virginica Petal.Width 2.3  \n",
       "122 5.6          2.8         4.9          virginica Petal.Width 2.0  \n",
       "123 7.7          2.8         6.7          virginica Petal.Width 2.0  \n",
       "124 6.3          2.7         4.9          virginica Petal.Width 1.8  \n",
       "125 6.7          3.3         5.7          virginica Petal.Width 2.1  \n",
       "126 7.2          3.2         6.0          virginica Petal.Width 1.8  \n",
       "127 6.2          2.8         4.8          virginica Petal.Width 1.8  \n",
       "128 6.1          3.0         4.9          virginica Petal.Width 1.8  \n",
       "129 6.4          2.8         5.6          virginica Petal.Width 2.1  \n",
       "130 7.2          3.0         5.8          virginica Petal.Width 1.6  \n",
       "131 7.4          2.8         6.1          virginica Petal.Width 1.9  \n",
       "132 7.9          3.8         6.4          virginica Petal.Width 2.0  \n",
       "133 6.4          2.8         5.6          virginica Petal.Width 2.2  \n",
       "134 6.3          2.8         5.1          virginica Petal.Width 1.5  \n",
       "135 6.1          2.6         5.6          virginica Petal.Width 1.4  \n",
       "136 7.7          3.0         6.1          virginica Petal.Width 2.3  \n",
       "137 6.3          3.4         5.6          virginica Petal.Width 2.4  \n",
       "138 6.4          3.1         5.5          virginica Petal.Width 1.8  \n",
       "139 6.0          3.0         4.8          virginica Petal.Width 1.8  \n",
       "140 6.9          3.1         5.4          virginica Petal.Width 2.1  \n",
       "141 6.7          3.1         5.6          virginica Petal.Width 2.4  \n",
       "142 6.9          3.1         5.1          virginica Petal.Width 2.3  \n",
       "143 5.8          2.7         5.1          virginica Petal.Width 1.9  \n",
       "144 6.8          3.2         5.9          virginica Petal.Width 2.3  \n",
       "145 6.7          3.3         5.7          virginica Petal.Width 2.5  \n",
       "146 6.7          3.0         5.2          virginica Petal.Width 2.3  \n",
       "147 6.3          2.5         5.0          virginica Petal.Width 1.9  \n",
       "148 6.5          3.0         5.2          virginica Petal.Width 2.0  \n",
       "149 6.2          3.4         5.4          virginica Petal.Width 2.3  \n",
       "150 5.9          3.0         5.1          virginica Petal.Width 1.8  "
      ]
     },
     "metadata": {},
     "output_type": "display_data"
    }
   ],
   "source": [
    "head(iris)\n",
    "\n",
    "# data6 <- melt(iris,measure.vars = c(\"Species\")) \n",
    "data6 <- melt(iris,measure.vars = c(\"Petal.Width\")) \n",
    "\"==========data6\"\n",
    "data6"
   ]
  },
  {
   "cell_type": "code",
   "execution_count": 81,
   "metadata": {},
   "outputs": [
    {
     "data": {
      "text/html": [
       "<ol class=list-inline>\n",
       "\t<li>150</li>\n",
       "\t<li>5</li>\n",
       "</ol>\n"
      ],
      "text/latex": [
       "\\begin{enumerate*}\n",
       "\\item 150\n",
       "\\item 5\n",
       "\\end{enumerate*}\n"
      ],
      "text/markdown": [
       "1. 150\n",
       "2. 5\n",
       "\n",
       "\n"
      ],
      "text/plain": [
       "[1] 150   5"
      ]
     },
     "metadata": {},
     "output_type": "display_data"
    },
    {
     "data": {
      "text/html": [
       "<ol class=list-inline>\n",
       "\t<li>150</li>\n",
       "\t<li>6</li>\n",
       "</ol>\n"
      ],
      "text/latex": [
       "\\begin{enumerate*}\n",
       "\\item 150\n",
       "\\item 6\n",
       "\\end{enumerate*}\n"
      ],
      "text/markdown": [
       "1. 150\n",
       "2. 6\n",
       "\n",
       "\n"
      ],
      "text/plain": [
       "[1] 150   6"
      ]
     },
     "metadata": {},
     "output_type": "display_data"
    }
   ],
   "source": [
    "dim(iris)\n",
    "dim(data6)"
   ]
  },
  {
   "cell_type": "code",
   "execution_count": 82,
   "metadata": {
    "scrolled": false
   },
   "outputs": [
    {
     "data": {
      "text/html": [
       "<table>\n",
       "<thead><tr><th></th><th scope=col>Sepal.Length</th><th scope=col>Sepal.Width</th><th scope=col>Petal.Length</th><th scope=col>Petal.Width</th><th scope=col>Species</th></tr></thead>\n",
       "<tbody>\n",
       "\t<tr><th scope=row>1</th><td>5.1   </td><td>3.5   </td><td>1.4   </td><td>0.2   </td><td>setosa</td></tr>\n",
       "\t<tr><th scope=row>18</th><td>5.1   </td><td>3.5   </td><td>1.4   </td><td>0.3   </td><td>setosa</td></tr>\n",
       "</tbody>\n",
       "</table>\n"
      ],
      "text/latex": [
       "\\begin{tabular}{r|lllll}\n",
       "  & Sepal.Length & Sepal.Width & Petal.Length & Petal.Width & Species\\\\\n",
       "\\hline\n",
       "\t1 & 5.1    & 3.5    & 1.4    & 0.2    & setosa\\\\\n",
       "\t18 & 5.1    & 3.5    & 1.4    & 0.3    & setosa\\\\\n",
       "\\end{tabular}\n"
      ],
      "text/markdown": [
       "\n",
       "| <!--/--> | Sepal.Length | Sepal.Width | Petal.Length | Petal.Width | Species | \n",
       "|---|---|\n",
       "| 1 | 5.1    | 3.5    | 1.4    | 0.2    | setosa | \n",
       "| 18 | 5.1    | 3.5    | 1.4    | 0.3    | setosa | \n",
       "\n",
       "\n"
      ],
      "text/plain": [
       "   Sepal.Length Sepal.Width Petal.Length Petal.Width Species\n",
       "1  5.1          3.5         1.4          0.2         setosa \n",
       "18 5.1          3.5         1.4          0.3         setosa "
      ]
     },
     "metadata": {},
     "output_type": "display_data"
    },
    {
     "data": {
      "text/html": [
       "<table>\n",
       "<thead><tr><th></th><th scope=col>Sepal.Length</th><th scope=col>Sepal.Width</th><th scope=col>Petal.Length</th><th scope=col>Species</th><th scope=col>variable</th><th scope=col>value</th></tr></thead>\n",
       "<tbody>\n",
       "\t<tr><th scope=row>1</th><td>5.1        </td><td>3.5        </td><td>1.4        </td><td>setosa     </td><td>Petal.Width</td><td>0.2        </td></tr>\n",
       "\t<tr><th scope=row>18</th><td>5.1        </td><td>3.5        </td><td>1.4        </td><td>setosa     </td><td>Petal.Width</td><td>0.3        </td></tr>\n",
       "</tbody>\n",
       "</table>\n"
      ],
      "text/latex": [
       "\\begin{tabular}{r|llllll}\n",
       "  & Sepal.Length & Sepal.Width & Petal.Length & Species & variable & value\\\\\n",
       "\\hline\n",
       "\t1 & 5.1         & 3.5         & 1.4         & setosa      & Petal.Width & 0.2        \\\\\n",
       "\t18 & 5.1         & 3.5         & 1.4         & setosa      & Petal.Width & 0.3        \\\\\n",
       "\\end{tabular}\n"
      ],
      "text/markdown": [
       "\n",
       "| <!--/--> | Sepal.Length | Sepal.Width | Petal.Length | Species | variable | value | \n",
       "|---|---|\n",
       "| 1 | 5.1         | 3.5         | 1.4         | setosa      | Petal.Width | 0.2         | \n",
       "| 18 | 5.1         | 3.5         | 1.4         | setosa      | Petal.Width | 0.3         | \n",
       "\n",
       "\n"
      ],
      "text/plain": [
       "   Sepal.Length Sepal.Width Petal.Length Species variable    value\n",
       "1  5.1          3.5         1.4          setosa  Petal.Width 0.2  \n",
       "18 5.1          3.5         1.4          setosa  Petal.Width 0.3  "
      ]
     },
     "metadata": {},
     "output_type": "display_data"
    }
   ],
   "source": [
    "#attributes are not identical across measure variables; they will be dropped\n",
    "# data6 <- melt(iris,measure.vars = c(\"Species\", \"Sepal.Length\")) \n",
    "\n",
    "# head(data6,3)\n",
    "subset(iris, Sepal.Length==5.1 & Sepal.Width==3.5)\n",
    "subset(data6, Sepal.Length==5.1 & Sepal.Width==3.5)"
   ]
  },
  {
   "cell_type": "code",
   "execution_count": 83,
   "metadata": {
    "scrolled": true
   },
   "outputs": [
    {
     "data": {
      "text/html": [
       "<table>\n",
       "<thead><tr><th scope=col>MONTH</th><th scope=col>DAY</th><th scope=col>variable</th><th scope=col>value</th></tr></thead>\n",
       "<tbody>\n",
       "\t<tr><td>5    </td><td>1    </td><td>OZONE</td><td>41   </td></tr>\n",
       "\t<tr><td>5    </td><td>2    </td><td>OZONE</td><td>36   </td></tr>\n",
       "\t<tr><td>5    </td><td>3    </td><td>OZONE</td><td>12   </td></tr>\n",
       "\t<tr><td>5    </td><td>4    </td><td>OZONE</td><td>18   </td></tr>\n",
       "\t<tr><td>5    </td><td>5    </td><td>OZONE</td><td>NA   </td></tr>\n",
       "\t<tr><td>5    </td><td>6    </td><td>OZONE</td><td>28   </td></tr>\n",
       "</tbody>\n",
       "</table>\n"
      ],
      "text/latex": [
       "\\begin{tabular}{r|llll}\n",
       " MONTH & DAY & variable & value\\\\\n",
       "\\hline\n",
       "\t 5     & 1     & OZONE & 41   \\\\\n",
       "\t 5     & 2     & OZONE & 36   \\\\\n",
       "\t 5     & 3     & OZONE & 12   \\\\\n",
       "\t 5     & 4     & OZONE & 18   \\\\\n",
       "\t 5     & 5     & OZONE & NA   \\\\\n",
       "\t 5     & 6     & OZONE & 28   \\\\\n",
       "\\end{tabular}\n"
      ],
      "text/markdown": [
       "\n",
       "MONTH | DAY | variable | value | \n",
       "|---|---|---|---|---|---|\n",
       "| 5     | 1     | OZONE | 41    | \n",
       "| 5     | 2     | OZONE | 36    | \n",
       "| 5     | 3     | OZONE | 12    | \n",
       "| 5     | 4     | OZONE | 18    | \n",
       "| 5     | 5     | OZONE | NA    | \n",
       "| 5     | 6     | OZONE | 28    | \n",
       "\n",
       "\n"
      ],
      "text/plain": [
       "  MONTH DAY variable value\n",
       "1 5     1   OZONE    41   \n",
       "2 5     2   OZONE    36   \n",
       "3 5     3   OZONE    12   \n",
       "4 5     4   OZONE    18   \n",
       "5 5     5   OZONE    NA   \n",
       "6 5     6   OZONE    28   "
      ]
     },
     "metadata": {},
     "output_type": "display_data"
    },
    {
     "data": {
      "text/html": [
       "<table>\n",
       "<thead><tr><th scope=col>MONTH</th><th scope=col>DAY</th><th scope=col>OZONE</th><th scope=col>SOLAR.R</th><th scope=col>WIND</th><th scope=col>TEMP</th></tr></thead>\n",
       "<tbody>\n",
       "\t<tr><td>5   </td><td>1   </td><td>41  </td><td>190 </td><td> 7.4</td><td>67  </td></tr>\n",
       "\t<tr><td>5   </td><td>2   </td><td>36  </td><td>118 </td><td> 8.0</td><td>72  </td></tr>\n",
       "\t<tr><td>5   </td><td>3   </td><td>12  </td><td>149 </td><td>12.6</td><td>74  </td></tr>\n",
       "\t<tr><td>5   </td><td>4   </td><td>18  </td><td>313 </td><td>11.5</td><td>62  </td></tr>\n",
       "\t<tr><td>5   </td><td>5   </td><td>NA  </td><td> NA </td><td>14.3</td><td>56  </td></tr>\n",
       "\t<tr><td>5   </td><td>6   </td><td>28  </td><td> NA </td><td>14.9</td><td>66  </td></tr>\n",
       "</tbody>\n",
       "</table>\n"
      ],
      "text/latex": [
       "\\begin{tabular}{r|llllll}\n",
       " MONTH & DAY & OZONE & SOLAR.R & WIND & TEMP\\\\\n",
       "\\hline\n",
       "\t 5    & 1    & 41   & 190  &  7.4 & 67  \\\\\n",
       "\t 5    & 2    & 36   & 118  &  8.0 & 72  \\\\\n",
       "\t 5    & 3    & 12   & 149  & 12.6 & 74  \\\\\n",
       "\t 5    & 4    & 18   & 313  & 11.5 & 62  \\\\\n",
       "\t 5    & 5    & NA   &  NA  & 14.3 & 56  \\\\\n",
       "\t 5    & 6    & 28   &  NA  & 14.9 & 66  \\\\\n",
       "\\end{tabular}\n"
      ],
      "text/markdown": [
       "\n",
       "MONTH | DAY | OZONE | SOLAR.R | WIND | TEMP | \n",
       "|---|---|---|---|---|---|\n",
       "| 5    | 1    | 41   | 190  |  7.4 | 67   | \n",
       "| 5    | 2    | 36   | 118  |  8.0 | 72   | \n",
       "| 5    | 3    | 12   | 149  | 12.6 | 74   | \n",
       "| 5    | 4    | 18   | 313  | 11.5 | 62   | \n",
       "| 5    | 5    | NA   |  NA  | 14.3 | 56   | \n",
       "| 5    | 6    | 28   |  NA  | 14.9 | 66   | \n",
       "\n",
       "\n"
      ],
      "text/plain": [
       "  MONTH DAY OZONE SOLAR.R WIND TEMP\n",
       "1 5     1   41    190      7.4 67  \n",
       "2 5     2   36    118      8.0 72  \n",
       "3 5     3   12    149     12.6 74  \n",
       "4 5     4   18    313     11.5 62  \n",
       "5 5     5   NA     NA     14.3 56  \n",
       "6 5     6   28     NA     14.9 66  "
      ]
     },
     "metadata": {},
     "output_type": "display_data"
    },
    {
     "data": {
      "text/html": [
       "<table>\n",
       "<thead><tr><th scope=col>OZONE</th><th scope=col>SOLAR.R</th><th scope=col>WIND</th><th scope=col>TEMP</th><th scope=col>MONTH</th><th scope=col>DAY</th></tr></thead>\n",
       "<tbody>\n",
       "\t<tr><td>41  </td><td>190 </td><td> 7.4</td><td>67  </td><td>5   </td><td>1   </td></tr>\n",
       "\t<tr><td>36  </td><td>118 </td><td> 8.0</td><td>72  </td><td>5   </td><td>2   </td></tr>\n",
       "\t<tr><td>12  </td><td>149 </td><td>12.6</td><td>74  </td><td>5   </td><td>3   </td></tr>\n",
       "\t<tr><td>18  </td><td>313 </td><td>11.5</td><td>62  </td><td>5   </td><td>4   </td></tr>\n",
       "\t<tr><td>NA  </td><td> NA </td><td>14.3</td><td>56  </td><td>5   </td><td>5   </td></tr>\n",
       "\t<tr><td>28  </td><td> NA </td><td>14.9</td><td>66  </td><td>5   </td><td>6   </td></tr>\n",
       "</tbody>\n",
       "</table>\n"
      ],
      "text/latex": [
       "\\begin{tabular}{r|llllll}\n",
       " OZONE & SOLAR.R & WIND & TEMP & MONTH & DAY\\\\\n",
       "\\hline\n",
       "\t 41   & 190  &  7.4 & 67   & 5    & 1   \\\\\n",
       "\t 36   & 118  &  8.0 & 72   & 5    & 2   \\\\\n",
       "\t 12   & 149  & 12.6 & 74   & 5    & 3   \\\\\n",
       "\t 18   & 313  & 11.5 & 62   & 5    & 4   \\\\\n",
       "\t NA   &  NA  & 14.3 & 56   & 5    & 5   \\\\\n",
       "\t 28   &  NA  & 14.9 & 66   & 5    & 6   \\\\\n",
       "\\end{tabular}\n"
      ],
      "text/markdown": [
       "\n",
       "OZONE | SOLAR.R | WIND | TEMP | MONTH | DAY | \n",
       "|---|---|---|---|---|---|\n",
       "| 41   | 190  |  7.4 | 67   | 5    | 1    | \n",
       "| 36   | 118  |  8.0 | 72   | 5    | 2    | \n",
       "| 12   | 149  | 12.6 | 74   | 5    | 3    | \n",
       "| 18   | 313  | 11.5 | 62   | 5    | 4    | \n",
       "| NA   |  NA  | 14.3 | 56   | 5    | 5    | \n",
       "| 28   |  NA  | 14.9 | 66   | 5    | 6    | \n",
       "\n",
       "\n"
      ],
      "text/plain": [
       "  OZONE SOLAR.R WIND TEMP MONTH DAY\n",
       "1 41    190      7.4 67   5     1  \n",
       "2 36    118      8.0 72   5     2  \n",
       "3 12    149     12.6 74   5     3  \n",
       "4 18    313     11.5 62   5     4  \n",
       "5 NA     NA     14.3 56   5     5  \n",
       "6 28     NA     14.9 66   5     6  "
      ]
     },
     "metadata": {},
     "output_type": "display_data"
    }
   ],
   "source": [
    "aql <- melt(airquality, id.vars = c(\"MONTH\", \"DAY\"))\n",
    "head(aql)\n",
    "aqw <- dcast(aql, MONTH + DAY ~ variable)\n",
    "head(aqw)\n",
    "head(airquality) # original data"
   ]
  },
  {
   "cell_type": "code",
   "execution_count": 84,
   "metadata": {
    "scrolled": true
   },
   "outputs": [
    {
     "data": {
      "text/html": [
       "<table>\n",
       "<thead><tr><th scope=col>Sepal.Length</th><th scope=col>Sepal.Width</th><th scope=col>Petal.Length</th><th scope=col>Petal.Width</th><th scope=col>Species</th></tr></thead>\n",
       "<tbody>\n",
       "\t<tr><td>5.1   </td><td>3.5   </td><td>1.4   </td><td>0.2   </td><td>setosa</td></tr>\n",
       "\t<tr><td>4.9   </td><td>3.0   </td><td>1.4   </td><td>0.2   </td><td>setosa</td></tr>\n",
       "\t<tr><td>4.7   </td><td>3.2   </td><td>1.3   </td><td>0.2   </td><td>setosa</td></tr>\n",
       "\t<tr><td>4.6   </td><td>3.1   </td><td>1.5   </td><td>0.2   </td><td>setosa</td></tr>\n",
       "\t<tr><td>5.0   </td><td>3.6   </td><td>1.4   </td><td>0.2   </td><td>setosa</td></tr>\n",
       "\t<tr><td>5.4   </td><td>3.9   </td><td>1.7   </td><td>0.4   </td><td>setosa</td></tr>\n",
       "</tbody>\n",
       "</table>\n"
      ],
      "text/latex": [
       "\\begin{tabular}{r|lllll}\n",
       " Sepal.Length & Sepal.Width & Petal.Length & Petal.Width & Species\\\\\n",
       "\\hline\n",
       "\t 5.1    & 3.5    & 1.4    & 0.2    & setosa\\\\\n",
       "\t 4.9    & 3.0    & 1.4    & 0.2    & setosa\\\\\n",
       "\t 4.7    & 3.2    & 1.3    & 0.2    & setosa\\\\\n",
       "\t 4.6    & 3.1    & 1.5    & 0.2    & setosa\\\\\n",
       "\t 5.0    & 3.6    & 1.4    & 0.2    & setosa\\\\\n",
       "\t 5.4    & 3.9    & 1.7    & 0.4    & setosa\\\\\n",
       "\\end{tabular}\n"
      ],
      "text/markdown": [
       "\n",
       "Sepal.Length | Sepal.Width | Petal.Length | Petal.Width | Species | \n",
       "|---|---|---|---|---|---|\n",
       "| 5.1    | 3.5    | 1.4    | 0.2    | setosa | \n",
       "| 4.9    | 3.0    | 1.4    | 0.2    | setosa | \n",
       "| 4.7    | 3.2    | 1.3    | 0.2    | setosa | \n",
       "| 4.6    | 3.1    | 1.5    | 0.2    | setosa | \n",
       "| 5.0    | 3.6    | 1.4    | 0.2    | setosa | \n",
       "| 5.4    | 3.9    | 1.7    | 0.4    | setosa | \n",
       "\n",
       "\n"
      ],
      "text/plain": [
       "  Sepal.Length Sepal.Width Petal.Length Petal.Width Species\n",
       "1 5.1          3.5         1.4          0.2         setosa \n",
       "2 4.9          3.0         1.4          0.2         setosa \n",
       "3 4.7          3.2         1.3          0.2         setosa \n",
       "4 4.6          3.1         1.5          0.2         setosa \n",
       "5 5.0          3.6         1.4          0.2         setosa \n",
       "6 5.4          3.9         1.7          0.4         setosa "
      ]
     },
     "metadata": {},
     "output_type": "display_data"
    },
    {
     "name": "stderr",
     "output_type": "stream",
     "text": [
      "Using Species as id variables\n"
     ]
    },
    {
     "data": {
      "text/html": [
       "<table>\n",
       "<thead><tr><th scope=col>Species</th><th scope=col>variable</th><th scope=col>value</th></tr></thead>\n",
       "<tbody>\n",
       "\t<tr><td>setosa      </td><td>Sepal.Length</td><td>5.1         </td></tr>\n",
       "\t<tr><td>setosa      </td><td>Sepal.Length</td><td>4.9         </td></tr>\n",
       "\t<tr><td>setosa      </td><td>Sepal.Length</td><td>4.7         </td></tr>\n",
       "\t<tr><td>setosa      </td><td>Sepal.Length</td><td>4.6         </td></tr>\n",
       "\t<tr><td>setosa      </td><td>Sepal.Length</td><td>5.0         </td></tr>\n",
       "\t<tr><td>setosa      </td><td>Sepal.Length</td><td>5.4         </td></tr>\n",
       "</tbody>\n",
       "</table>\n"
      ],
      "text/latex": [
       "\\begin{tabular}{r|lll}\n",
       " Species & variable & value\\\\\n",
       "\\hline\n",
       "\t setosa       & Sepal.Length & 5.1         \\\\\n",
       "\t setosa       & Sepal.Length & 4.9         \\\\\n",
       "\t setosa       & Sepal.Length & 4.7         \\\\\n",
       "\t setosa       & Sepal.Length & 4.6         \\\\\n",
       "\t setosa       & Sepal.Length & 5.0         \\\\\n",
       "\t setosa       & Sepal.Length & 5.4         \\\\\n",
       "\\end{tabular}\n"
      ],
      "text/markdown": [
       "\n",
       "Species | variable | value | \n",
       "|---|---|---|---|---|---|\n",
       "| setosa       | Sepal.Length | 5.1          | \n",
       "| setosa       | Sepal.Length | 4.9          | \n",
       "| setosa       | Sepal.Length | 4.7          | \n",
       "| setosa       | Sepal.Length | 4.6          | \n",
       "| setosa       | Sepal.Length | 5.0          | \n",
       "| setosa       | Sepal.Length | 5.4          | \n",
       "\n",
       "\n"
      ],
      "text/plain": [
       "  Species variable     value\n",
       "1 setosa  Sepal.Length 5.1  \n",
       "2 setosa  Sepal.Length 4.9  \n",
       "3 setosa  Sepal.Length 4.7  \n",
       "4 setosa  Sepal.Length 4.6  \n",
       "5 setosa  Sepal.Length 5.0  \n",
       "6 setosa  Sepal.Length 5.4  "
      ]
     },
     "metadata": {},
     "output_type": "display_data"
    }
   ],
   "source": [
    "head(iris) # use string volumn as default id variables if not specified.\n",
    "x=melt(iris);head(x)"
   ]
  },
  {
   "cell_type": "markdown",
   "metadata": {},
   "source": [
    "## Lab exercise: Bond Volume Analysis\n",
    "\n",
    "### Data Preparation\n",
    "\n",
    "Download the csv file and load into data frame.\n",
    "\n",
    "https://njit.instructure.com/files/483333/download?download_frd=1&verifier=In8pFaKc70FCfXfIQJ0BkKp9RxuJ4fHatnZRo91X\n",
    "\n",
    "### Write R code to answer the following questions\n",
    "\n",
    "1. What's the total amount issued in each currency? Sort the result by total amount with the largest amount on the top.\n",
    "2. How many bonds in each currency?\n",
    "3. How many bonds issued by each company?\n",
    "4. What's the total amount issued in each currency by each company? Result should look like\n",
    "\n",
    "```\n",
    "Name | Total Amount Issued | Currency\n",
    "\n",
    "```\n",
    "\n",
    "\n",
    "5. Change all currencies to columns and the total amount issued to the value under the currency column so that the data frame looks like\n",
    "\n",
    "```\n",
    "Name| EUR | CHF | SEK | \n",
    "Telia Co | 500000000 | NA | NA |\n",
    "```\n",
    "\n"
   ]
  },
  {
   "attachments": {
    "image.png": {
     "image/png": "[encoded data removed]"
    }
   },
   "cell_type": "markdown",
   "metadata": {},
   "source": [
    "## Homework Assignment 3: Find all dividends\n",
    "\n",
    "### Data Preparation\n",
    "\n",
    "Use the 6 stocks ['IBM', 'MSFT', 'GOOG', 'AAPL', 'AMZN', 'FB'] historical data from homework assignment 2.\n",
    "\n",
    "### Load the data to dataframes\n",
    "\n",
    "You will have 6 dataframes.\n",
    "\n",
    "### Understand how to compute the dividends\n",
    "\n",
    "There are two columns in each csv file, \"Close\" and \"Adj Close\". If we compute the ratio of previous day's \"Close\" price and today's \"Close\" price, then compare with the ratio of previous day's \"Adj Close\" price and today's \"Adj Close\" price, on most of days, the two ratios should be equal. On dividend day, the two ratios will have a difference. The difference times today's \"Close\" price, you will get the dividend. As the example below, you should be able to use the method to reproduce the $1.5 dividend on 2/8/2018.\n",
    "\n",
    "![image.png](attachment:image.png)\n",
    "\n",
    "### The result\n",
    "\n",
    "You result will have 6 dataframes, each of them have two columns, Date and Dividend. The dataframe should only have the rows that represent the divident day and amount.\n",
    "\n",
    "### Submit\n",
    "\n",
    "Submit your jupyter notebook file with all intermediate results and the final dataframe. "
   ]
  },
  {
   "attachments": {
    "image.png": {
     "image/png": "[encoded data removed]"
    }
   },
   "cell_type": "markdown",
   "metadata": {},
   "source": [
    "## Midterm project: Equity Portfolio Management\n",
    "\n",
    "### Data Preparation\n",
    "\n",
    "Download the historial daily data of the entire 2018 for the 10 stocks \n",
    "\n",
    "```python\n",
    "universe = ['IBM', 'MSFT', 'GOOG', 'AAPL', 'AMZN', 'FB', 'NFLX', 'TSLA', 'ORCL', 'SAP']\n",
    "```\n",
    "\n",
    "For example, to download IBM data, use the following link to go to yahoo finance page. Find the \"Download Data\" link to download the csv file to you local disk.\n",
    "https://finance.yahoo.com/quote/IBM/history?period1=1514782800&period2=1546232400&interval=1d&filter=history&frequency=1d\n",
    "\n",
    "Replace \"IBM\" with other stock symbol in the above URL, you will be able to download data for other 9 stocks.\n",
    "\n",
    "You should have 10 csv files on your disk now. IBM.csv, MSFT.csv, etc. We call the 10 stocks \"universe\" which is the entire stock market you can trade.\n",
    "\n",
    "\n",
    "![image.png](attachment:image.png)\n",
    "\n",
    "\n",
    "### Retrieve the \"Close\" and \"Adj Close\" values for each stock\n",
    "\n",
    "You will create a dataframe where there are 20 columns for the 10 stocks, each row is the \"Close\" and \"Adj Close\" prices for the 10 stocks on each day, in the order of the business days in 2018. Assume all buy/sell on the \"Close\" prices and there is no transaction cost.\n",
    "\n",
    "### You start to manage 5 million dollars fund on Jan 02, 2018\n",
    "\n",
    "You have a strategy to manage the fund.\n",
    "\n",
    "1. On Jan 02 2018, you split the \\\\$5m into 5 \\\\$1m, and use them to buy 5 stocks from the 10 stocks. For example, IBM close price was \\$154.25. With \\$1m, you can buy max 6482 shares with cost \\$999848.5 with \\$151.5‬ cash left. You decided to spend \\$1m on each of ['IBM', 'MSFT', 'GOOG', 'AAPL', 'AMZN'] respectively and keep the rest cash into a zero-interest cash account. On Jan 02 2018, your mark to market value (MTM) is \\$5m if combining all stocks value and cash. Your holdings of stocks and cach account is your portfolio.\n",
    "\n",
    "\\begin{equation*}\n",
    "\\ MTM^t =  cash^t + \\sum_{k=1}^5 Shares_k^t \\times ClosePrice_k^t \\\n",
    "\\end{equation*}\n",
    "\n",
    "\n",
    "2. Your trading strategy is \"5 days rebalancing of buying low\". Here is how it works. You keep your portfolio unchanged until 5 days later on Jan 09 2018. Now you want to re-check the market and adjust your portfolio. You will compute the \"Adj Close\" price changes from Jan 02 to Jan 09, and find the 5 stocks whose \"Adj Close\" prices dropped the most in terms of percentage. You sell all current holdings on Jan 09 \"Close\" prices to convert your portfolio to all cash. Then immediately split your cash, including your cash account, to 5 equal parts to buy the 5 stocks that dropped the most from Jan 02 to Jan 09 on 'Adj Close' prices. You always buy the max shares of stock on the \"Close\" price and keep the rest cash in cash account. Now the portfolio should be different from 5 days ago. This operation is called \"rebalancing\".\n",
    "\n",
    "    Keep in mind, the MTM will change every day, even when your portfolio holdings don't change, because the stock prices change.\n",
    "\n",
    "\n",
    "3. Corporations generally issue stock dividends on some days. The total dividend you get on such a day is the stock dividend  times your shares if you have shares of this stock on the dividend day. If you buy shares on the dividend day, these bought shares are not qualified to get dividend. If you sell shares on the dividend day, the sold shares are qualified to get dividend. For example, on 2/8/2018, IBM issued \\$1.5 dividend per share. In your cash account, you will automatically get\n",
    "\n",
    "\\begin{equation*}\n",
    "\\$1.5 \\times \\left(your\\ IBM\\ shares\\ on\\ 2/8/2018\\right)\n",
    "\\end{equation*} \n",
    "\n",
    "\n",
    "\n",
    "4. 5 business days later on Jan 17 (Jan 15 was a holiday), you re-check the market and adjust your portfolio again. You will have a new portfolio on Jan 17.\n",
    "\n",
    "\n",
    "5. If you run this strategy every 5 days all the way to Dec 31 2018, you will have a daily MTM. You expect the MTM on Dec 31 2018 should be higher than \\$5m because you always buy the stocks that dropped the most, i.e., you always buy low.\n",
    "\n",
    "\n",
    "6. Another strategy is \"5 days rebalancing of buying high\". You always buy the 5 stocks whose \"Adj Close\" prices surge the most in terms of percentage because you believe the trend will continue. Run the new strategy and see how the MTM will change.\n",
    "\n",
    "\n",
    "7. You will create a \"high tech index\" which is simply the daily average of the 10 stocks \"Close\" prices. Compare your MTM series with the \"high tech index\" and plot their curves. To plot the two curves together, you may want to convert the series to daily percentage change with regard to Jan 02 2018.\n",
    "\n",
    "\n",
    "8. Download the USD/JPY 2018 historical data at https://www.myfxbook.com/en/forex-market/currencies/USDJPY-historical-data then use the \"Close\" column as the rate to convert your MTM series from USD to JPY. Plot the two MTM curves. You will need to convert to daily percentage change too.\n",
    "\n",
    "\n",
    "9. The above two strategies both rebalance every 5 days. Try to change the days interval and find the optimal days interval that maximizes the MTM on 12/31/2018. \n",
    "\n",
    "### Submit\n",
    "\n",
    "* This project must be in R.\n",
    "\n",
    "* This is a group project. Your group can have up to 3 members. \n",
    "\n",
    "* Feb 22 2020 -- Submit your project plan about who will do what at when. The format can be a check list. \n",
    "\n",
    "* Feb 29 2020 -- Based on your project plan, evaluate your team progress and check the work each member has done so far. Decide to stay together or break up. \n",
    "\n",
    "* Mar 07 2020 -- Submit your jupyter notebook file with all intermediate results and the final dataframe. Plot the curves. Each member will need to submit a copy on canvas.\n",
    "\n",
    "\n",
    "\n"
   ]
  },
  {
   "cell_type": "code",
   "execution_count": null,
   "metadata": {},
   "outputs": [],
   "source": []
  }
 ],
 "metadata": {
  "kernelspec": {
   "display_name": "R",
   "language": "R",
   "name": "ir"
  },
  "language_info": {
   "codemirror_mode": "r",
   "file_extension": ".r",
   "mimetype": "text/x-r-source",
   "name": "R",
   "pygments_lexer": "r",
   "version": "3.6.1"
  }
 },
 "nbformat": 4,
 "nbformat_minor": 2
}

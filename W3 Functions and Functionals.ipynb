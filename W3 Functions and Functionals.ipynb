{
 "cells": [
  {
   "cell_type": "code",
   "execution_count": 1,
   "metadata": {
    "scrolled": true
   },
   "outputs": [
    {
     "name": "stdout",
     "output_type": "stream",
     "text": [
      "[1] \"x= 5\"\n",
      "[1] \"y1= 20\"\n",
      "[1] \"y2= 20.0001000001\"\n",
      "[1] \"x= 2.99999199988692\"\n",
      "[1] \"y1= 3.99995199938554\"\n",
      "[1] \"y2= 4.00001199932554\"\n",
      "[1] \"x= 2.33332266663804\"\n",
      "[1] \"y1= 0.444394666646853\"\n",
      "[1] \"y2= 0.444441333200186\"\n",
      "[1] \"x= 2.23808500680248\"\n",
      "[1] \"y1= 0.00902449767403635\"\n",
      "[1] \"y2= 0.00906925947417214\"\n",
      "[1] \"x= 2.23605889090752\"\n",
      "[1] \"y1= -4.06363934093434e-05\"\n",
      "[1] \"y2= 4.08488440939436e-06\"\n",
      "[1] \"x= 2.23605797749793\"\n"
     ]
    }
   ],
   "source": [
    "a=5\n",
    "x=a\n",
    "print(paste(\"x=\", x))\n",
    "for (i in 1:5){\n",
    "    delta=0.00001\n",
    "    y1=x*x-a\n",
    "    y2=(x+delta)**2-a\n",
    "    print(paste(\"y1=\", y1))\n",
    "    print(paste(\"y2=\", y2))\n",
    "    x=x-(y2*delta)/(y2-y1)\n",
    "    print(paste(\"x=\",x))\n",
    "}"
   ]
  },
  {
   "cell_type": "code",
   "execution_count": 2,
   "metadata": {
    "scrolled": true
   },
   "outputs": [
    {
     "name": "stdout",
     "output_type": "stream",
     "text": [
      "[1] \"x= 5\"\n",
      "[1] \"y1= 20\"\n",
      "[1] \"y2= 20.0001000001\"\n",
      "[1] \"x= 2.99999199988692\"\n",
      "[1] \"y1= 3.99995199938554\"\n",
      "[1] \"y2= 4.00001199932554\"\n",
      "[1] \"x= 2.33332266663804\"\n",
      "[1] \"y1= 0.444394666646853\"\n",
      "[1] \"y2= 0.444441333200186\"\n",
      "[1] \"x= 2.23808500680248\"\n",
      "[1] \"y1= 0.00902449767403635\"\n",
      "[1] \"y2= 0.00906925947417214\"\n",
      "[1] \"x= 2.23605889090752\"\n"
     ]
    }
   ],
   "source": [
    "a=5\n",
    "x=a\n",
    "print(paste(\"x=\", x))\n",
    "while(abs(x**2-a)>0.001){\n",
    "    delta=0.00001\n",
    "    y1=x*x-a\n",
    "    y2=(x+delta)**2-a\n",
    "    print(paste(\"y1=\", y1))\n",
    "    print(paste(\"y2=\", y2))\n",
    "    x=x-(y2*delta)/(y2-y1)\n",
    "    print(paste(\"x=\",x))\n",
    "}"
   ]
  },
  {
   "cell_type": "code",
   "execution_count": 3,
   "metadata": {
    "scrolled": true
   },
   "outputs": [
    {
     "name": "stdout",
     "output_type": "stream",
     "text": [
      "[1] \"x= 5\"\n",
      "[1] \"y1= 20\"\n",
      "[1] \"y2= 20.0001000001\"\n",
      "[1] \"x= 2.99999199988692\"\n",
      "[1] \"y1= 3.99995199938554\"\n",
      "[1] \"y2= 4.00001199932554\"\n",
      "[1] \"x= 2.33332266663804\"\n",
      "[1] \"y1= 0.444394666646853\"\n",
      "[1] \"y2= 0.444441333200186\"\n",
      "[1] \"x= 2.23808500680248\"\n",
      "[1] \"y1= 0.00902449767403635\"\n",
      "[1] \"y2= 0.00906925947417214\"\n",
      "[1] \"x= 2.23605889090752\"\n"
     ]
    }
   ],
   "source": [
    "a=5\n",
    "x=a\n",
    "print(paste(\"x=\", x))\n",
    "repeat{\n",
    "    delta=0.00001\n",
    "    y1=x*x-a\n",
    "    y2=(x+delta)**2-a\n",
    "    print(paste(\"y1=\", y1))\n",
    "    print(paste(\"y2=\", y2))\n",
    "    x=x-(y2*delta)/(y2-y1)\n",
    "    print(paste(\"x=\",x))\n",
    "    if (abs(x**2-a)<0.001) break\n",
    "}"
   ]
  },
  {
   "cell_type": "code",
   "execution_count": 4,
   "metadata": {
    "scrolled": true
   },
   "outputs": [
    {
     "data": {
      "text/html": [
       "2.23606797749979"
      ],
      "text/latex": [
       "2.23606797749979"
      ],
      "text/markdown": [
       "2.23606797749979"
      ],
      "text/plain": [
       "[1] 2.236068"
      ]
     },
     "metadata": {},
     "output_type": "display_data"
    },
    {
     "data": {
      "text/html": [
       "2.44948974278318"
      ],
      "text/latex": [
       "2.44948974278318"
      ],
      "text/markdown": [
       "2.44948974278318"
      ],
      "text/plain": [
       "[1] 2.44949"
      ]
     },
     "metadata": {},
     "output_type": "display_data"
    }
   ],
   "source": [
    "sqrt(5)\n",
    "sqrt(6)"
   ]
  },
  {
   "cell_type": "code",
   "execution_count": 5,
   "metadata": {
    "scrolled": true
   },
   "outputs": [
    {
     "name": "stdout",
     "output_type": "stream",
     "text": [
      "[1] \"x= 5\"\n",
      "[1] \"y1= 20\"\n",
      "[1] \"y2= 20.0001000001\"\n",
      "[1] \"x= 2.99999199988692\"\n",
      "[1] \"y1= 3.99995199938554\"\n",
      "[1] \"y2= 4.00001199932554\"\n",
      "[1] \"x= 2.33332266663804\"\n",
      "[1] \"y1= 0.444394666646853\"\n",
      "[1] \"y2= 0.444441333200186\"\n",
      "[1] \"x= 2.23808500680248\"\n",
      "[1] \"y1= 0.00902449767403635\"\n",
      "[1] \"y2= 0.00906925947417214\"\n",
      "[1] \"x= 2.23605889090752\"\n",
      "[1] \"x= 5\"\n",
      "[1] \"y1= 20\"\n",
      "[1] \"y2= 20.0001000001\"\n",
      "[1] \"x= 2.99999199988692\"\n",
      "[1] \"y1= 3.99995199938554\"\n",
      "[1] \"y2= 4.00001199932554\"\n",
      "[1] \"x= 2.33332266663804\"\n",
      "[1] \"y1= 0.444394666646853\"\n",
      "[1] \"y2= 0.444441333200186\"\n",
      "[1] \"x= 2.23808500680248\"\n",
      "[1] \"y1= 0.00902449767403635\"\n",
      "[1] \"y2= 0.00906925947417214\"\n",
      "[1] \"x= 2.23605889090752\"\n"
     ]
    },
    {
     "data": {
      "text/html": [
       "'function'"
      ],
      "text/latex": [
       "'function'"
      ],
      "text/markdown": [
       "'function'"
      ],
      "text/plain": [
       "[1] \"function\""
      ]
     },
     "metadata": {},
     "output_type": "display_data"
    }
   ],
   "source": [
    "root=function(){\n",
    "    a=5\n",
    "    x=a\n",
    "    print(paste(\"x=\", x))\n",
    "    repeat{\n",
    "        delta=0.00001\n",
    "        y1=x*x-a\n",
    "        y2=(x+delta)**2-a\n",
    "        print(paste(\"y1=\", y1))\n",
    "        print(paste(\"y2=\", y2))\n",
    "        x=x-(y2*delta)/(y2-y1)\n",
    "        print(paste(\"x=\",x))\n",
    "        if (abs(x**2-a)<0.001) break\n",
    "}\n",
    "}\n",
    "\n",
    "root()\n",
    "root()\n",
    "class(root)"
   ]
  },
  {
   "cell_type": "code",
   "execution_count": 6,
   "metadata": {
    "scrolled": true
   },
   "outputs": [
    {
     "name": "stdout",
     "output_type": "stream",
     "text": [
      "[1] \"x= 5\"\n",
      "[1] \"y1= 20\"\n",
      "[1] \"y2= 20.0001000001\"\n",
      "[1] \"x= 2.99999199988692\"\n",
      "[1] \"y1= 3.99995199938554\"\n",
      "[1] \"y2= 4.00001199932554\"\n",
      "[1] \"x= 2.33332266663804\"\n",
      "[1] \"y1= 0.444394666646853\"\n",
      "[1] \"y2= 0.444441333200186\"\n",
      "[1] \"x= 2.23808500680248\"\n",
      "[1] \"y1= 0.00902449767403635\"\n",
      "[1] \"y2= 0.00906925947417214\"\n",
      "[1] \"x= 2.23605889090752\"\n",
      "[1] \"Mission Complete!!!!!!!!!!!!!!!!!!!!!!!!!\"\n"
     ]
    },
    {
     "data": {
      "text/html": [
       "2.23605889090752"
      ],
      "text/latex": [
       "2.23605889090752"
      ],
      "text/markdown": [
       "2.23605889090752"
      ],
      "text/plain": [
       "[1] 2.236059"
      ]
     },
     "metadata": {},
     "output_type": "display_data"
    },
    {
     "name": "stdout",
     "output_type": "stream",
     "text": [
      "[1] \"x= 100\"\n",
      "[1] \"y1= 9900\"\n",
      "[1] \"y2= 9900.0020000001\"\n",
      "[1] \"x= 50.4999924861837\"\n",
      "[1] \"y1= 2450.24924110461\"\n",
      "[1] \"y2= 2450.25025110456\"\n",
      "[1] \"x= 26.2400878072077\"\n",
      "[1] \"y1= 588.542208129969\"\n",
      "[1] \"y2= 588.542732931825\"\n",
      "[1] \"x= 15.025517469374\"\n",
      "[1] \"y1= 125.766175222463\"\n",
      "[1] \"y2= 125.766475732912\"\n",
      "[1] \"x= 10.8404225417552\"\n",
      "[1] \"y1= 17.5147608837936\"\n",
      "[1] \"y2= 17.5149776923445\"\n",
      "[1] \"x= 10.0325679794554\"\n",
      "[1] \"y1= 0.652420262393576\"\n",
      "[1] \"y2= 0.652620913853156\"\n",
      "[1] \"x= 10.0000428777082\"\n",
      "[1] \"Mission Complete!!!!!!!!!!!!!!!!!!!!!!!!!\"\n",
      "[1] 10.00004\n"
     ]
    },
    {
     "data": {
      "text/html": [
       "'function'"
      ],
      "text/latex": [
       "'function'"
      ],
      "text/markdown": [
       "'function'"
      ],
      "text/plain": [
       "[1] \"function\""
      ]
     },
     "metadata": {},
     "output_type": "display_data"
    }
   ],
   "source": [
    "root=function(a){\n",
    "#     a=5\n",
    "    x=a\n",
    "    print(paste(\"x=\", x))\n",
    "    repeat{\n",
    "        delta=0.00001\n",
    "        y1=x*x-a\n",
    "        y2=(x+delta)**2-a\n",
    "        print(paste(\"y1=\", y1))\n",
    "        print(paste(\"y2=\", y2))\n",
    "        x=x-(y2*delta)/(y2-y1)\n",
    "        print(paste(\"x=\",x))\n",
    "        if (abs(x**2-a)<0.001) {\n",
    "            print(\"Mission Complete!!!!!!!!!!!!!!!!!!!!!!!!!\")\n",
    "            break\n",
    "            }\n",
    "    }\n",
    "    x #return value of the last expression\n",
    "}\n",
    "\n",
    "root(5)\n",
    "y=root(100)\n",
    "print(y)\n",
    "class(root)"
   ]
  },
  {
   "cell_type": "code",
   "execution_count": 7,
   "metadata": {
    "scrolled": false
   },
   "outputs": [
    {
     "name": "stdout",
     "output_type": "stream",
     "text": [
      "[1] 2\n",
      "[1] 9\n",
      "[1] 10\n",
      "[1] 9\n"
     ]
    }
   ],
   "source": [
    "f=function(x=1){\n",
    "#     x <<- x+1 #superassignment\n",
    "    x <- x+1\n",
    "    y=8\n",
    "    x\n",
    "}\n",
    "\n",
    "x=9\n",
    "\n",
    "print(f())\n",
    "print(x)\n",
    "print(f(x))\n",
    "print(x)"
   ]
  },
  {
   "cell_type": "code",
   "execution_count": 1,
   "metadata": {
    "scrolled": true
   },
   "outputs": [
    {
     "name": "stdout",
     "output_type": "stream",
     "text": [
      "function (n, mean = 0, sd = 1)  \n"
     ]
    },
    {
     "data": {
      "text/html": [
       "3.52590856976159"
      ],
      "text/latex": [
       "3.52590856976159"
      ],
      "text/markdown": [
       "3.52590856976159"
      ],
      "text/plain": [
       "[1] 3.525909"
      ]
     },
     "metadata": {},
     "output_type": "display_data"
    },
    {
     "data": {
      "text/html": [
       "3.52590856976159"
      ],
      "text/latex": [
       "3.52590856976159"
      ],
      "text/markdown": [
       "3.52590856976159"
      ],
      "text/plain": [
       "[1] 3.525909"
      ]
     },
     "metadata": {},
     "output_type": "display_data"
    },
    {
     "data": {
      "text/html": [
       "3.52590856976159"
      ],
      "text/latex": [
       "3.52590856976159"
      ],
      "text/markdown": [
       "3.52590856976159"
      ],
      "text/plain": [
       "[1] 3.525909"
      ]
     },
     "metadata": {},
     "output_type": "display_data"
    }
   ],
   "source": [
    "str(rnorm)\n",
    "set.seed(0)\n",
    "rnorm(1, 1, 2)\n",
    "set.seed(0)\n",
    "rnorm(1, sd=2, mean=1)\n",
    "set.seed(0)\n",
    "rnorm(sd=2, me=1, 1)"
   ]
  },
  {
   "cell_type": "code",
   "execution_count": 9,
   "metadata": {
    "scrolled": true
   },
   "outputs": [
    {
     "name": "stdout",
     "output_type": "stream",
     "text": [
      "function (formula, data, subset, weights, na.action, method = \"qr\", model = TRUE, \n",
      "    x = FALSE, y = FALSE, qr = TRUE, singular.ok = TRUE, contrasts = NULL, \n",
      "    offset, ...)  \n",
      "function (x, na.rm = FALSE)  \n"
     ]
    }
   ],
   "source": [
    "str(lm)\n",
    "str(sd)\n",
    "?lm"
   ]
  },
  {
   "cell_type": "code",
   "execution_count": 10,
   "metadata": {
    "scrolled": false
   },
   "outputs": [
    {
     "data": {
      "text/plain": [
       "   user  system elapsed \n",
       "      0       0       0 "
      ]
     },
     "metadata": {},
     "output_type": "display_data"
    }
   ],
   "source": [
    "f <- function(x) {\n",
    "#   force(x) #Force Evaluation of an Argument\n",
    "#   y=x\n",
    "  10\n",
    "}\n",
    "system.time(f(Sys.sleep(10)))\n",
    "# ?force"
   ]
  },
  {
   "cell_type": "code",
   "execution_count": 11,
   "metadata": {},
   "outputs": [
    {
     "data": {
      "text/html": [
       "4"
      ],
      "text/latex": [
       "4"
      ],
      "text/markdown": [
       "4"
      ],
      "text/plain": [
       "[1] 4"
      ]
     },
     "metadata": {},
     "output_type": "display_data"
    }
   ],
   "source": [
    "f <- function(a, b) {\n",
    "  a^2\n",
    " }\n",
    "\n",
    "f(2)"
   ]
  },
  {
   "cell_type": "code",
   "execution_count": 3,
   "metadata": {},
   "outputs": [
    {
     "name": "stdout",
     "output_type": "stream",
     "text": [
      "[1] 5\n",
      "[1] 1\n"
     ]
    }
   ],
   "source": [
    "f <- function(a, b) {\n",
    "  print(a)\n",
    "#   print(b)\n",
    "  if (a>4) print(b)\n",
    "}\n",
    "f(5, 1)"
   ]
  },
  {
   "cell_type": "code",
   "execution_count": 4,
   "metadata": {
    "scrolled": true
   },
   "outputs": [
    {
     "data": {
      "text/html": [
       "<ol class=list-inline>\n",
       "\t<li>'a'</li>\n",
       "\t<li>'b'</li>\n",
       "</ol>\n"
      ],
      "text/latex": [
       "\\begin{enumerate*}\n",
       "\\item 'a'\n",
       "\\item 'b'\n",
       "\\end{enumerate*}\n"
      ],
      "text/markdown": [
       "1. 'a'\n",
       "2. 'b'\n",
       "\n",
       "\n"
      ],
      "text/plain": [
       "[1] \"a\" \"b\""
      ]
     },
     "metadata": {},
     "output_type": "display_data"
    }
   ],
   "source": [
    "f <- function(...) {\n",
    "  names(list(...))\n",
    "}\n",
    "f(a = 1, b = 2)\n",
    "\n",
    "# list(a=1, b=2)\n",
    "# ?names"
   ]
  },
  {
   "cell_type": "code",
   "execution_count": 14,
   "metadata": {
    "scrolled": false
   },
   "outputs": [
    {
     "data": {
      "image/png": "[encoded data removed]",
      "text/plain": [
       "plot without title"
      ]
     },
     "metadata": {
      "image/png": {
       "height": 420,
       "width": 420
      }
     },
     "output_type": "display_data"
    }
   ],
   "source": [
    "redplot=function(inputs, col=\"red\", ...){\n",
    "   barplot(inputs, col=col, ...)\n",
    "}\n",
    "\n",
    "x=1:5\n",
    "redplot(x, sub=\"this is a test\")\n",
    "?barplot"
   ]
  },
  {
   "cell_type": "code",
   "execution_count": 15,
   "metadata": {
    "scrolled": true
   },
   "outputs": [
    {
     "data": {
      "text/html": [
       "<pre class=language-r><code>function (..., sep = \" \", collapse = NULL) \n",
       "NULL</code></pre>"
      ],
      "text/latex": [
       "\\begin{minted}{r}\n",
       "function (..., sep = \" \", collapse = NULL) \n",
       "NULL\n",
       "\\end{minted}"
      ],
      "text/markdown": [
       "```r\n",
       "function (..., sep = \" \", collapse = NULL) \n",
       "NULL\n",
       "```"
      ],
      "text/plain": [
       "function (..., sep = \" \", collapse = NULL) \n",
       "NULL"
      ]
     },
     "metadata": {},
     "output_type": "display_data"
    },
    {
     "data": {
      "text/html": [
       "'a+b'"
      ],
      "text/latex": [
       "'a+b'"
      ],
      "text/markdown": [
       "'a+b'"
      ],
      "text/plain": [
       "[1] \"a+b\""
      ]
     },
     "metadata": {},
     "output_type": "display_data"
    },
    {
     "data": {
      "text/html": [
       "'a b +'"
      ],
      "text/latex": [
       "'a b +'"
      ],
      "text/markdown": [
       "'a b +'"
      ],
      "text/plain": [
       "[1] \"a b +\""
      ]
     },
     "metadata": {},
     "output_type": "display_data"
    }
   ],
   "source": [
    "args(paste)\n",
    "paste(\"a\", \"b\", sep=\"+\")\n",
    "paste(\"a\", \"b\", se=\"+\")"
   ]
  },
  {
   "cell_type": "code",
   "execution_count": 16,
   "metadata": {},
   "outputs": [
    {
     "data": {
      "text/html": [
       "465"
      ],
      "text/latex": [
       "465"
      ],
      "text/markdown": [
       "465"
      ],
      "text/plain": [
       "[1] 465"
      ]
     },
     "metadata": {},
     "output_type": "display_data"
    }
   ],
   "source": [
    "recursivesum = function(num){\n",
    "    if (num==1){\n",
    "        1\n",
    "        }else{\n",
    "        recursivesum(num-1)+num\n",
    "    }\n",
    "    \n",
    "}\n",
    "\n",
    "recursivesum(30)"
   ]
  },
  {
   "cell_type": "code",
   "execution_count": 17,
   "metadata": {
    "scrolled": true
   },
   "outputs": [
    {
     "data": {
      "text/html": [
       "2"
      ],
      "text/latex": [
       "2"
      ],
      "text/markdown": [
       "2"
      ],
      "text/plain": [
       "[1] 2"
      ]
     },
     "metadata": {},
     "output_type": "display_data"
    },
    {
     "data": {
      "text/html": [
       "2.70833333333333"
      ],
      "text/latex": [
       "2.70833333333333"
      ],
      "text/markdown": [
       "2.70833333333333"
      ],
      "text/plain": [
       "[1] 2.708333"
      ]
     },
     "metadata": {},
     "output_type": "display_data"
    },
    {
     "data": {
      "text/html": [
       "2.71828152557319"
      ],
      "text/latex": [
       "2.71828152557319"
      ],
      "text/markdown": [
       "2.71828152557319"
      ],
      "text/plain": [
       "[1] 2.718282"
      ]
     },
     "metadata": {},
     "output_type": "display_data"
    },
    {
     "data": {
      "text/html": [
       "2.71828182845905"
      ],
      "text/latex": [
       "2.71828182845905"
      ],
      "text/markdown": [
       "2.71828182845905"
      ],
      "text/plain": [
       "[1] 2.718282"
      ]
     },
     "metadata": {},
     "output_type": "display_data"
    }
   ],
   "source": [
    "# use for loop to compute e\n",
    "# e = 1/0! + 1/1! + 1/2! + 1/3! +  1/4! + ...\n",
    "\n",
    "e <- function(n){\n",
    "    factorial=1\n",
    "    total=1\n",
    "    for (i in seq_len(n)){\n",
    "        factorial = factorial*i\n",
    "        total = total + 1/factorial\n",
    "    }    \n",
    "    total\n",
    "}\n",
    "\n",
    "e(1)\n",
    "e(4)\n",
    "e(9)\n",
    "e(30)"
   ]
  },
  {
   "cell_type": "code",
   "execution_count": 18,
   "metadata": {
    "scrolled": true
   },
   "outputs": [
    {
     "data": {
      "text/html": [
       "<pre class=language-r><code>function (X, MARGIN, FUN, ...) \n",
       "{\n",
       "<span style=white-space:pre-wrap>    FUN &lt;- match.fun(FUN)</span>\n",
       "<span style=white-space:pre-wrap>    dl &lt;- length(dim(X))</span>\n",
       "<span style=white-space:pre-wrap>    if (!dl) </span>\n",
       "<span style=white-space:pre-wrap>        stop(\"dim(X) must have a positive length\")</span>\n",
       "<span style=white-space:pre-wrap>    if (is.object(X)) </span>\n",
       "<span style=white-space:pre-wrap>        X &lt;- if (dl == 2L) </span>\n",
       "<span style=white-space:pre-wrap>            as.matrix(X)</span>\n",
       "<span style=white-space:pre-wrap>        else as.array(X)</span>\n",
       "<span style=white-space:pre-wrap>    d &lt;- dim(X)</span>\n",
       "<span style=white-space:pre-wrap>    dn &lt;- dimnames(X)</span>\n",
       "<span style=white-space:pre-wrap>    ds &lt;- seq_len(dl)</span>\n",
       "<span style=white-space:pre-wrap>    if (is.character(MARGIN)) {</span>\n",
       "<span style=white-space:pre-wrap>        if (is.null(dnn &lt;- names(dn))) </span>\n",
       "<span style=white-space:pre-wrap>            stop(\"'X' must have named dimnames\")</span>\n",
       "<span style=white-space:pre-wrap>        MARGIN &lt;- match(MARGIN, dnn)</span>\n",
       "<span style=white-space:pre-wrap>        if (anyNA(MARGIN)) </span>\n",
       "<span style=white-space:pre-wrap>            stop(\"not all elements of 'MARGIN' are names of dimensions\")</span>\n",
       "<span style=white-space:pre-wrap>    }</span>\n",
       "<span style=white-space:pre-wrap>    d.call &lt;- d[-MARGIN]</span>\n",
       "<span style=white-space:pre-wrap>    d.ans &lt;- d[MARGIN]</span>\n",
       "<span style=white-space:pre-wrap>    if (anyNA(d.call) || anyNA(d.ans)) </span>\n",
       "<span style=white-space:pre-wrap>        stop(\"'MARGIN' does not match dim(X)\")</span>\n",
       "<span style=white-space:pre-wrap>    s.call &lt;- ds[-MARGIN]</span>\n",
       "<span style=white-space:pre-wrap>    s.ans &lt;- ds[MARGIN]</span>\n",
       "<span style=white-space:pre-wrap>    dn.call &lt;- dn[-MARGIN]</span>\n",
       "<span style=white-space:pre-wrap>    dn.ans &lt;- dn[MARGIN]</span>\n",
       "<span style=white-space:pre-wrap>    d2 &lt;- prod(d.ans)</span>\n",
       "<span style=white-space:pre-wrap>    if (d2 == 0L) {</span>\n",
       "<span style=white-space:pre-wrap>        newX &lt;- array(vector(typeof(X), 1L), dim = c(prod(d.call), </span>\n",
       "<span style=white-space:pre-wrap>            1L))</span>\n",
       "<span style=white-space:pre-wrap>        ans &lt;- forceAndCall(1, FUN, if (length(d.call) &lt; 2L) newX[, </span>\n",
       "<span style=white-space:pre-wrap>            1] else array(newX[, 1L], d.call, dn.call), ...)</span>\n",
       "<span style=white-space:pre-wrap>        return(if (is.null(ans)) ans else if (length(d.ans) &lt; </span>\n",
       "<span style=white-space:pre-wrap>            2L) ans[1L][-1L] else array(ans, d.ans, dn.ans))</span>\n",
       "<span style=white-space:pre-wrap>    }</span>\n",
       "<span style=white-space:pre-wrap>    newX &lt;- aperm(X, c(s.call, s.ans))</span>\n",
       "<span style=white-space:pre-wrap>    dim(newX) &lt;- c(prod(d.call), d2)</span>\n",
       "<span style=white-space:pre-wrap>    ans &lt;- vector(\"list\", d2)</span>\n",
       "<span style=white-space:pre-wrap>    if (length(d.call) &lt; 2L) {</span>\n",
       "<span style=white-space:pre-wrap>        if (length(dn.call)) </span>\n",
       "<span style=white-space:pre-wrap>            dimnames(newX) &lt;- c(dn.call, list(NULL))</span>\n",
       "<span style=white-space:pre-wrap>        for (i in 1L:d2) {</span>\n",
       "<span style=white-space:pre-wrap>            tmp &lt;- forceAndCall(1, FUN, newX[, i], ...)</span>\n",
       "<span style=white-space:pre-wrap>            if (!is.null(tmp)) </span>\n",
       "<span style=white-space:pre-wrap>                ans[[i]] &lt;- tmp</span>\n",
       "<span style=white-space:pre-wrap>        }</span>\n",
       "<span style=white-space:pre-wrap>    }</span>\n",
       "<span style=white-space:pre-wrap>    else for (i in 1L:d2) {</span>\n",
       "<span style=white-space:pre-wrap>        tmp &lt;- forceAndCall(1, FUN, array(newX[, i], d.call, </span>\n",
       "<span style=white-space:pre-wrap>            dn.call), ...)</span>\n",
       "<span style=white-space:pre-wrap>        if (!is.null(tmp)) </span>\n",
       "<span style=white-space:pre-wrap>            ans[[i]] &lt;- tmp</span>\n",
       "<span style=white-space:pre-wrap>    }</span>\n",
       "<span style=white-space:pre-wrap>    ans.list &lt;- is.recursive(ans[[1L]])</span>\n",
       "<span style=white-space:pre-wrap>    l.ans &lt;- length(ans[[1L]])</span>\n",
       "<span style=white-space:pre-wrap>    ans.names &lt;- names(ans[[1L]])</span>\n",
       "<span style=white-space:pre-wrap>    if (!ans.list) </span>\n",
       "<span style=white-space:pre-wrap>        ans.list &lt;- any(lengths(ans) != l.ans)</span>\n",
       "<span style=white-space:pre-wrap>    if (!ans.list &amp;&amp; length(ans.names)) {</span>\n",
       "<span style=white-space:pre-wrap>        all.same &lt;- vapply(ans, function(x) identical(names(x), </span>\n",
       "<span style=white-space:pre-wrap>            ans.names), NA)</span>\n",
       "<span style=white-space:pre-wrap>        if (!all(all.same)) </span>\n",
       "<span style=white-space:pre-wrap>            ans.names &lt;- NULL</span>\n",
       "<span style=white-space:pre-wrap>    }</span>\n",
       "<span style=white-space:pre-wrap>    len.a &lt;- if (ans.list) </span>\n",
       "<span style=white-space:pre-wrap>        d2</span>\n",
       "<span style=white-space:pre-wrap>    else length(ans &lt;- unlist(ans, recursive = FALSE))</span>\n",
       "<span style=white-space:pre-wrap>    if (length(MARGIN) == 1L &amp;&amp; len.a == d2) {</span>\n",
       "<span style=white-space:pre-wrap>        names(ans) &lt;- if (length(dn.ans[[1L]])) </span>\n",
       "<span style=white-space:pre-wrap>            dn.ans[[1L]]</span>\n",
       "<span style=white-space:pre-wrap>        ans</span>\n",
       "<span style=white-space:pre-wrap>    }</span>\n",
       "<span style=white-space:pre-wrap>    else if (len.a == d2) </span>\n",
       "<span style=white-space:pre-wrap>        array(ans, d.ans, dn.ans)</span>\n",
       "<span style=white-space:pre-wrap>    else if (len.a &amp;&amp; len.a%%d2 == 0L) {</span>\n",
       "<span style=white-space:pre-wrap>        if (is.null(dn.ans)) </span>\n",
       "<span style=white-space:pre-wrap>            dn.ans &lt;- vector(mode = \"list\", length(d.ans))</span>\n",
       "<span style=white-space:pre-wrap>        dn1 &lt;- list(ans.names)</span>\n",
       "<span style=white-space:pre-wrap>        if (length(dn.call) &amp;&amp; !is.null(n1 &lt;- names(dn &lt;- dn.call[1])) &amp;&amp; </span>\n",
       "<span style=white-space:pre-wrap>            nzchar(n1) &amp;&amp; length(ans.names) == length(dn[[1]])) </span>\n",
       "<span style=white-space:pre-wrap>            names(dn1) &lt;- n1</span>\n",
       "<span style=white-space:pre-wrap>        dn.ans &lt;- c(dn1, dn.ans)</span>\n",
       "<span style=white-space:pre-wrap>        array(ans, c(len.a%/%d2, d.ans), if (!is.null(names(dn.ans)) || </span>\n",
       "<span style=white-space:pre-wrap>            !all(vapply(dn.ans, is.null, NA))) </span>\n",
       "<span style=white-space:pre-wrap>            dn.ans)</span>\n",
       "<span style=white-space:pre-wrap>    }</span>\n",
       "<span style=white-space:pre-wrap>    else ans</span>\n",
       "}</code></pre>"
      ],
      "text/latex": [
       "\\begin{minted}{r}\n",
       "function (X, MARGIN, FUN, ...) \n",
       "\\{\n",
       "    FUN <- match.fun(FUN)\n",
       "    dl <- length(dim(X))\n",
       "    if (!dl) \n",
       "        stop(\"dim(X) must have a positive length\")\n",
       "    if (is.object(X)) \n",
       "        X <- if (dl == 2L) \n",
       "            as.matrix(X)\n",
       "        else as.array(X)\n",
       "    d <- dim(X)\n",
       "    dn <- dimnames(X)\n",
       "    ds <- seq\\_len(dl)\n",
       "    if (is.character(MARGIN)) \\{\n",
       "        if (is.null(dnn <- names(dn))) \n",
       "            stop(\"'X' must have named dimnames\")\n",
       "        MARGIN <- match(MARGIN, dnn)\n",
       "        if (anyNA(MARGIN)) \n",
       "            stop(\"not all elements of 'MARGIN' are names of dimensions\")\n",
       "    \\}\n",
       "    d.call <- d{[}-MARGIN{]}\n",
       "    d.ans <- d{[}MARGIN{]}\n",
       "    if (anyNA(d.call) \\textbar{}\\textbar{} anyNA(d.ans)) \n",
       "        stop(\"'MARGIN' does not match dim(X)\")\n",
       "    s.call <- ds{[}-MARGIN{]}\n",
       "    s.ans <- ds{[}MARGIN{]}\n",
       "    dn.call <- dn{[}-MARGIN{]}\n",
       "    dn.ans <- dn{[}MARGIN{]}\n",
       "    d2 <- prod(d.ans)\n",
       "    if (d2 == 0L) \\{\n",
       "        newX <- array(vector(typeof(X), 1L), dim = c(prod(d.call), \n",
       "            1L))\n",
       "        ans <- forceAndCall(1, FUN, if (length(d.call) < 2L) newX{[}, \n",
       "            1{]} else array(newX{[}, 1L{]}, d.call, dn.call), ...)\n",
       "        return(if (is.null(ans)) ans else if (length(d.ans) < \n",
       "            2L) ans{[}1L{]}{[}-1L{]} else array(ans, d.ans, dn.ans))\n",
       "    \\}\n",
       "    newX <- aperm(X, c(s.call, s.ans))\n",
       "    dim(newX) <- c(prod(d.call), d2)\n",
       "    ans <- vector(\"list\", d2)\n",
       "    if (length(d.call) < 2L) \\{\n",
       "        if (length(dn.call)) \n",
       "            dimnames(newX) <- c(dn.call, list(NULL))\n",
       "        for (i in 1L:d2) \\{\n",
       "            tmp <- forceAndCall(1, FUN, newX{[}, i{]}, ...)\n",
       "            if (!is.null(tmp)) \n",
       "                ans{[}{[}i{]}{]} <- tmp\n",
       "        \\}\n",
       "    \\}\n",
       "    else for (i in 1L:d2) \\{\n",
       "        tmp <- forceAndCall(1, FUN, array(newX{[}, i{]}, d.call, \n",
       "            dn.call), ...)\n",
       "        if (!is.null(tmp)) \n",
       "            ans{[}{[}i{]}{]} <- tmp\n",
       "    \\}\n",
       "    ans.list <- is.recursive(ans{[}{[}1L{]}{]})\n",
       "    l.ans <- length(ans{[}{[}1L{]}{]})\n",
       "    ans.names <- names(ans{[}{[}1L{]}{]})\n",
       "    if (!ans.list) \n",
       "        ans.list <- any(lengths(ans) != l.ans)\n",
       "    if (!ans.list \\&\\& length(ans.names)) \\{\n",
       "        all.same <- vapply(ans, function(x) identical(names(x), \n",
       "            ans.names), NA)\n",
       "        if (!all(all.same)) \n",
       "            ans.names <- NULL\n",
       "    \\}\n",
       "    len.a <- if (ans.list) \n",
       "        d2\n",
       "    else length(ans <- unlist(ans, recursive = FALSE))\n",
       "    if (length(MARGIN) == 1L \\&\\& len.a == d2) \\{\n",
       "        names(ans) <- if (length(dn.ans{[}{[}1L{]}{]})) \n",
       "            dn.ans{[}{[}1L{]}{]}\n",
       "        ans\n",
       "    \\}\n",
       "    else if (len.a == d2) \n",
       "        array(ans, d.ans, dn.ans)\n",
       "    else if (len.a \\&\\& len.a\\%\\%d2 == 0L) \\{\n",
       "        if (is.null(dn.ans)) \n",
       "            dn.ans <- vector(mode = \"list\", length(d.ans))\n",
       "        dn1 <- list(ans.names)\n",
       "        if (length(dn.call) \\&\\& !is.null(n1 <- names(dn <- dn.call{[}1{]})) \\&\\& \n",
       "            nzchar(n1) \\&\\& length(ans.names) == length(dn{[}{[}1{]}{]})) \n",
       "            names(dn1) <- n1\n",
       "        dn.ans <- c(dn1, dn.ans)\n",
       "        array(ans, c(len.a\\%/\\%d2, d.ans), if (!is.null(names(dn.ans)) \\textbar{}\\textbar{} \n",
       "            !all(vapply(dn.ans, is.null, NA))) \n",
       "            dn.ans)\n",
       "    \\}\n",
       "    else ans\n",
       "\\}\n",
       "\\end{minted}"
      ],
      "text/markdown": [
       "```r\n",
       "function (X, MARGIN, FUN, ...) \n",
       "{\n",
       "    FUN <- match.fun(FUN)\n",
       "    dl <- length(dim(X))\n",
       "    if (!dl) \n",
       "        stop(\"dim(X) must have a positive length\")\n",
       "    if (is.object(X)) \n",
       "        X <- if (dl == 2L) \n",
       "            as.matrix(X)\n",
       "        else as.array(X)\n",
       "    d <- dim(X)\n",
       "    dn <- dimnames(X)\n",
       "    ds <- seq_len(dl)\n",
       "    if (is.character(MARGIN)) {\n",
       "        if (is.null(dnn <- names(dn))) \n",
       "            stop(\"'X' must have named dimnames\")\n",
       "        MARGIN <- match(MARGIN, dnn)\n",
       "        if (anyNA(MARGIN)) \n",
       "            stop(\"not all elements of 'MARGIN' are names of dimensions\")\n",
       "    }\n",
       "    d.call <- d[-MARGIN]\n",
       "    d.ans <- d[MARGIN]\n",
       "    if (anyNA(d.call) || anyNA(d.ans)) \n",
       "        stop(\"'MARGIN' does not match dim(X)\")\n",
       "    s.call <- ds[-MARGIN]\n",
       "    s.ans <- ds[MARGIN]\n",
       "    dn.call <- dn[-MARGIN]\n",
       "    dn.ans <- dn[MARGIN]\n",
       "    d2 <- prod(d.ans)\n",
       "    if (d2 == 0L) {\n",
       "        newX <- array(vector(typeof(X), 1L), dim = c(prod(d.call), \n",
       "            1L))\n",
       "        ans <- forceAndCall(1, FUN, if (length(d.call) < 2L) newX[, \n",
       "            1] else array(newX[, 1L], d.call, dn.call), ...)\n",
       "        return(if (is.null(ans)) ans else if (length(d.ans) < \n",
       "            2L) ans[1L][-1L] else array(ans, d.ans, dn.ans))\n",
       "    }\n",
       "    newX <- aperm(X, c(s.call, s.ans))\n",
       "    dim(newX) <- c(prod(d.call), d2)\n",
       "    ans <- vector(\"list\", d2)\n",
       "    if (length(d.call) < 2L) {\n",
       "        if (length(dn.call)) \n",
       "            dimnames(newX) <- c(dn.call, list(NULL))\n",
       "        for (i in 1L:d2) {\n",
       "            tmp <- forceAndCall(1, FUN, newX[, i], ...)\n",
       "            if (!is.null(tmp)) \n",
       "                ans[[i]] <- tmp\n",
       "        }\n",
       "    }\n",
       "    else for (i in 1L:d2) {\n",
       "        tmp <- forceAndCall(1, FUN, array(newX[, i], d.call, \n",
       "            dn.call), ...)\n",
       "        if (!is.null(tmp)) \n",
       "            ans[[i]] <- tmp\n",
       "    }\n",
       "    ans.list <- is.recursive(ans[[1L]])\n",
       "    l.ans <- length(ans[[1L]])\n",
       "    ans.names <- names(ans[[1L]])\n",
       "    if (!ans.list) \n",
       "        ans.list <- any(lengths(ans) != l.ans)\n",
       "    if (!ans.list && length(ans.names)) {\n",
       "        all.same <- vapply(ans, function(x) identical(names(x), \n",
       "            ans.names), NA)\n",
       "        if (!all(all.same)) \n",
       "            ans.names <- NULL\n",
       "    }\n",
       "    len.a <- if (ans.list) \n",
       "        d2\n",
       "    else length(ans <- unlist(ans, recursive = FALSE))\n",
       "    if (length(MARGIN) == 1L && len.a == d2) {\n",
       "        names(ans) <- if (length(dn.ans[[1L]])) \n",
       "            dn.ans[[1L]]\n",
       "        ans\n",
       "    }\n",
       "    else if (len.a == d2) \n",
       "        array(ans, d.ans, dn.ans)\n",
       "    else if (len.a && len.a%%d2 == 0L) {\n",
       "        if (is.null(dn.ans)) \n",
       "            dn.ans <- vector(mode = \"list\", length(d.ans))\n",
       "        dn1 <- list(ans.names)\n",
       "        if (length(dn.call) && !is.null(n1 <- names(dn <- dn.call[1])) && \n",
       "            nzchar(n1) && length(ans.names) == length(dn[[1]])) \n",
       "            names(dn1) <- n1\n",
       "        dn.ans <- c(dn1, dn.ans)\n",
       "        array(ans, c(len.a%/%d2, d.ans), if (!is.null(names(dn.ans)) || \n",
       "            !all(vapply(dn.ans, is.null, NA))) \n",
       "            dn.ans)\n",
       "    }\n",
       "    else ans\n",
       "}\n",
       "```"
      ],
      "text/plain": [
       "function (X, MARGIN, FUN, ...) \n",
       "{\n",
       "    FUN <- match.fun(FUN)\n",
       "    dl <- length(dim(X))\n",
       "    if (!dl) \n",
       "        stop(\"dim(X) must have a positive length\")\n",
       "    if (is.object(X)) \n",
       "        X <- if (dl == 2L) \n",
       "            as.matrix(X)\n",
       "        else as.array(X)\n",
       "    d <- dim(X)\n",
       "    dn <- dimnames(X)\n",
       "    ds <- seq_len(dl)\n",
       "    if (is.character(MARGIN)) {\n",
       "        if (is.null(dnn <- names(dn))) \n",
       "            stop(\"'X' must have named dimnames\")\n",
       "        MARGIN <- match(MARGIN, dnn)\n",
       "        if (anyNA(MARGIN)) \n",
       "            stop(\"not all elements of 'MARGIN' are names of dimensions\")\n",
       "    }\n",
       "    d.call <- d[-MARGIN]\n",
       "    d.ans <- d[MARGIN]\n",
       "    if (anyNA(d.call) || anyNA(d.ans)) \n",
       "        stop(\"'MARGIN' does not match dim(X)\")\n",
       "    s.call <- ds[-MARGIN]\n",
       "    s.ans <- ds[MARGIN]\n",
       "    dn.call <- dn[-MARGIN]\n",
       "    dn.ans <- dn[MARGIN]\n",
       "    d2 <- prod(d.ans)\n",
       "    if (d2 == 0L) {\n",
       "        newX <- array(vector(typeof(X), 1L), dim = c(prod(d.call), \n",
       "            1L))\n",
       "        ans <- forceAndCall(1, FUN, if (length(d.call) < 2L) newX[, \n",
       "            1] else array(newX[, 1L], d.call, dn.call), ...)\n",
       "        return(if (is.null(ans)) ans else if (length(d.ans) < \n",
       "            2L) ans[1L][-1L] else array(ans, d.ans, dn.ans))\n",
       "    }\n",
       "    newX <- aperm(X, c(s.call, s.ans))\n",
       "    dim(newX) <- c(prod(d.call), d2)\n",
       "    ans <- vector(\"list\", d2)\n",
       "    if (length(d.call) < 2L) {\n",
       "        if (length(dn.call)) \n",
       "            dimnames(newX) <- c(dn.call, list(NULL))\n",
       "        for (i in 1L:d2) {\n",
       "            tmp <- forceAndCall(1, FUN, newX[, i], ...)\n",
       "            if (!is.null(tmp)) \n",
       "                ans[[i]] <- tmp\n",
       "        }\n",
       "    }\n",
       "    else for (i in 1L:d2) {\n",
       "        tmp <- forceAndCall(1, FUN, array(newX[, i], d.call, \n",
       "            dn.call), ...)\n",
       "        if (!is.null(tmp)) \n",
       "            ans[[i]] <- tmp\n",
       "    }\n",
       "    ans.list <- is.recursive(ans[[1L]])\n",
       "    l.ans <- length(ans[[1L]])\n",
       "    ans.names <- names(ans[[1L]])\n",
       "    if (!ans.list) \n",
       "        ans.list <- any(lengths(ans) != l.ans)\n",
       "    if (!ans.list && length(ans.names)) {\n",
       "        all.same <- vapply(ans, function(x) identical(names(x), \n",
       "            ans.names), NA)\n",
       "        if (!all(all.same)) \n",
       "            ans.names <- NULL\n",
       "    }\n",
       "    len.a <- if (ans.list) \n",
       "        d2\n",
       "    else length(ans <- unlist(ans, recursive = FALSE))\n",
       "    if (length(MARGIN) == 1L && len.a == d2) {\n",
       "        names(ans) <- if (length(dn.ans[[1L]])) \n",
       "            dn.ans[[1L]]\n",
       "        ans\n",
       "    }\n",
       "    else if (len.a == d2) \n",
       "        array(ans, d.ans, dn.ans)\n",
       "    else if (len.a && len.a%%d2 == 0L) {\n",
       "        if (is.null(dn.ans)) \n",
       "            dn.ans <- vector(mode = \"list\", length(d.ans))\n",
       "        dn1 <- list(ans.names)\n",
       "        if (length(dn.call) && !is.null(n1 <- names(dn <- dn.call[1])) && \n",
       "            nzchar(n1) && length(ans.names) == length(dn[[1]])) \n",
       "            names(dn1) <- n1\n",
       "        dn.ans <- c(dn1, dn.ans)\n",
       "        array(ans, c(len.a%/%d2, d.ans), if (!is.null(names(dn.ans)) || \n",
       "            !all(vapply(dn.ans, is.null, NA))) \n",
       "            dn.ans)\n",
       "    }\n",
       "    else ans\n",
       "}\n",
       "<bytecode: 0x000000001592b488>\n",
       "<environment: namespace:base>"
      ]
     },
     "metadata": {},
     "output_type": "display_data"
    }
   ],
   "source": [
    "apply"
   ]
  },
  {
   "cell_type": "code",
   "execution_count": 19,
   "metadata": {
    "scrolled": false
   },
   "outputs": [
    {
     "name": "stdout",
     "output_type": "stream",
     "text": [
      "     [,1] [,2] [,3] [,4]\n",
      "[1,]    1    4    7   10\n",
      "[2,]    2    5    8   11\n",
      "[3,]    3    6    9   12\n"
     ]
    }
   ],
   "source": [
    "a=matrix(1:12, c(3,4))\n",
    "print(a)"
   ]
  },
  {
   "cell_type": "code",
   "execution_count": 20,
   "metadata": {
    "scrolled": true
   },
   "outputs": [
    {
     "name": "stdout",
     "output_type": "stream",
     "text": [
      "[1] 22 26 30\n"
     ]
    }
   ],
   "source": [
    "x=apply(a, 1, sum) #apply function \"sum\" on each row, i.e., keep dim 1\n",
    "print(x)"
   ]
  },
  {
   "cell_type": "code",
   "execution_count": 21,
   "metadata": {
    "scrolled": false
   },
   "outputs": [
    {
     "data": {
      "text/html": [
       "'numeric'"
      ],
      "text/latex": [
       "'numeric'"
      ],
      "text/markdown": [
       "'numeric'"
      ],
      "text/plain": [
       "[1] \"numeric\""
      ]
     },
     "metadata": {},
     "output_type": "display_data"
    },
    {
     "name": "stdout",
     "output_type": "stream",
     "text": [
      "[1]  2  5  8 11\n"
     ]
    }
   ],
   "source": [
    "x=apply(a, 2, mean) #apply function \"sum\" on each column, i.e., keep dim 2\n",
    "class(x)\n",
    "print(x)"
   ]
  },
  {
   "cell_type": "code",
   "execution_count": 5,
   "metadata": {
    "scrolled": false
   },
   "outputs": [
    {
     "name": "stdout",
     "output_type": "stream",
     "text": [
      ", , 1\n",
      "\n",
      "     [,1] [,2]\n",
      "[1,]    1    3\n",
      "[2,]    2    4\n",
      "\n",
      ", , 2\n",
      "\n",
      "     [,1] [,2]\n",
      "[1,]    5    7\n",
      "[2,]    6    8\n",
      "\n",
      ", , 3\n",
      "\n",
      "     [,1] [,2]\n",
      "[1,]    9   11\n",
      "[2,]   10   12\n",
      "\n"
     ]
    }
   ],
   "source": [
    "a=array(1:(2 * 2 * 3), c(2, 2, 3))\n",
    "print(a)\n"
   ]
  },
  {
   "cell_type": "code",
   "execution_count": 6,
   "metadata": {},
   "outputs": [
    {
     "name": "stdout",
     "output_type": "stream",
     "text": [
      "     [,1] [,2]\n",
      "[1,]   15   21\n",
      "[2,]   18   24\n"
     ]
    }
   ],
   "source": [
    "x=apply(a, c(1, 2), sum) #keep dim 1 and 2\n",
    "print(x)"
   ]
  },
  {
   "cell_type": "code",
   "execution_count": 23,
   "metadata": {},
   "outputs": [
    {
     "name": "stdout",
     "output_type": "stream",
     "text": [
      "     [,1] [,2] [,3]\n",
      "[1,]    3   11   19\n",
      "[2,]    7   15   23\n"
     ]
    }
   ],
   "source": [
    "x=apply(a, c(2, 3), sum)\n",
    "print(x)"
   ]
  },
  {
   "cell_type": "code",
   "execution_count": 24,
   "metadata": {
    "scrolled": false
   },
   "outputs": [
    {
     "name": "stdout",
     "output_type": "stream",
     "text": [
      ", , 1\n",
      "\n",
      "     [,1] [,2]\n",
      "[1,]    1    3\n",
      "[2,]    2    4\n",
      "\n",
      ", , 2\n",
      "\n",
      "     [,1] [,2]\n",
      "[1,]    5    7\n",
      "[2,]    6    8\n",
      "\n",
      ", , 3\n",
      "\n",
      "     [,1] [,2]\n",
      "[1,]    9   11\n",
      "[2,]   10   12\n",
      "\n"
     ]
    },
    {
     "data": {
      "text/html": [
       "'matrix'"
      ],
      "text/latex": [
       "'matrix'"
      ],
      "text/markdown": [
       "'matrix'"
      ],
      "text/plain": [
       "[1] \"matrix\""
      ]
     },
     "metadata": {},
     "output_type": "display_data"
    },
    {
     "name": "stdout",
     "output_type": "stream",
     "text": [
      "     [,1] [,2]\n",
      "[1,]    1    4\n",
      "[2,]    9   16\n",
      "[3,]   25   36\n",
      "[4,]   49   64\n",
      "[5,]   81  100\n",
      "[6,]  121  144\n"
     ]
    }
   ],
   "source": [
    "print(a)\n",
    "x=apply(a, 1, function(x) {x^2})\n",
    "class(x)\n",
    "print(x)"
   ]
  },
  {
   "cell_type": "code",
   "execution_count": 25,
   "metadata": {
    "scrolled": true
   },
   "outputs": [
    {
     "name": "stdout",
     "output_type": "stream",
     "text": [
      "[1] \"the input is\"\n",
      "     [,1] [,2] [,3]\n",
      "[1,]    1    5    9\n",
      "[2,]    3    7   11\n",
      "     [,1] [,2] [,3]\n",
      "[1,]    1   25   81\n",
      "[2,]    9   49  121\n",
      "[1] \"the input is\"\n",
      "     [,1] [,2] [,3]\n",
      "[1,]    2    6   10\n",
      "[2,]    4    8   12\n",
      "     [,1] [,2] [,3]\n",
      "[1,]    4   36  100\n",
      "[2,]   16   64  144\n"
     ]
    },
    {
     "data": {
      "text/html": [
       "'matrix'"
      ],
      "text/latex": [
       "'matrix'"
      ],
      "text/markdown": [
       "'matrix'"
      ],
      "text/plain": [
       "[1] \"matrix\""
      ]
     },
     "metadata": {},
     "output_type": "display_data"
    }
   ],
   "source": [
    "x=apply(a, 1, function(x) {print(\"the input is\");print(x); print(x^2);x^2})\n",
    "class(x)"
   ]
  },
  {
   "cell_type": "code",
   "execution_count": 26,
   "metadata": {
    "scrolled": false
   },
   "outputs": [
    {
     "data": {
      "text/html": [
       "<table>\n",
       "<caption>A matrix: 8 × 2 of type dbl</caption>\n",
       "<thead>\n",
       "\t<tr><th scope=col>x1</th><th scope=col>x2</th></tr>\n",
       "</thead>\n",
       "<tbody>\n",
       "\t<tr><td>3</td><td>4</td></tr>\n",
       "\t<tr><td>3</td><td>3</td></tr>\n",
       "\t<tr><td>3</td><td>2</td></tr>\n",
       "\t<tr><td>3</td><td>1</td></tr>\n",
       "\t<tr><td>3</td><td>2</td></tr>\n",
       "\t<tr><td>3</td><td>3</td></tr>\n",
       "\t<tr><td>3</td><td>4</td></tr>\n",
       "\t<tr><td>3</td><td>5</td></tr>\n",
       "</tbody>\n",
       "</table>\n"
      ],
      "text/latex": [
       "A matrix: 8 × 2 of type dbl\n",
       "\\begin{tabular}{ll}\n",
       " x1 & x2\\\\\n",
       "\\hline\n",
       "\t 3 & 4\\\\\n",
       "\t 3 & 3\\\\\n",
       "\t 3 & 2\\\\\n",
       "\t 3 & 1\\\\\n",
       "\t 3 & 2\\\\\n",
       "\t 3 & 3\\\\\n",
       "\t 3 & 4\\\\\n",
       "\t 3 & 5\\\\\n",
       "\\end{tabular}\n"
      ],
      "text/markdown": [
       "\n",
       "A matrix: 8 × 2 of type dbl\n",
       "\n",
       "| x1 | x2 |\n",
       "|---|---|\n",
       "| 3 | 4 |\n",
       "| 3 | 3 |\n",
       "| 3 | 2 |\n",
       "| 3 | 1 |\n",
       "| 3 | 2 |\n",
       "| 3 | 3 |\n",
       "| 3 | 4 |\n",
       "| 3 | 5 |\n",
       "\n"
      ],
      "text/plain": [
       "     x1 x2\n",
       "[1,] 3  4 \n",
       "[2,] 3  3 \n",
       "[3,] 3  2 \n",
       "[4,] 3  1 \n",
       "[5,] 3  2 \n",
       "[6,] 3  3 \n",
       "[7,] 3  4 \n",
       "[8,] 3  5 "
      ]
     },
     "metadata": {},
     "output_type": "display_data"
    },
    {
     "data": {
      "text/html": [
       "'matrix'"
      ],
      "text/latex": [
       "'matrix'"
      ],
      "text/markdown": [
       "'matrix'"
      ],
      "text/plain": [
       "[1] \"matrix\""
      ]
     },
     "metadata": {},
     "output_type": "display_data"
    },
    {
     "name": "stdout",
     "output_type": "stream",
     "text": [
      "x1 x2 \n",
      " 3  4 \n",
      "x1 x2 \n",
      " 3  3 \n",
      "x1 x2 \n",
      " 3  2 \n",
      "x1 x2 \n",
      " 3  1 \n",
      "x1 x2 \n",
      " 3  2 \n",
      "x1 x2 \n",
      " 3  3 \n",
      "x1 x2 \n",
      " 3  4 \n",
      "x1 x2 \n",
      " 3  5 \n"
     ]
    },
    {
     "data": {
      "text/html": [
       "<table>\n",
       "<caption>A matrix: 2 × 8 of type dbl</caption>\n",
       "<tbody>\n",
       "\t<tr><td>4.0</td><td>4</td><td>4.0</td><td>4</td><td>4.0</td><td>4</td><td>4.0</td><td>4</td></tr>\n",
       "\t<tr><td>3.5</td><td>3</td><td>2.5</td><td>2</td><td>2.5</td><td>3</td><td>3.5</td><td>4</td></tr>\n",
       "</tbody>\n",
       "</table>\n"
      ],
      "text/latex": [
       "A matrix: 2 × 8 of type dbl\n",
       "\\begin{tabular}{llllllll}\n",
       "\t 4.0 & 4 & 4.0 & 4 & 4.0 & 4 & 4.0 & 4\\\\\n",
       "\t 3.5 & 3 & 2.5 & 2 & 2.5 & 3 & 3.5 & 4\\\\\n",
       "\\end{tabular}\n"
      ],
      "text/markdown": [
       "\n",
       "A matrix: 2 × 8 of type dbl\n",
       "\n",
       "| 4.0 | 4 | 4.0 | 4 | 4.0 | 4 | 4.0 | 4 |\n",
       "| 3.5 | 3 | 2.5 | 2 | 2.5 | 3 | 3.5 | 4 |\n",
       "\n"
      ],
      "text/plain": [
       "     [,1] [,2] [,3] [,4] [,5] [,6] [,7] [,8]\n",
       "[1,] 4.0  4    4.0  4    4.0  4    4.0  4   \n",
       "[2,] 3.5  3    2.5  2    2.5  3    3.5  4   "
      ]
     },
     "metadata": {},
     "output_type": "display_data"
    }
   ],
   "source": [
    "x <- cbind(x1 = 3, x2 = c(4:1, 2:5)); x\n",
    "class(x)\n",
    "myFUN<- function(x, c1, c2) {\n",
    "  print(x)\n",
    "  c(sum(x[c1],1), mean(x[c2]))\n",
    "  }\n",
    "apply(x,1,myFUN,c1='x1',c2=c('x1','x2')) #pass c1 and c2 into myFUN"
   ]
  },
  {
   "cell_type": "code",
   "execution_count": 27,
   "metadata": {},
   "outputs": [
    {
     "data": {
      "text/plain": [
       "   user  system elapsed \n",
       "      0       0       0 "
      ]
     },
     "metadata": {},
     "output_type": "display_data"
    },
    {
     "data": {
      "text/plain": [
       "   user  system elapsed \n",
       "   0.10    0.00    0.09 "
      ]
     },
     "metadata": {},
     "output_type": "display_data"
    },
    {
     "data": {
      "text/plain": [
       "   user  system elapsed \n",
       "      0       0       0 "
      ]
     },
     "metadata": {},
     "output_type": "display_data"
    }
   ],
   "source": [
    "rm(list=ls())\n",
    "\n",
    "fun1<-function(x){\n",
    " myFUN<- function(x, c1, c2) {\n",
    " c(sum(x[c1],1), mean(x[c2]))\n",
    " }\n",
    " apply(x,1,myFUN,c1='x1',c2=c('x1','x2'))\n",
    " }\n",
    "\n",
    "fun2<-function(x){\n",
    " df<-data.frame()\n",
    " for(i in 1:nrow(x)){\n",
    " row<-x[i,]\n",
    " df<-rbind(df,rbind(c(sum(row[1],1), mean(row))))\n",
    " }\n",
    " }\n",
    "\n",
    "fun3<-function(x){\n",
    " data.frame(x1=x[,1]+1,x2=rowMeans(x))\n",
    " }\n",
    "\n",
    "x <- cbind(x1=3, x2 = c(400:1, 2:500))\n",
    "# cpu time\n",
    "system.time(fun1(x))\n",
    "system.time(fun2(x))\n",
    "system.time(fun3(x))"
   ]
  },
  {
   "cell_type": "code",
   "execution_count": 28,
   "metadata": {},
   "outputs": [
    {
     "data": {
      "text/html": [
       "<pre class=language-r><code>function (X, FUN, ...) \n",
       "{\n",
       "<span style=white-space:pre-wrap>    FUN &lt;- match.fun(FUN)</span>\n",
       "<span style=white-space:pre-wrap>    if (!is.vector(X) || is.object(X)) </span>\n",
       "<span style=white-space:pre-wrap>        X &lt;- as.list(X)</span>\n",
       "<span style=white-space:pre-wrap>    .Internal(lapply(X, FUN))</span>\n",
       "}</code></pre>"
      ],
      "text/latex": [
       "\\begin{minted}{r}\n",
       "function (X, FUN, ...) \n",
       "\\{\n",
       "    FUN <- match.fun(FUN)\n",
       "    if (!is.vector(X) \\textbar{}\\textbar{} is.object(X)) \n",
       "        X <- as.list(X)\n",
       "    .Internal(lapply(X, FUN))\n",
       "\\}\n",
       "\\end{minted}"
      ],
      "text/markdown": [
       "```r\n",
       "function (X, FUN, ...) \n",
       "{\n",
       "    FUN <- match.fun(FUN)\n",
       "    if (!is.vector(X) || is.object(X)) \n",
       "        X <- as.list(X)\n",
       "    .Internal(lapply(X, FUN))\n",
       "}\n",
       "```"
      ],
      "text/plain": [
       "function (X, FUN, ...) \n",
       "{\n",
       "    FUN <- match.fun(FUN)\n",
       "    if (!is.vector(X) || is.object(X)) \n",
       "        X <- as.list(X)\n",
       "    .Internal(lapply(X, FUN))\n",
       "}\n",
       "<bytecode: 0x00000000135ae438>\n",
       "<environment: namespace:base>"
      ]
     },
     "metadata": {},
     "output_type": "display_data"
    }
   ],
   "source": [
    "lapply"
   ]
  },
  {
   "cell_type": "code",
   "execution_count": 29,
   "metadata": {},
   "outputs": [
    {
     "data": {
      "text/html": [
       "<ol>\n",
       "\t<li>1</li>\n",
       "\t<li>1.4142135623731</li>\n",
       "\t<li>1.73205080756888</li>\n",
       "\t<li>2</li>\n",
       "\t<li>2.23606797749979</li>\n",
       "\t<li>2.44948974278318</li>\n",
       "\t<li>2.64575131106459</li>\n",
       "\t<li>2.82842712474619</li>\n",
       "\t<li>3</li>\n",
       "\t<li>3.16227766016838</li>\n",
       "</ol>\n"
      ],
      "text/latex": [
       "\\begin{enumerate}\n",
       "\\item 1\n",
       "\\item 1.4142135623731\n",
       "\\item 1.73205080756888\n",
       "\\item 2\n",
       "\\item 2.23606797749979\n",
       "\\item 2.44948974278318\n",
       "\\item 2.64575131106459\n",
       "\\item 2.82842712474619\n",
       "\\item 3\n",
       "\\item 3.16227766016838\n",
       "\\end{enumerate}\n"
      ],
      "text/markdown": [
       "1. 1\n",
       "2. 1.4142135623731\n",
       "3. 1.73205080756888\n",
       "4. 2\n",
       "5. 2.23606797749979\n",
       "6. 2.44948974278318\n",
       "7. 2.64575131106459\n",
       "8. 2.82842712474619\n",
       "9. 3\n",
       "10. 3.16227766016838\n",
       "\n",
       "\n"
      ],
      "text/plain": [
       "[[1]]\n",
       "[1] 1\n",
       "\n",
       "[[2]]\n",
       "[1] 1.414214\n",
       "\n",
       "[[3]]\n",
       "[1] 1.732051\n",
       "\n",
       "[[4]]\n",
       "[1] 2\n",
       "\n",
       "[[5]]\n",
       "[1] 2.236068\n",
       "\n",
       "[[6]]\n",
       "[1] 2.44949\n",
       "\n",
       "[[7]]\n",
       "[1] 2.645751\n",
       "\n",
       "[[8]]\n",
       "[1] 2.828427\n",
       "\n",
       "[[9]]\n",
       "[1] 3\n",
       "\n",
       "[[10]]\n",
       "[1] 3.162278\n"
      ]
     },
     "metadata": {},
     "output_type": "display_data"
    },
    {
     "data": {
      "text/html": [
       "'list'"
      ],
      "text/latex": [
       "'list'"
      ],
      "text/markdown": [
       "'list'"
      ],
      "text/plain": [
       "[1] \"list\""
      ]
     },
     "metadata": {},
     "output_type": "display_data"
    },
    {
     "name": "stdout",
     "output_type": "stream",
     "text": [
      "[[1]]\n",
      "[1] 1\n",
      "\n",
      "[[2]]\n",
      "[1] 1.414214\n",
      "\n",
      "[[3]]\n",
      "[1] 1.732051\n",
      "\n",
      "[[4]]\n",
      "[1] 2\n",
      "\n",
      "[[5]]\n",
      "[1] 2.236068\n",
      "\n",
      "[[6]]\n",
      "[1] 2.44949\n",
      "\n",
      "[[7]]\n",
      "[1] 2.645751\n",
      "\n",
      "[[8]]\n",
      "[1] 2.828427\n",
      "\n",
      "[[9]]\n",
      "[1] 3\n",
      "\n",
      "[[10]]\n",
      "[1] 3.162278\n",
      "\n"
     ]
    },
    {
     "data": {
      "text/html": [
       "'=============='"
      ],
      "text/latex": [
       "'=============='"
      ],
      "text/markdown": [
       "'=============='"
      ],
      "text/plain": [
       "[1] \"==============\""
      ]
     },
     "metadata": {},
     "output_type": "display_data"
    },
    {
     "name": "stdout",
     "output_type": "stream",
     "text": [
      "[1] 1.414214\n"
     ]
    }
   ],
   "source": [
    "x=lapply(1:10, sqrt); x  #vector 1:10 is converted to list internally\n",
    "class(x)\n",
    "print(x)\n",
    "\"==============\"\n",
    "print(x[[2]])"
   ]
  },
  {
   "cell_type": "code",
   "execution_count": 30,
   "metadata": {
    "scrolled": true
   },
   "outputs": [
    {
     "name": "stdout",
     "output_type": "stream",
     "text": [
      "[[1]]\n",
      "[1] 1\n",
      "\n",
      "[[2]]\n",
      "[1] 1 2\n",
      "\n",
      "[[3]]\n",
      "[1] 1 2 3\n",
      "\n",
      "[[4]]\n",
      "[1] 1 2 3 4\n",
      "\n",
      "[[5]]\n",
      "[1] 1 2 3 4 5\n",
      "\n"
     ]
    },
    {
     "data": {
      "text/html": [
       "<ol class=list-inline>\n",
       "\t<li>1</li>\n",
       "\t<li>2</li>\n",
       "\t<li>3</li>\n",
       "\t<li>4</li>\n",
       "\t<li>5</li>\n",
       "</ol>\n"
      ],
      "text/latex": [
       "\\begin{enumerate*}\n",
       "\\item 1\n",
       "\\item 2\n",
       "\\item 3\n",
       "\\item 4\n",
       "\\item 5\n",
       "\\end{enumerate*}\n"
      ],
      "text/markdown": [
       "1. 1\n",
       "2. 2\n",
       "3. 3\n",
       "4. 4\n",
       "5. 5\n",
       "\n",
       "\n"
      ],
      "text/plain": [
       "[1] 1 2 3 4 5"
      ]
     },
     "metadata": {},
     "output_type": "display_data"
    }
   ],
   "source": [
    "x=lapply(1:5, seq_len)\n",
    "print(x)\n",
    "x[[5]]"
   ]
  },
  {
   "cell_type": "code",
   "execution_count": 31,
   "metadata": {
    "scrolled": false
   },
   "outputs": [
    {
     "name": "stdout",
     "output_type": "stream",
     "text": [
      "[[1]]\n",
      "[1] 0.5346563\n",
      "\n",
      "[[2]]\n",
      "[1] 0.9588834 0.2374637\n",
      "\n",
      "[[3]]\n",
      "[1] 0.2383953 0.7170434 0.6741510\n",
      "\n",
      "[[4]]\n",
      "[1] 0.4314373 0.1022024 0.1269728 0.1043447\n",
      "\n",
      "[[5]]\n",
      "[1] 0.74491883 0.74519997 0.09529168 0.24219422 0.51232126\n",
      "\n"
     ]
    }
   ],
   "source": [
    "x=lapply(1:5, runif)\n",
    "print(x)"
   ]
  },
  {
   "cell_type": "code",
   "execution_count": 32,
   "metadata": {
    "scrolled": true
   },
   "outputs": [
    {
     "data": {
      "text/html": [
       "<ol>\n",
       "\t<li>8.96697200136259</li>\n",
       "\t<li><ol class=list-inline>\n",
       "\t<li>2.655086631421</li>\n",
       "\t<li>3.7212389963679</li>\n",
       "</ol>\n",
       "</li>\n",
       "\t<li><ol class=list-inline>\n",
       "\t<li>5.72853363351896</li>\n",
       "\t<li>9.08207789994776</li>\n",
       "\t<li>2.01681931037456</li>\n",
       "</ol>\n",
       "</li>\n",
       "\t<li><ol class=list-inline>\n",
       "\t<li>8.98389684967697</li>\n",
       "\t<li>9.44675268605351</li>\n",
       "\t<li>6.60797792486846</li>\n",
       "\t<li>6.2911404389888</li>\n",
       "</ol>\n",
       "</li>\n",
       "\t<li><ol class=list-inline>\n",
       "\t<li>0.617862704675645</li>\n",
       "\t<li>2.05974574899301</li>\n",
       "\t<li>1.76556752528995</li>\n",
       "\t<li>6.87022846657783</li>\n",
       "\t<li>3.84103718213737</li>\n",
       "</ol>\n",
       "</li>\n",
       "</ol>\n"
      ],
      "text/latex": [
       "\\begin{enumerate}\n",
       "\\item 8.96697200136259\n",
       "\\item \\begin{enumerate*}\n",
       "\\item 2.655086631421\n",
       "\\item 3.7212389963679\n",
       "\\end{enumerate*}\n",
       "\n",
       "\\item \\begin{enumerate*}\n",
       "\\item 5.72853363351896\n",
       "\\item 9.08207789994776\n",
       "\\item 2.01681931037456\n",
       "\\end{enumerate*}\n",
       "\n",
       "\\item \\begin{enumerate*}\n",
       "\\item 8.98389684967697\n",
       "\\item 9.44675268605351\n",
       "\\item 6.60797792486846\n",
       "\\item 6.2911404389888\n",
       "\\end{enumerate*}\n",
       "\n",
       "\\item \\begin{enumerate*}\n",
       "\\item 0.617862704675645\n",
       "\\item 2.05974574899301\n",
       "\\item 1.76556752528995\n",
       "\\item 6.87022846657783\n",
       "\\item 3.84103718213737\n",
       "\\end{enumerate*}\n",
       "\n",
       "\\end{enumerate}\n"
      ],
      "text/markdown": [
       "1. 8.96697200136259\n",
       "2. 1. 2.655086631421\n",
       "2. 3.7212389963679\n",
       "\n",
       "\n",
       "\n",
       "3. 1. 5.72853363351896\n",
       "2. 9.08207789994776\n",
       "3. 2.01681931037456\n",
       "\n",
       "\n",
       "\n",
       "4. 1. 8.98389684967697\n",
       "2. 9.44675268605351\n",
       "3. 6.60797792486846\n",
       "4. 6.2911404389888\n",
       "\n",
       "\n",
       "\n",
       "5. 1. 0.617862704675645\n",
       "2. 2.05974574899301\n",
       "3. 1.76556752528995\n",
       "4. 6.87022846657783\n",
       "5. 3.84103718213737\n",
       "\n",
       "\n",
       "\n",
       "\n",
       "\n"
      ],
      "text/plain": [
       "[[1]]\n",
       "[1] 8.966972\n",
       "\n",
       "[[2]]\n",
       "[1] 2.655087 3.721239\n",
       "\n",
       "[[3]]\n",
       "[1] 5.728534 9.082078 2.016819\n",
       "\n",
       "[[4]]\n",
       "[1] 8.983897 9.446753 6.607978 6.291140\n",
       "\n",
       "[[5]]\n",
       "[1] 0.6178627 2.0597457 1.7655675 6.8702285 3.8410372\n"
      ]
     },
     "metadata": {},
     "output_type": "display_data"
    },
    {
     "data": {
      "text/html": [
       "<ol>\n",
       "\t<li>8.96697200136259</li>\n",
       "\t<li><ol class=list-inline>\n",
       "\t<li>2.655086631421</li>\n",
       "\t<li>3.7212389963679</li>\n",
       "</ol>\n",
       "</li>\n",
       "\t<li><ol class=list-inline>\n",
       "\t<li>5.72853363351896</li>\n",
       "\t<li>9.08207789994776</li>\n",
       "\t<li>2.01681931037456</li>\n",
       "</ol>\n",
       "</li>\n",
       "\t<li><ol class=list-inline>\n",
       "\t<li>8.98389684967697</li>\n",
       "\t<li>9.44675268605351</li>\n",
       "\t<li>6.60797792486846</li>\n",
       "\t<li>6.2911404389888</li>\n",
       "</ol>\n",
       "</li>\n",
       "\t<li><ol class=list-inline>\n",
       "\t<li>0.617862704675645</li>\n",
       "\t<li>2.05974574899301</li>\n",
       "\t<li>1.76556752528995</li>\n",
       "\t<li>6.87022846657783</li>\n",
       "\t<li>3.84103718213737</li>\n",
       "</ol>\n",
       "</li>\n",
       "</ol>\n"
      ],
      "text/latex": [
       "\\begin{enumerate}\n",
       "\\item 8.96697200136259\n",
       "\\item \\begin{enumerate*}\n",
       "\\item 2.655086631421\n",
       "\\item 3.7212389963679\n",
       "\\end{enumerate*}\n",
       "\n",
       "\\item \\begin{enumerate*}\n",
       "\\item 5.72853363351896\n",
       "\\item 9.08207789994776\n",
       "\\item 2.01681931037456\n",
       "\\end{enumerate*}\n",
       "\n",
       "\\item \\begin{enumerate*}\n",
       "\\item 8.98389684967697\n",
       "\\item 9.44675268605351\n",
       "\\item 6.60797792486846\n",
       "\\item 6.2911404389888\n",
       "\\end{enumerate*}\n",
       "\n",
       "\\item \\begin{enumerate*}\n",
       "\\item 0.617862704675645\n",
       "\\item 2.05974574899301\n",
       "\\item 1.76556752528995\n",
       "\\item 6.87022846657783\n",
       "\\item 3.84103718213737\n",
       "\\end{enumerate*}\n",
       "\n",
       "\\end{enumerate}\n"
      ],
      "text/markdown": [
       "1. 8.96697200136259\n",
       "2. 1. 2.655086631421\n",
       "2. 3.7212389963679\n",
       "\n",
       "\n",
       "\n",
       "3. 1. 5.72853363351896\n",
       "2. 9.08207789994776\n",
       "3. 2.01681931037456\n",
       "\n",
       "\n",
       "\n",
       "4. 1. 8.98389684967697\n",
       "2. 9.44675268605351\n",
       "3. 6.60797792486846\n",
       "4. 6.2911404389888\n",
       "\n",
       "\n",
       "\n",
       "5. 1. 0.617862704675645\n",
       "2. 2.05974574899301\n",
       "3. 1.76556752528995\n",
       "4. 6.87022846657783\n",
       "5. 3.84103718213737\n",
       "\n",
       "\n",
       "\n",
       "\n",
       "\n"
      ],
      "text/plain": [
       "[[1]]\n",
       "[1] 8.966972\n",
       "\n",
       "[[2]]\n",
       "[1] 2.655087 3.721239\n",
       "\n",
       "[[3]]\n",
       "[1] 5.728534 9.082078 2.016819\n",
       "\n",
       "[[4]]\n",
       "[1] 8.983897 9.446753 6.607978 6.291140\n",
       "\n",
       "[[5]]\n",
       "[1] 0.6178627 2.0597457 1.7655675 6.8702285 3.8410372\n"
      ]
     },
     "metadata": {},
     "output_type": "display_data"
    }
   ],
   "source": [
    "set.seed(0)\n",
    "lapply(1:5, runif, min=0, max=10) #pass more args into FUN\n",
    "set.seed(0)\n",
    "myunif=function(x){runif(x, min=0, max=10)}\n",
    "# lapply(1:5, function(x){runif(x, min=0, max=10)})\n",
    "lapply(1:5, myunif)"
   ]
  },
  {
   "cell_type": "code",
   "execution_count": 33,
   "metadata": {},
   "outputs": [
    {
     "name": "stdout",
     "output_type": "stream",
     "text": [
      "$a\n",
      "[1] 1 2 3 4 5\n",
      "\n",
      "$b\n",
      " [1]  0.73832471  0.57578135 -0.30538839  1.51178117  0.38984324 -0.62124058\n",
      " [7] -2.21469989  1.12493092 -0.04493361 -0.01619026\n",
      "\n",
      "$a\n",
      "[1] 3\n",
      "\n",
      "$b\n",
      "[1] 0.1138209\n",
      "\n",
      "[1] \"list\"\n",
      "[1] 3\n",
      "[1] 3\n",
      "[1] 0.1138209\n"
     ]
    }
   ],
   "source": [
    "x=list(a=1:5, b=rnorm(10))\n",
    "print(x)\n",
    "y=lapply(x, mean)\n",
    "print(y)\n",
    "print(typeof(y))\n",
    "print(y[[1]])\n",
    "print(y$a)\n",
    "print(y$b)"
   ]
  },
  {
   "cell_type": "code",
   "execution_count": 34,
   "metadata": {
    "scrolled": true
   },
   "outputs": [
    {
     "name": "stdout",
     "output_type": "stream",
     "text": [
      "$a\n",
      "[1] 1 2 3 4\n",
      "\n",
      "$b\n",
      " [1]  0.94383621  0.82122120  0.59390132  0.91897737  0.78213630  0.07456498\n",
      " [7] -1.98935170  0.61982575 -0.05612874 -0.15579551\n",
      "\n",
      "$c\n",
      " [1] -0.4707524  0.5218499  1.4179416  2.3586796  0.8972123  1.3876716\n",
      " [7]  0.9461950 -0.3770596  0.5850054  0.6057100  0.9406866  2.1000254\n",
      "[13]  1.7631757  0.8354764  0.7466383  1.6969634  1.5566632  0.3112443\n",
      "[19]  0.2925048  1.3645820\n",
      "\n",
      "$d\n",
      " [1] 0.7789147 0.7973088 0.4552745 0.4100841 0.8108702 0.6049333 0.6547239\n",
      " [8] 0.3531973 0.2702601 0.9926841\n",
      "\n",
      "$a\n",
      "[1] 2.5\n",
      "\n",
      "$b\n",
      "[1] 0.2553187\n",
      "\n",
      "$c\n",
      "[1] 0.9740207\n",
      "\n",
      "$d\n",
      "[1] 0.6128251\n",
      "\n"
     ]
    }
   ],
   "source": [
    "x=list(a=1:4, b=rnorm(10), c=rnorm(20, 1), d=runif(10)); print(x)\n",
    "y=lapply(x, mean)\n",
    "print(y)"
   ]
  },
  {
   "cell_type": "code",
   "execution_count": 36,
   "metadata": {},
   "outputs": [
    {
     "data": {
      "text/html": [
       "81"
      ],
      "text/latex": [
       "81"
      ],
      "text/markdown": [
       "81"
      ],
      "text/plain": [
       "[1] 81"
      ]
     },
     "metadata": {},
     "output_type": "display_data"
    },
    {
     "data": {
      "text/html": [
       "81"
      ],
      "text/latex": [
       "81"
      ],
      "text/markdown": [
       "81"
      ],
      "text/plain": [
       "[1] 81"
      ]
     },
     "metadata": {},
     "output_type": "display_data"
    }
   ],
   "source": [
    "y=function(x){x*x}\n",
    "# formals(y)\n",
    "# body(y)\n",
    "# environment(y)\n",
    "y(9)\n",
    "(function(x){x*x})(9)"
   ]
  },
  {
   "cell_type": "code",
   "execution_count": 68,
   "metadata": {
    "scrolled": false
   },
   "outputs": [
    {
     "data": {
      "text/html": [
       "<dl>\n",
       "\t<dt>$a</dt>\n",
       "\t\t<dd><ol class=list-inline>\n",
       "\t<li>1</li>\n",
       "\t<li>2</li>\n",
       "\t<li>3</li>\n",
       "\t<li>4</li>\n",
       "</ol>\n",
       "</dd>\n",
       "\t<dt>$b</dt>\n",
       "\t\t<dd><ol class=list-inline>\n",
       "\t<li>1.26295428488079</li>\n",
       "\t<li>-0.326233360705649</li>\n",
       "\t<li>1.3297992629225</li>\n",
       "\t<li>1.2724293214294</li>\n",
       "\t<li>0.414641434456408</li>\n",
       "\t<li>-1.53995004190371</li>\n",
       "\t<li>-0.928567034713538</li>\n",
       "\t<li>-0.29472044679056</li>\n",
       "\t<li>-0.00576717274753696</li>\n",
       "\t<li>2.40465338885795</li>\n",
       "</ol>\n",
       "</dd>\n",
       "\t<dt>$c</dt>\n",
       "\t\t<dd><ol class=list-inline>\n",
       "\t<li>1.76359346114046</li>\n",
       "\t<li>0.200990751010632</li>\n",
       "\t<li>-0.147657009236351</li>\n",
       "\t<li>0.710538426311777</li>\n",
       "\t<li>0.700784882102684</li>\n",
       "\t<li>0.588489167204933</li>\n",
       "\t<li>1.25222344815613</li>\n",
       "\t<li>0.108078872715431</li>\n",
       "\t<li>1.43568329935572</li>\n",
       "\t<li>-0.237538421929958</li>\n",
       "\t<li>0.775732114721691</li>\n",
       "\t<li>1.3773956459817</li>\n",
       "\t<li>1.13333636081484</li>\n",
       "\t<li>1.80418950974491</li>\n",
       "\t<li>0.942893225616191</li>\n",
       "\t<li>1.50360797223373</li>\n",
       "\t<li>2.08576936214569</li>\n",
       "\t<li>0.30904616030317</li>\n",
       "\t<li>-0.284599353872188</li>\n",
       "\t<li>1.04672617218835</li>\n",
       "</ol>\n",
       "</dd>\n",
       "\t<dt>$d</dt>\n",
       "\t\t<dd><ol class=list-inline>\n",
       "\t<li>0.406830187188461</li>\n",
       "\t<li>0.912875924259424</li>\n",
       "\t<li>0.293603372760117</li>\n",
       "\t<li>0.459065726259723</li>\n",
       "\t<li>0.332394674187526</li>\n",
       "\t<li>0.65087046707049</li>\n",
       "\t<li>0.258016780717298</li>\n",
       "\t<li>0.478545248275623</li>\n",
       "\t<li>0.766310670645908</li>\n",
       "\t<li>0.0842469143681228</li>\n",
       "</ol>\n",
       "</dd>\n",
       "</dl>\n"
      ],
      "text/latex": [
       "\\begin{description}\n",
       "\\item[\\$a] \\begin{enumerate*}\n",
       "\\item 1\n",
       "\\item 2\n",
       "\\item 3\n",
       "\\item 4\n",
       "\\end{enumerate*}\n",
       "\n",
       "\\item[\\$b] \\begin{enumerate*}\n",
       "\\item 1.26295428488079\n",
       "\\item -0.326233360705649\n",
       "\\item 1.3297992629225\n",
       "\\item 1.2724293214294\n",
       "\\item 0.414641434456408\n",
       "\\item -1.53995004190371\n",
       "\\item -0.928567034713538\n",
       "\\item -0.29472044679056\n",
       "\\item -0.00576717274753696\n",
       "\\item 2.40465338885795\n",
       "\\end{enumerate*}\n",
       "\n",
       "\\item[\\$c] \\begin{enumerate*}\n",
       "\\item 1.76359346114046\n",
       "\\item 0.200990751010632\n",
       "\\item -0.147657009236351\n",
       "\\item 0.710538426311777\n",
       "\\item 0.700784882102684\n",
       "\\item 0.588489167204933\n",
       "\\item 1.25222344815613\n",
       "\\item 0.108078872715431\n",
       "\\item 1.43568329935572\n",
       "\\item -0.237538421929958\n",
       "\\item 0.775732114721691\n",
       "\\item 1.3773956459817\n",
       "\\item 1.13333636081484\n",
       "\\item 1.80418950974491\n",
       "\\item 0.942893225616191\n",
       "\\item 1.50360797223373\n",
       "\\item 2.08576936214569\n",
       "\\item 0.30904616030317\n",
       "\\item -0.284599353872188\n",
       "\\item 1.04672617218835\n",
       "\\end{enumerate*}\n",
       "\n",
       "\\item[\\$d] \\begin{enumerate*}\n",
       "\\item 0.406830187188461\n",
       "\\item 0.912875924259424\n",
       "\\item 0.293603372760117\n",
       "\\item 0.459065726259723\n",
       "\\item 0.332394674187526\n",
       "\\item 0.65087046707049\n",
       "\\item 0.258016780717298\n",
       "\\item 0.478545248275623\n",
       "\\item 0.766310670645908\n",
       "\\item 0.0842469143681228\n",
       "\\end{enumerate*}\n",
       "\n",
       "\\end{description}\n"
      ],
      "text/markdown": [
       "$a\n",
       ":   1. 1\n",
       "2. 2\n",
       "3. 3\n",
       "4. 4\n",
       "\n",
       "\n",
       "\n",
       "$b\n",
       ":   1. 1.26295428488079\n",
       "2. -0.326233360705649\n",
       "3. 1.3297992629225\n",
       "4. 1.2724293214294\n",
       "5. 0.414641434456408\n",
       "6. -1.53995004190371\n",
       "7. -0.928567034713538\n",
       "8. -0.29472044679056\n",
       "9. -0.00576717274753696\n",
       "10. 2.40465338885795\n",
       "\n",
       "\n",
       "\n",
       "$c\n",
       ":   1. 1.76359346114046\n",
       "2. 0.200990751010632\n",
       "3. -0.147657009236351\n",
       "4. 0.710538426311777\n",
       "5. 0.700784882102684\n",
       "6. 0.588489167204933\n",
       "7. 1.25222344815613\n",
       "8. 0.108078872715431\n",
       "9. 1.43568329935572\n",
       "10. -0.237538421929958\n",
       "11. 0.775732114721691\n",
       "12. 1.3773956459817\n",
       "13. 1.13333636081484\n",
       "14. 1.80418950974491\n",
       "15. 0.942893225616191\n",
       "16. 1.50360797223373\n",
       "17. 2.08576936214569\n",
       "18. 0.30904616030317\n",
       "19. -0.284599353872188\n",
       "20. 1.04672617218835\n",
       "\n",
       "\n",
       "\n",
       "$d\n",
       ":   1. 0.406830187188461\n",
       "2. 0.912875924259424\n",
       "3. 0.293603372760117\n",
       "4. 0.459065726259723\n",
       "5. 0.332394674187526\n",
       "6. 0.65087046707049\n",
       "7. 0.258016780717298\n",
       "8. 0.478545248275623\n",
       "9. 0.766310670645908\n",
       "10. 0.0842469143681228\n",
       "\n",
       "\n",
       "\n",
       "\n",
       "\n"
      ],
      "text/plain": [
       "$a\n",
       "[1] 1 2 3 4\n",
       "\n",
       "$b\n",
       " [1]  1.262954285 -0.326233361  1.329799263  1.272429321  0.414641434\n",
       " [6] -1.539950042 -0.928567035 -0.294720447 -0.005767173  2.404653389\n",
       "\n",
       "$c\n",
       " [1]  1.7635935  0.2009908 -0.1476570  0.7105384  0.7007849  0.5884892\n",
       " [7]  1.2522234  0.1080789  1.4356833 -0.2375384  0.7757321  1.3773956\n",
       "[13]  1.1333364  1.8041895  0.9428932  1.5036080  2.0857694  0.3090462\n",
       "[19] -0.2845994  1.0467262\n",
       "\n",
       "$d\n",
       " [1] 0.40683019 0.91287592 0.29360337 0.45906573 0.33239467 0.65087047\n",
       " [7] 0.25801678 0.47854525 0.76631067 0.08424691\n"
      ]
     },
     "metadata": {},
     "output_type": "display_data"
    },
    {
     "name": "stderr",
     "output_type": "stream",
     "text": [
      "Warning message in FUN(X[[i]], ...):\n",
      "\"NaNs produced\"\n",
      "Warning message in FUN(X[[i]], ...):\n",
      "\"NaNs produced\"\n"
     ]
    },
    {
     "data": {
      "text/html": [
       "<dl>\n",
       "\t<dt>$a</dt>\n",
       "\t\t<dd><ol class=list-inline>\n",
       "\t<li>1</li>\n",
       "\t<li>1.4142135623731</li>\n",
       "\t<li>1.73205080756888</li>\n",
       "\t<li>2</li>\n",
       "</ol>\n",
       "</dd>\n",
       "\t<dt>$b</dt>\n",
       "\t\t<dd><ol class=list-inline>\n",
       "\t<li>1.12381238864892</li>\n",
       "\t<li>NaN</li>\n",
       "\t<li>1.15316922562237</li>\n",
       "\t<li>1.1280200891072</li>\n",
       "\t<li>0.643926575361204</li>\n",
       "\t<li>NaN</li>\n",
       "\t<li>NaN</li>\n",
       "\t<li>NaN</li>\n",
       "\t<li>NaN</li>\n",
       "\t<li>1.55069448598296</li>\n",
       "</ol>\n",
       "</dd>\n",
       "\t<dt>$c</dt>\n",
       "\t\t<dd><ol class=list-inline>\n",
       "\t<li>1.3280035621716</li>\n",
       "\t<li>0.448319920381229</li>\n",
       "\t<li>NaN</li>\n",
       "\t<li>0.842934414003709</li>\n",
       "\t<li>0.837128951896112</li>\n",
       "\t<li>0.76713047599801</li>\n",
       "\t<li>1.11902790320712</li>\n",
       "\t<li>0.328753513616861</li>\n",
       "\t<li>1.1982000247687</li>\n",
       "\t<li>NaN</li>\n",
       "\t<li>0.880756558148556</li>\n",
       "\t<li>1.17362500228212</li>\n",
       "\t<li>1.06458271675565</li>\n",
       "\t<li>1.3432012171469</li>\n",
       "\t<li>0.97102689232389</li>\n",
       "\t<li>1.22621693522546</li>\n",
       "\t<li>1.44421929157095</li>\n",
       "\t<li>0.55591920303509</li>\n",
       "\t<li>NaN</li>\n",
       "\t<li>1.0230963650548</li>\n",
       "</ol>\n",
       "</dd>\n",
       "\t<dt>$d</dt>\n",
       "\t\t<dd><ol class=list-inline>\n",
       "\t<li>0.637832413090195</li>\n",
       "\t<li>0.955445406216087</li>\n",
       "\t<li>0.541851799628014</li>\n",
       "\t<li>0.677543892496806</li>\n",
       "\t<li>0.576536793437788</li>\n",
       "\t<li>0.806765434975055</li>\n",
       "\t<li>0.507953522201883</li>\n",
       "\t<li>0.691769649721367</li>\n",
       "\t<li>0.875391724113215</li>\n",
       "\t<li>0.290253190108434</li>\n",
       "</ol>\n",
       "</dd>\n",
       "</dl>\n"
      ],
      "text/latex": [
       "\\begin{description}\n",
       "\\item[\\$a] \\begin{enumerate*}\n",
       "\\item 1\n",
       "\\item 1.4142135623731\n",
       "\\item 1.73205080756888\n",
       "\\item 2\n",
       "\\end{enumerate*}\n",
       "\n",
       "\\item[\\$b] \\begin{enumerate*}\n",
       "\\item 1.12381238864892\n",
       "\\item NaN\n",
       "\\item 1.15316922562237\n",
       "\\item 1.1280200891072\n",
       "\\item 0.643926575361204\n",
       "\\item NaN\n",
       "\\item NaN\n",
       "\\item NaN\n",
       "\\item NaN\n",
       "\\item 1.55069448598296\n",
       "\\end{enumerate*}\n",
       "\n",
       "\\item[\\$c] \\begin{enumerate*}\n",
       "\\item 1.3280035621716\n",
       "\\item 0.448319920381229\n",
       "\\item NaN\n",
       "\\item 0.842934414003709\n",
       "\\item 0.837128951896112\n",
       "\\item 0.76713047599801\n",
       "\\item 1.11902790320712\n",
       "\\item 0.328753513616861\n",
       "\\item 1.1982000247687\n",
       "\\item NaN\n",
       "\\item 0.880756558148556\n",
       "\\item 1.17362500228212\n",
       "\\item 1.06458271675565\n",
       "\\item 1.3432012171469\n",
       "\\item 0.97102689232389\n",
       "\\item 1.22621693522546\n",
       "\\item 1.44421929157095\n",
       "\\item 0.55591920303509\n",
       "\\item NaN\n",
       "\\item 1.0230963650548\n",
       "\\end{enumerate*}\n",
       "\n",
       "\\item[\\$d] \\begin{enumerate*}\n",
       "\\item 0.637832413090195\n",
       "\\item 0.955445406216087\n",
       "\\item 0.541851799628014\n",
       "\\item 0.677543892496806\n",
       "\\item 0.576536793437788\n",
       "\\item 0.806765434975055\n",
       "\\item 0.507953522201883\n",
       "\\item 0.691769649721367\n",
       "\\item 0.875391724113215\n",
       "\\item 0.290253190108434\n",
       "\\end{enumerate*}\n",
       "\n",
       "\\end{description}\n"
      ],
      "text/markdown": [
       "$a\n",
       ":   1. 1\n",
       "2. 1.4142135623731\n",
       "3. 1.73205080756888\n",
       "4. 2\n",
       "\n",
       "\n",
       "\n",
       "$b\n",
       ":   1. 1.12381238864892\n",
       "2. NaN\n",
       "3. 1.15316922562237\n",
       "4. 1.1280200891072\n",
       "5. 0.643926575361204\n",
       "6. NaN\n",
       "7. NaN\n",
       "8. NaN\n",
       "9. NaN\n",
       "10. 1.55069448598296\n",
       "\n",
       "\n",
       "\n",
       "$c\n",
       ":   1. 1.3280035621716\n",
       "2. 0.448319920381229\n",
       "3. NaN\n",
       "4. 0.842934414003709\n",
       "5. 0.837128951896112\n",
       "6. 0.76713047599801\n",
       "7. 1.11902790320712\n",
       "8. 0.328753513616861\n",
       "9. 1.1982000247687\n",
       "10. NaN\n",
       "11. 0.880756558148556\n",
       "12. 1.17362500228212\n",
       "13. 1.06458271675565\n",
       "14. 1.3432012171469\n",
       "15. 0.97102689232389\n",
       "16. 1.22621693522546\n",
       "17. 1.44421929157095\n",
       "18. 0.55591920303509\n",
       "19. NaN\n",
       "20. 1.0230963650548\n",
       "\n",
       "\n",
       "\n",
       "$d\n",
       ":   1. 0.637832413090195\n",
       "2. 0.955445406216087\n",
       "3. 0.541851799628014\n",
       "4. 0.677543892496806\n",
       "5. 0.576536793437788\n",
       "6. 0.806765434975055\n",
       "7. 0.507953522201883\n",
       "8. 0.691769649721367\n",
       "9. 0.875391724113215\n",
       "10. 0.290253190108434\n",
       "\n",
       "\n",
       "\n",
       "\n",
       "\n"
      ],
      "text/plain": [
       "$a\n",
       "[1] 1.000000 1.414214 1.732051 2.000000\n",
       "\n",
       "$b\n",
       " [1] 1.1238124       NaN 1.1531692 1.1280201 0.6439266       NaN       NaN\n",
       " [8]       NaN       NaN 1.5506945\n",
       "\n",
       "$c\n",
       " [1] 1.3280036 0.4483199       NaN 0.8429344 0.8371290 0.7671305 1.1190279\n",
       " [8] 0.3287535 1.1982000       NaN 0.8807566 1.1736250 1.0645827 1.3432012\n",
       "[15] 0.9710269 1.2262169 1.4442193 0.5559192       NaN 1.0230964\n",
       "\n",
       "$d\n",
       " [1] 0.6378324 0.9554454 0.5418518 0.6775439 0.5765368 0.8067654 0.5079535\n",
       " [8] 0.6917696 0.8753917 0.2902532\n"
      ]
     },
     "metadata": {},
     "output_type": "display_data"
    },
    {
     "data": {
      "text/html": [
       "<dl>\n",
       "\t<dt>$a</dt>\n",
       "\t\t<dd><ol class=list-inline>\n",
       "\t<li>1</li>\n",
       "\t<li>1.4142135623731</li>\n",
       "\t<li>1.73205080756888</li>\n",
       "\t<li>2</li>\n",
       "</ol>\n",
       "</dd>\n",
       "\t<dt>$b</dt>\n",
       "\t\t<dd><ol class=list-inline>\n",
       "\t<li>1.12381238864892</li>\n",
       "\t<li>&lt;NA&gt;</li>\n",
       "\t<li>1.15316922562237</li>\n",
       "\t<li>1.1280200891072</li>\n",
       "\t<li>0.643926575361204</li>\n",
       "\t<li>&lt;NA&gt;</li>\n",
       "\t<li>&lt;NA&gt;</li>\n",
       "\t<li>&lt;NA&gt;</li>\n",
       "\t<li>&lt;NA&gt;</li>\n",
       "\t<li>1.55069448598296</li>\n",
       "</ol>\n",
       "</dd>\n",
       "\t<dt>$c</dt>\n",
       "\t\t<dd><ol class=list-inline>\n",
       "\t<li>1.3280035621716</li>\n",
       "\t<li>0.448319920381229</li>\n",
       "\t<li>&lt;NA&gt;</li>\n",
       "\t<li>0.842934414003709</li>\n",
       "\t<li>0.837128951896112</li>\n",
       "\t<li>0.76713047599801</li>\n",
       "\t<li>1.11902790320712</li>\n",
       "\t<li>0.328753513616861</li>\n",
       "\t<li>1.1982000247687</li>\n",
       "\t<li>&lt;NA&gt;</li>\n",
       "\t<li>0.880756558148556</li>\n",
       "\t<li>1.17362500228212</li>\n",
       "\t<li>1.06458271675565</li>\n",
       "\t<li>1.3432012171469</li>\n",
       "\t<li>0.97102689232389</li>\n",
       "\t<li>1.22621693522546</li>\n",
       "\t<li>1.44421929157095</li>\n",
       "\t<li>0.55591920303509</li>\n",
       "\t<li>&lt;NA&gt;</li>\n",
       "\t<li>1.0230963650548</li>\n",
       "</ol>\n",
       "</dd>\n",
       "\t<dt>$d</dt>\n",
       "\t\t<dd><ol class=list-inline>\n",
       "\t<li>0.637832413090195</li>\n",
       "\t<li>0.955445406216087</li>\n",
       "\t<li>0.541851799628014</li>\n",
       "\t<li>0.677543892496806</li>\n",
       "\t<li>0.576536793437788</li>\n",
       "\t<li>0.806765434975055</li>\n",
       "\t<li>0.507953522201883</li>\n",
       "\t<li>0.691769649721367</li>\n",
       "\t<li>0.875391724113215</li>\n",
       "\t<li>0.290253190108434</li>\n",
       "</ol>\n",
       "</dd>\n",
       "</dl>\n"
      ],
      "text/latex": [
       "\\begin{description}\n",
       "\\item[\\$a] \\begin{enumerate*}\n",
       "\\item 1\n",
       "\\item 1.4142135623731\n",
       "\\item 1.73205080756888\n",
       "\\item 2\n",
       "\\end{enumerate*}\n",
       "\n",
       "\\item[\\$b] \\begin{enumerate*}\n",
       "\\item 1.12381238864892\n",
       "\\item <NA>\n",
       "\\item 1.15316922562237\n",
       "\\item 1.1280200891072\n",
       "\\item 0.643926575361204\n",
       "\\item <NA>\n",
       "\\item <NA>\n",
       "\\item <NA>\n",
       "\\item <NA>\n",
       "\\item 1.55069448598296\n",
       "\\end{enumerate*}\n",
       "\n",
       "\\item[\\$c] \\begin{enumerate*}\n",
       "\\item 1.3280035621716\n",
       "\\item 0.448319920381229\n",
       "\\item <NA>\n",
       "\\item 0.842934414003709\n",
       "\\item 0.837128951896112\n",
       "\\item 0.76713047599801\n",
       "\\item 1.11902790320712\n",
       "\\item 0.328753513616861\n",
       "\\item 1.1982000247687\n",
       "\\item <NA>\n",
       "\\item 0.880756558148556\n",
       "\\item 1.17362500228212\n",
       "\\item 1.06458271675565\n",
       "\\item 1.3432012171469\n",
       "\\item 0.97102689232389\n",
       "\\item 1.22621693522546\n",
       "\\item 1.44421929157095\n",
       "\\item 0.55591920303509\n",
       "\\item <NA>\n",
       "\\item 1.0230963650548\n",
       "\\end{enumerate*}\n",
       "\n",
       "\\item[\\$d] \\begin{enumerate*}\n",
       "\\item 0.637832413090195\n",
       "\\item 0.955445406216087\n",
       "\\item 0.541851799628014\n",
       "\\item 0.677543892496806\n",
       "\\item 0.576536793437788\n",
       "\\item 0.806765434975055\n",
       "\\item 0.507953522201883\n",
       "\\item 0.691769649721367\n",
       "\\item 0.875391724113215\n",
       "\\item 0.290253190108434\n",
       "\\end{enumerate*}\n",
       "\n",
       "\\end{description}\n"
      ],
      "text/markdown": [
       "$a\n",
       ":   1. 1\n",
       "2. 1.4142135623731\n",
       "3. 1.73205080756888\n",
       "4. 2\n",
       "\n",
       "\n",
       "\n",
       "$b\n",
       ":   1. 1.12381238864892\n",
       "2. &lt;NA&gt;\n",
       "3. 1.15316922562237\n",
       "4. 1.1280200891072\n",
       "5. 0.643926575361204\n",
       "6. &lt;NA&gt;\n",
       "7. &lt;NA&gt;\n",
       "8. &lt;NA&gt;\n",
       "9. &lt;NA&gt;\n",
       "10. 1.55069448598296\n",
       "\n",
       "\n",
       "\n",
       "$c\n",
       ":   1. 1.3280035621716\n",
       "2. 0.448319920381229\n",
       "3. &lt;NA&gt;\n",
       "4. 0.842934414003709\n",
       "5. 0.837128951896112\n",
       "6. 0.76713047599801\n",
       "7. 1.11902790320712\n",
       "8. 0.328753513616861\n",
       "9. 1.1982000247687\n",
       "10. &lt;NA&gt;\n",
       "11. 0.880756558148556\n",
       "12. 1.17362500228212\n",
       "13. 1.06458271675565\n",
       "14. 1.3432012171469\n",
       "15. 0.97102689232389\n",
       "16. 1.22621693522546\n",
       "17. 1.44421929157095\n",
       "18. 0.55591920303509\n",
       "19. &lt;NA&gt;\n",
       "20. 1.0230963650548\n",
       "\n",
       "\n",
       "\n",
       "$d\n",
       ":   1. 0.637832413090195\n",
       "2. 0.955445406216087\n",
       "3. 0.541851799628014\n",
       "4. 0.677543892496806\n",
       "5. 0.576536793437788\n",
       "6. 0.806765434975055\n",
       "7. 0.507953522201883\n",
       "8. 0.691769649721367\n",
       "9. 0.875391724113215\n",
       "10. 0.290253190108434\n",
       "\n",
       "\n",
       "\n",
       "\n",
       "\n"
      ],
      "text/plain": [
       "$a\n",
       "[1] 1.000000 1.414214 1.732051 2.000000\n",
       "\n",
       "$b\n",
       " [1] 1.1238124        NA 1.1531692 1.1280201 0.6439266        NA        NA\n",
       " [8]        NA        NA 1.5506945\n",
       "\n",
       "$c\n",
       " [1] 1.3280036 0.4483199        NA 0.8429344 0.8371290 0.7671305 1.1190279\n",
       " [8] 0.3287535 1.1982000        NA 0.8807566 1.1736250 1.0645827 1.3432012\n",
       "[15] 0.9710269 1.2262169 1.4442193 0.5559192        NA 1.0230964\n",
       "\n",
       "$d\n",
       " [1] 0.6378324 0.9554454 0.5418518 0.6775439 0.5765368 0.8067654 0.5079535\n",
       " [8] 0.6917696 0.8753917 0.2902532\n"
      ]
     },
     "metadata": {},
     "output_type": "display_data"
    }
   ],
   "source": [
    "set.seed(0)\n",
    "x=list(a=1:4, b=rnorm(10), c=rnorm(20, 1), d=runif(10)); x\n",
    "z=lapply(x, sqrt); z\n",
    "z=lapply(x, function(x){x[x<0]=NA; sqrt(x)}); z"
   ]
  },
  {
   "cell_type": "code",
   "execution_count": 37,
   "metadata": {
    "scrolled": false
   },
   "outputs": [
    {
     "data": {
      "text/html": [
       "<dl>\n",
       "\t<dt>$a</dt>\n",
       "\t\t<dd><ol class=list-inline>\n",
       "\t<li>1</li>\n",
       "\t<li>2</li>\n",
       "\t<li>3</li>\n",
       "\t<li>4</li>\n",
       "</ol>\n",
       "</dd>\n",
       "\t<dt>$b</dt>\n",
       "\t\t<dd><ol class=list-inline>\n",
       "\t<li>1.26295428488079</li>\n",
       "\t<li>-0.326233360705649</li>\n",
       "\t<li>1.3297992629225</li>\n",
       "\t<li>1.2724293214294</li>\n",
       "\t<li>0.414641434456408</li>\n",
       "\t<li>-1.53995004190371</li>\n",
       "\t<li>-0.928567034713538</li>\n",
       "\t<li>-0.29472044679056</li>\n",
       "\t<li>-0.00576717274753696</li>\n",
       "\t<li>2.40465338885795</li>\n",
       "</ol>\n",
       "</dd>\n",
       "\t<dt>$c</dt>\n",
       "\t\t<dd><ol class=list-inline>\n",
       "\t<li>1.76359346114046</li>\n",
       "\t<li>0.200990751010632</li>\n",
       "\t<li>-0.147657009236351</li>\n",
       "\t<li>0.710538426311777</li>\n",
       "\t<li>0.700784882102684</li>\n",
       "\t<li>0.588489167204933</li>\n",
       "\t<li>1.25222344815613</li>\n",
       "\t<li>0.108078872715431</li>\n",
       "\t<li>1.43568329935572</li>\n",
       "\t<li>-0.237538421929958</li>\n",
       "\t<li>0.775732114721691</li>\n",
       "\t<li>1.3773956459817</li>\n",
       "\t<li>1.13333636081484</li>\n",
       "\t<li>1.80418950974491</li>\n",
       "\t<li>0.942893225616191</li>\n",
       "\t<li>1.50360797223373</li>\n",
       "\t<li>2.08576936214569</li>\n",
       "\t<li>0.30904616030317</li>\n",
       "\t<li>-0.284599353872188</li>\n",
       "\t<li>1.04672617218835</li>\n",
       "</ol>\n",
       "</dd>\n",
       "\t<dt>$d</dt>\n",
       "\t\t<dd><ol class=list-inline>\n",
       "\t<li>0.406830187188461</li>\n",
       "\t<li>0.912875924259424</li>\n",
       "\t<li>0.293603372760117</li>\n",
       "\t<li>0.459065726259723</li>\n",
       "\t<li>0.332394674187526</li>\n",
       "\t<li>0.65087046707049</li>\n",
       "\t<li>0.258016780717298</li>\n",
       "\t<li>0.478545248275623</li>\n",
       "\t<li>0.766310670645908</li>\n",
       "\t<li>0.0842469143681228</li>\n",
       "</ol>\n",
       "</dd>\n",
       "</dl>\n"
      ],
      "text/latex": [
       "\\begin{description}\n",
       "\\item[\\$a] \\begin{enumerate*}\n",
       "\\item 1\n",
       "\\item 2\n",
       "\\item 3\n",
       "\\item 4\n",
       "\\end{enumerate*}\n",
       "\n",
       "\\item[\\$b] \\begin{enumerate*}\n",
       "\\item 1.26295428488079\n",
       "\\item -0.326233360705649\n",
       "\\item 1.3297992629225\n",
       "\\item 1.2724293214294\n",
       "\\item 0.414641434456408\n",
       "\\item -1.53995004190371\n",
       "\\item -0.928567034713538\n",
       "\\item -0.29472044679056\n",
       "\\item -0.00576717274753696\n",
       "\\item 2.40465338885795\n",
       "\\end{enumerate*}\n",
       "\n",
       "\\item[\\$c] \\begin{enumerate*}\n",
       "\\item 1.76359346114046\n",
       "\\item 0.200990751010632\n",
       "\\item -0.147657009236351\n",
       "\\item 0.710538426311777\n",
       "\\item 0.700784882102684\n",
       "\\item 0.588489167204933\n",
       "\\item 1.25222344815613\n",
       "\\item 0.108078872715431\n",
       "\\item 1.43568329935572\n",
       "\\item -0.237538421929958\n",
       "\\item 0.775732114721691\n",
       "\\item 1.3773956459817\n",
       "\\item 1.13333636081484\n",
       "\\item 1.80418950974491\n",
       "\\item 0.942893225616191\n",
       "\\item 1.50360797223373\n",
       "\\item 2.08576936214569\n",
       "\\item 0.30904616030317\n",
       "\\item -0.284599353872188\n",
       "\\item 1.04672617218835\n",
       "\\end{enumerate*}\n",
       "\n",
       "\\item[\\$d] \\begin{enumerate*}\n",
       "\\item 0.406830187188461\n",
       "\\item 0.912875924259424\n",
       "\\item 0.293603372760117\n",
       "\\item 0.459065726259723\n",
       "\\item 0.332394674187526\n",
       "\\item 0.65087046707049\n",
       "\\item 0.258016780717298\n",
       "\\item 0.478545248275623\n",
       "\\item 0.766310670645908\n",
       "\\item 0.0842469143681228\n",
       "\\end{enumerate*}\n",
       "\n",
       "\\end{description}\n"
      ],
      "text/markdown": [
       "$a\n",
       ":   1. 1\n",
       "2. 2\n",
       "3. 3\n",
       "4. 4\n",
       "\n",
       "\n",
       "\n",
       "$b\n",
       ":   1. 1.26295428488079\n",
       "2. -0.326233360705649\n",
       "3. 1.3297992629225\n",
       "4. 1.2724293214294\n",
       "5. 0.414641434456408\n",
       "6. -1.53995004190371\n",
       "7. -0.928567034713538\n",
       "8. -0.29472044679056\n",
       "9. -0.00576717274753696\n",
       "10. 2.40465338885795\n",
       "\n",
       "\n",
       "\n",
       "$c\n",
       ":   1. 1.76359346114046\n",
       "2. 0.200990751010632\n",
       "3. -0.147657009236351\n",
       "4. 0.710538426311777\n",
       "5. 0.700784882102684\n",
       "6. 0.588489167204933\n",
       "7. 1.25222344815613\n",
       "8. 0.108078872715431\n",
       "9. 1.43568329935572\n",
       "10. -0.237538421929958\n",
       "11. 0.775732114721691\n",
       "12. 1.3773956459817\n",
       "13. 1.13333636081484\n",
       "14. 1.80418950974491\n",
       "15. 0.942893225616191\n",
       "16. 1.50360797223373\n",
       "17. 2.08576936214569\n",
       "18. 0.30904616030317\n",
       "19. -0.284599353872188\n",
       "20. 1.04672617218835\n",
       "\n",
       "\n",
       "\n",
       "$d\n",
       ":   1. 0.406830187188461\n",
       "2. 0.912875924259424\n",
       "3. 0.293603372760117\n",
       "4. 0.459065726259723\n",
       "5. 0.332394674187526\n",
       "6. 0.65087046707049\n",
       "7. 0.258016780717298\n",
       "8. 0.478545248275623\n",
       "9. 0.766310670645908\n",
       "10. 0.0842469143681228\n",
       "\n",
       "\n",
       "\n",
       "\n",
       "\n"
      ],
      "text/plain": [
       "$a\n",
       "[1] 1 2 3 4\n",
       "\n",
       "$b\n",
       " [1]  1.262954285 -0.326233361  1.329799263  1.272429321  0.414641434\n",
       " [6] -1.539950042 -0.928567035 -0.294720447 -0.005767173  2.404653389\n",
       "\n",
       "$c\n",
       " [1]  1.7635935  0.2009908 -0.1476570  0.7105384  0.7007849  0.5884892\n",
       " [7]  1.2522234  0.1080789  1.4356833 -0.2375384  0.7757321  1.3773956\n",
       "[13]  1.1333364  1.8041895  0.9428932  1.5036080  2.0857694  0.3090462\n",
       "[19] -0.2845994  1.0467262\n",
       "\n",
       "$d\n",
       " [1] 0.40683019 0.91287592 0.29360337 0.45906573 0.33239467 0.65087047\n",
       " [7] 0.25801678 0.47854525 0.76631067 0.08424691\n"
      ]
     },
     "metadata": {},
     "output_type": "display_data"
    },
    {
     "data": {
      "text/html": [
       "<dl>\n",
       "\t<dt>$a</dt>\n",
       "\t\t<dd><ol class=list-inline>\n",
       "\t<li>1</li>\n",
       "\t<li>1.4142135623731</li>\n",
       "\t<li>1.73205080756888</li>\n",
       "\t<li>2</li>\n",
       "</ol>\n",
       "</dd>\n",
       "\t<dt>$b</dt>\n",
       "\t\t<dd><ol class=list-inline>\n",
       "\t<li>1.12381238864892</li>\n",
       "\t<li>0</li>\n",
       "\t<li>1.15316922562237</li>\n",
       "\t<li>1.1280200891072</li>\n",
       "\t<li>0.643926575361204</li>\n",
       "\t<li>0</li>\n",
       "\t<li>0</li>\n",
       "\t<li>0</li>\n",
       "\t<li>0</li>\n",
       "\t<li>1.55069448598296</li>\n",
       "</ol>\n",
       "</dd>\n",
       "\t<dt>$c</dt>\n",
       "\t\t<dd><ol class=list-inline>\n",
       "\t<li>1.3280035621716</li>\n",
       "\t<li>0.448319920381229</li>\n",
       "\t<li>0</li>\n",
       "\t<li>0.842934414003709</li>\n",
       "\t<li>0.837128951896112</li>\n",
       "\t<li>0.76713047599801</li>\n",
       "\t<li>1.11902790320712</li>\n",
       "\t<li>0.328753513616861</li>\n",
       "\t<li>1.1982000247687</li>\n",
       "\t<li>0</li>\n",
       "\t<li>0.880756558148556</li>\n",
       "\t<li>1.17362500228212</li>\n",
       "\t<li>1.06458271675565</li>\n",
       "\t<li>1.3432012171469</li>\n",
       "\t<li>0.97102689232389</li>\n",
       "\t<li>1.22621693522546</li>\n",
       "\t<li>1.44421929157095</li>\n",
       "\t<li>0.55591920303509</li>\n",
       "\t<li>0</li>\n",
       "\t<li>1.0230963650548</li>\n",
       "</ol>\n",
       "</dd>\n",
       "\t<dt>$d</dt>\n",
       "\t\t<dd><ol class=list-inline>\n",
       "\t<li>0.637832413090195</li>\n",
       "\t<li>0.955445406216087</li>\n",
       "\t<li>0.541851799628014</li>\n",
       "\t<li>0.677543892496806</li>\n",
       "\t<li>0.576536793437788</li>\n",
       "\t<li>0.806765434975055</li>\n",
       "\t<li>0.507953522201883</li>\n",
       "\t<li>0.691769649721367</li>\n",
       "\t<li>0.875391724113215</li>\n",
       "\t<li>0.290253190108434</li>\n",
       "</ol>\n",
       "</dd>\n",
       "</dl>\n"
      ],
      "text/latex": [
       "\\begin{description}\n",
       "\\item[\\$a] \\begin{enumerate*}\n",
       "\\item 1\n",
       "\\item 1.4142135623731\n",
       "\\item 1.73205080756888\n",
       "\\item 2\n",
       "\\end{enumerate*}\n",
       "\n",
       "\\item[\\$b] \\begin{enumerate*}\n",
       "\\item 1.12381238864892\n",
       "\\item 0\n",
       "\\item 1.15316922562237\n",
       "\\item 1.1280200891072\n",
       "\\item 0.643926575361204\n",
       "\\item 0\n",
       "\\item 0\n",
       "\\item 0\n",
       "\\item 0\n",
       "\\item 1.55069448598296\n",
       "\\end{enumerate*}\n",
       "\n",
       "\\item[\\$c] \\begin{enumerate*}\n",
       "\\item 1.3280035621716\n",
       "\\item 0.448319920381229\n",
       "\\item 0\n",
       "\\item 0.842934414003709\n",
       "\\item 0.837128951896112\n",
       "\\item 0.76713047599801\n",
       "\\item 1.11902790320712\n",
       "\\item 0.328753513616861\n",
       "\\item 1.1982000247687\n",
       "\\item 0\n",
       "\\item 0.880756558148556\n",
       "\\item 1.17362500228212\n",
       "\\item 1.06458271675565\n",
       "\\item 1.3432012171469\n",
       "\\item 0.97102689232389\n",
       "\\item 1.22621693522546\n",
       "\\item 1.44421929157095\n",
       "\\item 0.55591920303509\n",
       "\\item 0\n",
       "\\item 1.0230963650548\n",
       "\\end{enumerate*}\n",
       "\n",
       "\\item[\\$d] \\begin{enumerate*}\n",
       "\\item 0.637832413090195\n",
       "\\item 0.955445406216087\n",
       "\\item 0.541851799628014\n",
       "\\item 0.677543892496806\n",
       "\\item 0.576536793437788\n",
       "\\item 0.806765434975055\n",
       "\\item 0.507953522201883\n",
       "\\item 0.691769649721367\n",
       "\\item 0.875391724113215\n",
       "\\item 0.290253190108434\n",
       "\\end{enumerate*}\n",
       "\n",
       "\\end{description}\n"
      ],
      "text/markdown": [
       "$a\n",
       ":   1. 1\n",
       "2. 1.4142135623731\n",
       "3. 1.73205080756888\n",
       "4. 2\n",
       "\n",
       "\n",
       "\n",
       "$b\n",
       ":   1. 1.12381238864892\n",
       "2. 0\n",
       "3. 1.15316922562237\n",
       "4. 1.1280200891072\n",
       "5. 0.643926575361204\n",
       "6. 0\n",
       "7. 0\n",
       "8. 0\n",
       "9. 0\n",
       "10. 1.55069448598296\n",
       "\n",
       "\n",
       "\n",
       "$c\n",
       ":   1. 1.3280035621716\n",
       "2. 0.448319920381229\n",
       "3. 0\n",
       "4. 0.842934414003709\n",
       "5. 0.837128951896112\n",
       "6. 0.76713047599801\n",
       "7. 1.11902790320712\n",
       "8. 0.328753513616861\n",
       "9. 1.1982000247687\n",
       "10. 0\n",
       "11. 0.880756558148556\n",
       "12. 1.17362500228212\n",
       "13. 1.06458271675565\n",
       "14. 1.3432012171469\n",
       "15. 0.97102689232389\n",
       "16. 1.22621693522546\n",
       "17. 1.44421929157095\n",
       "18. 0.55591920303509\n",
       "19. 0\n",
       "20. 1.0230963650548\n",
       "\n",
       "\n",
       "\n",
       "$d\n",
       ":   1. 0.637832413090195\n",
       "2. 0.955445406216087\n",
       "3. 0.541851799628014\n",
       "4. 0.677543892496806\n",
       "5. 0.576536793437788\n",
       "6. 0.806765434975055\n",
       "7. 0.507953522201883\n",
       "8. 0.691769649721367\n",
       "9. 0.875391724113215\n",
       "10. 0.290253190108434\n",
       "\n",
       "\n",
       "\n",
       "\n",
       "\n"
      ],
      "text/plain": [
       "$a\n",
       "[1] 1.000000 1.414214 1.732051 2.000000\n",
       "\n",
       "$b\n",
       " [1] 1.1238124 0.0000000 1.1531692 1.1280201 0.6439266 0.0000000 0.0000000\n",
       " [8] 0.0000000 0.0000000 1.5506945\n",
       "\n",
       "$c\n",
       " [1] 1.3280036 0.4483199 0.0000000 0.8429344 0.8371290 0.7671305 1.1190279\n",
       " [8] 0.3287535 1.1982000 0.0000000 0.8807566 1.1736250 1.0645827 1.3432012\n",
       "[15] 0.9710269 1.2262169 1.4442193 0.5559192 0.0000000 1.0230964\n",
       "\n",
       "$d\n",
       " [1] 0.6378324 0.9554454 0.5418518 0.6775439 0.5765368 0.8067654 0.5079535\n",
       " [8] 0.6917696 0.8753917 0.2902532\n"
      ]
     },
     "metadata": {},
     "output_type": "display_data"
    }
   ],
   "source": [
    "set.seed(0)\n",
    "x=list(a=1:4, b=rnorm(10), c=rnorm(20, 1), d=runif(10)); x\n",
    "\n",
    "mysqrt = function(x){\n",
    "    sqrt(ifelse(x>=0, x, 0))\n",
    "}\n",
    "# z=lapply(x, mysqrt); z\n",
    "z=lapply(x, function(x){sqrt(ifelse(x>=0, x, 0))}); z"
   ]
  },
  {
   "cell_type": "code",
   "execution_count": 38,
   "metadata": {},
   "outputs": [
    {
     "data": {
      "text/html": [
       "<dl>\n",
       "\t<dt>$a</dt>\n",
       "\t\t<dd><table>\n",
       "<caption>A matrix: 2 × 2 of type int</caption>\n",
       "<tbody>\n",
       "\t<tr><td>1</td><td>3</td></tr>\n",
       "\t<tr><td>2</td><td>4</td></tr>\n",
       "</tbody>\n",
       "</table>\n",
       "</dd>\n",
       "\t<dt>$b</dt>\n",
       "\t\t<dd><table>\n",
       "<caption>A matrix: 3 × 2 of type int</caption>\n",
       "<tbody>\n",
       "\t<tr><td>1</td><td>4</td></tr>\n",
       "\t<tr><td>2</td><td>5</td></tr>\n",
       "\t<tr><td>3</td><td>6</td></tr>\n",
       "</tbody>\n",
       "</table>\n",
       "</dd>\n",
       "</dl>\n"
      ],
      "text/latex": [
       "\\begin{description}\n",
       "\\item[\\$a] A matrix: 2 × 2 of type int\n",
       "\\begin{tabular}{ll}\n",
       "\t 1 & 3\\\\\n",
       "\t 2 & 4\\\\\n",
       "\\end{tabular}\n",
       "\n",
       "\\item[\\$b] A matrix: 3 × 2 of type int\n",
       "\\begin{tabular}{ll}\n",
       "\t 1 & 4\\\\\n",
       "\t 2 & 5\\\\\n",
       "\t 3 & 6\\\\\n",
       "\\end{tabular}\n",
       "\n",
       "\\end{description}\n"
      ],
      "text/markdown": [
       "$a\n",
       ":   \n",
       "A matrix: 2 × 2 of type int\n",
       "\n",
       "| 1 | 3 |\n",
       "| 2 | 4 |\n",
       "\n",
       "\n",
       "$b\n",
       ":   \n",
       "A matrix: 3 × 2 of type int\n",
       "\n",
       "| 1 | 4 |\n",
       "| 2 | 5 |\n",
       "| 3 | 6 |\n",
       "\n",
       "\n",
       "\n",
       "\n"
      ],
      "text/plain": [
       "$a\n",
       "     [,1] [,2]\n",
       "[1,]    1    3\n",
       "[2,]    2    4\n",
       "\n",
       "$b\n",
       "     [,1] [,2]\n",
       "[1,]    1    4\n",
       "[2,]    2    5\n",
       "[3,]    3    6\n"
      ]
     },
     "metadata": {},
     "output_type": "display_data"
    },
    {
     "name": "stdout",
     "output_type": "stream",
     "text": [
      "$a\n",
      "[1] 1 2\n",
      "\n",
      "$b\n",
      "[1] 1 2 3\n",
      "\n",
      "[1] 1 2 3\n",
      "[1] 1 2 3\n"
     ]
    }
   ],
   "source": [
    "x=list(a = matrix(1:4, 2, 2), b = matrix(1:6, 3, 2)); x\n",
    "y=lapply(x, function(elt) { elt[,1] }) # first column\n",
    "print(y)\n",
    "print(y[[2]])\n",
    "print(y$b)"
   ]
  },
  {
   "cell_type": "code",
   "execution_count": 39,
   "metadata": {},
   "outputs": [
    {
     "data": {
      "text/html": [
       "<dl>\n",
       "\t<dt>$a</dt>\n",
       "\t\t<dd><ol class=list-inline>\n",
       "\t<li>1</li>\n",
       "\t<li>2</li>\n",
       "\t<li>3</li>\n",
       "\t<li>4</li>\n",
       "\t<li>5</li>\n",
       "\t<li>6</li>\n",
       "\t<li>7</li>\n",
       "\t<li>8</li>\n",
       "\t<li>9</li>\n",
       "\t<li>10</li>\n",
       "</ol>\n",
       "</dd>\n",
       "\t<dt>$b</dt>\n",
       "\t\t<dd><ol class=list-inline>\n",
       "\t<li>15.759558770436</li>\n",
       "\t<li>14.960801827229</li>\n",
       "\t<li>7.85243445254059</li>\n",
       "\t<li>16.1915205042669</li>\n",
       "\t<li>8.60326859072865</li>\n",
       "\t<li>18.7895154490535</li>\n",
       "</ol>\n",
       "</dd>\n",
       "\t<dt>$c</dt>\n",
       "\t\t<dd><ol class=list-inline>\n",
       "\t<li>TRUE</li>\n",
       "\t<li>FALSE</li>\n",
       "\t<li>FALSE</li>\n",
       "\t<li>TRUE</li>\n",
       "</ol>\n",
       "</dd>\n",
       "</dl>\n"
      ],
      "text/latex": [
       "\\begin{description}\n",
       "\\item[\\$a] \\begin{enumerate*}\n",
       "\\item 1\n",
       "\\item 2\n",
       "\\item 3\n",
       "\\item 4\n",
       "\\item 5\n",
       "\\item 6\n",
       "\\item 7\n",
       "\\item 8\n",
       "\\item 9\n",
       "\\item 10\n",
       "\\end{enumerate*}\n",
       "\n",
       "\\item[\\$b] \\begin{enumerate*}\n",
       "\\item 15.759558770436\n",
       "\\item 14.960801827229\n",
       "\\item 7.85243445254059\n",
       "\\item 16.1915205042669\n",
       "\\item 8.60326859072865\n",
       "\\item 18.7895154490535\n",
       "\\end{enumerate*}\n",
       "\n",
       "\\item[\\$c] \\begin{enumerate*}\n",
       "\\item TRUE\n",
       "\\item FALSE\n",
       "\\item FALSE\n",
       "\\item TRUE\n",
       "\\end{enumerate*}\n",
       "\n",
       "\\end{description}\n"
      ],
      "text/markdown": [
       "$a\n",
       ":   1. 1\n",
       "2. 2\n",
       "3. 3\n",
       "4. 4\n",
       "5. 5\n",
       "6. 6\n",
       "7. 7\n",
       "8. 8\n",
       "9. 9\n",
       "10. 10\n",
       "\n",
       "\n",
       "\n",
       "$b\n",
       ":   1. 15.759558770436\n",
       "2. 14.960801827229\n",
       "3. 7.85243445254059\n",
       "4. 16.1915205042669\n",
       "5. 8.60326859072865\n",
       "6. 18.7895154490535\n",
       "\n",
       "\n",
       "\n",
       "$c\n",
       ":   1. TRUE\n",
       "2. FALSE\n",
       "3. FALSE\n",
       "4. TRUE\n",
       "\n",
       "\n",
       "\n",
       "\n",
       "\n"
      ],
      "text/plain": [
       "$a\n",
       " [1]  1  2  3  4  5  6  7  8  9 10\n",
       "\n",
       "$b\n",
       "[1] 15.759559 14.960802  7.852434 16.191521  8.603269 18.789515\n",
       "\n",
       "$c\n",
       "[1]  TRUE FALSE FALSE  TRUE\n"
      ]
     },
     "metadata": {},
     "output_type": "display_data"
    },
    {
     "data": {
      "text/html": [
       "<dl>\n",
       "\t<dt>$a</dt>\n",
       "\t\t<dd><ol class=list-inline>\n",
       "\t<li>1</li>\n",
       "\t<li>3</li>\n",
       "\t<li>5.5</li>\n",
       "\t<li>8</li>\n",
       "\t<li>10</li>\n",
       "</ol>\n",
       "</dd>\n",
       "\t<dt>$b</dt>\n",
       "\t\t<dd><ol class=list-inline>\n",
       "\t<li>7.85243445254059</li>\n",
       "\t<li>8.60326859072865</li>\n",
       "\t<li>15.3601802988325</li>\n",
       "\t<li>16.1915205042669</li>\n",
       "\t<li>18.7895154490535</li>\n",
       "</ol>\n",
       "</dd>\n",
       "\t<dt>$c</dt>\n",
       "\t\t<dd><ol class=list-inline>\n",
       "\t<li>0</li>\n",
       "\t<li>0</li>\n",
       "\t<li>0.5</li>\n",
       "\t<li>1</li>\n",
       "\t<li>1</li>\n",
       "</ol>\n",
       "</dd>\n",
       "</dl>\n"
      ],
      "text/latex": [
       "\\begin{description}\n",
       "\\item[\\$a] \\begin{enumerate*}\n",
       "\\item 1\n",
       "\\item 3\n",
       "\\item 5.5\n",
       "\\item 8\n",
       "\\item 10\n",
       "\\end{enumerate*}\n",
       "\n",
       "\\item[\\$b] \\begin{enumerate*}\n",
       "\\item 7.85243445254059\n",
       "\\item 8.60326859072865\n",
       "\\item 15.3601802988325\n",
       "\\item 16.1915205042669\n",
       "\\item 18.7895154490535\n",
       "\\end{enumerate*}\n",
       "\n",
       "\\item[\\$c] \\begin{enumerate*}\n",
       "\\item 0\n",
       "\\item 0\n",
       "\\item 0.5\n",
       "\\item 1\n",
       "\\item 1\n",
       "\\end{enumerate*}\n",
       "\n",
       "\\end{description}\n"
      ],
      "text/markdown": [
       "$a\n",
       ":   1. 1\n",
       "2. 3\n",
       "3. 5.5\n",
       "4. 8\n",
       "5. 10\n",
       "\n",
       "\n",
       "\n",
       "$b\n",
       ":   1. 7.85243445254059\n",
       "2. 8.60326859072865\n",
       "3. 15.3601802988325\n",
       "4. 16.1915205042669\n",
       "5. 18.7895154490535\n",
       "\n",
       "\n",
       "\n",
       "$c\n",
       ":   1. 0\n",
       "2. 0\n",
       "3. 0.5\n",
       "4. 1\n",
       "5. 1\n",
       "\n",
       "\n",
       "\n",
       "\n",
       "\n"
      ],
      "text/plain": [
       "$a\n",
       "[1]  1.0  3.0  5.5  8.0 10.0\n",
       "\n",
       "$b\n",
       "[1]  7.852434  8.603269 15.360180 16.191521 18.789515\n",
       "\n",
       "$c\n",
       "[1] 0.0 0.0 0.5 1.0 1.0\n"
      ]
     },
     "metadata": {},
     "output_type": "display_data"
    }
   ],
   "source": [
    "x = list(a = 1:10, b = rnorm(6,10,5), c = c(TRUE,FALSE,FALSE,TRUE));x\n",
    "lapply(x,fivenum) #five sample percentiles for each element vector"
   ]
  },
  {
   "cell_type": "code",
   "execution_count": 40,
   "metadata": {
    "scrolled": true
   },
   "outputs": [
    {
     "data": {
      "text/html": [
       "'list'"
      ],
      "text/latex": [
       "'list'"
      ],
      "text/markdown": [
       "'list'"
      ],
      "text/plain": [
       "[1] \"list\""
      ]
     },
     "metadata": {},
     "output_type": "display_data"
    },
    {
     "name": "stdout",
     "output_type": "stream",
     "text": [
      "[[1]]\n",
      "[1] 1\n",
      "\n",
      "[[2]]\n",
      "[1] 1 2\n",
      "\n",
      "[[3]]\n",
      "[1] 1 2 3\n",
      "\n",
      "[[4]]\n",
      "[1] 1 2 3 4\n",
      "\n",
      "[[5]]\n",
      "[1] 1 2 3 4 5\n",
      "\n"
     ]
    }
   ],
   "source": [
    "l=lapply(1:5, seq_len) #return list\n",
    "class(l)\n",
    "print(l)"
   ]
  },
  {
   "cell_type": "code",
   "execution_count": 41,
   "metadata": {
    "scrolled": false
   },
   "outputs": [
    {
     "data": {
      "text/html": [
       "<table>\n",
       "<caption>A matrix: 4 × 2 of type dbl</caption>\n",
       "<thead>\n",
       "\t<tr><th scope=col>x1</th><th scope=col>x2</th></tr>\n",
       "</thead>\n",
       "<tbody>\n",
       "\t<tr><td>3</td><td>2</td></tr>\n",
       "\t<tr><td>3</td><td>1</td></tr>\n",
       "\t<tr><td>3</td><td>4</td></tr>\n",
       "\t<tr><td>3</td><td>5</td></tr>\n",
       "</tbody>\n",
       "</table>\n"
      ],
      "text/latex": [
       "A matrix: 4 × 2 of type dbl\n",
       "\\begin{tabular}{ll}\n",
       " x1 & x2\\\\\n",
       "\\hline\n",
       "\t 3 & 2\\\\\n",
       "\t 3 & 1\\\\\n",
       "\t 3 & 4\\\\\n",
       "\t 3 & 5\\\\\n",
       "\\end{tabular}\n"
      ],
      "text/markdown": [
       "\n",
       "A matrix: 4 × 2 of type dbl\n",
       "\n",
       "| x1 | x2 |\n",
       "|---|---|\n",
       "| 3 | 2 |\n",
       "| 3 | 1 |\n",
       "| 3 | 4 |\n",
       "| 3 | 5 |\n",
       "\n"
      ],
      "text/plain": [
       "     x1 x2\n",
       "[1,] 3  2 \n",
       "[2,] 3  1 \n",
       "[3,] 3  4 \n",
       "[4,] 3  5 "
      ]
     },
     "metadata": {},
     "output_type": "display_data"
    },
    {
     "data": {
      "text/html": [
       "'matrix'"
      ],
      "text/latex": [
       "'matrix'"
      ],
      "text/markdown": [
       "'matrix'"
      ],
      "text/plain": [
       "[1] \"matrix\""
      ]
     },
     "metadata": {},
     "output_type": "display_data"
    },
    {
     "data": {
      "text/html": [
       "'double'"
      ],
      "text/latex": [
       "'double'"
      ],
      "text/markdown": [
       "'double'"
      ],
      "text/plain": [
       "[1] \"double\""
      ]
     },
     "metadata": {},
     "output_type": "display_data"
    },
    {
     "name": "stdout",
     "output_type": "stream",
     "text": [
      "[[1]]\n",
      "[1] 3\n",
      "\n",
      "[[2]]\n",
      "[1] 3\n",
      "\n",
      "[[3]]\n",
      "[1] 3\n",
      "\n",
      "[[4]]\n",
      "[1] 3\n",
      "\n",
      "[[5]]\n",
      "[1] 2\n",
      "\n",
      "[[6]]\n",
      "[1] 1\n",
      "\n",
      "[[7]]\n",
      "[1] 4\n",
      "\n",
      "[[8]]\n",
      "[1] 5\n",
      "\n",
      "[1] 3\n",
      "[1] 3\n",
      "[1] 3\n",
      "[1] 3\n",
      "[1] 2\n",
      "[1] 1\n",
      "[1] 4\n",
      "[1] 5\n"
     ]
    },
    {
     "data": {
      "text/html": [
       "8"
      ],
      "text/latex": [
       "8"
      ],
      "text/markdown": [
       "8"
      ],
      "text/plain": [
       "[1] 8"
      ]
     },
     "metadata": {},
     "output_type": "display_data"
    }
   ],
   "source": [
    "x=cbind(x1=3, x2=c(2:1, 4:5));x\n",
    "class(x)\n",
    "typeof(x)\n",
    "y=lapply(x, sum) #convert x to a list then run sum on each element\n",
    "print(y)\n",
    "for (i in x) print(i)  #matrix internally is a vector\n",
    "length(x)"
   ]
  },
  {
   "cell_type": "code",
   "execution_count": 70,
   "metadata": {
    "scrolled": false
   },
   "outputs": [
    {
     "data": {
      "text/html": [
       "<dl>\n",
       "\t<dt>$a</dt>\n",
       "\t\t<dd><ol class=list-inline>\n",
       "\t<li>1</li>\n",
       "\t<li>2</li>\n",
       "\t<li>3</li>\n",
       "\t<li>4</li>\n",
       "</ol>\n",
       "</dd>\n",
       "\t<dt>$b</dt>\n",
       "\t\t<dd><ol class=list-inline>\n",
       "\t<li>0.358728895971352</li>\n",
       "\t<li>-0.0110454784656636</li>\n",
       "\t<li>-0.940649162618608</li>\n",
       "\t<li>-0.115825322156954</li>\n",
       "\t<li>-0.814968708869917</li>\n",
       "\t<li>0.242263480859686</li>\n",
       "\t<li>-1.4250983947325</li>\n",
       "\t<li>0.36594112304922</li>\n",
       "\t<li>0.248412648872596</li>\n",
       "\t<li>0.0652881816716207</li>\n",
       "</ol>\n",
       "</dd>\n",
       "\t<dt>$c</dt>\n",
       "\t\t<dd><ol class=list-inline>\n",
       "\t<li>1.01915639166027</li>\n",
       "\t<li>1.25733837715553</li>\n",
       "\t<li>0.350989922291102</li>\n",
       "\t<li>0.880831237581962</li>\n",
       "\t<li>1.66413569989411</li>\n",
       "</ol>\n",
       "</dd>\n",
       "\t<dt>$d</dt>\n",
       "\t\t<dd><ol class=list-inline>\n",
       "\t<li>6.10096910219409</li>\n",
       "\t<li>5.14377148075807</li>\n",
       "\t<li>4.88224640183405</li>\n",
       "\t<li>4.08793163305166</li>\n",
       "\t<li>3.56241375917002</li>\n",
       "\t<li>4.20291047492804</li>\n",
       "\t<li>6.25408310644997</li>\n",
       "\t<li>5.77214218580453</li>\n",
       "\t<li>4.78048437324656</li>\n",
       "\t<li>4.57518971662271</li>\n",
       "</ol>\n",
       "</dd>\n",
       "</dl>\n"
      ],
      "text/latex": [
       "\\begin{description}\n",
       "\\item[\\$a] \\begin{enumerate*}\n",
       "\\item 1\n",
       "\\item 2\n",
       "\\item 3\n",
       "\\item 4\n",
       "\\end{enumerate*}\n",
       "\n",
       "\\item[\\$b] \\begin{enumerate*}\n",
       "\\item 0.358728895971352\n",
       "\\item -0.0110454784656636\n",
       "\\item -0.940649162618608\n",
       "\\item -0.115825322156954\n",
       "\\item -0.814968708869917\n",
       "\\item 0.242263480859686\n",
       "\\item -1.4250983947325\n",
       "\\item 0.36594112304922\n",
       "\\item 0.248412648872596\n",
       "\\item 0.0652881816716207\n",
       "\\end{enumerate*}\n",
       "\n",
       "\\item[\\$c] \\begin{enumerate*}\n",
       "\\item 1.01915639166027\n",
       "\\item 1.25733837715553\n",
       "\\item 0.350989922291102\n",
       "\\item 0.880831237581962\n",
       "\\item 1.66413569989411\n",
       "\\end{enumerate*}\n",
       "\n",
       "\\item[\\$d] \\begin{enumerate*}\n",
       "\\item 6.10096910219409\n",
       "\\item 5.14377148075807\n",
       "\\item 4.88224640183405\n",
       "\\item 4.08793163305166\n",
       "\\item 3.56241375917002\n",
       "\\item 4.20291047492804\n",
       "\\item 6.25408310644997\n",
       "\\item 5.77214218580453\n",
       "\\item 4.78048437324656\n",
       "\\item 4.57518971662271\n",
       "\\end{enumerate*}\n",
       "\n",
       "\\end{description}\n"
      ],
      "text/markdown": [
       "$a\n",
       ":   1. 1\n",
       "2. 2\n",
       "3. 3\n",
       "4. 4\n",
       "\n",
       "\n",
       "\n",
       "$b\n",
       ":   1. 0.358728895971352\n",
       "2. -0.0110454784656636\n",
       "3. -0.940649162618608\n",
       "4. -0.115825322156954\n",
       "5. -0.814968708869917\n",
       "6. 0.242263480859686\n",
       "7. -1.4250983947325\n",
       "8. 0.36594112304922\n",
       "9. 0.248412648872596\n",
       "10. 0.0652881816716207\n",
       "\n",
       "\n",
       "\n",
       "$c\n",
       ":   1. 1.01915639166027\n",
       "2. 1.25733837715553\n",
       "3. 0.350989922291102\n",
       "4. 0.880831237581962\n",
       "5. 1.66413569989411\n",
       "\n",
       "\n",
       "\n",
       "$d\n",
       ":   1. 6.10096910219409\n",
       "2. 5.14377148075807\n",
       "3. 4.88224640183405\n",
       "4. 4.08793163305166\n",
       "5. 3.56241375917002\n",
       "6. 4.20291047492804\n",
       "7. 6.25408310644997\n",
       "8. 5.77214218580453\n",
       "9. 4.78048437324656\n",
       "10. 4.57518971662271\n",
       "\n",
       "\n",
       "\n",
       "\n",
       "\n"
      ],
      "text/plain": [
       "$a\n",
       "[1] 1 2 3 4\n",
       "\n",
       "$b\n",
       " [1]  0.35872890 -0.01104548 -0.94064916 -0.11582532 -0.81496871  0.24226348\n",
       " [7] -1.42509839  0.36594112  0.24841265  0.06528818\n",
       "\n",
       "$c\n",
       "[1] 1.0191564 1.2573384 0.3509899 0.8808312 1.6641357\n",
       "\n",
       "$d\n",
       " [1] 6.100969 5.143771 4.882246 4.087932 3.562414 4.202910 6.254083 5.772142\n",
       " [9] 4.780484 4.575190\n"
      ]
     },
     "metadata": {},
     "output_type": "display_data"
    },
    {
     "name": "stdout",
     "output_type": "stream",
     "text": [
      "[1] \"========lapply======\"\n",
      "$a\n",
      "[1] 2.5\n",
      "\n",
      "$b\n",
      "[1] -0.2026953\n",
      "\n",
      "$c\n",
      "[1] 1.03449\n",
      "\n",
      "$d\n",
      "[1] 4.936214\n",
      "\n",
      "[1] \"========sapply======\"\n",
      "         a          b          c          d \n",
      " 2.5000000 -0.2026953  1.0344903  4.9362142 \n"
     ]
    },
    {
     "data": {
      "text/html": [
       "'list'"
      ],
      "text/latex": [
       "'list'"
      ],
      "text/markdown": [
       "'list'"
      ],
      "text/plain": [
       "[1] \"list\""
      ]
     },
     "metadata": {},
     "output_type": "display_data"
    },
    {
     "data": {
      "text/html": [
       "-0.202695273641917"
      ],
      "text/latex": [
       "-0.202695273641917"
      ],
      "text/markdown": [
       "-0.202695273641917"
      ],
      "text/plain": [
       "[1] -0.2026953"
      ]
     },
     "metadata": {},
     "output_type": "display_data"
    },
    {
     "data": {
      "text/html": [
       "'numeric'"
      ],
      "text/latex": [
       "'numeric'"
      ],
      "text/markdown": [
       "'numeric'"
      ],
      "text/plain": [
       "[1] \"numeric\""
      ]
     },
     "metadata": {},
     "output_type": "display_data"
    },
    {
     "data": {
      "text/html": [
       "<strong>b:</strong> -0.202695273641917"
      ],
      "text/latex": [
       "\\textbf{b:} -0.202695273641917"
      ],
      "text/markdown": [
       "**b:** -0.202695273641917"
      ],
      "text/plain": [
       "         b \n",
       "-0.2026953 "
      ]
     },
     "metadata": {},
     "output_type": "display_data"
    }
   ],
   "source": [
    "x=list(a=1:4, b=rnorm(10), c=rnorm(5, 1), d=rnorm(10, 5));x\n",
    "print(\"========lapply======\")\n",
    "l=lapply(x, mean);print(l) #list\n",
    "print(\"========sapply======\")\n",
    "s=sapply(x, mean);print(s) #vector\n",
    "# print(l)\n",
    "class(l)\n",
    "l[[2]]  #access element of list\n",
    "\n",
    "# print(s)\n",
    "class(s)\n",
    "s[2]"
   ]
  },
  {
   "cell_type": "code",
   "execution_count": 11,
   "metadata": {
    "scrolled": false
   },
   "outputs": [
    {
     "name": "stdout",
     "output_type": "stream",
     "text": [
      "$a\n",
      "[1]  1  4  9 16\n",
      "\n",
      "$b\n",
      " [1] 0.603381920 0.379443566 0.002169725 1.277772006 0.332604553 1.640319107\n",
      " [7] 2.642078936 0.250697081 2.816681518 0.170172658\n",
      "\n",
      "$c\n",
      "[1] 0.0007680195 1.0514100251 1.0557055676 0.4626485358 4.2178926074\n",
      "\n",
      "$d\n",
      " [1] 15.05751 28.46881 30.19278 26.39959 23.82619 27.01592 15.45518 17.61302\n",
      " [9] 15.10282 43.29761\n",
      "\n"
     ]
    },
    {
     "data": {
      "text/html": [
       "'list'"
      ],
      "text/latex": [
       "'list'"
      ],
      "text/markdown": [
       "'list'"
      ],
      "text/plain": [
       "[1] \"list\""
      ]
     },
     "metadata": {},
     "output_type": "display_data"
    },
    {
     "name": "stdout",
     "output_type": "stream",
     "text": [
      "$a\n",
      "[1]  1  4  9 16\n",
      "\n",
      "$b\n",
      " [1] 0.603381920 0.379443566 0.002169725 1.277772006 0.332604553 1.640319107\n",
      " [7] 2.642078936 0.250697081 2.816681518 0.170172658\n",
      "\n",
      "$c\n",
      "[1] 0.0007680195 1.0514100251 1.0557055676 0.4626485358 4.2178926074\n",
      "\n",
      "$d\n",
      " [1] 15.05751 28.46881 30.19278 26.39959 23.82619 27.01592 15.45518 17.61302\n",
      " [9] 15.10282 43.29761\n",
      "\n"
     ]
    },
    {
     "data": {
      "text/html": [
       "'list'"
      ],
      "text/latex": [
       "'list'"
      ],
      "text/markdown": [
       "'list'"
      ],
      "text/plain": [
       "[1] \"list\""
      ]
     },
     "metadata": {},
     "output_type": "display_data"
    }
   ],
   "source": [
    "x=list(a=1:4, b=rnorm(10), c=rnorm(5, 1), d=rnorm(10, 5))\n",
    "l=lapply(x, function(i){i*i})\n",
    "print(l)\n",
    "class(l)\n",
    "s=sapply(x, function(i){i*i}) #can't figure out the different size vectors, so return list, same as lapply\n",
    "print(s)\n",
    "class(s)"
   ]
  },
  {
   "cell_type": "code",
   "execution_count": 44,
   "metadata": {
    "scrolled": false
   },
   "outputs": [
    {
     "name": "stdout",
     "output_type": "stream",
     "text": [
      "[[1]]\n",
      "[1] 1\n",
      "\n",
      "[[2]]\n",
      "[1] 1 2\n",
      "\n",
      "[[3]]\n",
      "[1] 1 2 3\n",
      "\n",
      "[[4]]\n",
      "[1] 1 2 3 4\n",
      "\n",
      "[[5]]\n",
      "[1] 1 2 3 4 5\n",
      "\n",
      "[[1]]\n",
      "[1] 1\n",
      "\n",
      "[[2]]\n",
      "[1] 1 2\n",
      "\n",
      "[[3]]\n",
      "[1] 1 2 3\n",
      "\n",
      "[[4]]\n",
      "[1] 1 2 3 4\n",
      "\n",
      "[[5]]\n",
      "[1] 1 2 3 4 5\n",
      "\n"
     ]
    }
   ],
   "source": [
    "s=sapply(1:5, seq_len); print(s) #return list\n",
    "l=lapply(1:5, seq_len); print(l) #return list"
   ]
  },
  {
   "cell_type": "code",
   "execution_count": 45,
   "metadata": {
    "scrolled": true
   },
   "outputs": [
    {
     "name": "stdout",
     "output_type": "stream",
     "text": [
      "[1] 1.000000 1.414214 1.732051 2.000000 2.236068\n"
     ]
    }
   ],
   "source": [
    "s2=sapply(1:5, sqrt) #return vector\n",
    "print(s2)  "
   ]
  },
  {
   "cell_type": "code",
   "execution_count": 46,
   "metadata": {
    "scrolled": false
   },
   "outputs": [
    {
     "name": "stdout",
     "output_type": "stream",
     "text": [
      "     [,1] [,2] [,3]\n",
      "[1,]    1    1    1\n",
      "[2,]    2    2    2\n",
      "[3,]    3    3    3\n"
     ]
    }
   ],
   "source": [
    "m=sapply(c(3,3,3), seq_len) #return matrix, each result is a column\n",
    "print(m)"
   ]
  },
  {
   "cell_type": "code",
   "execution_count": 13,
   "metadata": {
    "scrolled": true
   },
   "outputs": [
    {
     "data": {
      "text/html": [
       "<table>\n",
       "<tbody>\n",
       "\t<tr><td>1</td><td>2</td><td>3</td><td>4</td><td>5</td></tr>\n",
       "\t<tr><td>1</td><td>2</td><td>3</td><td>4</td><td>5</td></tr>\n",
       "\t<tr><td>1</td><td>2</td><td>3</td><td>4</td><td>5</td></tr>\n",
       "\t<tr><td>1</td><td>2</td><td>3</td><td>4</td><td>5</td></tr>\n",
       "</tbody>\n",
       "</table>\n"
      ],
      "text/latex": [
       "\\begin{tabular}{lllll}\n",
       "\t 1 & 2 & 3 & 4 & 5\\\\\n",
       "\t 1 & 2 & 3 & 4 & 5\\\\\n",
       "\t 1 & 2 & 3 & 4 & 5\\\\\n",
       "\t 1 & 2 & 3 & 4 & 5\\\\\n",
       "\\end{tabular}\n"
      ],
      "text/markdown": [
       "\n",
       "| 1 | 2 | 3 | 4 | 5 |\n",
       "| 1 | 2 | 3 | 4 | 5 |\n",
       "| 1 | 2 | 3 | 4 | 5 |\n",
       "| 1 | 2 | 3 | 4 | 5 |\n",
       "\n"
      ],
      "text/plain": [
       "     [,1] [,2] [,3] [,4] [,5]\n",
       "[1,] 1    2    3    4    5   \n",
       "[2,] 1    2    3    4    5   \n",
       "[3,] 1    2    3    4    5   \n",
       "[4,] 1    2    3    4    5   "
      ]
     },
     "metadata": {},
     "output_type": "display_data"
    },
    {
     "data": {
      "text/html": [
       "3"
      ],
      "text/latex": [
       "3"
      ],
      "text/markdown": [
       "3"
      ],
      "text/plain": [
       "[1] 3"
      ]
     },
     "metadata": {},
     "output_type": "display_data"
    },
    {
     "data": {
      "text/html": [
       "4"
      ],
      "text/latex": [
       "4"
      ],
      "text/markdown": [
       "4"
      ],
      "text/plain": [
       "[1] 4"
      ]
     },
     "metadata": {},
     "output_type": "display_data"
    },
    {
     "data": {
      "text/html": [
       "5"
      ],
      "text/latex": [
       "5"
      ],
      "text/markdown": [
       "5"
      ],
      "text/plain": [
       "[1] 5"
      ]
     },
     "metadata": {},
     "output_type": "display_data"
    },
    {
     "data": {
      "text/html": [
       "'matrix'"
      ],
      "text/latex": [
       "'matrix'"
      ],
      "text/markdown": [
       "'matrix'"
      ],
      "text/plain": [
       "[1] \"matrix\""
      ]
     },
     "metadata": {},
     "output_type": "display_data"
    },
    {
     "name": "stdout",
     "output_type": "stream",
     "text": [
      "     [,1] [,2] [,3] [,4] [,5]\n",
      "[1,]    1    2    3    4    5\n",
      "[2,]    1    2    3    4    5\n",
      "[3,]    1    2    3    4    5\n",
      "[4,]    1    2    3    4    5\n"
     ]
    }
   ],
   "source": [
    "x=sapply(1:5,function(x) {matrix(x,2,2)})\n",
    "x# a matrix becomes an array and then becomes a column in result\n",
    "x[12]\n",
    "x[13] #access matrix element as vector\n",
    "x[4,5]\n",
    "class(x) #matrix is 2d array\n",
    "attributes(x)\n",
    "print(x)"
   ]
  },
  {
   "cell_type": "code",
   "execution_count": 48,
   "metadata": {
    "scrolled": true
   },
   "outputs": [
    {
     "data": {
      "text/html": [
       "'matrix'"
      ],
      "text/latex": [
       "'matrix'"
      ],
      "text/markdown": [
       "'matrix'"
      ],
      "text/plain": [
       "[1] \"matrix\""
      ]
     },
     "metadata": {},
     "output_type": "display_data"
    },
    {
     "data": {
      "text/html": [
       "'integer'"
      ],
      "text/latex": [
       "'integer'"
      ],
      "text/markdown": [
       "'integer'"
      ],
      "text/plain": [
       "[1] \"integer\""
      ]
     },
     "metadata": {},
     "output_type": "display_data"
    },
    {
     "name": "stdout",
     "output_type": "stream",
     "text": [
      "     [,1] [,2]\n",
      "[1,]    1    2\n",
      "[2,]    1    2\n",
      "[3,]    1    2\n",
      "[4,]    1    2\n"
     ]
    }
   ],
   "source": [
    "x=sapply(1:2,function(x){matrix(x,2,2)})\n",
    "class(x)\n",
    "typeof(x)\n",
    "print(x)"
   ]
  },
  {
   "cell_type": "code",
   "execution_count": 49,
   "metadata": {
    "scrolled": false
   },
   "outputs": [
    {
     "name": "stdout",
     "output_type": "stream",
     "text": [
      ", , 1\n",
      "\n",
      "     [,1] [,2]\n",
      "[1,]    1    1\n",
      "[2,]    1    1\n",
      "\n",
      ", , 2\n",
      "\n",
      "     [,1] [,2]\n",
      "[1,]    2    2\n",
      "[2,]    2    2\n",
      "\n",
      ", , 3\n",
      "\n",
      "     [,1] [,2]\n",
      "[1,]    3    3\n",
      "[2,]    3    3\n",
      "\n",
      ", , 4\n",
      "\n",
      "     [,1] [,2]\n",
      "[1,]    4    4\n",
      "[2,]    4    4\n",
      "\n",
      ", , 5\n",
      "\n",
      "     [,1] [,2]\n",
      "[1,]    5    5\n",
      "[2,]    5    5\n",
      "\n"
     ]
    }
   ],
   "source": [
    "x=sapply(1:5,function(x){matrix(x,2,2)}, simplify='array') #return 3d array\n",
    "print(x)"
   ]
  },
  {
   "cell_type": "code",
   "execution_count": 50,
   "metadata": {
    "scrolled": false
   },
   "outputs": [
    {
     "data": {
      "text/html": [
       "'array'"
      ],
      "text/latex": [
       "'array'"
      ],
      "text/markdown": [
       "'array'"
      ],
      "text/plain": [
       "[1] \"array\""
      ]
     },
     "metadata": {},
     "output_type": "display_data"
    },
    {
     "data": {
      "text/html": [
       "<ol class=list-inline>\n",
       "\t<li>2</li>\n",
       "\t<li>2</li>\n",
       "\t<li>5</li>\n",
       "</ol>\n"
      ],
      "text/latex": [
       "\\begin{enumerate*}\n",
       "\\item 2\n",
       "\\item 2\n",
       "\\item 5\n",
       "\\end{enumerate*}\n"
      ],
      "text/markdown": [
       "1. 2\n",
       "2. 2\n",
       "3. 5\n",
       "\n",
       "\n"
      ],
      "text/plain": [
       "[1] 2 2 5"
      ]
     },
     "metadata": {},
     "output_type": "display_data"
    },
    {
     "data": {
      "text/html": [
       "2"
      ],
      "text/latex": [
       "2"
      ],
      "text/markdown": [
       "2"
      ],
      "text/plain": [
       "[1] 2"
      ]
     },
     "metadata": {},
     "output_type": "display_data"
    },
    {
     "data": {
      "text/html": [
       "3"
      ],
      "text/latex": [
       "3"
      ],
      "text/markdown": [
       "3"
      ],
      "text/plain": [
       "[1] 3"
      ]
     },
     "metadata": {},
     "output_type": "display_data"
    },
    {
     "name": "stdout",
     "output_type": "stream",
     "text": [
      " int [1:2, 1:2, 1:5] 1 1 1 1 2 2 2 2 3 3 ...\n"
     ]
    },
    {
     "data": {
      "text/html": [
       "3"
      ],
      "text/latex": [
       "3"
      ],
      "text/markdown": [
       "3"
      ],
      "text/plain": [
       "[1] 3"
      ]
     },
     "metadata": {},
     "output_type": "display_data"
    },
    {
     "name": "stdout",
     "output_type": "stream",
     "text": [
      ", , 1\n",
      "\n",
      "     [,1] [,2]\n",
      "[1,]    1    1\n",
      "[2,]    1    1\n",
      "\n",
      ", , 2\n",
      "\n",
      "     [,1] [,2]\n",
      "[1,]    2    2\n",
      "[2,]    2    2\n",
      "\n",
      ", , 3\n",
      "\n",
      "     [,1] [,2]\n",
      "[1,]    3    3\n",
      "[2,]    3    3\n",
      "\n",
      ", , 4\n",
      "\n",
      "     [,1] [,2]\n",
      "[1,]    4    4\n",
      "[2,]    4    4\n",
      "\n",
      ", , 5\n",
      "\n",
      "     [,1] [,2]\n",
      "[1,]    5    5\n",
      "[2,]    5    5\n",
      "\n"
     ]
    }
   ],
   "source": [
    "class(x)\n",
    "dim(x)\n",
    "x[6]\n",
    "x[9]\n",
    "str(x)\n",
    "x[1,2,3]\n",
    "print(x)"
   ]
  },
  {
   "cell_type": "code",
   "execution_count": 51,
   "metadata": {
    "scrolled": false
   },
   "outputs": [
    {
     "data": {
      "text/html": [
       "<table>\n",
       "<caption>A data.frame: 4 × 2</caption>\n",
       "<thead>\n",
       "\t<tr><th scope=col>x1</th><th scope=col>x2</th></tr>\n",
       "\t<tr><th scope=col>&lt;dbl&gt;</th><th scope=col>&lt;dbl&gt;</th></tr>\n",
       "</thead>\n",
       "<tbody>\n",
       "\t<tr><td>3</td><td>2</td></tr>\n",
       "\t<tr><td>3</td><td>1</td></tr>\n",
       "\t<tr><td>3</td><td>4</td></tr>\n",
       "\t<tr><td>3</td><td>5</td></tr>\n",
       "</tbody>\n",
       "</table>\n"
      ],
      "text/latex": [
       "A data.frame: 4 × 2\n",
       "\\begin{tabular}{ll}\n",
       " x1 & x2\\\\\n",
       " <dbl> & <dbl>\\\\\n",
       "\\hline\n",
       "\t 3 & 2\\\\\n",
       "\t 3 & 1\\\\\n",
       "\t 3 & 4\\\\\n",
       "\t 3 & 5\\\\\n",
       "\\end{tabular}\n"
      ],
      "text/markdown": [
       "\n",
       "A data.frame: 4 × 2\n",
       "\n",
       "| x1 &lt;dbl&gt; | x2 &lt;dbl&gt; |\n",
       "|---|---|\n",
       "| 3 | 2 |\n",
       "| 3 | 1 |\n",
       "| 3 | 4 |\n",
       "| 3 | 5 |\n",
       "\n"
      ],
      "text/plain": [
       "  x1 x2\n",
       "1 3  2 \n",
       "2 3  1 \n",
       "3 3  4 \n",
       "4 3  5 "
      ]
     },
     "metadata": {},
     "output_type": "display_data"
    },
    {
     "data": {
      "text/html": [
       "<table>\n",
       "<caption>A matrix: 4 × 2 of type dbl</caption>\n",
       "<thead>\n",
       "\t<tr><th></th><th scope=col>x1</th><th scope=col>x2</th></tr>\n",
       "</thead>\n",
       "<tbody>\n",
       "\t<tr><th scope=row>a</th><td> 3</td><td> 2</td></tr>\n",
       "\t<tr><th scope=row>b</th><td> 6</td><td> 3</td></tr>\n",
       "\t<tr><th scope=row>c</th><td> 9</td><td> 7</td></tr>\n",
       "\t<tr><th scope=row>d</th><td>12</td><td>12</td></tr>\n",
       "</tbody>\n",
       "</table>\n"
      ],
      "text/latex": [
       "A matrix: 4 × 2 of type dbl\n",
       "\\begin{tabular}{r|ll}\n",
       "  & x1 & x2\\\\\n",
       "\\hline\n",
       "\ta &  3 &  2\\\\\n",
       "\tb &  6 &  3\\\\\n",
       "\tc &  9 &  7\\\\\n",
       "\td & 12 & 12\\\\\n",
       "\\end{tabular}\n"
      ],
      "text/markdown": [
       "\n",
       "A matrix: 4 × 2 of type dbl\n",
       "\n",
       "| <!--/--> | x1 | x2 |\n",
       "|---|---|---|\n",
       "| a |  3 |  2 |\n",
       "| b |  6 |  3 |\n",
       "| c |  9 |  7 |\n",
       "| d | 12 | 12 |\n",
       "\n"
      ],
      "text/plain": [
       "  x1 x2\n",
       "a  3  2\n",
       "b  6  3\n",
       "c  9  7\n",
       "d 12 12"
      ]
     },
     "metadata": {},
     "output_type": "display_data"
    },
    {
     "data": {
      "text/html": [
       "<table>\n",
       "<caption>A matrix: 4 × 2 of type dbl</caption>\n",
       "<thead>\n",
       "\t<tr><th scope=col>x1</th><th scope=col>x2</th></tr>\n",
       "</thead>\n",
       "<tbody>\n",
       "\t<tr><td> 3</td><td> 2</td></tr>\n",
       "\t<tr><td> 6</td><td> 3</td></tr>\n",
       "\t<tr><td> 9</td><td> 7</td></tr>\n",
       "\t<tr><td>12</td><td>12</td></tr>\n",
       "</tbody>\n",
       "</table>\n"
      ],
      "text/latex": [
       "A matrix: 4 × 2 of type dbl\n",
       "\\begin{tabular}{ll}\n",
       " x1 & x2\\\\\n",
       "\\hline\n",
       "\t  3 &  2\\\\\n",
       "\t  6 &  3\\\\\n",
       "\t  9 &  7\\\\\n",
       "\t 12 & 12\\\\\n",
       "\\end{tabular}\n"
      ],
      "text/markdown": [
       "\n",
       "A matrix: 4 × 2 of type dbl\n",
       "\n",
       "| x1 | x2 |\n",
       "|---|---|\n",
       "|  3 |  2 |\n",
       "|  6 |  3 |\n",
       "|  9 |  7 |\n",
       "| 12 | 12 |\n",
       "\n"
      ],
      "text/plain": [
       "     x1 x2\n",
       "[1,]  3  2\n",
       "[2,]  6  3\n",
       "[3,]  9  7\n",
       "[4,] 12 12"
      ]
     },
     "metadata": {},
     "output_type": "display_data"
    },
    {
     "data": {
      "text/html": [
       "<table>\n",
       "<caption>A matrix: 4 × 2 of type dbl</caption>\n",
       "<thead>\n",
       "\t<tr><th></th><th scope=col>x1</th><th scope=col>x2</th></tr>\n",
       "</thead>\n",
       "<tbody>\n",
       "\t<tr><th scope=row>a</th><td> 3</td><td> 2</td></tr>\n",
       "\t<tr><th scope=row>b</th><td> 6</td><td> 3</td></tr>\n",
       "\t<tr><th scope=row>c</th><td> 9</td><td> 7</td></tr>\n",
       "\t<tr><th scope=row>d</th><td>12</td><td>12</td></tr>\n",
       "</tbody>\n",
       "</table>\n"
      ],
      "text/latex": [
       "A matrix: 4 × 2 of type dbl\n",
       "\\begin{tabular}{r|ll}\n",
       "  & x1 & x2\\\\\n",
       "\\hline\n",
       "\ta &  3 &  2\\\\\n",
       "\tb &  6 &  3\\\\\n",
       "\tc &  9 &  7\\\\\n",
       "\td & 12 & 12\\\\\n",
       "\\end{tabular}\n"
      ],
      "text/markdown": [
       "\n",
       "A matrix: 4 × 2 of type dbl\n",
       "\n",
       "| <!--/--> | x1 | x2 |\n",
       "|---|---|---|\n",
       "| a |  3 |  2 |\n",
       "| b |  6 |  3 |\n",
       "| c |  9 |  7 |\n",
       "| d | 12 | 12 |\n",
       "\n"
      ],
      "text/plain": [
       "  x1 x2\n",
       "a  3  2\n",
       "b  6  3\n",
       "c  9  7\n",
       "d 12 12"
      ]
     },
     "metadata": {},
     "output_type": "display_data"
    }
   ],
   "source": [
    "x <- data.frame(cbind(x1=3, x2=c(2:1,4:5)));x\n",
    "\n",
    "# a more strict apply function called vapply(), which contains an extra argument \n",
    "# FUN.VALUE where you can specify the type and length of the output that should \n",
    "# be returned each time your applied function is called.\n",
    "vapply(x,cumsum,FUN.VALUE=c('a'=0,'b'=0,'c'=0,'d'=0))\n",
    "a<-sapply(x,cumsum);a\n",
    "row.names(a)<-c('a','b','c','d');a"
   ]
  },
  {
   "cell_type": "code",
   "execution_count": 14,
   "metadata": {
    "scrolled": false
   },
   "outputs": [
    {
     "data": {
      "text/html": [
       "<table>\n",
       "<thead><tr><th scope=col>Ozone</th><th scope=col>Solar.R</th><th scope=col>Wind</th><th scope=col>Temp</th><th scope=col>Month</th><th scope=col>Day</th></tr></thead>\n",
       "<tbody>\n",
       "\t<tr><td>41  </td><td>190 </td><td> 7.4</td><td>67  </td><td>5   </td><td>1   </td></tr>\n",
       "\t<tr><td>36  </td><td>118 </td><td> 8.0</td><td>72  </td><td>5   </td><td>2   </td></tr>\n",
       "\t<tr><td>12  </td><td>149 </td><td>12.6</td><td>74  </td><td>5   </td><td>3   </td></tr>\n",
       "\t<tr><td>18  </td><td>313 </td><td>11.5</td><td>62  </td><td>5   </td><td>4   </td></tr>\n",
       "\t<tr><td>NA  </td><td> NA </td><td>14.3</td><td>56  </td><td>5   </td><td>5   </td></tr>\n",
       "\t<tr><td>28  </td><td> NA </td><td>14.9</td><td>66  </td><td>5   </td><td>6   </td></tr>\n",
       "</tbody>\n",
       "</table>\n"
      ],
      "text/latex": [
       "\\begin{tabular}{r|llllll}\n",
       " Ozone & Solar.R & Wind & Temp & Month & Day\\\\\n",
       "\\hline\n",
       "\t 41   & 190  &  7.4 & 67   & 5    & 1   \\\\\n",
       "\t 36   & 118  &  8.0 & 72   & 5    & 2   \\\\\n",
       "\t 12   & 149  & 12.6 & 74   & 5    & 3   \\\\\n",
       "\t 18   & 313  & 11.5 & 62   & 5    & 4   \\\\\n",
       "\t NA   &  NA  & 14.3 & 56   & 5    & 5   \\\\\n",
       "\t 28   &  NA  & 14.9 & 66   & 5    & 6   \\\\\n",
       "\\end{tabular}\n"
      ],
      "text/markdown": [
       "\n",
       "| Ozone | Solar.R | Wind | Temp | Month | Day |\n",
       "|---|---|---|---|---|---|\n",
       "| 41   | 190  |  7.4 | 67   | 5    | 1    |\n",
       "| 36   | 118  |  8.0 | 72   | 5    | 2    |\n",
       "| 12   | 149  | 12.6 | 74   | 5    | 3    |\n",
       "| 18   | 313  | 11.5 | 62   | 5    | 4    |\n",
       "| NA   |  NA  | 14.3 | 56   | 5    | 5    |\n",
       "| 28   |  NA  | 14.9 | 66   | 5    | 6    |\n",
       "\n"
      ],
      "text/plain": [
       "  Ozone Solar.R Wind Temp Month Day\n",
       "1 41    190      7.4 67   5     1  \n",
       "2 36    118      8.0 72   5     2  \n",
       "3 12    149     12.6 74   5     3  \n",
       "4 18    313     11.5 62   5     4  \n",
       "5 NA     NA     14.3 56   5     5  \n",
       "6 28     NA     14.9 66   5     6  "
      ]
     },
     "metadata": {},
     "output_type": "display_data"
    },
    {
     "name": "stdout",
     "output_type": "stream",
     "text": [
      "'data.frame':\t153 obs. of  6 variables:\n",
      " $ Ozone  : int  41 36 12 18 NA 28 23 19 8 NA ...\n",
      " $ Solar.R: int  190 118 149 313 NA NA 299 99 19 194 ...\n",
      " $ Wind   : num  7.4 8 12.6 11.5 14.3 14.9 8.6 13.8 20.1 8.6 ...\n",
      " $ Temp   : int  67 72 74 62 56 66 65 59 61 69 ...\n",
      " $ Month  : int  5 5 5 5 5 5 5 5 5 5 ...\n",
      " $ Day    : int  1 2 3 4 5 6 7 8 9 10 ...\n"
     ]
    }
   ],
   "source": [
    "library(datasets)\n",
    "head(airquality)\n",
    "s=split(airquality, airquality$Month)\n",
    "str(airquality)"
   ]
  },
  {
   "cell_type": "code",
   "execution_count": 18,
   "metadata": {},
   "outputs": [
    {
     "name": "stdout",
     "output_type": "stream",
     "text": [
      "'data.frame':\t31 obs. of  6 variables:\n",
      " $ Ozone  : int  41 36 12 18 NA 28 23 19 8 NA ...\n",
      " $ Solar.R: int  190 118 149 313 NA NA 299 99 19 194 ...\n",
      " $ Wind   : num  7.4 8 12.6 11.5 14.3 14.9 8.6 13.8 20.1 8.6 ...\n",
      " $ Temp   : int  67 72 74 62 56 66 65 59 61 69 ...\n",
      " $ Month  : int  5 5 5 5 5 5 5 5 5 5 ...\n",
      " $ Day    : int  1 2 3 4 5 6 7 8 9 10 ...\n"
     ]
    }
   ],
   "source": [
    "str(s[[1]])"
   ]
  },
  {
   "cell_type": "code",
   "execution_count": null,
   "metadata": {},
   "outputs": [],
   "source": [
    "\n",
    "       #list\n",
    "    #dataframe\n",
    "      #dataframe\n",
    "str(s['5'])      #list\n",
    "str(s['5']$'5')  #dataframe"
   ]
  },
  {
   "cell_type": "code",
   "execution_count": 53,
   "metadata": {},
   "outputs": [
    {
     "name": "stdout",
     "output_type": "stream",
     "text": [
      "$`5`\n",
      "   Ozone Solar.R Wind Temp Month Day\n",
      "1     41     190  7.4   67     5   1\n",
      "2     36     118  8.0   72     5   2\n",
      "3     12     149 12.6   74     5   3\n",
      "4     18     313 11.5   62     5   4\n",
      "5     NA      NA 14.3   56     5   5\n",
      "6     28      NA 14.9   66     5   6\n",
      "7     23     299  8.6   65     5   7\n",
      "8     19      99 13.8   59     5   8\n",
      "9      8      19 20.1   61     5   9\n",
      "10    NA     194  8.6   69     5  10\n",
      "11     7      NA  6.9   74     5  11\n",
      "12    16     256  9.7   69     5  12\n",
      "13    11     290  9.2   66     5  13\n",
      "14    14     274 10.9   68     5  14\n",
      "15    18      65 13.2   58     5  15\n",
      "16    14     334 11.5   64     5  16\n",
      "17    34     307 12.0   66     5  17\n",
      "18     6      78 18.4   57     5  18\n",
      "19    30     322 11.5   68     5  19\n",
      "20    11      44  9.7   62     5  20\n",
      "21     1       8  9.7   59     5  21\n",
      "22    11     320 16.6   73     5  22\n",
      "23     4      25  9.7   61     5  23\n",
      "24    32      92 12.0   61     5  24\n",
      "25    NA      66 16.6   57     5  25\n",
      "26    NA     266 14.9   58     5  26\n",
      "27    NA      NA  8.0   57     5  27\n",
      "28    23      13 12.0   67     5  28\n",
      "29    45     252 14.9   81     5  29\n",
      "30   115     223  5.7   79     5  30\n",
      "31    37     279  7.4   76     5  31\n",
      "\n",
      "$`6`\n",
      "   Ozone Solar.R Wind Temp Month Day\n",
      "32    NA     286  8.6   78     6   1\n",
      "33    NA     287  9.7   74     6   2\n",
      "34    NA     242 16.1   67     6   3\n",
      "35    NA     186  9.2   84     6   4\n",
      "36    NA     220  8.6   85     6   5\n",
      "37    NA     264 14.3   79     6   6\n",
      "38    29     127  9.7   82     6   7\n",
      "39    NA     273  6.9   87     6   8\n",
      "40    71     291 13.8   90     6   9\n",
      "41    39     323 11.5   87     6  10\n",
      "42    NA     259 10.9   93     6  11\n",
      "43    NA     250  9.2   92     6  12\n",
      "44    23     148  8.0   82     6  13\n",
      "45    NA     332 13.8   80     6  14\n",
      "46    NA     322 11.5   79     6  15\n",
      "47    21     191 14.9   77     6  16\n",
      "48    37     284 20.7   72     6  17\n",
      "49    20      37  9.2   65     6  18\n",
      "50    12     120 11.5   73     6  19\n",
      "51    13     137 10.3   76     6  20\n",
      "52    NA     150  6.3   77     6  21\n",
      "53    NA      59  1.7   76     6  22\n",
      "54    NA      91  4.6   76     6  23\n",
      "55    NA     250  6.3   76     6  24\n",
      "56    NA     135  8.0   75     6  25\n",
      "57    NA     127  8.0   78     6  26\n",
      "58    NA      47 10.3   73     6  27\n",
      "59    NA      98 11.5   80     6  28\n",
      "60    NA      31 14.9   77     6  29\n",
      "61    NA     138  8.0   83     6  30\n",
      "\n",
      "$`7`\n",
      "   Ozone Solar.R Wind Temp Month Day\n",
      "62   135     269  4.1   84     7   1\n",
      "63    49     248  9.2   85     7   2\n",
      "64    32     236  9.2   81     7   3\n",
      "65    NA     101 10.9   84     7   4\n",
      "66    64     175  4.6   83     7   5\n",
      "67    40     314 10.9   83     7   6\n",
      "68    77     276  5.1   88     7   7\n",
      "69    97     267  6.3   92     7   8\n",
      "70    97     272  5.7   92     7   9\n",
      "71    85     175  7.4   89     7  10\n",
      "72    NA     139  8.6   82     7  11\n",
      "73    10     264 14.3   73     7  12\n",
      "74    27     175 14.9   81     7  13\n",
      "75    NA     291 14.9   91     7  14\n",
      "76     7      48 14.3   80     7  15\n",
      "77    48     260  6.9   81     7  16\n",
      "78    35     274 10.3   82     7  17\n",
      "79    61     285  6.3   84     7  18\n",
      "80    79     187  5.1   87     7  19\n",
      "81    63     220 11.5   85     7  20\n",
      "82    16       7  6.9   74     7  21\n",
      "83    NA     258  9.7   81     7  22\n",
      "84    NA     295 11.5   82     7  23\n",
      "85    80     294  8.6   86     7  24\n",
      "86   108     223  8.0   85     7  25\n",
      "87    20      81  8.6   82     7  26\n",
      "88    52      82 12.0   86     7  27\n",
      "89    82     213  7.4   88     7  28\n",
      "90    50     275  7.4   86     7  29\n",
      "91    64     253  7.4   83     7  30\n",
      "92    59     254  9.2   81     7  31\n",
      "\n",
      "$`8`\n",
      "    Ozone Solar.R Wind Temp Month Day\n",
      "93     39      83  6.9   81     8   1\n",
      "94      9      24 13.8   81     8   2\n",
      "95     16      77  7.4   82     8   3\n",
      "96     78      NA  6.9   86     8   4\n",
      "97     35      NA  7.4   85     8   5\n",
      "98     66      NA  4.6   87     8   6\n",
      "99    122     255  4.0   89     8   7\n",
      "100    89     229 10.3   90     8   8\n",
      "101   110     207  8.0   90     8   9\n",
      "102    NA     222  8.6   92     8  10\n",
      "103    NA     137 11.5   86     8  11\n",
      "104    44     192 11.5   86     8  12\n",
      "105    28     273 11.5   82     8  13\n",
      "106    65     157  9.7   80     8  14\n",
      "107    NA      64 11.5   79     8  15\n",
      "108    22      71 10.3   77     8  16\n",
      "109    59      51  6.3   79     8  17\n",
      "110    23     115  7.4   76     8  18\n",
      "111    31     244 10.9   78     8  19\n",
      "112    44     190 10.3   78     8  20\n",
      "113    21     259 15.5   77     8  21\n",
      "114     9      36 14.3   72     8  22\n",
      "115    NA     255 12.6   75     8  23\n",
      "116    45     212  9.7   79     8  24\n",
      "117   168     238  3.4   81     8  25\n",
      "118    73     215  8.0   86     8  26\n",
      "119    NA     153  5.7   88     8  27\n",
      "120    76     203  9.7   97     8  28\n",
      "121   118     225  2.3   94     8  29\n",
      "122    84     237  6.3   96     8  30\n",
      "123    85     188  6.3   94     8  31\n",
      "\n",
      "$`9`\n",
      "    Ozone Solar.R Wind Temp Month Day\n",
      "124    96     167  6.9   91     9   1\n",
      "125    78     197  5.1   92     9   2\n",
      "126    73     183  2.8   93     9   3\n",
      "127    91     189  4.6   93     9   4\n",
      "128    47      95  7.4   87     9   5\n",
      "129    32      92 15.5   84     9   6\n",
      "130    20     252 10.9   80     9   7\n",
      "131    23     220 10.3   78     9   8\n",
      "132    21     230 10.9   75     9   9\n",
      "133    24     259  9.7   73     9  10\n",
      "134    44     236 14.9   81     9  11\n",
      "135    21     259 15.5   76     9  12\n",
      "136    28     238  6.3   77     9  13\n",
      "137     9      24 10.9   71     9  14\n",
      "138    13     112 11.5   71     9  15\n",
      "139    46     237  6.9   78     9  16\n",
      "140    18     224 13.8   67     9  17\n",
      "141    13      27 10.3   76     9  18\n",
      "142    24     238 10.3   68     9  19\n",
      "143    16     201  8.0   82     9  20\n",
      "144    13     238 12.6   64     9  21\n",
      "145    23      14  9.2   71     9  22\n",
      "146    36     139 10.3   81     9  23\n",
      "147     7      49 10.3   69     9  24\n",
      "148    14      20 16.6   63     9  25\n",
      "149    30     193  6.9   70     9  26\n",
      "150    NA     145 13.2   77     9  27\n",
      "151    14     191 14.3   75     9  28\n",
      "152    18     131  8.0   76     9  29\n",
      "153    20     223 11.5   68     9  30\n",
      "\n"
     ]
    }
   ],
   "source": [
    "print(s)"
   ]
  },
  {
   "cell_type": "code",
   "execution_count": 54,
   "metadata": {
    "scrolled": true
   },
   "outputs": [
    {
     "name": "stdout",
     "output_type": "stream",
     "text": [
      "List of 2\n",
      " $ a: num [1:3] 1 2 3\n",
      " $ b: num [1:3] 4 5 6\n",
      "List of 1\n",
      " $ a: num [1:3] 1 2 3\n"
     ]
    },
    {
     "data": {
      "text/html": [
       "<strong>$a</strong> = <ol class=list-inline>\n",
       "\t<li>1</li>\n",
       "\t<li>2</li>\n",
       "\t<li>3</li>\n",
       "</ol>\n"
      ],
      "text/latex": [
       "\\textbf{\\$a} = \\begin{enumerate*}\n",
       "\\item 1\n",
       "\\item 2\n",
       "\\item 3\n",
       "\\end{enumerate*}\n"
      ],
      "text/markdown": [
       "**$a** = 1. 1\n",
       "2. 2\n",
       "3. 3\n",
       "\n",
       "\n"
      ],
      "text/plain": [
       "$a\n",
       "[1] 1 2 3\n"
      ]
     },
     "metadata": {},
     "output_type": "display_data"
    },
    {
     "data": {
      "text/html": [
       "<strong>$a</strong> = <ol class=list-inline>\n",
       "\t<li>1</li>\n",
       "\t<li>2</li>\n",
       "\t<li>3</li>\n",
       "</ol>\n"
      ],
      "text/latex": [
       "\\textbf{\\$a} = \\begin{enumerate*}\n",
       "\\item 1\n",
       "\\item 2\n",
       "\\item 3\n",
       "\\end{enumerate*}\n"
      ],
      "text/markdown": [
       "**$a** = 1. 1\n",
       "2. 2\n",
       "3. 3\n",
       "\n",
       "\n"
      ],
      "text/plain": [
       "$a\n",
       "[1] 1 2 3\n"
      ]
     },
     "metadata": {},
     "output_type": "display_data"
    },
    {
     "data": {
      "text/html": [
       "'============'"
      ],
      "text/latex": [
       "'============'"
      ],
      "text/markdown": [
       "'============'"
      ],
      "text/plain": [
       "[1] \"============\""
      ]
     },
     "metadata": {},
     "output_type": "display_data"
    },
    {
     "data": {
      "text/html": [
       "<ol class=list-inline>\n",
       "\t<li>1</li>\n",
       "\t<li>2</li>\n",
       "\t<li>3</li>\n",
       "</ol>\n"
      ],
      "text/latex": [
       "\\begin{enumerate*}\n",
       "\\item 1\n",
       "\\item 2\n",
       "\\item 3\n",
       "\\end{enumerate*}\n"
      ],
      "text/markdown": [
       "1. 1\n",
       "2. 2\n",
       "3. 3\n",
       "\n",
       "\n"
      ],
      "text/plain": [
       "[1] 1 2 3"
      ]
     },
     "metadata": {},
     "output_type": "display_data"
    },
    {
     "data": {
      "text/html": [
       "<ol class=list-inline>\n",
       "\t<li>1</li>\n",
       "\t<li>2</li>\n",
       "\t<li>3</li>\n",
       "</ol>\n"
      ],
      "text/latex": [
       "\\begin{enumerate*}\n",
       "\\item 1\n",
       "\\item 2\n",
       "\\item 3\n",
       "\\end{enumerate*}\n"
      ],
      "text/markdown": [
       "1. 1\n",
       "2. 2\n",
       "3. 3\n",
       "\n",
       "\n"
      ],
      "text/plain": [
       "[1] 1 2 3"
      ]
     },
     "metadata": {},
     "output_type": "display_data"
    },
    {
     "data": {
      "text/html": [
       "2"
      ],
      "text/latex": [
       "2"
      ],
      "text/markdown": [
       "2"
      ],
      "text/plain": [
       "[1] 2"
      ]
     },
     "metadata": {},
     "output_type": "display_data"
    }
   ],
   "source": [
    "x=list(a=c(1,2,3), b=c(4,5,6))\n",
    "# x=list(c(1,2,3), c(4,5,6))\n",
    "str(x)\n",
    "str(x[1])\n",
    "x[1]\n",
    "x[1][1][1][1]\n",
    "\"============\"\n",
    "x[1][1][1][1][[1]]\n",
    "x[[1]]\n",
    "x[[1]][2]"
   ]
  },
  {
   "cell_type": "code",
   "execution_count": 55,
   "metadata": {
    "scrolled": false
   },
   "outputs": [
    {
     "data": {
      "text/html": [
       "<table>\n",
       "<caption>A data.frame: 6 × 6</caption>\n",
       "<thead>\n",
       "\t<tr><th></th><th scope=col>Ozone</th><th scope=col>Solar.R</th><th scope=col>Wind</th><th scope=col>Temp</th><th scope=col>Month</th><th scope=col>Day</th></tr>\n",
       "\t<tr><th></th><th scope=col>&lt;int&gt;</th><th scope=col>&lt;int&gt;</th><th scope=col>&lt;dbl&gt;</th><th scope=col>&lt;int&gt;</th><th scope=col>&lt;int&gt;</th><th scope=col>&lt;int&gt;</th></tr>\n",
       "</thead>\n",
       "<tbody>\n",
       "\t<tr><th scope=row>1</th><td>41</td><td>190</td><td> 7.4</td><td>67</td><td>5</td><td>1</td></tr>\n",
       "\t<tr><th scope=row>2</th><td>36</td><td>118</td><td> 8.0</td><td>72</td><td>5</td><td>2</td></tr>\n",
       "\t<tr><th scope=row>3</th><td>12</td><td>149</td><td>12.6</td><td>74</td><td>5</td><td>3</td></tr>\n",
       "\t<tr><th scope=row>4</th><td>18</td><td>313</td><td>11.5</td><td>62</td><td>5</td><td>4</td></tr>\n",
       "\t<tr><th scope=row>5</th><td>NA</td><td> NA</td><td>14.3</td><td>56</td><td>5</td><td>5</td></tr>\n",
       "\t<tr><th scope=row>6</th><td>28</td><td> NA</td><td>14.9</td><td>66</td><td>5</td><td>6</td></tr>\n",
       "</tbody>\n",
       "</table>\n"
      ],
      "text/latex": [
       "A data.frame: 6 × 6\n",
       "\\begin{tabular}{r|llllll}\n",
       "  & Ozone & Solar.R & Wind & Temp & Month & Day\\\\\n",
       "  & <int> & <int> & <dbl> & <int> & <int> & <int>\\\\\n",
       "\\hline\n",
       "\t1 & 41 & 190 &  7.4 & 67 & 5 & 1\\\\\n",
       "\t2 & 36 & 118 &  8.0 & 72 & 5 & 2\\\\\n",
       "\t3 & 12 & 149 & 12.6 & 74 & 5 & 3\\\\\n",
       "\t4 & 18 & 313 & 11.5 & 62 & 5 & 4\\\\\n",
       "\t5 & NA &  NA & 14.3 & 56 & 5 & 5\\\\\n",
       "\t6 & 28 &  NA & 14.9 & 66 & 5 & 6\\\\\n",
       "\\end{tabular}\n"
      ],
      "text/markdown": [
       "\n",
       "A data.frame: 6 × 6\n",
       "\n",
       "| <!--/--> | Ozone &lt;int&gt; | Solar.R &lt;int&gt; | Wind &lt;dbl&gt; | Temp &lt;int&gt; | Month &lt;int&gt; | Day &lt;int&gt; |\n",
       "|---|---|---|---|---|---|---|\n",
       "| 1 | 41 | 190 |  7.4 | 67 | 5 | 1 |\n",
       "| 2 | 36 | 118 |  8.0 | 72 | 5 | 2 |\n",
       "| 3 | 12 | 149 | 12.6 | 74 | 5 | 3 |\n",
       "| 4 | 18 | 313 | 11.5 | 62 | 5 | 4 |\n",
       "| 5 | NA |  NA | 14.3 | 56 | 5 | 5 |\n",
       "| 6 | 28 |  NA | 14.9 | 66 | 5 | 6 |\n",
       "\n"
      ],
      "text/plain": [
       "  Ozone Solar.R Wind Temp Month Day\n",
       "1 41    190      7.4 67   5     1  \n",
       "2 36    118      8.0 72   5     2  \n",
       "3 12    149     12.6 74   5     3  \n",
       "4 18    313     11.5 62   5     4  \n",
       "5 NA     NA     14.3 56   5     5  \n",
       "6 28     NA     14.9 66   5     6  "
      ]
     },
     "metadata": {},
     "output_type": "display_data"
    },
    {
     "data": {
      "text/html": [
       "<table>\n",
       "<caption>A data.frame: 30 × 6</caption>\n",
       "<thead>\n",
       "\t<tr><th></th><th scope=col>Ozone</th><th scope=col>Solar.R</th><th scope=col>Wind</th><th scope=col>Temp</th><th scope=col>Month</th><th scope=col>Day</th></tr>\n",
       "\t<tr><th></th><th scope=col>&lt;int&gt;</th><th scope=col>&lt;int&gt;</th><th scope=col>&lt;dbl&gt;</th><th scope=col>&lt;int&gt;</th><th scope=col>&lt;int&gt;</th><th scope=col>&lt;int&gt;</th></tr>\n",
       "</thead>\n",
       "<tbody>\n",
       "\t<tr><th scope=row>32</th><td>NA</td><td>286</td><td> 8.6</td><td>78</td><td>6</td><td> 1</td></tr>\n",
       "\t<tr><th scope=row>33</th><td>NA</td><td>287</td><td> 9.7</td><td>74</td><td>6</td><td> 2</td></tr>\n",
       "\t<tr><th scope=row>34</th><td>NA</td><td>242</td><td>16.1</td><td>67</td><td>6</td><td> 3</td></tr>\n",
       "\t<tr><th scope=row>35</th><td>NA</td><td>186</td><td> 9.2</td><td>84</td><td>6</td><td> 4</td></tr>\n",
       "\t<tr><th scope=row>36</th><td>NA</td><td>220</td><td> 8.6</td><td>85</td><td>6</td><td> 5</td></tr>\n",
       "\t<tr><th scope=row>37</th><td>NA</td><td>264</td><td>14.3</td><td>79</td><td>6</td><td> 6</td></tr>\n",
       "\t<tr><th scope=row>38</th><td>29</td><td>127</td><td> 9.7</td><td>82</td><td>6</td><td> 7</td></tr>\n",
       "\t<tr><th scope=row>39</th><td>NA</td><td>273</td><td> 6.9</td><td>87</td><td>6</td><td> 8</td></tr>\n",
       "\t<tr><th scope=row>40</th><td>71</td><td>291</td><td>13.8</td><td>90</td><td>6</td><td> 9</td></tr>\n",
       "\t<tr><th scope=row>41</th><td>39</td><td>323</td><td>11.5</td><td>87</td><td>6</td><td>10</td></tr>\n",
       "\t<tr><th scope=row>42</th><td>NA</td><td>259</td><td>10.9</td><td>93</td><td>6</td><td>11</td></tr>\n",
       "\t<tr><th scope=row>43</th><td>NA</td><td>250</td><td> 9.2</td><td>92</td><td>6</td><td>12</td></tr>\n",
       "\t<tr><th scope=row>44</th><td>23</td><td>148</td><td> 8.0</td><td>82</td><td>6</td><td>13</td></tr>\n",
       "\t<tr><th scope=row>45</th><td>NA</td><td>332</td><td>13.8</td><td>80</td><td>6</td><td>14</td></tr>\n",
       "\t<tr><th scope=row>46</th><td>NA</td><td>322</td><td>11.5</td><td>79</td><td>6</td><td>15</td></tr>\n",
       "\t<tr><th scope=row>47</th><td>21</td><td>191</td><td>14.9</td><td>77</td><td>6</td><td>16</td></tr>\n",
       "\t<tr><th scope=row>48</th><td>37</td><td>284</td><td>20.7</td><td>72</td><td>6</td><td>17</td></tr>\n",
       "\t<tr><th scope=row>49</th><td>20</td><td> 37</td><td> 9.2</td><td>65</td><td>6</td><td>18</td></tr>\n",
       "\t<tr><th scope=row>50</th><td>12</td><td>120</td><td>11.5</td><td>73</td><td>6</td><td>19</td></tr>\n",
       "\t<tr><th scope=row>51</th><td>13</td><td>137</td><td>10.3</td><td>76</td><td>6</td><td>20</td></tr>\n",
       "\t<tr><th scope=row>52</th><td>NA</td><td>150</td><td> 6.3</td><td>77</td><td>6</td><td>21</td></tr>\n",
       "\t<tr><th scope=row>53</th><td>NA</td><td> 59</td><td> 1.7</td><td>76</td><td>6</td><td>22</td></tr>\n",
       "\t<tr><th scope=row>54</th><td>NA</td><td> 91</td><td> 4.6</td><td>76</td><td>6</td><td>23</td></tr>\n",
       "\t<tr><th scope=row>55</th><td>NA</td><td>250</td><td> 6.3</td><td>76</td><td>6</td><td>24</td></tr>\n",
       "\t<tr><th scope=row>56</th><td>NA</td><td>135</td><td> 8.0</td><td>75</td><td>6</td><td>25</td></tr>\n",
       "\t<tr><th scope=row>57</th><td>NA</td><td>127</td><td> 8.0</td><td>78</td><td>6</td><td>26</td></tr>\n",
       "\t<tr><th scope=row>58</th><td>NA</td><td> 47</td><td>10.3</td><td>73</td><td>6</td><td>27</td></tr>\n",
       "\t<tr><th scope=row>59</th><td>NA</td><td> 98</td><td>11.5</td><td>80</td><td>6</td><td>28</td></tr>\n",
       "\t<tr><th scope=row>60</th><td>NA</td><td> 31</td><td>14.9</td><td>77</td><td>6</td><td>29</td></tr>\n",
       "\t<tr><th scope=row>61</th><td>NA</td><td>138</td><td> 8.0</td><td>83</td><td>6</td><td>30</td></tr>\n",
       "</tbody>\n",
       "</table>\n"
      ],
      "text/latex": [
       "A data.frame: 30 × 6\n",
       "\\begin{tabular}{r|llllll}\n",
       "  & Ozone & Solar.R & Wind & Temp & Month & Day\\\\\n",
       "  & <int> & <int> & <dbl> & <int> & <int> & <int>\\\\\n",
       "\\hline\n",
       "\t32 & NA & 286 &  8.6 & 78 & 6 &  1\\\\\n",
       "\t33 & NA & 287 &  9.7 & 74 & 6 &  2\\\\\n",
       "\t34 & NA & 242 & 16.1 & 67 & 6 &  3\\\\\n",
       "\t35 & NA & 186 &  9.2 & 84 & 6 &  4\\\\\n",
       "\t36 & NA & 220 &  8.6 & 85 & 6 &  5\\\\\n",
       "\t37 & NA & 264 & 14.3 & 79 & 6 &  6\\\\\n",
       "\t38 & 29 & 127 &  9.7 & 82 & 6 &  7\\\\\n",
       "\t39 & NA & 273 &  6.9 & 87 & 6 &  8\\\\\n",
       "\t40 & 71 & 291 & 13.8 & 90 & 6 &  9\\\\\n",
       "\t41 & 39 & 323 & 11.5 & 87 & 6 & 10\\\\\n",
       "\t42 & NA & 259 & 10.9 & 93 & 6 & 11\\\\\n",
       "\t43 & NA & 250 &  9.2 & 92 & 6 & 12\\\\\n",
       "\t44 & 23 & 148 &  8.0 & 82 & 6 & 13\\\\\n",
       "\t45 & NA & 332 & 13.8 & 80 & 6 & 14\\\\\n",
       "\t46 & NA & 322 & 11.5 & 79 & 6 & 15\\\\\n",
       "\t47 & 21 & 191 & 14.9 & 77 & 6 & 16\\\\\n",
       "\t48 & 37 & 284 & 20.7 & 72 & 6 & 17\\\\\n",
       "\t49 & 20 &  37 &  9.2 & 65 & 6 & 18\\\\\n",
       "\t50 & 12 & 120 & 11.5 & 73 & 6 & 19\\\\\n",
       "\t51 & 13 & 137 & 10.3 & 76 & 6 & 20\\\\\n",
       "\t52 & NA & 150 &  6.3 & 77 & 6 & 21\\\\\n",
       "\t53 & NA &  59 &  1.7 & 76 & 6 & 22\\\\\n",
       "\t54 & NA &  91 &  4.6 & 76 & 6 & 23\\\\\n",
       "\t55 & NA & 250 &  6.3 & 76 & 6 & 24\\\\\n",
       "\t56 & NA & 135 &  8.0 & 75 & 6 & 25\\\\\n",
       "\t57 & NA & 127 &  8.0 & 78 & 6 & 26\\\\\n",
       "\t58 & NA &  47 & 10.3 & 73 & 6 & 27\\\\\n",
       "\t59 & NA &  98 & 11.5 & 80 & 6 & 28\\\\\n",
       "\t60 & NA &  31 & 14.9 & 77 & 6 & 29\\\\\n",
       "\t61 & NA & 138 &  8.0 & 83 & 6 & 30\\\\\n",
       "\\end{tabular}\n"
      ],
      "text/markdown": [
       "\n",
       "A data.frame: 30 × 6\n",
       "\n",
       "| <!--/--> | Ozone &lt;int&gt; | Solar.R &lt;int&gt; | Wind &lt;dbl&gt; | Temp &lt;int&gt; | Month &lt;int&gt; | Day &lt;int&gt; |\n",
       "|---|---|---|---|---|---|---|\n",
       "| 32 | NA | 286 |  8.6 | 78 | 6 |  1 |\n",
       "| 33 | NA | 287 |  9.7 | 74 | 6 |  2 |\n",
       "| 34 | NA | 242 | 16.1 | 67 | 6 |  3 |\n",
       "| 35 | NA | 186 |  9.2 | 84 | 6 |  4 |\n",
       "| 36 | NA | 220 |  8.6 | 85 | 6 |  5 |\n",
       "| 37 | NA | 264 | 14.3 | 79 | 6 |  6 |\n",
       "| 38 | 29 | 127 |  9.7 | 82 | 6 |  7 |\n",
       "| 39 | NA | 273 |  6.9 | 87 | 6 |  8 |\n",
       "| 40 | 71 | 291 | 13.8 | 90 | 6 |  9 |\n",
       "| 41 | 39 | 323 | 11.5 | 87 | 6 | 10 |\n",
       "| 42 | NA | 259 | 10.9 | 93 | 6 | 11 |\n",
       "| 43 | NA | 250 |  9.2 | 92 | 6 | 12 |\n",
       "| 44 | 23 | 148 |  8.0 | 82 | 6 | 13 |\n",
       "| 45 | NA | 332 | 13.8 | 80 | 6 | 14 |\n",
       "| 46 | NA | 322 | 11.5 | 79 | 6 | 15 |\n",
       "| 47 | 21 | 191 | 14.9 | 77 | 6 | 16 |\n",
       "| 48 | 37 | 284 | 20.7 | 72 | 6 | 17 |\n",
       "| 49 | 20 |  37 |  9.2 | 65 | 6 | 18 |\n",
       "| 50 | 12 | 120 | 11.5 | 73 | 6 | 19 |\n",
       "| 51 | 13 | 137 | 10.3 | 76 | 6 | 20 |\n",
       "| 52 | NA | 150 |  6.3 | 77 | 6 | 21 |\n",
       "| 53 | NA |  59 |  1.7 | 76 | 6 | 22 |\n",
       "| 54 | NA |  91 |  4.6 | 76 | 6 | 23 |\n",
       "| 55 | NA | 250 |  6.3 | 76 | 6 | 24 |\n",
       "| 56 | NA | 135 |  8.0 | 75 | 6 | 25 |\n",
       "| 57 | NA | 127 |  8.0 | 78 | 6 | 26 |\n",
       "| 58 | NA |  47 | 10.3 | 73 | 6 | 27 |\n",
       "| 59 | NA |  98 | 11.5 | 80 | 6 | 28 |\n",
       "| 60 | NA |  31 | 14.9 | 77 | 6 | 29 |\n",
       "| 61 | NA | 138 |  8.0 | 83 | 6 | 30 |\n",
       "\n"
      ],
      "text/plain": [
       "   Ozone Solar.R Wind Temp Month Day\n",
       "32 NA    286      8.6 78   6      1 \n",
       "33 NA    287      9.7 74   6      2 \n",
       "34 NA    242     16.1 67   6      3 \n",
       "35 NA    186      9.2 84   6      4 \n",
       "36 NA    220      8.6 85   6      5 \n",
       "37 NA    264     14.3 79   6      6 \n",
       "38 29    127      9.7 82   6      7 \n",
       "39 NA    273      6.9 87   6      8 \n",
       "40 71    291     13.8 90   6      9 \n",
       "41 39    323     11.5 87   6     10 \n",
       "42 NA    259     10.9 93   6     11 \n",
       "43 NA    250      9.2 92   6     12 \n",
       "44 23    148      8.0 82   6     13 \n",
       "45 NA    332     13.8 80   6     14 \n",
       "46 NA    322     11.5 79   6     15 \n",
       "47 21    191     14.9 77   6     16 \n",
       "48 37    284     20.7 72   6     17 \n",
       "49 20     37      9.2 65   6     18 \n",
       "50 12    120     11.5 73   6     19 \n",
       "51 13    137     10.3 76   6     20 \n",
       "52 NA    150      6.3 77   6     21 \n",
       "53 NA     59      1.7 76   6     22 \n",
       "54 NA     91      4.6 76   6     23 \n",
       "55 NA    250      6.3 76   6     24 \n",
       "56 NA    135      8.0 75   6     25 \n",
       "57 NA    127      8.0 78   6     26 \n",
       "58 NA     47     10.3 73   6     27 \n",
       "59 NA     98     11.5 80   6     28 \n",
       "60 NA     31     14.9 77   6     29 \n",
       "61 NA    138      8.0 83   6     30 "
      ]
     },
     "metadata": {},
     "output_type": "display_data"
    },
    {
     "data": {
      "text/html": [
       "<dl class=dl-horizontal>\n",
       "\t<dt>Ozone</dt>\n",
       "\t\t<dd>29.4444444444444</dd>\n",
       "\t<dt>Solar.R</dt>\n",
       "\t\t<dd>190.166666666667</dd>\n",
       "</dl>\n"
      ],
      "text/latex": [
       "\\begin{description*}\n",
       "\\item[Ozone] 29.4444444444444\n",
       "\\item[Solar.R] 190.166666666667\n",
       "\\end{description*}\n"
      ],
      "text/markdown": [
       "Ozone\n",
       ":   29.4444444444444Solar.R\n",
       ":   190.166666666667\n",
       "\n"
      ],
      "text/plain": [
       "    Ozone   Solar.R \n",
       " 29.44444 190.16667 "
      ]
     },
     "metadata": {},
     "output_type": "display_data"
    },
    {
     "name": "stdout",
     "output_type": "stream",
     "text": [
      "List of 5\n",
      " $ 5: Named num [1:2] 23.6 181.3\n",
      "  ..- attr(*, \"names\")= chr [1:2] \"Ozone\" \"Solar.R\"\n",
      " $ 6: Named num [1:2] 29.4 190.2\n",
      "  ..- attr(*, \"names\")= chr [1:2] \"Ozone\" \"Solar.R\"\n",
      " $ 7: Named num [1:2] 59.1 216.5\n",
      "  ..- attr(*, \"names\")= chr [1:2] \"Ozone\" \"Solar.R\"\n",
      " $ 8: Named num [1:2] 60 172\n",
      "  ..- attr(*, \"names\")= chr [1:2] \"Ozone\" \"Solar.R\"\n",
      " $ 9: Named num [1:2] 31.4 167.4\n",
      "  ..- attr(*, \"names\")= chr [1:2] \"Ozone\" \"Solar.R\"\n"
     ]
    },
    {
     "data": {
      "text/html": [
       "<dl>\n",
       "\t<dt>$`5`</dt>\n",
       "\t\t<dd><dl class=dl-horizontal>\n",
       "\t<dt>Ozone</dt>\n",
       "\t\t<dd>23.6153846153846</dd>\n",
       "\t<dt>Solar.R</dt>\n",
       "\t\t<dd>181.296296296296</dd>\n",
       "</dl>\n",
       "</dd>\n",
       "\t<dt>$`6`</dt>\n",
       "\t\t<dd><dl class=dl-horizontal>\n",
       "\t<dt>Ozone</dt>\n",
       "\t\t<dd>29.4444444444444</dd>\n",
       "\t<dt>Solar.R</dt>\n",
       "\t\t<dd>190.166666666667</dd>\n",
       "</dl>\n",
       "</dd>\n",
       "\t<dt>$`7`</dt>\n",
       "\t\t<dd><dl class=dl-horizontal>\n",
       "\t<dt>Ozone</dt>\n",
       "\t\t<dd>59.1153846153846</dd>\n",
       "\t<dt>Solar.R</dt>\n",
       "\t\t<dd>216.483870967742</dd>\n",
       "</dl>\n",
       "</dd>\n",
       "\t<dt>$`8`</dt>\n",
       "\t\t<dd><dl class=dl-horizontal>\n",
       "\t<dt>Ozone</dt>\n",
       "\t\t<dd>59.9615384615385</dd>\n",
       "\t<dt>Solar.R</dt>\n",
       "\t\t<dd>171.857142857143</dd>\n",
       "</dl>\n",
       "</dd>\n",
       "\t<dt>$`9`</dt>\n",
       "\t\t<dd><dl class=dl-horizontal>\n",
       "\t<dt>Ozone</dt>\n",
       "\t\t<dd>31.448275862069</dd>\n",
       "\t<dt>Solar.R</dt>\n",
       "\t\t<dd>167.433333333333</dd>\n",
       "</dl>\n",
       "</dd>\n",
       "</dl>\n"
      ],
      "text/latex": [
       "\\begin{description}\n",
       "\\item[\\$`5`] \\begin{description*}\n",
       "\\item[Ozone] 23.6153846153846\n",
       "\\item[Solar.R] 181.296296296296\n",
       "\\end{description*}\n",
       "\n",
       "\\item[\\$`6`] \\begin{description*}\n",
       "\\item[Ozone] 29.4444444444444\n",
       "\\item[Solar.R] 190.166666666667\n",
       "\\end{description*}\n",
       "\n",
       "\\item[\\$`7`] \\begin{description*}\n",
       "\\item[Ozone] 59.1153846153846\n",
       "\\item[Solar.R] 216.483870967742\n",
       "\\end{description*}\n",
       "\n",
       "\\item[\\$`8`] \\begin{description*}\n",
       "\\item[Ozone] 59.9615384615385\n",
       "\\item[Solar.R] 171.857142857143\n",
       "\\end{description*}\n",
       "\n",
       "\\item[\\$`9`] \\begin{description*}\n",
       "\\item[Ozone] 31.448275862069\n",
       "\\item[Solar.R] 167.433333333333\n",
       "\\end{description*}\n",
       "\n",
       "\\end{description}\n"
      ],
      "text/markdown": [
       "$`5`\n",
       ":   Ozone\n",
       ":   23.6153846153846Solar.R\n",
       ":   181.296296296296\n",
       "\n",
       "\n",
       "$`6`\n",
       ":   Ozone\n",
       ":   29.4444444444444Solar.R\n",
       ":   190.166666666667\n",
       "\n",
       "\n",
       "$`7`\n",
       ":   Ozone\n",
       ":   59.1153846153846Solar.R\n",
       ":   216.483870967742\n",
       "\n",
       "\n",
       "$`8`\n",
       ":   Ozone\n",
       ":   59.9615384615385Solar.R\n",
       ":   171.857142857143\n",
       "\n",
       "\n",
       "$`9`\n",
       ":   Ozone\n",
       ":   31.448275862069Solar.R\n",
       ":   167.433333333333\n",
       "\n",
       "\n",
       "\n",
       "\n"
      ],
      "text/plain": [
       "$`5`\n",
       "    Ozone   Solar.R \n",
       " 23.61538 181.29630 \n",
       "\n",
       "$`6`\n",
       "    Ozone   Solar.R \n",
       " 29.44444 190.16667 \n",
       "\n",
       "$`7`\n",
       "    Ozone   Solar.R \n",
       " 59.11538 216.48387 \n",
       "\n",
       "$`8`\n",
       "    Ozone   Solar.R \n",
       " 59.96154 171.85714 \n",
       "\n",
       "$`9`\n",
       "    Ozone   Solar.R \n",
       " 31.44828 167.43333 \n"
      ]
     },
     "metadata": {},
     "output_type": "display_data"
    },
    {
     "name": "stdout",
     "output_type": "stream",
     "text": [
      " num [1:2, 1:5] 23.6 181.3 29.4 190.2 59.1 ...\n",
      " - attr(*, \"dimnames\")=List of 2\n",
      "  ..$ : chr [1:2] \"Ozone\" \"Solar.R\"\n",
      "  ..$ : chr [1:5] \"5\" \"6\" \"7\" \"8\" ...\n"
     ]
    },
    {
     "data": {
      "text/html": [
       "<table>\n",
       "<caption>A matrix: 2 × 5 of type dbl</caption>\n",
       "<thead>\n",
       "\t<tr><th></th><th scope=col>5</th><th scope=col>6</th><th scope=col>7</th><th scope=col>8</th><th scope=col>9</th></tr>\n",
       "</thead>\n",
       "<tbody>\n",
       "\t<tr><th scope=row>Ozone</th><td> 23.61538</td><td> 29.44444</td><td> 59.11538</td><td> 59.96154</td><td> 31.44828</td></tr>\n",
       "\t<tr><th scope=row>Solar.R</th><td>181.29630</td><td>190.16667</td><td>216.48387</td><td>171.85714</td><td>167.43333</td></tr>\n",
       "</tbody>\n",
       "</table>\n"
      ],
      "text/latex": [
       "A matrix: 2 × 5 of type dbl\n",
       "\\begin{tabular}{r|lllll}\n",
       "  & 5 & 6 & 7 & 8 & 9\\\\\n",
       "\\hline\n",
       "\tOzone &  23.61538 &  29.44444 &  59.11538 &  59.96154 &  31.44828\\\\\n",
       "\tSolar.R & 181.29630 & 190.16667 & 216.48387 & 171.85714 & 167.43333\\\\\n",
       "\\end{tabular}\n"
      ],
      "text/markdown": [
       "\n",
       "A matrix: 2 × 5 of type dbl\n",
       "\n",
       "| <!--/--> | 5 | 6 | 7 | 8 | 9 |\n",
       "|---|---|---|---|---|---|\n",
       "| Ozone |  23.61538 |  29.44444 |  59.11538 |  59.96154 |  31.44828 |\n",
       "| Solar.R | 181.29630 | 190.16667 | 216.48387 | 171.85714 | 167.43333 |\n",
       "\n"
      ],
      "text/plain": [
       "        5         6         7         8         9        \n",
       "Ozone    23.61538  29.44444  59.11538  59.96154  31.44828\n",
       "Solar.R 181.29630 190.16667 216.48387 171.85714 167.43333"
      ]
     },
     "metadata": {},
     "output_type": "display_data"
    }
   ],
   "source": [
    "library(datasets)\n",
    "head(airquality)\n",
    "s=split(airquality, airquality$Month) #list\n",
    "means=function(x){colMeans(x[c('Ozone', 'Solar.R')], na.rm=T)}\n",
    "s[[2]]\n",
    "means(s[[2]])\n",
    "\n",
    "str(lapply(s, means))\n",
    "lapply(s, means)\n",
    "\n",
    "str(sapply(s, means)) #smartly make a matrix\n",
    "sapply(s, means)"
   ]
  },
  {
   "cell_type": "code",
   "execution_count": 56,
   "metadata": {
    "scrolled": false
   },
   "outputs": [
    {
     "data": {
      "text/html": [
       "<ol class=list-inline>\n",
       "\t<li>1</li>\n",
       "\t<li>1</li>\n",
       "\t<li>1</li>\n",
       "\t<li>1</li>\n",
       "\t<li>1</li>\n",
       "\t<li>1</li>\n",
       "\t<li>1</li>\n",
       "\t<li>1</li>\n",
       "\t<li>1</li>\n",
       "\t<li>1</li>\n",
       "\t<li>11</li>\n",
       "\t<li>12</li>\n",
       "\t<li>13</li>\n",
       "\t<li>14</li>\n",
       "\t<li>15</li>\n",
       "\t<li>16</li>\n",
       "\t<li>17</li>\n",
       "\t<li>18</li>\n",
       "\t<li>19</li>\n",
       "\t<li>20</li>\n",
       "\t<li>10</li>\n",
       "\t<li>10</li>\n",
       "\t<li>10</li>\n",
       "\t<li>10</li>\n",
       "\t<li>10</li>\n",
       "\t<li>10</li>\n",
       "\t<li>10</li>\n",
       "\t<li>10</li>\n",
       "\t<li>10</li>\n",
       "\t<li>10</li>\n",
       "</ol>\n"
      ],
      "text/latex": [
       "\\begin{enumerate*}\n",
       "\\item 1\n",
       "\\item 1\n",
       "\\item 1\n",
       "\\item 1\n",
       "\\item 1\n",
       "\\item 1\n",
       "\\item 1\n",
       "\\item 1\n",
       "\\item 1\n",
       "\\item 1\n",
       "\\item 11\n",
       "\\item 12\n",
       "\\item 13\n",
       "\\item 14\n",
       "\\item 15\n",
       "\\item 16\n",
       "\\item 17\n",
       "\\item 18\n",
       "\\item 19\n",
       "\\item 20\n",
       "\\item 10\n",
       "\\item 10\n",
       "\\item 10\n",
       "\\item 10\n",
       "\\item 10\n",
       "\\item 10\n",
       "\\item 10\n",
       "\\item 10\n",
       "\\item 10\n",
       "\\item 10\n",
       "\\end{enumerate*}\n"
      ],
      "text/markdown": [
       "1. 1\n",
       "2. 1\n",
       "3. 1\n",
       "4. 1\n",
       "5. 1\n",
       "6. 1\n",
       "7. 1\n",
       "8. 1\n",
       "9. 1\n",
       "10. 1\n",
       "11. 11\n",
       "12. 12\n",
       "13. 13\n",
       "14. 14\n",
       "15. 15\n",
       "16. 16\n",
       "17. 17\n",
       "18. 18\n",
       "19. 19\n",
       "20. 20\n",
       "21. 10\n",
       "22. 10\n",
       "23. 10\n",
       "24. 10\n",
       "25. 10\n",
       "26. 10\n",
       "27. 10\n",
       "28. 10\n",
       "29. 10\n",
       "30. 10\n",
       "\n",
       "\n"
      ],
      "text/plain": [
       " [1]  1  1  1  1  1  1  1  1  1  1 11 12 13 14 15 16 17 18 19 20 10 10 10 10 10\n",
       "[26] 10 10 10 10 10"
      ]
     },
     "metadata": {},
     "output_type": "display_data"
    },
    {
     "data": {
      "text/html": [
       "<ol class=list-inline>\n",
       "\t<li>1</li>\n",
       "\t<li>1</li>\n",
       "\t<li>1</li>\n",
       "\t<li>1</li>\n",
       "\t<li>1</li>\n",
       "\t<li>1</li>\n",
       "\t<li>1</li>\n",
       "\t<li>1</li>\n",
       "\t<li>1</li>\n",
       "\t<li>1</li>\n",
       "\t<li>2</li>\n",
       "\t<li>2</li>\n",
       "\t<li>2</li>\n",
       "\t<li>2</li>\n",
       "\t<li>2</li>\n",
       "\t<li>2</li>\n",
       "\t<li>2</li>\n",
       "\t<li>2</li>\n",
       "\t<li>2</li>\n",
       "\t<li>2</li>\n",
       "\t<li>3</li>\n",
       "\t<li>3</li>\n",
       "\t<li>3</li>\n",
       "\t<li>3</li>\n",
       "\t<li>3</li>\n",
       "\t<li>3</li>\n",
       "\t<li>3</li>\n",
       "\t<li>3</li>\n",
       "\t<li>3</li>\n",
       "\t<li>3</li>\n",
       "</ol>\n",
       "\n",
       "<details>\n",
       "\t<summary style=display:list-item;cursor:pointer>\n",
       "\t\t<strong>Levels</strong>:\n",
       "\t</summary>\n",
       "\t<ol class=list-inline>\n",
       "\t\t<li>'1'</li>\n",
       "\t\t<li>'2'</li>\n",
       "\t\t<li>'3'</li>\n",
       "\t</ol>\n",
       "</details>"
      ],
      "text/latex": [
       "\\begin{enumerate*}\n",
       "\\item 1\n",
       "\\item 1\n",
       "\\item 1\n",
       "\\item 1\n",
       "\\item 1\n",
       "\\item 1\n",
       "\\item 1\n",
       "\\item 1\n",
       "\\item 1\n",
       "\\item 1\n",
       "\\item 2\n",
       "\\item 2\n",
       "\\item 2\n",
       "\\item 2\n",
       "\\item 2\n",
       "\\item 2\n",
       "\\item 2\n",
       "\\item 2\n",
       "\\item 2\n",
       "\\item 2\n",
       "\\item 3\n",
       "\\item 3\n",
       "\\item 3\n",
       "\\item 3\n",
       "\\item 3\n",
       "\\item 3\n",
       "\\item 3\n",
       "\\item 3\n",
       "\\item 3\n",
       "\\item 3\n",
       "\\end{enumerate*}\n",
       "\n",
       "\\emph{Levels}: \\begin{enumerate*}\n",
       "\\item '1'\n",
       "\\item '2'\n",
       "\\item '3'\n",
       "\\end{enumerate*}\n"
      ],
      "text/markdown": [
       "1. 1\n",
       "2. 1\n",
       "3. 1\n",
       "4. 1\n",
       "5. 1\n",
       "6. 1\n",
       "7. 1\n",
       "8. 1\n",
       "9. 1\n",
       "10. 1\n",
       "11. 2\n",
       "12. 2\n",
       "13. 2\n",
       "14. 2\n",
       "15. 2\n",
       "16. 2\n",
       "17. 2\n",
       "18. 2\n",
       "19. 2\n",
       "20. 2\n",
       "21. 3\n",
       "22. 3\n",
       "23. 3\n",
       "24. 3\n",
       "25. 3\n",
       "26. 3\n",
       "27. 3\n",
       "28. 3\n",
       "29. 3\n",
       "30. 3\n",
       "\n",
       "\n",
       "\n",
       "**Levels**: 1. '1'\n",
       "2. '2'\n",
       "3. '3'\n",
       "\n",
       "\n"
      ],
      "text/plain": [
       " [1] 1 1 1 1 1 1 1 1 1 1 2 2 2 2 2 2 2 2 2 2 3 3 3 3 3 3 3 3 3 3\n",
       "Levels: 1 2 3"
      ]
     },
     "metadata": {},
     "output_type": "display_data"
    },
    {
     "name": "stdout",
     "output_type": "stream",
     "text": [
      "   1    2    3 \n",
      " 1.0 15.5 10.0 \n"
     ]
    },
    {
     "data": {
      "text/html": [
       "'array'"
      ],
      "text/latex": [
       "'array'"
      ],
      "text/markdown": [
       "'array'"
      ],
      "text/plain": [
       "[1] \"array\""
      ]
     },
     "metadata": {},
     "output_type": "display_data"
    },
    {
     "data": {
      "text/html": [
       "'==========='"
      ],
      "text/latex": [
       "'==========='"
      ],
      "text/markdown": [
       "'==========='"
      ],
      "text/plain": [
       "[1] \"===========\""
      ]
     },
     "metadata": {},
     "output_type": "display_data"
    },
    {
     "data": {
      "text/html": [
       "'array'"
      ],
      "text/latex": [
       "'array'"
      ],
      "text/markdown": [
       "'array'"
      ],
      "text/plain": [
       "[1] \"array\""
      ]
     },
     "metadata": {},
     "output_type": "display_data"
    },
    {
     "name": "stdout",
     "output_type": "stream",
     "text": [
      "$`1`\n",
      "[1] 1 1\n",
      "\n",
      "$`2`\n",
      "[1] 11 20\n",
      "\n",
      "$`3`\n",
      "[1] 10 10\n",
      "\n"
     ]
    },
    {
     "data": {
      "text/html": [
       "<strong>$`2`</strong> = <ol class=list-inline>\n",
       "\t<li>11</li>\n",
       "\t<li>20</li>\n",
       "</ol>\n"
      ],
      "text/latex": [
       "\\textbf{\\$`2`} = \\begin{enumerate*}\n",
       "\\item 11\n",
       "\\item 20\n",
       "\\end{enumerate*}\n"
      ],
      "text/markdown": [
       "**$`2`** = 1. 11\n",
       "2. 20\n",
       "\n",
       "\n"
      ],
      "text/plain": [
       "$`2`\n",
       "[1] 11 20\n"
      ]
     },
     "metadata": {},
     "output_type": "display_data"
    }
   ],
   "source": [
    "# x=c(rnorm(10, 0), runif(10, min=10, max=20), rnorm(10, 10)); x\n",
    "x=c(rep(1, 10), 11:20, rep(10, 10)); x\n",
    "f=gl(3, 10); f #Generate Factor Levels\n",
    "# f=1:30; f\n",
    "y=tapply(x, f, mean)\n",
    "print(y)\n",
    "class(y)\n",
    "'==========='\n",
    "# y=tapply(x, f, mean, simplify=F); y\n",
    "\n",
    "z=tapply(x, f, range)\n",
    "class(z)\n",
    "print(z)\n",
    "z[2]"
   ]
  },
  {
   "cell_type": "code",
   "execution_count": 57,
   "metadata": {},
   "outputs": [
    {
     "data": {
      "text/html": [
       "'list'"
      ],
      "text/latex": [
       "'list'"
      ],
      "text/markdown": [
       "'list'"
      ],
      "text/plain": [
       "[1] \"list\""
      ]
     },
     "metadata": {},
     "output_type": "display_data"
    },
    {
     "name": "stdout",
     "output_type": "stream",
     "text": [
      "[[1]]\n",
      "[1] 1 1 1 1\n",
      "\n",
      "[[2]]\n",
      "[1] 2 2 2\n",
      "\n",
      "[[3]]\n",
      "[1] 3 3\n",
      "\n",
      "[[4]]\n",
      "[1] 4\n",
      "\n"
     ]
    }
   ],
   "source": [
    "x=mapply(rep, 1:4, 4:1)\n",
    "class(x)\n",
    "print(x)"
   ]
  },
  {
   "cell_type": "code",
   "execution_count": 58,
   "metadata": {
    "scrolled": true
   },
   "outputs": [
    {
     "name": "stdout",
     "output_type": "stream",
     "text": [
      "[[1]]\n",
      "[1] 1 1 1 1\n",
      "\n",
      "[[2]]\n",
      "[1] 2 2 2\n",
      "\n",
      "[[3]]\n",
      "[1] 3 3\n",
      "\n",
      "[[4]]\n",
      "[1] 4\n",
      "\n",
      "[[1]]\n",
      "[1] 1 1 1 1\n",
      "\n",
      "[[2]]\n",
      "[1] 2 2 2\n",
      "\n",
      "[[3]]\n",
      "[1] 3 3\n",
      "\n",
      "[[4]]\n",
      "[1] 4\n",
      "\n"
     ]
    }
   ],
   "source": [
    "x=mapply(rep, 1:4, 4:1)\n",
    "print(x)\n",
    "print(list(rep(1,4), rep(2,3), rep(3,2), rep(4,1)))"
   ]
  },
  {
   "cell_type": "code",
   "execution_count": 59,
   "metadata": {
    "scrolled": false
   },
   "outputs": [
    {
     "name": "stdout",
     "output_type": "stream",
     "text": [
      "function (FUN, ..., MoreArgs = NULL, SIMPLIFY = TRUE, USE.NAMES = TRUE)  \n"
     ]
    },
    {
     "data": {
      "text/html": [
       "'character'"
      ],
      "text/latex": [
       "'character'"
      ],
      "text/markdown": [
       "'character'"
      ],
      "text/plain": [
       "[1] \"character\""
      ]
     },
     "metadata": {},
     "output_type": "display_data"
    },
    {
     "name": "stdout",
     "output_type": "stream",
     "text": [
      "[1] \"1 4 9\" \"2 5 9\" \"3 6 9\"\n"
     ]
    },
    {
     "data": {
      "text/html": [
       "<ol class=list-inline>\n",
       "\t<li>'1 4 1'</li>\n",
       "\t<li>'2 5 2'</li>\n",
       "\t<li>'3 6 3'</li>\n",
       "\t<li>'1 4 4'</li>\n",
       "\t<li>'2 5 5'</li>\n",
       "\t<li>'3 6 6'</li>\n",
       "\t<li>'1 4 7'</li>\n",
       "\t<li>'2 5 8'</li>\n",
       "\t<li>'3 6 9'</li>\n",
       "</ol>\n"
      ],
      "text/latex": [
       "\\begin{enumerate*}\n",
       "\\item '1 4 1'\n",
       "\\item '2 5 2'\n",
       "\\item '3 6 3'\n",
       "\\item '1 4 4'\n",
       "\\item '2 5 5'\n",
       "\\item '3 6 6'\n",
       "\\item '1 4 7'\n",
       "\\item '2 5 8'\n",
       "\\item '3 6 9'\n",
       "\\end{enumerate*}\n"
      ],
      "text/markdown": [
       "1. '1 4 1'\n",
       "2. '2 5 2'\n",
       "3. '3 6 3'\n",
       "4. '1 4 4'\n",
       "5. '2 5 5'\n",
       "6. '3 6 6'\n",
       "7. '1 4 7'\n",
       "8. '2 5 8'\n",
       "9. '3 6 9'\n",
       "\n",
       "\n"
      ],
      "text/plain": [
       "[1] \"1 4 1\" \"2 5 2\" \"3 6 3\" \"1 4 4\" \"2 5 5\" \"3 6 6\" \"1 4 7\" \"2 5 8\" \"3 6 9\""
      ]
     },
     "metadata": {},
     "output_type": "display_data"
    },
    {
     "data": {
      "text/html": [
       "'list'"
      ],
      "text/latex": [
       "'list'"
      ],
      "text/markdown": [
       "'list'"
      ],
      "text/plain": [
       "[1] \"list\""
      ]
     },
     "metadata": {},
     "output_type": "display_data"
    },
    {
     "name": "stdout",
     "output_type": "stream",
     "text": [
      "[[1]]\n",
      "[1] \"1 4 9\"\n",
      "\n",
      "[[2]]\n",
      "[1] \"2 5 9\"\n",
      "\n",
      "[[3]]\n",
      "[1] \"3 6 9\"\n",
      "\n"
     ]
    },
    {
     "data": {
      "text/html": [
       "<ol>\n",
       "\t<li>'1 4 9'</li>\n",
       "\t<li>'2 5 9'</li>\n",
       "\t<li>'3 6 9'</li>\n",
       "</ol>\n"
      ],
      "text/latex": [
       "\\begin{enumerate}\n",
       "\\item '1 4 9'\n",
       "\\item '2 5 9'\n",
       "\\item '3 6 9'\n",
       "\\end{enumerate}\n"
      ],
      "text/markdown": [
       "1. '1 4 9'\n",
       "2. '2 5 9'\n",
       "3. '3 6 9'\n",
       "\n",
       "\n"
      ],
      "text/plain": [
       "[[1]]\n",
       "[1] \"1 4 9\"\n",
       "\n",
       "[[2]]\n",
       "[1] \"2 5 9\"\n",
       "\n",
       "[[3]]\n",
       "[1] \"3 6 9\"\n"
      ]
     },
     "metadata": {},
     "output_type": "display_data"
    }
   ],
   "source": [
    "f=function(x,y,z){paste(x,y,z)}\n",
    "str(mapply)\n",
    "x=mapply(f, 1:3, 4:6, 9) #vector recycling\n",
    "class(x) \n",
    "print(x)\n",
    "# mapply(f, 1:3, 4:6, 1:8)\n",
    "mapply(f, 1:3, 4:6, 1:9)\n",
    "x=mapply(f, 1:3, 4:6, 9, SIMPLIFY=FALSE)\n",
    "class(x)\n",
    "print(x)\n",
    "list(f(1,4,9), f(2,5,9), f(3,6,9))"
   ]
  },
  {
   "cell_type": "code",
   "execution_count": 60,
   "metadata": {},
   "outputs": [
    {
     "data": {
      "text/html": [
       "<ol class=list-inline>\n",
       "\t<li>-0.873262111744435</li>\n",
       "\t<li>0.00837095999603331</li>\n",
       "\t<li>-0.880871723252545</li>\n",
       "\t<li>0.59625901661066</li>\n",
       "\t<li>0.119717641289537</li>\n",
       "\t<li>-0.282173877322451</li>\n",
       "\t<li>1.45598840106634</li>\n",
       "\t<li>0.229019590694692</li>\n",
       "\t<li>0.996543928544126</li>\n",
       "\t<li>0.781859184600258</li>\n",
       "</ol>\n"
      ],
      "text/latex": [
       "\\begin{enumerate*}\n",
       "\\item -0.873262111744435\n",
       "\\item 0.00837095999603331\n",
       "\\item -0.880871723252545\n",
       "\\item 0.59625901661066\n",
       "\\item 0.119717641289537\n",
       "\\item -0.282173877322451\n",
       "\\item 1.45598840106634\n",
       "\\item 0.229019590694692\n",
       "\\item 0.996543928544126\n",
       "\\item 0.781859184600258\n",
       "\\end{enumerate*}\n"
      ],
      "text/markdown": [
       "1. -0.873262111744435\n",
       "2. 0.00837095999603331\n",
       "3. -0.880871723252545\n",
       "4. 0.59625901661066\n",
       "5. 0.119717641289537\n",
       "6. -0.282173877322451\n",
       "7. 1.45598840106634\n",
       "8. 0.229019590694692\n",
       "9. 0.996543928544126\n",
       "10. 0.781859184600258\n",
       "\n",
       "\n"
      ],
      "text/plain": [
       " [1] -0.87326211  0.00837096 -0.88087172  0.59625902  0.11971764 -0.28217388\n",
       " [7]  1.45598840  0.22901959  0.99654393  0.78185918"
      ]
     },
     "metadata": {},
     "output_type": "display_data"
    },
    {
     "data": {
      "text/html": [
       "<ol class=list-inline>\n",
       "\t<li>-0.776776621764597</li>\n",
       "\t<li>-0.615989907707918</li>\n",
       "\t<li>0.0465803028049967</li>\n",
       "\t<li>-1.13038577760069</li>\n",
       "\t<li>0.576718781896486</li>\n",
       "\t<li>-1.28074943178832</li>\n",
       "\t<li>1.62544730346494</li>\n",
       "\t<li>-0.500696596002705</li>\n",
       "\t<li>1.67829720781629</li>\n",
       "\t<li>-0.412519887482398</li>\n",
       "</ol>\n"
      ],
      "text/latex": [
       "\\begin{enumerate*}\n",
       "\\item -0.776776621764597\n",
       "\\item -0.615989907707918\n",
       "\\item 0.0465803028049967\n",
       "\\item -1.13038577760069\n",
       "\\item 0.576718781896486\n",
       "\\item -1.28074943178832\n",
       "\\item 1.62544730346494\n",
       "\\item -0.500696596002705\n",
       "\\item 1.67829720781629\n",
       "\\item -0.412519887482398\n",
       "\\end{enumerate*}\n"
      ],
      "text/markdown": [
       "1. -0.776776621764597\n",
       "2. -0.615989907707918\n",
       "3. 0.0465803028049967\n",
       "4. -1.13038577760069\n",
       "5. 0.576718781896486\n",
       "6. -1.28074943178832\n",
       "7. 1.62544730346494\n",
       "8. -0.500696596002705\n",
       "9. 1.67829720781629\n",
       "10. -0.412519887482398\n",
       "\n",
       "\n"
      ],
      "text/plain": [
       " [1] -0.7767766 -0.6159899  0.0465803 -1.1303858  0.5767188 -1.2807494\n",
       " [7]  1.6254473 -0.5006966  1.6782972 -0.4125199"
      ]
     },
     "metadata": {},
     "output_type": "display_data"
    },
    {
     "data": {
      "text/html": [
       "<ol class=list-inline>\n",
       "\t<li>-0.776776621764597</li>\n",
       "\t<li>0.00837095999603331</li>\n",
       "\t<li>0.0465803028049967</li>\n",
       "\t<li>0.59625901661066</li>\n",
       "\t<li>0.576718781896486</li>\n",
       "\t<li>-0.282173877322451</li>\n",
       "\t<li>1.62544730346494</li>\n",
       "\t<li>0.229019590694692</li>\n",
       "\t<li>1.67829720781629</li>\n",
       "\t<li>0.781859184600258</li>\n",
       "</ol>\n"
      ],
      "text/latex": [
       "\\begin{enumerate*}\n",
       "\\item -0.776776621764597\n",
       "\\item 0.00837095999603331\n",
       "\\item 0.0465803028049967\n",
       "\\item 0.59625901661066\n",
       "\\item 0.576718781896486\n",
       "\\item -0.282173877322451\n",
       "\\item 1.62544730346494\n",
       "\\item 0.229019590694692\n",
       "\\item 1.67829720781629\n",
       "\\item 0.781859184600258\n",
       "\\end{enumerate*}\n"
      ],
      "text/markdown": [
       "1. -0.776776621764597\n",
       "2. 0.00837095999603331\n",
       "3. 0.0465803028049967\n",
       "4. 0.59625901661066\n",
       "5. 0.576718781896486\n",
       "6. -0.282173877322451\n",
       "7. 1.62544730346494\n",
       "8. 0.229019590694692\n",
       "9. 1.67829720781629\n",
       "10. 0.781859184600258\n",
       "\n",
       "\n"
      ],
      "text/plain": [
       " [1] -0.77677662  0.00837096  0.04658030  0.59625902  0.57671878 -0.28217388\n",
       " [7]  1.62544730  0.22901959  1.67829721  0.78185918"
      ]
     },
     "metadata": {},
     "output_type": "display_data"
    },
    {
     "data": {
      "text/html": [
       "<ol class=list-inline>\n",
       "\t<li>1</li>\n",
       "\t<li>2</li>\n",
       "\t<li>3</li>\n",
       "\t<li>4</li>\n",
       "\t<li>5</li>\n",
       "</ol>\n"
      ],
      "text/latex": [
       "\\begin{enumerate*}\n",
       "\\item 1\n",
       "\\item 2\n",
       "\\item 3\n",
       "\\item 4\n",
       "\\item 5\n",
       "\\end{enumerate*}\n"
      ],
      "text/markdown": [
       "1. 1\n",
       "2. 2\n",
       "3. 3\n",
       "4. 4\n",
       "5. 5\n",
       "\n",
       "\n"
      ],
      "text/plain": [
       "[1] 1 2 3 4 5"
      ]
     },
     "metadata": {},
     "output_type": "display_data"
    },
    {
     "data": {
      "text/html": [
       "'=============='"
      ],
      "text/latex": [
       "'=============='"
      ],
      "text/markdown": [
       "'=============='"
      ],
      "text/plain": [
       "[1] \"==============\""
      ]
     },
     "metadata": {},
     "output_type": "display_data"
    },
    {
     "data": {
      "text/html": [
       "<ol class=list-inline>\n",
       "\t<li>-0.776776621764597</li>\n",
       "\t<li>0.00837095999603331</li>\n",
       "\t<li>0.0465803028049967</li>\n",
       "\t<li>0.59625901661066</li>\n",
       "\t<li>0.576718781896486</li>\n",
       "\t<li>-0.282173877322451</li>\n",
       "\t<li>1.62544730346494</li>\n",
       "\t<li>0.229019590694692</li>\n",
       "\t<li>1.67829720781629</li>\n",
       "\t<li>0.781859184600258</li>\n",
       "</ol>\n"
      ],
      "text/latex": [
       "\\begin{enumerate*}\n",
       "\\item -0.776776621764597\n",
       "\\item 0.00837095999603331\n",
       "\\item 0.0465803028049967\n",
       "\\item 0.59625901661066\n",
       "\\item 0.576718781896486\n",
       "\\item -0.282173877322451\n",
       "\\item 1.62544730346494\n",
       "\\item 0.229019590694692\n",
       "\\item 1.67829720781629\n",
       "\\item 0.781859184600258\n",
       "\\end{enumerate*}\n"
      ],
      "text/markdown": [
       "1. -0.776776621764597\n",
       "2. 0.00837095999603331\n",
       "3. 0.0465803028049967\n",
       "4. 0.59625901661066\n",
       "5. 0.576718781896486\n",
       "6. -0.282173877322451\n",
       "7. 1.62544730346494\n",
       "8. 0.229019590694692\n",
       "9. 1.67829720781629\n",
       "10. 0.781859184600258\n",
       "\n",
       "\n"
      ],
      "text/plain": [
       " [1] -0.77677662  0.00837096  0.04658030  0.59625902  0.57671878 -0.28217388\n",
       " [7]  1.62544730  0.22901959  1.67829721  0.78185918"
      ]
     },
     "metadata": {},
     "output_type": "display_data"
    },
    {
     "data": {
      "text/html": [
       "<ol class=list-inline>\n",
       "\t<li>1</li>\n",
       "\t<li>2</li>\n",
       "\t<li>3</li>\n",
       "\t<li>4</li>\n",
       "\t<li>5</li>\n",
       "</ol>\n"
      ],
      "text/latex": [
       "\\begin{enumerate*}\n",
       "\\item 1\n",
       "\\item 2\n",
       "\\item 3\n",
       "\\item 4\n",
       "\\item 5\n",
       "\\end{enumerate*}\n"
      ],
      "text/markdown": [
       "1. 1\n",
       "2. 2\n",
       "3. 3\n",
       "4. 4\n",
       "5. 5\n",
       "\n",
       "\n"
      ],
      "text/plain": [
       "[1] 1 2 3 4 5"
      ]
     },
     "metadata": {},
     "output_type": "display_data"
    }
   ],
   "source": [
    "m=function(x,y){ifelse(x>y, x, y)}\n",
    "# set.seed(0)\n",
    "x=rnorm(10)\n",
    "y=rnorm(10)\n",
    "x\n",
    "y\n",
    "m(x,y)\n",
    "m(1:5, 1)\n",
    "'=============='\n",
    "mapply(m, x, y)\n",
    "mapply(m, 1:5, 1)"
   ]
  },
  {
   "cell_type": "code",
   "execution_count": 61,
   "metadata": {},
   "outputs": [
    {
     "data": {
      "text/html": [
       "88.4722222222222"
      ],
      "text/latex": [
       "88.4722222222222"
      ],
      "text/markdown": [
       "88.4722222222222"
      ],
      "text/plain": [
       "[1] 88.47222"
      ]
     },
     "metadata": {},
     "output_type": "display_data"
    }
   ],
   "source": [
    "sumsq = function(mu, sigma, x){sum(((x-mu)/sigma)^2)}\n",
    "mu=1:3\n",
    "sigma=1:3\n",
    "x=5:10\n",
    "sumsq(mu, sigma, x)"
   ]
  },
  {
   "cell_type": "code",
   "execution_count": 62,
   "metadata": {},
   "outputs": [
    {
     "data": {
      "text/html": [
       "<ol class=list-inline>\n",
       "\t<li>4</li>\n",
       "\t<li>4</li>\n",
       "\t<li>4</li>\n",
       "\t<li>7</li>\n",
       "\t<li>7</li>\n",
       "\t<li>7</li>\n",
       "</ol>\n"
      ],
      "text/latex": [
       "\\begin{enumerate*}\n",
       "\\item 4\n",
       "\\item 4\n",
       "\\item 4\n",
       "\\item 7\n",
       "\\item 7\n",
       "\\item 7\n",
       "\\end{enumerate*}\n"
      ],
      "text/markdown": [
       "1. 4\n",
       "2. 4\n",
       "3. 4\n",
       "4. 7\n",
       "5. 7\n",
       "6. 7\n",
       "\n",
       "\n"
      ],
      "text/plain": [
       "[1] 4 4 4 7 7 7"
      ]
     },
     "metadata": {},
     "output_type": "display_data"
    },
    {
     "data": {
      "text/html": [
       "<ol class=list-inline>\n",
       "\t<li>4</li>\n",
       "\t<li>2</li>\n",
       "\t<li>1.33333333333333</li>\n",
       "\t<li>7</li>\n",
       "\t<li>3.5</li>\n",
       "\t<li>2.33333333333333</li>\n",
       "</ol>\n"
      ],
      "text/latex": [
       "\\begin{enumerate*}\n",
       "\\item 4\n",
       "\\item 2\n",
       "\\item 1.33333333333333\n",
       "\\item 7\n",
       "\\item 3.5\n",
       "\\item 2.33333333333333\n",
       "\\end{enumerate*}\n"
      ],
      "text/markdown": [
       "1. 4\n",
       "2. 2\n",
       "3. 1.33333333333333\n",
       "4. 7\n",
       "5. 3.5\n",
       "6. 2.33333333333333\n",
       "\n",
       "\n"
      ],
      "text/plain": [
       "[1] 4.000000 2.000000 1.333333 7.000000 3.500000 2.333333"
      ]
     },
     "metadata": {},
     "output_type": "display_data"
    },
    {
     "data": {
      "text/html": [
       "<ol class=list-inline>\n",
       "\t<li>4</li>\n",
       "\t<li>2</li>\n",
       "\t<li>1.33333333333333</li>\n",
       "\t<li>7</li>\n",
       "\t<li>3.5</li>\n",
       "\t<li>2.33333333333333</li>\n",
       "</ol>\n"
      ],
      "text/latex": [
       "\\begin{enumerate*}\n",
       "\\item 4\n",
       "\\item 2\n",
       "\\item 1.33333333333333\n",
       "\\item 7\n",
       "\\item 3.5\n",
       "\\item 2.33333333333333\n",
       "\\end{enumerate*}\n"
      ],
      "text/markdown": [
       "1. 4\n",
       "2. 2\n",
       "3. 1.33333333333333\n",
       "4. 7\n",
       "5. 3.5\n",
       "6. 2.33333333333333\n",
       "\n",
       "\n"
      ],
      "text/plain": [
       "[1] 4.000000 2.000000 1.333333 7.000000 3.500000 2.333333"
      ]
     },
     "metadata": {},
     "output_type": "display_data"
    }
   ],
   "source": [
    "x-mu\n",
    "(x-mu)/sigma\n",
    "c((5-1)/1, (6-2)/2, (7-3)/3, (8-1)/1, (9-2)/2, (10-3)/3)"
   ]
  },
  {
   "cell_type": "code",
   "execution_count": 63,
   "metadata": {},
   "outputs": [
    {
     "data": {
      "text/html": [
       "<ol class=list-inline>\n",
       "\t<li>16</li>\n",
       "\t<li>4</li>\n",
       "\t<li>1.77777777777778</li>\n",
       "\t<li>49</li>\n",
       "\t<li>12.25</li>\n",
       "\t<li>5.44444444444445</li>\n",
       "</ol>\n"
      ],
      "text/latex": [
       "\\begin{enumerate*}\n",
       "\\item 16\n",
       "\\item 4\n",
       "\\item 1.77777777777778\n",
       "\\item 49\n",
       "\\item 12.25\n",
       "\\item 5.44444444444445\n",
       "\\end{enumerate*}\n"
      ],
      "text/markdown": [
       "1. 16\n",
       "2. 4\n",
       "3. 1.77777777777778\n",
       "4. 49\n",
       "5. 12.25\n",
       "6. 5.44444444444445\n",
       "\n",
       "\n"
      ],
      "text/plain": [
       "[1] 16.000000  4.000000  1.777778 49.000000 12.250000  5.444444"
      ]
     },
     "metadata": {},
     "output_type": "display_data"
    }
   ],
   "source": [
    "((x-mu)/sigma)^2"
   ]
  },
  {
   "cell_type": "code",
   "execution_count": 64,
   "metadata": {},
   "outputs": [
    {
     "data": {
      "text/html": [
       "88.4722222222222"
      ],
      "text/latex": [
       "88.4722222222222"
      ],
      "text/markdown": [
       "88.4722222222222"
      ],
      "text/plain": [
       "[1] 88.47222"
      ]
     },
     "metadata": {},
     "output_type": "display_data"
    }
   ],
   "source": [
    "sum(((x-mu)/sigma)^2)"
   ]
  },
  {
   "cell_type": "code",
   "execution_count": 1,
   "metadata": {},
   "outputs": [
    {
     "data": {
      "text/html": [
       "<ol class=list-inline>\n",
       "\t<li>1</li>\n",
       "\t<li>2</li>\n",
       "\t<li>3</li>\n",
       "\t<li>4</li>\n",
       "\t<li>5</li>\n",
       "\t<li>6</li>\n",
       "\t<li>7</li>\n",
       "\t<li>8</li>\n",
       "\t<li>9</li>\n",
       "\t<li>10</li>\n",
       "</ol>\n"
      ],
      "text/latex": [
       "\\begin{enumerate*}\n",
       "\\item 1\n",
       "\\item 2\n",
       "\\item 3\n",
       "\\item 4\n",
       "\\item 5\n",
       "\\item 6\n",
       "\\item 7\n",
       "\\item 8\n",
       "\\item 9\n",
       "\\item 10\n",
       "\\end{enumerate*}\n"
      ],
      "text/markdown": [
       "1. 1\n",
       "2. 2\n",
       "3. 3\n",
       "4. 4\n",
       "5. 5\n",
       "6. 6\n",
       "7. 7\n",
       "8. 8\n",
       "9. 9\n",
       "10. 10\n",
       "\n",
       "\n"
      ],
      "text/plain": [
       " [1]  1  2  3  4  5  6  7  8  9 10"
      ]
     },
     "metadata": {},
     "output_type": "display_data"
    },
    {
     "data": {
      "text/html": [
       "<ol class=list-inline>\n",
       "\t<li>1</li>\n",
       "\t<li>2</li>\n",
       "\t<li>3</li>\n",
       "\t<li>4</li>\n",
       "\t<li>5</li>\n",
       "\t<li>6</li>\n",
       "\t<li>7</li>\n",
       "\t<li>8</li>\n",
       "\t<li>9</li>\n",
       "\t<li>10</li>\n",
       "</ol>\n"
      ],
      "text/latex": [
       "\\begin{enumerate*}\n",
       "\\item 1\n",
       "\\item 2\n",
       "\\item 3\n",
       "\\item 4\n",
       "\\item 5\n",
       "\\item 6\n",
       "\\item 7\n",
       "\\item 8\n",
       "\\item 9\n",
       "\\item 10\n",
       "\\end{enumerate*}\n"
      ],
      "text/markdown": [
       "1. 1\n",
       "2. 2\n",
       "3. 3\n",
       "4. 4\n",
       "5. 5\n",
       "6. 6\n",
       "7. 7\n",
       "8. 8\n",
       "9. 9\n",
       "10. 10\n",
       "\n",
       "\n"
      ],
      "text/plain": [
       " [1]  1  2  3  4  5  6  7  8  9 10"
      ]
     },
     "metadata": {},
     "output_type": "display_data"
    },
    {
     "data": {
      "text/html": [
       "<ol class=list-inline>\n",
       "\t<li>'1,1,1'</li>\n",
       "\t<li>'2,2,2'</li>\n",
       "\t<li>'3,3,1'</li>\n",
       "\t<li>'4,4,2'</li>\n",
       "\t<li>'5,5,1'</li>\n",
       "\t<li>'6,6,2'</li>\n",
       "\t<li>'7,7,1'</li>\n",
       "\t<li>'8,8,2'</li>\n",
       "\t<li>'9,9,1'</li>\n",
       "\t<li>'10,10,2'</li>\n",
       "</ol>\n"
      ],
      "text/latex": [
       "\\begin{enumerate*}\n",
       "\\item '1,1,1'\n",
       "\\item '2,2,2'\n",
       "\\item '3,3,1'\n",
       "\\item '4,4,2'\n",
       "\\item '5,5,1'\n",
       "\\item '6,6,2'\n",
       "\\item '7,7,1'\n",
       "\\item '8,8,2'\n",
       "\\item '9,9,1'\n",
       "\\item '10,10,2'\n",
       "\\end{enumerate*}\n"
      ],
      "text/markdown": [
       "1. '1,1,1'\n",
       "2. '2,2,2'\n",
       "3. '3,3,1'\n",
       "4. '4,4,2'\n",
       "5. '5,5,1'\n",
       "6. '6,6,2'\n",
       "7. '7,7,1'\n",
       "8. '8,8,2'\n",
       "9. '9,9,1'\n",
       "10. '10,10,2'\n",
       "\n",
       "\n"
      ],
      "text/plain": [
       " [1] \"1,1,1\"   \"2,2,2\"   \"3,3,1\"   \"4,4,2\"   \"5,5,1\"   \"6,6,2\"   \"7,7,1\"  \n",
       " [8] \"8,8,2\"   \"9,9,1\"   \"10,10,2\""
      ]
     },
     "metadata": {},
     "output_type": "display_data"
    }
   ],
   "source": [
    "x=1:10;x\n",
    "y=1:10;y\n",
    "m=function(x,y,z){paste(x, y, z, sep=\",\")}\n",
    "m(x, y, 1:2)"
   ]
  },
  {
   "cell_type": "code",
   "execution_count": 3,
   "metadata": {},
   "outputs": [
    {
     "data": {
      "text/html": [
       "'character'"
      ],
      "text/latex": [
       "'character'"
      ],
      "text/markdown": [
       "'character'"
      ],
      "text/plain": [
       "[1] \"character\""
      ]
     },
     "metadata": {},
     "output_type": "display_data"
    },
    {
     "name": "stdout",
     "output_type": "stream",
     "text": [
      " [1] \"1,1,1\"   \"2,2,2\"   \"3,3,3\"   \"4,4,4\"   \"5,5,5\"   \"6,6,1\"   \"7,7,2\"  \n",
      " [8] \"8,8,3\"   \"9,9,4\"   \"10,10,5\"\n"
     ]
    }
   ],
   "source": [
    "z=mapply(m, x, y, 1:5)\n",
    "class(z);print(z)"
   ]
  },
  {
   "cell_type": "code",
   "execution_count": 4,
   "metadata": {
    "scrolled": false
   },
   "outputs": [
    {
     "data": {
      "text/html": [
       "'matrix'"
      ],
      "text/latex": [
       "'matrix'"
      ],
      "text/markdown": [
       "'matrix'"
      ],
      "text/plain": [
       "[1] \"matrix\""
      ]
     },
     "metadata": {},
     "output_type": "display_data"
    },
    {
     "name": "stdout",
     "output_type": "stream",
     "text": [
      "     [,1]    [,2]    [,3]    [,4]    [,5]    [,6]    [,7]    [,8]    [,9]   \n",
      "[1,] \"1,1,1\" \"2,2,1\" \"3,3,1\" \"4,4,1\" \"5,5,1\" \"6,6,1\" \"7,7,1\" \"8,8,1\" \"9,9,1\"\n",
      "[2,] \"1,1,2\" \"2,2,2\" \"3,3,2\" \"4,4,2\" \"5,5,2\" \"6,6,2\" \"7,7,2\" \"8,8,2\" \"9,9,2\"\n",
      "[3,] \"1,1,3\" \"2,2,3\" \"3,3,3\" \"4,4,3\" \"5,5,3\" \"6,6,3\" \"7,7,3\" \"8,8,3\" \"9,9,3\"\n",
      "[4,] \"1,1,4\" \"2,2,4\" \"3,3,4\" \"4,4,4\" \"5,5,4\" \"6,6,4\" \"7,7,4\" \"8,8,4\" \"9,9,4\"\n",
      "[5,] \"1,1,5\" \"2,2,5\" \"3,3,5\" \"4,4,5\" \"5,5,5\" \"6,6,5\" \"7,7,5\" \"8,8,5\" \"9,9,5\"\n",
      "     [,10]    \n",
      "[1,] \"10,10,1\"\n",
      "[2,] \"10,10,2\"\n",
      "[3,] \"10,10,3\"\n",
      "[4,] \"10,10,4\"\n",
      "[5,] \"10,10,5\"\n"
     ]
    }
   ],
   "source": [
    "z=mapply(m, x, y, MoreArgs=list(z=1:5))\n",
    "class(z);print(z)"
   ]
  },
  {
   "cell_type": "code",
   "execution_count": 66,
   "metadata": {
    "scrolled": true
   },
   "outputs": [
    {
     "name": "stdout",
     "output_type": "stream",
     "text": [
      "function (x, y, z)  \n"
     ]
    },
    {
     "data": {
      "text/html": [
       "<table>\n",
       "<caption>A matrix: 5 × 10 of type chr</caption>\n",
       "<tbody>\n",
       "\t<tr><td>1,1,1</td><td>2,2,1</td><td>3,3,1</td><td>4,4,1</td><td>5,5,1</td><td>6,6,1</td><td>7,7,1</td><td>8,8,1</td><td>9,9,1</td><td>10,10,1</td></tr>\n",
       "\t<tr><td>1,1,2</td><td>2,2,2</td><td>3,3,2</td><td>4,4,2</td><td>5,5,2</td><td>6,6,2</td><td>7,7,2</td><td>8,8,2</td><td>9,9,2</td><td>10,10,2</td></tr>\n",
       "\t<tr><td>1,1,3</td><td>2,2,3</td><td>3,3,3</td><td>4,4,3</td><td>5,5,3</td><td>6,6,3</td><td>7,7,3</td><td>8,8,3</td><td>9,9,3</td><td>10,10,3</td></tr>\n",
       "\t<tr><td>1,1,4</td><td>2,2,4</td><td>3,3,4</td><td>4,4,4</td><td>5,5,4</td><td>6,6,4</td><td>7,7,4</td><td>8,8,4</td><td>9,9,4</td><td>10,10,4</td></tr>\n",
       "\t<tr><td>1,1,5</td><td>2,2,5</td><td>3,3,5</td><td>4,4,5</td><td>5,5,5</td><td>6,6,5</td><td>7,7,5</td><td>8,8,5</td><td>9,9,5</td><td>10,10,5</td></tr>\n",
       "</tbody>\n",
       "</table>\n"
      ],
      "text/latex": [
       "A matrix: 5 × 10 of type chr\n",
       "\\begin{tabular}{llllllllll}\n",
       "\t 1,1,1 & 2,2,1 & 3,3,1 & 4,4,1 & 5,5,1 & 6,6,1 & 7,7,1 & 8,8,1 & 9,9,1 & 10,10,1\\\\\n",
       "\t 1,1,2 & 2,2,2 & 3,3,2 & 4,4,2 & 5,5,2 & 6,6,2 & 7,7,2 & 8,8,2 & 9,9,2 & 10,10,2\\\\\n",
       "\t 1,1,3 & 2,2,3 & 3,3,3 & 4,4,3 & 5,5,3 & 6,6,3 & 7,7,3 & 8,8,3 & 9,9,3 & 10,10,3\\\\\n",
       "\t 1,1,4 & 2,2,4 & 3,3,4 & 4,4,4 & 5,5,4 & 6,6,4 & 7,7,4 & 8,8,4 & 9,9,4 & 10,10,4\\\\\n",
       "\t 1,1,5 & 2,2,5 & 3,3,5 & 4,4,5 & 5,5,5 & 6,6,5 & 7,7,5 & 8,8,5 & 9,9,5 & 10,10,5\\\\\n",
       "\\end{tabular}\n"
      ],
      "text/markdown": [
       "\n",
       "A matrix: 5 × 10 of type chr\n",
       "\n",
       "| 1,1,1 | 2,2,1 | 3,3,1 | 4,4,1 | 5,5,1 | 6,6,1 | 7,7,1 | 8,8,1 | 9,9,1 | 10,10,1 |\n",
       "| 1,1,2 | 2,2,2 | 3,3,2 | 4,4,2 | 5,5,2 | 6,6,2 | 7,7,2 | 8,8,2 | 9,9,2 | 10,10,2 |\n",
       "| 1,1,3 | 2,2,3 | 3,3,3 | 4,4,3 | 5,5,3 | 6,6,3 | 7,7,3 | 8,8,3 | 9,9,3 | 10,10,3 |\n",
       "| 1,1,4 | 2,2,4 | 3,3,4 | 4,4,4 | 5,5,4 | 6,6,4 | 7,7,4 | 8,8,4 | 9,9,4 | 10,10,4 |\n",
       "| 1,1,5 | 2,2,5 | 3,3,5 | 4,4,5 | 5,5,5 | 6,6,5 | 7,7,5 | 8,8,5 | 9,9,5 | 10,10,5 |\n",
       "\n"
      ],
      "text/plain": [
       "     [,1]  [,2]  [,3]  [,4]  [,5]  [,6]  [,7]  [,8]  [,9]  [,10]  \n",
       "[1,] 1,1,1 2,2,1 3,3,1 4,4,1 5,5,1 6,6,1 7,7,1 8,8,1 9,9,1 10,10,1\n",
       "[2,] 1,1,2 2,2,2 3,3,2 4,4,2 5,5,2 6,6,2 7,7,2 8,8,2 9,9,2 10,10,2\n",
       "[3,] 1,1,3 2,2,3 3,3,3 4,4,3 5,5,3 6,6,3 7,7,3 8,8,3 9,9,3 10,10,3\n",
       "[4,] 1,1,4 2,2,4 3,3,4 4,4,4 5,5,4 6,6,4 7,7,4 8,8,4 9,9,4 10,10,4\n",
       "[5,] 1,1,5 2,2,5 3,3,5 4,4,5 5,5,5 6,6,5 7,7,5 8,8,5 9,9,5 10,10,5"
      ]
     },
     "metadata": {},
     "output_type": "display_data"
    }
   ],
   "source": [
    "m=function(x,y,z){paste(x, y, z, sep=\",\")}\n",
    "m2=Vectorize(m, c(\"x\", \"y\"))\n",
    "str(m2)\n",
    "m2(1:10, 1:10, 1:5)"
   ]
  },
  {
   "attachments": {
    "image.png": {
     "image/png": "[encoded data removed]"
    }
   },
   "cell_type": "markdown",
   "metadata": {},
   "source": [
    "### Homework Assignment 2. \n",
    "### Find the two most correlated stocks.\n",
    "\n",
    "#### The sample correlation coefficient formula is\n",
    "\n",
    "<img src=\"https://wikimedia.org/api/rest_v1/media/math/render/svg/332ae9dcde34d03f30ed6e1880af8b43327dd49c\">\n",
    "\n",
    "#### where ${\\overline {x}}$ and ${\\overline {y}}$ are the sample means of $[x1, x2, ..., xn]$ and $[y1, y2, ..., yn]$\n",
    "\n",
    "### Data Preparation\n",
    "\n",
    "Download the historial daily data of the entire 2018 for the 6 stocks \n",
    "\n",
    "```python\n",
    "tks = ['IBM', 'MSFT', 'GOOG', 'AAPL', 'AMZN', 'FB']\n",
    "```\n",
    "\n",
    "For example, to download IBM data, use the following link to go to yahoo finance page. Find the \"Download Data\" link to download the csv file to you local disk.\n",
    "https://finance.yahoo.com/quote/IBM/history?period1=1514782800&period2=1546232400&interval=1d&filter=history&frequency=1d\n",
    "\n",
    "Replace \"IBM\" with other stock symbol in the above URL, you will be able to download data for other 5 stocks.\n",
    "\n",
    "You should have 6 csv files on your disk now. IBM.csv, MSFT.csv, etc. Each of the csv file should look like,\n",
    "\n",
    "![image.png](attachment:image.png)\n",
    "\n",
    "### Retrieve the \"Adj Close\" column values as the daily prices of each stock\n",
    "\n",
    "Load the data into data frame and retrieve the \"Adj Close\" column values\n",
    "\n",
    "\n",
    "### Compute the correlation between any two stocks' \"Adj Close\" prices. \n",
    "\n",
    "You should use the above formula to implement the correlation algorithm. Try to avoid looping.\n",
    "\n",
    "### Conclusion\n",
    "\n",
    "Print all stock pairs and their correlations from max to min. The format should look like below. The numbers here are dummy numbers.\n",
    "\n",
    "```python\n",
    "IBM:MSFT = 0.763\n",
    "IBM:GOOG = 0.627\n",
    "...\n",
    "AMZN:FB = 0.234\n",
    "```\n",
    "#### Tips: By definition, the correlation is symmetrical, i.e., r_xy = r_yx, so when you have IBM:MSFT, you can skip MSFT:IBM.\n",
    "\n",
    "### Please submit your jupyter notebook to canvas. Deadline is 02/15/2020 9AM.\n"
   ]
  },
  {
   "cell_type": "code",
   "execution_count": null,
   "metadata": {},
   "outputs": [],
   "source": []
  }
 ],
 "metadata": {
  "kernelspec": {
   "display_name": "R",
   "language": "R",
   "name": "ir"
  },
  "language_info": {
   "codemirror_mode": "r",
   "file_extension": ".r",
   "mimetype": "text/x-r-source",
   "name": "R",
   "pygments_lexer": "r",
   "version": "3.6.1"
  }
 },
 "nbformat": 4,
 "nbformat_minor": 2
}
